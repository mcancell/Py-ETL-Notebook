{
 "cells": [
  {
   "cell_type": "code",
   "execution_count": 9,
   "metadata": {},
   "outputs": [
    {
     "name": "stderr",
     "output_type": "stream",
     "text": [
      "Fetching data:   0%|          | 0/5000 [00:00<?, ?record/s]"
     ]
    },
    {
     "name": "stdout",
     "output_type": "stream",
     "text": [
      "Fetching data starting from offset: 0\n"
     ]
    },
    {
     "name": "stderr",
     "output_type": "stream",
     "text": [
      "Fetching data:  20%|██        | 1000/5000 [00:00<00:03, 1160.71record/s]"
     ]
    },
    {
     "name": "stdout",
     "output_type": "stream",
     "text": [
      "Fetched 1000 records, updated offset to 1000\n",
      "Fetching data starting from offset: 1000\n"
     ]
    },
    {
     "name": "stderr",
     "output_type": "stream",
     "text": [
      "Fetching data:  40%|████      | 2000/5000 [00:02<00:03, 960.07record/s] "
     ]
    },
    {
     "name": "stdout",
     "output_type": "stream",
     "text": [
      "Fetched 1000 records, updated offset to 2000\n",
      "Fetching data starting from offset: 2000\n"
     ]
    },
    {
     "name": "stderr",
     "output_type": "stream",
     "text": [
      "Fetching data:  60%|██████    | 3000/5000 [00:02<00:01, 1119.48record/s]"
     ]
    },
    {
     "name": "stdout",
     "output_type": "stream",
     "text": [
      "Fetched 1000 records, updated offset to 3000\n",
      "Fetching data starting from offset: 3000\n"
     ]
    },
    {
     "name": "stderr",
     "output_type": "stream",
     "text": [
      "Fetching data:  80%|████████  | 4000/5000 [00:03<00:00, 1218.30record/s]"
     ]
    },
    {
     "name": "stdout",
     "output_type": "stream",
     "text": [
      "Fetched 1000 records, updated offset to 4000\n",
      "Fetching data starting from offset: 4000\n"
     ]
    },
    {
     "name": "stderr",
     "output_type": "stream",
     "text": [
      "Fetching data: 100%|██████████| 5000/5000 [00:04<00:00, 1158.98record/s]\n"
     ]
    },
    {
     "name": "stdout",
     "output_type": "stream",
     "text": [
      "Fetched 1000 records, updated offset to 5000\n",
      "Storage directory './data' is ready.\n",
      "Data written to './data\\chicago_data.json'.\n",
      "Data compressed to './data\\chicago_data.json.zip'.\n",
      "Data fetching and storing process completed.\n"
     ]
    }
   ],
   "source": [
    "from datetime import datetime\n",
    "from dateutil.relativedelta import relativedelta\n",
    "import sys\n",
    "sys.path.append('../Common/Functions')\n",
    "from func_Fetch_Data import fetch_store_data, JSONDataFetcher\n",
    "\n",
    "from_date_str = (datetime.now() - relativedelta(months=3)).isoformat()\n",
    "where_clause = f\"trip_start_timestamp>='{from_date_str}'\"\n",
    "\n",
    "if __name__ == \"__main__\":\n",
    "    url = \"https://data.cityofchicago.org/resource/ajtu-isnz.json?$limit={}&$offset={}&$where={}\"\n",
    "    chunk_size = 1000\n",
    "    where_clause = where_clause\n",
    "    fetcher = JSONDataFetcher(url, chunk_size, where_clause)\n",
    "    limit = 5000\n",
    "    offset = 0\n",
    "    storage_dir = \"./data\"\n",
    "    storage_file = \"chicago_data.json\"\n",
    "    compress = True\n",
    "    mode = 'w'\n",
    "\n",
    "    fetch_store_data(fetcher, limit, offset, storage_dir, storage_file, compress, mode)\n"
   ]
  }
 ],
 "metadata": {
  "kernelspec": {
   "display_name": "Python 3",
   "language": "python",
   "name": "python3"
  },
  "language_info": {
   "codemirror_mode": {
    "name": "ipython",
    "version": 3
   },
   "file_extension": ".py",
   "mimetype": "text/x-python",
   "name": "python",
   "nbconvert_exporter": "python",
   "pygments_lexer": "ipython3",
   "version": "3.13.1"
  }
 },
 "nbformat": 4,
 "nbformat_minor": 2
}
