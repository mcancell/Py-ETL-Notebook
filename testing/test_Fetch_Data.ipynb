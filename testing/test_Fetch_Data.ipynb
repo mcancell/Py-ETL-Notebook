{
 "cells": [
  {
   "cell_type": "markdown",
   "metadata": {},
   "source": [
    "# Test Calls to Common Fetch Function"
   ]
  },
  {
   "cell_type": "markdown",
   "metadata": {},
   "source": [
    "## Try a JSON Fetch"
   ]
  },
  {
   "cell_type": "code",
   "execution_count": 1,
   "metadata": {},
   "outputs": [
    {
     "name": "stderr",
     "output_type": "stream",
     "text": [
      "Fetching data:   0%|          | 0/2000 [00:00<?, ?record/s]"
     ]
    },
    {
     "name": "stdout",
     "output_type": "stream",
     "text": [
      "Fetching data starting from offset: 0\n"
     ]
    },
    {
     "name": "stderr",
     "output_type": "stream",
     "text": [
      "Fetching data:  50%|█████     | 1000/2000 [01:00<01:00, 16.49record/s]"
     ]
    },
    {
     "name": "stdout",
     "output_type": "stream",
     "text": [
      "Fetched 1000 records, updated offset to 1000\n",
      "Fetching data starting from offset: 1000\n"
     ]
    },
    {
     "name": "stderr",
     "output_type": "stream",
     "text": [
      "Fetching data: 100%|██████████| 2000/2000 [01:08<00:00, 29.16record/s]"
     ]
    },
    {
     "name": "stdout",
     "output_type": "stream",
     "text": [
      "Fetched 1000 records, updated offset to 2000\n",
      "Storage directory './data' is ready.\n",
      "Data written to './data\\chicago_data.json'.\n",
      "Compressing file './data\\chicago_data.json' to './data\\chicago_data.json.zip'\n",
      "Data compressed to './data\\chicago_data.json.zip'.\n",
      "Data fetching and storing process completed.\n"
     ]
    },
    {
     "name": "stderr",
     "output_type": "stream",
     "text": [
      "\n"
     ]
    }
   ],
   "source": [
    "from datetime import datetime\n",
    "from dateutil.relativedelta import relativedelta\n",
    "import sys\n",
    "sys.path.append('../Common')\n",
    "sys.path.append('../Common/Functions')\n",
    "from func_Fetch_Data import fetch_store_data, JSONDataFetcher\n",
    "\n",
    "from_date_str = (datetime.now() - relativedelta(months=3)).isoformat()\n",
    "where_clause = f\"trip_start_timestamp>='{from_date_str}'\"\n",
    "\n",
    "if __name__ == \"__main__\":\n",
    "    url = \"https://data.cityofchicago.org/resource/ajtu-isnz.json?$limit={}&$offset={}&$where={}\"\n",
    "    chunk_size = 1000\n",
    "    where_clause = where_clause\n",
    "    fetcher = JSONDataFetcher(url, chunk_size, where_clause)\n",
    "    limit = 2000\n",
    "    offset = 0\n",
    "    storage_dir = \"./data\"\n",
    "    storage_file = \"chicago_data.json\"\n",
    "    compress = True\n",
    "    mode = 'w'\n",
    "\n",
    "    fetch_store_data(fetcher, limit, offset, storage_dir, storage_file, compress, mode)\n"
   ]
  },
  {
   "cell_type": "markdown",
   "metadata": {},
   "source": [
    "## Try an CSV Call"
   ]
  },
  {
   "cell_type": "code",
   "execution_count": null,
   "metadata": {},
   "outputs": [
    {
     "name": "stderr",
     "output_type": "stream",
     "text": [
      "Fetching data:   0%|          | 0/2000 [00:00<?, ?record/s]"
     ]
    },
    {
     "name": "stdout",
     "output_type": "stream",
     "text": [
      "Fetching data starting from offset: 0\n"
     ]
    }
   ],
   "source": [
    "from datetime import datetime\n",
    "from dateutil.relativedelta import relativedelta\n",
    "import sys\n",
    "import gzip\n",
    "sys.path.append('../Common/Functions')\n",
    "from func_Fetch_Data import fetch_store_data, CSVDataFetcher\n",
    "\n",
    "from_date_str = (datetime.now() - relativedelta(months=3)).isoformat()\n",
    "where_clause = f\"trip_start_timestamp>='{from_date_str}'\"\n",
    "\n",
    "if __name__ == \"__main__\":\n",
    "    url = \"https://data.cityofchicago.org/resource/ajtu-isnz.csv?$limit={}&$offset={}&$where={}\"\n",
    "    url = \"https://data.cityofchicago.org/resource/ajtu-isnz.csv?$limit={}&$offset={}&$where={}\"\n",
    "    chunk_size = 1000\n",
    "    where_clause = where_clause\n",
    "    fetcher = CSVDataFetcher(url, chunk_size, where_clause)\n",
    "    limit = 2000\n",
    "    offset = 0\n",
    "    storage_dir = \"./data\"\n",
    "    storage_file = \"chicago_data.csv\"\n",
    "    compress = False\n",
    "    mode = 'w'\n",
    "    \n",
    "    fetch_store_data(fetcher, limit, offset, storage_dir, storage_file, compress, mode)\n",
    "\n",
    "\n"
   ]
  }
 ],
 "metadata": {
  "kernelspec": {
   "display_name": "Python 3",
   "language": "python",
   "name": "python3"
  },
  "language_info": {
   "codemirror_mode": {
    "name": "ipython",
    "version": 3
   },
   "file_extension": ".py",
   "mimetype": "text/x-python",
   "name": "python",
   "nbconvert_exporter": "python",
   "pygments_lexer": "ipython3",
   "version": "3.13.1"
  }
 },
 "nbformat": 4,
 "nbformat_minor": 2
}
