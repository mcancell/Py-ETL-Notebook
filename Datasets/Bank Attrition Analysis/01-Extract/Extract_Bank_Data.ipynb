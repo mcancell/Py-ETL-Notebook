{
 "cells": [
  {
   "cell_type": "markdown",
   "metadata": {},
   "source": [
    "# No need to Extract Data\n",
    "It's already ingested and ready for transformation.\n",
    "Go directly to 02-Transform"
   ]
  }
 ],
 "metadata": {
  "language_info": {
   "name": "python"
  }
 },
 "nbformat": 4,
 "nbformat_minor": 2
}
