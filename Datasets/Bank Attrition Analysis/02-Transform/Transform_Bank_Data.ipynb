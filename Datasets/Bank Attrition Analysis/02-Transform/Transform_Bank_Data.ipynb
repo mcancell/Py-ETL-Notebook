{
 "cells": [
  {
   "cell_type": "markdown",
   "metadata": {},
   "source": [
    "# Load Conf and Credentials"
   ]
  },
  {
   "cell_type": "markdown",
   "metadata": {},
   "source": [
    "## Load Directory Locations"
   ]
  },
  {
   "cell_type": "code",
   "execution_count": 2,
   "metadata": {},
   "outputs": [
    {
     "name": "stdout",
     "output_type": "stream",
     "text": [
      "{'Common_Funcs_Dir': '/Users/mike/Develop/Projects/Code Notebook/Common/Functions', 'Credentials_Dir': '/Users/mike/Develop/Projects/Code Notebook/Credentials', 'Rel_Pickes_Dir': '../.pickles', 'Pub_Data_Dir': \"'/Users/mike/Data/Public\", 'BQ_Service_Key': '/Users/mike/Develop/Conf/GCP Service Keys/mikecancell-development-0bcca41f8486.json'}\n"
     ]
    }
   ],
   "source": [
    "import json\n",
    "import os\n",
    "\n",
    "# Check if the file exists and load the JSON file into a dictionary\n",
    "file_path = r'C:\\Users\\mike\\Develop\\Projects\\Code Notebook\\Credentials\\locations_conf.json'\n",
    "if os.path.exists(file_path):\n",
    "    with open(file_path, 'r') as f:\n",
    "        locations_data = json.load(f)\n",
    "    print(locations_data)\n",
    "else:\n",
    "    print(f\"File not found: {file_path}\")"
   ]
  },
  {
   "cell_type": "markdown",
   "metadata": {},
   "source": [
    "### Get the Common Funcs Dir into the Sys Path\n",
    "This appears to be required bc the Funcs are .py files vs .ipynb files"
   ]
  },
  {
   "cell_type": "code",
   "execution_count": 3,
   "metadata": {},
   "outputs": [],
   "source": [
    "import sys\n",
    "sys.path.append(locations_data['Common_Funcs_Dir'])\n",
    "from func_Load_Data_to_Frame import *"
   ]
  },
  {
   "cell_type": "markdown",
   "metadata": {},
   "source": [
    "# Load The Source Data to a DF"
   ]
  },
  {
   "cell_type": "code",
   "execution_count": 4,
   "metadata": {},
   "outputs": [
    {
     "name": "stdout",
     "output_type": "stream",
     "text": [
      "<class 'pandas.core.frame.DataFrame'>\n",
      "RangeIndex: 10127 entries, 0 to 10126\n",
      "Data columns (total 23 columns):\n",
      " #   Column                                                                                                                              Non-Null Count  Dtype  \n",
      "---  ------                                                                                                                              --------------  -----  \n",
      " 0   CLIENTNUM                                                                                                                           10127 non-null  int64  \n",
      " 1   Attrition_Flag                                                                                                                      10127 non-null  object \n",
      " 2   Age                                                                                                                                 10127 non-null  int64  \n",
      " 3   Gender                                                                                                                              10127 non-null  object \n",
      " 4   Dependent_count                                                                                                                     10127 non-null  int64  \n",
      " 5   Education_Level                                                                                                                     10127 non-null  object \n",
      " 6   Marital_Status                                                                                                                      10127 non-null  object \n",
      " 7   Income_Category                                                                                                                     10127 non-null  object \n",
      " 8   Card_Category                                                                                                                       10127 non-null  object \n",
      " 9   Months_on_book                                                                                                                      10127 non-null  int64  \n",
      " 10  Total_Relationship_Count                                                                                                            10127 non-null  int64  \n",
      " 11  Months_Inactive_12_mon                                                                                                              10127 non-null  int64  \n",
      " 12  Contacts_Count_12_mon                                                                                                               10127 non-null  int64  \n",
      " 13  Credit_Limit                                                                                                                        10127 non-null  float64\n",
      " 14  Total_Revolving_Bal                                                                                                                 10127 non-null  int64  \n",
      " 15  Avg_Open_To_Buy                                                                                                                     10127 non-null  float64\n",
      " 16  Total_Amt_Chng_Q4_Q1                                                                                                                10127 non-null  float64\n",
      " 17  Total_Trans_Amt                                                                                                                     10127 non-null  int64  \n",
      " 18  Total_Trans_Ct                                                                                                                      10127 non-null  int64  \n",
      " 19  Total_Ct_Chng_Q4_Q1                                                                                                                 10127 non-null  float64\n",
      " 20  Avg_Utilization_Ratio                                                                                                               10127 non-null  float64\n",
      " 21  Naive_Bayes_Classifier_Attrition_Flag_Card_Category_Contacts_Count_12_mon_Dependent_count_Education_Level_Months_Inactive_12_mon_1  10127 non-null  float64\n",
      " 22  Naive_Bayes_Classifier_Attrition_Flag_Card_Category_Contacts_Count_12_mon_Dependent_count_Education_Level_Months_Inactive_12_mon_2  10127 non-null  float64\n",
      "dtypes: float64(7), int64(10), object(6)\n",
      "memory usage: 1.8+ MB\n",
      "None\n"
     ]
    }
   ],
   "source": [
    "import pandas as pd\n",
    "\n",
    "source_file = 'Banking_Data.xlsx'\n",
    "source_path = os.path.join(locations_data['Pub_Data_Dir'].strip(\"'\"), source_file)\n",
    "df = pd.read_excel(source_path)\n",
    "print(df.info())"
   ]
  },
  {
   "cell_type": "markdown",
   "metadata": {},
   "source": [
    "# Create Dimensions for Categories"
   ]
  },
  {
   "cell_type": "markdown",
   "metadata": {},
   "source": [
    "### Age Dim"
   ]
  },
  {
   "cell_type": "code",
   "execution_count": 5,
   "metadata": {},
   "outputs": [
    {
     "name": "stdout",
     "output_type": "stream",
     "text": [
      "    Age   Age_Group\n",
      "0    45  Age: 45-54\n",
      "1    49  Age: 45-54\n",
      "2    51  Age: 45-54\n",
      "3    40  Age: 35-44\n",
      "4    44  Age: 35-44\n",
      "5    32  Age: 25-34\n",
      "6    37  Age: 35-44\n",
      "7    48  Age: 45-54\n",
      "8    42  Age: 35-44\n",
      "9    65  Age: 65-74\n",
      "10   56  Age: 55-64\n",
      "11   35  Age: 35-44\n",
      "12   57  Age: 55-64\n",
      "13   41  Age: 35-44\n",
      "14   61  Age: 55-64\n",
      "15   47  Age: 45-54\n",
      "16   62  Age: 55-64\n",
      "17   54  Age: 45-54\n",
      "18   59  Age: 55-64\n",
      "19   63  Age: 55-64\n",
      "20   53  Age: 45-54\n",
      "21   58  Age: 55-64\n",
      "22   55  Age: 55-64\n",
      "23   66  Age: 65-74\n",
      "24   50  Age: 45-54\n",
      "25   38  Age: 35-44\n",
      "26   46  Age: 45-54\n",
      "27   52  Age: 45-54\n",
      "28   39  Age: 35-44\n",
      "29   43  Age: 35-44\n",
      "30   64  Age: 55-64\n",
      "31   68  Age: 65-74\n",
      "32   67  Age: 65-74\n",
      "33   60  Age: 55-64\n",
      "34   73  Age: 65-74\n",
      "35   70  Age: 65-74\n",
      "36   36  Age: 35-44\n",
      "37   34  Age: 25-34\n",
      "38   33  Age: 25-34\n",
      "39   26  Age: 25-34\n",
      "40   31  Age: 25-34\n",
      "41   29  Age: 25-34\n",
      "42   30  Age: 25-34\n",
      "43   28  Age: 25-34\n",
      "44   27  Age: 25-34\n"
     ]
    }
   ],
   "source": [
    "# Define age bins and labels\n",
    "age_bins = [0, 17, 24, 34, 44, 54, 64, 74, 100]\n",
    "age_labels = ['Age: 0-17', 'Age: 18-24', 'Age: 25-34', 'Age: 35-44', 'Age: 45-54', 'Age: 55-64', 'Age: 65-74', 'Age: 75+']\n",
    "\n",
    "# Create the age dimension DataFrame\n",
    "dim_age = pd.DataFrame({'Age': df['Age'].unique()})\n",
    "dim_age['Age_Group'] = pd.cut(dim_age['Age'], bins=age_bins, labels=age_labels, right=True)\n",
    "\n",
    "print(dim_age)"
   ]
  },
  {
   "cell_type": "markdown",
   "metadata": {},
   "source": [
    "### Dim Inactivity Months"
   ]
  },
  {
   "cell_type": "code",
   "execution_count": 6,
   "metadata": {},
   "outputs": [
    {
     "name": "stdout",
     "output_type": "stream",
     "text": [
      "   Months_Inactive Months_Inactive_Group\n",
      "0                1  Months Inactive: 0-1\n",
      "1                4  Months Inactive: 4-6\n",
      "2                2  Months Inactive: 2-3\n",
      "3                3  Months Inactive: 2-3\n",
      "4                6  Months Inactive: 4-6\n",
      "5                0  Months Inactive: 0-1\n",
      "6                5  Months Inactive: 4-6\n"
     ]
    }
   ],
   "source": [
    "# Define months inactive bins and labels\n",
    "months_inactive_bins = [-1, 1, 3, 6, float('inf')]\n",
    "months_inactive_labels = ['Months Inactive: 0-1', 'Months Inactive: 2-3', 'Months Inactive: 4-6', 'Months Inactive: >6']\n",
    "\n",
    "# Create the months inactive dimension DataFrame\n",
    "dim_inactive = pd.DataFrame({'Months_Inactive': df['Months_Inactive_12_mon'].unique()})\n",
    "dim_inactive['Months_Inactive_Group'] = pd.cut(\n",
    "    dim_inactive['Months_Inactive'], \n",
    "    bins=months_inactive_bins, \n",
    "    labels=months_inactive_labels, \n",
    "    right=True\n",
    ")\n",
    "\n",
    "print(dim_inactive)"
   ]
  },
  {
   "cell_type": "markdown",
   "metadata": {},
   "source": [
    "### Dim Contacts"
   ]
  },
  {
   "cell_type": "code",
   "execution_count": 7,
   "metadata": {},
   "outputs": [
    {
     "name": "stdout",
     "output_type": "stream",
     "text": [
      "   Contacts_Count        Contacts_Count_Group\n",
      "0               3  Total 12 Mon Contacts: 2-3\n",
      "1               2  Total 12 Mon Contacts: 2-3\n",
      "2               0  Total 12 Mon Contacts: 0-1\n",
      "3               1  Total 12 Mon Contacts: 0-1\n",
      "4               4  Total 12 Mon Contacts: 4-5\n",
      "5               5  Total 12 Mon Contacts: 4-5\n",
      "6               6   Total 12 Mon Contacts: >5\n"
     ]
    }
   ],
   "source": [
    "# Define contacts count bins and labels\n",
    "contacts_count_bins = [-1, 1, 3, 5, float('inf')]\n",
    "contacts_count_labels = ['Total 12 Mon Contacts: 0-1', 'Total 12 Mon Contacts: 2-3', 'Total 12 Mon Contacts: 4-5', 'Total 12 Mon Contacts: >5']\n",
    "\n",
    "# Create the contacts count dimension DataFrame\n",
    "dim_contact = pd.DataFrame({'Contacts_Count': df['Contacts_Count_12_mon'].unique()})\n",
    "dim_contact['Contacts_Count_Group'] = pd.cut(\n",
    "    dim_contact['Contacts_Count'], \n",
    "    bins=contacts_count_bins, \n",
    "    labels=contacts_count_labels, \n",
    "    right=True\n",
    ")\n",
    "\n",
    "print(dim_contact)"
   ]
  },
  {
   "cell_type": "markdown",
   "metadata": {},
   "source": [
    "### Dim Credit Limits"
   ]
  },
  {
   "cell_type": "code",
   "execution_count": 8,
   "metadata": {},
   "outputs": [
    {
     "name": "stdout",
     "output_type": "stream",
     "text": [
      "      Credit_Limit       Credit_Limit_Group\n",
      "0          12691.0  Credit Limit: $10K-$20K\n",
      "1           8256.0   Credit Limit: $5K-$10K\n",
      "2           3418.0     Credit Limit: $0-$5K\n",
      "3           3313.0     Credit Limit: $0-$5K\n",
      "4           4716.0     Credit Limit: $0-$5K\n",
      "...            ...                      ...\n",
      "6200        3688.0     Credit Limit: $0-$5K\n",
      "6201        4003.0     Credit Limit: $0-$5K\n",
      "6202        5409.0   Credit Limit: $5K-$10K\n",
      "6203        5281.0   Credit Limit: $5K-$10K\n",
      "6204       10388.0  Credit Limit: $10K-$20K\n",
      "\n",
      "[6205 rows x 2 columns]\n"
     ]
    }
   ],
   "source": [
    "# Define credit limit bins and labels\n",
    "credit_limit_bins = [0, 5000, 10000, 20000, 50000, float('inf')]\n",
    "credit_limit_labels = ['Credit Limit: $0-$5K', 'Credit Limit: $5K-$10K', 'Credit Limit: $10K-$20K', 'Credit Limit: $20K-$50K', 'Credit Limit: >$50K']\n",
    "\n",
    "# Create the credit limit dimension DataFrame\n",
    "dim_credit_limits = pd.DataFrame({'Credit_Limit': df['Credit_Limit'].unique()})\n",
    "dim_credit_limits['Credit_Limit_Group'] = pd.cut(\n",
    "    dim_credit_limits['Credit_Limit'], \n",
    "    bins=credit_limit_bins, \n",
    "    labels=credit_limit_labels, \n",
    "    right=True\n",
    ")\n",
    "\n",
    "print(dim_credit_limits)"
   ]
  },
  {
   "cell_type": "markdown",
   "metadata": {},
   "source": [
    "### Dim Revolving Bals"
   ]
  },
  {
   "cell_type": "code",
   "execution_count": 9,
   "metadata": {},
   "outputs": [
    {
     "name": "stdout",
     "output_type": "stream",
     "text": [
      "      Total_Revolving_Bal           Revolving_Bal_Group\n",
      "0                     777   Total Revolving Bal: $0-$1K\n",
      "1                     864   Total Revolving Bal: $0-$1K\n",
      "2                       0   Total Revolving Bal: $0-$1K\n",
      "3                    2517  Total Revolving Bal: $1K-$5K\n",
      "4                    1247  Total Revolving Bal: $1K-$5K\n",
      "...                   ...                           ...\n",
      "1969                 1768  Total Revolving Bal: $1K-$5K\n",
      "1970                  779   Total Revolving Bal: $0-$1K\n",
      "1971                  534   Total Revolving Bal: $0-$1K\n",
      "1972                  476   Total Revolving Bal: $0-$1K\n",
      "1973                 2241  Total Revolving Bal: $1K-$5K\n",
      "\n",
      "[1974 rows x 2 columns]\n"
     ]
    }
   ],
   "source": [
    "# Define Total_Revolving_Bal bins and labels\n",
    "revolving_bal_bins = [0, 1000, 5000, 10000, 20000, float('inf')]\n",
    "def new_func():\n",
    "    revolving_bal_labels = ['Total Revolving Bal: $0-$1K', 'Total Revolving Bal: $1K-$5K', 'Total Revolving Bal: $5K-$10K', 'Total Revolving Bal: $10K-$20K', 'Total Revolving Bal: >$20K']\n",
    "    return revolving_bal_labels\n",
    "\n",
    "revolving_bal_labels = new_func()\n",
    "\n",
    "# Create the Total_Revolving_Bal dimension DataFrame\n",
    "dim_revolving_bal = pd.DataFrame({'Total_Revolving_Bal': df['Total_Revolving_Bal'].unique()})\n",
    "dim_revolving_bal['Revolving_Bal_Group'] = pd.cut(\n",
    "    dim_revolving_bal['Total_Revolving_Bal'], \n",
    "    bins=revolving_bal_bins, \n",
    "    labels=revolving_bal_labels, \n",
    "    right=True, \n",
    "    include_lowest=True\n",
    ")\n",
    "\n",
    "print(dim_revolving_bal)"
   ]
  },
  {
   "cell_type": "markdown",
   "metadata": {},
   "source": [
    "### Dim Transaction Amount"
   ]
  },
  {
   "cell_type": "code",
   "execution_count": 10,
   "metadata": {},
   "outputs": [
    {
     "name": "stdout",
     "output_type": "stream",
     "text": [
      "      Total_Trans_Amt     Total_Trans_Amt_Group\n",
      "0                1144   Total Trans Amt: 0-2.5K\n",
      "1                1291   Total Trans Amt: 0-2.5K\n",
      "2                1887   Total Trans Amt: 0-2.5K\n",
      "3                1171   Total Trans Amt: 0-2.5K\n",
      "4                 816   Total Trans Amt: 0-2.5K\n",
      "...               ...                       ...\n",
      "5028            15476  Total Trans Amt: 10K-20K\n",
      "5029             8764   Total Trans Amt: 5K-10K\n",
      "5030            10291  Total Trans Amt: 10K-20K\n",
      "5031             8395   Total Trans Amt: 5K-10K\n",
      "5032            10294  Total Trans Amt: 10K-20K\n",
      "\n",
      "[5033 rows x 2 columns]\n"
     ]
    }
   ],
   "source": [
    "# Define Total_Trans_Amt bins and labels\n",
    "total_trans_amt_bins = [0, 2500, 5000, 10000, 20000, float('inf')]\n",
    "total_trans_amt_labels = ['Total Trans Amt: 0-2.5K', 'Total Trans Amt: 2.5K-5K', 'Total Trans Amt: 5K-10K', 'Total Trans Amt: 10K-20K', 'Total Trans Amt: >20K']\n",
    "\n",
    "# Create the Total_Trans_Amt dimension DataFrame\n",
    "dim_trans_amt = pd.DataFrame({'Total_Trans_Amt': df['Total_Trans_Amt'].unique()})\n",
    "dim_trans_amt['Total_Trans_Amt_Group'] = pd.cut(\n",
    "    dim_trans_amt['Total_Trans_Amt'], \n",
    "    bins=total_trans_amt_bins, \n",
    "    labels=total_trans_amt_labels, \n",
    "    right=True\n",
    ")\n",
    "\n",
    "print(dim_trans_amt)"
   ]
  },
  {
   "cell_type": "markdown",
   "metadata": {},
   "source": [
    "### Transaction Counts"
   ]
  },
  {
   "cell_type": "code",
   "execution_count": 11,
   "metadata": {},
   "outputs": [
    {
     "name": "stdout",
     "output_type": "stream",
     "text": [
      "     Total_Trans_Ct       Total_Trans_Ct_Group\n",
      "0                42  Total Transactions: 41-60\n",
      "1                33  Total Transactions: 21-40\n",
      "2                20   Total Transactions: 0-20\n",
      "3                28  Total Transactions: 21-40\n",
      "4                24  Total Transactions: 21-40\n",
      "..              ...                        ...\n",
      "121             139    Total Transactions: >80\n",
      "122             123    Total Transactions: >80\n",
      "123             130    Total Transactions: >80\n",
      "124             138    Total Transactions: >80\n",
      "125             132    Total Transactions: >80\n",
      "\n",
      "[126 rows x 2 columns]\n"
     ]
    }
   ],
   "source": [
    "# Define Total_Trans_Ct bins and labels\n",
    "total_trans_ct_bins = [0, 20, 40, 60, 80, float('inf')]\n",
    "total_trans_ct_labels = [\n",
    "    'Total Transactions: 0-20', \n",
    "    'Total Transactions: 21-40', \n",
    "    'Total Transactions: 41-60', \n",
    "    'Total Transactions: 61-80', \n",
    "    'Total Transactions: >80'\n",
    "]\n",
    "\n",
    "# Create the Total_Trans_Ct dimension DataFrame\n",
    "dim_trans_cnt = pd.DataFrame({'Total_Trans_Ct': df['Total_Trans_Ct'].unique()})\n",
    "dim_trans_cnt['Total_Trans_Ct_Group'] = pd.cut(\n",
    "    dim_trans_cnt['Total_Trans_Ct'], \n",
    "    bins=total_trans_ct_bins, \n",
    "    labels=total_trans_ct_labels, \n",
    "    right=True\n",
    ")\n",
    "\n",
    "print(dim_trans_cnt)"
   ]
  },
  {
   "cell_type": "markdown",
   "metadata": {},
   "source": [
    "### Dim Utilization Ratios"
   ]
  },
  {
   "cell_type": "code",
   "execution_count": 12,
   "metadata": {},
   "outputs": [
    {
     "name": "stdout",
     "output_type": "stream",
     "text": [
      "     Avg_Utilization_Ratio  Utilization_Ratio_Group\n",
      "0                    0.061    Avg Util Ratio: 0-20%\n",
      "1                    0.105    Avg Util Ratio: 0-20%\n",
      "2                    0.000    Avg Util Ratio: 0-20%\n",
      "3                    0.760   Avg Util Ratio: 61-80%\n",
      "4                    0.311   Avg Util Ratio: 21-40%\n",
      "..                     ...                      ...\n",
      "959                  0.909  Avg Util Ratio: 81-100%\n",
      "960                  0.005    Avg Util Ratio: 0-20%\n",
      "961                  0.007    Avg Util Ratio: 0-20%\n",
      "962                  0.014    Avg Util Ratio: 0-20%\n",
      "963                  0.009    Avg Util Ratio: 0-20%\n",
      "\n",
      "[964 rows x 2 columns]\n"
     ]
    }
   ],
   "source": [
    "# Define Avg_Utilization_Ratio bins and labels\n",
    "utilization_ratio_bins = [0, 0.2, 0.4, 0.6, 0.8, 1.0]\n",
    "utilization_ratio_labels = ['Avg Util Ratio: 0-20%', 'Avg Util Ratio: 21-40%', 'Avg Util Ratio: 41-60%', 'Avg Util Ratio: 61-80%', 'Avg Util Ratio: 81-100%']\n",
    "\n",
    "# Create the Avg_Utilization_Ratio dimension DataFrame\n",
    "dim_utilization = pd.DataFrame({'Avg_Utilization_Ratio': df['Avg_Utilization_Ratio'].unique()})\n",
    "dim_utilization['Utilization_Ratio_Group'] = pd.cut(\n",
    "    dim_utilization['Avg_Utilization_Ratio'], \n",
    "    bins=utilization_ratio_bins, \n",
    "    labels=utilization_ratio_labels, \n",
    "    right=True, \n",
    "    include_lowest=True\n",
    ")\n",
    "\n",
    "print(dim_utilization)"
   ]
  },
  {
   "cell_type": "markdown",
   "metadata": {},
   "source": [
    "### Dim Naive Bayes Probabilities"
   ]
  },
  {
   "cell_type": "code",
   "execution_count": 13,
   "metadata": {},
   "outputs": [
    {
     "name": "stdout",
     "output_type": "stream",
     "text": [
      "      Naive_Bayes                   Naive_Bayes_Group\n",
      "0        0.000093        Naive Bayes: Low Probability\n",
      "1        0.000057        Naive Bayes: Low Probability\n",
      "2        0.000021        Naive Bayes: Low Probability\n",
      "3        0.000134        Naive Bayes: Low Probability\n",
      "4        0.000022        Naive Bayes: Low Probability\n",
      "...           ...                                 ...\n",
      "1586     0.000634        Naive Bayes: Low Probability\n",
      "1587     0.000868        Naive Bayes: Low Probability\n",
      "1588     0.000896        Naive Bayes: Low Probability\n",
      "1589     0.994380  Naive Bayes: Very High Probability\n",
      "1590     0.996620  Naive Bayes: Very High Probability\n",
      "\n",
      "[1591 rows x 2 columns]\n"
     ]
    }
   ],
   "source": [
    "# Define bins and labels for Naive Bayes column\n",
    "naive_bayes_bins = [0, 0.25, 0.5, 0.75, 1.0]\n",
    "naive_bayes_labels = ['Naive Bayes: Low Probability', 'Naive Bayes: Medium Probability', 'Naive Bayes: High Probability', 'Naive Bayes: Very High Probability']\n",
    "\n",
    "# Create the Naive Bayes dimension DataFrame\n",
    "dim_naive_bayes = pd.DataFrame({'Naive_Bayes': df['Naive_Bayes_Classifier_Attrition_Flag_Card_Category_Contacts_Count_12_mon_Dependent_count_Education_Level_Months_Inactive_12_mon_1'].unique()})\n",
    "dim_naive_bayes['Naive_Bayes_Group'] = pd.cut(\n",
    "    dim_naive_bayes['Naive_Bayes'], \n",
    "    bins=naive_bayes_bins, \n",
    "    labels=naive_bayes_labels, \n",
    "    right=True, \n",
    "    include_lowest=True\n",
    ")\n",
    "\n",
    "print(dim_naive_bayes)"
   ]
  },
  {
   "cell_type": "markdown",
   "metadata": {},
   "source": [
    "# Fact Table"
   ]
  },
  {
   "cell_type": "code",
   "execution_count": 16,
   "metadata": {},
   "outputs": [
    {
     "name": "stdout",
     "output_type": "stream",
     "text": [
      "          Attrition_Flag  Age Gender  Dependent_count Education_Level  \\\n",
      "0      Existing Customer   45      M                3     High School   \n",
      "1      Existing Customer   49      F                5        Graduate   \n",
      "2      Existing Customer   51      M                3        Graduate   \n",
      "3      Existing Customer   40      F                4     High School   \n",
      "4      Existing Customer   40      M                3      Uneducated   \n",
      "...                  ...  ...    ...              ...             ...   \n",
      "10122  Existing Customer   50      M                2        Graduate   \n",
      "10123  Attrited Customer   41      M                2         Unknown   \n",
      "10124  Attrited Customer   44      F                1     High School   \n",
      "10125  Attrited Customer   30      M                2        Graduate   \n",
      "10126  Attrited Customer   43      F                2        Graduate   \n",
      "\n",
      "      Marital_Status Income_Category Card_Category  Months_on_book  \\\n",
      "0            Married     $60K - $80K          Blue              39   \n",
      "1             Single  Less than $40K          Blue              44   \n",
      "2            Married    $80K - $120K          Blue              36   \n",
      "3            Unknown  Less than $40K          Blue              34   \n",
      "4            Married     $60K - $80K          Blue              21   \n",
      "...              ...             ...           ...             ...   \n",
      "10122         Single     $40K - $60K          Blue              40   \n",
      "10123       Divorced     $40K - $60K          Blue              25   \n",
      "10124        Married  Less than $40K          Blue              36   \n",
      "10125        Unknown     $40K - $60K          Blue              36   \n",
      "10126        Married  Less than $40K        Silver              25   \n",
      "\n",
      "       Total_Relationship_Count  ...  Credit_Limit  Total_Revolving_Bal  \\\n",
      "0                             5  ...       12691.0                  777   \n",
      "1                             6  ...        8256.0                  864   \n",
      "2                             4  ...        3418.0                    0   \n",
      "3                             3  ...        3313.0                 2517   \n",
      "4                             5  ...        4716.0                    0   \n",
      "...                         ...  ...           ...                  ...   \n",
      "10122                         3  ...        4003.0                 1851   \n",
      "10123                         4  ...        4277.0                 2186   \n",
      "10124                         5  ...        5409.0                    0   \n",
      "10125                         4  ...        5281.0                    0   \n",
      "10126                         6  ...       10388.0                 1961   \n",
      "\n",
      "       Avg_Open_To_Buy  Total_Amt_Chng_Q4_Q1  Total_Trans_Amt  Total_Trans_Ct  \\\n",
      "0              11914.0                 1.335             1144              42   \n",
      "1               7392.0                 1.541             1291              33   \n",
      "2               3418.0                 2.594             1887              20   \n",
      "3                796.0                 1.405             1171              20   \n",
      "4               4716.0                 2.175              816              28   \n",
      "...                ...                   ...              ...             ...   \n",
      "10122           2152.0                 0.703            15476             117   \n",
      "10123           2091.0                 0.804             8764              69   \n",
      "10124           5409.0                 0.819            10291              60   \n",
      "10125           5281.0                 0.535             8395              62   \n",
      "10126           8427.0                 0.703            10294              61   \n",
      "\n",
      "       Total_Ct_Chng_Q4_Q1  Avg_Utilization_Ratio  Naive_Bayes  is_Attrited  \n",
      "0                    1.625                  0.061     0.000093        False  \n",
      "1                    3.714                  0.105     0.000057        False  \n",
      "2                    2.333                  0.000     0.000021        False  \n",
      "3                    2.333                  0.760     0.000134        False  \n",
      "4                    2.500                  0.000     0.000022        False  \n",
      "...                    ...                    ...          ...          ...  \n",
      "10122                0.857                  0.462     0.000191        False  \n",
      "10123                0.683                  0.511     0.995270         True  \n",
      "10124                0.818                  0.000     0.997880         True  \n",
      "10125                0.722                  0.000     0.996710         True  \n",
      "10126                0.649                  0.189     0.996620         True  \n",
      "\n",
      "[10127 rows x 22 columns]\n"
     ]
    }
   ],
   "source": [
    "# Select the specified columns to create the fact table\n",
    "fact_table = df[[\n",
    "    'Attrition_Flag', 'Age', 'Gender', 'Dependent_count', 'Education_Level', \n",
    "    'Marital_Status', 'Income_Category', 'Card_Category', 'Months_on_book', \n",
    "    'Total_Relationship_Count', 'Months_Inactive_12_mon', 'Contacts_Count_12_mon', \n",
    "    'Credit_Limit', 'Total_Revolving_Bal', 'Avg_Open_To_Buy', 'Total_Amt_Chng_Q4_Q1', \n",
    "    'Total_Trans_Amt', 'Total_Trans_Ct', 'Total_Ct_Chng_Q4_Q1', 'Avg_Utilization_Ratio', \n",
    "    'Naive_Bayes_Classifier_Attrition_Flag_Card_Category_Contacts_Count_12_mon_Dependent_count_Education_Level_Months_Inactive_12_mon_1'\n",
    "]].copy()\n",
    "\n",
    "# Add a new boolean column 'is_Attrited'\n",
    "fact_table.loc[:, 'is_Attrited'] = fact_table['Attrition_Flag'] == 'Attrited Customer'\n",
    "fact_table.rename(columns={\n",
    "    'Naive_Bayes_Classifier_Attrition_Flag_Card_Category_Contacts_Count_12_mon_Dependent_count_Education_Level_Months_Inactive_12_mon_1': 'Naive_Bayes'\n",
    "}, inplace=True)\n",
    "# Display the fact table\n",
    "print(fact_table)"
   ]
  },
  {
   "cell_type": "markdown",
   "metadata": {},
   "source": [
    "# Pickle & Zip each Dimension and Fact Table\n",
    "This is for downstream processing"
   ]
  },
  {
   "cell_type": "code",
   "execution_count": 17,
   "metadata": {},
   "outputs": [
    {
     "name": "stdout",
     "output_type": "stream",
     "text": [
      "Pickled and zipped files are saved to ../.pickles\n"
     ]
    }
   ],
   "source": [
    "import pickle\n",
    "import zipfile\n",
    "import os\n",
    "\n",
    "# Define the output directory\n",
    "output_dir = os.path.join(locations_data['Rel_Pickes_Dir'])\n",
    "\n",
    "# Ensure the directory exists\n",
    "os.makedirs(output_dir, exist_ok=True)\n",
    "\n",
    "# Define the files to pickle\n",
    "data_to_pickle = {\n",
    "    'dim_age.pkl': dim_age,\n",
    "    'dim_contact.pkl': dim_contact,\n",
    "    'dim_credit_limits.pkl': dim_credit_limits,\n",
    "    'dim_inactive.pkl': dim_inactive,\n",
    "    'dim_naive_bayes.pkl': dim_naive_bayes,\n",
    "    'dim_revolving_bal.pkl': dim_revolving_bal,\n",
    "    'dim_trans_amt.pkl': dim_trans_amt,\n",
    "    'dim_trans_cnt.pkl': dim_trans_cnt,\n",
    "    'dim_utilization.pkl': dim_utilization,\n",
    "    'fact_table.pkl': fact_table\n",
    "}\n",
    "\n",
    "# Pickle and zip each file\n",
    "for file_name, data in data_to_pickle.items():\n",
    "    pickle_path = os.path.join(output_dir, file_name)\n",
    "    zip_path = os.path.join(output_dir, f\"{file_name}.zip\")\n",
    "    \n",
    "    # Pickle the data\n",
    "    with open(pickle_path, 'wb') as f:\n",
    "        pickle.dump(data, f)\n",
    "    \n",
    "    # Zip the pickle file\n",
    "    with zipfile.ZipFile(zip_path, 'w', zipfile.ZIP_DEFLATED) as zipf:\n",
    "        zipf.write(pickle_path, arcname=file_name)\n",
    "    \n",
    "    # Optionally, remove the original pickle file after zipping\n",
    "    os.remove(pickle_path)\n",
    "\n",
    "print(f\"Pickled and zipped files are saved to {output_dir}\")"
   ]
  }
 ],
 "metadata": {
  "kernelspec": {
   "display_name": "Python 3",
   "language": "python",
   "name": "python3"
  },
  "language_info": {
   "codemirror_mode": {
    "name": "ipython",
    "version": 3
   },
   "file_extension": ".py",
   "mimetype": "text/x-python",
   "name": "python",
   "nbconvert_exporter": "python",
   "pygments_lexer": "ipython3",
   "version": "3.13.1"
  }
 },
 "nbformat": 4,
 "nbformat_minor": 2
}
