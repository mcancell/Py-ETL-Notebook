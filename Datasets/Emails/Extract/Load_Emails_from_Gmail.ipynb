{
 "cells": [
  {
   "cell_type": "markdown",
   "metadata": {},
   "source": [
    "# Main Func to Retrieve Emails"
   ]
  },
  {
   "cell_type": "markdown",
   "metadata": {},
   "source": [
    "## For Gmail, this Method Requires an App Password "
   ]
  },
  {
   "cell_type": "markdown",
   "metadata": {},
   "source": [
    "### See https://myaccount.google.com/security to Administer"
   ]
  },
  {
   "cell_type": "markdown",
   "metadata": {},
   "source": [
    "### Note the Other Way to do this is to Create OATH2 Credentials but until/unless your App is put into Prod, you will need to Authorize each time you run"
   ]
  },
  {
   "cell_type": "code",
   "execution_count": 1,
   "metadata": {},
   "outputs": [],
   "source": [
    "import imaplib\n",
    "import email\n",
    "import pandas as pd\n",
    "from bs4 import BeautifulSoup\n",
    "import re\n",
    "from dateutil import parser\n",
    "from tqdm import tqdm\n",
    "\n",
    "def fetch_emails(credentials, since_date=\"01-Jan-2025\"):\n",
    "\n",
    "    # Extract email address and password from credentials\n",
    "    email_addr = credentials['gmail_credentials']['email']\n",
    "    email_pass = credentials['gmail_credentials']['password']\n",
    "    \n",
    "    # Connect to the Gmail IMAP server\n",
    "    mail = imaplib.IMAP4_SSL('imap.gmail.com')\n",
    "    mail.login(email_addr, email_pass)\n",
    "\n",
    "    # Select the mailbox you want to use\n",
    "    mail.select('inbox')\n",
    "\n",
    "    # Search for emails since the specified date\n",
    "    status, messages = mail.search(None, f'(SINCE \"{since_date}\")')\n",
    "\n",
    "    # Get the email IDs\n",
    "    email_ids = messages[0].split()\n",
    "\n",
    "    # Initialize a list to store email details\n",
    "    email_details = []\n",
    "\n",
    "    # Fetch the email data and store in the list\n",
    "    for num in tqdm(email_ids, desc=\"Fetching emails\"):\n",
    "        status, data = mail.fetch(num, '(RFC822)')\n",
    "        msg = email.message_from_bytes(data[0][1])\n",
    "        email_info = {\n",
    "            'Date': msg['date'],\n",
    "            'Subject': msg['subject'],\n",
    "            'From': msg['from'],\n",
    "            'To': msg['to'],\n",
    "            'Message-ID': msg['message-id'],\n",
    "            'Body': None,\n",
    "            'Reply-To': msg['reply-to']\n",
    "        }\n",
    "        if msg.is_multipart():\n",
    "            for part in msg.walk():\n",
    "                if part.get_content_type() == 'text/plain':\n",
    "                    email_info['Body'] = part.get_payload(decode=True).decode(errors='ignore')\n",
    "                    break\n",
    "                elif part.get_content_type() == 'text/html':\n",
    "                    html_content = part.get_payload(decode=True).decode(errors='ignore')\n",
    "                    soup = BeautifulSoup(html_content, 'html.parser')\n",
    "                    email_info['Body'] = soup.get_text()\n",
    "                    break\n",
    "        else:\n",
    "            email_info['Body'] = msg.get_payload(decode=True).decode(errors='ignore')\n",
    "        email_details.append(email_info)\n",
    "\n",
    "    # Convert the list to a pandas DataFrame\n",
    "    df_emails_imap = pd.DataFrame(email_details)\n",
    "\n",
    "    # Remove any characters from the datestring that appear like this ' (*)'\n",
    "    df_emails_imap['Date'] = df_emails_imap['Date'].str.replace(r'\\s*\\(.*?\\)', '', regex=True)\n",
    "    \n",
    "    # Remove any date strings that end in 'GMT'\n",
    "    df_emails_imap['Date'] = df_emails_imap['Date'].str.replace(r'GMT$', '', regex=True)\n",
    "    \n",
    "    # Convert the 'Date' column to datetime with specified format, handling timezones\n",
    "    def parse_date(date_str):\n",
    "        try:\n",
    "            return parser.parse(date_str)\n",
    "        except (parser.ParserError, TypeError):\n",
    "            return pd.NaT\n",
    "\n",
    "    df_emails_imap['Date'] = df_emails_imap['Date'].apply(parse_date)\n",
    "    df_emails_imap['Date'] = pd.to_datetime(df_emails_imap['Date'], errors='coerce', utc=True)\n",
    "    \n",
    "    # If 'To' column is missing, set it to the email address from credentials\n",
    "    df_emails_imap['To'] = df_emails_imap['To'].fillna(email_addr)\n",
    "    \n",
    "    # If 'Reply-To' column is missing, set it to the 'From' address\n",
    "    df_emails_imap['Reply-To'] = df_emails_imap['Reply-To'].fillna(df_emails_imap['From'])\n",
    "    return df_emails_imap\n"
   ]
  },
  {
   "cell_type": "markdown",
   "metadata": {},
   "source": [
    "# Initial One-time Call The Fetch Func to Retrieve Emails "
   ]
  },
  {
   "cell_type": "markdown",
   "metadata": {},
   "source": [
    "## Use this format for the Credential YAML \n",
    "gmail_credentials:\n",
    "  email: \"YOUR_EMAIL@gmail.com\"\n",
    "  password: \"YOUR_APP_KEY\""
   ]
  },
  {
   "cell_type": "code",
   "execution_count": 2,
   "metadata": {
    "vscode": {
     "languageId": "ruby"
    }
   },
   "outputs": [
    {
     "name": "stderr",
     "output_type": "stream",
     "text": [
      "Fetching emails: 100%|██████████| 1203/1203 [01:25<00:00, 14.02it/s]\n"
     ]
    },
    {
     "name": "stdout",
     "output_type": "stream",
     "text": [
      "                          Date  \\\n",
      "0    2024-12-01 08:19:12+00:00   \n",
      "1    2024-12-01 08:51:40+00:00   \n",
      "2    2024-12-01 12:03:31+00:00   \n",
      "3    2024-12-01 12:27:32+00:00   \n",
      "4    2024-12-01 13:10:38+00:00   \n",
      "...                        ...   \n",
      "1198 2025-01-30 13:37:39+00:00   \n",
      "1199 2025-01-30 13:47:51+00:00   \n",
      "1200 2025-01-30 13:51:06+00:00   \n",
      "1201 2025-01-30 14:05:01+00:00   \n",
      "1202 2025-01-30 14:27:47+00:00   \n",
      "\n",
      "                                                Subject  \\\n",
      "0                      See what's streaming in December   \n",
      "1     Coming soon to State Theatre New Jersey: Cirqu...   \n",
      "2                  =?utf-8?q?Will_Obama_go_to_jail=3F?=   \n",
      "3      Your Daily Digest for Sun, 12/1 is ready to view   \n",
      "4     Your Weekly Ad + Holiday Savings to Deck the H...   \n",
      "...                                                 ...   \n",
      "1198  Your Application - (US) Head of Product Analytics   \n",
      "1199               Thank you for applying to the ASPCA!   \n",
      "1200                      We received your application!   \n",
      "1201            Thank you for your application to Figma   \n",
      "1202                       50% off one full-price item!   \n",
      "\n",
      "                                                   From  \\\n",
      "0                    \"IMDb.com\" <do-not-reply@imdb.com>   \n",
      "1     Bandsintown <notifications@updates.bandsintown...   \n",
      "2     Quora Digest <english-personalized-digest@quor...   \n",
      "3     USPS Informed Delivery <USPSInformeddelivery@e...   \n",
      "4     =?UTF-8?B?Q1ZTIEV4dHJhQ2FyZQ==?= <extracare@yo...   \n",
      "...                                                 ...   \n",
      "1198  Global HR <sageglobalhr@auctiontechnologygroup...   \n",
      "1199                  ASPCA Workday <workday@aspca.org>   \n",
      "1200                          eisneramper@myworkday.com   \n",
      "1201                                 no-reply@figma.com   \n",
      "1202  =?UTF-8?B?Q1ZTIEV4dHJhQ2FyZQ==?= <extracare@yo...   \n",
      "\n",
      "                                                     To  \\\n",
      "0                                mike.cancell@gmail.com   \n",
      "1                                mike.cancell@gmail.com   \n",
      "2                                mike.cancell@gmail.com   \n",
      "3                                mike.cancell@gmail.com   \n",
      "4                                  mike@mikecancell.com   \n",
      "...                                                 ...   \n",
      "1198  \"mike.cancell@gmail.com\" <mike.cancell@gmail.com>   \n",
      "1199                             Mike.Cancell@gmail.com   \n",
      "1200                               mike@mikecancell.com   \n",
      "1201                             Mike.Cancell@gmail.com   \n",
      "1202                               mike@mikecancell.com   \n",
      "\n",
      "                                             Message-ID  \\\n",
      "0     <01000193814d60c2-fd528199-2ca9-40dc-8c71-c310...   \n",
      "1               <msg-19742805299@email.bandsintown.com>   \n",
      "2     <LARkCC7mJXguO-fXuuzZcwMdZJYRZCZHc2nstcrUwcMNj...   \n",
      "3     <20241201122732.9884238d69c03837@email.informe...   \n",
      "4        <0.3.9.54A.1DB43F26A5DD630.0@omp.your.cvs.com>   \n",
      "...                                                 ...   \n",
      "1198  <veiDU0000000000000000000000000000000000000000...   \n",
      "1199  <2042341688.13978217.1738244871660@wire-prod-a...   \n",
      "1200  <1409290418.13919826.1738245066869@myworkday.com>   \n",
      "1201        <20250130140501.abd7bf94be4ee386@figma.com>   \n",
      "1202     <0.1.F.2D9.1DB7323229121DA.0@omp.your.cvs.com>   \n",
      "\n",
      "                                                   Body  \\\n",
      "0     IMDb Streaming Guides\\r\\nCheck out our watch g...   \n",
      "1     Just Announced Cirque Musica, New Jersey Symph...   \n",
      "2     Top stories for Mike\\r\\n\\r\\n-----\\r\\n\\r\\nQuest...   \n",
      "3     Content-Type: text/plain; charset=UTF-8\\r\\nCon...   \n",
      "4     <!DOCTYPE html PUBLIC \"-//W3C//DTD XHTML 1.0 T...   \n",
      "...                                                 ...   \n",
      "1198  Dear Michael\\r\\n\\r\\nThank you for applying for...   \n",
      "1199  \\n\\n\\nDear Michael, Thank you so much for demo...   \n",
      "1200  <!doctype html><html xmlns:v=\"urn:schemas-micr...   \n",
      "1201  Hi Michael,\\r\\n\\r\\nThank you for your interest...   \n",
      "1202  <!DOCTYPE html PUBLIC \"-//W3C//DTD XHTML 1.0 T...   \n",
      "\n",
      "                                               Reply-To  \n",
      "0                    \"IMDb.com\" <do-not-reply@imdb.com>  \n",
      "1     Bandsintown <notifications@updates.bandsintown...  \n",
      "2     Quora Digest <english-personalized-digest@quor...  \n",
      "3     USPS Informed Delivery <USPSInformeddelivery@e...  \n",
      "4     =?UTF-8?B?Q1ZTIEV4dHJhQ2FyZQ==?= <noreply@your...  \n",
      "...                                                 ...  \n",
      "1198  Global HR <sageglobalhr@auctiontechnologygroup...  \n",
      "1199                                  workday@aspca.org  \n",
      "1200                noreply.workday@eisnerampermail.com  \n",
      "1201                                 no-reply@figma.com  \n",
      "1202  =?UTF-8?B?Q1ZTIEV4dHJhQ2FyZQ==?= <noreply@your...  \n",
      "\n",
      "[1203 rows x 7 columns]\n"
     ]
    }
   ],
   "source": [
    "import yaml\n",
    "\n",
    "# Define the Since Date\n",
    "since_date = \"01-Dec-2024\"\n",
    "\n",
    "# Load credentials from yaml file\n",
    "with open('../../../Credentials/gmail_credentials.yaml', 'r') as file:\n",
    "    credentials = yaml.safe_load(file)\n",
    "\n",
    "df_emails_imap = fetch_emails(credentials, since_date=since_date)\n",
    "print(df_emails_imap)"
   ]
  },
  {
   "cell_type": "markdown",
   "metadata": {},
   "source": [
    "## Save the DF to a Pickle to be Accessed Downstream"
   ]
  },
  {
   "cell_type": "code",
   "execution_count": 3,
   "metadata": {},
   "outputs": [],
   "source": [
    "import pickle\n",
    "import os\n",
    "\n",
    "# Create the pickles directory if it does not exist\n",
    "pickles_dir = '../.pickles'\n",
    "os.makedirs(pickles_dir, exist_ok=True)\n",
    "\n",
    "# List of DataFrame names\n",
    "df_names = ['df_emails_imap']\n",
    "\n",
    "# Loop through the list and store each DataFrame\n",
    "for name in df_names:\n",
    "    with open(f\"{pickles_dir}/{name}.pkl\", 'wb') as f:\n",
    "        pickle.dump(globals()[name], f)\n"
   ]
  },
  {
   "cell_type": "markdown",
   "metadata": {},
   "source": [
    "# For Incremental Loads"
   ]
  },
  {
   "cell_type": "markdown",
   "metadata": {},
   "source": [
    "## Get Most Recent Date from Pickled DF to Incremental Email Fetches"
   ]
  },
  {
   "cell_type": "markdown",
   "metadata": {},
   "source": [
    "## And Use Below to Get Daily Incremental Emails into DF"
   ]
  },
  {
   "cell_type": "markdown",
   "metadata": {},
   "source": [
    "#### Now this is updated to Support both Initial and Incremtal Loads. \n",
    "NOTE: This would be the pipleine to automate in a workflow."
   ]
  },
  {
   "cell_type": "code",
   "execution_count": 6,
   "metadata": {
    "vscode": {
     "languageId": "ruby"
    }
   },
   "outputs": [
    {
     "name": "stdout",
     "output_type": "stream",
     "text": [
      "Latest email date found: 2025-01-30 14:27:47+00:00\n",
      "Fetching emails since: 30-Jan-2025\n"
     ]
    },
    {
     "name": "stderr",
     "output_type": "stream",
     "text": [
      "Fetching emails: 100%|██████████| 19/19 [00:02<00:00,  7.31it/s]"
     ]
    },
    {
     "name": "stdout",
     "output_type": "stream",
     "text": [
      "Number of new emails fetched: 19\n",
      "Total number of emails after update: 1203\n",
      "Number of rows before adding new emails: 1203\n",
      "                          Date  \\\n",
      "0    2024-12-01 08:19:12+00:00   \n",
      "1    2024-12-01 08:51:40+00:00   \n",
      "2    2024-12-01 12:03:31+00:00   \n",
      "3    2024-12-01 12:27:32+00:00   \n",
      "4    2024-12-01 13:10:38+00:00   \n",
      "...                        ...   \n",
      "1198 2025-01-30 13:37:39+00:00   \n",
      "1199 2025-01-30 13:47:51+00:00   \n",
      "1200 2025-01-30 13:51:06+00:00   \n",
      "1201 2025-01-30 14:05:01+00:00   \n",
      "1202 2025-01-30 14:27:47+00:00   \n",
      "\n",
      "                                                Subject  \\\n",
      "0                      See what's streaming in December   \n",
      "1     Coming soon to State Theatre New Jersey: Cirqu...   \n",
      "2                  =?utf-8?q?Will_Obama_go_to_jail=3F?=   \n",
      "3      Your Daily Digest for Sun, 12/1 is ready to view   \n",
      "4     Your Weekly Ad + Holiday Savings to Deck the H...   \n",
      "...                                                 ...   \n",
      "1198  Your Application - (US) Head of Product Analytics   \n",
      "1199               Thank you for applying to the ASPCA!   \n",
      "1200                      We received your application!   \n",
      "1201            Thank you for your application to Figma   \n",
      "1202                       50% off one full-price item!   \n",
      "\n",
      "                                                   From  \\\n",
      "0                    \"IMDb.com\" <do-not-reply@imdb.com>   \n",
      "1     Bandsintown <notifications@updates.bandsintown...   \n",
      "2     Quora Digest <english-personalized-digest@quor...   \n",
      "3     USPS Informed Delivery <USPSInformeddelivery@e...   \n",
      "4     =?UTF-8?B?Q1ZTIEV4dHJhQ2FyZQ==?= <extracare@yo...   \n",
      "...                                                 ...   \n",
      "1198  Global HR <sageglobalhr@auctiontechnologygroup...   \n",
      "1199                  ASPCA Workday <workday@aspca.org>   \n",
      "1200                          eisneramper@myworkday.com   \n",
      "1201                                 no-reply@figma.com   \n",
      "1202  =?UTF-8?B?Q1ZTIEV4dHJhQ2FyZQ==?= <extracare@yo...   \n",
      "\n",
      "                                                     To  \\\n",
      "0                                mike.cancell@gmail.com   \n",
      "1                                mike.cancell@gmail.com   \n",
      "2                                mike.cancell@gmail.com   \n",
      "3                                mike.cancell@gmail.com   \n",
      "4                                  mike@mikecancell.com   \n",
      "...                                                 ...   \n",
      "1198  \"mike.cancell@gmail.com\" <mike.cancell@gmail.com>   \n",
      "1199                             Mike.Cancell@gmail.com   \n",
      "1200                               mike@mikecancell.com   \n",
      "1201                             Mike.Cancell@gmail.com   \n",
      "1202                               mike@mikecancell.com   \n",
      "\n",
      "                                             Message-ID  \\\n",
      "0     <01000193814d60c2-fd528199-2ca9-40dc-8c71-c310...   \n",
      "1               <msg-19742805299@email.bandsintown.com>   \n",
      "2     <LARkCC7mJXguO-fXuuzZcwMdZJYRZCZHc2nstcrUwcMNj...   \n",
      "3     <20241201122732.9884238d69c03837@email.informe...   \n",
      "4        <0.3.9.54A.1DB43F26A5DD630.0@omp.your.cvs.com>   \n",
      "...                                                 ...   \n",
      "1198  <veiDU0000000000000000000000000000000000000000...   \n",
      "1199  <2042341688.13978217.1738244871660@wire-prod-a...   \n",
      "1200  <1409290418.13919826.1738245066869@myworkday.com>   \n",
      "1201        <20250130140501.abd7bf94be4ee386@figma.com>   \n",
      "1202     <0.1.F.2D9.1DB7323229121DA.0@omp.your.cvs.com>   \n",
      "\n",
      "                                                   Body  \\\n",
      "0     IMDb Streaming Guides\\r\\nCheck out our watch g...   \n",
      "1     Just Announced Cirque Musica, New Jersey Symph...   \n",
      "2     Top stories for Mike\\r\\n\\r\\n-----\\r\\n\\r\\nQuest...   \n",
      "3     Content-Type: text/plain; charset=UTF-8\\r\\nCon...   \n",
      "4     <!DOCTYPE html PUBLIC \"-//W3C//DTD XHTML 1.0 T...   \n",
      "...                                                 ...   \n",
      "1198  Dear Michael\\r\\n\\r\\nThank you for applying for...   \n",
      "1199  \\n\\n\\nDear Michael, Thank you so much for demo...   \n",
      "1200  <!doctype html><html xmlns:v=\"urn:schemas-micr...   \n",
      "1201  Hi Michael,\\r\\n\\r\\nThank you for your interest...   \n",
      "1202  <!DOCTYPE html PUBLIC \"-//W3C//DTD XHTML 1.0 T...   \n",
      "\n",
      "                                               Reply-To  \n",
      "0                    \"IMDb.com\" <do-not-reply@imdb.com>  \n",
      "1     Bandsintown <notifications@updates.bandsintown...  \n",
      "2     Quora Digest <english-personalized-digest@quor...  \n",
      "3     USPS Informed Delivery <USPSInformeddelivery@e...  \n",
      "4     =?UTF-8?B?Q1ZTIEV4dHJhQ2FyZQ==?= <noreply@your...  \n",
      "...                                                 ...  \n",
      "1198  Global HR <sageglobalhr@auctiontechnologygroup...  \n",
      "1199                                  workday@aspca.org  \n",
      "1200                noreply.workday@eisnerampermail.com  \n",
      "1201                                 no-reply@figma.com  \n",
      "1202  =?UTF-8?B?Q1ZTIEV4dHJhQ2FyZQ==?= <noreply@your...  \n",
      "\n",
      "[1203 rows x 7 columns]\n"
     ]
    },
    {
     "name": "stderr",
     "output_type": "stream",
     "text": [
      "\n"
     ]
    }
   ],
   "source": [
    "import yaml\n",
    "import pickle\n",
    "import os\n",
    "from datetime import datetime, timedelta\n",
    "\n",
    "# Define the Since Date\n",
    "try:\n",
    "    # Open the pickle file and load the DataFrame\n",
    "    with open('../.pickles/df_emails_imap.pkl', 'rb') as f:\n",
    "        df_emails_imap = pickle.load(f)\n",
    "    \n",
    "    # Find the latest date timestamp\n",
    "    latest_date = df_emails_imap['Date'].max()\n",
    "    \n",
    "    # Define the Since Date\n",
    "    since_date = latest_date.strftime('%d-%b-%Y')\n",
    "    print(f\"Latest email date found: {latest_date}\")\n",
    "except FileNotFoundError:\n",
    "    # If the pickle file is not found, set the date to now - 1 year\n",
    "    since_date = (datetime.now() - timedelta(days=365)).strftime('%d-%b-%Y')\n",
    "    print(\"Pickle file not found. Setting since_date to one year ago.\")\n",
    "\n",
    "print(f\"Fetching emails since: {since_date}\")\n",
    "\n",
    "# Load credentials from yaml file\n",
    "with open('../../../Credentials/gmail_credentials.yaml', 'r') as file:\n",
    "    credentials = yaml.safe_load(file)\n",
    "\n",
    "# Fetch new emails\n",
    "df_new_emails = fetch_emails(credentials, since_date=since_date)\n",
    "\n",
    "# Number of rows before adding new emails\n",
    "rows_before = len(df_emails_imap)\n",
    "\n",
    "# Append new data rows to the existing DataFrame\n",
    "df_emails_imap = pd.concat([df_emails_imap, df_new_emails]).drop_duplicates().reset_index(drop=True)\n",
    "\n",
    "# Write the updated DataFrame back to the original pickle file\n",
    "with open('../.pickles/df_emails_imap.pkl', 'wb') as f:\n",
    "    pickle.dump(df_emails_imap, f)\n",
    "\n",
    "print(f\"Number of new emails fetched: {len(df_new_emails)}\")\n",
    "print(f\"Total number of emails after update: {len(df_emails_imap)}\")\n",
    "print(f\"Number of rows before adding new emails: {rows_before}\")\n",
    "print(df_emails_imap)"
   ]
  }
 ],
 "metadata": {
  "kernelspec": {
   "display_name": "Python 3",
   "language": "python",
   "name": "python3"
  },
  "language_info": {
   "codemirror_mode": {
    "name": "ipython",
    "version": 3
   },
   "file_extension": ".py",
   "mimetype": "text/x-python",
   "name": "python",
   "nbconvert_exporter": "python",
   "pygments_lexer": "ipython3",
   "version": "3.13.1"
  }
 },
 "nbformat": 4,
 "nbformat_minor": 2
}
