{
 "cells": [
  {
   "cell_type": "markdown",
   "metadata": {},
   "source": [
    "## Load Directory Locations"
   ]
  },
  {
   "cell_type": "code",
   "execution_count": 1,
   "metadata": {},
   "outputs": [
    {
     "name": "stdout",
     "output_type": "stream",
     "text": [
      "{'Common_Funcs_Dir': '/Users/mike/Develop/Projects/Code Notebook/Common/Functions', 'Credentials_Dir': '/Users/mike/Develop/Projects/Code Notebook/Credentials', 'Rel_Pickes_Dir': '../.pickles', 'Pub_Data_Dir': \"'/Users/mike/Data/Public\", 'BQ_Service_Key': '/Users/mike/Develop/Conf/GCP Service Keys/mikecancell-development-0bcca41f8486.json'}\n"
     ]
    }
   ],
   "source": [
    "import json\n",
    "import os\n",
    "\n",
    "# Check if the file exists and load the JSON file into a dictionary\n",
    "file_path = r'C:\\Users\\mike\\Develop\\Projects\\Code Notebook\\Credentials\\locations_conf.json'\n",
    "if os.path.exists(file_path):\n",
    "    with open(file_path, 'r') as f:\n",
    "        locations_data = json.load(f)\n",
    "    print(locations_data)\n",
    "else:\n",
    "    print(f\"File not found: {file_path}\")"
   ]
  },
  {
   "cell_type": "markdown",
   "metadata": {},
   "source": [
    "# Load the DF by Querying Grouped Crime Data from GCP"
   ]
  },
  {
   "cell_type": "code",
   "execution_count": 2,
   "metadata": {},
   "outputs": [
    {
     "name": "stdout",
     "output_type": "stream",
     "text": [
      "Downloading: 100%|\u001b[32m██████████\u001b[0m|\n",
      "  dateyear_occ datemon_occ      lat       lon  area_id vict_age_group  \\\n",
      "0   2019-01-01  2019-08-01  34.2693 -118.4241       16    55 and over   \n",
      "1   2019-01-01  2019-08-01  34.2629 -118.4481       19    55 and over   \n",
      "2   2019-01-01  2019-01-01  33.7937 -118.2930        5          35-54   \n",
      "3   2019-01-01  2019-01-01  34.2012 -118.3790       15       Under 18   \n",
      "4   2019-01-01  2019-01-01  34.0417 -118.2142        4    55 and over   \n",
      "\n",
      "   fk_crm_cd  crime_count  avg_crimes_per_day  crime_count_in_month  ...  \\\n",
      "0        331            1                 1.0                 17691  ...   \n",
      "1        310            1                 1.0                 17691  ...   \n",
      "2        930            2                 2.0                 17487  ...   \n",
      "3        850            2                 2.0                 17487  ...   \n",
      "4        310            1                 1.0                 17487  ...   \n",
      "\n",
      "   crime_score_by_crmcd  crime_score_by_age_group  \\\n",
      "0                  18.1                     150.9   \n",
      "1                  72.6                     164.9   \n",
      "2                   2.5                       4.6   \n",
      "3                   2.1                      20.5   \n",
      "4                  10.6                      32.8   \n",
      "\n",
      "   corr_crime_count_age_group_strength  crime_density  \\\n",
      "0                  Weak/No Correlation    Low Density   \n",
      "1                  Weak/No Correlation    Low Density   \n",
      "2                  Weak/No Correlation    Low Density   \n",
      "3                  Weak/No Correlation    Low Density   \n",
      "4                  Weak/No Correlation    Low Density   \n",
      "\n",
      "                                         crm_cd_desc  crime_severity  \\\n",
      "0  THEFT FROM MOTOR VEHICLE - GRAND ($950.01 AND ...   03 - Moderate   \n",
      "1                                           BURGLARY   03 - Moderate   \n",
      "2             CRIMINAL THREATS - NO WEAPON DISPLAYED        04 - Low   \n",
      "3                                  INDECENT EXPOSURE        04 - Low   \n",
      "4                                           BURGLARY   03 - Moderate   \n",
      "\n",
      "   is_crime_violent    area_name  \\\n",
      "0             False     Foothill   \n",
      "1             False      Mission   \n",
      "2             False       Harbor   \n",
      "3             False  N Hollywood   \n",
      "4             False   Hollenbeck   \n",
      "\n",
      "                                    geo_display_name  population  \n",
      "0  Sutter Avenue, Pacoima Neighborhood Council, L...           0  \n",
      "1  Arleta Avenue, Mission Hills Neighborhood Coun...         156  \n",
      "2                                               None        <NA>  \n",
      "3  Bath and Cabinet Show Room, 11357, Sherman Way...         227  \n",
      "4  4th & Chicago, East 4th Street, Boyle Heights,...          89  \n",
      "\n",
      "[5 rows x 36 columns]\n"
     ]
    }
   ],
   "source": [
    "from google.oauth2 import service_account\n",
    "import pandas_gbq\n",
    "\n",
    "# Ensure locations_data is defined\n",
    "if 'locations_data' not in globals():\n",
    "\t# Check if the file exists and load the JSON file into a dictionary\n",
    "\tif os.path.exists(file_path):\n",
    "\t\twith open(file_path, 'r') as f:\n",
    "\t\t\tlocations_data = json.load(f)\n",
    "\telse:\n",
    "\t\traise FileNotFoundError(f\"File not found: {file_path}\")\n",
    "\n",
    "# Resolve the key path from the locations data\n",
    "key_path = locations_data.get('BQ_Service_Key', 'default_key_path.json')\n",
    "\n",
    "# Create credentials using the key file\n",
    "credentials = service_account.Credentials.from_service_account_file(key_path)\n",
    "\n",
    "# Define your project ID and the SQL query\n",
    "project_id = 'mikecancell-development'\n",
    "query = \"\"\"\n",
    "SELECT *\n",
    "FROM `mikecancell-development.Datasets.LA_Crime_By_Mon_Crm_Loc_Age`\n",
    "\"\"\"\n",
    "\n",
    "# Read the data from BigQuery into a pandas DataFrame\n",
    "crime_data = pandas_gbq.read_gbq(query, project_id=project_id, credentials=credentials)\n",
    "\n",
    "# Display the first few rows of the dataframe\n",
    "print(crime_data.head())"
   ]
  }
 ],
 "metadata": {
  "kernelspec": {
   "display_name": "Python 3",
   "language": "python",
   "name": "python3"
  },
  "language_info": {
   "codemirror_mode": {
    "name": "ipython",
    "version": 3
   },
   "file_extension": ".py",
   "mimetype": "text/x-python",
   "name": "python",
   "nbconvert_exporter": "python",
   "pygments_lexer": "ipython3",
   "version": "3.13.1"
  }
 },
 "nbformat": 4,
 "nbformat_minor": 2
}
