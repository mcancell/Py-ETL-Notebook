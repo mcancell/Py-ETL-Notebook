{
 "cells": [
  {
   "cell_type": "markdown",
   "metadata": {},
   "source": [
    "# Fetch the Crime Data\n",
    "Let's try for 1M rows"
   ]
  },
  {
   "cell_type": "code",
   "execution_count": 4,
   "metadata": {},
   "outputs": [
    {
     "name": "stderr",
     "output_type": "stream",
     "text": [
      "Fetching data:   0%|          | 10000/2000000 [00:03<11:45, 2819.41record/s]"
     ]
    },
    {
     "name": "stdout",
     "output_type": "stream",
     "text": [
      "Max reinitialize offset reached. Reinitializing fetcher.\n"
     ]
    },
    {
     "name": "stderr",
     "output_type": "stream",
     "text": [
      "Fetching data:   1%|          | 20000/2000000 [00:12<14:14, 2318.25record/s] "
     ]
    },
    {
     "name": "stdout",
     "output_type": "stream",
     "text": [
      "Max reinitialize offset reached. Reinitializing fetcher.\n"
     ]
    },
    {
     "name": "stderr",
     "output_type": "stream",
     "text": [
      "Fetching data:   2%|▏         | 30000/2000000 [00:21<12:57, 2533.09record/s] "
     ]
    },
    {
     "name": "stdout",
     "output_type": "stream",
     "text": [
      "Max reinitialize offset reached. Reinitializing fetcher.\n"
     ]
    },
    {
     "name": "stderr",
     "output_type": "stream",
     "text": [
      "Fetching data:   2%|▏         | 40000/2000000 [00:30<14:26, 2261.98record/s] "
     ]
    },
    {
     "name": "stdout",
     "output_type": "stream",
     "text": [
      "Max reinitialize offset reached. Reinitializing fetcher.\n"
     ]
    },
    {
     "name": "stderr",
     "output_type": "stream",
     "text": [
      "Fetching data:   2%|▎         | 50000/2000000 [00:38<14:02, 2315.55record/s] "
     ]
    },
    {
     "name": "stdout",
     "output_type": "stream",
     "text": [
      "Max reinitialize offset reached. Reinitializing fetcher.\n"
     ]
    },
    {
     "name": "stderr",
     "output_type": "stream",
     "text": [
      "Fetching data:   3%|▎         | 60000/2000000 [00:47<14:02, 2303.05record/s] "
     ]
    },
    {
     "name": "stdout",
     "output_type": "stream",
     "text": [
      "Max reinitialize offset reached. Reinitializing fetcher.\n"
     ]
    },
    {
     "name": "stderr",
     "output_type": "stream",
     "text": [
      "Fetching data:   4%|▎         | 70000/2000000 [00:56<13:43, 2343.33record/s] "
     ]
    },
    {
     "name": "stdout",
     "output_type": "stream",
     "text": [
      "Max reinitialize offset reached. Reinitializing fetcher.\n"
     ]
    },
    {
     "name": "stderr",
     "output_type": "stream",
     "text": [
      "Fetching data:   4%|▍         | 80000/2000000 [01:06<15:56, 2008.08record/s] "
     ]
    },
    {
     "name": "stdout",
     "output_type": "stream",
     "text": [
      "Max reinitialize offset reached. Reinitializing fetcher.\n"
     ]
    },
    {
     "name": "stderr",
     "output_type": "stream",
     "text": [
      "Fetching data:   4%|▍         | 90000/2000000 [01:14<14:05, 2258.98record/s] "
     ]
    },
    {
     "name": "stdout",
     "output_type": "stream",
     "text": [
      "Max reinitialize offset reached. Reinitializing fetcher.\n"
     ]
    },
    {
     "name": "stderr",
     "output_type": "stream",
     "text": [
      "Fetching data:   5%|▌         | 100000/2000000 [01:23<14:33, 2175.64record/s]"
     ]
    },
    {
     "name": "stdout",
     "output_type": "stream",
     "text": [
      "Max reinitialize offset reached. Reinitializing fetcher.\n"
     ]
    },
    {
     "name": "stderr",
     "output_type": "stream",
     "text": [
      "Fetching data:   6%|▌         | 110000/2000000 [01:33<16:27, 1914.67record/s] "
     ]
    },
    {
     "name": "stdout",
     "output_type": "stream",
     "text": [
      "Max reinitialize offset reached. Reinitializing fetcher.\n"
     ]
    },
    {
     "name": "stderr",
     "output_type": "stream",
     "text": [
      "Fetching data:   6%|▌         | 120000/2000000 [01:42<16:24, 1909.69record/s] "
     ]
    },
    {
     "name": "stdout",
     "output_type": "stream",
     "text": [
      "Max reinitialize offset reached. Reinitializing fetcher.\n"
     ]
    },
    {
     "name": "stderr",
     "output_type": "stream",
     "text": [
      "Fetching data:   6%|▋         | 130000/2000000 [01:51<14:03, 2218.26record/s] "
     ]
    },
    {
     "name": "stdout",
     "output_type": "stream",
     "text": [
      "Max reinitialize offset reached. Reinitializing fetcher.\n"
     ]
    },
    {
     "name": "stderr",
     "output_type": "stream",
     "text": [
      "Fetching data:   7%|▋         | 140000/2000000 [02:00<13:53, 2232.47record/s] "
     ]
    },
    {
     "name": "stdout",
     "output_type": "stream",
     "text": [
      "Max reinitialize offset reached. Reinitializing fetcher.\n"
     ]
    },
    {
     "name": "stderr",
     "output_type": "stream",
     "text": [
      "Fetching data:   8%|▊         | 150000/2000000 [02:09<14:22, 2144.00record/s] "
     ]
    },
    {
     "name": "stdout",
     "output_type": "stream",
     "text": [
      "Max reinitialize offset reached. Reinitializing fetcher.\n"
     ]
    },
    {
     "name": "stderr",
     "output_type": "stream",
     "text": [
      "Fetching data:   8%|▊         | 160000/2000000 [02:19<14:49, 2069.54record/s] "
     ]
    },
    {
     "name": "stdout",
     "output_type": "stream",
     "text": [
      "Max reinitialize offset reached. Reinitializing fetcher.\n"
     ]
    },
    {
     "name": "stderr",
     "output_type": "stream",
     "text": [
      "Fetching data:   8%|▊         | 170000/2000000 [02:28<14:41, 2076.86record/s] "
     ]
    },
    {
     "name": "stdout",
     "output_type": "stream",
     "text": [
      "Max reinitialize offset reached. Reinitializing fetcher.\n"
     ]
    },
    {
     "name": "stderr",
     "output_type": "stream",
     "text": [
      "Fetching data:   9%|▉         | 180000/2000000 [02:38<16:12, 1871.13record/s] "
     ]
    },
    {
     "name": "stdout",
     "output_type": "stream",
     "text": [
      "Max reinitialize offset reached. Reinitializing fetcher.\n"
     ]
    },
    {
     "name": "stderr",
     "output_type": "stream",
     "text": [
      "Fetching data:  10%|▉         | 190000/2000000 [02:47<15:33, 1939.11record/s] "
     ]
    },
    {
     "name": "stdout",
     "output_type": "stream",
     "text": [
      "Max reinitialize offset reached. Reinitializing fetcher.\n"
     ]
    },
    {
     "name": "stderr",
     "output_type": "stream",
     "text": [
      "Fetching data:  10%|█         | 200000/2000000 [02:57<14:47, 2027.84record/s] "
     ]
    },
    {
     "name": "stdout",
     "output_type": "stream",
     "text": [
      "Max reinitialize offset reached. Reinitializing fetcher.\n"
     ]
    },
    {
     "name": "stderr",
     "output_type": "stream",
     "text": [
      "Fetching data:  10%|█         | 210000/2000000 [03:06<16:23, 1820.93record/s] "
     ]
    },
    {
     "name": "stdout",
     "output_type": "stream",
     "text": [
      "Max reinitialize offset reached. Reinitializing fetcher.\n"
     ]
    },
    {
     "name": "stderr",
     "output_type": "stream",
     "text": [
      "Fetching data:  11%|█         | 220000/2000000 [03:16<14:52, 1993.33record/s] "
     ]
    },
    {
     "name": "stdout",
     "output_type": "stream",
     "text": [
      "Max reinitialize offset reached. Reinitializing fetcher.\n"
     ]
    },
    {
     "name": "stderr",
     "output_type": "stream",
     "text": [
      "Fetching data:  12%|█▏        | 230000/2000000 [03:25<14:15, 2069.01record/s]"
     ]
    },
    {
     "name": "stdout",
     "output_type": "stream",
     "text": [
      "Max reinitialize offset reached. Reinitializing fetcher.\n"
     ]
    },
    {
     "name": "stderr",
     "output_type": "stream",
     "text": [
      "Fetching data:  12%|█▏        | 240000/2000000 [03:35<14:43, 1992.31record/s]"
     ]
    },
    {
     "name": "stdout",
     "output_type": "stream",
     "text": [
      "Max reinitialize offset reached. Reinitializing fetcher.\n"
     ]
    },
    {
     "name": "stderr",
     "output_type": "stream",
     "text": [
      "Fetching data:  12%|█▎        | 250000/2000000 [03:44<15:21, 1898.60record/s]"
     ]
    },
    {
     "name": "stdout",
     "output_type": "stream",
     "text": [
      "Max reinitialize offset reached. Reinitializing fetcher.\n"
     ]
    },
    {
     "name": "stderr",
     "output_type": "stream",
     "text": [
      "Fetching data:  13%|█▎        | 260000/2000000 [03:54<14:25, 2011.03record/s]"
     ]
    },
    {
     "name": "stdout",
     "output_type": "stream",
     "text": [
      "Max reinitialize offset reached. Reinitializing fetcher.\n"
     ]
    },
    {
     "name": "stderr",
     "output_type": "stream",
     "text": [
      "Fetching data:  14%|█▎        | 270000/2000000 [04:03<14:51, 1940.01record/s]"
     ]
    },
    {
     "name": "stdout",
     "output_type": "stream",
     "text": [
      "Max reinitialize offset reached. Reinitializing fetcher.\n"
     ]
    },
    {
     "name": "stderr",
     "output_type": "stream",
     "text": [
      "Fetching data:  14%|█▍        | 280000/2000000 [04:13<14:32, 1971.94record/s]"
     ]
    },
    {
     "name": "stdout",
     "output_type": "stream",
     "text": [
      "Max reinitialize offset reached. Reinitializing fetcher.\n"
     ]
    },
    {
     "name": "stderr",
     "output_type": "stream",
     "text": [
      "Fetching data:  14%|█▍        | 290000/2000000 [04:22<14:01, 2031.49record/s]"
     ]
    },
    {
     "name": "stdout",
     "output_type": "stream",
     "text": [
      "Max reinitialize offset reached. Reinitializing fetcher.\n"
     ]
    },
    {
     "name": "stderr",
     "output_type": "stream",
     "text": [
      "Fetching data:  15%|█▌        | 300000/2000000 [04:31<14:15, 1986.59record/s]"
     ]
    },
    {
     "name": "stdout",
     "output_type": "stream",
     "text": [
      "Max reinitialize offset reached. Reinitializing fetcher.\n"
     ]
    },
    {
     "name": "stderr",
     "output_type": "stream",
     "text": [
      "Fetching data:  16%|█▌        | 310000/2000000 [04:41<14:39, 1922.44record/s]"
     ]
    },
    {
     "name": "stdout",
     "output_type": "stream",
     "text": [
      "Max reinitialize offset reached. Reinitializing fetcher.\n"
     ]
    },
    {
     "name": "stderr",
     "output_type": "stream",
     "text": [
      "Fetching data:  16%|█▌        | 320000/2000000 [04:50<14:00, 1998.88record/s]"
     ]
    },
    {
     "name": "stdout",
     "output_type": "stream",
     "text": [
      "Max reinitialize offset reached. Reinitializing fetcher.\n"
     ]
    },
    {
     "name": "stderr",
     "output_type": "stream",
     "text": [
      "Fetching data:  16%|█▋        | 330000/2000000 [05:00<14:09, 1966.78record/s]"
     ]
    },
    {
     "name": "stdout",
     "output_type": "stream",
     "text": [
      "Max reinitialize offset reached. Reinitializing fetcher.\n"
     ]
    },
    {
     "name": "stderr",
     "output_type": "stream",
     "text": [
      "Fetching data:  17%|█▋        | 340000/2000000 [05:09<13:59, 1977.64record/s]"
     ]
    },
    {
     "name": "stdout",
     "output_type": "stream",
     "text": [
      "Max reinitialize offset reached. Reinitializing fetcher.\n"
     ]
    },
    {
     "name": "stderr",
     "output_type": "stream",
     "text": [
      "Fetching data:  18%|█▊        | 350000/2000000 [05:19<14:35, 1884.51record/s]"
     ]
    },
    {
     "name": "stdout",
     "output_type": "stream",
     "text": [
      "Max reinitialize offset reached. Reinitializing fetcher.\n"
     ]
    },
    {
     "name": "stderr",
     "output_type": "stream",
     "text": [
      "Fetching data:  18%|█▊        | 360000/2000000 [05:28<14:57, 1827.94record/s]"
     ]
    },
    {
     "name": "stdout",
     "output_type": "stream",
     "text": [
      "Max reinitialize offset reached. Reinitializing fetcher.\n"
     ]
    },
    {
     "name": "stderr",
     "output_type": "stream",
     "text": [
      "Fetching data:  18%|█▊        | 370000/2000000 [05:38<14:08, 1920.35record/s]"
     ]
    },
    {
     "name": "stdout",
     "output_type": "stream",
     "text": [
      "Max reinitialize offset reached. Reinitializing fetcher.\n"
     ]
    },
    {
     "name": "stderr",
     "output_type": "stream",
     "text": [
      "Fetching data:  19%|█▉        | 380000/2000000 [05:47<13:28, 2003.20record/s]"
     ]
    },
    {
     "name": "stdout",
     "output_type": "stream",
     "text": [
      "Max reinitialize offset reached. Reinitializing fetcher.\n"
     ]
    },
    {
     "name": "stderr",
     "output_type": "stream",
     "text": [
      "Fetching data:  20%|█▉        | 390000/2000000 [05:57<14:01, 1913.34record/s]"
     ]
    },
    {
     "name": "stdout",
     "output_type": "stream",
     "text": [
      "Max reinitialize offset reached. Reinitializing fetcher.\n"
     ]
    },
    {
     "name": "stderr",
     "output_type": "stream",
     "text": [
      "Fetching data:  20%|██        | 400000/2000000 [06:07<13:48, 1930.26record/s]"
     ]
    },
    {
     "name": "stdout",
     "output_type": "stream",
     "text": [
      "Max reinitialize offset reached. Reinitializing fetcher.\n"
     ]
    },
    {
     "name": "stderr",
     "output_type": "stream",
     "text": [
      "Fetching data:  20%|██        | 410000/2000000 [06:17<14:00, 1891.32record/s]"
     ]
    },
    {
     "name": "stdout",
     "output_type": "stream",
     "text": [
      "Max reinitialize offset reached. Reinitializing fetcher.\n"
     ]
    },
    {
     "name": "stderr",
     "output_type": "stream",
     "text": [
      "Fetching data:  21%|██        | 420000/2000000 [06:26<14:07, 1864.24record/s]"
     ]
    },
    {
     "name": "stdout",
     "output_type": "stream",
     "text": [
      "Max reinitialize offset reached. Reinitializing fetcher.\n"
     ]
    },
    {
     "name": "stderr",
     "output_type": "stream",
     "text": [
      "Fetching data:  22%|██▏       | 430000/2000000 [06:37<16:31, 1583.56record/s]"
     ]
    },
    {
     "name": "stdout",
     "output_type": "stream",
     "text": [
      "Max reinitialize offset reached. Reinitializing fetcher.\n"
     ]
    },
    {
     "name": "stderr",
     "output_type": "stream",
     "text": [
      "Fetching data:  22%|██▏       | 440000/2000000 [06:47<14:53, 1745.37record/s]"
     ]
    },
    {
     "name": "stdout",
     "output_type": "stream",
     "text": [
      "Max reinitialize offset reached. Reinitializing fetcher.\n"
     ]
    },
    {
     "name": "stderr",
     "output_type": "stream",
     "text": [
      "Fetching data:  22%|██▎       | 450000/2000000 [06:56<13:44, 1878.90record/s]"
     ]
    },
    {
     "name": "stdout",
     "output_type": "stream",
     "text": [
      "Max reinitialize offset reached. Reinitializing fetcher.\n"
     ]
    },
    {
     "name": "stderr",
     "output_type": "stream",
     "text": [
      "Fetching data:  23%|██▎       | 460000/2000000 [07:06<14:39, 1750.65record/s]"
     ]
    },
    {
     "name": "stdout",
     "output_type": "stream",
     "text": [
      "Max reinitialize offset reached. Reinitializing fetcher.\n"
     ]
    },
    {
     "name": "stderr",
     "output_type": "stream",
     "text": [
      "Fetching data:  24%|██▎       | 470000/2000000 [07:16<13:28, 1891.44record/s]"
     ]
    },
    {
     "name": "stdout",
     "output_type": "stream",
     "text": [
      "Max reinitialize offset reached. Reinitializing fetcher.\n"
     ]
    },
    {
     "name": "stderr",
     "output_type": "stream",
     "text": [
      "Fetching data:  24%|██▍       | 480000/2000000 [07:26<15:30, 1634.37record/s]"
     ]
    },
    {
     "name": "stdout",
     "output_type": "stream",
     "text": [
      "Max reinitialize offset reached. Reinitializing fetcher.\n"
     ]
    },
    {
     "name": "stderr",
     "output_type": "stream",
     "text": [
      "Fetching data:  24%|██▍       | 490000/2000000 [07:36<13:33, 1856.48record/s]"
     ]
    },
    {
     "name": "stdout",
     "output_type": "stream",
     "text": [
      "Max reinitialize offset reached. Reinitializing fetcher.\n"
     ]
    },
    {
     "name": "stderr",
     "output_type": "stream",
     "text": [
      "Fetching data:  25%|██▌       | 500000/2000000 [07:46<13:47, 1811.68record/s]"
     ]
    },
    {
     "name": "stdout",
     "output_type": "stream",
     "text": [
      "Max reinitialize offset reached. Reinitializing fetcher.\n"
     ]
    },
    {
     "name": "stderr",
     "output_type": "stream",
     "text": [
      "Fetching data:  26%|██▌       | 510000/2000000 [07:56<14:47, 1678.99record/s]"
     ]
    },
    {
     "name": "stdout",
     "output_type": "stream",
     "text": [
      "Max reinitialize offset reached. Reinitializing fetcher.\n"
     ]
    },
    {
     "name": "stderr",
     "output_type": "stream",
     "text": [
      "Fetching data:  26%|██▌       | 520000/2000000 [08:08<19:57, 1235.66record/s]"
     ]
    },
    {
     "name": "stdout",
     "output_type": "stream",
     "text": [
      "Max reinitialize offset reached. Reinitializing fetcher.\n"
     ]
    },
    {
     "name": "stderr",
     "output_type": "stream",
     "text": [
      "Fetching data:  26%|██▋       | 530000/2000000 [08:18<14:12, 1723.42record/s]"
     ]
    },
    {
     "name": "stdout",
     "output_type": "stream",
     "text": [
      "Max reinitialize offset reached. Reinitializing fetcher.\n"
     ]
    },
    {
     "name": "stderr",
     "output_type": "stream",
     "text": [
      "Fetching data:  27%|██▋       | 540000/2000000 [08:28<15:22, 1583.29record/s]"
     ]
    },
    {
     "name": "stdout",
     "output_type": "stream",
     "text": [
      "Max reinitialize offset reached. Reinitializing fetcher.\n"
     ]
    },
    {
     "name": "stderr",
     "output_type": "stream",
     "text": [
      "Fetching data:  28%|██▊       | 550000/2000000 [08:39<16:49, 1436.49record/s]"
     ]
    },
    {
     "name": "stdout",
     "output_type": "stream",
     "text": [
      "Max reinitialize offset reached. Reinitializing fetcher.\n"
     ]
    },
    {
     "name": "stderr",
     "output_type": "stream",
     "text": [
      "Fetching data:  28%|██▊       | 560000/2000000 [08:50<14:04, 1704.30record/s]"
     ]
    },
    {
     "name": "stdout",
     "output_type": "stream",
     "text": [
      "Max reinitialize offset reached. Reinitializing fetcher.\n"
     ]
    },
    {
     "name": "stderr",
     "output_type": "stream",
     "text": [
      "Fetching data:  28%|██▊       | 570000/2000000 [09:00<13:33, 1758.60record/s]"
     ]
    },
    {
     "name": "stdout",
     "output_type": "stream",
     "text": [
      "Max reinitialize offset reached. Reinitializing fetcher.\n"
     ]
    },
    {
     "name": "stderr",
     "output_type": "stream",
     "text": [
      "Fetching data:  29%|██▉       | 580000/2000000 [09:10<14:37, 1618.40record/s]"
     ]
    },
    {
     "name": "stdout",
     "output_type": "stream",
     "text": [
      "Max reinitialize offset reached. Reinitializing fetcher.\n"
     ]
    },
    {
     "name": "stderr",
     "output_type": "stream",
     "text": [
      "Fetching data:  30%|██▉       | 590000/2000000 [09:20<13:41, 1717.05record/s]"
     ]
    },
    {
     "name": "stdout",
     "output_type": "stream",
     "text": [
      "Max reinitialize offset reached. Reinitializing fetcher.\n"
     ]
    },
    {
     "name": "stderr",
     "output_type": "stream",
     "text": [
      "Fetching data:  30%|███       | 600000/2000000 [09:30<12:48, 1822.07record/s]"
     ]
    },
    {
     "name": "stdout",
     "output_type": "stream",
     "text": [
      "Max reinitialize offset reached. Reinitializing fetcher.\n"
     ]
    },
    {
     "name": "stderr",
     "output_type": "stream",
     "text": [
      "Fetching data:  30%|███       | 610000/2000000 [09:40<12:59, 1783.48record/s]"
     ]
    },
    {
     "name": "stdout",
     "output_type": "stream",
     "text": [
      "Max reinitialize offset reached. Reinitializing fetcher.\n"
     ]
    },
    {
     "name": "stderr",
     "output_type": "stream",
     "text": [
      "Fetching data:  31%|███       | 620000/2000000 [09:51<13:26, 1710.81record/s]"
     ]
    },
    {
     "name": "stdout",
     "output_type": "stream",
     "text": [
      "Max reinitialize offset reached. Reinitializing fetcher.\n"
     ]
    },
    {
     "name": "stderr",
     "output_type": "stream",
     "text": [
      "Fetching data:  32%|███▏      | 630000/2000000 [10:01<14:07, 1616.33record/s]"
     ]
    },
    {
     "name": "stdout",
     "output_type": "stream",
     "text": [
      "Max reinitialize offset reached. Reinitializing fetcher.\n"
     ]
    },
    {
     "name": "stderr",
     "output_type": "stream",
     "text": [
      "Fetching data:  32%|███▏      | 640000/2000000 [10:11<13:55, 1626.82record/s]"
     ]
    },
    {
     "name": "stdout",
     "output_type": "stream",
     "text": [
      "Max reinitialize offset reached. Reinitializing fetcher.\n"
     ]
    },
    {
     "name": "stderr",
     "output_type": "stream",
     "text": [
      "Fetching data:  32%|███▎      | 650000/2000000 [10:22<13:19, 1688.56record/s]"
     ]
    },
    {
     "name": "stdout",
     "output_type": "stream",
     "text": [
      "Max reinitialize offset reached. Reinitializing fetcher.\n"
     ]
    },
    {
     "name": "stderr",
     "output_type": "stream",
     "text": [
      "Fetching data:  33%|███▎      | 660000/2000000 [10:32<13:23, 1668.65record/s]"
     ]
    },
    {
     "name": "stdout",
     "output_type": "stream",
     "text": [
      "Max reinitialize offset reached. Reinitializing fetcher.\n"
     ]
    },
    {
     "name": "stderr",
     "output_type": "stream",
     "text": [
      "Fetching data:  34%|███▎      | 670000/2000000 [10:42<12:47, 1732.24record/s]"
     ]
    },
    {
     "name": "stdout",
     "output_type": "stream",
     "text": [
      "Max reinitialize offset reached. Reinitializing fetcher.\n"
     ]
    },
    {
     "name": "stderr",
     "output_type": "stream",
     "text": [
      "Fetching data:  34%|███▍      | 680000/2000000 [10:53<13:14, 1662.03record/s]"
     ]
    },
    {
     "name": "stdout",
     "output_type": "stream",
     "text": [
      "Max reinitialize offset reached. Reinitializing fetcher.\n"
     ]
    },
    {
     "name": "stderr",
     "output_type": "stream",
     "text": [
      "Fetching data:  34%|███▍      | 690000/2000000 [11:04<13:57, 1563.65record/s]"
     ]
    },
    {
     "name": "stdout",
     "output_type": "stream",
     "text": [
      "Max reinitialize offset reached. Reinitializing fetcher.\n"
     ]
    },
    {
     "name": "stderr",
     "output_type": "stream",
     "text": [
      "Fetching data:  35%|███▌      | 700000/2000000 [11:14<13:43, 1579.32record/s]"
     ]
    },
    {
     "name": "stdout",
     "output_type": "stream",
     "text": [
      "Max reinitialize offset reached. Reinitializing fetcher.\n"
     ]
    },
    {
     "name": "stderr",
     "output_type": "stream",
     "text": [
      "Fetching data:  36%|███▌      | 710000/2000000 [11:25<13:20, 1611.37record/s]"
     ]
    },
    {
     "name": "stdout",
     "output_type": "stream",
     "text": [
      "Max reinitialize offset reached. Reinitializing fetcher.\n"
     ]
    },
    {
     "name": "stderr",
     "output_type": "stream",
     "text": [
      "Fetching data:  36%|███▌      | 720000/2000000 [11:36<12:50, 1661.66record/s]"
     ]
    },
    {
     "name": "stdout",
     "output_type": "stream",
     "text": [
      "Max reinitialize offset reached. Reinitializing fetcher.\n"
     ]
    },
    {
     "name": "stderr",
     "output_type": "stream",
     "text": [
      "Fetching data:  36%|███▋      | 730000/2000000 [11:47<14:23, 1470.77record/s]"
     ]
    },
    {
     "name": "stdout",
     "output_type": "stream",
     "text": [
      "Max reinitialize offset reached. Reinitializing fetcher.\n"
     ]
    },
    {
     "name": "stderr",
     "output_type": "stream",
     "text": [
      "Fetching data:  37%|███▋      | 740000/2000000 [11:58<13:03, 1608.73record/s]"
     ]
    },
    {
     "name": "stdout",
     "output_type": "stream",
     "text": [
      "Max reinitialize offset reached. Reinitializing fetcher.\n"
     ]
    },
    {
     "name": "stderr",
     "output_type": "stream",
     "text": [
      "Fetching data:  38%|███▊      | 750000/2000000 [12:08<12:39, 1645.28record/s]"
     ]
    },
    {
     "name": "stdout",
     "output_type": "stream",
     "text": [
      "Max reinitialize offset reached. Reinitializing fetcher.\n"
     ]
    },
    {
     "name": "stderr",
     "output_type": "stream",
     "text": [
      "Fetching data:  38%|███▊      | 760000/2000000 [12:19<12:39, 1632.33record/s]"
     ]
    },
    {
     "name": "stdout",
     "output_type": "stream",
     "text": [
      "Max reinitialize offset reached. Reinitializing fetcher.\n"
     ]
    },
    {
     "name": "stderr",
     "output_type": "stream",
     "text": [
      "Fetching data:  38%|███▊      | 770000/2000000 [12:30<12:51, 1595.33record/s]"
     ]
    },
    {
     "name": "stdout",
     "output_type": "stream",
     "text": [
      "Max reinitialize offset reached. Reinitializing fetcher.\n"
     ]
    },
    {
     "name": "stderr",
     "output_type": "stream",
     "text": [
      "Fetching data:  39%|███▉      | 780000/2000000 [12:41<14:36, 1391.35record/s]"
     ]
    },
    {
     "name": "stdout",
     "output_type": "stream",
     "text": [
      "Max reinitialize offset reached. Reinitializing fetcher.\n"
     ]
    },
    {
     "name": "stderr",
     "output_type": "stream",
     "text": [
      "Fetching data:  40%|███▉      | 790000/2000000 [12:53<17:53, 1127.02record/s]"
     ]
    },
    {
     "name": "stdout",
     "output_type": "stream",
     "text": [
      "Max reinitialize offset reached. Reinitializing fetcher.\n"
     ]
    },
    {
     "name": "stderr",
     "output_type": "stream",
     "text": [
      "Fetching data:  40%|████      | 800000/2000000 [13:05<14:19, 1396.32record/s]"
     ]
    },
    {
     "name": "stdout",
     "output_type": "stream",
     "text": [
      "Max reinitialize offset reached. Reinitializing fetcher.\n"
     ]
    },
    {
     "name": "stderr",
     "output_type": "stream",
     "text": [
      "Fetching data:  40%|████      | 810000/2000000 [13:17<14:12, 1395.61record/s]"
     ]
    },
    {
     "name": "stdout",
     "output_type": "stream",
     "text": [
      "Max reinitialize offset reached. Reinitializing fetcher.\n"
     ]
    },
    {
     "name": "stderr",
     "output_type": "stream",
     "text": [
      "Fetching data:  41%|████      | 820000/2000000 [13:28<13:50, 1421.11record/s]"
     ]
    },
    {
     "name": "stdout",
     "output_type": "stream",
     "text": [
      "Max reinitialize offset reached. Reinitializing fetcher.\n"
     ]
    },
    {
     "name": "stderr",
     "output_type": "stream",
     "text": [
      "Fetching data:  42%|████▏     | 830000/2000000 [13:39<12:28, 1564.16record/s]"
     ]
    },
    {
     "name": "stdout",
     "output_type": "stream",
     "text": [
      "Max reinitialize offset reached. Reinitializing fetcher.\n"
     ]
    },
    {
     "name": "stderr",
     "output_type": "stream",
     "text": [
      "Fetching data:  42%|████▏     | 840000/2000000 [13:50<12:13, 1580.91record/s]"
     ]
    },
    {
     "name": "stdout",
     "output_type": "stream",
     "text": [
      "Max reinitialize offset reached. Reinitializing fetcher.\n"
     ]
    },
    {
     "name": "stderr",
     "output_type": "stream",
     "text": [
      "Fetching data:  42%|████▎     | 850000/2000000 [14:00<12:29, 1534.50record/s]"
     ]
    },
    {
     "name": "stdout",
     "output_type": "stream",
     "text": [
      "Max reinitialize offset reached. Reinitializing fetcher.\n"
     ]
    },
    {
     "name": "stderr",
     "output_type": "stream",
     "text": [
      "Fetching data:  43%|████▎     | 860000/2000000 [14:11<12:38, 1503.06record/s]"
     ]
    },
    {
     "name": "stdout",
     "output_type": "stream",
     "text": [
      "Max reinitialize offset reached. Reinitializing fetcher.\n"
     ]
    },
    {
     "name": "stderr",
     "output_type": "stream",
     "text": [
      "Fetching data:  44%|████▎     | 870000/2000000 [14:23<13:43, 1372.93record/s]"
     ]
    },
    {
     "name": "stdout",
     "output_type": "stream",
     "text": [
      "Max reinitialize offset reached. Reinitializing fetcher.\n"
     ]
    },
    {
     "name": "stderr",
     "output_type": "stream",
     "text": [
      "Fetching data:  44%|████▍     | 880000/2000000 [14:34<11:57, 1560.02record/s]"
     ]
    },
    {
     "name": "stdout",
     "output_type": "stream",
     "text": [
      "Max reinitialize offset reached. Reinitializing fetcher.\n"
     ]
    },
    {
     "name": "stderr",
     "output_type": "stream",
     "text": [
      "Fetching data:  44%|████▍     | 890000/2000000 [14:45<12:04, 1531.79record/s]"
     ]
    },
    {
     "name": "stdout",
     "output_type": "stream",
     "text": [
      "Max reinitialize offset reached. Reinitializing fetcher.\n"
     ]
    },
    {
     "name": "stderr",
     "output_type": "stream",
     "text": [
      "Fetching data:  45%|████▌     | 900000/2000000 [14:56<12:05, 1516.28record/s]"
     ]
    },
    {
     "name": "stdout",
     "output_type": "stream",
     "text": [
      "Max reinitialize offset reached. Reinitializing fetcher.\n"
     ]
    },
    {
     "name": "stderr",
     "output_type": "stream",
     "text": [
      "Fetching data:  46%|████▌     | 910000/2000000 [15:07<12:10, 1491.86record/s]"
     ]
    },
    {
     "name": "stdout",
     "output_type": "stream",
     "text": [
      "Max reinitialize offset reached. Reinitializing fetcher.\n"
     ]
    },
    {
     "name": "stderr",
     "output_type": "stream",
     "text": [
      "Fetching data:  46%|████▌     | 920000/2000000 [15:19<14:52, 1210.12record/s]"
     ]
    },
    {
     "name": "stdout",
     "output_type": "stream",
     "text": [
      "Max reinitialize offset reached. Reinitializing fetcher.\n"
     ]
    },
    {
     "name": "stderr",
     "output_type": "stream",
     "text": [
      "Fetching data:  46%|████▋     | 930000/2000000 [15:31<13:39, 1305.16record/s]"
     ]
    },
    {
     "name": "stdout",
     "output_type": "stream",
     "text": [
      "Max reinitialize offset reached. Reinitializing fetcher.\n"
     ]
    },
    {
     "name": "stderr",
     "output_type": "stream",
     "text": [
      "Fetching data:  47%|████▋     | 940000/2000000 [15:43<12:09, 1452.97record/s]"
     ]
    },
    {
     "name": "stdout",
     "output_type": "stream",
     "text": [
      "Max reinitialize offset reached. Reinitializing fetcher.\n"
     ]
    },
    {
     "name": "stderr",
     "output_type": "stream",
     "text": [
      "Fetching data:  48%|████▊     | 950000/2000000 [15:54<12:23, 1412.15record/s]"
     ]
    },
    {
     "name": "stdout",
     "output_type": "stream",
     "text": [
      "Max reinitialize offset reached. Reinitializing fetcher.\n"
     ]
    },
    {
     "name": "stderr",
     "output_type": "stream",
     "text": [
      "Fetching data:  48%|████▊     | 960000/2000000 [16:06<14:42, 1178.42record/s]"
     ]
    },
    {
     "name": "stdout",
     "output_type": "stream",
     "text": [
      "Max reinitialize offset reached. Reinitializing fetcher.\n"
     ]
    },
    {
     "name": "stderr",
     "output_type": "stream",
     "text": [
      "Fetching data:  48%|████▊     | 970000/2000000 [16:18<13:07, 1308.39record/s]"
     ]
    },
    {
     "name": "stdout",
     "output_type": "stream",
     "text": [
      "Max reinitialize offset reached. Reinitializing fetcher.\n"
     ]
    },
    {
     "name": "stderr",
     "output_type": "stream",
     "text": [
      "Fetching data:  49%|████▉     | 980000/2000000 [16:30<11:36, 1464.30record/s]"
     ]
    },
    {
     "name": "stdout",
     "output_type": "stream",
     "text": [
      "Max reinitialize offset reached. Reinitializing fetcher.\n"
     ]
    },
    {
     "name": "stderr",
     "output_type": "stream",
     "text": [
      "Fetching data:  50%|████▉     | 990000/2000000 [16:41<12:12, 1379.65record/s]"
     ]
    },
    {
     "name": "stdout",
     "output_type": "stream",
     "text": [
      "Max reinitialize offset reached. Reinitializing fetcher.\n"
     ]
    },
    {
     "name": "stderr",
     "output_type": "stream",
     "text": [
      "Fetching data:  50%|█████     | 1000000/2000000 [16:53<12:13, 1363.33record/s]"
     ]
    },
    {
     "name": "stdout",
     "output_type": "stream",
     "text": [
      "Max reinitialize offset reached. Reinitializing fetcher.\n"
     ]
    },
    {
     "name": "stderr",
     "output_type": "stream",
     "text": [
      "Fetching data:  50%|█████     | 1010000/2000000 [17:04<11:50, 1394.34record/s]"
     ]
    },
    {
     "name": "stdout",
     "output_type": "stream",
     "text": [
      "Max reinitialize offset reached. Reinitializing fetcher.\n"
     ]
    },
    {
     "name": "stderr",
     "output_type": "stream",
     "text": [
      "Fetching data:  51%|█████     | 1020000/2000000 [17:16<10:58, 1488.00record/s]"
     ]
    },
    {
     "name": "stdout",
     "output_type": "stream",
     "text": [
      "Max reinitialize offset reached. Reinitializing fetcher.\n"
     ]
    },
    {
     "name": "stderr",
     "output_type": "stream",
     "text": [
      "Fetching data:  52%|█████▏    | 1030000/2000000 [17:27<11:32, 1400.91record/s]"
     ]
    },
    {
     "name": "stdout",
     "output_type": "stream",
     "text": [
      "Max reinitialize offset reached. Reinitializing fetcher.\n"
     ]
    },
    {
     "name": "stderr",
     "output_type": "stream",
     "text": [
      "Fetching data:  52%|█████▏    | 1040000/2000000 [17:39<11:13, 1425.02record/s]"
     ]
    },
    {
     "name": "stdout",
     "output_type": "stream",
     "text": [
      "Max reinitialize offset reached. Reinitializing fetcher.\n"
     ]
    },
    {
     "name": "stderr",
     "output_type": "stream",
     "text": [
      "Fetching data:  52%|█████▎    | 1050000/2000000 [17:50<11:01, 1435.58record/s]"
     ]
    },
    {
     "name": "stdout",
     "output_type": "stream",
     "text": [
      "Max reinitialize offset reached. Reinitializing fetcher.\n"
     ]
    },
    {
     "name": "stderr",
     "output_type": "stream",
     "text": [
      "Fetching data:  53%|█████▎    | 1060000/2000000 [18:01<11:31, 1359.75record/s]"
     ]
    },
    {
     "name": "stdout",
     "output_type": "stream",
     "text": [
      "Max reinitialize offset reached. Reinitializing fetcher.\n"
     ]
    },
    {
     "name": "stderr",
     "output_type": "stream",
     "text": [
      "Fetching data:  54%|█████▎    | 1070000/2000000 [18:13<11:07, 1392.67record/s]"
     ]
    },
    {
     "name": "stdout",
     "output_type": "stream",
     "text": [
      "Max reinitialize offset reached. Reinitializing fetcher.\n"
     ]
    },
    {
     "name": "stderr",
     "output_type": "stream",
     "text": [
      "Fetching data:  54%|█████▍    | 1080000/2000000 [18:24<11:11, 1370.89record/s]"
     ]
    },
    {
     "name": "stdout",
     "output_type": "stream",
     "text": [
      "Max reinitialize offset reached. Reinitializing fetcher.\n"
     ]
    },
    {
     "name": "stderr",
     "output_type": "stream",
     "text": [
      "Fetching data:  55%|█████▍    | 1090000/2000000 [18:36<11:20, 1336.45record/s]"
     ]
    },
    {
     "name": "stdout",
     "output_type": "stream",
     "text": [
      "Max reinitialize offset reached. Reinitializing fetcher.\n"
     ]
    },
    {
     "name": "stderr",
     "output_type": "stream",
     "text": [
      "Fetching data:  55%|█████▌    | 1100000/2000000 [18:48<11:05, 1352.63record/s]"
     ]
    },
    {
     "name": "stdout",
     "output_type": "stream",
     "text": [
      "Max reinitialize offset reached. Reinitializing fetcher.\n"
     ]
    },
    {
     "name": "stderr",
     "output_type": "stream",
     "text": [
      "Fetching data:  56%|█████▌    | 1110000/2000000 [18:59<10:37, 1395.19record/s]"
     ]
    },
    {
     "name": "stdout",
     "output_type": "stream",
     "text": [
      "Max reinitialize offset reached. Reinitializing fetcher.\n"
     ]
    },
    {
     "name": "stderr",
     "output_type": "stream",
     "text": [
      "Fetching data:  56%|█████▌    | 1116000/2000000 [19:08<13:51, 1063.66record/s]"
     ]
    },
    {
     "name": "stdout",
     "output_type": "stream",
     "text": [
      "No more data to fetch, attempt 1/5.\n",
      "No more data to fetch, attempt 2/5.\n",
      "No more data to fetch, attempt 3/5.\n"
     ]
    },
    {
     "name": "stderr",
     "output_type": "stream",
     "text": [
      "Fetching data:  56%|█████▌    | 1116000/2000000 [19:20<13:51, 1063.66record/s]"
     ]
    },
    {
     "name": "stdout",
     "output_type": "stream",
     "text": [
      "No more data to fetch, attempt 4/5.\n"
     ]
    },
    {
     "name": "stderr",
     "output_type": "stream",
     "text": [
      "Fetching data:  56%|█████▌    | 1116000/2000000 [19:31<15:27, 952.90record/s] "
     ]
    },
    {
     "name": "stdout",
     "output_type": "stream",
     "text": [
      "No more data to fetch, attempt 5/5.\n",
      "Maximum consecutive no data attempts reached, stopping fetch process.\n",
      "Storage directory 'C:/Users/mike/Data/Public' is ready.\n"
     ]
    },
    {
     "name": "stderr",
     "output_type": "stream",
     "text": [
      "\n"
     ]
    },
    {
     "name": "stdout",
     "output_type": "stream",
     "text": [
      "Data written to 'C:/Users/mike/Data/Public\\LAPD_Crime_Data.json'.\n",
      "Compressing file 'C:/Users/mike/Data/Public\\LAPD_Crime_Data.json' to 'C:/Users/mike/Data/Public\\LAPD_Crime_Data.json.zip'\n",
      "Data compressed to 'C:/Users/mike/Data/Public\\LAPD_Crime_Data.json.zip'.\n",
      "Data fetching and storing process completed.\n"
     ]
    }
   ],
   "source": [
    "from datetime import datetime\n",
    "from dateutil.relativedelta import relativedelta\n",
    "import sys\n",
    "sys.path.append('../../../Common')\n",
    "sys.path.append('../../../Common/Functions')\n",
    "from func_Fetch_Data_v2 import fetch_store_data, JSONDataFetcher\n",
    "\n",
    "from_date = datetime.now() - relativedelta(months=60)\n",
    "from_date = from_date.replace(day=1)\n",
    "from_date_str = from_date.isoformat()\n",
    "where_clause = f\"date_rptd>='{from_date_str}'\"\n",
    "if __name__ == \"__main__\":\n",
    "    url = \"https://data.lacity.org/resource/2nrs-mtv8.json?$limit={}&$offset={}&$where={}\"\n",
    "    chunk_size = 1000\n",
    "    where_clause = where_clause\n",
    "    fetcher = JSONDataFetcher(url, chunk_size, where_clause)\n",
    "    limit = 2000000\n",
    "    offset = 0\n",
    "    storage_dir='C:/Users/mike/Data/Public'\n",
    "    storage_file='LAPD_Crime_Data.json'\n",
    "    compress = True\n",
    "    mode = 'w'\n",
    "    pause_duration=2\n",
    "    max_reinitialize_offset=10000\n",
    "\n",
    "    fetch_store_data(fetcher, limit, offset, storage_dir, storage_file, compress, mode)"
   ]
  },
  {
   "cell_type": "markdown",
   "metadata": {},
   "source": [
    "## Got 585K rows, can go back further for more data. But the new Fetch Func works great!"
   ]
  }
 ],
 "metadata": {
  "kernelspec": {
   "display_name": "Python 3",
   "language": "python",
   "name": "python3"
  },
  "language_info": {
   "codemirror_mode": {
    "name": "ipython",
    "version": 3
   },
   "file_extension": ".py",
   "mimetype": "text/x-python",
   "name": "python",
   "nbconvert_exporter": "python",
   "pygments_lexer": "ipython3",
   "version": "3.13.1"
  }
 },
 "nbformat": 4,
 "nbformat_minor": 2
}
