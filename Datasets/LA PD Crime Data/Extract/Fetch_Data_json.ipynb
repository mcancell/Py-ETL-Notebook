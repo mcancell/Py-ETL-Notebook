{
 "cells": [
  {
   "cell_type": "markdown",
   "metadata": {},
   "source": [
    "# Fetch the Crime Data\n",
    "Let's try for 250,000 rows"
   ]
  },
  {
   "cell_type": "code",
   "execution_count": 1,
   "metadata": {},
   "outputs": [
    {
     "name": "stderr",
     "output_type": "stream",
     "text": [
      "Fetching data:   0%|          | 0/1000000 [00:00<?, ?record/s]"
     ]
    },
    {
     "name": "stdout",
     "output_type": "stream",
     "text": [
      "Error fetching data: HTTPSConnectionPool(host='data.lacity.org', port=443): Read timed out. (read timeout=10)\n",
      "Retrying after 5 seconds...\n"
     ]
    },
    {
     "name": "stderr",
     "output_type": "stream",
     "text": [
      "Fetching data:   0%|          | 3000/1000000 [00:17<1:07:48, 245.07record/s]"
     ]
    },
    {
     "name": "stdout",
     "output_type": "stream",
     "text": [
      "Error fetching data: HTTPSConnectionPool(host='data.lacity.org', port=443): Read timed out. (read timeout=10)\n",
      "Retrying after 5 seconds...\n"
     ]
    },
    {
     "name": "stderr",
     "output_type": "stream",
     "text": [
      "Fetching data:   1%|          | 10000/1000000 [01:03<1:09:33, 237.20record/s]"
     ]
    },
    {
     "name": "stdout",
     "output_type": "stream",
     "text": [
      "Max reinitialize offset reached. Reinitializing fetcher.\n"
     ]
    },
    {
     "name": "stderr",
     "output_type": "stream",
     "text": [
      "Fetching data:   2%|▏         | 20000/1000000 [01:18<19:40, 830.34record/s]  "
     ]
    },
    {
     "name": "stdout",
     "output_type": "stream",
     "text": [
      "Max reinitialize offset reached. Reinitializing fetcher.\n"
     ]
    },
    {
     "name": "stderr",
     "output_type": "stream",
     "text": [
      "Fetching data:   3%|▎         | 30000/1000000 [01:30<10:29, 1539.92record/s]"
     ]
    },
    {
     "name": "stdout",
     "output_type": "stream",
     "text": [
      "Max reinitialize offset reached. Reinitializing fetcher.\n"
     ]
    },
    {
     "name": "stderr",
     "output_type": "stream",
     "text": [
      "Fetching data:   4%|▍         | 40000/1000000 [01:43<13:30, 1185.18record/s]"
     ]
    },
    {
     "name": "stdout",
     "output_type": "stream",
     "text": [
      "Max reinitialize offset reached. Reinitializing fetcher.\n"
     ]
    },
    {
     "name": "stderr",
     "output_type": "stream",
     "text": [
      "Fetching data:   5%|▌         | 50000/1000000 [01:55<12:28, 1269.99record/s]"
     ]
    },
    {
     "name": "stdout",
     "output_type": "stream",
     "text": [
      "Max reinitialize offset reached. Reinitializing fetcher.\n"
     ]
    },
    {
     "name": "stderr",
     "output_type": "stream",
     "text": [
      "Fetching data:   6%|▌         | 60000/1000000 [02:07<12:27, 1256.75record/s]"
     ]
    },
    {
     "name": "stdout",
     "output_type": "stream",
     "text": [
      "Max reinitialize offset reached. Reinitializing fetcher.\n"
     ]
    },
    {
     "name": "stderr",
     "output_type": "stream",
     "text": [
      "Fetching data:   7%|▋         | 70000/1000000 [02:20<13:03, 1186.99record/s]"
     ]
    },
    {
     "name": "stdout",
     "output_type": "stream",
     "text": [
      "Max reinitialize offset reached. Reinitializing fetcher.\n"
     ]
    },
    {
     "name": "stderr",
     "output_type": "stream",
     "text": [
      "Fetching data:   8%|▊         | 80000/1000000 [02:33<13:32, 1132.18record/s]"
     ]
    },
    {
     "name": "stdout",
     "output_type": "stream",
     "text": [
      "Max reinitialize offset reached. Reinitializing fetcher.\n"
     ]
    },
    {
     "name": "stderr",
     "output_type": "stream",
     "text": [
      "Fetching data:   9%|▉         | 90000/1000000 [02:45<11:35, 1307.98record/s]"
     ]
    },
    {
     "name": "stdout",
     "output_type": "stream",
     "text": [
      "Max reinitialize offset reached. Reinitializing fetcher.\n"
     ]
    },
    {
     "name": "stderr",
     "output_type": "stream",
     "text": [
      "Fetching data:  10%|█         | 100000/1000000 [02:56<09:23, 1598.52record/s]"
     ]
    },
    {
     "name": "stdout",
     "output_type": "stream",
     "text": [
      "Max reinitialize offset reached. Reinitializing fetcher.\n"
     ]
    },
    {
     "name": "stderr",
     "output_type": "stream",
     "text": [
      "Fetching data:  11%|█         | 110000/1000000 [03:08<11:09, 1328.68record/s]"
     ]
    },
    {
     "name": "stdout",
     "output_type": "stream",
     "text": [
      "Max reinitialize offset reached. Reinitializing fetcher.\n"
     ]
    },
    {
     "name": "stderr",
     "output_type": "stream",
     "text": [
      "Fetching data:  12%|█▏        | 120000/1000000 [03:20<10:33, 1388.44record/s]"
     ]
    },
    {
     "name": "stdout",
     "output_type": "stream",
     "text": [
      "Max reinitialize offset reached. Reinitializing fetcher.\n"
     ]
    },
    {
     "name": "stderr",
     "output_type": "stream",
     "text": [
      "Fetching data:  13%|█▎        | 130000/1000000 [03:32<11:59, 1209.04record/s]"
     ]
    },
    {
     "name": "stdout",
     "output_type": "stream",
     "text": [
      "Max reinitialize offset reached. Reinitializing fetcher.\n"
     ]
    },
    {
     "name": "stderr",
     "output_type": "stream",
     "text": [
      "Fetching data:  14%|█▍        | 140000/1000000 [03:46<13:44, 1043.13record/s]"
     ]
    },
    {
     "name": "stdout",
     "output_type": "stream",
     "text": [
      "Max reinitialize offset reached. Reinitializing fetcher.\n"
     ]
    },
    {
     "name": "stderr",
     "output_type": "stream",
     "text": [
      "Fetching data:  15%|█▌        | 150000/1000000 [03:58<12:44, 1112.00record/s]"
     ]
    },
    {
     "name": "stdout",
     "output_type": "stream",
     "text": [
      "Max reinitialize offset reached. Reinitializing fetcher.\n"
     ]
    },
    {
     "name": "stderr",
     "output_type": "stream",
     "text": [
      "Fetching data:  16%|█▌        | 160000/1000000 [04:10<10:33, 1326.65record/s]"
     ]
    },
    {
     "name": "stdout",
     "output_type": "stream",
     "text": [
      "Max reinitialize offset reached. Reinitializing fetcher.\n"
     ]
    },
    {
     "name": "stderr",
     "output_type": "stream",
     "text": [
      "Fetching data:  17%|█▋        | 170000/1000000 [04:22<09:55, 1393.75record/s]"
     ]
    },
    {
     "name": "stdout",
     "output_type": "stream",
     "text": [
      "Max reinitialize offset reached. Reinitializing fetcher.\n"
     ]
    },
    {
     "name": "stderr",
     "output_type": "stream",
     "text": [
      "Fetching data:  18%|█▊        | 180000/1000000 [04:36<10:07, 1349.35record/s]"
     ]
    },
    {
     "name": "stdout",
     "output_type": "stream",
     "text": [
      "Max reinitialize offset reached. Reinitializing fetcher.\n"
     ]
    },
    {
     "name": "stderr",
     "output_type": "stream",
     "text": [
      "Fetching data:  19%|█▉        | 190000/1000000 [04:48<10:42, 1261.54record/s]"
     ]
    },
    {
     "name": "stdout",
     "output_type": "stream",
     "text": [
      "Max reinitialize offset reached. Reinitializing fetcher.\n"
     ]
    },
    {
     "name": "stderr",
     "output_type": "stream",
     "text": [
      "Fetching data:  20%|██        | 200000/1000000 [04:59<09:19, 1429.61record/s]"
     ]
    },
    {
     "name": "stdout",
     "output_type": "stream",
     "text": [
      "Max reinitialize offset reached. Reinitializing fetcher.\n"
     ]
    },
    {
     "name": "stderr",
     "output_type": "stream",
     "text": [
      "Fetching data:  21%|██        | 210000/1000000 [05:12<10:13, 1286.90record/s]"
     ]
    },
    {
     "name": "stdout",
     "output_type": "stream",
     "text": [
      "Max reinitialize offset reached. Reinitializing fetcher.\n"
     ]
    },
    {
     "name": "stderr",
     "output_type": "stream",
     "text": [
      "Fetching data:  22%|██▏       | 220000/1000000 [05:23<08:52, 1465.49record/s]"
     ]
    },
    {
     "name": "stdout",
     "output_type": "stream",
     "text": [
      "Max reinitialize offset reached. Reinitializing fetcher.\n"
     ]
    },
    {
     "name": "stderr",
     "output_type": "stream",
     "text": [
      "Fetching data:  22%|██▏       | 224000/1000000 [05:31<15:03, 858.90record/s] "
     ]
    },
    {
     "name": "stdout",
     "output_type": "stream",
     "text": [
      "Error fetching data: HTTPSConnectionPool(host='data.lacity.org', port=443): Read timed out. (read timeout=10)\n",
      "Retrying after 5 seconds...\n"
     ]
    },
    {
     "name": "stderr",
     "output_type": "stream",
     "text": [
      "Fetching data:  23%|██▎       | 230000/1000000 [05:51<20:55, 613.36record/s]  "
     ]
    },
    {
     "name": "stdout",
     "output_type": "stream",
     "text": [
      "Max reinitialize offset reached. Reinitializing fetcher.\n",
      "Error fetching data: HTTPSConnectionPool(host='data.lacity.org', port=443): Read timed out. (read timeout=10)\n",
      "Retrying after 5 seconds...\n"
     ]
    },
    {
     "name": "stderr",
     "output_type": "stream",
     "text": [
      "Fetching data:  24%|██▍       | 240000/1000000 [06:19<14:48, 855.57record/s]  "
     ]
    },
    {
     "name": "stdout",
     "output_type": "stream",
     "text": [
      "Max reinitialize offset reached. Reinitializing fetcher.\n"
     ]
    },
    {
     "name": "stderr",
     "output_type": "stream",
     "text": [
      "Fetching data:  25%|██▌       | 250000/1000000 [06:34<12:34, 994.56record/s]"
     ]
    },
    {
     "name": "stdout",
     "output_type": "stream",
     "text": [
      "Max reinitialize offset reached. Reinitializing fetcher.\n"
     ]
    },
    {
     "name": "stderr",
     "output_type": "stream",
     "text": [
      "Fetching data:  26%|██▌       | 260000/1000000 [06:47<10:59, 1121.40record/s]"
     ]
    },
    {
     "name": "stdout",
     "output_type": "stream",
     "text": [
      "Max reinitialize offset reached. Reinitializing fetcher.\n"
     ]
    },
    {
     "name": "stderr",
     "output_type": "stream",
     "text": [
      "Fetching data:  27%|██▋       | 270000/1000000 [07:01<10:50, 1121.84record/s]"
     ]
    },
    {
     "name": "stdout",
     "output_type": "stream",
     "text": [
      "Max reinitialize offset reached. Reinitializing fetcher.\n"
     ]
    },
    {
     "name": "stderr",
     "output_type": "stream",
     "text": [
      "Fetching data:  28%|██▊       | 280000/1000000 [07:14<10:38, 1126.95record/s]"
     ]
    },
    {
     "name": "stdout",
     "output_type": "stream",
     "text": [
      "Max reinitialize offset reached. Reinitializing fetcher.\n"
     ]
    },
    {
     "name": "stderr",
     "output_type": "stream",
     "text": [
      "Fetching data:  29%|██▉       | 290000/1000000 [07:26<08:56, 1322.39record/s]"
     ]
    },
    {
     "name": "stdout",
     "output_type": "stream",
     "text": [
      "Max reinitialize offset reached. Reinitializing fetcher.\n"
     ]
    },
    {
     "name": "stderr",
     "output_type": "stream",
     "text": [
      "Fetching data:  30%|███       | 300000/1000000 [07:40<09:39, 1207.31record/s]"
     ]
    },
    {
     "name": "stdout",
     "output_type": "stream",
     "text": [
      "Max reinitialize offset reached. Reinitializing fetcher.\n"
     ]
    },
    {
     "name": "stderr",
     "output_type": "stream",
     "text": [
      "Fetching data:  31%|███       | 310000/1000000 [07:53<09:18, 1234.59record/s]"
     ]
    },
    {
     "name": "stdout",
     "output_type": "stream",
     "text": [
      "Max reinitialize offset reached. Reinitializing fetcher.\n"
     ]
    },
    {
     "name": "stderr",
     "output_type": "stream",
     "text": [
      "Fetching data:  32%|███▏      | 320000/1000000 [08:05<09:06, 1243.83record/s]"
     ]
    },
    {
     "name": "stdout",
     "output_type": "stream",
     "text": [
      "Max reinitialize offset reached. Reinitializing fetcher.\n"
     ]
    },
    {
     "name": "stderr",
     "output_type": "stream",
     "text": [
      "Fetching data:  33%|███▎      | 330000/1000000 [08:18<08:51, 1260.41record/s]"
     ]
    },
    {
     "name": "stdout",
     "output_type": "stream",
     "text": [
      "Max reinitialize offset reached. Reinitializing fetcher.\n"
     ]
    },
    {
     "name": "stderr",
     "output_type": "stream",
     "text": [
      "Fetching data:  34%|███▍      | 340000/1000000 [08:31<10:38, 1033.62record/s]"
     ]
    },
    {
     "name": "stdout",
     "output_type": "stream",
     "text": [
      "Max reinitialize offset reached. Reinitializing fetcher.\n"
     ]
    },
    {
     "name": "stderr",
     "output_type": "stream",
     "text": [
      "Fetching data:  35%|███▌      | 350000/1000000 [08:56<13:53, 780.03record/s] "
     ]
    },
    {
     "name": "stdout",
     "output_type": "stream",
     "text": [
      "Max reinitialize offset reached. Reinitializing fetcher.\n"
     ]
    },
    {
     "name": "stderr",
     "output_type": "stream",
     "text": [
      "Fetching data:  36%|███▌      | 360000/1000000 [09:11<10:51, 982.72record/s]"
     ]
    },
    {
     "name": "stdout",
     "output_type": "stream",
     "text": [
      "Max reinitialize offset reached. Reinitializing fetcher.\n"
     ]
    },
    {
     "name": "stderr",
     "output_type": "stream",
     "text": [
      "Fetching data:  37%|███▋      | 370000/1000000 [09:30<17:22, 604.45record/s]"
     ]
    },
    {
     "name": "stdout",
     "output_type": "stream",
     "text": [
      "Max reinitialize offset reached. Reinitializing fetcher.\n"
     ]
    },
    {
     "name": "stderr",
     "output_type": "stream",
     "text": [
      "Fetching data:  38%|███▊      | 380000/1000000 [09:50<14:06, 732.38record/s]"
     ]
    },
    {
     "name": "stdout",
     "output_type": "stream",
     "text": [
      "Max reinitialize offset reached. Reinitializing fetcher.\n"
     ]
    },
    {
     "name": "stderr",
     "output_type": "stream",
     "text": [
      "Fetching data:  39%|███▉      | 390000/1000000 [10:04<09:34, 1061.41record/s]"
     ]
    },
    {
     "name": "stdout",
     "output_type": "stream",
     "text": [
      "Max reinitialize offset reached. Reinitializing fetcher.\n"
     ]
    },
    {
     "name": "stderr",
     "output_type": "stream",
     "text": [
      "Fetching data:  40%|████      | 400000/1000000 [10:19<10:24, 961.06record/s] "
     ]
    },
    {
     "name": "stdout",
     "output_type": "stream",
     "text": [
      "Max reinitialize offset reached. Reinitializing fetcher.\n"
     ]
    },
    {
     "name": "stderr",
     "output_type": "stream",
     "text": [
      "Fetching data:  41%|████      | 410000/1000000 [10:34<11:25, 860.48record/s]"
     ]
    },
    {
     "name": "stdout",
     "output_type": "stream",
     "text": [
      "Max reinitialize offset reached. Reinitializing fetcher.\n"
     ]
    },
    {
     "name": "stderr",
     "output_type": "stream",
     "text": [
      "Fetching data:  42%|████▏     | 420000/1000000 [10:50<12:21, 782.23record/s]"
     ]
    },
    {
     "name": "stdout",
     "output_type": "stream",
     "text": [
      "Max reinitialize offset reached. Reinitializing fetcher.\n"
     ]
    },
    {
     "name": "stderr",
     "output_type": "stream",
     "text": [
      "Fetching data:  43%|████▎     | 430000/1000000 [11:06<09:38, 985.98record/s]"
     ]
    },
    {
     "name": "stdout",
     "output_type": "stream",
     "text": [
      "Max reinitialize offset reached. Reinitializing fetcher.\n"
     ]
    },
    {
     "name": "stderr",
     "output_type": "stream",
     "text": [
      "Fetching data:  44%|████▍     | 440000/1000000 [11:20<08:34, 1089.07record/s]"
     ]
    },
    {
     "name": "stdout",
     "output_type": "stream",
     "text": [
      "Max reinitialize offset reached. Reinitializing fetcher.\n"
     ]
    },
    {
     "name": "stderr",
     "output_type": "stream",
     "text": [
      "Fetching data:  45%|████▌     | 450000/1000000 [11:35<09:25, 972.92record/s] "
     ]
    },
    {
     "name": "stdout",
     "output_type": "stream",
     "text": [
      "Max reinitialize offset reached. Reinitializing fetcher.\n"
     ]
    },
    {
     "name": "stderr",
     "output_type": "stream",
     "text": [
      "Fetching data:  45%|████▌     | 453000/1000000 [11:43<16:18, 559.15record/s]"
     ]
    },
    {
     "name": "stdout",
     "output_type": "stream",
     "text": [
      "Error fetching data: HTTPSConnectionPool(host='data.lacity.org', port=443): Read timed out. (read timeout=10)\n",
      "Retrying after 5 seconds...\n"
     ]
    },
    {
     "name": "stderr",
     "output_type": "stream",
     "text": [
      "Fetching data:  46%|████▌     | 460000/1000000 [12:11<20:05, 448.06record/s]"
     ]
    },
    {
     "name": "stdout",
     "output_type": "stream",
     "text": [
      "Max reinitialize offset reached. Reinitializing fetcher.\n"
     ]
    },
    {
     "name": "stderr",
     "output_type": "stream",
     "text": [
      "Fetching data:  47%|████▋     | 470000/1000000 [12:26<09:09, 964.33record/s]"
     ]
    },
    {
     "name": "stdout",
     "output_type": "stream",
     "text": [
      "Max reinitialize offset reached. Reinitializing fetcher.\n"
     ]
    },
    {
     "name": "stderr",
     "output_type": "stream",
     "text": [
      "Fetching data:  48%|████▊     | 480000/1000000 [12:41<08:49, 982.27record/s]"
     ]
    },
    {
     "name": "stdout",
     "output_type": "stream",
     "text": [
      "Max reinitialize offset reached. Reinitializing fetcher.\n"
     ]
    },
    {
     "name": "stderr",
     "output_type": "stream",
     "text": [
      "Fetching data:  49%|████▉     | 490000/1000000 [12:56<09:43, 874.41record/s]"
     ]
    },
    {
     "name": "stdout",
     "output_type": "stream",
     "text": [
      "Max reinitialize offset reached. Reinitializing fetcher.\n"
     ]
    },
    {
     "name": "stderr",
     "output_type": "stream",
     "text": [
      "Fetching data:  50%|█████     | 500000/1000000 [13:11<08:54, 935.19record/s]"
     ]
    },
    {
     "name": "stdout",
     "output_type": "stream",
     "text": [
      "Max reinitialize offset reached. Reinitializing fetcher.\n"
     ]
    },
    {
     "name": "stderr",
     "output_type": "stream",
     "text": [
      "Fetching data:  51%|█████     | 510000/1000000 [13:27<09:05, 898.20record/s]"
     ]
    },
    {
     "name": "stdout",
     "output_type": "stream",
     "text": [
      "Max reinitialize offset reached. Reinitializing fetcher.\n"
     ]
    },
    {
     "name": "stderr",
     "output_type": "stream",
     "text": [
      "Fetching data:  52%|█████▏    | 520000/1000000 [13:45<11:43, 682.40record/s]"
     ]
    },
    {
     "name": "stdout",
     "output_type": "stream",
     "text": [
      "Max reinitialize offset reached. Reinitializing fetcher.\n"
     ]
    },
    {
     "name": "stderr",
     "output_type": "stream",
     "text": [
      "Fetching data:  53%|█████▎    | 530000/1000000 [14:00<08:07, 964.74record/s]"
     ]
    },
    {
     "name": "stdout",
     "output_type": "stream",
     "text": [
      "Max reinitialize offset reached. Reinitializing fetcher.\n"
     ]
    },
    {
     "name": "stderr",
     "output_type": "stream",
     "text": [
      "Fetching data:  54%|█████▍    | 540000/1000000 [14:18<08:11, 936.45record/s]"
     ]
    },
    {
     "name": "stdout",
     "output_type": "stream",
     "text": [
      "Max reinitialize offset reached. Reinitializing fetcher.\n"
     ]
    },
    {
     "name": "stderr",
     "output_type": "stream",
     "text": [
      "Fetching data:  55%|█████▌    | 550000/1000000 [14:33<09:11, 815.39record/s]"
     ]
    },
    {
     "name": "stdout",
     "output_type": "stream",
     "text": [
      "Max reinitialize offset reached. Reinitializing fetcher.\n"
     ]
    },
    {
     "name": "stderr",
     "output_type": "stream",
     "text": [
      "Fetching data:  56%|█████▌    | 560000/1000000 [14:48<08:33, 856.71record/s]"
     ]
    },
    {
     "name": "stdout",
     "output_type": "stream",
     "text": [
      "Max reinitialize offset reached. Reinitializing fetcher.\n"
     ]
    },
    {
     "name": "stderr",
     "output_type": "stream",
     "text": [
      "Fetching data:  57%|█████▋    | 570000/1000000 [15:02<06:45, 1060.90record/s]"
     ]
    },
    {
     "name": "stdout",
     "output_type": "stream",
     "text": [
      "Max reinitialize offset reached. Reinitializing fetcher.\n"
     ]
    },
    {
     "name": "stderr",
     "output_type": "stream",
     "text": [
      "Fetching data:  58%|█████▊    | 580000/1000000 [15:21<07:41, 910.87record/s] "
     ]
    },
    {
     "name": "stdout",
     "output_type": "stream",
     "text": [
      "Max reinitialize offset reached. Reinitializing fetcher.\n"
     ]
    },
    {
     "name": "stderr",
     "output_type": "stream",
     "text": [
      "Fetching data:  58%|█████▊    | 585000/1000000 [15:40<18:04, 382.75record/s]"
     ]
    },
    {
     "name": "stdout",
     "output_type": "stream",
     "text": [
      "No more data to fetch, attempt 1/5.\n",
      "No more data to fetch, attempt 2/5.\n"
     ]
    },
    {
     "name": "stderr",
     "output_type": "stream",
     "text": [
      "Fetching data:  58%|█████▊    | 585000/1000000 [15:50<18:04, 382.75record/s]"
     ]
    },
    {
     "name": "stdout",
     "output_type": "stream",
     "text": [
      "No more data to fetch, attempt 3/5.\n",
      "No more data to fetch, attempt 4/5.\n"
     ]
    },
    {
     "name": "stderr",
     "output_type": "stream",
     "text": [
      "Fetching data:  58%|█████▊    | 585000/1000000 [16:04<11:24, 606.35record/s]"
     ]
    },
    {
     "name": "stdout",
     "output_type": "stream",
     "text": [
      "No more data to fetch, attempt 5/5.\n",
      "Maximum consecutive no data attempts reached, stopping fetch process.\n",
      "Storage directory 'C:/Users/mike/Data/Public' is ready.\n"
     ]
    },
    {
     "name": "stderr",
     "output_type": "stream",
     "text": [
      "\n"
     ]
    },
    {
     "name": "stdout",
     "output_type": "stream",
     "text": [
      "Data written to 'C:/Users/mike/Data/Public\\LAPD_Crime_Data.json'.\n",
      "Compressing file 'C:/Users/mike/Data/Public\\LAPD_Crime_Data.json' to 'C:/Users/mike/Data/Public\\LAPD_Crime_Data.json.zip'\n",
      "Data compressed to 'C:/Users/mike/Data/Public\\LAPD_Crime_Data.json.zip'.\n",
      "Data fetching and storing process completed.\n"
     ]
    }
   ],
   "source": [
    "from datetime import datetime\n",
    "from dateutil.relativedelta import relativedelta\n",
    "import sys\n",
    "sys.path.append('../../../Common')\n",
    "sys.path.append('../../../Common/Functions')\n",
    "from func_Fetch_Data_v2 import fetch_store_data, JSONDataFetcher\n",
    "\n",
    "from_date_str = (datetime.now() - relativedelta(months=36)).isoformat()\n",
    "where_clause = f\"date_rptd>='{from_date_str}'\"\n",
    "if __name__ == \"__main__\":\n",
    "    url = \"https://data.lacity.org/resource/2nrs-mtv8.json?$limit={}&$offset={}&$where={}\"\n",
    "    chunk_size = 1000\n",
    "    where_clause = where_clause\n",
    "    fetcher = JSONDataFetcher(url, chunk_size, where_clause)\n",
    "    limit = 1000000\n",
    "    offset = 0\n",
    "    storage_dir='C:/Users/mike/Data/Public'\n",
    "    storage_file='LAPD_Crime_Data.json'\n",
    "    compress = True\n",
    "    mode = 'w'\n",
    "    pause_duration=2\n",
    "    max_reinitialize_offset=10000\n",
    "\n",
    "    fetch_store_data(fetcher, limit, offset, storage_dir, storage_file, compress, mode)"
   ]
  }
 ],
 "metadata": {
  "kernelspec": {
   "display_name": "Python 3",
   "language": "python",
   "name": "python3"
  },
  "language_info": {
   "codemirror_mode": {
    "name": "ipython",
    "version": 3
   },
   "file_extension": ".py",
   "mimetype": "text/x-python",
   "name": "python",
   "nbconvert_exporter": "python",
   "pygments_lexer": "ipython3",
   "version": "3.13.1"
  }
 },
 "nbformat": 4,
 "nbformat_minor": 2
}
