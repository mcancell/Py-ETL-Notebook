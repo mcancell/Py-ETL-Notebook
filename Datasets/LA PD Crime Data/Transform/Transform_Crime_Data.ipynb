{
 "cells": [
  {
   "cell_type": "code",
   "execution_count": 20,
   "metadata": {},
   "outputs": [],
   "source": [
    "import sys\n",
    "sys.path.append('../../../Common/Functions')\n",
    "from func_Load_Data_to_Frame import *"
   ]
  },
  {
   "cell_type": "code",
   "execution_count": 21,
   "metadata": {},
   "outputs": [],
   "source": [
    "import pandas as pd\n",
    "\n",
    "df = pd.read_json('/Users/mike/Data/Public/LAPD_Crime_Data.json.zip', compression='zip')"
   ]
  },
  {
   "cell_type": "markdown",
   "metadata": {},
   "source": [
    "# Evaluate the Schmema Properties"
   ]
  },
  {
   "cell_type": "markdown",
   "metadata": {},
   "source": [
    "## Published Schema:\n",
    "https://data.lacity.org/Public-Safety/Crime-Data-from-2020-to-Present/2nrs-mtv8/about_data"
   ]
  },
  {
   "cell_type": "markdown",
   "metadata": {},
   "source": [
    "## Generated Schema in the df"
   ]
  },
  {
   "cell_type": "code",
   "execution_count": 22,
   "metadata": {},
   "outputs": [
    {
     "name": "stdout",
     "output_type": "stream",
     "text": [
      "<class 'pandas.core.frame.DataFrame'>\n",
      "RangeIndex: 585000 entries, 0 to 584999\n",
      "Data columns (total 28 columns):\n",
      " #   Column          Non-Null Count   Dtype  \n",
      "---  ------          --------------   -----  \n",
      " 0   dr_no           585000 non-null  int64  \n",
      " 1   date_rptd       585000 non-null  object \n",
      " 2   date_occ        585000 non-null  object \n",
      " 3   time_occ        585000 non-null  int64  \n",
      " 4   area            585000 non-null  int64  \n",
      " 5   area_name       585000 non-null  object \n",
      " 6   rpt_dist_no     585000 non-null  int64  \n",
      " 7   part_1_2        585000 non-null  int64  \n",
      " 8   crm_cd          585000 non-null  int64  \n",
      " 9   crm_cd_desc     585000 non-null  object \n",
      " 10  mocodes         491719 non-null  object \n",
      " 11  vict_age        585000 non-null  int64  \n",
      " 12  vict_sex        496186 non-null  object \n",
      " 13  vict_descent    496179 non-null  object \n",
      " 14  premis_cd       584990 non-null  float64\n",
      " 15  premis_desc     584585 non-null  object \n",
      " 16  weapon_used_cd  175921 non-null  float64\n",
      " 17  weapon_desc     175921 non-null  object \n",
      " 18  status          584999 non-null  object \n",
      " 19  status_desc     585000 non-null  object \n",
      " 20  crm_cd_1        584993 non-null  float64\n",
      " 21  location        585000 non-null  object \n",
      " 22  lat             585000 non-null  float64\n",
      " 23  lon             585000 non-null  float64\n",
      " 24  cross_street    80715 non-null   object \n",
      " 25  crm_cd_2        35797 non-null   float64\n",
      " 26  crm_cd_3        1172 non-null    float64\n",
      " 27  crm_cd_4        29 non-null      float64\n",
      "dtypes: float64(8), int64(7), object(13)\n",
      "memory usage: 125.0+ MB\n",
      "None\n"
     ]
    }
   ],
   "source": [
    "# Show schema\n",
    "print(df.info())"
   ]
  },
  {
   "cell_type": "markdown",
   "metadata": {},
   "source": [
    "## Now Align the Data Types using the Published Schema @\n",
    "https://data.lacity.org/Public-Safety/Crime-Data-from-2020-to-Present/2nrs-mtv8/about_data"
   ]
  },
  {
   "cell_type": "code",
   "execution_count": 23,
   "metadata": {},
   "outputs": [
    {
     "name": "stdout",
     "output_type": "stream",
     "text": [
      "dr_no                      int64\n",
      "date_rptd         datetime64[ns]\n",
      "date_occ          datetime64[ns]\n",
      "time_occ                   int64\n",
      "area                       int64\n",
      "area_name               category\n",
      "rpt_dist_no                int64\n",
      "part_1_2                   int64\n",
      "crm_cd                     int64\n",
      "crm_cd_desc             category\n",
      "mocodes                 category\n",
      "vict_age                   int64\n",
      "vict_sex                category\n",
      "vict_descent            category\n",
      "premis_cd                  int64\n",
      "premis_desc             category\n",
      "weapon_used_cd             int64\n",
      "weapon_desc             category\n",
      "status                  category\n",
      "status_desc             category\n",
      "crm_cd_1                   int64\n",
      "location                category\n",
      "lat                      float64\n",
      "lon                      float64\n",
      "cross_street            category\n",
      "crm_cd_2                   int64\n",
      "crm_cd_3                   int64\n",
      "crm_cd_4                   int64\n",
      "dtype: object\n"
     ]
    }
   ],
   "source": [
    "# Convert date columns to datetime\n",
    "df['date_rptd'] = pd.to_datetime(df['date_rptd'])\n",
    "df['date_occ'] = pd.to_datetime(df['date_occ'])\n",
    "\n",
    "# Convert categorical columns to category dtype\n",
    "categorical_columns = ['area_name', 'crm_cd_desc', 'mocodes', 'vict_sex', 'vict_descent', 'premis_desc', 'weapon_desc', 'status', 'status_desc', 'location', 'cross_street']\n",
    "for col in categorical_columns:\n",
    "    df[col] = df[col].astype('category')\n",
    "\n",
    "# Convert integer columns to int64\n",
    "integer_columns = ['dr_no', 'area', 'rpt_dist_no', 'part_1_2', 'crm_cd', 'vict_age', 'premis_cd', 'weapon_used_cd', 'crm_cd_1', 'crm_cd_2', 'crm_cd_3', 'crm_cd_4']\n",
    "for col in integer_columns:\n",
    "    df[col] = df[col].fillna(0).astype('int64')\n",
    "\n",
    "# Convert latitude and longitude to float64\n",
    "df['lat'] = df['lat'].astype('float64')\n",
    "df['lon'] = df['lon'].astype('float64')\n",
    "\n",
    "# Verify changes\n",
    "print(df.dtypes)"
   ]
  },
  {
   "cell_type": "markdown",
   "metadata": {},
   "source": [
    "# Normalize the df into Dims and Facts"
   ]
  },
  {
   "cell_type": "code",
   "execution_count": 24,
   "metadata": {},
   "outputs": [
    {
     "name": "stdout",
     "output_type": "stream",
     "text": [
      "Fact Events Table:\n",
      "       dr_no  date_rptd   date_occ  time_occ      lat       lon  \\\n",
      "0  220506019 2022-02-01 2020-02-01      1200  33.8201 -118.3015   \n",
      "1  220805315 2022-02-01 2020-01-01      1200  34.0326 -118.3941   \n",
      "2  221405638 2022-02-01 2020-09-01      1425  33.9875 -118.4668   \n",
      "3  222105108 2022-02-01 2021-11-29      1200  34.1707 -118.6565   \n",
      "4  221205693 2022-02-01 2021-12-21      1800  33.9638 -118.2629   \n",
      "\n",
      "                                  location cross_street  area    area_name  \\\n",
      "0  1400 W  227TH                        ST          NaN     5       Harbor   \n",
      "1  3100 S  CANFIELD                     AV          NaN     8      West LA   \n",
      "2   500    VENICE                       WY          NaN    14      Pacific   \n",
      "3  5500    VALERIE                      AV          NaN    21      Topanga   \n",
      "4  7900 S  CENTRAL                      AV          NaN    12  77th Street   \n",
      "\n",
      "   ...  crm_cd_2  crm_cd_3 crm_cd_4                        mocodes  vict_age  \\\n",
      "0  ...         0         0        0  0913 0602 0557 0400 0416 1258        12   \n",
      "1  ...         0         0        0            2000 0400 0408 0448        31   \n",
      "2  ...         0         0        0                           0377        42   \n",
      "3  ...         0         0        0                      1822 0923        89   \n",
      "4  ...         0         0        0            2000 1814 0913 0417        35   \n",
      "\n",
      "   vict_sex  vict_descent  crm_cd weapon_used_cd  status  \n",
      "0         M             H     627            400      AO  \n",
      "1         F             H     236            400      IC  \n",
      "2         M             W     354              0      IC  \n",
      "3         F             W     649              0      IC  \n",
      "4         F             H     236            400      AO  \n",
      "\n",
      "[5 rows x 25 columns]\n",
      "Dimension Area Table:\n",
      "   fk_area    area_name\n",
      "0        5       Harbor\n",
      "1        8      West LA\n",
      "2       14      Pacific\n",
      "3       21      Topanga\n",
      "4       12  77th Street\n",
      "\n",
      "Dimension Crime Table:\n",
      "   fk_crm_cd                                      crm_cd_desc\n",
      "0        627          CHILD ABUSE (PHYSICAL) - SIMPLE ASSAULT\n",
      "1        236            INTIMATE PARTNER - AGGRAVATED ASSAULT\n",
      "2        354                                THEFT OF IDENTITY\n",
      "3        649                 DOCUMENT FORGERY / STOLEN FELONY\n",
      "4        420  THEFT FROM MOTOR VEHICLE - PETTY ($950 & UNDER)\n",
      "\n",
      "Dimension Victim Table:\n",
      "  vict_sex vict_descent  vict_age\n",
      "0        M            H        12\n",
      "1        F            H        31\n",
      "2        M            W        42\n",
      "3        F            W        89\n",
      "4        F            H        35\n",
      "\n",
      "Dimension Premise Table:\n",
      "   fk_premis_cd                                   premis_desc\n",
      "0           501                        SINGLE FAMILY DWELLING\n",
      "1           502  MULTI-UNIT DWELLING (APARTMENT, DUPLEX, ETC)\n",
      "2           222                                    LAUNDROMAT\n",
      "3           101                                        STREET\n",
      "4           108                                   PARKING LOT\n",
      "\n",
      "Dimension Weapon Table:\n",
      "   fk_weapon_used_cd                                     weapon_desc\n",
      "0                400  STRONG-ARM (HANDS, FIST, FEET OR BODILY FORCE)\n",
      "1                  0                                             NaN\n",
      "2                503                         CAUSTIC CHEMICAL/POISON\n",
      "3                500                     UNKNOWN WEAPON/OTHER WEAPON\n",
      "4                205                                   KITCHEN KNIFE\n",
      "\n",
      "Dimension Status Table:\n",
      "  fk_status   status_desc\n",
      "0        AO   Adult Other\n",
      "1        IC   Invest Cont\n",
      "2        AA  Adult Arrest\n",
      "3        JA    Juv Arrest\n",
      "4        JO     Juv Other\n",
      "\n",
      "Dimension Location Table:\n",
      "       lat       lon geo_place_id geo_osm_type geo_osm_id geo_display_name  \\\n",
      "0  33.8201 -118.3015         None         None       None             None   \n",
      "1  34.0326 -118.3941         None         None       None             None   \n",
      "2  33.9875 -118.4668         None         None       None             None   \n",
      "3  34.1707 -118.6565         None         None       None             None   \n",
      "4  33.9638 -118.2629         None         None       None             None   \n",
      "\n",
      "  geo_road geo_neighbourhood geo_suburb geo_city geo_state geo_ISO3166-2-lvl4  \\\n",
      "0     None              None       None     None      None               None   \n",
      "1     None              None       None     None      None               None   \n",
      "2     None              None       None     None      None               None   \n",
      "3     None              None       None     None      None               None   \n",
      "4     None              None       None     None      None               None   \n",
      "\n",
      "  geo_postcode geo_country geo_country_code geo_boundingbox  \n",
      "0         None        None             None            None  \n",
      "1         None        None             None            None  \n",
      "2         None        None             None            None  \n",
      "3         None        None             None            None  \n",
      "4         None        None             None            None  \n"
     ]
    }
   ],
   "source": [
    "# Create dimension tables\n",
    "dim_area = (\n",
    "    df[['area', 'area_name']]\n",
    "    .drop_duplicates()\n",
    "    .reset_index(drop=True)\n",
    "    .rename(columns={'area': 'fk_area'})\n",
    ")\n",
    "\n",
    "dim_crime = (\n",
    "    df[['crm_cd', 'crm_cd_desc']]\n",
    "    .drop_duplicates()\n",
    "    .reset_index(drop=True)\n",
    "    .rename(columns={'crm_cd': 'fk_crm_cd'})\n",
    ")\n",
    "\n",
    "dim_victim = (\n",
    "    df[['vict_sex', 'vict_descent', 'vict_age']]\n",
    "    .drop_duplicates()\n",
    "    .reset_index(drop=True)\n",
    ")\n",
    "\n",
    "dim_premise = (\n",
    "    df[['premis_cd', 'premis_desc']]\n",
    "    .drop_duplicates()\n",
    "    .reset_index(drop=True)\n",
    "    .rename(columns={'premis_cd': 'fk_premis_cd'})\n",
    ")\n",
    "\n",
    "dim_weapon = (\n",
    "    df[['weapon_used_cd', 'weapon_desc']]\n",
    "    .drop_duplicates()\n",
    "    .reset_index(drop=True)\n",
    "    .rename(columns={'weapon_used_cd': 'fk_weapon_used_cd'})\n",
    ")\n",
    "\n",
    "dim_status = (\n",
    "    df[['status', 'status_desc']]\n",
    "    .drop_duplicates()\n",
    "    .reset_index(drop=True)\n",
    "    .rename(columns={'status': 'fk_status'})\n",
    ")\n",
    "\n",
    "dim_location = (\n",
    "    df[['lat', 'lon']]\n",
    "    .drop_duplicates()\n",
    "    .reset_index(drop=True)\n",
    ")\n",
    "\n",
    "# Add additional columns based on Schema at https://geocode.maps.co/reverse\n",
    "# This data will be added downstream in the ETL process\n",
    "dim_location['geo_place_id'] = None\n",
    "dim_location['geo_osm_type'] = None\n",
    "dim_location['geo_osm_id'] = None\n",
    "dim_location['geo_display_name'] = None\n",
    "dim_location['geo_road'] = None\n",
    "dim_location['geo_neighbourhood'] = None\n",
    "dim_location['geo_suburb'] = None\n",
    "dim_location['geo_city'] = None\n",
    "dim_location['geo_state'] = None\n",
    "dim_location['geo_ISO3166-2-lvl4'] = None\n",
    "dim_location['geo_postcode'] = None\n",
    "dim_location['geo_country'] = None\n",
    "dim_location['geo_country_code'] = None\n",
    "dim_location['geo_boundingbox'] = None\n",
    "\n",
    "# Create fact table\n",
    "crime_facts = df[\n",
    "    [\n",
    "        'dr_no', 'date_rptd', 'date_occ', 'time_occ', \n",
    "        'lat', 'lon', 'location', 'cross_street', 'area', 'area_name', 'rpt_dist_no', 'premis_cd', 'premis_desc',\n",
    "        'part_1_2', 'crm_cd_1', 'crm_cd_2', 'crm_cd_3', 'crm_cd_4', 'mocodes', \n",
    "        'vict_age', 'vict_sex', 'vict_descent',\n",
    "        'crm_cd', 'weapon_used_cd', 'status'\n",
    "    ]\n",
    "].copy()\n",
    "\n",
    "# Display fact table\n",
    "print(\"Fact Events Table:\")\n",
    "print(crime_facts.head())\n",
    "# Display dimension tables\n",
    "print(\"Dimension Area Table:\")\n",
    "print(dim_area.head())\n",
    "\n",
    "print(\"\\nDimension Crime Table:\")\n",
    "print(dim_crime.head())\n",
    "\n",
    "print(\"\\nDimension Victim Table:\")\n",
    "print(dim_victim.head())\n",
    "\n",
    "print(\"\\nDimension Premise Table:\")\n",
    "print(dim_premise.head())\n",
    "\n",
    "print(\"\\nDimension Weapon Table:\")\n",
    "print(dim_weapon.head())\n",
    "\n",
    "print(\"\\nDimension Status Table:\")\n",
    "print(dim_status.head())\n",
    "\n",
    "print(\"\\nDimension Location Table:\")\n",
    "print(dim_location.head())"
   ]
  },
  {
   "cell_type": "markdown",
   "metadata": {},
   "source": [
    "# Downstreat Postproccess - Retrieve Geo Code into Location Dim"
   ]
  },
  {
   "cell_type": "markdown",
   "metadata": {},
   "source": [
    "## Load the Location Dim from the Pickle"
   ]
  },
  {
   "cell_type": "code",
   "execution_count": 25,
   "metadata": {},
   "outputs": [
    {
     "name": "stdout",
     "output_type": "stream",
     "text": [
      "        lat       lon geo_place_id geo_osm_type geo_osm_id  \\\n",
      "0   33.8201 -118.3015    281393593          way   13356241   \n",
      "6   34.0326 -118.3941    284925955          way  165791832   \n",
      "7   33.9875 -118.4668    281444680          way  168954633   \n",
      "11  34.1707 -118.6565    285003597          way  402526611   \n",
      "12  33.9638 -118.2629    281472844          way  165899885   \n",
      "\n",
      "                                     geo_display_name               geo_road  \\\n",
      "0   Halldale Avenue, Los Angeles, California, 9050...        Halldale Avenue   \n",
      "6   South Canfield Avenue, Castle Heights, Los Ang...  South Canfield Avenue   \n",
      "7   Venice Way, Venice Canal Historic District, Ve...             Venice Way   \n",
      "11  Burbank Boulevard, Los Angeles, Los Angeles Co...      Burbank Boulevard   \n",
      "12  Stanford Avenue, Florence, Los Angeles, Los An...        Stanford Avenue   \n",
      "\n",
      "                 geo_neighbourhood geo_suburb     geo_city   geo_state  \\\n",
      "0                             None       None  Los Angeles  California   \n",
      "6                   Castle Heights       None  Los Angeles  California   \n",
      "7   Venice Canal Historic District     Venice  Los Angeles  California   \n",
      "11                            None       None  Los Angeles  California   \n",
      "12                            None   Florence  Los Angeles  California   \n",
      "\n",
      "   geo_ISO3166-2-lvl4 geo_postcode    geo_country geo_country_code  \\\n",
      "0               US-CA        90501  United States               us   \n",
      "6               US-CA        90034  United States               us   \n",
      "7               US-CA        90292  United States               us   \n",
      "11              US-CA        91307  United States               us   \n",
      "12              US-CA        90001  United States               us   \n",
      "\n",
      "                                      geo_boundingbox  \n",
      "0   ['33.819016', '33.8208781', '-118.3015108', '-...  \n",
      "6   ['34.0296448', '34.035801', '-118.3953219', '-...  \n",
      "7   ['33.9874163', '33.9875684', '-118.468556', '-...  \n",
      "11  ['34.1702241', '34.1712426', '-118.6575549', '...  \n",
      "12  ['33.9601434', '33.9747425', '-118.262981', '-...  \n"
     ]
    }
   ],
   "source": [
    "import pandas as pd\n",
    "import os\n",
    "\n",
    "# Load the dimension table from the pickle file\n",
    "try:\n",
    "\tdim_location = pd.read_pickle('../.pickles/dim_location.pkl')\n",
    "\t# Display the loaded DataFrame\n",
    "\tprint(dim_location.head())\n",
    "except FileNotFoundError:\n",
    "\tprint(\"Pickle file not found. Please ensure the file exists.\")"
   ]
  },
  {
   "cell_type": "markdown",
   "metadata": {},
   "source": [
    "## Find the Locations that need to be Processed"
   ]
  },
  {
   "cell_type": "code",
   "execution_count": 26,
   "metadata": {},
   "outputs": [
    {
     "name": "stdout",
     "output_type": "stream",
     "text": [
      "Number of records in the df: 42528\n"
     ]
    }
   ],
   "source": [
    "tmp_locs_to_be_processed = dim_location[dim_location['geo_place_id'].isnull()][['lat', 'lon']].drop_duplicates()\n",
    "print(f\"Number of records in the df: {len(tmp_locs_to_be_processed)}\")"
   ]
  },
  {
   "cell_type": "markdown",
   "metadata": {},
   "source": [
    "## Get the API Credentials"
   ]
  },
  {
   "cell_type": "code",
   "execution_count": 27,
   "metadata": {},
   "outputs": [
    {
     "name": "stdout",
     "output_type": "stream",
     "text": [
      "{'API_Key': '679e7c466cc8c453023441mst72c8af', 'Reverse_URL': 'https://geocode.maps.co/reverse', 'Max_Lookups': 5000, 'Rate_Limit_per_Sec': 1}\n"
     ]
    }
   ],
   "source": [
    "import json\n",
    "\n",
    "# Read the credentials from the JSON file\n",
    "with open('../../../Credentials/geocode_api_key.json', 'r') as f:\n",
    "    api_key_data = json.load(f)\n",
    "\n",
    "geo_api_credentials = {\n",
    "    'API_Key': api_key_data['API_Key'],\n",
    "    'Reverse_URL': api_key_data['Reverse_URL'],\n",
    "    'Max_Lookups': api_key_data['Max_Lookups'],\n",
    "    'Rate_Limit_per_Sec': api_key_data['Rate_Limit_per_Sec']\n",
    "}\n",
    "\n",
    "print(geo_api_credentials)\n"
   ]
  },
  {
   "cell_type": "markdown",
   "metadata": {},
   "source": [
    "## Use the GeoCode API to Fetch Location Details using the Reverse Lookup from the Lat/Lon\n",
    "See https://geocode.maps.co/"
   ]
  },
  {
   "cell_type": "code",
   "execution_count": 28,
   "metadata": {},
   "outputs": [
    {
     "name": "stderr",
     "output_type": "stream",
     "text": [
      "Fetching Geo Data:   0%|          | 26/42528 [00:34<15:32:22,  1.32s/it]\n"
     ]
    },
    {
     "ename": "KeyboardInterrupt",
     "evalue": "",
     "output_type": "error",
     "traceback": [
      "\u001b[1;31m---------------------------------------------------------------------------\u001b[0m",
      "\u001b[1;31mKeyboardInterrupt\u001b[0m                         Traceback (most recent call last)",
      "Cell \u001b[1;32mIn[28], line 48\u001b[0m\n\u001b[0;32m     45\u001b[0m     \u001b[38;5;28;01mreturn\u001b[39;00m geo_data\n\u001b[0;32m     47\u001b[0m \u001b[38;5;66;03m# Example usage\u001b[39;00m\n\u001b[1;32m---> 48\u001b[0m geo_data \u001b[38;5;241m=\u001b[39m \u001b[43mFetch_Geo_Data\u001b[49m\u001b[43m(\u001b[49m\u001b[43mgeo_api_credentials\u001b[49m\u001b[43m,\u001b[49m\u001b[43m \u001b[49m\u001b[43mtmp_locs_to_be_processed\u001b[49m\u001b[43m)\u001b[49m\n\u001b[0;32m     49\u001b[0m \u001b[38;5;28mprint\u001b[39m(geo_data[:\u001b[38;5;241m5\u001b[39m])\n\u001b[0;32m     50\u001b[0m \u001b[38;5;66;03m# Update the dim_location DataFrame with the fetched geo data\u001b[39;00m\n",
      "Cell \u001b[1;32mIn[28], line 35\u001b[0m, in \u001b[0;36mFetch_Geo_Data\u001b[1;34m(api_credentials, locations)\u001b[0m\n\u001b[0;32m     33\u001b[0m     \u001b[38;5;28;01melse\u001b[39;00m:\n\u001b[0;32m     34\u001b[0m         attempts \u001b[38;5;241m+\u001b[39m\u001b[38;5;241m=\u001b[39m \u001b[38;5;241m1\u001b[39m\n\u001b[1;32m---> 35\u001b[0m         \u001b[43mtime\u001b[49m\u001b[38;5;241;43m.\u001b[39;49m\u001b[43msleep\u001b[49m\u001b[43m(\u001b[49m\u001b[43mrate_limit_per_sec\u001b[49m\u001b[43m)\u001b[49m\n\u001b[0;32m     36\u001b[0m \u001b[38;5;28;01mexcept\u001b[39;00m requests\u001b[38;5;241m.\u001b[39mexceptions\u001b[38;5;241m.\u001b[39mRequestException \u001b[38;5;28;01mas\u001b[39;00m e:\n\u001b[0;32m     37\u001b[0m     \u001b[38;5;28mprint\u001b[39m(\u001b[38;5;124mf\u001b[39m\u001b[38;5;124m\"\u001b[39m\u001b[38;5;124mRequest failed: \u001b[39m\u001b[38;5;132;01m{\u001b[39;00me\u001b[38;5;132;01m}\u001b[39;00m\u001b[38;5;124m\"\u001b[39m)\n",
      "\u001b[1;31mKeyboardInterrupt\u001b[0m: "
     ]
    }
   ],
   "source": [
    "import requests\n",
    "from tqdm import tqdm\n",
    "import time\n",
    "\n",
    "def Fetch_Geo_Data(api_credentials, locations):\n",
    "    base_url = api_credentials['Reverse_URL']\n",
    "    api_key = api_credentials['API_Key']\n",
    "    max_lookups = api_credentials['Max_Lookups']\n",
    "    rate_limit_per_sec = api_credentials['Rate_Limit_per_Sec']\n",
    "    \n",
    "    geo_data = []\n",
    "    \n",
    "    for index, row in tqdm(locations.iterrows(), total=locations.shape[0], desc=\"Fetching Geo Data\"):\n",
    "        if len(geo_data) >= max_lookups:\n",
    "            print(\"Reached the maximum number of lookups for the day.\")\n",
    "            break\n",
    "        \n",
    "        params = {\n",
    "            'lat': row['lat'],\n",
    "            'lon': row['lon'],\n",
    "            'api_key': api_key\n",
    "        }\n",
    "        \n",
    "        attempts = 0\n",
    "        while attempts < 3:\n",
    "            try:\n",
    "                response = requests.get(base_url, params=params)\n",
    "                url = f\"{base_url}?lat={row['lat']}&lon={row['lon']}&api_key={api_key}\"\n",
    "                response = requests.get(url)\n",
    "                if response.status_code == 200:\n",
    "                    geo_data.append(response.json())\n",
    "                    break\n",
    "                else:\n",
    "                    attempts += 1\n",
    "                    time.sleep(rate_limit_per_sec)\n",
    "            except requests.exceptions.RequestException as e:\n",
    "                print(f\"Request failed: {e}\")\n",
    "                attempts += 1\n",
    "                time.sleep(rate_limit_per_sec)\n",
    "        \n",
    "        if attempts == 3:\n",
    "            print(f\"Failed to fetch data for lat: {row['lat']}, lon: {row['lon']} after 3 attempts.\")\n",
    "            geo_data.append(None)\n",
    "    \n",
    "    return geo_data\n",
    "\n",
    "# Example usage\n",
    "geo_data = Fetch_Geo_Data(geo_api_credentials, tmp_locs_to_be_processed)\n",
    "print(geo_data[:5])\n",
    "# Update the dim_location DataFrame with the fetched geo data\n",
    "for i, data in enumerate(geo_data):\n",
    "    if data:\n",
    "        dim_location.at[tmp_locs_to_be_processed.index[i], 'geo_place_id'] = data.get('place_id')\n",
    "        dim_location.at[tmp_locs_to_be_processed.index[i], 'geo_osm_type'] = data.get('osm_type')\n",
    "        dim_location.at[tmp_locs_to_be_processed.index[i], 'geo_osm_id'] = data.get('osm_id')\n",
    "        dim_location.at[tmp_locs_to_be_processed.index[i], 'geo_display_name'] = data.get('display_name')\n",
    "        dim_location.at[tmp_locs_to_be_processed.index[i], 'geo_road'] = data.get('address', {}).get('road')\n",
    "        dim_location.at[tmp_locs_to_be_processed.index[i], 'geo_neighbourhood'] = data.get('address', {}).get('neighbourhood')\n",
    "        dim_location.at[tmp_locs_to_be_processed.index[i], 'geo_suburb'] = data.get('address', {}).get('suburb')\n",
    "        dim_location.at[tmp_locs_to_be_processed.index[i], 'geo_city'] = data.get('address', {}).get('city')\n",
    "        dim_location.at[tmp_locs_to_be_processed.index[i], 'geo_state'] = data.get('address', {}).get('state')\n",
    "        dim_location.at[tmp_locs_to_be_processed.index[i], 'geo_ISO3166-2-lvl4'] = data.get('address', {}).get('ISO3166-2-lvl4')\n",
    "        dim_location.at[tmp_locs_to_be_processed.index[i], 'geo_postcode'] = data.get('address', {}).get('postcode')\n",
    "        dim_location.at[tmp_locs_to_be_processed.index[i], 'geo_country'] = data.get('address', {}).get('country')\n",
    "        dim_location.at[tmp_locs_to_be_processed.index[i], 'geo_country_code'] = data.get('address', {}).get('country_code')\n",
    "        dim_location.at[tmp_locs_to_be_processed.index[i], 'geo_boundingbox'] = data.get('boundingbox')\n",
    "\n",
    "# Display updated dim_location DataFrame\n",
    "print(dim_location.head())"
   ]
  },
  {
   "cell_type": "markdown",
   "metadata": {},
   "source": [
    "## Rewrite the Pickle"
   ]
  },
  {
   "cell_type": "markdown",
   "metadata": {},
   "source": [
    "# Pickle the Dims and Facts for Downstream processing"
   ]
  },
  {
   "cell_type": "code",
   "execution_count": 19,
   "metadata": {},
   "outputs": [],
   "source": [
    "import os\n",
    "\n",
    "# Create the directory if it doesn't exist\n",
    "os.makedirs('../.pickles', exist_ok=True)\n",
    "\n",
    "# Pickle the dimension tables\n",
    "dim_area.to_pickle('../.pickles/dim_area.pkl')\n",
    "dim_crime.to_pickle('../.pickles/dim_crime.pkl')\n",
    "dim_victim.to_pickle('../.pickles/dim_victim.pkl')\n",
    "dim_premise.to_pickle('../.pickles/dim_premise.pkl')\n",
    "dim_weapon.to_pickle('../.pickles/dim_weapon.pkl')\n",
    "dim_status.to_pickle('../.pickles/dim_status.pkl')\n",
    "dim_location.to_pickle('../.pickles/dim_location.pkl')\n",
    "\n",
    "# Pickle the fact table\n",
    "crime_facts.to_pickle('../.pickles/crime_facts.pkl')"
   ]
  }
 ],
 "metadata": {
  "kernelspec": {
   "display_name": "Python 3",
   "language": "python",
   "name": "python3"
  },
  "language_info": {
   "codemirror_mode": {
    "name": "ipython",
    "version": 3
   },
   "file_extension": ".py",
   "mimetype": "text/x-python",
   "name": "python",
   "nbconvert_exporter": "python",
   "pygments_lexer": "ipython3",
   "version": "3.13.1"
  }
 },
 "nbformat": 4,
 "nbformat_minor": 2
}
