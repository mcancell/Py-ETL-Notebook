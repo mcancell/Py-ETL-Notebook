{
 "cells": [
  {
   "cell_type": "code",
   "execution_count": 1,
   "metadata": {},
   "outputs": [],
   "source": [
    "import sys\n",
    "sys.path.append('../../../Common/Functions')\n",
    "from func_Load_Data_to_Frame import *"
   ]
  },
  {
   "cell_type": "code",
   "execution_count": 2,
   "metadata": {},
   "outputs": [],
   "source": [
    "import pandas as pd\n",
    "\n",
    "df = pd.read_json('/Users/mike/Data/Public/LAPD_Crime_Data.json.zip', compression='zip')"
   ]
  },
  {
   "cell_type": "markdown",
   "metadata": {},
   "source": [
    "# Evaluate the Schmema Properties"
   ]
  },
  {
   "cell_type": "markdown",
   "metadata": {},
   "source": [
    "## Published Schema:\n",
    "https://data.lacity.org/Public-Safety/Crime-Data-from-2020-to-Present/2nrs-mtv8/about_data"
   ]
  },
  {
   "cell_type": "markdown",
   "metadata": {},
   "source": [
    "## Generated Schema in the df"
   ]
  },
  {
   "cell_type": "code",
   "execution_count": 3,
   "metadata": {},
   "outputs": [
    {
     "name": "stdout",
     "output_type": "stream",
     "text": [
      "<class 'pandas.core.frame.DataFrame'>\n",
      "RangeIndex: 585000 entries, 0 to 584999\n",
      "Data columns (total 28 columns):\n",
      " #   Column          Non-Null Count   Dtype  \n",
      "---  ------          --------------   -----  \n",
      " 0   dr_no           585000 non-null  int64  \n",
      " 1   date_rptd       585000 non-null  object \n",
      " 2   date_occ        585000 non-null  object \n",
      " 3   time_occ        585000 non-null  int64  \n",
      " 4   area            585000 non-null  int64  \n",
      " 5   area_name       585000 non-null  object \n",
      " 6   rpt_dist_no     585000 non-null  int64  \n",
      " 7   part_1_2        585000 non-null  int64  \n",
      " 8   crm_cd          585000 non-null  int64  \n",
      " 9   crm_cd_desc     585000 non-null  object \n",
      " 10  mocodes         491719 non-null  object \n",
      " 11  vict_age        585000 non-null  int64  \n",
      " 12  vict_sex        496186 non-null  object \n",
      " 13  vict_descent    496179 non-null  object \n",
      " 14  premis_cd       584990 non-null  float64\n",
      " 15  premis_desc     584585 non-null  object \n",
      " 16  weapon_used_cd  175921 non-null  float64\n",
      " 17  weapon_desc     175921 non-null  object \n",
      " 18  status          584999 non-null  object \n",
      " 19  status_desc     585000 non-null  object \n",
      " 20  crm_cd_1        584993 non-null  float64\n",
      " 21  location        585000 non-null  object \n",
      " 22  lat             585000 non-null  float64\n",
      " 23  lon             585000 non-null  float64\n",
      " 24  cross_street    80715 non-null   object \n",
      " 25  crm_cd_2        35797 non-null   float64\n",
      " 26  crm_cd_3        1172 non-null    float64\n",
      " 27  crm_cd_4        29 non-null      float64\n",
      "dtypes: float64(8), int64(7), object(13)\n",
      "memory usage: 125.0+ MB\n",
      "None\n"
     ]
    }
   ],
   "source": [
    "# Show schema\n",
    "print(df.info())"
   ]
  },
  {
   "cell_type": "markdown",
   "metadata": {},
   "source": [
    "## Now Align the Data Types using the Published Schema @\n",
    "https://data.lacity.org/Public-Safety/Crime-Data-from-2020-to-Present/2nrs-mtv8/about_data"
   ]
  },
  {
   "cell_type": "code",
   "execution_count": 4,
   "metadata": {},
   "outputs": [
    {
     "name": "stdout",
     "output_type": "stream",
     "text": [
      "dr_no                      int64\n",
      "date_rptd         datetime64[ns]\n",
      "date_occ          datetime64[ns]\n",
      "time_occ                   int64\n",
      "area                       int64\n",
      "area_name               category\n",
      "rpt_dist_no                int64\n",
      "part_1_2                   int64\n",
      "crm_cd                     int64\n",
      "crm_cd_desc             category\n",
      "mocodes                 category\n",
      "vict_age                   int64\n",
      "vict_sex                category\n",
      "vict_descent            category\n",
      "premis_cd                  int64\n",
      "premis_desc             category\n",
      "weapon_used_cd             int64\n",
      "weapon_desc             category\n",
      "status                  category\n",
      "status_desc             category\n",
      "crm_cd_1                   int64\n",
      "location                category\n",
      "lat                      float64\n",
      "lon                      float64\n",
      "cross_street            category\n",
      "crm_cd_2                   int64\n",
      "crm_cd_3                   int64\n",
      "crm_cd_4                   int64\n",
      "dtype: object\n"
     ]
    }
   ],
   "source": [
    "# Convert date columns to datetime\n",
    "df['date_rptd'] = pd.to_datetime(df['date_rptd'])\n",
    "df['date_occ'] = pd.to_datetime(df['date_occ'])\n",
    "\n",
    "# Convert categorical columns to category dtype\n",
    "categorical_columns = ['area_name', 'crm_cd_desc', 'mocodes', 'vict_sex', 'vict_descent', 'premis_desc', 'weapon_desc', 'status', 'status_desc', 'location', 'cross_street']\n",
    "for col in categorical_columns:\n",
    "    df[col] = df[col].astype('category')\n",
    "\n",
    "# Convert integer columns to int64\n",
    "integer_columns = ['dr_no', 'area', 'rpt_dist_no', 'part_1_2', 'crm_cd', 'vict_age', 'premis_cd', 'weapon_used_cd', 'crm_cd_1', 'crm_cd_2', 'crm_cd_3', 'crm_cd_4']\n",
    "for col in integer_columns:\n",
    "    df[col] = df[col].fillna(0).astype('int64')\n",
    "\n",
    "# Convert latitude and longitude to float64\n",
    "df['lat'] = df['lat'].astype('float64')\n",
    "df['lon'] = df['lon'].astype('float64')\n",
    "\n",
    "# Verify changes\n",
    "print(df.dtypes)"
   ]
  },
  {
   "cell_type": "markdown",
   "metadata": {},
   "source": [
    "# Normalize the df into Dims and Facts"
   ]
  },
  {
   "cell_type": "code",
   "execution_count": 5,
   "metadata": {},
   "outputs": [
    {
     "name": "stdout",
     "output_type": "stream",
     "text": [
      "Fact Events Table:\n",
      "       dr_no  date_rptd   date_occ  time_occ  area  crm_cd  premis_cd  \\\n",
      "0  220506019 2022-02-01 2020-02-01      1200     5     627        501   \n",
      "1  220805315 2022-02-01 2020-01-01      1200     8     236        502   \n",
      "2  221405638 2022-02-01 2020-09-01      1425    14     354        501   \n",
      "3  222105108 2022-02-01 2021-11-29      1200    21     649        501   \n",
      "4  221205693 2022-02-01 2021-12-21      1800    12     236        222   \n",
      "\n",
      "   weapon_used_cd status                                 location  \n",
      "0             400     AO  1400 W  227TH                        ST  \n",
      "1             400     IC  3100 S  CANFIELD                     AV  \n",
      "2               0     IC   500    VENICE                       WY  \n",
      "3               0     IC  5500    VALERIE                      AV  \n",
      "4             400     AO  7900 S  CENTRAL                      AV  \n",
      "Dimension Area Table:\n",
      "   fk_area    area_name\n",
      "0        5       Harbor\n",
      "1        8      West LA\n",
      "2       14      Pacific\n",
      "3       21      Topanga\n",
      "4       12  77th Street\n",
      "\n",
      "Dimension Crime Table:\n",
      "   fk_crm_cd                                      crm_cd_desc\n",
      "0        627          CHILD ABUSE (PHYSICAL) - SIMPLE ASSAULT\n",
      "1        236            INTIMATE PARTNER - AGGRAVATED ASSAULT\n",
      "2        354                                THEFT OF IDENTITY\n",
      "3        649                 DOCUMENT FORGERY / STOLEN FELONY\n",
      "4        420  THEFT FROM MOTOR VEHICLE - PETTY ($950 & UNDER)\n",
      "\n",
      "Dimension Victim Table:\n",
      "  vict_sex vict_descent  vict_age\n",
      "0        M            H        12\n",
      "1        F            H        31\n",
      "2        M            W        42\n",
      "3        F            W        89\n",
      "4        F            H        35\n",
      "\n",
      "Dimension Premise Table:\n",
      "   fk_premis_cd                                   premis_desc\n",
      "0           501                        SINGLE FAMILY DWELLING\n",
      "1           502  MULTI-UNIT DWELLING (APARTMENT, DUPLEX, ETC)\n",
      "2           222                                    LAUNDROMAT\n",
      "3           101                                        STREET\n",
      "4           108                                   PARKING LOT\n",
      "\n",
      "Dimension Weapon Table:\n",
      "   fk_weapon_used_cd                                     weapon_desc\n",
      "0                400  STRONG-ARM (HANDS, FIST, FEET OR BODILY FORCE)\n",
      "1                  0                                             NaN\n",
      "2                503                         CAUSTIC CHEMICAL/POISON\n",
      "3                500                     UNKNOWN WEAPON/OTHER WEAPON\n",
      "4                205                                   KITCHEN KNIFE\n",
      "\n",
      "Dimension Status Table:\n",
      "  fk_status   status_desc\n",
      "0        AO   Adult Other\n",
      "1        IC   Invest Cont\n",
      "2        AA  Adult Arrest\n",
      "3        JA    Juv Arrest\n",
      "4        JO     Juv Other\n",
      "\n",
      "Dimension Location Table:\n",
      "                               fk_location      lat       lon cross_street\n",
      "0  1400 W  227TH                        ST  33.8201 -118.3015          NaN\n",
      "1  3100 S  CANFIELD                     AV  34.0326 -118.3941          NaN\n",
      "2   500    VENICE                       WY  33.9875 -118.4668          NaN\n",
      "3  5500    VALERIE                      AV  34.1707 -118.6565          NaN\n",
      "4  7900 S  CENTRAL                      AV  33.9638 -118.2629          NaN\n"
     ]
    }
   ],
   "source": [
    "# Create dimension tables\n",
    "dim_area = (\n",
    "    df[['area', 'area_name']]\n",
    "    .drop_duplicates()\n",
    "    .reset_index(drop=True)\n",
    "    .rename(columns={'area': 'fk_area'})\n",
    ")\n",
    "\n",
    "dim_crime = (\n",
    "    df[['crm_cd', 'crm_cd_desc']]\n",
    "    .drop_duplicates()\n",
    "    .reset_index(drop=True)\n",
    "    .rename(columns={'crm_cd': 'fk_crm_cd'})\n",
    ")\n",
    "\n",
    "dim_victim = (\n",
    "    df[['vict_sex', 'vict_descent', 'vict_age']]\n",
    "    .drop_duplicates()\n",
    "    .reset_index(drop=True)\n",
    ")\n",
    "\n",
    "dim_premise = (\n",
    "    df[['premis_cd', 'premis_desc']]\n",
    "    .drop_duplicates()\n",
    "    .reset_index(drop=True)\n",
    "    .rename(columns={'premis_cd': 'fk_premis_cd'})\n",
    ")\n",
    "\n",
    "dim_weapon = (\n",
    "    df[['weapon_used_cd', 'weapon_desc']]\n",
    "    .drop_duplicates()\n",
    "    .reset_index(drop=True)\n",
    "    .rename(columns={'weapon_used_cd': 'fk_weapon_used_cd'})\n",
    ")\n",
    "\n",
    "dim_status = (\n",
    "    df[['status', 'status_desc']]\n",
    "    .drop_duplicates()\n",
    "    .reset_index(drop=True)\n",
    "    .rename(columns={'status': 'fk_status'})\n",
    ")\n",
    "\n",
    "dim_location = (\n",
    "    df[['location', 'lat', 'lon', 'cross_street']]\n",
    "    .drop_duplicates()\n",
    "    .reset_index(drop=True)\n",
    "    .rename(columns={'location': 'fk_location'})\n",
    ")\n",
    "# Create fact table\n",
    "crime_facts = df[\n",
    "    [\n",
    "        'dr_no', 'date_rptd', 'date_occ', 'time_occ', \n",
    "        'area', 'crm_cd', 'premis_cd', \n",
    "        'weapon_used_cd', 'status', 'location'\n",
    "    ]\n",
    "].copy()\n",
    "\n",
    "# Display fact table\n",
    "print(\"Fact Events Table:\")\n",
    "print(crime_facts.head())\n",
    "# Display dimension tables\n",
    "print(\"Dimension Area Table:\")\n",
    "print(dim_area.head())\n",
    "\n",
    "print(\"\\nDimension Crime Table:\")\n",
    "print(dim_crime.head())\n",
    "\n",
    "print(\"\\nDimension Victim Table:\")\n",
    "print(dim_victim.head())\n",
    "\n",
    "print(\"\\nDimension Premise Table:\")\n",
    "print(dim_premise.head())\n",
    "\n",
    "print(\"\\nDimension Weapon Table:\")\n",
    "print(dim_weapon.head())\n",
    "\n",
    "print(\"\\nDimension Status Table:\")\n",
    "print(dim_status.head())\n",
    "\n",
    "print(\"\\nDimension Location Table:\")\n",
    "print(dim_location.head())"
   ]
  },
  {
   "cell_type": "markdown",
   "metadata": {},
   "source": [
    "# Pickle the Dims and Facts for Downstream processing"
   ]
  },
  {
   "cell_type": "code",
   "execution_count": 6,
   "metadata": {},
   "outputs": [],
   "source": [
    "import os\n",
    "\n",
    "# Create the directory if it doesn't exist\n",
    "os.makedirs('../.pickles', exist_ok=True)\n",
    "\n",
    "# Pickle the dimension tables\n",
    "dim_area.to_pickle('../.pickles/dim_area.pkl')\n",
    "dim_crime.to_pickle('../.pickles/dim_crime.pkl')\n",
    "dim_victim.to_pickle('../.pickles/dim_victim.pkl')\n",
    "dim_premise.to_pickle('../.pickles/dim_premise.pkl')\n",
    "dim_weapon.to_pickle('../.pickles/dim_weapon.pkl')\n",
    "dim_status.to_pickle('../.pickles/dim_status.pkl')\n",
    "dim_location.to_pickle('../.pickles/dim_location.pkl')\n",
    "\n",
    "# Pickle the fact table\n",
    "crime_facts.to_pickle('../.pickles/crime_facts.pkl')"
   ]
  }
 ],
 "metadata": {
  "kernelspec": {
   "display_name": "Python 3",
   "language": "python",
   "name": "python3"
  },
  "language_info": {
   "codemirror_mode": {
    "name": "ipython",
    "version": 3
   },
   "file_extension": ".py",
   "mimetype": "text/x-python",
   "name": "python",
   "nbconvert_exporter": "python",
   "pygments_lexer": "ipython3",
   "version": "3.13.1"
  }
 },
 "nbformat": 4,
 "nbformat_minor": 2
}
