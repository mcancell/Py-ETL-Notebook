{
 "cells": [
  {
   "cell_type": "markdown",
   "metadata": {},
   "source": [
    "# Fetch the Crime Data\n",
    "Let's try for 1M rows"
   ]
  },
  {
   "cell_type": "code",
   "execution_count": 2,
   "metadata": {},
   "outputs": [
    {
     "name": "stderr",
     "output_type": "stream",
     "text": [
      "Fetching data:   0%|          | 10000/2000000 [00:04<14:41, 2257.90record/s]"
     ]
    },
    {
     "name": "stdout",
     "output_type": "stream",
     "text": [
      "Max reinitialize offset reached. Reinitializing fetcher.\n"
     ]
    },
    {
     "name": "stderr",
     "output_type": "stream",
     "text": [
      "Fetching data:   1%|          | 20000/2000000 [00:14<14:37, 2256.46record/s] "
     ]
    },
    {
     "name": "stdout",
     "output_type": "stream",
     "text": [
      "Max reinitialize offset reached. Reinitializing fetcher.\n"
     ]
    },
    {
     "name": "stderr",
     "output_type": "stream",
     "text": [
      "Fetching data:   2%|▏         | 30000/2000000 [00:23<14:18, 2294.04record/s] "
     ]
    },
    {
     "name": "stdout",
     "output_type": "stream",
     "text": [
      "Max reinitialize offset reached. Reinitializing fetcher.\n"
     ]
    },
    {
     "name": "stderr",
     "output_type": "stream",
     "text": [
      "Fetching data:   2%|▏         | 40000/2000000 [00:33<15:37, 2089.86record/s] "
     ]
    },
    {
     "name": "stdout",
     "output_type": "stream",
     "text": [
      "Max reinitialize offset reached. Reinitializing fetcher.\n"
     ]
    },
    {
     "name": "stderr",
     "output_type": "stream",
     "text": [
      "Fetching data:   2%|▎         | 50000/2000000 [00:42<14:17, 2273.96record/s] "
     ]
    },
    {
     "name": "stdout",
     "output_type": "stream",
     "text": [
      "Max reinitialize offset reached. Reinitializing fetcher.\n"
     ]
    },
    {
     "name": "stderr",
     "output_type": "stream",
     "text": [
      "Fetching data:   3%|▎         | 60000/2000000 [00:51<19:00, 1701.67record/s] "
     ]
    },
    {
     "name": "stdout",
     "output_type": "stream",
     "text": [
      "Max reinitialize offset reached. Reinitializing fetcher.\n"
     ]
    },
    {
     "name": "stderr",
     "output_type": "stream",
     "text": [
      "Fetching data:   4%|▎         | 70000/2000000 [01:00<15:22, 2091.87record/s] "
     ]
    },
    {
     "name": "stdout",
     "output_type": "stream",
     "text": [
      "Max reinitialize offset reached. Reinitializing fetcher.\n"
     ]
    },
    {
     "name": "stderr",
     "output_type": "stream",
     "text": [
      "Fetching data:   4%|▍         | 80000/2000000 [01:10<16:33, 1933.22record/s] "
     ]
    },
    {
     "name": "stdout",
     "output_type": "stream",
     "text": [
      "Max reinitialize offset reached. Reinitializing fetcher.\n"
     ]
    },
    {
     "name": "stderr",
     "output_type": "stream",
     "text": [
      "Fetching data:   4%|▍         | 90000/2000000 [01:19<16:32, 1924.82record/s] "
     ]
    },
    {
     "name": "stdout",
     "output_type": "stream",
     "text": [
      "Max reinitialize offset reached. Reinitializing fetcher.\n"
     ]
    },
    {
     "name": "stderr",
     "output_type": "stream",
     "text": [
      "Fetching data:   5%|▌         | 100000/2000000 [01:29<16:39, 1900.09record/s]"
     ]
    },
    {
     "name": "stdout",
     "output_type": "stream",
     "text": [
      "Max reinitialize offset reached. Reinitializing fetcher.\n"
     ]
    },
    {
     "name": "stderr",
     "output_type": "stream",
     "text": [
      "Fetching data:   6%|▌         | 110000/2000000 [01:38<14:30, 2170.42record/s] "
     ]
    },
    {
     "name": "stdout",
     "output_type": "stream",
     "text": [
      "Max reinitialize offset reached. Reinitializing fetcher.\n"
     ]
    },
    {
     "name": "stderr",
     "output_type": "stream",
     "text": [
      "Fetching data:   6%|▌         | 120000/2000000 [01:47<14:42, 2131.43record/s] "
     ]
    },
    {
     "name": "stdout",
     "output_type": "stream",
     "text": [
      "Max reinitialize offset reached. Reinitializing fetcher.\n"
     ]
    },
    {
     "name": "stderr",
     "output_type": "stream",
     "text": [
      "Fetching data:   6%|▋         | 130000/2000000 [01:57<15:05, 2064.43record/s] "
     ]
    },
    {
     "name": "stdout",
     "output_type": "stream",
     "text": [
      "Max reinitialize offset reached. Reinitializing fetcher.\n"
     ]
    },
    {
     "name": "stderr",
     "output_type": "stream",
     "text": [
      "Fetching data:   7%|▋         | 140000/2000000 [02:06<14:49, 2090.75record/s] "
     ]
    },
    {
     "name": "stdout",
     "output_type": "stream",
     "text": [
      "Max reinitialize offset reached. Reinitializing fetcher.\n"
     ]
    },
    {
     "name": "stderr",
     "output_type": "stream",
     "text": [
      "Fetching data:   8%|▊         | 150000/2000000 [02:15<14:52, 2072.30record/s] "
     ]
    },
    {
     "name": "stdout",
     "output_type": "stream",
     "text": [
      "Max reinitialize offset reached. Reinitializing fetcher.\n"
     ]
    },
    {
     "name": "stderr",
     "output_type": "stream",
     "text": [
      "Fetching data:   8%|▊         | 160000/2000000 [02:25<14:58, 2047.25record/s] "
     ]
    },
    {
     "name": "stdout",
     "output_type": "stream",
     "text": [
      "Max reinitialize offset reached. Reinitializing fetcher.\n"
     ]
    },
    {
     "name": "stderr",
     "output_type": "stream",
     "text": [
      "Fetching data:   8%|▊         | 170000/2000000 [02:34<15:05, 2020.55record/s] "
     ]
    },
    {
     "name": "stdout",
     "output_type": "stream",
     "text": [
      "Max reinitialize offset reached. Reinitializing fetcher.\n"
     ]
    },
    {
     "name": "stderr",
     "output_type": "stream",
     "text": [
      "Fetching data:   9%|▉         | 180000/2000000 [02:44<17:03, 1778.66record/s]"
     ]
    },
    {
     "name": "stdout",
     "output_type": "stream",
     "text": [
      "Max reinitialize offset reached. Reinitializing fetcher.\n"
     ]
    },
    {
     "name": "stderr",
     "output_type": "stream",
     "text": [
      "Fetching data:  10%|▉         | 190000/2000000 [02:53<15:05, 1999.88record/s] "
     ]
    },
    {
     "name": "stdout",
     "output_type": "stream",
     "text": [
      "Max reinitialize offset reached. Reinitializing fetcher.\n"
     ]
    },
    {
     "name": "stderr",
     "output_type": "stream",
     "text": [
      "Fetching data:  10%|█         | 200000/2000000 [03:02<13:30, 2221.45record/s]"
     ]
    },
    {
     "name": "stdout",
     "output_type": "stream",
     "text": [
      "Max reinitialize offset reached. Reinitializing fetcher.\n"
     ]
    },
    {
     "name": "stderr",
     "output_type": "stream",
     "text": [
      "Fetching data:  10%|█         | 210000/2000000 [03:11<13:11, 2260.44record/s]"
     ]
    },
    {
     "name": "stdout",
     "output_type": "stream",
     "text": [
      "Max reinitialize offset reached. Reinitializing fetcher.\n"
     ]
    },
    {
     "name": "stderr",
     "output_type": "stream",
     "text": [
      "Fetching data:  11%|█         | 220000/2000000 [03:21<14:22, 2063.17record/s]"
     ]
    },
    {
     "name": "stdout",
     "output_type": "stream",
     "text": [
      "Max reinitialize offset reached. Reinitializing fetcher.\n"
     ]
    },
    {
     "name": "stderr",
     "output_type": "stream",
     "text": [
      "Fetching data:  12%|█▏        | 230000/2000000 [03:30<16:12, 1819.94record/s]"
     ]
    },
    {
     "name": "stdout",
     "output_type": "stream",
     "text": [
      "Max reinitialize offset reached. Reinitializing fetcher.\n"
     ]
    },
    {
     "name": "stderr",
     "output_type": "stream",
     "text": [
      "Fetching data:  12%|█▏        | 240000/2000000 [03:40<16:53, 1736.21record/s]"
     ]
    },
    {
     "name": "stdout",
     "output_type": "stream",
     "text": [
      "Max reinitialize offset reached. Reinitializing fetcher.\n"
     ]
    },
    {
     "name": "stderr",
     "output_type": "stream",
     "text": [
      "Fetching data:  12%|█▎        | 250000/2000000 [03:50<14:37, 1995.38record/s]"
     ]
    },
    {
     "name": "stdout",
     "output_type": "stream",
     "text": [
      "Max reinitialize offset reached. Reinitializing fetcher.\n"
     ]
    },
    {
     "name": "stderr",
     "output_type": "stream",
     "text": [
      "Fetching data:  13%|█▎        | 260000/2000000 [03:59<13:26, 2158.55record/s]"
     ]
    },
    {
     "name": "stdout",
     "output_type": "stream",
     "text": [
      "Max reinitialize offset reached. Reinitializing fetcher.\n"
     ]
    },
    {
     "name": "stderr",
     "output_type": "stream",
     "text": [
      "Fetching data:  14%|█▎        | 270000/2000000 [04:09<14:38, 1970.16record/s]"
     ]
    },
    {
     "name": "stdout",
     "output_type": "stream",
     "text": [
      "Max reinitialize offset reached. Reinitializing fetcher.\n"
     ]
    },
    {
     "name": "stderr",
     "output_type": "stream",
     "text": [
      "Fetching data:  14%|█▍        | 280000/2000000 [04:19<16:31, 1734.61record/s]"
     ]
    },
    {
     "name": "stdout",
     "output_type": "stream",
     "text": [
      "Max reinitialize offset reached. Reinitializing fetcher.\n"
     ]
    },
    {
     "name": "stderr",
     "output_type": "stream",
     "text": [
      "Fetching data:  14%|█▍        | 290000/2000000 [04:30<21:05, 1350.87record/s]"
     ]
    },
    {
     "name": "stdout",
     "output_type": "stream",
     "text": [
      "Max reinitialize offset reached. Reinitializing fetcher.\n"
     ]
    },
    {
     "name": "stderr",
     "output_type": "stream",
     "text": [
      "Fetching data:  15%|█▌        | 300000/2000000 [04:40<18:15, 1552.37record/s] "
     ]
    },
    {
     "name": "stdout",
     "output_type": "stream",
     "text": [
      "Max reinitialize offset reached. Reinitializing fetcher.\n"
     ]
    },
    {
     "name": "stderr",
     "output_type": "stream",
     "text": [
      "Fetching data:  16%|█▌        | 310000/2000000 [04:51<16:24, 1716.29record/s]"
     ]
    },
    {
     "name": "stdout",
     "output_type": "stream",
     "text": [
      "Max reinitialize offset reached. Reinitializing fetcher.\n"
     ]
    },
    {
     "name": "stderr",
     "output_type": "stream",
     "text": [
      "Fetching data:  16%|█▌        | 320000/2000000 [05:01<17:31, 1597.08record/s]"
     ]
    },
    {
     "name": "stdout",
     "output_type": "stream",
     "text": [
      "Max reinitialize offset reached. Reinitializing fetcher.\n"
     ]
    },
    {
     "name": "stderr",
     "output_type": "stream",
     "text": [
      "Fetching data:  16%|█▋        | 330000/2000000 [05:11<14:07, 1970.93record/s]"
     ]
    },
    {
     "name": "stdout",
     "output_type": "stream",
     "text": [
      "Max reinitialize offset reached. Reinitializing fetcher.\n"
     ]
    },
    {
     "name": "stderr",
     "output_type": "stream",
     "text": [
      "Fetching data:  17%|█▋        | 340000/2000000 [05:21<13:55, 1986.18record/s]"
     ]
    },
    {
     "name": "stdout",
     "output_type": "stream",
     "text": [
      "Max reinitialize offset reached. Reinitializing fetcher.\n"
     ]
    },
    {
     "name": "stderr",
     "output_type": "stream",
     "text": [
      "Fetching data:  18%|█▊        | 350000/2000000 [05:30<13:48, 1990.55record/s]"
     ]
    },
    {
     "name": "stdout",
     "output_type": "stream",
     "text": [
      "Max reinitialize offset reached. Reinitializing fetcher.\n"
     ]
    },
    {
     "name": "stderr",
     "output_type": "stream",
     "text": [
      "Fetching data:  18%|█▊        | 360000/2000000 [05:41<16:29, 1658.21record/s]"
     ]
    },
    {
     "name": "stdout",
     "output_type": "stream",
     "text": [
      "Max reinitialize offset reached. Reinitializing fetcher.\n"
     ]
    },
    {
     "name": "stderr",
     "output_type": "stream",
     "text": [
      "Fetching data:  18%|█▊        | 370000/2000000 [05:50<13:43, 1980.51record/s]"
     ]
    },
    {
     "name": "stdout",
     "output_type": "stream",
     "text": [
      "Max reinitialize offset reached. Reinitializing fetcher.\n"
     ]
    },
    {
     "name": "stderr",
     "output_type": "stream",
     "text": [
      "Fetching data:  19%|█▉        | 380000/2000000 [06:00<16:17, 1657.40record/s]"
     ]
    },
    {
     "name": "stdout",
     "output_type": "stream",
     "text": [
      "Max reinitialize offset reached. Reinitializing fetcher.\n"
     ]
    },
    {
     "name": "stderr",
     "output_type": "stream",
     "text": [
      "Fetching data:  20%|█▉        | 390000/2000000 [06:10<13:51, 1936.67record/s]"
     ]
    },
    {
     "name": "stdout",
     "output_type": "stream",
     "text": [
      "Max reinitialize offset reached. Reinitializing fetcher.\n"
     ]
    },
    {
     "name": "stderr",
     "output_type": "stream",
     "text": [
      "Fetching data:  20%|██        | 400000/2000000 [06:21<15:14, 1749.21record/s]"
     ]
    },
    {
     "name": "stdout",
     "output_type": "stream",
     "text": [
      "Max reinitialize offset reached. Reinitializing fetcher.\n"
     ]
    },
    {
     "name": "stderr",
     "output_type": "stream",
     "text": [
      "Fetching data:  20%|██        | 410000/2000000 [06:30<13:19, 1987.52record/s]"
     ]
    },
    {
     "name": "stdout",
     "output_type": "stream",
     "text": [
      "Max reinitialize offset reached. Reinitializing fetcher.\n"
     ]
    },
    {
     "name": "stderr",
     "output_type": "stream",
     "text": [
      "Fetching data:  21%|██        | 420000/2000000 [06:40<16:24, 1605.15record/s]"
     ]
    },
    {
     "name": "stdout",
     "output_type": "stream",
     "text": [
      "Max reinitialize offset reached. Reinitializing fetcher.\n"
     ]
    },
    {
     "name": "stderr",
     "output_type": "stream",
     "text": [
      "Fetching data:  22%|██▏       | 430000/2000000 [06:50<14:51, 1760.89record/s]"
     ]
    },
    {
     "name": "stdout",
     "output_type": "stream",
     "text": [
      "Max reinitialize offset reached. Reinitializing fetcher.\n"
     ]
    },
    {
     "name": "stderr",
     "output_type": "stream",
     "text": [
      "Fetching data:  22%|██▏       | 440000/2000000 [07:00<13:43, 1894.63record/s]"
     ]
    },
    {
     "name": "stdout",
     "output_type": "stream",
     "text": [
      "Max reinitialize offset reached. Reinitializing fetcher.\n"
     ]
    },
    {
     "name": "stderr",
     "output_type": "stream",
     "text": [
      "Fetching data:  22%|██▎       | 450000/2000000 [07:10<13:04, 1976.15record/s]"
     ]
    },
    {
     "name": "stdout",
     "output_type": "stream",
     "text": [
      "Max reinitialize offset reached. Reinitializing fetcher.\n"
     ]
    },
    {
     "name": "stderr",
     "output_type": "stream",
     "text": [
      "Fetching data:  23%|██▎       | 460000/2000000 [07:20<13:45, 1865.98record/s]"
     ]
    },
    {
     "name": "stdout",
     "output_type": "stream",
     "text": [
      "Max reinitialize offset reached. Reinitializing fetcher.\n"
     ]
    },
    {
     "name": "stderr",
     "output_type": "stream",
     "text": [
      "Fetching data:  24%|██▎       | 470000/2000000 [07:30<15:37, 1631.61record/s]"
     ]
    },
    {
     "name": "stdout",
     "output_type": "stream",
     "text": [
      "Max reinitialize offset reached. Reinitializing fetcher.\n"
     ]
    },
    {
     "name": "stderr",
     "output_type": "stream",
     "text": [
      "Fetching data:  24%|██▍       | 480000/2000000 [07:40<14:43, 1720.52record/s]"
     ]
    },
    {
     "name": "stdout",
     "output_type": "stream",
     "text": [
      "Max reinitialize offset reached. Reinitializing fetcher.\n"
     ]
    },
    {
     "name": "stderr",
     "output_type": "stream",
     "text": [
      "Fetching data:  24%|██▍       | 490000/2000000 [07:50<14:11, 1773.54record/s]"
     ]
    },
    {
     "name": "stdout",
     "output_type": "stream",
     "text": [
      "Max reinitialize offset reached. Reinitializing fetcher.\n"
     ]
    },
    {
     "name": "stderr",
     "output_type": "stream",
     "text": [
      "Fetching data:  25%|██▌       | 500000/2000000 [08:00<13:19, 1876.68record/s]"
     ]
    },
    {
     "name": "stdout",
     "output_type": "stream",
     "text": [
      "Max reinitialize offset reached. Reinitializing fetcher.\n"
     ]
    },
    {
     "name": "stderr",
     "output_type": "stream",
     "text": [
      "Fetching data:  26%|██▌       | 510000/2000000 [08:10<14:17, 1738.08record/s]"
     ]
    },
    {
     "name": "stdout",
     "output_type": "stream",
     "text": [
      "Max reinitialize offset reached. Reinitializing fetcher.\n"
     ]
    },
    {
     "name": "stderr",
     "output_type": "stream",
     "text": [
      "Fetching data:  26%|██▌       | 520000/2000000 [08:21<14:12, 1735.15record/s]"
     ]
    },
    {
     "name": "stdout",
     "output_type": "stream",
     "text": [
      "Max reinitialize offset reached. Reinitializing fetcher.\n"
     ]
    },
    {
     "name": "stderr",
     "output_type": "stream",
     "text": [
      "Fetching data:  26%|██▋       | 530000/2000000 [08:31<13:20, 1836.29record/s]"
     ]
    },
    {
     "name": "stdout",
     "output_type": "stream",
     "text": [
      "Max reinitialize offset reached. Reinitializing fetcher.\n"
     ]
    },
    {
     "name": "stderr",
     "output_type": "stream",
     "text": [
      "Fetching data:  27%|██▋       | 540000/2000000 [08:41<13:10, 1847.74record/s]"
     ]
    },
    {
     "name": "stdout",
     "output_type": "stream",
     "text": [
      "Max reinitialize offset reached. Reinitializing fetcher.\n"
     ]
    },
    {
     "name": "stderr",
     "output_type": "stream",
     "text": [
      "Fetching data:  28%|██▊       | 550000/2000000 [08:51<14:09, 1707.30record/s]"
     ]
    },
    {
     "name": "stdout",
     "output_type": "stream",
     "text": [
      "Max reinitialize offset reached. Reinitializing fetcher.\n"
     ]
    },
    {
     "name": "stderr",
     "output_type": "stream",
     "text": [
      "Fetching data:  28%|██▊       | 560000/2000000 [09:01<13:32, 1772.46record/s]"
     ]
    },
    {
     "name": "stdout",
     "output_type": "stream",
     "text": [
      "Max reinitialize offset reached. Reinitializing fetcher.\n"
     ]
    },
    {
     "name": "stderr",
     "output_type": "stream",
     "text": [
      "Fetching data:  28%|██▊       | 570000/2000000 [09:12<15:50, 1504.75record/s]"
     ]
    },
    {
     "name": "stdout",
     "output_type": "stream",
     "text": [
      "Max reinitialize offset reached. Reinitializing fetcher.\n"
     ]
    },
    {
     "name": "stderr",
     "output_type": "stream",
     "text": [
      "Fetching data:  29%|██▉       | 580000/2000000 [09:22<13:08, 1801.33record/s]"
     ]
    },
    {
     "name": "stdout",
     "output_type": "stream",
     "text": [
      "Max reinitialize offset reached. Reinitializing fetcher.\n"
     ]
    },
    {
     "name": "stderr",
     "output_type": "stream",
     "text": [
      "Fetching data:  30%|██▉       | 590000/2000000 [09:32<13:52, 1694.10record/s]"
     ]
    },
    {
     "name": "stdout",
     "output_type": "stream",
     "text": [
      "Max reinitialize offset reached. Reinitializing fetcher.\n"
     ]
    },
    {
     "name": "stderr",
     "output_type": "stream",
     "text": [
      "Fetching data:  30%|███       | 600000/2000000 [09:43<15:33, 1499.48record/s]"
     ]
    },
    {
     "name": "stdout",
     "output_type": "stream",
     "text": [
      "Max reinitialize offset reached. Reinitializing fetcher.\n"
     ]
    },
    {
     "name": "stderr",
     "output_type": "stream",
     "text": [
      "Fetching data:  30%|███       | 610000/2000000 [09:54<16:08, 1435.62record/s]"
     ]
    },
    {
     "name": "stdout",
     "output_type": "stream",
     "text": [
      "Max reinitialize offset reached. Reinitializing fetcher.\n"
     ]
    },
    {
     "name": "stderr",
     "output_type": "stream",
     "text": [
      "Fetching data:  31%|███       | 620000/2000000 [10:04<13:22, 1720.38record/s]"
     ]
    },
    {
     "name": "stdout",
     "output_type": "stream",
     "text": [
      "Max reinitialize offset reached. Reinitializing fetcher.\n"
     ]
    },
    {
     "name": "stderr",
     "output_type": "stream",
     "text": [
      "Fetching data:  32%|███▏      | 630000/2000000 [10:15<13:15, 1722.73record/s]"
     ]
    },
    {
     "name": "stdout",
     "output_type": "stream",
     "text": [
      "Max reinitialize offset reached. Reinitializing fetcher.\n"
     ]
    },
    {
     "name": "stderr",
     "output_type": "stream",
     "text": [
      "Fetching data:  32%|███▏      | 640000/2000000 [10:26<17:26, 1299.68record/s]"
     ]
    },
    {
     "name": "stdout",
     "output_type": "stream",
     "text": [
      "Max reinitialize offset reached. Reinitializing fetcher.\n"
     ]
    },
    {
     "name": "stderr",
     "output_type": "stream",
     "text": [
      "Fetching data:  32%|███▎      | 650000/2000000 [10:36<13:21, 1684.19record/s]"
     ]
    },
    {
     "name": "stdout",
     "output_type": "stream",
     "text": [
      "Max reinitialize offset reached. Reinitializing fetcher.\n"
     ]
    },
    {
     "name": "stderr",
     "output_type": "stream",
     "text": [
      "Fetching data:  33%|███▎      | 660000/2000000 [10:47<12:43, 1755.95record/s]"
     ]
    },
    {
     "name": "stdout",
     "output_type": "stream",
     "text": [
      "Max reinitialize offset reached. Reinitializing fetcher.\n"
     ]
    },
    {
     "name": "stderr",
     "output_type": "stream",
     "text": [
      "Fetching data:  34%|███▎      | 670000/2000000 [10:57<13:29, 1643.17record/s]"
     ]
    },
    {
     "name": "stdout",
     "output_type": "stream",
     "text": [
      "Max reinitialize offset reached. Reinitializing fetcher.\n"
     ]
    },
    {
     "name": "stderr",
     "output_type": "stream",
     "text": [
      "Fetching data:  34%|███▍      | 680000/2000000 [11:08<13:20, 1649.91record/s]"
     ]
    },
    {
     "name": "stdout",
     "output_type": "stream",
     "text": [
      "Max reinitialize offset reached. Reinitializing fetcher.\n"
     ]
    },
    {
     "name": "stderr",
     "output_type": "stream",
     "text": [
      "Fetching data:  34%|███▍      | 690000/2000000 [11:18<14:13, 1534.10record/s]"
     ]
    },
    {
     "name": "stdout",
     "output_type": "stream",
     "text": [
      "Max reinitialize offset reached. Reinitializing fetcher.\n"
     ]
    },
    {
     "name": "stderr",
     "output_type": "stream",
     "text": [
      "Fetching data:  35%|███▌      | 700000/2000000 [11:29<12:42, 1705.19record/s]"
     ]
    },
    {
     "name": "stdout",
     "output_type": "stream",
     "text": [
      "Max reinitialize offset reached. Reinitializing fetcher.\n"
     ]
    },
    {
     "name": "stderr",
     "output_type": "stream",
     "text": [
      "Fetching data:  36%|███▌      | 710000/2000000 [11:40<13:26, 1598.80record/s]"
     ]
    },
    {
     "name": "stdout",
     "output_type": "stream",
     "text": [
      "Max reinitialize offset reached. Reinitializing fetcher.\n"
     ]
    },
    {
     "name": "stderr",
     "output_type": "stream",
     "text": [
      "Fetching data:  36%|███▌      | 720000/2000000 [11:50<12:51, 1659.56record/s]"
     ]
    },
    {
     "name": "stdout",
     "output_type": "stream",
     "text": [
      "Max reinitialize offset reached. Reinitializing fetcher.\n"
     ]
    },
    {
     "name": "stderr",
     "output_type": "stream",
     "text": [
      "Fetching data:  36%|███▋      | 730000/2000000 [12:01<13:48, 1532.37record/s]"
     ]
    },
    {
     "name": "stdout",
     "output_type": "stream",
     "text": [
      "Max reinitialize offset reached. Reinitializing fetcher.\n"
     ]
    },
    {
     "name": "stderr",
     "output_type": "stream",
     "text": [
      "Fetching data:  37%|███▋      | 740000/2000000 [12:12<14:55, 1406.84record/s]"
     ]
    },
    {
     "name": "stdout",
     "output_type": "stream",
     "text": [
      "Max reinitialize offset reached. Reinitializing fetcher.\n"
     ]
    },
    {
     "name": "stderr",
     "output_type": "stream",
     "text": [
      "Fetching data:  38%|███▊      | 750000/2000000 [12:23<14:14, 1463.29record/s]"
     ]
    },
    {
     "name": "stdout",
     "output_type": "stream",
     "text": [
      "Max reinitialize offset reached. Reinitializing fetcher.\n"
     ]
    },
    {
     "name": "stderr",
     "output_type": "stream",
     "text": [
      "Fetching data:  38%|███▊      | 760000/2000000 [12:34<13:32, 1526.90record/s]"
     ]
    },
    {
     "name": "stdout",
     "output_type": "stream",
     "text": [
      "Max reinitialize offset reached. Reinitializing fetcher.\n"
     ]
    },
    {
     "name": "stderr",
     "output_type": "stream",
     "text": [
      "Fetching data:  38%|███▊      | 770000/2000000 [12:45<13:06, 1563.96record/s]"
     ]
    },
    {
     "name": "stdout",
     "output_type": "stream",
     "text": [
      "Max reinitialize offset reached. Reinitializing fetcher.\n"
     ]
    },
    {
     "name": "stderr",
     "output_type": "stream",
     "text": [
      "Fetching data:  39%|███▉      | 780000/2000000 [12:55<12:41, 1602.84record/s]"
     ]
    },
    {
     "name": "stdout",
     "output_type": "stream",
     "text": [
      "Max reinitialize offset reached. Reinitializing fetcher.\n"
     ]
    },
    {
     "name": "stderr",
     "output_type": "stream",
     "text": [
      "Fetching data:  40%|███▉      | 790000/2000000 [13:06<13:17, 1517.67record/s]"
     ]
    },
    {
     "name": "stdout",
     "output_type": "stream",
     "text": [
      "Max reinitialize offset reached. Reinitializing fetcher.\n"
     ]
    },
    {
     "name": "stderr",
     "output_type": "stream",
     "text": [
      "Fetching data:  40%|████      | 800000/2000000 [13:18<13:17, 1505.11record/s]"
     ]
    },
    {
     "name": "stdout",
     "output_type": "stream",
     "text": [
      "Max reinitialize offset reached. Reinitializing fetcher.\n"
     ]
    },
    {
     "name": "stderr",
     "output_type": "stream",
     "text": [
      "Fetching data:  40%|████      | 810000/2000000 [13:29<13:57, 1420.35record/s]"
     ]
    },
    {
     "name": "stdout",
     "output_type": "stream",
     "text": [
      "Max reinitialize offset reached. Reinitializing fetcher.\n"
     ]
    },
    {
     "name": "stderr",
     "output_type": "stream",
     "text": [
      "Fetching data:  41%|████      | 820000/2000000 [13:40<13:19, 1476.21record/s]"
     ]
    },
    {
     "name": "stdout",
     "output_type": "stream",
     "text": [
      "Max reinitialize offset reached. Reinitializing fetcher.\n"
     ]
    },
    {
     "name": "stderr",
     "output_type": "stream",
     "text": [
      "Fetching data:  42%|████▏     | 830000/2000000 [13:51<13:06, 1488.41record/s]"
     ]
    },
    {
     "name": "stdout",
     "output_type": "stream",
     "text": [
      "Max reinitialize offset reached. Reinitializing fetcher.\n"
     ]
    },
    {
     "name": "stderr",
     "output_type": "stream",
     "text": [
      "Fetching data:  42%|████▏     | 840000/2000000 [14:01<12:06, 1597.79record/s]"
     ]
    },
    {
     "name": "stdout",
     "output_type": "stream",
     "text": [
      "Max reinitialize offset reached. Reinitializing fetcher.\n"
     ]
    },
    {
     "name": "stderr",
     "output_type": "stream",
     "text": [
      "Fetching data:  42%|████▎     | 850000/2000000 [14:12<12:10, 1574.13record/s]"
     ]
    },
    {
     "name": "stdout",
     "output_type": "stream",
     "text": [
      "Max reinitialize offset reached. Reinitializing fetcher.\n"
     ]
    },
    {
     "name": "stderr",
     "output_type": "stream",
     "text": [
      "Fetching data:  43%|████▎     | 860000/2000000 [14:23<12:20, 1539.19record/s]"
     ]
    },
    {
     "name": "stdout",
     "output_type": "stream",
     "text": [
      "Max reinitialize offset reached. Reinitializing fetcher.\n"
     ]
    },
    {
     "name": "stderr",
     "output_type": "stream",
     "text": [
      "Fetching data:  44%|████▎     | 870000/2000000 [14:34<12:33, 1499.14record/s]"
     ]
    },
    {
     "name": "stdout",
     "output_type": "stream",
     "text": [
      "Max reinitialize offset reached. Reinitializing fetcher.\n"
     ]
    },
    {
     "name": "stderr",
     "output_type": "stream",
     "text": [
      "Fetching data:  44%|████▍     | 880000/2000000 [14:45<13:23, 1393.79record/s]"
     ]
    },
    {
     "name": "stdout",
     "output_type": "stream",
     "text": [
      "Max reinitialize offset reached. Reinitializing fetcher.\n"
     ]
    },
    {
     "name": "stderr",
     "output_type": "stream",
     "text": [
      "Fetching data:  44%|████▍     | 890000/2000000 [14:56<13:03, 1417.15record/s]"
     ]
    },
    {
     "name": "stdout",
     "output_type": "stream",
     "text": [
      "Max reinitialize offset reached. Reinitializing fetcher.\n"
     ]
    },
    {
     "name": "stderr",
     "output_type": "stream",
     "text": [
      "Fetching data:  45%|████▌     | 900000/2000000 [15:07<13:04, 1402.67record/s]"
     ]
    },
    {
     "name": "stdout",
     "output_type": "stream",
     "text": [
      "Max reinitialize offset reached. Reinitializing fetcher.\n"
     ]
    },
    {
     "name": "stderr",
     "output_type": "stream",
     "text": [
      "Fetching data:  46%|████▌     | 910000/2000000 [15:19<12:04, 1505.38record/s]"
     ]
    },
    {
     "name": "stdout",
     "output_type": "stream",
     "text": [
      "Max reinitialize offset reached. Reinitializing fetcher.\n"
     ]
    },
    {
     "name": "stderr",
     "output_type": "stream",
     "text": [
      "Fetching data:  46%|████▌     | 920000/2000000 [15:30<12:35, 1430.23record/s]"
     ]
    },
    {
     "name": "stdout",
     "output_type": "stream",
     "text": [
      "Max reinitialize offset reached. Reinitializing fetcher.\n"
     ]
    },
    {
     "name": "stderr",
     "output_type": "stream",
     "text": [
      "Fetching data:  46%|████▋     | 930000/2000000 [15:42<13:15, 1344.25record/s]"
     ]
    },
    {
     "name": "stdout",
     "output_type": "stream",
     "text": [
      "Max reinitialize offset reached. Reinitializing fetcher.\n"
     ]
    },
    {
     "name": "stderr",
     "output_type": "stream",
     "text": [
      "Fetching data:  47%|████▋     | 940000/2000000 [15:54<14:53, 1186.24record/s]"
     ]
    },
    {
     "name": "stdout",
     "output_type": "stream",
     "text": [
      "Max reinitialize offset reached. Reinitializing fetcher.\n"
     ]
    },
    {
     "name": "stderr",
     "output_type": "stream",
     "text": [
      "Fetching data:  48%|████▊     | 950000/2000000 [16:06<12:35, 1390.39record/s]"
     ]
    },
    {
     "name": "stdout",
     "output_type": "stream",
     "text": [
      "Max reinitialize offset reached. Reinitializing fetcher.\n"
     ]
    },
    {
     "name": "stderr",
     "output_type": "stream",
     "text": [
      "Fetching data:  48%|████▊     | 960000/2000000 [16:17<11:56, 1452.50record/s]"
     ]
    },
    {
     "name": "stdout",
     "output_type": "stream",
     "text": [
      "Max reinitialize offset reached. Reinitializing fetcher.\n"
     ]
    },
    {
     "name": "stderr",
     "output_type": "stream",
     "text": [
      "Fetching data:  48%|████▊     | 970000/2000000 [16:28<12:59, 1320.90record/s]"
     ]
    },
    {
     "name": "stdout",
     "output_type": "stream",
     "text": [
      "Max reinitialize offset reached. Reinitializing fetcher.\n"
     ]
    },
    {
     "name": "stderr",
     "output_type": "stream",
     "text": [
      "Fetching data:  49%|████▊     | 972000/2000000 [16:35<29:52, 573.52record/s] "
     ]
    },
    {
     "name": "stdout",
     "output_type": "stream",
     "text": [
      "No more data to fetch, attempt 1/5.\n",
      "No more data to fetch, attempt 2/5.\n",
      "No more data to fetch, attempt 3/5.\n"
     ]
    },
    {
     "name": "stderr",
     "output_type": "stream",
     "text": [
      "Fetching data:  49%|████▊     | 972000/2000000 [16:50<29:52, 573.52record/s]"
     ]
    },
    {
     "name": "stdout",
     "output_type": "stream",
     "text": [
      "No more data to fetch, attempt 4/5.\n"
     ]
    },
    {
     "name": "stderr",
     "output_type": "stream",
     "text": [
      "Fetching data:  49%|████▊     | 972000/2000000 [16:58<17:56, 954.80record/s]"
     ]
    },
    {
     "name": "stdout",
     "output_type": "stream",
     "text": [
      "No more data to fetch, attempt 5/5.\n",
      "Maximum consecutive no data attempts reached, stopping fetch process.\n",
      "Storage directory 'C:/Users/mike/Data/Public' is ready.\n"
     ]
    },
    {
     "name": "stderr",
     "output_type": "stream",
     "text": [
      "\n"
     ]
    },
    {
     "name": "stdout",
     "output_type": "stream",
     "text": [
      "Data written to 'C:/Users/mike/Data/Public\\LAPD_Crime_Data.json'.\n",
      "Compressing file 'C:/Users/mike/Data/Public\\LAPD_Crime_Data.json' to 'C:/Users/mike/Data/Public\\LAPD_Crime_Data.json.zip'\n",
      "Data compressed to 'C:/Users/mike/Data/Public\\LAPD_Crime_Data.json.zip'.\n",
      "Data fetching and storing process completed.\n"
     ]
    }
   ],
   "source": [
    "from datetime import datetime\n",
    "from dateutil.relativedelta import relativedelta\n",
    "import sys\n",
    "\n",
    "# Append paths to the system path to import custom modules\n",
    "sys.path.append('../../../Common')\n",
    "sys.path.append('../../../Common/Functions')\n",
    "\n",
    "# Import custom functions for fetching data\n",
    "from func_Fetch_Data_v2 import fetch_store_data, JSONDataFetcher\n",
    "\n",
    "# Calculate the date from 60 months ago from the end of the last second of the last month\n",
    "from_date = datetime.now().replace(day=1) - relativedelta(months=60, seconds=1)\n",
    "from_date = from_date.replace(day=1)\n",
    "from_date_str = from_date.isoformat()\n",
    "\n",
    "# Create the where clause for the query\n",
    "where_clause = f\"date_rptd>='{from_date_str}'\"\n",
    "\n",
    "if __name__ == \"__main__\":\n",
    "    # Define the URL for the data source with placeholders for limit, offset, and where clause\n",
    "    url = \"https://data.lacity.org/resource/2nrs-mtv8.json?$limit={}&$offset={}&$where={}\"\n",
    "    \n",
    "    # Set the chunk size for data fetching\n",
    "    chunk_size = 1000\n",
    "    \n",
    "    # Initialize the data fetcher with the URL, chunk size, and where clause\n",
    "    fetcher = JSONDataFetcher(url, chunk_size, where_clause)\n",
    "    \n",
    "    # Define the parameters for data fetching and storage\n",
    "    limit = 2000000\n",
    "    offset = 0\n",
    "    storage_dir = 'C:/Users/mike/Data/Public'\n",
    "    storage_file = 'LAPD_Crime_Data.json'\n",
    "    compress = True\n",
    "    mode = 'w'\n",
    "    pause_duration = 2\n",
    "    max_reinitialize_offset = 10000\n",
    "\n",
    "    # Fetch and store the data using the defined parameters\n",
    "    fetch_store_data(fetcher, limit, offset, storage_dir, storage_file, compress, mode)"
   ]
  }
 ],
 "metadata": {
  "kernelspec": {
   "display_name": "Python 3",
   "language": "python",
   "name": "python3"
  },
  "language_info": {
   "codemirror_mode": {
    "name": "ipython",
    "version": 3
   },
   "file_extension": ".py",
   "mimetype": "text/x-python",
   "name": "python",
   "nbconvert_exporter": "python",
   "pygments_lexer": "ipython3",
   "version": "3.13.1"
  }
 },
 "nbformat": 4,
 "nbformat_minor": 2
}
