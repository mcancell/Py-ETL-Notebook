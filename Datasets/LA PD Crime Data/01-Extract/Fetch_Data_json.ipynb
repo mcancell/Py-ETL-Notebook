{
 "cells": [
  {
   "cell_type": "markdown",
   "metadata": {},
   "source": [
    "# Fetch the Crime Data"
   ]
  },
  {
   "cell_type": "markdown",
   "metadata": {},
   "source": [
    "## First Let's Get all the Crime Data from 2010 to 2019"
   ]
  },
  {
   "cell_type": "code",
   "execution_count": 1,
   "metadata": {},
   "outputs": [
    {
     "name": "stderr",
     "output_type": "stream",
     "text": [
      "Fetching data:   0%|          | 10000/10000000 [00:04<1:06:28, 2504.85record/s]"
     ]
    },
    {
     "name": "stdout",
     "output_type": "stream",
     "text": [
      "Max reinitialize offset reached. Reinitializing fetcher.\n"
     ]
    },
    {
     "name": "stderr",
     "output_type": "stream",
     "text": [
      "Fetching data:   0%|          | 20000/10000000 [00:13<1:10:33, 2357.40record/s]"
     ]
    },
    {
     "name": "stdout",
     "output_type": "stream",
     "text": [
      "Max reinitialize offset reached. Reinitializing fetcher.\n"
     ]
    },
    {
     "name": "stderr",
     "output_type": "stream",
     "text": [
      "Fetching data:   0%|          | 30000/10000000 [00:21<1:04:21, 2582.08record/s]"
     ]
    },
    {
     "name": "stdout",
     "output_type": "stream",
     "text": [
      "Max reinitialize offset reached. Reinitializing fetcher.\n"
     ]
    },
    {
     "name": "stderr",
     "output_type": "stream",
     "text": [
      "Fetching data:   0%|          | 40000/10000000 [00:30<1:05:23, 2538.76record/s]"
     ]
    },
    {
     "name": "stdout",
     "output_type": "stream",
     "text": [
      "Max reinitialize offset reached. Reinitializing fetcher.\n"
     ]
    },
    {
     "name": "stderr",
     "output_type": "stream",
     "text": [
      "Fetching data:   0%|          | 50000/10000000 [00:39<1:06:56, 2477.13record/s]"
     ]
    },
    {
     "name": "stdout",
     "output_type": "stream",
     "text": [
      "Max reinitialize offset reached. Reinitializing fetcher.\n"
     ]
    },
    {
     "name": "stderr",
     "output_type": "stream",
     "text": [
      "Fetching data:   1%|          | 60000/10000000 [00:47<1:08:42, 2410.91record/s]"
     ]
    },
    {
     "name": "stdout",
     "output_type": "stream",
     "text": [
      "Max reinitialize offset reached. Reinitializing fetcher.\n"
     ]
    },
    {
     "name": "stderr",
     "output_type": "stream",
     "text": [
      "Fetching data:   1%|          | 70000/10000000 [00:56<1:05:13, 2537.43record/s]"
     ]
    },
    {
     "name": "stdout",
     "output_type": "stream",
     "text": [
      "Max reinitialize offset reached. Reinitializing fetcher.\n"
     ]
    },
    {
     "name": "stderr",
     "output_type": "stream",
     "text": [
      "Fetching data:   1%|          | 80000/10000000 [01:04<1:11:12, 2321.82record/s]"
     ]
    },
    {
     "name": "stdout",
     "output_type": "stream",
     "text": [
      "Max reinitialize offset reached. Reinitializing fetcher.\n"
     ]
    },
    {
     "name": "stderr",
     "output_type": "stream",
     "text": [
      "Fetching data:   1%|          | 90000/10000000 [01:13<1:09:09, 2388.47record/s]"
     ]
    },
    {
     "name": "stdout",
     "output_type": "stream",
     "text": [
      "Max reinitialize offset reached. Reinitializing fetcher.\n"
     ]
    },
    {
     "name": "stderr",
     "output_type": "stream",
     "text": [
      "Fetching data:   1%|          | 100000/10000000 [01:22<1:09:27, 2375.30record/s]"
     ]
    },
    {
     "name": "stdout",
     "output_type": "stream",
     "text": [
      "Max reinitialize offset reached. Reinitializing fetcher.\n"
     ]
    },
    {
     "name": "stderr",
     "output_type": "stream",
     "text": [
      "Fetching data:   1%|          | 110000/10000000 [01:31<1:21:20, 2026.45record/s]"
     ]
    },
    {
     "name": "stdout",
     "output_type": "stream",
     "text": [
      "Max reinitialize offset reached. Reinitializing fetcher.\n"
     ]
    },
    {
     "name": "stderr",
     "output_type": "stream",
     "text": [
      "Fetching data:   1%|          | 120000/10000000 [01:40<1:13:43, 2233.69record/s]"
     ]
    },
    {
     "name": "stdout",
     "output_type": "stream",
     "text": [
      "Max reinitialize offset reached. Reinitializing fetcher.\n"
     ]
    },
    {
     "name": "stderr",
     "output_type": "stream",
     "text": [
      "Fetching data:   1%|▏         | 130000/10000000 [01:49<1:13:26, 2239.78record/s]"
     ]
    },
    {
     "name": "stdout",
     "output_type": "stream",
     "text": [
      "Max reinitialize offset reached. Reinitializing fetcher.\n"
     ]
    },
    {
     "name": "stderr",
     "output_type": "stream",
     "text": [
      "Fetching data:   1%|▏         | 140000/10000000 [01:58<1:16:46, 2140.63record/s]"
     ]
    },
    {
     "name": "stdout",
     "output_type": "stream",
     "text": [
      "Max reinitialize offset reached. Reinitializing fetcher.\n"
     ]
    },
    {
     "name": "stderr",
     "output_type": "stream",
     "text": [
      "Fetching data:   2%|▏         | 150000/10000000 [02:07<1:20:39, 2035.37record/s]"
     ]
    },
    {
     "name": "stdout",
     "output_type": "stream",
     "text": [
      "Max reinitialize offset reached. Reinitializing fetcher.\n"
     ]
    },
    {
     "name": "stderr",
     "output_type": "stream",
     "text": [
      "Fetching data:   2%|▏         | 160000/10000000 [02:16<1:16:40, 2138.87record/s]"
     ]
    },
    {
     "name": "stdout",
     "output_type": "stream",
     "text": [
      "Max reinitialize offset reached. Reinitializing fetcher.\n"
     ]
    },
    {
     "name": "stderr",
     "output_type": "stream",
     "text": [
      "Fetching data:   2%|▏         | 170000/10000000 [02:25<1:14:36, 2195.87record/s]"
     ]
    },
    {
     "name": "stdout",
     "output_type": "stream",
     "text": [
      "Max reinitialize offset reached. Reinitializing fetcher.\n"
     ]
    },
    {
     "name": "stderr",
     "output_type": "stream",
     "text": [
      "Fetching data:   2%|▏         | 180000/10000000 [02:34<1:21:10, 2016.15record/s]"
     ]
    },
    {
     "name": "stdout",
     "output_type": "stream",
     "text": [
      "Max reinitialize offset reached. Reinitializing fetcher.\n"
     ]
    },
    {
     "name": "stderr",
     "output_type": "stream",
     "text": [
      "Fetching data:   2%|▏         | 190000/10000000 [02:43<1:18:42, 2077.15record/s]"
     ]
    },
    {
     "name": "stdout",
     "output_type": "stream",
     "text": [
      "Max reinitialize offset reached. Reinitializing fetcher.\n"
     ]
    },
    {
     "name": "stderr",
     "output_type": "stream",
     "text": [
      "Fetching data:   2%|▏         | 200000/10000000 [02:53<1:38:00, 1666.40record/s]"
     ]
    },
    {
     "name": "stdout",
     "output_type": "stream",
     "text": [
      "Max reinitialize offset reached. Reinitializing fetcher.\n"
     ]
    },
    {
     "name": "stderr",
     "output_type": "stream",
     "text": [
      "Fetching data:   2%|▏         | 210000/10000000 [03:02<1:24:28, 1931.48record/s]"
     ]
    },
    {
     "name": "stdout",
     "output_type": "stream",
     "text": [
      "Max reinitialize offset reached. Reinitializing fetcher.\n"
     ]
    },
    {
     "name": "stderr",
     "output_type": "stream",
     "text": [
      "Fetching data:   2%|▏         | 220000/10000000 [03:11<1:11:13, 2288.64record/s]"
     ]
    },
    {
     "name": "stdout",
     "output_type": "stream",
     "text": [
      "Max reinitialize offset reached. Reinitializing fetcher.\n"
     ]
    },
    {
     "name": "stderr",
     "output_type": "stream",
     "text": [
      "Fetching data:   2%|▏         | 230000/10000000 [03:21<1:29:53, 1811.35record/s]"
     ]
    },
    {
     "name": "stdout",
     "output_type": "stream",
     "text": [
      "Max reinitialize offset reached. Reinitializing fetcher.\n"
     ]
    },
    {
     "name": "stderr",
     "output_type": "stream",
     "text": [
      "Fetching data:   2%|▏         | 240000/10000000 [03:30<1:11:08, 2286.65record/s]"
     ]
    },
    {
     "name": "stdout",
     "output_type": "stream",
     "text": [
      "Max reinitialize offset reached. Reinitializing fetcher.\n"
     ]
    },
    {
     "name": "stderr",
     "output_type": "stream",
     "text": [
      "Fetching data:   2%|▎         | 250000/10000000 [03:40<1:26:05, 1887.39record/s]"
     ]
    },
    {
     "name": "stdout",
     "output_type": "stream",
     "text": [
      "Max reinitialize offset reached. Reinitializing fetcher.\n"
     ]
    },
    {
     "name": "stderr",
     "output_type": "stream",
     "text": [
      "Fetching data:   3%|▎         | 260000/10000000 [03:49<1:32:07, 1762.06record/s]"
     ]
    },
    {
     "name": "stdout",
     "output_type": "stream",
     "text": [
      "Max reinitialize offset reached. Reinitializing fetcher.\n"
     ]
    },
    {
     "name": "stderr",
     "output_type": "stream",
     "text": [
      "Fetching data:   3%|▎         | 270000/10000000 [03:59<1:16:34, 2117.92record/s]"
     ]
    },
    {
     "name": "stdout",
     "output_type": "stream",
     "text": [
      "Max reinitialize offset reached. Reinitializing fetcher.\n"
     ]
    },
    {
     "name": "stderr",
     "output_type": "stream",
     "text": [
      "Fetching data:   3%|▎         | 280000/10000000 [04:08<1:32:34, 1750.01record/s]"
     ]
    },
    {
     "name": "stdout",
     "output_type": "stream",
     "text": [
      "Max reinitialize offset reached. Reinitializing fetcher.\n"
     ]
    },
    {
     "name": "stderr",
     "output_type": "stream",
     "text": [
      "Fetching data:   3%|▎         | 290000/10000000 [04:19<1:49:11, 1482.02record/s]"
     ]
    },
    {
     "name": "stdout",
     "output_type": "stream",
     "text": [
      "Max reinitialize offset reached. Reinitializing fetcher.\n"
     ]
    },
    {
     "name": "stderr",
     "output_type": "stream",
     "text": [
      "Fetching data:   3%|▎         | 300000/10000000 [04:30<1:33:51, 1722.34record/s]"
     ]
    },
    {
     "name": "stdout",
     "output_type": "stream",
     "text": [
      "Max reinitialize offset reached. Reinitializing fetcher.\n"
     ]
    },
    {
     "name": "stderr",
     "output_type": "stream",
     "text": [
      "Fetching data:   3%|▎         | 310000/10000000 [04:39<1:20:55, 1995.57record/s]"
     ]
    },
    {
     "name": "stdout",
     "output_type": "stream",
     "text": [
      "Max reinitialize offset reached. Reinitializing fetcher.\n"
     ]
    },
    {
     "name": "stderr",
     "output_type": "stream",
     "text": [
      "Fetching data:   3%|▎         | 320000/10000000 [04:49<1:34:02, 1715.43record/s]"
     ]
    },
    {
     "name": "stdout",
     "output_type": "stream",
     "text": [
      "Max reinitialize offset reached. Reinitializing fetcher.\n"
     ]
    },
    {
     "name": "stderr",
     "output_type": "stream",
     "text": [
      "Fetching data:   3%|▎         | 330000/10000000 [05:00<1:42:00, 1580.05record/s]"
     ]
    },
    {
     "name": "stdout",
     "output_type": "stream",
     "text": [
      "Max reinitialize offset reached. Reinitializing fetcher.\n"
     ]
    },
    {
     "name": "stderr",
     "output_type": "stream",
     "text": [
      "Fetching data:   3%|▎         | 340000/10000000 [05:10<1:40:12, 1606.55record/s]"
     ]
    },
    {
     "name": "stdout",
     "output_type": "stream",
     "text": [
      "Max reinitialize offset reached. Reinitializing fetcher.\n"
     ]
    },
    {
     "name": "stderr",
     "output_type": "stream",
     "text": [
      "Fetching data:   4%|▎         | 350000/10000000 [05:21<1:34:07, 1708.63record/s]"
     ]
    },
    {
     "name": "stdout",
     "output_type": "stream",
     "text": [
      "Max reinitialize offset reached. Reinitializing fetcher.\n"
     ]
    },
    {
     "name": "stderr",
     "output_type": "stream",
     "text": [
      "Fetching data:   4%|▎         | 360000/10000000 [05:31<1:25:24, 1881.10record/s]"
     ]
    },
    {
     "name": "stdout",
     "output_type": "stream",
     "text": [
      "Max reinitialize offset reached. Reinitializing fetcher.\n"
     ]
    },
    {
     "name": "stderr",
     "output_type": "stream",
     "text": [
      "Fetching data:   4%|▎         | 370000/10000000 [05:40<1:23:49, 1914.75record/s]"
     ]
    },
    {
     "name": "stdout",
     "output_type": "stream",
     "text": [
      "Max reinitialize offset reached. Reinitializing fetcher.\n"
     ]
    },
    {
     "name": "stderr",
     "output_type": "stream",
     "text": [
      "Fetching data:   4%|▍         | 380000/10000000 [05:51<1:31:47, 1746.59record/s]"
     ]
    },
    {
     "name": "stdout",
     "output_type": "stream",
     "text": [
      "Max reinitialize offset reached. Reinitializing fetcher.\n"
     ]
    },
    {
     "name": "stderr",
     "output_type": "stream",
     "text": [
      "Fetching data:   4%|▍         | 390000/10000000 [06:00<1:19:54, 2004.42record/s]"
     ]
    },
    {
     "name": "stdout",
     "output_type": "stream",
     "text": [
      "Max reinitialize offset reached. Reinitializing fetcher.\n"
     ]
    },
    {
     "name": "stderr",
     "output_type": "stream",
     "text": [
      "Fetching data:   4%|▍         | 400000/10000000 [06:11<1:36:02, 1665.99record/s]"
     ]
    },
    {
     "name": "stdout",
     "output_type": "stream",
     "text": [
      "Max reinitialize offset reached. Reinitializing fetcher.\n"
     ]
    },
    {
     "name": "stderr",
     "output_type": "stream",
     "text": [
      "Fetching data:   4%|▍         | 410000/10000000 [06:21<1:23:34, 1912.40record/s]"
     ]
    },
    {
     "name": "stdout",
     "output_type": "stream",
     "text": [
      "Max reinitialize offset reached. Reinitializing fetcher.\n"
     ]
    },
    {
     "name": "stderr",
     "output_type": "stream",
     "text": [
      "Fetching data:   4%|▍         | 420000/10000000 [06:31<1:32:22, 1728.58record/s]"
     ]
    },
    {
     "name": "stdout",
     "output_type": "stream",
     "text": [
      "Max reinitialize offset reached. Reinitializing fetcher.\n"
     ]
    },
    {
     "name": "stderr",
     "output_type": "stream",
     "text": [
      "Fetching data:   4%|▍         | 430000/10000000 [06:41<1:24:03, 1897.64record/s]"
     ]
    },
    {
     "name": "stdout",
     "output_type": "stream",
     "text": [
      "Max reinitialize offset reached. Reinitializing fetcher.\n"
     ]
    },
    {
     "name": "stderr",
     "output_type": "stream",
     "text": [
      "Fetching data:   4%|▍         | 440000/10000000 [06:51<1:36:28, 1651.59record/s]"
     ]
    },
    {
     "name": "stdout",
     "output_type": "stream",
     "text": [
      "Max reinitialize offset reached. Reinitializing fetcher.\n"
     ]
    },
    {
     "name": "stderr",
     "output_type": "stream",
     "text": [
      "Fetching data:   4%|▍         | 450000/10000000 [07:02<1:39:50, 1594.09record/s]"
     ]
    },
    {
     "name": "stdout",
     "output_type": "stream",
     "text": [
      "Max reinitialize offset reached. Reinitializing fetcher.\n"
     ]
    },
    {
     "name": "stderr",
     "output_type": "stream",
     "text": [
      "Fetching data:   5%|▍         | 460000/10000000 [07:13<1:38:03, 1621.50record/s]"
     ]
    },
    {
     "name": "stdout",
     "output_type": "stream",
     "text": [
      "Max reinitialize offset reached. Reinitializing fetcher.\n"
     ]
    },
    {
     "name": "stderr",
     "output_type": "stream",
     "text": [
      "Fetching data:   5%|▍         | 470000/10000000 [07:24<1:40:33, 1579.49record/s]"
     ]
    },
    {
     "name": "stdout",
     "output_type": "stream",
     "text": [
      "Max reinitialize offset reached. Reinitializing fetcher.\n"
     ]
    },
    {
     "name": "stderr",
     "output_type": "stream",
     "text": [
      "Fetching data:   5%|▍         | 480000/10000000 [07:34<1:30:35, 1751.32record/s]"
     ]
    },
    {
     "name": "stdout",
     "output_type": "stream",
     "text": [
      "Max reinitialize offset reached. Reinitializing fetcher.\n"
     ]
    },
    {
     "name": "stderr",
     "output_type": "stream",
     "text": [
      "Fetching data:   5%|▍         | 490000/10000000 [07:43<1:24:22, 1878.51record/s]"
     ]
    },
    {
     "name": "stdout",
     "output_type": "stream",
     "text": [
      "Max reinitialize offset reached. Reinitializing fetcher.\n"
     ]
    },
    {
     "name": "stderr",
     "output_type": "stream",
     "text": [
      "Fetching data:   5%|▌         | 500000/10000000 [07:53<1:25:54, 1843.07record/s]"
     ]
    },
    {
     "name": "stdout",
     "output_type": "stream",
     "text": [
      "Max reinitialize offset reached. Reinitializing fetcher.\n"
     ]
    },
    {
     "name": "stderr",
     "output_type": "stream",
     "text": [
      "Fetching data:   5%|▌         | 510000/10000000 [08:03<1:29:27, 1768.04record/s]"
     ]
    },
    {
     "name": "stdout",
     "output_type": "stream",
     "text": [
      "Max reinitialize offset reached. Reinitializing fetcher.\n"
     ]
    },
    {
     "name": "stderr",
     "output_type": "stream",
     "text": [
      "Fetching data:   5%|▌         | 520000/10000000 [08:14<1:43:36, 1524.92record/s]"
     ]
    },
    {
     "name": "stdout",
     "output_type": "stream",
     "text": [
      "Max reinitialize offset reached. Reinitializing fetcher.\n"
     ]
    },
    {
     "name": "stderr",
     "output_type": "stream",
     "text": [
      "Fetching data:   5%|▌         | 530000/10000000 [08:25<1:47:17, 1471.14record/s]"
     ]
    },
    {
     "name": "stdout",
     "output_type": "stream",
     "text": [
      "Max reinitialize offset reached. Reinitializing fetcher.\n"
     ]
    },
    {
     "name": "stderr",
     "output_type": "stream",
     "text": [
      "Fetching data:   5%|▌         | 540000/10000000 [08:37<1:44:09, 1513.73record/s]"
     ]
    },
    {
     "name": "stdout",
     "output_type": "stream",
     "text": [
      "Max reinitialize offset reached. Reinitializing fetcher.\n"
     ]
    },
    {
     "name": "stderr",
     "output_type": "stream",
     "text": [
      "Fetching data:   6%|▌         | 550000/10000000 [08:47<1:31:51, 1714.46record/s]"
     ]
    },
    {
     "name": "stdout",
     "output_type": "stream",
     "text": [
      "Max reinitialize offset reached. Reinitializing fetcher.\n"
     ]
    },
    {
     "name": "stderr",
     "output_type": "stream",
     "text": [
      "Fetching data:   6%|▌         | 560000/10000000 [08:57<1:31:09, 1725.84record/s]"
     ]
    },
    {
     "name": "stdout",
     "output_type": "stream",
     "text": [
      "Max reinitialize offset reached. Reinitializing fetcher.\n"
     ]
    },
    {
     "name": "stderr",
     "output_type": "stream",
     "text": [
      "Fetching data:   6%|▌         | 570000/10000000 [09:08<1:33:22, 1683.17record/s]"
     ]
    },
    {
     "name": "stdout",
     "output_type": "stream",
     "text": [
      "Max reinitialize offset reached. Reinitializing fetcher.\n"
     ]
    },
    {
     "name": "stderr",
     "output_type": "stream",
     "text": [
      "Fetching data:   6%|▌         | 580000/10000000 [09:18<1:37:12, 1615.07record/s]"
     ]
    },
    {
     "name": "stdout",
     "output_type": "stream",
     "text": [
      "Max reinitialize offset reached. Reinitializing fetcher.\n"
     ]
    },
    {
     "name": "stderr",
     "output_type": "stream",
     "text": [
      "Fetching data:   6%|▌         | 590000/10000000 [09:28<1:37:31, 1608.06record/s]"
     ]
    },
    {
     "name": "stdout",
     "output_type": "stream",
     "text": [
      "Max reinitialize offset reached. Reinitializing fetcher.\n"
     ]
    },
    {
     "name": "stderr",
     "output_type": "stream",
     "text": [
      "Fetching data:   6%|▌         | 600000/10000000 [09:39<1:48:42, 1441.24record/s]"
     ]
    },
    {
     "name": "stdout",
     "output_type": "stream",
     "text": [
      "Max reinitialize offset reached. Reinitializing fetcher.\n"
     ]
    },
    {
     "name": "stderr",
     "output_type": "stream",
     "text": [
      "Fetching data:   6%|▌         | 610000/10000000 [09:49<1:37:22, 1607.19record/s]"
     ]
    },
    {
     "name": "stdout",
     "output_type": "stream",
     "text": [
      "Max reinitialize offset reached. Reinitializing fetcher.\n"
     ]
    },
    {
     "name": "stderr",
     "output_type": "stream",
     "text": [
      "Fetching data:   6%|▌         | 620000/10000000 [09:59<1:24:10, 1857.38record/s]"
     ]
    },
    {
     "name": "stdout",
     "output_type": "stream",
     "text": [
      "Max reinitialize offset reached. Reinitializing fetcher.\n"
     ]
    },
    {
     "name": "stderr",
     "output_type": "stream",
     "text": [
      "Fetching data:   6%|▋         | 630000/10000000 [10:09<1:20:23, 1942.41record/s]"
     ]
    },
    {
     "name": "stdout",
     "output_type": "stream",
     "text": [
      "Max reinitialize offset reached. Reinitializing fetcher.\n"
     ]
    },
    {
     "name": "stderr",
     "output_type": "stream",
     "text": [
      "Fetching data:   6%|▋         | 640000/10000000 [10:20<1:32:02, 1695.02record/s]"
     ]
    },
    {
     "name": "stdout",
     "output_type": "stream",
     "text": [
      "Max reinitialize offset reached. Reinitializing fetcher.\n"
     ]
    },
    {
     "name": "stderr",
     "output_type": "stream",
     "text": [
      "Fetching data:   6%|▋         | 650000/10000000 [10:31<1:30:12, 1727.61record/s]"
     ]
    },
    {
     "name": "stdout",
     "output_type": "stream",
     "text": [
      "Max reinitialize offset reached. Reinitializing fetcher.\n"
     ]
    },
    {
     "name": "stderr",
     "output_type": "stream",
     "text": [
      "Fetching data:   7%|▋         | 660000/10000000 [10:41<1:35:10, 1635.57record/s]"
     ]
    },
    {
     "name": "stdout",
     "output_type": "stream",
     "text": [
      "Max reinitialize offset reached. Reinitializing fetcher.\n"
     ]
    },
    {
     "name": "stderr",
     "output_type": "stream",
     "text": [
      "Fetching data:   7%|▋         | 670000/10000000 [10:52<1:37:34, 1593.63record/s]"
     ]
    },
    {
     "name": "stdout",
     "output_type": "stream",
     "text": [
      "Max reinitialize offset reached. Reinitializing fetcher.\n"
     ]
    },
    {
     "name": "stderr",
     "output_type": "stream",
     "text": [
      "Fetching data:   7%|▋         | 680000/10000000 [11:03<1:34:16, 1647.53record/s]"
     ]
    },
    {
     "name": "stdout",
     "output_type": "stream",
     "text": [
      "Max reinitialize offset reached. Reinitializing fetcher.\n"
     ]
    },
    {
     "name": "stderr",
     "output_type": "stream",
     "text": [
      "Fetching data:   7%|▋         | 690000/10000000 [11:14<1:56:36, 1330.60record/s]"
     ]
    },
    {
     "name": "stdout",
     "output_type": "stream",
     "text": [
      "Max reinitialize offset reached. Reinitializing fetcher.\n"
     ]
    },
    {
     "name": "stderr",
     "output_type": "stream",
     "text": [
      "Fetching data:   7%|▋         | 700000/10000000 [11:25<1:34:24, 1641.81record/s]"
     ]
    },
    {
     "name": "stdout",
     "output_type": "stream",
     "text": [
      "Max reinitialize offset reached. Reinitializing fetcher.\n"
     ]
    },
    {
     "name": "stderr",
     "output_type": "stream",
     "text": [
      "Fetching data:   7%|▋         | 710000/10000000 [11:37<1:56:14, 1332.04record/s]"
     ]
    },
    {
     "name": "stdout",
     "output_type": "stream",
     "text": [
      "Max reinitialize offset reached. Reinitializing fetcher.\n"
     ]
    },
    {
     "name": "stderr",
     "output_type": "stream",
     "text": [
      "Fetching data:   7%|▋         | 720000/10000000 [11:50<2:06:52, 1219.09record/s]"
     ]
    },
    {
     "name": "stdout",
     "output_type": "stream",
     "text": [
      "Max reinitialize offset reached. Reinitializing fetcher.\n"
     ]
    },
    {
     "name": "stderr",
     "output_type": "stream",
     "text": [
      "Fetching data:   7%|▋         | 730000/10000000 [12:02<1:52:56, 1367.96record/s]"
     ]
    },
    {
     "name": "stdout",
     "output_type": "stream",
     "text": [
      "Max reinitialize offset reached. Reinitializing fetcher.\n"
     ]
    },
    {
     "name": "stderr",
     "output_type": "stream",
     "text": [
      "Fetching data:   7%|▋         | 740000/10000000 [12:13<1:55:22, 1337.74record/s]"
     ]
    },
    {
     "name": "stdout",
     "output_type": "stream",
     "text": [
      "Max reinitialize offset reached. Reinitializing fetcher.\n"
     ]
    },
    {
     "name": "stderr",
     "output_type": "stream",
     "text": [
      "Fetching data:   8%|▊         | 750000/10000000 [12:26<1:56:24, 1324.41record/s]"
     ]
    },
    {
     "name": "stdout",
     "output_type": "stream",
     "text": [
      "Max reinitialize offset reached. Reinitializing fetcher.\n"
     ]
    },
    {
     "name": "stderr",
     "output_type": "stream",
     "text": [
      "Fetching data:   8%|▊         | 760000/10000000 [12:41<4:23:40, 584.05record/s] "
     ]
    },
    {
     "name": "stdout",
     "output_type": "stream",
     "text": [
      "Max reinitialize offset reached. Reinitializing fetcher.\n"
     ]
    },
    {
     "name": "stderr",
     "output_type": "stream",
     "text": [
      "Fetching data:   8%|▊         | 770000/10000000 [12:54<2:04:43, 1233.37record/s]"
     ]
    },
    {
     "name": "stdout",
     "output_type": "stream",
     "text": [
      "Max reinitialize offset reached. Reinitializing fetcher.\n"
     ]
    },
    {
     "name": "stderr",
     "output_type": "stream",
     "text": [
      "Fetching data:   8%|▊         | 780000/10000000 [13:06<1:42:04, 1505.37record/s]"
     ]
    },
    {
     "name": "stdout",
     "output_type": "stream",
     "text": [
      "Max reinitialize offset reached. Reinitializing fetcher.\n"
     ]
    },
    {
     "name": "stderr",
     "output_type": "stream",
     "text": [
      "Fetching data:   8%|▊         | 790000/10000000 [13:17<1:40:05, 1533.55record/s]"
     ]
    },
    {
     "name": "stdout",
     "output_type": "stream",
     "text": [
      "Max reinitialize offset reached. Reinitializing fetcher.\n"
     ]
    },
    {
     "name": "stderr",
     "output_type": "stream",
     "text": [
      "Fetching data:   8%|▊         | 800000/10000000 [13:27<1:36:01, 1596.77record/s]"
     ]
    },
    {
     "name": "stdout",
     "output_type": "stream",
     "text": [
      "Max reinitialize offset reached. Reinitializing fetcher.\n"
     ]
    },
    {
     "name": "stderr",
     "output_type": "stream",
     "text": [
      "Fetching data:   8%|▊         | 810000/10000000 [13:38<1:37:21, 1573.30record/s]"
     ]
    },
    {
     "name": "stdout",
     "output_type": "stream",
     "text": [
      "Max reinitialize offset reached. Reinitializing fetcher.\n"
     ]
    },
    {
     "name": "stderr",
     "output_type": "stream",
     "text": [
      "Fetching data:   8%|▊         | 820000/10000000 [13:49<1:36:08, 1591.36record/s]"
     ]
    },
    {
     "name": "stdout",
     "output_type": "stream",
     "text": [
      "Max reinitialize offset reached. Reinitializing fetcher.\n"
     ]
    },
    {
     "name": "stderr",
     "output_type": "stream",
     "text": [
      "Fetching data:   8%|▊         | 830000/10000000 [14:05<1:55:49, 1319.54record/s]"
     ]
    },
    {
     "name": "stdout",
     "output_type": "stream",
     "text": [
      "Max reinitialize offset reached. Reinitializing fetcher.\n"
     ]
    },
    {
     "name": "stderr",
     "output_type": "stream",
     "text": [
      "Fetching data:   8%|▊         | 840000/10000000 [14:16<1:38:46, 1545.51record/s]"
     ]
    },
    {
     "name": "stdout",
     "output_type": "stream",
     "text": [
      "Max reinitialize offset reached. Reinitializing fetcher.\n"
     ]
    },
    {
     "name": "stderr",
     "output_type": "stream",
     "text": [
      "Fetching data:   8%|▊         | 850000/10000000 [14:26<1:36:04, 1587.23record/s]"
     ]
    },
    {
     "name": "stdout",
     "output_type": "stream",
     "text": [
      "Max reinitialize offset reached. Reinitializing fetcher.\n"
     ]
    },
    {
     "name": "stderr",
     "output_type": "stream",
     "text": [
      "Fetching data:   9%|▊         | 860000/10000000 [14:37<1:40:56, 1509.11record/s]"
     ]
    },
    {
     "name": "stdout",
     "output_type": "stream",
     "text": [
      "Max reinitialize offset reached. Reinitializing fetcher.\n"
     ]
    },
    {
     "name": "stderr",
     "output_type": "stream",
     "text": [
      "Fetching data:   9%|▊         | 870000/10000000 [14:48<1:50:20, 1379.11record/s]"
     ]
    },
    {
     "name": "stdout",
     "output_type": "stream",
     "text": [
      "Max reinitialize offset reached. Reinitializing fetcher.\n"
     ]
    },
    {
     "name": "stderr",
     "output_type": "stream",
     "text": [
      "Fetching data:   9%|▉         | 880000/10000000 [14:59<1:35:59, 1583.55record/s]"
     ]
    },
    {
     "name": "stdout",
     "output_type": "stream",
     "text": [
      "Max reinitialize offset reached. Reinitializing fetcher.\n"
     ]
    },
    {
     "name": "stderr",
     "output_type": "stream",
     "text": [
      "Fetching data:   9%|▉         | 890000/10000000 [15:10<1:42:16, 1484.50record/s]"
     ]
    },
    {
     "name": "stdout",
     "output_type": "stream",
     "text": [
      "Max reinitialize offset reached. Reinitializing fetcher.\n"
     ]
    },
    {
     "name": "stderr",
     "output_type": "stream",
     "text": [
      "Fetching data:   9%|▉         | 900000/10000000 [15:21<1:37:54, 1549.09record/s]"
     ]
    },
    {
     "name": "stdout",
     "output_type": "stream",
     "text": [
      "Max reinitialize offset reached. Reinitializing fetcher.\n"
     ]
    },
    {
     "name": "stderr",
     "output_type": "stream",
     "text": [
      "Fetching data:   9%|▉         | 910000/10000000 [15:32<1:36:34, 1568.76record/s]"
     ]
    },
    {
     "name": "stdout",
     "output_type": "stream",
     "text": [
      "Max reinitialize offset reached. Reinitializing fetcher.\n"
     ]
    },
    {
     "name": "stderr",
     "output_type": "stream",
     "text": [
      "Fetching data:   9%|▉         | 920000/10000000 [15:43<1:45:50, 1429.77record/s]"
     ]
    },
    {
     "name": "stdout",
     "output_type": "stream",
     "text": [
      "Max reinitialize offset reached. Reinitializing fetcher.\n"
     ]
    },
    {
     "name": "stderr",
     "output_type": "stream",
     "text": [
      "Fetching data:   9%|▉         | 930000/10000000 [15:54<1:40:55, 1497.74record/s]"
     ]
    },
    {
     "name": "stdout",
     "output_type": "stream",
     "text": [
      "Max reinitialize offset reached. Reinitializing fetcher.\n"
     ]
    },
    {
     "name": "stderr",
     "output_type": "stream",
     "text": [
      "Fetching data:   9%|▉         | 940000/10000000 [16:06<1:50:44, 1363.48record/s]"
     ]
    },
    {
     "name": "stdout",
     "output_type": "stream",
     "text": [
      "Max reinitialize offset reached. Reinitializing fetcher.\n"
     ]
    },
    {
     "name": "stderr",
     "output_type": "stream",
     "text": [
      "Fetching data:  10%|▉         | 950000/10000000 [16:17<1:44:33, 1442.69record/s]"
     ]
    },
    {
     "name": "stdout",
     "output_type": "stream",
     "text": [
      "Max reinitialize offset reached. Reinitializing fetcher.\n"
     ]
    },
    {
     "name": "stderr",
     "output_type": "stream",
     "text": [
      "Fetching data:  10%|▉         | 960000/10000000 [16:29<1:49:46, 1372.60record/s]"
     ]
    },
    {
     "name": "stdout",
     "output_type": "stream",
     "text": [
      "Max reinitialize offset reached. Reinitializing fetcher.\n"
     ]
    },
    {
     "name": "stderr",
     "output_type": "stream",
     "text": [
      "Fetching data:  10%|▉         | 970000/10000000 [16:40<1:48:28, 1387.51record/s]"
     ]
    },
    {
     "name": "stdout",
     "output_type": "stream",
     "text": [
      "Max reinitialize offset reached. Reinitializing fetcher.\n"
     ]
    },
    {
     "name": "stderr",
     "output_type": "stream",
     "text": [
      "Fetching data:  10%|▉         | 980000/10000000 [16:51<1:41:24, 1482.38record/s]"
     ]
    },
    {
     "name": "stdout",
     "output_type": "stream",
     "text": [
      "Max reinitialize offset reached. Reinitializing fetcher.\n"
     ]
    },
    {
     "name": "stderr",
     "output_type": "stream",
     "text": [
      "Fetching data:  10%|▉         | 990000/10000000 [17:03<1:57:52, 1273.94record/s]"
     ]
    },
    {
     "name": "stdout",
     "output_type": "stream",
     "text": [
      "Max reinitialize offset reached. Reinitializing fetcher.\n"
     ]
    },
    {
     "name": "stderr",
     "output_type": "stream",
     "text": [
      "Fetching data:  10%|█         | 1000000/10000000 [17:14<1:40:42, 1489.47record/s]"
     ]
    },
    {
     "name": "stdout",
     "output_type": "stream",
     "text": [
      "Max reinitialize offset reached. Reinitializing fetcher.\n"
     ]
    },
    {
     "name": "stderr",
     "output_type": "stream",
     "text": [
      "Fetching data:  10%|█         | 1010000/10000000 [17:26<1:50:14, 1359.16record/s]"
     ]
    },
    {
     "name": "stdout",
     "output_type": "stream",
     "text": [
      "Max reinitialize offset reached. Reinitializing fetcher.\n"
     ]
    },
    {
     "name": "stderr",
     "output_type": "stream",
     "text": [
      "Fetching data:  10%|█         | 1020000/10000000 [17:37<1:42:49, 1455.63record/s]"
     ]
    },
    {
     "name": "stdout",
     "output_type": "stream",
     "text": [
      "Max reinitialize offset reached. Reinitializing fetcher.\n"
     ]
    },
    {
     "name": "stderr",
     "output_type": "stream",
     "text": [
      "Fetching data:  10%|█         | 1030000/10000000 [17:50<1:44:24, 1431.89record/s]"
     ]
    },
    {
     "name": "stdout",
     "output_type": "stream",
     "text": [
      "Max reinitialize offset reached. Reinitializing fetcher.\n"
     ]
    },
    {
     "name": "stderr",
     "output_type": "stream",
     "text": [
      "Fetching data:  10%|█         | 1040000/10000000 [18:03<2:18:58, 1074.53record/s]"
     ]
    },
    {
     "name": "stdout",
     "output_type": "stream",
     "text": [
      "Max reinitialize offset reached. Reinitializing fetcher.\n"
     ]
    },
    {
     "name": "stderr",
     "output_type": "stream",
     "text": [
      "Fetching data:  10%|█         | 1050000/10000000 [18:14<1:41:33, 1468.85record/s]"
     ]
    },
    {
     "name": "stdout",
     "output_type": "stream",
     "text": [
      "Max reinitialize offset reached. Reinitializing fetcher.\n"
     ]
    },
    {
     "name": "stderr",
     "output_type": "stream",
     "text": [
      "Fetching data:  11%|█         | 1060000/10000000 [18:25<1:46:55, 1393.57record/s]"
     ]
    },
    {
     "name": "stdout",
     "output_type": "stream",
     "text": [
      "Max reinitialize offset reached. Reinitializing fetcher.\n"
     ]
    },
    {
     "name": "stderr",
     "output_type": "stream",
     "text": [
      "Fetching data:  11%|█         | 1070000/10000000 [18:37<1:43:09, 1442.69record/s]"
     ]
    },
    {
     "name": "stdout",
     "output_type": "stream",
     "text": [
      "Max reinitialize offset reached. Reinitializing fetcher.\n"
     ]
    },
    {
     "name": "stderr",
     "output_type": "stream",
     "text": [
      "Fetching data:  11%|█         | 1080000/10000000 [18:48<1:39:53, 1488.40record/s]"
     ]
    },
    {
     "name": "stdout",
     "output_type": "stream",
     "text": [
      "Max reinitialize offset reached. Reinitializing fetcher.\n"
     ]
    },
    {
     "name": "stderr",
     "output_type": "stream",
     "text": [
      "Fetching data:  11%|█         | 1090000/10000000 [19:00<1:54:36, 1295.62record/s]"
     ]
    },
    {
     "name": "stdout",
     "output_type": "stream",
     "text": [
      "Max reinitialize offset reached. Reinitializing fetcher.\n"
     ]
    },
    {
     "name": "stderr",
     "output_type": "stream",
     "text": [
      "Fetching data:  11%|█         | 1100000/10000000 [19:11<1:45:23, 1407.46record/s]"
     ]
    },
    {
     "name": "stdout",
     "output_type": "stream",
     "text": [
      "Max reinitialize offset reached. Reinitializing fetcher.\n"
     ]
    },
    {
     "name": "stderr",
     "output_type": "stream",
     "text": [
      "Fetching data:  11%|█         | 1110000/10000000 [19:23<1:47:09, 1382.75record/s]"
     ]
    },
    {
     "name": "stdout",
     "output_type": "stream",
     "text": [
      "Max reinitialize offset reached. Reinitializing fetcher.\n"
     ]
    },
    {
     "name": "stderr",
     "output_type": "stream",
     "text": [
      "Fetching data:  11%|█         | 1120000/10000000 [19:35<1:52:15, 1318.43record/s]"
     ]
    },
    {
     "name": "stdout",
     "output_type": "stream",
     "text": [
      "Max reinitialize offset reached. Reinitializing fetcher.\n"
     ]
    },
    {
     "name": "stderr",
     "output_type": "stream",
     "text": [
      "Fetching data:  11%|█▏        | 1130000/10000000 [19:47<1:51:23, 1327.16record/s]"
     ]
    },
    {
     "name": "stdout",
     "output_type": "stream",
     "text": [
      "Max reinitialize offset reached. Reinitializing fetcher.\n"
     ]
    },
    {
     "name": "stderr",
     "output_type": "stream",
     "text": [
      "Fetching data:  11%|█▏        | 1140000/10000000 [20:00<2:39:18, 926.88record/s] "
     ]
    },
    {
     "name": "stdout",
     "output_type": "stream",
     "text": [
      "Max reinitialize offset reached. Reinitializing fetcher.\n"
     ]
    },
    {
     "name": "stderr",
     "output_type": "stream",
     "text": [
      "Fetching data:  12%|█▏        | 1150000/10000000 [20:11<1:42:40, 1436.62record/s]"
     ]
    },
    {
     "name": "stdout",
     "output_type": "stream",
     "text": [
      "Max reinitialize offset reached. Reinitializing fetcher.\n"
     ]
    },
    {
     "name": "stderr",
     "output_type": "stream",
     "text": [
      "Fetching data:  12%|█▏        | 1160000/10000000 [20:24<2:32:48, 964.16record/s] "
     ]
    },
    {
     "name": "stdout",
     "output_type": "stream",
     "text": [
      "Max reinitialize offset reached. Reinitializing fetcher.\n"
     ]
    },
    {
     "name": "stderr",
     "output_type": "stream",
     "text": [
      "Fetching data:  12%|█▏        | 1170000/10000000 [20:36<1:52:25, 1308.99record/s]"
     ]
    },
    {
     "name": "stdout",
     "output_type": "stream",
     "text": [
      "Max reinitialize offset reached. Reinitializing fetcher.\n"
     ]
    },
    {
     "name": "stderr",
     "output_type": "stream",
     "text": [
      "Fetching data:  12%|█▏        | 1180000/10000000 [20:48<1:50:18, 1332.69record/s]"
     ]
    },
    {
     "name": "stdout",
     "output_type": "stream",
     "text": [
      "Max reinitialize offset reached. Reinitializing fetcher.\n"
     ]
    },
    {
     "name": "stderr",
     "output_type": "stream",
     "text": [
      "Fetching data:  12%|█▏        | 1190000/10000000 [21:00<1:55:14, 1274.19record/s]"
     ]
    },
    {
     "name": "stdout",
     "output_type": "stream",
     "text": [
      "Max reinitialize offset reached. Reinitializing fetcher.\n"
     ]
    },
    {
     "name": "stderr",
     "output_type": "stream",
     "text": [
      "Fetching data:  12%|█▏        | 1200000/10000000 [21:15<2:43:19, 898.00record/s] "
     ]
    },
    {
     "name": "stdout",
     "output_type": "stream",
     "text": [
      "Max reinitialize offset reached. Reinitializing fetcher.\n"
     ]
    },
    {
     "name": "stderr",
     "output_type": "stream",
     "text": [
      "Fetching data:  12%|█▏        | 1210000/10000000 [21:28<2:27:56, 990.21record/s] "
     ]
    },
    {
     "name": "stdout",
     "output_type": "stream",
     "text": [
      "Max reinitialize offset reached. Reinitializing fetcher.\n"
     ]
    },
    {
     "name": "stderr",
     "output_type": "stream",
     "text": [
      "Fetching data:  12%|█▏        | 1220000/10000000 [21:46<3:46:28, 646.13record/s]"
     ]
    },
    {
     "name": "stdout",
     "output_type": "stream",
     "text": [
      "Max reinitialize offset reached. Reinitializing fetcher.\n"
     ]
    },
    {
     "name": "stderr",
     "output_type": "stream",
     "text": [
      "Fetching data:  12%|█▏        | 1230000/10000000 [21:59<1:55:23, 1266.65record/s]"
     ]
    },
    {
     "name": "stdout",
     "output_type": "stream",
     "text": [
      "Max reinitialize offset reached. Reinitializing fetcher.\n"
     ]
    },
    {
     "name": "stderr",
     "output_type": "stream",
     "text": [
      "Fetching data:  12%|█▏        | 1240000/10000000 [22:13<2:05:51, 1160.00record/s]"
     ]
    },
    {
     "name": "stdout",
     "output_type": "stream",
     "text": [
      "Max reinitialize offset reached. Reinitializing fetcher.\n"
     ]
    },
    {
     "name": "stderr",
     "output_type": "stream",
     "text": [
      "Fetching data:  12%|█▎        | 1250000/10000000 [22:26<2:15:07, 1079.24record/s]"
     ]
    },
    {
     "name": "stdout",
     "output_type": "stream",
     "text": [
      "Max reinitialize offset reached. Reinitializing fetcher.\n"
     ]
    },
    {
     "name": "stderr",
     "output_type": "stream",
     "text": [
      "Fetching data:  13%|█▎        | 1260000/10000000 [22:41<2:06:47, 1148.93record/s]"
     ]
    },
    {
     "name": "stdout",
     "output_type": "stream",
     "text": [
      "Max reinitialize offset reached. Reinitializing fetcher.\n"
     ]
    },
    {
     "name": "stderr",
     "output_type": "stream",
     "text": [
      "Fetching data:  13%|█▎        | 1270000/10000000 [22:59<3:41:13, 657.71record/s] "
     ]
    },
    {
     "name": "stdout",
     "output_type": "stream",
     "text": [
      "Max reinitialize offset reached. Reinitializing fetcher.\n"
     ]
    },
    {
     "name": "stderr",
     "output_type": "stream",
     "text": [
      "Fetching data:  13%|█▎        | 1280000/10000000 [23:13<2:05:33, 1157.48record/s]"
     ]
    },
    {
     "name": "stdout",
     "output_type": "stream",
     "text": [
      "Max reinitialize offset reached. Reinitializing fetcher.\n"
     ]
    },
    {
     "name": "stderr",
     "output_type": "stream",
     "text": [
      "Fetching data:  13%|█▎        | 1290000/10000000 [23:27<1:57:05, 1239.69record/s]"
     ]
    },
    {
     "name": "stdout",
     "output_type": "stream",
     "text": [
      "Max reinitialize offset reached. Reinitializing fetcher.\n"
     ]
    },
    {
     "name": "stderr",
     "output_type": "stream",
     "text": [
      "Fetching data:  13%|█▎        | 1300000/10000000 [23:44<2:49:26, 855.78record/s] "
     ]
    },
    {
     "name": "stdout",
     "output_type": "stream",
     "text": [
      "Max reinitialize offset reached. Reinitializing fetcher.\n"
     ]
    },
    {
     "name": "stderr",
     "output_type": "stream",
     "text": [
      "Fetching data:  13%|█▎        | 1310000/10000000 [24:00<2:40:02, 904.98record/s]"
     ]
    },
    {
     "name": "stdout",
     "output_type": "stream",
     "text": [
      "Max reinitialize offset reached. Reinitializing fetcher.\n"
     ]
    },
    {
     "name": "stderr",
     "output_type": "stream",
     "text": [
      "Fetching data:  13%|█▎        | 1320000/10000000 [24:15<2:30:48, 959.26record/s] "
     ]
    },
    {
     "name": "stdout",
     "output_type": "stream",
     "text": [
      "Max reinitialize offset reached. Reinitializing fetcher.\n"
     ]
    },
    {
     "name": "stderr",
     "output_type": "stream",
     "text": [
      "Fetching data:  13%|█▎        | 1330000/10000000 [24:31<2:59:06, 806.79record/s]"
     ]
    },
    {
     "name": "stdout",
     "output_type": "stream",
     "text": [
      "Max reinitialize offset reached. Reinitializing fetcher.\n"
     ]
    },
    {
     "name": "stderr",
     "output_type": "stream",
     "text": [
      "Fetching data:  13%|█▎        | 1340000/10000000 [24:48<2:44:17, 878.49record/s]"
     ]
    },
    {
     "name": "stdout",
     "output_type": "stream",
     "text": [
      "Max reinitialize offset reached. Reinitializing fetcher.\n"
     ]
    },
    {
     "name": "stderr",
     "output_type": "stream",
     "text": [
      "Fetching data:  14%|█▎        | 1350000/10000000 [25:04<2:49:04, 852.72record/s]"
     ]
    },
    {
     "name": "stdout",
     "output_type": "stream",
     "text": [
      "Max reinitialize offset reached. Reinitializing fetcher.\n"
     ]
    },
    {
     "name": "stderr",
     "output_type": "stream",
     "text": [
      "Fetching data:  14%|█▎        | 1360000/10000000 [25:19<2:03:07, 1169.59record/s]"
     ]
    },
    {
     "name": "stdout",
     "output_type": "stream",
     "text": [
      "Max reinitialize offset reached. Reinitializing fetcher.\n"
     ]
    },
    {
     "name": "stderr",
     "output_type": "stream",
     "text": [
      "Fetching data:  14%|█▎        | 1370000/10000000 [25:36<2:32:33, 942.80record/s] "
     ]
    },
    {
     "name": "stdout",
     "output_type": "stream",
     "text": [
      "Max reinitialize offset reached. Reinitializing fetcher.\n"
     ]
    },
    {
     "name": "stderr",
     "output_type": "stream",
     "text": [
      "Fetching data:  14%|█▍        | 1380000/10000000 [25:49<2:10:07, 1104.12record/s]"
     ]
    },
    {
     "name": "stdout",
     "output_type": "stream",
     "text": [
      "Max reinitialize offset reached. Reinitializing fetcher.\n"
     ]
    },
    {
     "name": "stderr",
     "output_type": "stream",
     "text": [
      "Fetching data:  14%|█▍        | 1390000/10000000 [26:08<3:08:19, 761.95record/s] "
     ]
    },
    {
     "name": "stdout",
     "output_type": "stream",
     "text": [
      "Max reinitialize offset reached. Reinitializing fetcher.\n"
     ]
    },
    {
     "name": "stderr",
     "output_type": "stream",
     "text": [
      "Fetching data:  14%|█▍        | 1400000/10000000 [26:25<3:01:47, 788.46record/s]"
     ]
    },
    {
     "name": "stdout",
     "output_type": "stream",
     "text": [
      "Max reinitialize offset reached. Reinitializing fetcher.\n"
     ]
    },
    {
     "name": "stderr",
     "output_type": "stream",
     "text": [
      "Fetching data:  14%|█▍        | 1410000/10000000 [26:39<2:08:08, 1117.29record/s]"
     ]
    },
    {
     "name": "stdout",
     "output_type": "stream",
     "text": [
      "Max reinitialize offset reached. Reinitializing fetcher.\n"
     ]
    },
    {
     "name": "stderr",
     "output_type": "stream",
     "text": [
      "Fetching data:  14%|█▍        | 1420000/10000000 [26:52<2:33:21, 932.41record/s] "
     ]
    },
    {
     "name": "stdout",
     "output_type": "stream",
     "text": [
      "Max reinitialize offset reached. Reinitializing fetcher.\n"
     ]
    },
    {
     "name": "stderr",
     "output_type": "stream",
     "text": [
      "Fetching data:  14%|█▍        | 1430000/10000000 [27:10<3:14:23, 734.79record/s]"
     ]
    },
    {
     "name": "stdout",
     "output_type": "stream",
     "text": [
      "Max reinitialize offset reached. Reinitializing fetcher.\n"
     ]
    },
    {
     "name": "stderr",
     "output_type": "stream",
     "text": [
      "Fetching data:  14%|█▍        | 1440000/10000000 [27:27<2:46:28, 856.96record/s]"
     ]
    },
    {
     "name": "stdout",
     "output_type": "stream",
     "text": [
      "Max reinitialize offset reached. Reinitializing fetcher.\n"
     ]
    },
    {
     "name": "stderr",
     "output_type": "stream",
     "text": [
      "Fetching data:  14%|█▍        | 1450000/10000000 [27:43<2:33:25, 928.78record/s]"
     ]
    },
    {
     "name": "stdout",
     "output_type": "stream",
     "text": [
      "Max reinitialize offset reached. Reinitializing fetcher.\n"
     ]
    },
    {
     "name": "stderr",
     "output_type": "stream",
     "text": [
      "Fetching data:  15%|█▍        | 1460000/10000000 [27:58<2:27:04, 967.77record/s]"
     ]
    },
    {
     "name": "stdout",
     "output_type": "stream",
     "text": [
      "Max reinitialize offset reached. Reinitializing fetcher.\n"
     ]
    },
    {
     "name": "stderr",
     "output_type": "stream",
     "text": [
      "Fetching data:  15%|█▍        | 1470000/10000000 [28:11<1:55:29, 1230.94record/s]"
     ]
    },
    {
     "name": "stdout",
     "output_type": "stream",
     "text": [
      "Max reinitialize offset reached. Reinitializing fetcher.\n"
     ]
    },
    {
     "name": "stderr",
     "output_type": "stream",
     "text": [
      "Fetching data:  15%|█▍        | 1480000/10000000 [28:24<1:52:18, 1264.34record/s]"
     ]
    },
    {
     "name": "stdout",
     "output_type": "stream",
     "text": [
      "Max reinitialize offset reached. Reinitializing fetcher.\n"
     ]
    },
    {
     "name": "stderr",
     "output_type": "stream",
     "text": [
      "Fetching data:  15%|█▍        | 1490000/10000000 [28:36<1:55:02, 1232.86record/s]"
     ]
    },
    {
     "name": "stdout",
     "output_type": "stream",
     "text": [
      "Max reinitialize offset reached. Reinitializing fetcher.\n"
     ]
    },
    {
     "name": "stderr",
     "output_type": "stream",
     "text": [
      "Fetching data:  15%|█▌        | 1500000/10000000 [28:49<1:55:13, 1229.50record/s]"
     ]
    },
    {
     "name": "stdout",
     "output_type": "stream",
     "text": [
      "Max reinitialize offset reached. Reinitializing fetcher.\n"
     ]
    },
    {
     "name": "stderr",
     "output_type": "stream",
     "text": [
      "Fetching data:  15%|█▌        | 1510000/10000000 [29:02<2:10:01, 1088.20record/s]"
     ]
    },
    {
     "name": "stdout",
     "output_type": "stream",
     "text": [
      "Max reinitialize offset reached. Reinitializing fetcher.\n"
     ]
    },
    {
     "name": "stderr",
     "output_type": "stream",
     "text": [
      "Fetching data:  15%|█▌        | 1520000/10000000 [29:15<2:10:43, 1081.21record/s]"
     ]
    },
    {
     "name": "stdout",
     "output_type": "stream",
     "text": [
      "Max reinitialize offset reached. Reinitializing fetcher.\n"
     ]
    },
    {
     "name": "stderr",
     "output_type": "stream",
     "text": [
      "Fetching data:  15%|█▌        | 1530000/10000000 [29:28<1:58:18, 1193.24record/s]"
     ]
    },
    {
     "name": "stdout",
     "output_type": "stream",
     "text": [
      "Max reinitialize offset reached. Reinitializing fetcher.\n"
     ]
    },
    {
     "name": "stderr",
     "output_type": "stream",
     "text": [
      "Fetching data:  15%|█▌        | 1540000/10000000 [29:50<4:13:29, 556.24record/s] "
     ]
    },
    {
     "name": "stdout",
     "output_type": "stream",
     "text": [
      "Max reinitialize offset reached. Reinitializing fetcher.\n"
     ]
    },
    {
     "name": "stderr",
     "output_type": "stream",
     "text": [
      "Fetching data:  16%|█▌        | 1550000/10000000 [30:07<2:26:31, 961.14record/s]"
     ]
    },
    {
     "name": "stdout",
     "output_type": "stream",
     "text": [
      "Max reinitialize offset reached. Reinitializing fetcher.\n"
     ]
    },
    {
     "name": "stderr",
     "output_type": "stream",
     "text": [
      "Fetching data:  16%|█▌        | 1560000/10000000 [30:25<2:55:58, 799.35record/s]"
     ]
    },
    {
     "name": "stdout",
     "output_type": "stream",
     "text": [
      "Max reinitialize offset reached. Reinitializing fetcher.\n"
     ]
    },
    {
     "name": "stderr",
     "output_type": "stream",
     "text": [
      "Fetching data:  16%|█▌        | 1570000/10000000 [30:39<2:20:12, 1002.03record/s]"
     ]
    },
    {
     "name": "stdout",
     "output_type": "stream",
     "text": [
      "Max reinitialize offset reached. Reinitializing fetcher.\n"
     ]
    },
    {
     "name": "stderr",
     "output_type": "stream",
     "text": [
      "Fetching data:  16%|█▌        | 1580000/10000000 [30:52<2:07:26, 1101.15record/s]"
     ]
    },
    {
     "name": "stdout",
     "output_type": "stream",
     "text": [
      "Max reinitialize offset reached. Reinitializing fetcher.\n"
     ]
    },
    {
     "name": "stderr",
     "output_type": "stream",
     "text": [
      "Fetching data:  16%|█▌        | 1590000/10000000 [31:06<1:54:31, 1223.92record/s]"
     ]
    },
    {
     "name": "stdout",
     "output_type": "stream",
     "text": [
      "Max reinitialize offset reached. Reinitializing fetcher.\n"
     ]
    },
    {
     "name": "stderr",
     "output_type": "stream",
     "text": [
      "Fetching data:  16%|█▌        | 1600000/10000000 [31:20<2:21:56, 986.31record/s] "
     ]
    },
    {
     "name": "stdout",
     "output_type": "stream",
     "text": [
      "Max reinitialize offset reached. Reinitializing fetcher.\n"
     ]
    },
    {
     "name": "stderr",
     "output_type": "stream",
     "text": [
      "Fetching data:  16%|█▌        | 1610000/10000000 [31:34<2:07:20, 1098.08record/s]"
     ]
    },
    {
     "name": "stdout",
     "output_type": "stream",
     "text": [
      "Max reinitialize offset reached. Reinitializing fetcher.\n"
     ]
    },
    {
     "name": "stderr",
     "output_type": "stream",
     "text": [
      "Fetching data:  16%|█▌        | 1620000/10000000 [31:47<1:56:58, 1193.99record/s]"
     ]
    },
    {
     "name": "stdout",
     "output_type": "stream",
     "text": [
      "Max reinitialize offset reached. Reinitializing fetcher.\n"
     ]
    },
    {
     "name": "stderr",
     "output_type": "stream",
     "text": [
      "Fetching data:  16%|█▋        | 1630000/10000000 [32:00<2:03:15, 1131.80record/s]"
     ]
    },
    {
     "name": "stdout",
     "output_type": "stream",
     "text": [
      "Max reinitialize offset reached. Reinitializing fetcher.\n"
     ]
    },
    {
     "name": "stderr",
     "output_type": "stream",
     "text": [
      "Fetching data:  16%|█▋        | 1640000/10000000 [32:15<2:03:37, 1127.05record/s]"
     ]
    },
    {
     "name": "stdout",
     "output_type": "stream",
     "text": [
      "Max reinitialize offset reached. Reinitializing fetcher.\n"
     ]
    },
    {
     "name": "stderr",
     "output_type": "stream",
     "text": [
      "Fetching data:  16%|█▋        | 1650000/10000000 [32:28<1:57:47, 1181.46record/s]"
     ]
    },
    {
     "name": "stdout",
     "output_type": "stream",
     "text": [
      "Max reinitialize offset reached. Reinitializing fetcher.\n"
     ]
    },
    {
     "name": "stderr",
     "output_type": "stream",
     "text": [
      "Fetching data:  17%|█▋        | 1660000/10000000 [32:41<2:06:04, 1102.59record/s]"
     ]
    },
    {
     "name": "stdout",
     "output_type": "stream",
     "text": [
      "Max reinitialize offset reached. Reinitializing fetcher.\n"
     ]
    },
    {
     "name": "stderr",
     "output_type": "stream",
     "text": [
      "Fetching data:  17%|█▋        | 1670000/10000000 [32:54<2:00:25, 1152.90record/s]"
     ]
    },
    {
     "name": "stdout",
     "output_type": "stream",
     "text": [
      "Max reinitialize offset reached. Reinitializing fetcher.\n"
     ]
    },
    {
     "name": "stderr",
     "output_type": "stream",
     "text": [
      "Fetching data:  17%|█▋        | 1680000/10000000 [33:08<2:19:05, 996.96record/s] "
     ]
    },
    {
     "name": "stdout",
     "output_type": "stream",
     "text": [
      "Max reinitialize offset reached. Reinitializing fetcher.\n"
     ]
    },
    {
     "name": "stderr",
     "output_type": "stream",
     "text": [
      "Fetching data:  17%|█▋        | 1690000/10000000 [33:22<2:07:24, 1087.10record/s]"
     ]
    },
    {
     "name": "stdout",
     "output_type": "stream",
     "text": [
      "Max reinitialize offset reached. Reinitializing fetcher.\n"
     ]
    },
    {
     "name": "stderr",
     "output_type": "stream",
     "text": [
      "Fetching data:  17%|█▋        | 1700000/10000000 [33:35<1:55:18, 1199.69record/s]"
     ]
    },
    {
     "name": "stdout",
     "output_type": "stream",
     "text": [
      "Max reinitialize offset reached. Reinitializing fetcher.\n"
     ]
    },
    {
     "name": "stderr",
     "output_type": "stream",
     "text": [
      "Fetching data:  17%|█▋        | 1710000/10000000 [33:48<2:03:48, 1116.02record/s]"
     ]
    },
    {
     "name": "stdout",
     "output_type": "stream",
     "text": [
      "Max reinitialize offset reached. Reinitializing fetcher.\n"
     ]
    },
    {
     "name": "stderr",
     "output_type": "stream",
     "text": [
      "Fetching data:  17%|█▋        | 1720000/10000000 [34:03<2:19:42, 987.73record/s] "
     ]
    },
    {
     "name": "stdout",
     "output_type": "stream",
     "text": [
      "Max reinitialize offset reached. Reinitializing fetcher.\n"
     ]
    },
    {
     "name": "stderr",
     "output_type": "stream",
     "text": [
      "Fetching data:  17%|█▋        | 1730000/10000000 [34:16<2:08:28, 1072.84record/s]"
     ]
    },
    {
     "name": "stdout",
     "output_type": "stream",
     "text": [
      "Max reinitialize offset reached. Reinitializing fetcher.\n"
     ]
    },
    {
     "name": "stderr",
     "output_type": "stream",
     "text": [
      "Fetching data:  17%|█▋        | 1740000/10000000 [34:30<2:02:58, 1119.41record/s]"
     ]
    },
    {
     "name": "stdout",
     "output_type": "stream",
     "text": [
      "Max reinitialize offset reached. Reinitializing fetcher.\n"
     ]
    },
    {
     "name": "stderr",
     "output_type": "stream",
     "text": [
      "Fetching data:  18%|█▊        | 1750000/10000000 [34:43<1:53:43, 1209.05record/s]"
     ]
    },
    {
     "name": "stdout",
     "output_type": "stream",
     "text": [
      "Max reinitialize offset reached. Reinitializing fetcher.\n"
     ]
    },
    {
     "name": "stderr",
     "output_type": "stream",
     "text": [
      "Fetching data:  18%|█▊        | 1760000/10000000 [34:57<1:59:41, 1147.38record/s]"
     ]
    },
    {
     "name": "stdout",
     "output_type": "stream",
     "text": [
      "Max reinitialize offset reached. Reinitializing fetcher.\n"
     ]
    },
    {
     "name": "stderr",
     "output_type": "stream",
     "text": [
      "Fetching data:  18%|█▊        | 1770000/10000000 [35:10<2:05:42, 1091.09record/s]"
     ]
    },
    {
     "name": "stdout",
     "output_type": "stream",
     "text": [
      "Max reinitialize offset reached. Reinitializing fetcher.\n"
     ]
    },
    {
     "name": "stderr",
     "output_type": "stream",
     "text": [
      "Fetching data:  18%|█▊        | 1780000/10000000 [35:24<2:07:57, 1070.69record/s]"
     ]
    },
    {
     "name": "stdout",
     "output_type": "stream",
     "text": [
      "Max reinitialize offset reached. Reinitializing fetcher.\n"
     ]
    },
    {
     "name": "stderr",
     "output_type": "stream",
     "text": [
      "Fetching data:  18%|█▊        | 1790000/10000000 [35:39<2:26:55, 931.33record/s] "
     ]
    },
    {
     "name": "stdout",
     "output_type": "stream",
     "text": [
      "Max reinitialize offset reached. Reinitializing fetcher.\n"
     ]
    },
    {
     "name": "stderr",
     "output_type": "stream",
     "text": [
      "Fetching data:  18%|█▊        | 1800000/10000000 [35:52<1:59:36, 1142.69record/s]"
     ]
    },
    {
     "name": "stdout",
     "output_type": "stream",
     "text": [
      "Max reinitialize offset reached. Reinitializing fetcher.\n"
     ]
    },
    {
     "name": "stderr",
     "output_type": "stream",
     "text": [
      "Fetching data:  18%|█▊        | 1810000/10000000 [36:05<1:59:53, 1138.46record/s]"
     ]
    },
    {
     "name": "stdout",
     "output_type": "stream",
     "text": [
      "Max reinitialize offset reached. Reinitializing fetcher.\n"
     ]
    },
    {
     "name": "stderr",
     "output_type": "stream",
     "text": [
      "Fetching data:  18%|█▊        | 1820000/10000000 [36:20<2:41:14, 845.56record/s] "
     ]
    },
    {
     "name": "stdout",
     "output_type": "stream",
     "text": [
      "Max reinitialize offset reached. Reinitializing fetcher.\n"
     ]
    },
    {
     "name": "stderr",
     "output_type": "stream",
     "text": [
      "Fetching data:  18%|█▊        | 1830000/10000000 [36:33<2:06:23, 1077.30record/s]"
     ]
    },
    {
     "name": "stdout",
     "output_type": "stream",
     "text": [
      "Max reinitialize offset reached. Reinitializing fetcher.\n"
     ]
    },
    {
     "name": "stderr",
     "output_type": "stream",
     "text": [
      "Fetching data:  18%|█▊        | 1840000/10000000 [36:47<2:02:29, 1110.25record/s]"
     ]
    },
    {
     "name": "stdout",
     "output_type": "stream",
     "text": [
      "Max reinitialize offset reached. Reinitializing fetcher.\n"
     ]
    },
    {
     "name": "stderr",
     "output_type": "stream",
     "text": [
      "Fetching data:  18%|█▊        | 1850000/10000000 [37:01<2:02:57, 1104.75record/s]"
     ]
    },
    {
     "name": "stdout",
     "output_type": "stream",
     "text": [
      "Max reinitialize offset reached. Reinitializing fetcher.\n"
     ]
    },
    {
     "name": "stderr",
     "output_type": "stream",
     "text": [
      "Fetching data:  19%|█▊        | 1860000/10000000 [37:15<2:15:09, 1003.72record/s]"
     ]
    },
    {
     "name": "stdout",
     "output_type": "stream",
     "text": [
      "Max reinitialize offset reached. Reinitializing fetcher.\n"
     ]
    },
    {
     "name": "stderr",
     "output_type": "stream",
     "text": [
      "Fetching data:  19%|█▊        | 1870000/10000000 [37:30<2:14:01, 1011.04record/s]"
     ]
    },
    {
     "name": "stdout",
     "output_type": "stream",
     "text": [
      "Max reinitialize offset reached. Reinitializing fetcher.\n"
     ]
    },
    {
     "name": "stderr",
     "output_type": "stream",
     "text": [
      "Fetching data:  19%|█▉        | 1880000/10000000 [37:44<2:19:10, 972.43record/s] "
     ]
    },
    {
     "name": "stdout",
     "output_type": "stream",
     "text": [
      "Max reinitialize offset reached. Reinitializing fetcher.\n"
     ]
    },
    {
     "name": "stderr",
     "output_type": "stream",
     "text": [
      "Fetching data:  19%|█▉        | 1890000/10000000 [37:58<1:59:56, 1126.89record/s]"
     ]
    },
    {
     "name": "stdout",
     "output_type": "stream",
     "text": [
      "Max reinitialize offset reached. Reinitializing fetcher.\n"
     ]
    },
    {
     "name": "stderr",
     "output_type": "stream",
     "text": [
      "Fetching data:  19%|█▉        | 1900000/10000000 [38:11<2:02:14, 1104.36record/s]"
     ]
    },
    {
     "name": "stdout",
     "output_type": "stream",
     "text": [
      "Max reinitialize offset reached. Reinitializing fetcher.\n"
     ]
    },
    {
     "name": "stderr",
     "output_type": "stream",
     "text": [
      "Fetching data:  19%|█▉        | 1910000/10000000 [38:25<2:02:37, 1099.49record/s]"
     ]
    },
    {
     "name": "stdout",
     "output_type": "stream",
     "text": [
      "Max reinitialize offset reached. Reinitializing fetcher.\n"
     ]
    },
    {
     "name": "stderr",
     "output_type": "stream",
     "text": [
      "Fetching data:  19%|█▉        | 1920000/10000000 [38:39<2:02:37, 1098.18record/s]"
     ]
    },
    {
     "name": "stdout",
     "output_type": "stream",
     "text": [
      "Max reinitialize offset reached. Reinitializing fetcher.\n"
     ]
    },
    {
     "name": "stderr",
     "output_type": "stream",
     "text": [
      "Fetching data:  19%|█▉        | 1930000/10000000 [38:53<2:05:20, 1073.08record/s]"
     ]
    },
    {
     "name": "stdout",
     "output_type": "stream",
     "text": [
      "Max reinitialize offset reached. Reinitializing fetcher.\n"
     ]
    },
    {
     "name": "stderr",
     "output_type": "stream",
     "text": [
      "Fetching data:  19%|█▉        | 1940000/10000000 [39:07<2:00:53, 1111.26record/s]"
     ]
    },
    {
     "name": "stdout",
     "output_type": "stream",
     "text": [
      "Max reinitialize offset reached. Reinitializing fetcher.\n"
     ]
    },
    {
     "name": "stderr",
     "output_type": "stream",
     "text": [
      "Fetching data:  20%|█▉        | 1950000/10000000 [39:20<1:59:43, 1120.57record/s]"
     ]
    },
    {
     "name": "stdout",
     "output_type": "stream",
     "text": [
      "Max reinitialize offset reached. Reinitializing fetcher.\n"
     ]
    },
    {
     "name": "stderr",
     "output_type": "stream",
     "text": [
      "Fetching data:  20%|█▉        | 1960000/10000000 [39:34<1:59:32, 1120.95record/s]"
     ]
    },
    {
     "name": "stdout",
     "output_type": "stream",
     "text": [
      "Max reinitialize offset reached. Reinitializing fetcher.\n"
     ]
    },
    {
     "name": "stderr",
     "output_type": "stream",
     "text": [
      "Fetching data:  20%|█▉        | 1970000/10000000 [39:48<2:19:38, 958.43record/s] "
     ]
    },
    {
     "name": "stdout",
     "output_type": "stream",
     "text": [
      "Max reinitialize offset reached. Reinitializing fetcher.\n"
     ]
    },
    {
     "name": "stderr",
     "output_type": "stream",
     "text": [
      "Fetching data:  20%|█▉        | 1980000/10000000 [40:02<2:11:33, 1016.09record/s]"
     ]
    },
    {
     "name": "stdout",
     "output_type": "stream",
     "text": [
      "Max reinitialize offset reached. Reinitializing fetcher.\n"
     ]
    },
    {
     "name": "stderr",
     "output_type": "stream",
     "text": [
      "Fetching data:  20%|█▉        | 1990000/10000000 [40:16<2:01:22, 1099.84record/s]"
     ]
    },
    {
     "name": "stdout",
     "output_type": "stream",
     "text": [
      "Max reinitialize offset reached. Reinitializing fetcher.\n"
     ]
    },
    {
     "name": "stderr",
     "output_type": "stream",
     "text": [
      "Fetching data:  20%|██        | 2000000/10000000 [40:29<1:59:50, 1112.59record/s]"
     ]
    },
    {
     "name": "stdout",
     "output_type": "stream",
     "text": [
      "Max reinitialize offset reached. Reinitializing fetcher.\n"
     ]
    },
    {
     "name": "stderr",
     "output_type": "stream",
     "text": [
      "Fetching data:  20%|██        | 2010000/10000000 [40:43<1:59:33, 1113.82record/s]"
     ]
    },
    {
     "name": "stdout",
     "output_type": "stream",
     "text": [
      "Max reinitialize offset reached. Reinitializing fetcher.\n"
     ]
    },
    {
     "name": "stderr",
     "output_type": "stream",
     "text": [
      "Fetching data:  20%|██        | 2020000/10000000 [40:57<2:03:14, 1079.13record/s]"
     ]
    },
    {
     "name": "stdout",
     "output_type": "stream",
     "text": [
      "Max reinitialize offset reached. Reinitializing fetcher.\n"
     ]
    },
    {
     "name": "stderr",
     "output_type": "stream",
     "text": [
      "Fetching data:  20%|██        | 2030000/10000000 [41:11<2:04:47, 1064.51record/s]"
     ]
    },
    {
     "name": "stdout",
     "output_type": "stream",
     "text": [
      "Max reinitialize offset reached. Reinitializing fetcher.\n"
     ]
    },
    {
     "name": "stderr",
     "output_type": "stream",
     "text": [
      "Fetching data:  20%|██        | 2040000/10000000 [41:25<2:09:43, 1022.64record/s]"
     ]
    },
    {
     "name": "stdout",
     "output_type": "stream",
     "text": [
      "Max reinitialize offset reached. Reinitializing fetcher.\n"
     ]
    },
    {
     "name": "stderr",
     "output_type": "stream",
     "text": [
      "Fetching data:  20%|██        | 2050000/10000000 [41:38<1:58:35, 1117.33record/s]"
     ]
    },
    {
     "name": "stdout",
     "output_type": "stream",
     "text": [
      "Max reinitialize offset reached. Reinitializing fetcher.\n"
     ]
    },
    {
     "name": "stderr",
     "output_type": "stream",
     "text": [
      "Fetching data:  21%|██        | 2060000/10000000 [41:52<2:00:59, 1093.71record/s]"
     ]
    },
    {
     "name": "stdout",
     "output_type": "stream",
     "text": [
      "Max reinitialize offset reached. Reinitializing fetcher.\n"
     ]
    },
    {
     "name": "stderr",
     "output_type": "stream",
     "text": [
      "Fetching data:  21%|██        | 2070000/10000000 [42:05<2:06:15, 1046.82record/s]"
     ]
    },
    {
     "name": "stdout",
     "output_type": "stream",
     "text": [
      "Max reinitialize offset reached. Reinitializing fetcher.\n"
     ]
    },
    {
     "name": "stderr",
     "output_type": "stream",
     "text": [
      "Fetching data:  21%|██        | 2080000/10000000 [42:19<1:55:03, 1147.18record/s]"
     ]
    },
    {
     "name": "stdout",
     "output_type": "stream",
     "text": [
      "Max reinitialize offset reached. Reinitializing fetcher.\n"
     ]
    },
    {
     "name": "stderr",
     "output_type": "stream",
     "text": [
      "Fetching data:  21%|██        | 2090000/10000000 [42:33<2:10:48, 1007.81record/s]"
     ]
    },
    {
     "name": "stdout",
     "output_type": "stream",
     "text": [
      "Max reinitialize offset reached. Reinitializing fetcher.\n"
     ]
    },
    {
     "name": "stderr",
     "output_type": "stream",
     "text": [
      "Fetching data:  21%|██        | 2100000/10000000 [42:47<2:02:58, 1070.62record/s]"
     ]
    },
    {
     "name": "stdout",
     "output_type": "stream",
     "text": [
      "Max reinitialize offset reached. Reinitializing fetcher.\n"
     ]
    },
    {
     "name": "stderr",
     "output_type": "stream",
     "text": [
      "Fetching data:  21%|██        | 2110000/10000000 [43:02<2:25:12, 905.60record/s] "
     ]
    },
    {
     "name": "stdout",
     "output_type": "stream",
     "text": [
      "Max reinitialize offset reached. Reinitializing fetcher.\n"
     ]
    },
    {
     "name": "stderr",
     "output_type": "stream",
     "text": [
      "Fetching data:  21%|██        | 2120000/10000000 [43:16<2:06:23, 1039.10record/s]"
     ]
    },
    {
     "name": "stdout",
     "output_type": "stream",
     "text": [
      "Max reinitialize offset reached. Reinitializing fetcher.\n"
     ]
    },
    {
     "name": "stderr",
     "output_type": "stream",
     "text": [
      "Fetching data:  21%|██▏       | 2130000/10000000 [43:30<2:01:04, 1083.40record/s]"
     ]
    },
    {
     "name": "stdout",
     "output_type": "stream",
     "text": [
      "Max reinitialize offset reached. Reinitializing fetcher.\n"
     ]
    },
    {
     "name": "stderr",
     "output_type": "stream",
     "text": [
      "Fetching data:  21%|██▏       | 2140000/10000000 [43:44<2:11:45, 994.21record/s] "
     ]
    },
    {
     "name": "stdout",
     "output_type": "stream",
     "text": [
      "Max reinitialize offset reached. Reinitializing fetcher.\n"
     ]
    },
    {
     "name": "stderr",
     "output_type": "stream",
     "text": [
      "Fetching data:  22%|██▏       | 2150000/10000000 [43:58<2:04:30, 1050.86record/s]"
     ]
    },
    {
     "name": "stdout",
     "output_type": "stream",
     "text": [
      "Max reinitialize offset reached. Reinitializing fetcher.\n"
     ]
    },
    {
     "name": "stderr",
     "output_type": "stream",
     "text": [
      "Fetching data:  22%|██▏       | 2153000/10000000 [44:06<3:47:12, 575.63record/s] "
     ]
    },
    {
     "name": "stdout",
     "output_type": "stream",
     "text": [
      "No more data to fetch, attempt 1/5.\n",
      "No more data to fetch, attempt 2/5.\n",
      "No more data to fetch, attempt 3/5.\n"
     ]
    },
    {
     "name": "stderr",
     "output_type": "stream",
     "text": [
      "Fetching data:  22%|██▏       | 2153000/10000000 [44:22<3:47:12, 575.63record/s]"
     ]
    },
    {
     "name": "stdout",
     "output_type": "stream",
     "text": [
      "No more data to fetch, attempt 4/5.\n"
     ]
    },
    {
     "name": "stderr",
     "output_type": "stream",
     "text": [
      "Fetching data:  22%|██▏       | 2153000/10000000 [44:31<2:42:16, 805.95record/s]"
     ]
    },
    {
     "name": "stdout",
     "output_type": "stream",
     "text": [
      "No more data to fetch, attempt 5/5.\n",
      "Maximum consecutive no data attempts reached, stopping fetch process.\n",
      "Storage directory 'C:/Users/mike/Data/Public' is ready.\n"
     ]
    },
    {
     "name": "stderr",
     "output_type": "stream",
     "text": [
      "\n"
     ]
    },
    {
     "name": "stdout",
     "output_type": "stream",
     "text": [
      "Data written to 'C:/Users/mike/Data/Public\\LAPD_Crime_Data.json_2010-2019'.\n",
      "Compressing file 'C:/Users/mike/Data/Public\\LAPD_Crime_Data.json_2010-2019' to 'C:/Users/mike/Data/Public\\LAPD_Crime_Data.json_2010-2019.zip'\n",
      "Data compressed to 'C:/Users/mike/Data/Public\\LAPD_Crime_Data.json_2010-2019.zip'.\n",
      "Data fetching and storing process completed.\n"
     ]
    }
   ],
   "source": [
    "from datetime import datetime\n",
    "\n",
    "# Add custom module paths to the system path for importing\n",
    "import sys\n",
    "sys.path.append('../../../Common')\n",
    "sys.path.append('../../../Common/Functions')\n",
    "\n",
    "# Set the base URL for the data source\n",
    "base_url = \"https://data.lacity.org/resource/63jg-8b9z.json\"\n",
    "\n",
    "# Import custom functions for fetching and storing data\n",
    "from func_Fetch_Data_v2 import fetch_store_data, JSONDataFetcher\n",
    "\n",
    "# Define the starting date for data retrieval (January 1, 2010)\n",
    "from_date = datetime(2010, 1, 1)\n",
    "from_date_str = from_date.isoformat()\n",
    "\n",
    "# Create the filter condition for the query based on the starting date\n",
    "where_clause = f\"date_rptd>='{from_date_str}'\"\n",
    "\n",
    "if __name__ == \"__main__\":\n",
    "    # Construct the full URL with placeholders for limit, offset, and filter condition\n",
    "    url = f\"{base_url}?$limit={{}}&$offset={{}}&$where={where_clause}\"\n",
    "    \n",
    "    # Set the chunk size for fetching data in batches\n",
    "    chunk_size = 1000\n",
    "    \n",
    "    # Initialize the data fetcher with the constructed URL, chunk size, and filter condition\n",
    "    fetcher = JSONDataFetcher(url, chunk_size, where_clause)\n",
    "    \n",
    "    # Define parameters for data fetching and storage\n",
    "    limit = 10000000  # Maximum number of records to fetch\n",
    "    offset = 0  # Starting offset for data retrieval\n",
    "    storage_dir = 'C:/Users/mike/Data/Public'  # Directory to store the fetched data\n",
    "    storage_file = 'LAPD_Crime_Data.json_2010-2019'  # File name for storing the data\n",
    "    compress = True  # Whether to compress the stored data\n",
    "    mode = 'w'  # File mode for writing data\n",
    "    pause_duration = 2  # Pause duration between fetch attempts (in seconds)\n",
    "    max_reinitialize_offset = 10000  # Maximum offset for reinitializing the fetcher\n",
    "\n",
    "    # Fetch and store the data using the defined parameters\n",
    "    fetch_store_data(fetcher, limit, offset, storage_dir, storage_file, compress, mode)\n"
   ]
  },
  {
   "cell_type": "markdown",
   "metadata": {},
   "source": [
    "## Get Crime Data from 2020-2024"
   ]
  },
  {
   "cell_type": "code",
   "execution_count": null,
   "metadata": {},
   "outputs": [
    {
     "name": "stderr",
     "output_type": "stream",
     "text": [
      "Fetching data:   0%|          | 10000/2000000 [00:03<11:14, 2950.81record/s]"
     ]
    },
    {
     "name": "stdout",
     "output_type": "stream",
     "text": [
      "Max reinitialize offset reached. Reinitializing fetcher.\n"
     ]
    },
    {
     "name": "stderr",
     "output_type": "stream",
     "text": [
      "Fetching data:   1%|          | 20000/2000000 [00:13<13:51, 2381.39record/s] "
     ]
    },
    {
     "name": "stdout",
     "output_type": "stream",
     "text": [
      "Max reinitialize offset reached. Reinitializing fetcher.\n"
     ]
    },
    {
     "name": "stderr",
     "output_type": "stream",
     "text": [
      "Fetching data:   2%|▏         | 30000/2000000 [00:22<16:42, 1966.06record/s] "
     ]
    },
    {
     "name": "stdout",
     "output_type": "stream",
     "text": [
      "Max reinitialize offset reached. Reinitializing fetcher.\n"
     ]
    },
    {
     "name": "stderr",
     "output_type": "stream",
     "text": [
      "Fetching data:   2%|▏         | 40000/2000000 [00:33<19:06, 1709.27record/s] "
     ]
    },
    {
     "name": "stdout",
     "output_type": "stream",
     "text": [
      "Max reinitialize offset reached. Reinitializing fetcher.\n"
     ]
    },
    {
     "name": "stderr",
     "output_type": "stream",
     "text": [
      "Fetching data:   2%|▎         | 50000/2000000 [00:42<17:15, 1883.38record/s] "
     ]
    },
    {
     "name": "stdout",
     "output_type": "stream",
     "text": [
      "Max reinitialize offset reached. Reinitializing fetcher.\n"
     ]
    },
    {
     "name": "stderr",
     "output_type": "stream",
     "text": [
      "Fetching data:   3%|▎         | 60000/2000000 [00:50<13:29, 2395.65record/s] "
     ]
    },
    {
     "name": "stdout",
     "output_type": "stream",
     "text": [
      "Max reinitialize offset reached. Reinitializing fetcher.\n"
     ]
    },
    {
     "name": "stderr",
     "output_type": "stream",
     "text": [
      "Fetching data:   4%|▎         | 70000/2000000 [01:00<15:21, 2093.41record/s] "
     ]
    },
    {
     "name": "stdout",
     "output_type": "stream",
     "text": [
      "Max reinitialize offset reached. Reinitializing fetcher.\n"
     ]
    },
    {
     "name": "stderr",
     "output_type": "stream",
     "text": [
      "Fetching data:   4%|▍         | 80000/2000000 [01:09<15:16, 2095.70record/s] "
     ]
    },
    {
     "name": "stdout",
     "output_type": "stream",
     "text": [
      "Max reinitialize offset reached. Reinitializing fetcher.\n"
     ]
    },
    {
     "name": "stderr",
     "output_type": "stream",
     "text": [
      "Fetching data:   4%|▍         | 90000/2000000 [01:19<17:41, 1798.82record/s] "
     ]
    },
    {
     "name": "stdout",
     "output_type": "stream",
     "text": [
      "Max reinitialize offset reached. Reinitializing fetcher.\n"
     ]
    },
    {
     "name": "stderr",
     "output_type": "stream",
     "text": [
      "Fetching data:   5%|▌         | 100000/2000000 [01:28<15:06, 2095.58record/s]"
     ]
    },
    {
     "name": "stdout",
     "output_type": "stream",
     "text": [
      "Max reinitialize offset reached. Reinitializing fetcher.\n"
     ]
    },
    {
     "name": "stderr",
     "output_type": "stream",
     "text": [
      "Fetching data:   6%|▌         | 110000/2000000 [01:38<18:15, 1725.89record/s] "
     ]
    },
    {
     "name": "stdout",
     "output_type": "stream",
     "text": [
      "Max reinitialize offset reached. Reinitializing fetcher.\n"
     ]
    },
    {
     "name": "stderr",
     "output_type": "stream",
     "text": [
      "Fetching data:   6%|▌         | 120000/2000000 [01:48<17:55, 1748.46record/s] "
     ]
    },
    {
     "name": "stdout",
     "output_type": "stream",
     "text": [
      "Max reinitialize offset reached. Reinitializing fetcher.\n"
     ]
    },
    {
     "name": "stderr",
     "output_type": "stream",
     "text": [
      "Fetching data:   6%|▋         | 130000/2000000 [01:57<16:17, 1912.79record/s] "
     ]
    },
    {
     "name": "stdout",
     "output_type": "stream",
     "text": [
      "Max reinitialize offset reached. Reinitializing fetcher.\n"
     ]
    },
    {
     "name": "stderr",
     "output_type": "stream",
     "text": [
      "Fetching data:   7%|▋         | 140000/2000000 [02:07<16:15, 1906.66record/s] "
     ]
    },
    {
     "name": "stdout",
     "output_type": "stream",
     "text": [
      "Max reinitialize offset reached. Reinitializing fetcher.\n"
     ]
    },
    {
     "name": "stderr",
     "output_type": "stream",
     "text": [
      "Fetching data:   8%|▊         | 150000/2000000 [02:16<15:28, 1992.64record/s] "
     ]
    },
    {
     "name": "stdout",
     "output_type": "stream",
     "text": [
      "Max reinitialize offset reached. Reinitializing fetcher.\n"
     ]
    },
    {
     "name": "stderr",
     "output_type": "stream",
     "text": [
      "Fetching data:   8%|▊         | 160000/2000000 [02:26<17:21, 1765.90record/s] "
     ]
    },
    {
     "name": "stdout",
     "output_type": "stream",
     "text": [
      "Max reinitialize offset reached. Reinitializing fetcher.\n"
     ]
    },
    {
     "name": "stderr",
     "output_type": "stream",
     "text": [
      "Fetching data:   8%|▊         | 170000/2000000 [02:35<15:33, 1959.41record/s] "
     ]
    },
    {
     "name": "stdout",
     "output_type": "stream",
     "text": [
      "Max reinitialize offset reached. Reinitializing fetcher.\n"
     ]
    },
    {
     "name": "stderr",
     "output_type": "stream",
     "text": [
      "Fetching data:   9%|▉         | 180000/2000000 [02:45<14:22, 2109.20record/s] "
     ]
    },
    {
     "name": "stdout",
     "output_type": "stream",
     "text": [
      "Max reinitialize offset reached. Reinitializing fetcher.\n"
     ]
    },
    {
     "name": "stderr",
     "output_type": "stream",
     "text": [
      "Fetching data:  10%|▉         | 190000/2000000 [02:54<15:13, 1980.98record/s]"
     ]
    },
    {
     "name": "stdout",
     "output_type": "stream",
     "text": [
      "Max reinitialize offset reached. Reinitializing fetcher.\n"
     ]
    },
    {
     "name": "stderr",
     "output_type": "stream",
     "text": [
      "Fetching data:  10%|█         | 200000/2000000 [03:04<13:54, 2157.67record/s]"
     ]
    },
    {
     "name": "stdout",
     "output_type": "stream",
     "text": [
      "Max reinitialize offset reached. Reinitializing fetcher.\n"
     ]
    },
    {
     "name": "stderr",
     "output_type": "stream",
     "text": [
      "Fetching data:  10%|█         | 210000/2000000 [03:13<14:48, 2014.51record/s]"
     ]
    },
    {
     "name": "stdout",
     "output_type": "stream",
     "text": [
      "Max reinitialize offset reached. Reinitializing fetcher.\n"
     ]
    },
    {
     "name": "stderr",
     "output_type": "stream",
     "text": [
      "Fetching data:  11%|█         | 220000/2000000 [03:23<17:49, 1664.60record/s] "
     ]
    },
    {
     "name": "stdout",
     "output_type": "stream",
     "text": [
      "Max reinitialize offset reached. Reinitializing fetcher.\n"
     ]
    },
    {
     "name": "stderr",
     "output_type": "stream",
     "text": [
      "Fetching data:  12%|█▏        | 230000/2000000 [03:33<17:34, 1678.58record/s] "
     ]
    },
    {
     "name": "stdout",
     "output_type": "stream",
     "text": [
      "Max reinitialize offset reached. Reinitializing fetcher.\n"
     ]
    },
    {
     "name": "stderr",
     "output_type": "stream",
     "text": [
      "Fetching data:  12%|█▏        | 240000/2000000 [03:42<15:01, 1951.80record/s] "
     ]
    },
    {
     "name": "stdout",
     "output_type": "stream",
     "text": [
      "Max reinitialize offset reached. Reinitializing fetcher.\n"
     ]
    },
    {
     "name": "stderr",
     "output_type": "stream",
     "text": [
      "Fetching data:  12%|█▎        | 250000/2000000 [03:53<19:14, 1516.35record/s]"
     ]
    },
    {
     "name": "stdout",
     "output_type": "stream",
     "text": [
      "Max reinitialize offset reached. Reinitializing fetcher.\n"
     ]
    },
    {
     "name": "stderr",
     "output_type": "stream",
     "text": [
      "Fetching data:  13%|█▎        | 260000/2000000 [04:02<16:27, 1762.13record/s] "
     ]
    },
    {
     "name": "stdout",
     "output_type": "stream",
     "text": [
      "Max reinitialize offset reached. Reinitializing fetcher.\n"
     ]
    },
    {
     "name": "stderr",
     "output_type": "stream",
     "text": [
      "Fetching data:  14%|█▎        | 270000/2000000 [04:13<16:49, 1713.61record/s] "
     ]
    },
    {
     "name": "stdout",
     "output_type": "stream",
     "text": [
      "Max reinitialize offset reached. Reinitializing fetcher.\n"
     ]
    },
    {
     "name": "stderr",
     "output_type": "stream",
     "text": [
      "Fetching data:  14%|█▍        | 280000/2000000 [04:23<19:22, 1479.61record/s]"
     ]
    },
    {
     "name": "stdout",
     "output_type": "stream",
     "text": [
      "Max reinitialize offset reached. Reinitializing fetcher.\n"
     ]
    },
    {
     "name": "stderr",
     "output_type": "stream",
     "text": [
      "Fetching data:  14%|█▍        | 290000/2000000 [04:33<15:56, 1788.63record/s] "
     ]
    },
    {
     "name": "stdout",
     "output_type": "stream",
     "text": [
      "Max reinitialize offset reached. Reinitializing fetcher.\n"
     ]
    },
    {
     "name": "stderr",
     "output_type": "stream",
     "text": [
      "Fetching data:  15%|█▌        | 300000/2000000 [04:43<15:55, 1779.17record/s]"
     ]
    },
    {
     "name": "stdout",
     "output_type": "stream",
     "text": [
      "Max reinitialize offset reached. Reinitializing fetcher.\n"
     ]
    },
    {
     "name": "stderr",
     "output_type": "stream",
     "text": [
      "Fetching data:  16%|█▌        | 310000/2000000 [04:53<19:30, 1444.08record/s]"
     ]
    },
    {
     "name": "stdout",
     "output_type": "stream",
     "text": [
      "Max reinitialize offset reached. Reinitializing fetcher.\n"
     ]
    },
    {
     "name": "stderr",
     "output_type": "stream",
     "text": [
      "Fetching data:  16%|█▌        | 320000/2000000 [05:04<16:27, 1701.35record/s] "
     ]
    },
    {
     "name": "stdout",
     "output_type": "stream",
     "text": [
      "Max reinitialize offset reached. Reinitializing fetcher.\n"
     ]
    },
    {
     "name": "stderr",
     "output_type": "stream",
     "text": [
      "Fetching data:  16%|█▋        | 330000/2000000 [05:14<15:22, 1811.14record/s]"
     ]
    },
    {
     "name": "stdout",
     "output_type": "stream",
     "text": [
      "Max reinitialize offset reached. Reinitializing fetcher.\n"
     ]
    },
    {
     "name": "stderr",
     "output_type": "stream",
     "text": [
      "Fetching data:  17%|█▋        | 340000/2000000 [05:24<14:21, 1926.98record/s]"
     ]
    },
    {
     "name": "stdout",
     "output_type": "stream",
     "text": [
      "Max reinitialize offset reached. Reinitializing fetcher.\n"
     ]
    },
    {
     "name": "stderr",
     "output_type": "stream",
     "text": [
      "Fetching data:  18%|█▊        | 350000/2000000 [05:33<14:42, 1869.15record/s]"
     ]
    },
    {
     "name": "stdout",
     "output_type": "stream",
     "text": [
      "Max reinitialize offset reached. Reinitializing fetcher.\n"
     ]
    },
    {
     "name": "stderr",
     "output_type": "stream",
     "text": [
      "Fetching data:  18%|█▊        | 360000/2000000 [05:44<15:43, 1737.53record/s]"
     ]
    },
    {
     "name": "stdout",
     "output_type": "stream",
     "text": [
      "Max reinitialize offset reached. Reinitializing fetcher.\n"
     ]
    },
    {
     "name": "stderr",
     "output_type": "stream",
     "text": [
      "Fetching data:  18%|█▊        | 370000/2000000 [05:54<16:28, 1648.37record/s]"
     ]
    },
    {
     "name": "stdout",
     "output_type": "stream",
     "text": [
      "Max reinitialize offset reached. Reinitializing fetcher.\n"
     ]
    },
    {
     "name": "stderr",
     "output_type": "stream",
     "text": [
      "Fetching data:  19%|█▉        | 380000/2000000 [06:04<16:01, 1685.62record/s]"
     ]
    },
    {
     "name": "stdout",
     "output_type": "stream",
     "text": [
      "Max reinitialize offset reached. Reinitializing fetcher.\n"
     ]
    },
    {
     "name": "stderr",
     "output_type": "stream",
     "text": [
      "Fetching data:  20%|█▉        | 390000/2000000 [06:15<17:53, 1499.15record/s]"
     ]
    },
    {
     "name": "stdout",
     "output_type": "stream",
     "text": [
      "Max reinitialize offset reached. Reinitializing fetcher.\n"
     ]
    },
    {
     "name": "stderr",
     "output_type": "stream",
     "text": [
      "Fetching data:  20%|██        | 400000/2000000 [06:25<15:20, 1737.49record/s]"
     ]
    },
    {
     "name": "stdout",
     "output_type": "stream",
     "text": [
      "Max reinitialize offset reached. Reinitializing fetcher.\n"
     ]
    },
    {
     "name": "stderr",
     "output_type": "stream",
     "text": [
      "Fetching data:  20%|██        | 410000/2000000 [06:35<15:35, 1699.44record/s]"
     ]
    },
    {
     "name": "stdout",
     "output_type": "stream",
     "text": [
      "Max reinitialize offset reached. Reinitializing fetcher.\n"
     ]
    },
    {
     "name": "stderr",
     "output_type": "stream",
     "text": [
      "Fetching data:  21%|██        | 420000/2000000 [06:46<20:01, 1314.83record/s]"
     ]
    },
    {
     "name": "stdout",
     "output_type": "stream",
     "text": [
      "Max reinitialize offset reached. Reinitializing fetcher.\n"
     ]
    },
    {
     "name": "stderr",
     "output_type": "stream",
     "text": [
      "Fetching data:  22%|██▏       | 430000/2000000 [06:57<15:08, 1728.56record/s]"
     ]
    },
    {
     "name": "stdout",
     "output_type": "stream",
     "text": [
      "Max reinitialize offset reached. Reinitializing fetcher.\n"
     ]
    },
    {
     "name": "stderr",
     "output_type": "stream",
     "text": [
      "Fetching data:  22%|██▏       | 440000/2000000 [07:08<21:17, 1220.77record/s]"
     ]
    },
    {
     "name": "stdout",
     "output_type": "stream",
     "text": [
      "Max reinitialize offset reached. Reinitializing fetcher.\n"
     ]
    },
    {
     "name": "stderr",
     "output_type": "stream",
     "text": [
      "Fetching data:  22%|██▎       | 450000/2000000 [07:21<19:16, 1339.74record/s]"
     ]
    },
    {
     "name": "stdout",
     "output_type": "stream",
     "text": [
      "Max reinitialize offset reached. Reinitializing fetcher.\n"
     ]
    },
    {
     "name": "stderr",
     "output_type": "stream",
     "text": [
      "Fetching data:  23%|██▎       | 460000/2000000 [07:33<22:32, 1138.42record/s]"
     ]
    },
    {
     "name": "stdout",
     "output_type": "stream",
     "text": [
      "Max reinitialize offset reached. Reinitializing fetcher.\n"
     ]
    },
    {
     "name": "stderr",
     "output_type": "stream",
     "text": [
      "Fetching data:  24%|██▎       | 470000/2000000 [07:46<22:42, 1122.84record/s] "
     ]
    },
    {
     "name": "stdout",
     "output_type": "stream",
     "text": [
      "Max reinitialize offset reached. Reinitializing fetcher.\n"
     ]
    },
    {
     "name": "stderr",
     "output_type": "stream",
     "text": [
      "Fetching data:  24%|██▍       | 480000/2000000 [08:00<18:55, 1339.02record/s]"
     ]
    },
    {
     "name": "stdout",
     "output_type": "stream",
     "text": [
      "Max reinitialize offset reached. Reinitializing fetcher.\n"
     ]
    },
    {
     "name": "stderr",
     "output_type": "stream",
     "text": [
      "Fetching data:  24%|██▍       | 490000/2000000 [08:11<21:26, 1173.67record/s]"
     ]
    },
    {
     "name": "stdout",
     "output_type": "stream",
     "text": [
      "Max reinitialize offset reached. Reinitializing fetcher.\n"
     ]
    },
    {
     "name": "stderr",
     "output_type": "stream",
     "text": [
      "Fetching data:  25%|██▌       | 500000/2000000 [08:23<15:52, 1575.22record/s] "
     ]
    },
    {
     "name": "stdout",
     "output_type": "stream",
     "text": [
      "Max reinitialize offset reached. Reinitializing fetcher.\n"
     ]
    },
    {
     "name": "stderr",
     "output_type": "stream",
     "text": [
      "Fetching data:  26%|██▌       | 510000/2000000 [08:35<18:51, 1316.56record/s]"
     ]
    },
    {
     "name": "stdout",
     "output_type": "stream",
     "text": [
      "Max reinitialize offset reached. Reinitializing fetcher.\n"
     ]
    },
    {
     "name": "stderr",
     "output_type": "stream",
     "text": [
      "Fetching data:  26%|██▌       | 520000/2000000 [08:47<17:25, 1415.54record/s]"
     ]
    },
    {
     "name": "stdout",
     "output_type": "stream",
     "text": [
      "Max reinitialize offset reached. Reinitializing fetcher.\n"
     ]
    },
    {
     "name": "stderr",
     "output_type": "stream",
     "text": [
      "Fetching data:  26%|██▋       | 530000/2000000 [08:58<15:09, 1616.04record/s]"
     ]
    },
    {
     "name": "stdout",
     "output_type": "stream",
     "text": [
      "Max reinitialize offset reached. Reinitializing fetcher.\n"
     ]
    },
    {
     "name": "stderr",
     "output_type": "stream",
     "text": [
      "Fetching data:  27%|██▋       | 540000/2000000 [09:08<17:10, 1416.54record/s]"
     ]
    },
    {
     "name": "stdout",
     "output_type": "stream",
     "text": [
      "Max reinitialize offset reached. Reinitializing fetcher.\n"
     ]
    },
    {
     "name": "stderr",
     "output_type": "stream",
     "text": [
      "Fetching data:  28%|██▊       | 550000/2000000 [09:20<14:11, 1703.21record/s]"
     ]
    },
    {
     "name": "stdout",
     "output_type": "stream",
     "text": [
      "Max reinitialize offset reached. Reinitializing fetcher.\n"
     ]
    },
    {
     "name": "stderr",
     "output_type": "stream",
     "text": [
      "Fetching data:  28%|██▊       | 560000/2000000 [09:32<17:47, 1348.60record/s]"
     ]
    },
    {
     "name": "stdout",
     "output_type": "stream",
     "text": [
      "Max reinitialize offset reached. Reinitializing fetcher.\n"
     ]
    },
    {
     "name": "stderr",
     "output_type": "stream",
     "text": [
      "Fetching data:  28%|██▊       | 570000/2000000 [09:43<13:50, 1722.64record/s]"
     ]
    },
    {
     "name": "stdout",
     "output_type": "stream",
     "text": [
      "Max reinitialize offset reached. Reinitializing fetcher.\n"
     ]
    },
    {
     "name": "stderr",
     "output_type": "stream",
     "text": [
      "Fetching data:  29%|██▉       | 580000/2000000 [09:54<15:31, 1524.27record/s]"
     ]
    },
    {
     "name": "stdout",
     "output_type": "stream",
     "text": [
      "Max reinitialize offset reached. Reinitializing fetcher.\n"
     ]
    },
    {
     "name": "stderr",
     "output_type": "stream",
     "text": [
      "Fetching data:  30%|██▉       | 590000/2000000 [10:05<15:08, 1551.46record/s]"
     ]
    },
    {
     "name": "stdout",
     "output_type": "stream",
     "text": [
      "Max reinitialize offset reached. Reinitializing fetcher.\n"
     ]
    },
    {
     "name": "stderr",
     "output_type": "stream",
     "text": [
      "Fetching data:  30%|███       | 600000/2000000 [10:17<17:17, 1349.81record/s]"
     ]
    },
    {
     "name": "stdout",
     "output_type": "stream",
     "text": [
      "Max reinitialize offset reached. Reinitializing fetcher.\n"
     ]
    },
    {
     "name": "stderr",
     "output_type": "stream",
     "text": [
      "Fetching data:  30%|███       | 610000/2000000 [10:29<16:23, 1413.21record/s]"
     ]
    },
    {
     "name": "stdout",
     "output_type": "stream",
     "text": [
      "Max reinitialize offset reached. Reinitializing fetcher.\n"
     ]
    },
    {
     "name": "stderr",
     "output_type": "stream",
     "text": [
      "Fetching data:  31%|███       | 620000/2000000 [10:42<18:50, 1221.22record/s]"
     ]
    },
    {
     "name": "stdout",
     "output_type": "stream",
     "text": [
      "Max reinitialize offset reached. Reinitializing fetcher.\n"
     ]
    },
    {
     "name": "stderr",
     "output_type": "stream",
     "text": [
      "Fetching data:  32%|███▏      | 630000/2000000 [10:54<18:20, 1245.05record/s]"
     ]
    },
    {
     "name": "stdout",
     "output_type": "stream",
     "text": [
      "Max reinitialize offset reached. Reinitializing fetcher.\n"
     ]
    },
    {
     "name": "stderr",
     "output_type": "stream",
     "text": [
      "Fetching data:  32%|███▏      | 640000/2000000 [11:06<15:36, 1452.26record/s]"
     ]
    },
    {
     "name": "stdout",
     "output_type": "stream",
     "text": [
      "Max reinitialize offset reached. Reinitializing fetcher.\n"
     ]
    },
    {
     "name": "stderr",
     "output_type": "stream",
     "text": [
      "Fetching data:  32%|███▎      | 650000/2000000 [11:18<18:08, 1240.29record/s]"
     ]
    },
    {
     "name": "stdout",
     "output_type": "stream",
     "text": [
      "Max reinitialize offset reached. Reinitializing fetcher.\n"
     ]
    },
    {
     "name": "stderr",
     "output_type": "stream",
     "text": [
      "Fetching data:  33%|███▎      | 660000/2000000 [11:31<21:03, 1060.16record/s]"
     ]
    },
    {
     "name": "stdout",
     "output_type": "stream",
     "text": [
      "Max reinitialize offset reached. Reinitializing fetcher.\n"
     ]
    },
    {
     "name": "stderr",
     "output_type": "stream",
     "text": [
      "Fetching data:  34%|███▎      | 670000/2000000 [11:42<14:34, 1520.07record/s]"
     ]
    },
    {
     "name": "stdout",
     "output_type": "stream",
     "text": [
      "Max reinitialize offset reached. Reinitializing fetcher.\n"
     ]
    },
    {
     "name": "stderr",
     "output_type": "stream",
     "text": [
      "Fetching data:  34%|███▍      | 680000/2000000 [11:53<13:59, 1572.85record/s]"
     ]
    },
    {
     "name": "stdout",
     "output_type": "stream",
     "text": [
      "Max reinitialize offset reached. Reinitializing fetcher.\n"
     ]
    },
    {
     "name": "stderr",
     "output_type": "stream",
     "text": [
      "Fetching data:  34%|███▍      | 690000/2000000 [12:03<15:30, 1407.57record/s]"
     ]
    },
    {
     "name": "stdout",
     "output_type": "stream",
     "text": [
      "Max reinitialize offset reached. Reinitializing fetcher.\n"
     ]
    },
    {
     "name": "stderr",
     "output_type": "stream",
     "text": [
      "Fetching data:  35%|███▌      | 700000/2000000 [12:14<13:56, 1553.46record/s]"
     ]
    },
    {
     "name": "stdout",
     "output_type": "stream",
     "text": [
      "Max reinitialize offset reached. Reinitializing fetcher.\n"
     ]
    },
    {
     "name": "stderr",
     "output_type": "stream",
     "text": [
      "Fetching data:  36%|███▌      | 710000/2000000 [12:25<13:24, 1602.61record/s]"
     ]
    },
    {
     "name": "stdout",
     "output_type": "stream",
     "text": [
      "Max reinitialize offset reached. Reinitializing fetcher.\n"
     ]
    },
    {
     "name": "stderr",
     "output_type": "stream",
     "text": [
      "Fetching data:  36%|███▌      | 720000/2000000 [12:37<17:25, 1224.38record/s]"
     ]
    },
    {
     "name": "stdout",
     "output_type": "stream",
     "text": [
      "Max reinitialize offset reached. Reinitializing fetcher.\n"
     ]
    },
    {
     "name": "stderr",
     "output_type": "stream",
     "text": [
      "Fetching data:  36%|███▋      | 730000/2000000 [12:48<15:20, 1380.30record/s]"
     ]
    },
    {
     "name": "stdout",
     "output_type": "stream",
     "text": [
      "Max reinitialize offset reached. Reinitializing fetcher.\n"
     ]
    },
    {
     "name": "stderr",
     "output_type": "stream",
     "text": [
      "Fetching data:  37%|███▋      | 740000/2000000 [12:59<13:17, 1579.31record/s]"
     ]
    },
    {
     "name": "stdout",
     "output_type": "stream",
     "text": [
      "Max reinitialize offset reached. Reinitializing fetcher.\n"
     ]
    },
    {
     "name": "stderr",
     "output_type": "stream",
     "text": [
      "Fetching data:  38%|███▊      | 750000/2000000 [13:10<16:16, 1279.82record/s]"
     ]
    },
    {
     "name": "stdout",
     "output_type": "stream",
     "text": [
      "Max reinitialize offset reached. Reinitializing fetcher.\n"
     ]
    },
    {
     "name": "stderr",
     "output_type": "stream",
     "text": [
      "Fetching data:  38%|███▊      | 760000/2000000 [13:21<13:24, 1540.79record/s]"
     ]
    },
    {
     "name": "stdout",
     "output_type": "stream",
     "text": [
      "Max reinitialize offset reached. Reinitializing fetcher.\n"
     ]
    },
    {
     "name": "stderr",
     "output_type": "stream",
     "text": [
      "Fetching data:  38%|███▊      | 770000/2000000 [13:32<12:49, 1598.92record/s]"
     ]
    },
    {
     "name": "stdout",
     "output_type": "stream",
     "text": [
      "Max reinitialize offset reached. Reinitializing fetcher.\n"
     ]
    },
    {
     "name": "stderr",
     "output_type": "stream",
     "text": [
      "Fetching data:  39%|███▉      | 780000/2000000 [13:43<13:42, 1483.31record/s]"
     ]
    },
    {
     "name": "stdout",
     "output_type": "stream",
     "text": [
      "Max reinitialize offset reached. Reinitializing fetcher.\n"
     ]
    },
    {
     "name": "stderr",
     "output_type": "stream",
     "text": [
      "Fetching data:  40%|███▉      | 790000/2000000 [13:53<12:37, 1597.15record/s]"
     ]
    },
    {
     "name": "stdout",
     "output_type": "stream",
     "text": [
      "Max reinitialize offset reached. Reinitializing fetcher.\n"
     ]
    },
    {
     "name": "stderr",
     "output_type": "stream",
     "text": [
      "Fetching data:  40%|████      | 800000/2000000 [14:04<11:29, 1740.80record/s]"
     ]
    },
    {
     "name": "stdout",
     "output_type": "stream",
     "text": [
      "Max reinitialize offset reached. Reinitializing fetcher.\n"
     ]
    },
    {
     "name": "stderr",
     "output_type": "stream",
     "text": [
      "Fetching data:  40%|████      | 810000/2000000 [14:14<12:20, 1607.97record/s]"
     ]
    },
    {
     "name": "stdout",
     "output_type": "stream",
     "text": [
      "Max reinitialize offset reached. Reinitializing fetcher.\n"
     ]
    },
    {
     "name": "stderr",
     "output_type": "stream",
     "text": [
      "Fetching data:  41%|████      | 820000/2000000 [14:25<12:52, 1528.06record/s]"
     ]
    },
    {
     "name": "stdout",
     "output_type": "stream",
     "text": [
      "Max reinitialize offset reached. Reinitializing fetcher.\n"
     ]
    },
    {
     "name": "stderr",
     "output_type": "stream",
     "text": [
      "Fetching data:  42%|████▏     | 830000/2000000 [14:35<12:05, 1612.46record/s]"
     ]
    },
    {
     "name": "stdout",
     "output_type": "stream",
     "text": [
      "Max reinitialize offset reached. Reinitializing fetcher.\n"
     ]
    },
    {
     "name": "stderr",
     "output_type": "stream",
     "text": [
      "Fetching data:  42%|████▏     | 840000/2000000 [14:46<11:34, 1670.15record/s]"
     ]
    },
    {
     "name": "stdout",
     "output_type": "stream",
     "text": [
      "Max reinitialize offset reached. Reinitializing fetcher.\n"
     ]
    },
    {
     "name": "stderr",
     "output_type": "stream",
     "text": [
      "Fetching data:  42%|████▎     | 850000/2000000 [14:56<11:34, 1656.80record/s]"
     ]
    },
    {
     "name": "stdout",
     "output_type": "stream",
     "text": [
      "Max reinitialize offset reached. Reinitializing fetcher.\n"
     ]
    },
    {
     "name": "stderr",
     "output_type": "stream",
     "text": [
      "Fetching data:  43%|████▎     | 860000/2000000 [15:07<11:50, 1603.89record/s]"
     ]
    },
    {
     "name": "stdout",
     "output_type": "stream",
     "text": [
      "Max reinitialize offset reached. Reinitializing fetcher.\n"
     ]
    },
    {
     "name": "stderr",
     "output_type": "stream",
     "text": [
      "Fetching data:  44%|████▎     | 870000/2000000 [15:18<11:33, 1629.38record/s]"
     ]
    },
    {
     "name": "stdout",
     "output_type": "stream",
     "text": [
      "Max reinitialize offset reached. Reinitializing fetcher.\n"
     ]
    },
    {
     "name": "stderr",
     "output_type": "stream",
     "text": [
      "Fetching data:  44%|████▍     | 880000/2000000 [15:30<13:51, 1346.72record/s]"
     ]
    },
    {
     "name": "stdout",
     "output_type": "stream",
     "text": [
      "Max reinitialize offset reached. Reinitializing fetcher.\n"
     ]
    },
    {
     "name": "stderr",
     "output_type": "stream",
     "text": [
      "Fetching data:  44%|████▍     | 890000/2000000 [15:41<13:50, 1335.92record/s]"
     ]
    },
    {
     "name": "stdout",
     "output_type": "stream",
     "text": [
      "Max reinitialize offset reached. Reinitializing fetcher.\n"
     ]
    },
    {
     "name": "stderr",
     "output_type": "stream",
     "text": [
      "Fetching data:  45%|████▌     | 900000/2000000 [15:53<13:03, 1403.86record/s]"
     ]
    },
    {
     "name": "stdout",
     "output_type": "stream",
     "text": [
      "Max reinitialize offset reached. Reinitializing fetcher.\n"
     ]
    },
    {
     "name": "stderr",
     "output_type": "stream",
     "text": [
      "Fetching data:  46%|████▌     | 910000/2000000 [16:05<13:19, 1363.14record/s]"
     ]
    },
    {
     "name": "stdout",
     "output_type": "stream",
     "text": [
      "Max reinitialize offset reached. Reinitializing fetcher.\n"
     ]
    },
    {
     "name": "stderr",
     "output_type": "stream",
     "text": [
      "Fetching data:  46%|████▌     | 920000/2000000 [16:17<13:28, 1335.85record/s]"
     ]
    },
    {
     "name": "stdout",
     "output_type": "stream",
     "text": [
      "Max reinitialize offset reached. Reinitializing fetcher.\n"
     ]
    },
    {
     "name": "stderr",
     "output_type": "stream",
     "text": [
      "Fetching data:  46%|████▋     | 930000/2000000 [16:30<14:57, 1192.76record/s]"
     ]
    },
    {
     "name": "stdout",
     "output_type": "stream",
     "text": [
      "Max reinitialize offset reached. Reinitializing fetcher.\n"
     ]
    },
    {
     "name": "stderr",
     "output_type": "stream",
     "text": [
      "Fetching data:  47%|████▋     | 940000/2000000 [16:41<12:08, 1455.72record/s]"
     ]
    },
    {
     "name": "stdout",
     "output_type": "stream",
     "text": [
      "Max reinitialize offset reached. Reinitializing fetcher.\n"
     ]
    },
    {
     "name": "stderr",
     "output_type": "stream",
     "text": [
      "Fetching data:  48%|████▊     | 950000/2000000 [16:54<16:19, 1071.82record/s]"
     ]
    },
    {
     "name": "stdout",
     "output_type": "stream",
     "text": [
      "Max reinitialize offset reached. Reinitializing fetcher.\n"
     ]
    },
    {
     "name": "stderr",
     "output_type": "stream",
     "text": [
      "Fetching data:  48%|████▊     | 960000/2000000 [17:07<12:33, 1379.93record/s]"
     ]
    },
    {
     "name": "stdout",
     "output_type": "stream",
     "text": [
      "Max reinitialize offset reached. Reinitializing fetcher.\n"
     ]
    },
    {
     "name": "stderr",
     "output_type": "stream",
     "text": [
      "Fetching data:  48%|████▊     | 970000/2000000 [17:21<17:09, 1000.22record/s]"
     ]
    },
    {
     "name": "stdout",
     "output_type": "stream",
     "text": [
      "Max reinitialize offset reached. Reinitializing fetcher.\n"
     ]
    },
    {
     "name": "stderr",
     "output_type": "stream",
     "text": [
      "Fetching data:  49%|████▉     | 980000/2000000 [17:34<13:14, 1284.10record/s]"
     ]
    },
    {
     "name": "stdout",
     "output_type": "stream",
     "text": [
      "Max reinitialize offset reached. Reinitializing fetcher.\n"
     ]
    },
    {
     "name": "stderr",
     "output_type": "stream",
     "text": [
      "Fetching data:  50%|████▉     | 990000/2000000 [17:50<21:41, 776.31record/s] "
     ]
    },
    {
     "name": "stdout",
     "output_type": "stream",
     "text": [
      "Max reinitialize offset reached. Reinitializing fetcher.\n"
     ]
    },
    {
     "name": "stderr",
     "output_type": "stream",
     "text": [
      "Fetching data:  50%|█████     | 1000000/2000000 [18:10<22:56, 726.31record/s]"
     ]
    },
    {
     "name": "stdout",
     "output_type": "stream",
     "text": [
      "Max reinitialize offset reached. Reinitializing fetcher.\n"
     ]
    },
    {
     "name": "stderr",
     "output_type": "stream",
     "text": [
      "Fetching data:  50%|█████     | 1004000/2000000 [18:19<25:01, 663.32record/s]"
     ]
    },
    {
     "name": "stdout",
     "output_type": "stream",
     "text": [
      "No more data to fetch, attempt 1/5.\n",
      "No more data to fetch, attempt 2/5.\n",
      "No more data to fetch, attempt 3/5.\n",
      "No more data to fetch, attempt 4/5.\n"
     ]
    },
    {
     "name": "stderr",
     "output_type": "stream",
     "text": [
      "Fetching data:  50%|█████     | 1004000/2000000 [18:43<18:34, 893.72record/s]"
     ]
    },
    {
     "name": "stdout",
     "output_type": "stream",
     "text": [
      "No more data to fetch, attempt 5/5.\n",
      "Maximum consecutive no data attempts reached, stopping fetch process.\n",
      "Storage directory 'C:/Users/mike/Data/Public' is ready.\n"
     ]
    },
    {
     "name": "stderr",
     "output_type": "stream",
     "text": [
      "\n"
     ]
    },
    {
     "name": "stdout",
     "output_type": "stream",
     "text": [
      "Data written to 'C:/Users/mike/Data/Public\\LAPD_Crime_Data.json'.\n",
      "Compressing file 'C:/Users/mike/Data/Public\\LAPD_Crime_Data.json' to 'C:/Users/mike/Data/Public\\LAPD_Crime_Data.json.zip'\n",
      "Data compressed to 'C:/Users/mike/Data/Public\\LAPD_Crime_Data.json.zip'.\n",
      "Data fetching and storing process completed.\n"
     ]
    }
   ],
   "source": [
    "from datetime import datetime\n",
    "from dateutil.relativedelta import relativedelta\n",
    "import sys\n",
    "\n",
    "# Append paths to the system path to import custom modules\n",
    "sys.path.append('../../../Common')\n",
    "sys.path.append('../../../Common/Functions')\n",
    "\n",
    "# Import custom functions for fetching data\n",
    "from func_Fetch_Data_v2 import fetch_store_data, JSONDataFetcher\n",
    "\n",
    "# Define the start and end dates for the range\n",
    "start_date = datetime(2020, 1, 1)\n",
    "end_date = datetime(2024, 12, 31)\n",
    "\n",
    "# Convert the dates to ISO format strings\n",
    "start_date_str = start_date.isoformat()\n",
    "end_date_str = end_date.isoformat()\n",
    "\n",
    "# Create the where clause for the query\n",
    "where_clause = f\"date_rptd>='{start_date_str}' AND date_rptd<='{end_date_str}'\"\n",
    "\n",
    "if __name__ == \"__main__\":\n",
    "    # Define the URL for the data source with placeholders for limit, offset, and where clause\n",
    "    url = \"https://data.lacity.org/resource/2nrs-mtv8.json?$limit={}&$offset={}&$where={}\"\n",
    "    \n",
    "    # Set the chunk size for data fetching\n",
    "    chunk_size = 1000\n",
    "    \n",
    "    # Initialize the data fetcher with the URL, chunk size, and where clause\n",
    "    fetcher = JSONDataFetcher(url, chunk_size, where_clause)\n",
    "    \n",
    "    # Define the parameters for data fetching and storage\n",
    "    limit = 2000000\n",
    "    offset = 0\n",
    "    storage_dir = 'C:/Users/mike/Data/Public'\n",
    "    storage_file = 'LAPD_Crime_Data.json_2020-2024'\n",
    "    compress = True\n",
    "    mode = 'w'\n",
    "    pause_duration = 2\n",
    "    max_reinitialize_offset = 10000\n",
    "\n",
    "    # Fetch and store the data using the defined parameters\n",
    "    fetch_store_data(fetcher, limit, offset, storage_dir, storage_file, compress, mode)"
   ]
  }
 ],
 "metadata": {
  "kernelspec": {
   "display_name": "Python 3",
   "language": "python",
   "name": "python3"
  },
  "language_info": {
   "codemirror_mode": {
    "name": "ipython",
    "version": 3
   },
   "file_extension": ".py",
   "mimetype": "text/x-python",
   "name": "python",
   "nbconvert_exporter": "python",
   "pygments_lexer": "ipython3",
   "version": "3.13.1"
  }
 },
 "nbformat": 4,
 "nbformat_minor": 2
}
