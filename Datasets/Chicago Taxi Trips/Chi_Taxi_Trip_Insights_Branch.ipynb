{
 "cells": [
  {
   "cell_type": "markdown",
   "id": "850f7ad7",
   "metadata": {},
   "source": [
    "# Notebook Setup"
   ]
  },
  {
   "cell_type": "markdown",
   "id": "2ef4d9dd",
   "metadata": {},
   "source": [
    "## ✔ Get My BQ Credentials to Access the Dataset"
   ]
  },
  {
   "cell_type": "markdown",
   "id": "8cb22b7a",
   "metadata": {},
   "source": [
    "## ✔ Load Directory Locations"
   ]
  },
  {
   "cell_type": "code",
   "execution_count": 1,
   "id": "7872ec7b",
   "metadata": {},
   "outputs": [
    {
     "name": "stdout",
     "output_type": "stream",
     "text": [
      "Common_Funcs_Dir: /Users/mike/Develop/Projects/Code Notebook/Common/Functions\n",
      "Credentials_Dir: /Users/mike/Develop/Projects/Code Notebook/Credentials\n",
      "Rel_Pickes_Dir: ../.pickles\n",
      "Pub_Data_Dir: '/Users/mike/Data/Public\n",
      "BQ_Service_Key: /Users/mike/Develop/Conf/GCP Service Keys/***\n"
     ]
    }
   ],
   "source": [
    "import json\n",
    "import os\n",
    "\n",
    "# Check if the file exists and load the JSON file into a dictionary\n",
    "file_path = r'C:\\Users\\mike\\Develop\\Projects\\Code Notebook\\Credentials\\locations_conf.json'\n",
    "if os.path.exists(file_path):\n",
    "    with open(file_path, 'r') as f:\n",
    "        locations_data = json.load(f)\n",
    "    for key, value in locations_data.items():\n",
    "        if key == 'BQ_Service_Key':\n",
    "            # Mask the final part of the key for security\n",
    "            value = value.rsplit('/', 1)[0] + '/***'\n",
    "        print(f\"{key}: {value}\")\n",
    "else:\n",
    "    print(f\"File not found: {file_path}\")"
   ]
  },
  {
   "cell_type": "markdown",
   "id": "39ce2053",
   "metadata": {},
   "source": [
    "## ✔ Connect to Google Cloud"
   ]
  },
  {
   "cell_type": "code",
   "execution_count": 2,
   "id": "4f08563d",
   "metadata": {},
   "outputs": [],
   "source": [
    "from google.oauth2 import service_account\n",
    "\n",
    "# Resolve the key path from the locations data\n",
    "key_path = locations_data.get('BQ_Service_Key', 'default_key_path.json')\n",
    "\n",
    "# Create credentials using the key file\n",
    "credentials = service_account.Credentials.from_service_account_file(key_path)"
   ]
  },
  {
   "cell_type": "markdown",
   "id": "5831505a",
   "metadata": {},
   "source": [
    "## ✔ Notebook Functions"
   ]
  },
  {
   "cell_type": "markdown",
   "id": "6608abdb",
   "metadata": {},
   "source": [
    "### Text Reformattor"
   ]
  },
  {
   "cell_type": "code",
   "execution_count": 3,
   "id": "39f1d5e4",
   "metadata": {},
   "outputs": [],
   "source": [
    "def reformat_text(data: str) -> str:\n",
    "    \"\"\"\n",
    "    Reformat the input text by performing the following:\n",
    "    - Replace standalone hyphens with bullet points and add HTML <br> tags for new lines.\n",
    "    - Preserve hyphens in hyphenated words (e.g., \"flat-rate pricing\").\n",
    "    - Add a break after each sentence ends, retaining the period, but not splitting on floats.\n",
    "    - Handle cases with multiple consecutive periods.\n",
    "    - Remove leading white space prior to each new line.\n",
    "    - Replace multiple spaces with a single space.\n",
    "    - Add indentation to each bullet point.\n",
    "\n",
    "    Args:\n",
    "        data (str): The input string to be reformatted.\n",
    "\n",
    "    Returns:\n",
    "        str: The reformatted string.\n",
    "    \"\"\"\n",
    "    import re\n",
    "\n",
    "    # Replace standalone hyphens with bullet points and add HTML <br> tags for new lines\n",
    "    data = re.sub(r'(?<!\\w)-(?=\\s)', '•', data)  # Replace standalone hyphens\n",
    "    data = re.sub(r'•', '<br>•', data)\n",
    "\n",
    "    # Add a break after each sentence ends, retaining the period, but not splitting on floats\n",
    "    data = re.sub(r'(?<!\\d)\\.(?!\\d)', '.<br>', data)\n",
    "\n",
    "    # Handle cases with multiple consecutive periods (e.g., \"...\") by replacing them with a single period followed by a break\n",
    "    data = re.sub(r'\\.{2,}', '.<br>', data)\n",
    "\n",
    "    # Remove leading white space prior to each new line\n",
    "    data = re.sub(r'<br>\\s+', '<br>', data)\n",
    "\n",
    "    # Replace multiple spaces with a single space\n",
    "    data = re.sub(r'\\s{2,}', ' ', data)\n",
    "\n",
    "    # Add indentation to each bullet point\n",
    "    data = re.sub(r'<br>•', '<br>&nbsp;&nbsp;&nbsp;&nbsp;•', data)\n",
    "\n",
    "    return data\n"
   ]
  },
  {
   "cell_type": "markdown",
   "id": "e9eb575c",
   "metadata": {},
   "source": [
    "# DATA OFFICE TECHNICAL SKILLS ASSESSMENT\n",
    "This test is designed to give us a better understanding of how our candidates leverage their technical skills to answer business questions and communicate findings.\n",
    "To complete the assignment you will have to work with the following Big Query public data set:\n",
    "Chicago Taxi Trips dataset:\n",
    "`bigquery-public-data.chicago_taxi_trips.taxi_trips`"
   ]
  },
  {
   "cell_type": "markdown",
   "id": "819f4c26",
   "metadata": {},
   "source": [
    "# PART I"
   ]
  },
  {
   "cell_type": "markdown",
   "id": "8d6e51ee",
   "metadata": {},
   "source": [
    "## ✔ Please submit your SQL code (follow [URL](https://github.com/mcancell/Py-ETL-Notebook/blob/main/Datasets/Chicago%20Taxi%20Trips/Chi_Taxi_Trip_Insights_Branch_Part_I.bqsql)):\n",
    "showing how you approached the data to be able to answer the following two questions. Note that a query that returns a lot of data and needs to be exported/manipulated in Excel is not preferred. A query that just returns the answer requested and no other data is preferred.\n",
    "\n",
    "[See Code Here](https://github.com/mcancell/Py-ETL-Notebook/blob/main/Datasets/Chicago%20Taxi%20Trips/Chi_Taxi_Trip_Insights_Branch_Part_I.bqsql)"
   ]
  },
  {
   "cell_type": "markdown",
   "id": "5ce28298",
   "metadata": {},
   "source": [
    "## ✔ Load & Show Query"
   ]
  },
  {
   "cell_type": "code",
   "execution_count": 4,
   "id": "ba9311b4",
   "metadata": {},
   "outputs": [
    {
     "name": "stdout",
     "output_type": "stream",
     "text": [
      "SQL code loaded successfully.\n"
     ]
    }
   ],
   "source": [
    "# Define the path to the SQL file\n",
    "# Dynamically construct the absolute path to the SQL file\n",
    "sql_file_path = os.path.abspath(os.path.join('C:\\\\Users\\\\mike\\\\Develop\\\\Projects\\\\Code Notebook\\\\Datasets\\\\Chicago Taxi Trips', 'Chi_Taxi_Trip_Insights_Branch_Part_I.bqsql'))\n",
    "\n",
    "# Check if the file exists and load the SQL code into a variable\n",
    "if os.path.exists(sql_file_path):\n",
    "    with open(sql_file_path, 'r') as sql_file:\n",
    "        sql_code = sql_file.read()\n",
    "    print(\"SQL code loaded successfully.\")\n",
    "else:\n",
    "    print(f\"File not found: {sql_file_path}\")"
   ]
  },
  {
   "cell_type": "code",
   "execution_count": 5,
   "id": "e5a097f5",
   "metadata": {},
   "outputs": [
    {
     "data": {
      "text/html": [
       "<div class=\"highlight\" style=\"background: #ffffff\"><pre style=\"line-height: 125%;\"><span></span><span style=\"color: #888888; font-style: italic\">/* </span>\n",
       "<span style=\"color: #888888; font-style: italic\">    AI Generated doc:</span>\n",
       "<span style=\"color: #888888; font-style: italic\">    This query analyzes Chicago Taxi Trips data to identify:</span>\n",
       "<span style=\"color: #888888; font-style: italic\">    1. The largest month-over-month increases in trips for each taxi company.</span>\n",
       "<span style=\"color: #888888; font-style: italic\">    2. The largest month-over-month decreases in fare per mile for each taxi company.</span>\n",
       "<span style=\"color: #888888; font-style: italic\">    3. The overall company averages (`Metric_Gross_Avg`) for trips and fare per mile.</span>\n",
       "<span style=\"color: #888888; font-style: italic\">    4. The difference from the average (`Metric_Diff_From_Avg`) and percentage difference from the average (`Percent_Diff_From_Avg`).</span>\n",
       "\n",
       "<span style=\"color: #888888; font-style: italic\">    Key Features:</span>\n",
       "<span style=\"color: #888888; font-style: italic\">    - Standardizes company names to handle variations (e.g., punctuation, case).</span>\n",
       "<span style=\"color: #888888; font-style: italic\">    - Calculates month-over-month metrics (trip count and fare per mile).</span>\n",
       "<span style=\"color: #888888; font-style: italic\">    - Includes overall company averages for trips and fare per mile.</span>\n",
       "<span style=\"color: #888888; font-style: italic\">    - Includes metrics for difference from average and percentage difference from average.</span>\n",
       "<span style=\"color: #888888; font-style: italic\">    - Ranks companies based on the largest increases and decreases.</span>\n",
       "<span style=\"color: #888888; font-style: italic\">    - Extracts insights for the top 3 companies for each metric.</span>\n",
       "\n",
       "<span style=\"color: #888888; font-style: italic\">    Filters Applied:</span>\n",
       "<span style=\"color: #888888; font-style: italic\">    - Exclude trips with no company information (`company IS NOT NULL`).</span>\n",
       "<span style=\"color: #888888; font-style: italic\">    - Exclude trips with zero or negative miles for fare per mile calculations (`trip_miles &gt; 0`).</span>\n",
       "<span style=\"color: #888888; font-style: italic\">    - Exclude months with very low prior metrics to avoid noise:</span>\n",
       "<span style=\"color: #888888; font-style: italic\">        - `Mon_Prior_Metric_Val &gt; 100` for trip increases.</span>\n",
       "<span style=\"color: #888888; font-style: italic\">        - `Mon_Prior_Metric_Val &gt; 0.1` for fare per mile decreases.</span>\n",
       "<span style=\"color: #888888; font-style: italic\">    - Cap extreme percentage changes:</span>\n",
       "<span style=\"color: #888888; font-style: italic\">        - `SAFE_DIVIDE(metric_delta, Mon_Prior_Metric_Val) &lt;= 10` for trip increases.</span>\n",
       "<span style=\"color: #888888; font-style: italic\">        - `SAFE_DIVIDE(metric_delta, Mon_Prior_Metric_Val) &gt;= -10` for fare per mile decreases.</span>\n",
       "\n",
       "<span style=\"color: #888888; font-style: italic\">    Resulting Output Columns:</span>\n",
       "<span style=\"color: #888888; font-style: italic\">    - `Metric_Description`: Describes the metric being analyzed (e.g., &quot;Largest Month-Over-Month Increase in Trips&quot;).</span>\n",
       "<span style=\"color: #888888; font-style: italic\">    - `standardized_company`: Standardized company name (lowercase, no punctuation).</span>\n",
       "<span style=\"color: #888888; font-style: italic\">    - `Taxi_Company`: Original company name.</span>\n",
       "<span style=\"color: #888888; font-style: italic\">    - `Trip_Month`: Month of the metric in `YYYY-MM` format.</span>\n",
       "<span style=\"color: #888888; font-style: italic\">    - `Mon_Metric_Val`: Current month&#39;s metric value (trip count or fare per mile).</span>\n",
       "<span style=\"color: #888888; font-style: italic\">    - `Metric_Delta`: Month-over-month change in the metric.</span>\n",
       "<span style=\"color: #888888; font-style: italic\">    - `Mon_Prior_Metric_Val`: Previous month&#39;s metric value.</span>\n",
       "<span style=\"color: #888888; font-style: italic\">    - `Metric_Gross_Avg`: Overall company average for trips or fare per mile.</span>\n",
       "<span style=\"color: #888888; font-style: italic\">    - `Metric_Diff_From_Avg`: Difference from the average.</span>\n",
       "<span style=\"color: #888888; font-style: italic\">    - `Percent_Diff_From_Avg`: Percentage difference from the average.</span>\n",
       "<span style=\"color: #888888; font-style: italic\">    - `Metric_Mon_Pct_Chg`: Numeric percentage change from the prior month.</span>\n",
       "<span style=\"color: #888888; font-style: italic\">    - `Metric_Mon_Pct_Chg_Str`: String representation of the percentage change (e.g., &quot;123.4%&quot;).</span>\n",
       "<span style=\"color: #888888; font-style: italic\">    - `Metric_Insight`: Textual insight explaining the metric&#39;s significance.</span>\n",
       "<span style=\"color: #888888; font-style: italic\">*/</span>\n",
       "\n",
       "<span style=\"color: #888888; font-style: italic\">-- CREATE OR REPLACE TABLE `mikecancell-development.Chicago_Taxi_Trips.Monthly_Insights_Part_I` AS</span>\n",
       "<span style=\"color: #005cc5; font-weight: bold\">WITH</span>\n",
       "    <span style=\"color: #888888; font-style: italic\">-- Standardize Company Names</span>\n",
       "    <span style=\"color: #22863a; font-weight: bold\">Trip_Increases</span> <span style=\"color: #005cc5; font-weight: bold\">AS</span> <span style=\"color: #24292e; font-weight: bold\">(</span>\n",
       "        <span style=\"color: #005cc5; font-weight: bold\">SELECT</span>\n",
       "            <span style=\"color: #22863a; font-weight: bold\">REGEXP_REPLACE</span><span style=\"color: #24292e; font-weight: bold\">(</span><span style=\"color: #005cc5; font-weight: bold\">LOWER</span><span style=\"color: #24292e; font-weight: bold\">(</span><span style=\"color: #005cc5; font-weight: bold\">TRIM</span><span style=\"color: #24292e; font-weight: bold\">(</span><span style=\"color: #22863a; font-weight: bold\">company</span><span style=\"color: #24292e; font-weight: bold\">)),</span> <span style=\"color: #22863a; font-weight: bold\">r</span><span style=\"color: #d73a49; font-style: italic\">&#39;[^a-z0-9\\s]&#39;</span><span style=\"color: #24292e; font-weight: bold\">,</span> <span style=\"color: #d73a49; font-style: italic\">&#39;&#39;</span><span style=\"color: #24292e; font-weight: bold\">)</span> <span style=\"color: #005cc5; font-weight: bold\">AS</span> <span style=\"color: #22863a; font-weight: bold\">standardized_company</span><span style=\"color: #24292e; font-weight: bold\">,</span> <span style=\"color: #888888; font-style: italic\">-- Standardize company names</span>\n",
       "            <span style=\"color: #d73a49; font-style: italic\">&#39;I.a-Largest Month-Over-Month Increase in Trips&#39;</span> <span style=\"color: #005cc5; font-weight: bold\">AS</span> <span style=\"color: #22863a; font-weight: bold\">Metric_Description</span><span style=\"color: #24292e; font-weight: bold\">,</span>\n",
       "            <span style=\"color: #22863a; font-weight: bold\">company</span><span style=\"color: #24292e; font-weight: bold\">,</span>\n",
       "            <span style=\"color: #22863a; font-weight: bold\">FORMAT_TIMESTAMP</span><span style=\"color: #24292e; font-weight: bold\">(</span><span style=\"color: #d73a49; font-style: italic\">&#39;%Y-%m&#39;</span><span style=\"color: #24292e; font-weight: bold\">,</span> <span style=\"color: #22863a; font-weight: bold\">trip_month</span><span style=\"color: #24292e; font-weight: bold\">)</span> <span style=\"color: #005cc5; font-weight: bold\">AS</span> <span style=\"color: #22863a; font-weight: bold\">trip_month</span><span style=\"color: #24292e; font-weight: bold\">,</span> <span style=\"color: #888888; font-style: italic\">-- Format trip month as YYYY-MM</span>\n",
       "            <span style=\"color: #22863a; font-weight: bold\">metric</span><span style=\"color: #24292e; font-weight: bold\">,</span>\n",
       "            <span style=\"color: #22863a; font-weight: bold\">LAG</span><span style=\"color: #24292e; font-weight: bold\">(</span><span style=\"color: #22863a; font-weight: bold\">metric</span><span style=\"color: #24292e; font-weight: bold\">)</span> <span style=\"color: #22863a; font-weight: bold\">OVER</span> <span style=\"color: #24292e; font-weight: bold\">(</span><span style=\"color: #22863a; font-weight: bold\">PARTITION</span> <span style=\"color: #005cc5; font-weight: bold\">BY</span> <span style=\"color: #22863a; font-weight: bold\">REGEXP_REPLACE</span><span style=\"color: #24292e; font-weight: bold\">(</span><span style=\"color: #005cc5; font-weight: bold\">LOWER</span><span style=\"color: #24292e; font-weight: bold\">(</span><span style=\"color: #005cc5; font-weight: bold\">TRIM</span><span style=\"color: #24292e; font-weight: bold\">(</span><span style=\"color: #22863a; font-weight: bold\">company</span><span style=\"color: #24292e; font-weight: bold\">)),</span> <span style=\"color: #22863a; font-weight: bold\">r</span><span style=\"color: #d73a49; font-style: italic\">&#39;[^a-z0-9\\s]&#39;</span><span style=\"color: #24292e; font-weight: bold\">,</span> <span style=\"color: #d73a49; font-style: italic\">&#39;&#39;</span><span style=\"color: #24292e; font-weight: bold\">)</span> <span style=\"color: #005cc5; font-weight: bold\">ORDER</span> <span style=\"color: #005cc5; font-weight: bold\">BY</span> <span style=\"color: #22863a; font-weight: bold\">trip_month</span><span style=\"color: #24292e; font-weight: bold\">)</span> <span style=\"color: #005cc5; font-weight: bold\">AS</span> <span style=\"color: #22863a; font-weight: bold\">Mon_Prior_Metric_Val</span><span style=\"color: #24292e; font-weight: bold\">,</span> <span style=\"color: #888888; font-style: italic\">-- Previous month&#39;s metric</span>\n",
       "            <span style=\"color: #22863a; font-weight: bold\">metric</span> <span style=\"color: #e36209; font-weight: bold\">-</span> <span style=\"color: #22863a; font-weight: bold\">LAG</span><span style=\"color: #24292e; font-weight: bold\">(</span><span style=\"color: #22863a; font-weight: bold\">metric</span><span style=\"color: #24292e; font-weight: bold\">)</span> <span style=\"color: #22863a; font-weight: bold\">OVER</span> <span style=\"color: #24292e; font-weight: bold\">(</span><span style=\"color: #22863a; font-weight: bold\">PARTITION</span> <span style=\"color: #005cc5; font-weight: bold\">BY</span> <span style=\"color: #22863a; font-weight: bold\">REGEXP_REPLACE</span><span style=\"color: #24292e; font-weight: bold\">(</span><span style=\"color: #005cc5; font-weight: bold\">LOWER</span><span style=\"color: #24292e; font-weight: bold\">(</span><span style=\"color: #005cc5; font-weight: bold\">TRIM</span><span style=\"color: #24292e; font-weight: bold\">(</span><span style=\"color: #22863a; font-weight: bold\">company</span><span style=\"color: #24292e; font-weight: bold\">)),</span> <span style=\"color: #22863a; font-weight: bold\">r</span><span style=\"color: #d73a49; font-style: italic\">&#39;[^a-z0-9\\s]&#39;</span><span style=\"color: #24292e; font-weight: bold\">,</span> <span style=\"color: #d73a49; font-style: italic\">&#39;&#39;</span><span style=\"color: #24292e; font-weight: bold\">)</span> <span style=\"color: #005cc5; font-weight: bold\">ORDER</span> <span style=\"color: #005cc5; font-weight: bold\">BY</span> <span style=\"color: #22863a; font-weight: bold\">trip_month</span><span style=\"color: #24292e; font-weight: bold\">)</span> <span style=\"color: #005cc5; font-weight: bold\">AS</span> <span style=\"color: #22863a; font-weight: bold\">metric_delta</span><span style=\"color: #24292e; font-weight: bold\">,</span> <span style=\"color: #888888; font-style: italic\">-- Month-over-month change</span>\n",
       "            <span style=\"color: #005cc5; font-weight: bold\">AVG</span><span style=\"color: #24292e; font-weight: bold\">(</span><span style=\"color: #22863a; font-weight: bold\">metric</span><span style=\"color: #24292e; font-weight: bold\">)</span> <span style=\"color: #22863a; font-weight: bold\">OVER</span> <span style=\"color: #24292e; font-weight: bold\">(</span><span style=\"color: #22863a; font-weight: bold\">PARTITION</span> <span style=\"color: #005cc5; font-weight: bold\">BY</span> <span style=\"color: #22863a; font-weight: bold\">REGEXP_REPLACE</span><span style=\"color: #24292e; font-weight: bold\">(</span><span style=\"color: #005cc5; font-weight: bold\">LOWER</span><span style=\"color: #24292e; font-weight: bold\">(</span><span style=\"color: #005cc5; font-weight: bold\">TRIM</span><span style=\"color: #24292e; font-weight: bold\">(</span><span style=\"color: #22863a; font-weight: bold\">company</span><span style=\"color: #24292e; font-weight: bold\">)),</span> <span style=\"color: #22863a; font-weight: bold\">r</span><span style=\"color: #d73a49; font-style: italic\">&#39;[^a-z0-9\\s]&#39;</span><span style=\"color: #24292e; font-weight: bold\">,</span> <span style=\"color: #d73a49; font-style: italic\">&#39;&#39;</span><span style=\"color: #24292e; font-weight: bold\">))</span> <span style=\"color: #005cc5; font-weight: bold\">AS</span> <span style=\"color: #22863a; font-weight: bold\">Metric_Gross_Avg</span><span style=\"color: #24292e; font-weight: bold\">,</span> <span style=\"color: #888888; font-style: italic\">-- Overall company average for trips</span>\n",
       "            <span style=\"color: #22863a; font-weight: bold\">metric</span> <span style=\"color: #e36209; font-weight: bold\">-</span> <span style=\"color: #005cc5; font-weight: bold\">AVG</span><span style=\"color: #24292e; font-weight: bold\">(</span><span style=\"color: #22863a; font-weight: bold\">metric</span><span style=\"color: #24292e; font-weight: bold\">)</span> <span style=\"color: #22863a; font-weight: bold\">OVER</span> <span style=\"color: #24292e; font-weight: bold\">(</span><span style=\"color: #22863a; font-weight: bold\">PARTITION</span> <span style=\"color: #005cc5; font-weight: bold\">BY</span> <span style=\"color: #22863a; font-weight: bold\">REGEXP_REPLACE</span><span style=\"color: #24292e; font-weight: bold\">(</span><span style=\"color: #005cc5; font-weight: bold\">LOWER</span><span style=\"color: #24292e; font-weight: bold\">(</span><span style=\"color: #005cc5; font-weight: bold\">TRIM</span><span style=\"color: #24292e; font-weight: bold\">(</span><span style=\"color: #22863a; font-weight: bold\">company</span><span style=\"color: #24292e; font-weight: bold\">)),</span> <span style=\"color: #22863a; font-weight: bold\">r</span><span style=\"color: #d73a49; font-style: italic\">&#39;[^a-z0-9\\s]&#39;</span><span style=\"color: #24292e; font-weight: bold\">,</span> <span style=\"color: #d73a49; font-style: italic\">&#39;&#39;</span><span style=\"color: #24292e; font-weight: bold\">))</span> <span style=\"color: #005cc5; font-weight: bold\">AS</span> <span style=\"color: #22863a; font-weight: bold\">Metric_Diff_From_Avg</span><span style=\"color: #24292e; font-weight: bold\">,</span> <span style=\"color: #888888; font-style: italic\">-- Difference from average</span>\n",
       "            <span style=\"color: #22863a; font-weight: bold\">SAFE_DIVIDE</span><span style=\"color: #24292e; font-weight: bold\">(</span><span style=\"color: #22863a; font-weight: bold\">metric</span> <span style=\"color: #e36209; font-weight: bold\">-</span> <span style=\"color: #005cc5; font-weight: bold\">AVG</span><span style=\"color: #24292e; font-weight: bold\">(</span><span style=\"color: #22863a; font-weight: bold\">metric</span><span style=\"color: #24292e; font-weight: bold\">)</span> <span style=\"color: #22863a; font-weight: bold\">OVER</span> <span style=\"color: #24292e; font-weight: bold\">(</span><span style=\"color: #22863a; font-weight: bold\">PARTITION</span> <span style=\"color: #005cc5; font-weight: bold\">BY</span> <span style=\"color: #22863a; font-weight: bold\">REGEXP_REPLACE</span><span style=\"color: #24292e; font-weight: bold\">(</span><span style=\"color: #005cc5; font-weight: bold\">LOWER</span><span style=\"color: #24292e; font-weight: bold\">(</span><span style=\"color: #005cc5; font-weight: bold\">TRIM</span><span style=\"color: #24292e; font-weight: bold\">(</span><span style=\"color: #22863a; font-weight: bold\">company</span><span style=\"color: #24292e; font-weight: bold\">)),</span> <span style=\"color: #22863a; font-weight: bold\">r</span><span style=\"color: #d73a49; font-style: italic\">&#39;[^a-z0-9\\s]&#39;</span><span style=\"color: #24292e; font-weight: bold\">,</span> <span style=\"color: #d73a49; font-style: italic\">&#39;&#39;</span><span style=\"color: #24292e; font-weight: bold\">)),</span> <span style=\"color: #005cc5; font-weight: bold\">AVG</span><span style=\"color: #24292e; font-weight: bold\">(</span><span style=\"color: #22863a; font-weight: bold\">metric</span><span style=\"color: #24292e; font-weight: bold\">)</span> <span style=\"color: #22863a; font-weight: bold\">OVER</span> <span style=\"color: #24292e; font-weight: bold\">(</span><span style=\"color: #22863a; font-weight: bold\">PARTITION</span> <span style=\"color: #005cc5; font-weight: bold\">BY</span> <span style=\"color: #22863a; font-weight: bold\">REGEXP_REPLACE</span><span style=\"color: #24292e; font-weight: bold\">(</span><span style=\"color: #005cc5; font-weight: bold\">LOWER</span><span style=\"color: #24292e; font-weight: bold\">(</span><span style=\"color: #005cc5; font-weight: bold\">TRIM</span><span style=\"color: #24292e; font-weight: bold\">(</span><span style=\"color: #22863a; font-weight: bold\">company</span><span style=\"color: #24292e; font-weight: bold\">)),</span> <span style=\"color: #22863a; font-weight: bold\">r</span><span style=\"color: #d73a49; font-style: italic\">&#39;[^a-z0-9\\s]&#39;</span><span style=\"color: #24292e; font-weight: bold\">,</span> <span style=\"color: #d73a49; font-style: italic\">&#39;&#39;</span><span style=\"color: #24292e; font-weight: bold\">)))</span> <span style=\"color: #e36209; font-weight: bold\">*</span> <span style=\"color: #6f42c1; font-weight: bold\">100</span> <span style=\"color: #005cc5; font-weight: bold\">AS</span> <span style=\"color: #22863a; font-weight: bold\">Percent_Diff_From_Avg</span> <span style=\"color: #888888; font-style: italic\">-- Percentage difference from average</span>\n",
       "        <span style=\"color: #005cc5; font-weight: bold\">FROM</span> <span style=\"color: #24292e; font-weight: bold\">(</span>\n",
       "            <span style=\"color: #005cc5; font-weight: bold\">SELECT</span>\n",
       "                <span style=\"color: #22863a; font-weight: bold\">company</span><span style=\"color: #24292e; font-weight: bold\">,</span>\n",
       "                <span style=\"color: #22863a; font-weight: bold\">DATE_TRUNC</span><span style=\"color: #24292e; font-weight: bold\">(</span><span style=\"color: #22863a; font-weight: bold\">trip_start_timestamp</span><span style=\"color: #24292e; font-weight: bold\">,</span> <span style=\"color: #005cc5; font-weight: bold\">MONTH</span><span style=\"color: #24292e; font-weight: bold\">)</span> <span style=\"color: #005cc5; font-weight: bold\">AS</span> <span style=\"color: #22863a; font-weight: bold\">trip_month</span><span style=\"color: #24292e; font-weight: bold\">,</span> <span style=\"color: #888888; font-style: italic\">-- Extract month from trip start timestamp</span>\n",
       "                <span style=\"color: #005cc5; font-weight: bold\">COUNT</span><span style=\"color: #24292e; font-weight: bold\">(</span><span style=\"color: #e36209; font-weight: bold\">*</span><span style=\"color: #24292e; font-weight: bold\">)</span> <span style=\"color: #005cc5; font-weight: bold\">AS</span> <span style=\"color: #22863a; font-weight: bold\">metric</span> <span style=\"color: #888888; font-style: italic\">-- Count trips</span>\n",
       "            <span style=\"color: #005cc5; font-weight: bold\">FROM</span>\n",
       "                <span style=\"color: #e36209; font-weight: bold\">`</span><span style=\"color: #22863a; font-weight: bold\">bigquery</span><span style=\"color: #e36209; font-weight: bold\">-</span><span style=\"color: #005cc5; font-weight: bold\">public</span><span style=\"color: #e36209; font-weight: bold\">-</span><span style=\"color: #005cc5; font-weight: bold\">data</span><span style=\"color: #24292e; font-weight: bold\">.</span><span style=\"color: #22863a; font-weight: bold\">chicago_taxi_trips</span><span style=\"color: #24292e; font-weight: bold\">.</span><span style=\"color: #22863a; font-weight: bold\">taxi_trips</span><span style=\"color: #e36209; font-weight: bold\">`</span>\n",
       "            <span style=\"color: #005cc5; font-weight: bold\">WHERE</span> \n",
       "                <span style=\"color: #22863a; font-weight: bold\">company</span> <span style=\"color: #005cc5; font-weight: bold\">IS</span> <span style=\"color: #005cc5; font-weight: bold\">NOT</span> <span style=\"color: #005cc5; font-weight: bold\">NULL</span> <span style=\"color: #888888; font-style: italic\">-- Exclude trips with no company information</span>\n",
       "            <span style=\"color: #005cc5; font-weight: bold\">GROUP</span> <span style=\"color: #005cc5; font-weight: bold\">BY</span>\n",
       "                <span style=\"color: #22863a; font-weight: bold\">company</span><span style=\"color: #24292e; font-weight: bold\">,</span> \n",
       "                <span style=\"color: #22863a; font-weight: bold\">DATE_TRUNC</span><span style=\"color: #24292e; font-weight: bold\">(</span><span style=\"color: #22863a; font-weight: bold\">trip_start_timestamp</span><span style=\"color: #24292e; font-weight: bold\">,</span> <span style=\"color: #005cc5; font-weight: bold\">MONTH</span><span style=\"color: #24292e; font-weight: bold\">)</span>\n",
       "        <span style=\"color: #24292e; font-weight: bold\">)</span> <span style=\"color: #22863a; font-weight: bold\">aggregated_data</span>\n",
       "    <span style=\"color: #24292e; font-weight: bold\">),</span>\n",
       "    \n",
       "    <span style=\"color: #22863a; font-weight: bold\">Fare_Decreases</span> <span style=\"color: #005cc5; font-weight: bold\">AS</span> <span style=\"color: #24292e; font-weight: bold\">(</span>\n",
       "        <span style=\"color: #005cc5; font-weight: bold\">SELECT</span>\n",
       "            <span style=\"color: #22863a; font-weight: bold\">REGEXP_REPLACE</span><span style=\"color: #24292e; font-weight: bold\">(</span><span style=\"color: #005cc5; font-weight: bold\">LOWER</span><span style=\"color: #24292e; font-weight: bold\">(</span><span style=\"color: #005cc5; font-weight: bold\">TRIM</span><span style=\"color: #24292e; font-weight: bold\">(</span><span style=\"color: #22863a; font-weight: bold\">company</span><span style=\"color: #24292e; font-weight: bold\">)),</span> <span style=\"color: #22863a; font-weight: bold\">r</span><span style=\"color: #d73a49; font-style: italic\">&#39;[^a-z0-9\\s]&#39;</span><span style=\"color: #24292e; font-weight: bold\">,</span> <span style=\"color: #d73a49; font-style: italic\">&#39;&#39;</span><span style=\"color: #24292e; font-weight: bold\">)</span> <span style=\"color: #005cc5; font-weight: bold\">AS</span> <span style=\"color: #22863a; font-weight: bold\">standardized_company</span><span style=\"color: #24292e; font-weight: bold\">,</span> <span style=\"color: #888888; font-style: italic\">-- Standardize company names</span>\n",
       "            <span style=\"color: #d73a49; font-style: italic\">&#39;I.b-Largest Month-Over-Month Decrease in Fare Per Mile&#39;</span> <span style=\"color: #005cc5; font-weight: bold\">AS</span> <span style=\"color: #22863a; font-weight: bold\">Metric_Description</span><span style=\"color: #24292e; font-weight: bold\">,</span>\n",
       "            <span style=\"color: #22863a; font-weight: bold\">company</span><span style=\"color: #24292e; font-weight: bold\">,</span>\n",
       "            <span style=\"color: #22863a; font-weight: bold\">FORMAT_TIMESTAMP</span><span style=\"color: #24292e; font-weight: bold\">(</span><span style=\"color: #d73a49; font-style: italic\">&#39;%Y-%m&#39;</span><span style=\"color: #24292e; font-weight: bold\">,</span> <span style=\"color: #22863a; font-weight: bold\">trip_month</span><span style=\"color: #24292e; font-weight: bold\">)</span> <span style=\"color: #005cc5; font-weight: bold\">AS</span> <span style=\"color: #22863a; font-weight: bold\">trip_month</span><span style=\"color: #24292e; font-weight: bold\">,</span> <span style=\"color: #888888; font-style: italic\">-- Format trip month as YYYY-MM</span>\n",
       "            <span style=\"color: #22863a; font-weight: bold\">metric</span><span style=\"color: #24292e; font-weight: bold\">,</span>\n",
       "            <span style=\"color: #22863a; font-weight: bold\">LAG</span><span style=\"color: #24292e; font-weight: bold\">(</span><span style=\"color: #22863a; font-weight: bold\">metric</span><span style=\"color: #24292e; font-weight: bold\">)</span> <span style=\"color: #22863a; font-weight: bold\">OVER</span> <span style=\"color: #24292e; font-weight: bold\">(</span><span style=\"color: #22863a; font-weight: bold\">PARTITION</span> <span style=\"color: #005cc5; font-weight: bold\">BY</span> <span style=\"color: #22863a; font-weight: bold\">REGEXP_REPLACE</span><span style=\"color: #24292e; font-weight: bold\">(</span><span style=\"color: #005cc5; font-weight: bold\">LOWER</span><span style=\"color: #24292e; font-weight: bold\">(</span><span style=\"color: #005cc5; font-weight: bold\">TRIM</span><span style=\"color: #24292e; font-weight: bold\">(</span><span style=\"color: #22863a; font-weight: bold\">company</span><span style=\"color: #24292e; font-weight: bold\">)),</span> <span style=\"color: #22863a; font-weight: bold\">r</span><span style=\"color: #d73a49; font-style: italic\">&#39;[^a-z0-9\\s]&#39;</span><span style=\"color: #24292e; font-weight: bold\">,</span> <span style=\"color: #d73a49; font-style: italic\">&#39;&#39;</span><span style=\"color: #24292e; font-weight: bold\">)</span> <span style=\"color: #005cc5; font-weight: bold\">ORDER</span> <span style=\"color: #005cc5; font-weight: bold\">BY</span> <span style=\"color: #22863a; font-weight: bold\">trip_month</span><span style=\"color: #24292e; font-weight: bold\">)</span> <span style=\"color: #005cc5; font-weight: bold\">AS</span> <span style=\"color: #22863a; font-weight: bold\">Mon_Prior_Metric_Val</span><span style=\"color: #24292e; font-weight: bold\">,</span> <span style=\"color: #888888; font-style: italic\">-- Previous month&#39;s metric</span>\n",
       "            <span style=\"color: #22863a; font-weight: bold\">metric</span> <span style=\"color: #e36209; font-weight: bold\">-</span> <span style=\"color: #22863a; font-weight: bold\">LAG</span><span style=\"color: #24292e; font-weight: bold\">(</span><span style=\"color: #22863a; font-weight: bold\">metric</span><span style=\"color: #24292e; font-weight: bold\">)</span> <span style=\"color: #22863a; font-weight: bold\">OVER</span> <span style=\"color: #24292e; font-weight: bold\">(</span><span style=\"color: #22863a; font-weight: bold\">PARTITION</span> <span style=\"color: #005cc5; font-weight: bold\">BY</span> <span style=\"color: #22863a; font-weight: bold\">REGEXP_REPLACE</span><span style=\"color: #24292e; font-weight: bold\">(</span><span style=\"color: #005cc5; font-weight: bold\">LOWER</span><span style=\"color: #24292e; font-weight: bold\">(</span><span style=\"color: #005cc5; font-weight: bold\">TRIM</span><span style=\"color: #24292e; font-weight: bold\">(</span><span style=\"color: #22863a; font-weight: bold\">company</span><span style=\"color: #24292e; font-weight: bold\">)),</span> <span style=\"color: #22863a; font-weight: bold\">r</span><span style=\"color: #d73a49; font-style: italic\">&#39;[^a-z0-9\\s]&#39;</span><span style=\"color: #24292e; font-weight: bold\">,</span> <span style=\"color: #d73a49; font-style: italic\">&#39;&#39;</span><span style=\"color: #24292e; font-weight: bold\">)</span> <span style=\"color: #005cc5; font-weight: bold\">ORDER</span> <span style=\"color: #005cc5; font-weight: bold\">BY</span> <span style=\"color: #22863a; font-weight: bold\">trip_month</span><span style=\"color: #24292e; font-weight: bold\">)</span> <span style=\"color: #005cc5; font-weight: bold\">AS</span> <span style=\"color: #22863a; font-weight: bold\">metric_delta</span><span style=\"color: #24292e; font-weight: bold\">,</span> <span style=\"color: #888888; font-style: italic\">-- Month-over-month change</span>\n",
       "            <span style=\"color: #005cc5; font-weight: bold\">AVG</span><span style=\"color: #24292e; font-weight: bold\">(</span><span style=\"color: #22863a; font-weight: bold\">metric</span><span style=\"color: #24292e; font-weight: bold\">)</span> <span style=\"color: #22863a; font-weight: bold\">OVER</span> <span style=\"color: #24292e; font-weight: bold\">(</span><span style=\"color: #22863a; font-weight: bold\">PARTITION</span> <span style=\"color: #005cc5; font-weight: bold\">BY</span> <span style=\"color: #22863a; font-weight: bold\">REGEXP_REPLACE</span><span style=\"color: #24292e; font-weight: bold\">(</span><span style=\"color: #005cc5; font-weight: bold\">LOWER</span><span style=\"color: #24292e; font-weight: bold\">(</span><span style=\"color: #005cc5; font-weight: bold\">TRIM</span><span style=\"color: #24292e; font-weight: bold\">(</span><span style=\"color: #22863a; font-weight: bold\">company</span><span style=\"color: #24292e; font-weight: bold\">)),</span> <span style=\"color: #22863a; font-weight: bold\">r</span><span style=\"color: #d73a49; font-style: italic\">&#39;[^a-z0-9\\s]&#39;</span><span style=\"color: #24292e; font-weight: bold\">,</span> <span style=\"color: #d73a49; font-style: italic\">&#39;&#39;</span><span style=\"color: #24292e; font-weight: bold\">))</span> <span style=\"color: #005cc5; font-weight: bold\">AS</span> <span style=\"color: #22863a; font-weight: bold\">Metric_Gross_Avg</span><span style=\"color: #24292e; font-weight: bold\">,</span> <span style=\"color: #888888; font-style: italic\">-- Overall company average for fare per mile</span>\n",
       "            <span style=\"color: #22863a; font-weight: bold\">metric</span> <span style=\"color: #e36209; font-weight: bold\">-</span> <span style=\"color: #005cc5; font-weight: bold\">AVG</span><span style=\"color: #24292e; font-weight: bold\">(</span><span style=\"color: #22863a; font-weight: bold\">metric</span><span style=\"color: #24292e; font-weight: bold\">)</span> <span style=\"color: #22863a; font-weight: bold\">OVER</span> <span style=\"color: #24292e; font-weight: bold\">(</span><span style=\"color: #22863a; font-weight: bold\">PARTITION</span> <span style=\"color: #005cc5; font-weight: bold\">BY</span> <span style=\"color: #22863a; font-weight: bold\">REGEXP_REPLACE</span><span style=\"color: #24292e; font-weight: bold\">(</span><span style=\"color: #005cc5; font-weight: bold\">LOWER</span><span style=\"color: #24292e; font-weight: bold\">(</span><span style=\"color: #005cc5; font-weight: bold\">TRIM</span><span style=\"color: #24292e; font-weight: bold\">(</span><span style=\"color: #22863a; font-weight: bold\">company</span><span style=\"color: #24292e; font-weight: bold\">)),</span> <span style=\"color: #22863a; font-weight: bold\">r</span><span style=\"color: #d73a49; font-style: italic\">&#39;[^a-z0-9\\s]&#39;</span><span style=\"color: #24292e; font-weight: bold\">,</span> <span style=\"color: #d73a49; font-style: italic\">&#39;&#39;</span><span style=\"color: #24292e; font-weight: bold\">))</span> <span style=\"color: #005cc5; font-weight: bold\">AS</span> <span style=\"color: #22863a; font-weight: bold\">Metric_Diff_From_Avg</span><span style=\"color: #24292e; font-weight: bold\">,</span> <span style=\"color: #888888; font-style: italic\">-- Difference from average</span>\n",
       "            <span style=\"color: #22863a; font-weight: bold\">SAFE_DIVIDE</span><span style=\"color: #24292e; font-weight: bold\">(</span><span style=\"color: #22863a; font-weight: bold\">metric</span> <span style=\"color: #e36209; font-weight: bold\">-</span> <span style=\"color: #005cc5; font-weight: bold\">AVG</span><span style=\"color: #24292e; font-weight: bold\">(</span><span style=\"color: #22863a; font-weight: bold\">metric</span><span style=\"color: #24292e; font-weight: bold\">)</span> <span style=\"color: #22863a; font-weight: bold\">OVER</span> <span style=\"color: #24292e; font-weight: bold\">(</span><span style=\"color: #22863a; font-weight: bold\">PARTITION</span> <span style=\"color: #005cc5; font-weight: bold\">BY</span> <span style=\"color: #22863a; font-weight: bold\">REGEXP_REPLACE</span><span style=\"color: #24292e; font-weight: bold\">(</span><span style=\"color: #005cc5; font-weight: bold\">LOWER</span><span style=\"color: #24292e; font-weight: bold\">(</span><span style=\"color: #005cc5; font-weight: bold\">TRIM</span><span style=\"color: #24292e; font-weight: bold\">(</span><span style=\"color: #22863a; font-weight: bold\">company</span><span style=\"color: #24292e; font-weight: bold\">)),</span> <span style=\"color: #22863a; font-weight: bold\">r</span><span style=\"color: #d73a49; font-style: italic\">&#39;[^a-z0-9\\s]&#39;</span><span style=\"color: #24292e; font-weight: bold\">,</span> <span style=\"color: #d73a49; font-style: italic\">&#39;&#39;</span><span style=\"color: #24292e; font-weight: bold\">)),</span> <span style=\"color: #005cc5; font-weight: bold\">AVG</span><span style=\"color: #24292e; font-weight: bold\">(</span><span style=\"color: #22863a; font-weight: bold\">metric</span><span style=\"color: #24292e; font-weight: bold\">)</span> <span style=\"color: #22863a; font-weight: bold\">OVER</span> <span style=\"color: #24292e; font-weight: bold\">(</span><span style=\"color: #22863a; font-weight: bold\">PARTITION</span> <span style=\"color: #005cc5; font-weight: bold\">BY</span> <span style=\"color: #22863a; font-weight: bold\">REGEXP_REPLACE</span><span style=\"color: #24292e; font-weight: bold\">(</span><span style=\"color: #005cc5; font-weight: bold\">LOWER</span><span style=\"color: #24292e; font-weight: bold\">(</span><span style=\"color: #005cc5; font-weight: bold\">TRIM</span><span style=\"color: #24292e; font-weight: bold\">(</span><span style=\"color: #22863a; font-weight: bold\">company</span><span style=\"color: #24292e; font-weight: bold\">)),</span> <span style=\"color: #22863a; font-weight: bold\">r</span><span style=\"color: #d73a49; font-style: italic\">&#39;[^a-z0-9\\s]&#39;</span><span style=\"color: #24292e; font-weight: bold\">,</span> <span style=\"color: #d73a49; font-style: italic\">&#39;&#39;</span><span style=\"color: #24292e; font-weight: bold\">)))</span> <span style=\"color: #e36209; font-weight: bold\">*</span> <span style=\"color: #6f42c1; font-weight: bold\">100</span> <span style=\"color: #005cc5; font-weight: bold\">AS</span> <span style=\"color: #22863a; font-weight: bold\">Percent_Diff_From_Avg</span> <span style=\"color: #888888; font-style: italic\">-- Percentage difference from average</span>\n",
       "        <span style=\"color: #005cc5; font-weight: bold\">FROM</span> <span style=\"color: #24292e; font-weight: bold\">(</span>\n",
       "            <span style=\"color: #005cc5; font-weight: bold\">SELECT</span>\n",
       "                <span style=\"color: #22863a; font-weight: bold\">company</span><span style=\"color: #24292e; font-weight: bold\">,</span>\n",
       "                <span style=\"color: #22863a; font-weight: bold\">DATE_TRUNC</span><span style=\"color: #24292e; font-weight: bold\">(</span><span style=\"color: #22863a; font-weight: bold\">trip_start_timestamp</span><span style=\"color: #24292e; font-weight: bold\">,</span> <span style=\"color: #005cc5; font-weight: bold\">MONTH</span><span style=\"color: #24292e; font-weight: bold\">)</span> <span style=\"color: #005cc5; font-weight: bold\">AS</span> <span style=\"color: #22863a; font-weight: bold\">trip_month</span><span style=\"color: #24292e; font-weight: bold\">,</span> <span style=\"color: #888888; font-style: italic\">-- Extract month from trip start timestamp</span>\n",
       "                <span style=\"color: #22863a; font-weight: bold\">SAFE_DIVIDE</span><span style=\"color: #24292e; font-weight: bold\">(</span><span style=\"color: #005cc5; font-weight: bold\">SUM</span><span style=\"color: #24292e; font-weight: bold\">(</span><span style=\"color: #22863a; font-weight: bold\">fare</span><span style=\"color: #24292e; font-weight: bold\">),</span> <span style=\"color: #005cc5; font-weight: bold\">SUM</span><span style=\"color: #24292e; font-weight: bold\">(</span><span style=\"color: #22863a; font-weight: bold\">trip_miles</span><span style=\"color: #24292e; font-weight: bold\">))</span> <span style=\"color: #005cc5; font-weight: bold\">AS</span> <span style=\"color: #22863a; font-weight: bold\">metric</span> <span style=\"color: #888888; font-style: italic\">-- Calculate fare per mile</span>\n",
       "            <span style=\"color: #005cc5; font-weight: bold\">FROM</span>\n",
       "                <span style=\"color: #e36209; font-weight: bold\">`</span><span style=\"color: #22863a; font-weight: bold\">bigquery</span><span style=\"color: #e36209; font-weight: bold\">-</span><span style=\"color: #005cc5; font-weight: bold\">public</span><span style=\"color: #e36209; font-weight: bold\">-</span><span style=\"color: #005cc5; font-weight: bold\">data</span><span style=\"color: #24292e; font-weight: bold\">.</span><span style=\"color: #22863a; font-weight: bold\">chicago_taxi_trips</span><span style=\"color: #24292e; font-weight: bold\">.</span><span style=\"color: #22863a; font-weight: bold\">taxi_trips</span><span style=\"color: #e36209; font-weight: bold\">`</span>\n",
       "            <span style=\"color: #005cc5; font-weight: bold\">WHERE</span> \n",
       "                <span style=\"color: #22863a; font-weight: bold\">company</span> <span style=\"color: #005cc5; font-weight: bold\">IS</span> <span style=\"color: #005cc5; font-weight: bold\">NOT</span> <span style=\"color: #005cc5; font-weight: bold\">NULL</span> <span style=\"color: #888888; font-style: italic\">-- Exclude trips with no company information</span>\n",
       "                <span style=\"color: #005cc5; font-weight: bold\">AND</span> <span style=\"color: #22863a; font-weight: bold\">trip_miles</span> <span style=\"color: #e36209; font-weight: bold\">&gt;</span> <span style=\"color: #6f42c1; font-weight: bold\">0</span> <span style=\"color: #888888; font-style: italic\">-- Exclude trips with zero or negative miles</span>\n",
       "            <span style=\"color: #005cc5; font-weight: bold\">GROUP</span> <span style=\"color: #005cc5; font-weight: bold\">BY</span>\n",
       "                <span style=\"color: #22863a; font-weight: bold\">company</span><span style=\"color: #24292e; font-weight: bold\">,</span> \n",
       "                <span style=\"color: #22863a; font-weight: bold\">DATE_TRUNC</span><span style=\"color: #24292e; font-weight: bold\">(</span><span style=\"color: #22863a; font-weight: bold\">trip_start_timestamp</span><span style=\"color: #24292e; font-weight: bold\">,</span> <span style=\"color: #005cc5; font-weight: bold\">MONTH</span><span style=\"color: #24292e; font-weight: bold\">)</span>\n",
       "        <span style=\"color: #24292e; font-weight: bold\">)</span> <span style=\"color: #22863a; font-weight: bold\">aggregated_data</span>\n",
       "    <span style=\"color: #24292e; font-weight: bold\">),</span>\n",
       "\n",
       "    <span style=\"color: #888888; font-style: italic\">-- Rank Trip Increases by Metric Delta</span>\n",
       "    <span style=\"color: #22863a; font-weight: bold\">MoM_Trip_Increases_Ranked</span> <span style=\"color: #005cc5; font-weight: bold\">AS</span> <span style=\"color: #24292e; font-weight: bold\">(</span>\n",
       "        <span style=\"color: #005cc5; font-weight: bold\">SELECT</span>\n",
       "            <span style=\"color: #22863a; font-weight: bold\">Metric_Description</span><span style=\"color: #24292e; font-weight: bold\">,</span>\n",
       "            <span style=\"color: #22863a; font-weight: bold\">standardized_company</span><span style=\"color: #24292e; font-weight: bold\">,</span>\n",
       "            <span style=\"color: #22863a; font-weight: bold\">company</span><span style=\"color: #24292e; font-weight: bold\">,</span>\n",
       "            <span style=\"color: #22863a; font-weight: bold\">trip_month</span><span style=\"color: #24292e; font-weight: bold\">,</span>\n",
       "            <span style=\"color: #22863a; font-weight: bold\">metric</span><span style=\"color: #24292e; font-weight: bold\">,</span>\n",
       "            <span style=\"color: #22863a; font-weight: bold\">Mon_Prior_Metric_Val</span><span style=\"color: #24292e; font-weight: bold\">,</span>\n",
       "            <span style=\"color: #22863a; font-weight: bold\">metric_delta</span><span style=\"color: #24292e; font-weight: bold\">,</span>\n",
       "            <span style=\"color: #22863a; font-weight: bold\">Metric_Gross_Avg</span><span style=\"color: #24292e; font-weight: bold\">,</span> <span style=\"color: #888888; font-style: italic\">-- Include company average</span>\n",
       "            <span style=\"color: #22863a; font-weight: bold\">Metric_Diff_From_Avg</span><span style=\"color: #24292e; font-weight: bold\">,</span> <span style=\"color: #888888; font-style: italic\">-- Include difference from average</span>\n",
       "            <span style=\"color: #22863a; font-weight: bold\">Percent_Diff_From_Avg</span><span style=\"color: #24292e; font-weight: bold\">,</span> <span style=\"color: #888888; font-style: italic\">-- Include percentage difference from average</span>\n",
       "            <span style=\"color: #22863a; font-weight: bold\">SAFE_DIVIDE</span><span style=\"color: #24292e; font-weight: bold\">(</span><span style=\"color: #22863a; font-weight: bold\">metric_delta</span><span style=\"color: #24292e; font-weight: bold\">,</span> <span style=\"color: #22863a; font-weight: bold\">Mon_Prior_Metric_Val</span><span style=\"color: #24292e; font-weight: bold\">)</span> <span style=\"color: #005cc5; font-weight: bold\">AS</span> <span style=\"color: #22863a; font-weight: bold\">Metric_Mon_Pct_Chg</span><span style=\"color: #24292e; font-weight: bold\">,</span> <span style=\"color: #888888; font-style: italic\">-- Calculate percentage change</span>\n",
       "            <span style=\"color: #22863a; font-weight: bold\">CONCAT</span><span style=\"color: #24292e; font-weight: bold\">(</span><span style=\"color: #22863a; font-weight: bold\">FORMAT</span><span style=\"color: #24292e; font-weight: bold\">(</span><span style=\"color: #d73a49; font-style: italic\">&#39;%.1f&#39;</span><span style=\"color: #24292e; font-weight: bold\">,</span> <span style=\"color: #22863a; font-weight: bold\">SAFE_DIVIDE</span><span style=\"color: #24292e; font-weight: bold\">(</span><span style=\"color: #005cc5; font-weight: bold\">ABS</span><span style=\"color: #24292e; font-weight: bold\">(</span><span style=\"color: #22863a; font-weight: bold\">metric_delta</span><span style=\"color: #24292e; font-weight: bold\">),</span> <span style=\"color: #22863a; font-weight: bold\">Mon_Prior_Metric_Val</span><span style=\"color: #24292e; font-weight: bold\">)</span> <span style=\"color: #e36209; font-weight: bold\">*</span> <span style=\"color: #6f42c1; font-weight: bold\">100</span><span style=\"color: #24292e; font-weight: bold\">),</span> <span style=\"color: #d73a49; font-style: italic\">&#39;%&#39;</span><span style=\"color: #24292e; font-weight: bold\">)</span> <span style=\"color: #005cc5; font-weight: bold\">AS</span> <span style=\"color: #22863a; font-weight: bold\">Metric_Mon_Pct_Chg_Str</span><span style=\"color: #24292e; font-weight: bold\">,</span> <span style=\"color: #888888; font-style: italic\">-- Format percentage change as string</span>\n",
       "            <span style=\"color: #22863a; font-weight: bold\">ROW_NUMBER</span><span style=\"color: #24292e; font-weight: bold\">()</span> <span style=\"color: #22863a; font-weight: bold\">OVER</span> <span style=\"color: #24292e; font-weight: bold\">(</span><span style=\"color: #22863a; font-weight: bold\">PARTITION</span> <span style=\"color: #005cc5; font-weight: bold\">BY</span> <span style=\"color: #22863a; font-weight: bold\">standardized_company</span> <span style=\"color: #005cc5; font-weight: bold\">ORDER</span> <span style=\"color: #005cc5; font-weight: bold\">BY</span> <span style=\"color: #22863a; font-weight: bold\">metric_delta</span> <span style=\"color: #005cc5; font-weight: bold\">DESC</span><span style=\"color: #24292e; font-weight: bold\">)</span> <span style=\"color: #005cc5; font-weight: bold\">AS</span> <span style=\"color: #22863a; font-weight: bold\">rank</span> <span style=\"color: #888888; font-style: italic\">-- Rank by largest increase</span>\n",
       "        <span style=\"color: #005cc5; font-weight: bold\">FROM</span>\n",
       "            <span style=\"color: #22863a; font-weight: bold\">Trip_Increases</span>\n",
       "        <span style=\"color: #005cc5; font-weight: bold\">WHERE</span>\n",
       "            <span style=\"color: #22863a; font-weight: bold\">Mon_Prior_Metric_Val</span> <span style=\"color: #005cc5; font-weight: bold\">IS</span> <span style=\"color: #005cc5; font-weight: bold\">NOT</span> <span style=\"color: #005cc5; font-weight: bold\">NULL</span> <span style=\"color: #888888; font-style: italic\">-- Exclude rows with no prior month data</span>\n",
       "            <span style=\"color: #005cc5; font-weight: bold\">AND</span> <span style=\"color: #22863a; font-weight: bold\">Mon_Prior_Metric_Val</span> <span style=\"color: #e36209; font-weight: bold\">&gt;</span> <span style=\"color: #6f42c1; font-weight: bold\">100</span> <span style=\"color: #888888; font-style: italic\">-- Exclude months with very low prior metrics</span>\n",
       "            <span style=\"color: #005cc5; font-weight: bold\">AND</span> <span style=\"color: #22863a; font-weight: bold\">metric</span> <span style=\"color: #e36209; font-weight: bold\">&gt;</span> <span style=\"color: #6f42c1; font-weight: bold\">100</span> <span style=\"color: #888888; font-style: italic\">-- Exclude months with very low current metrics</span>\n",
       "            <span style=\"color: #005cc5; font-weight: bold\">AND</span> <span style=\"color: #22863a; font-weight: bold\">SAFE_DIVIDE</span><span style=\"color: #24292e; font-weight: bold\">(</span><span style=\"color: #22863a; font-weight: bold\">metric_delta</span><span style=\"color: #24292e; font-weight: bold\">,</span> <span style=\"color: #22863a; font-weight: bold\">Mon_Prior_Metric_Val</span><span style=\"color: #24292e; font-weight: bold\">)</span> <span style=\"color: #e36209; font-weight: bold\">&lt;=</span> <span style=\"color: #6f42c1; font-weight: bold\">10</span> <span style=\"color: #888888; font-style: italic\">-- Cap extreme percentage changes</span>\n",
       "    <span style=\"color: #24292e; font-weight: bold\">),</span>\n",
       "    \n",
       "    <span style=\"color: #888888; font-style: italic\">-- Rank Fare Per Mile Decreases by Metric Delta</span>\n",
       "    <span style=\"color: #22863a; font-weight: bold\">MoM_FarePerMile_Decreases_Ranked</span> <span style=\"color: #005cc5; font-weight: bold\">AS</span> <span style=\"color: #24292e; font-weight: bold\">(</span>\n",
       "        <span style=\"color: #005cc5; font-weight: bold\">SELECT</span>\n",
       "            <span style=\"color: #22863a; font-weight: bold\">Metric_Description</span><span style=\"color: #24292e; font-weight: bold\">,</span>\n",
       "            <span style=\"color: #22863a; font-weight: bold\">standardized_company</span><span style=\"color: #24292e; font-weight: bold\">,</span>\n",
       "            <span style=\"color: #22863a; font-weight: bold\">company</span><span style=\"color: #24292e; font-weight: bold\">,</span>\n",
       "            <span style=\"color: #22863a; font-weight: bold\">trip_month</span><span style=\"color: #24292e; font-weight: bold\">,</span>\n",
       "            <span style=\"color: #22863a; font-weight: bold\">metric</span><span style=\"color: #24292e; font-weight: bold\">,</span>\n",
       "            <span style=\"color: #22863a; font-weight: bold\">Mon_Prior_Metric_Val</span><span style=\"color: #24292e; font-weight: bold\">,</span>\n",
       "            <span style=\"color: #22863a; font-weight: bold\">metric_delta</span><span style=\"color: #24292e; font-weight: bold\">,</span>\n",
       "            <span style=\"color: #22863a; font-weight: bold\">Metric_Gross_Avg</span><span style=\"color: #24292e; font-weight: bold\">,</span> <span style=\"color: #888888; font-style: italic\">-- Include company average</span>\n",
       "            <span style=\"color: #22863a; font-weight: bold\">Metric_Diff_From_Avg</span><span style=\"color: #24292e; font-weight: bold\">,</span> <span style=\"color: #888888; font-style: italic\">-- Include difference from average</span>\n",
       "            <span style=\"color: #22863a; font-weight: bold\">Percent_Diff_From_Avg</span><span style=\"color: #24292e; font-weight: bold\">,</span> <span style=\"color: #888888; font-style: italic\">-- Include percentage difference from average</span>\n",
       "            <span style=\"color: #22863a; font-weight: bold\">SAFE_DIVIDE</span><span style=\"color: #24292e; font-weight: bold\">(</span><span style=\"color: #22863a; font-weight: bold\">metric_delta</span><span style=\"color: #24292e; font-weight: bold\">,</span> <span style=\"color: #22863a; font-weight: bold\">Mon_Prior_Metric_Val</span><span style=\"color: #24292e; font-weight: bold\">)</span> <span style=\"color: #005cc5; font-weight: bold\">AS</span> <span style=\"color: #22863a; font-weight: bold\">Metric_Mon_Pct_Chg</span><span style=\"color: #24292e; font-weight: bold\">,</span> <span style=\"color: #888888; font-style: italic\">-- Calculate percentage change</span>\n",
       "            <span style=\"color: #22863a; font-weight: bold\">CONCAT</span><span style=\"color: #24292e; font-weight: bold\">(</span><span style=\"color: #22863a; font-weight: bold\">FORMAT</span><span style=\"color: #24292e; font-weight: bold\">(</span><span style=\"color: #d73a49; font-style: italic\">&#39;%.1f&#39;</span><span style=\"color: #24292e; font-weight: bold\">,</span> <span style=\"color: #22863a; font-weight: bold\">SAFE_DIVIDE</span><span style=\"color: #24292e; font-weight: bold\">(</span><span style=\"color: #005cc5; font-weight: bold\">ABS</span><span style=\"color: #24292e; font-weight: bold\">(</span><span style=\"color: #22863a; font-weight: bold\">metric_delta</span><span style=\"color: #24292e; font-weight: bold\">),</span> <span style=\"color: #22863a; font-weight: bold\">Mon_Prior_Metric_Val</span><span style=\"color: #24292e; font-weight: bold\">)</span> <span style=\"color: #e36209; font-weight: bold\">*</span> <span style=\"color: #6f42c1; font-weight: bold\">100</span><span style=\"color: #24292e; font-weight: bold\">),</span> <span style=\"color: #d73a49; font-style: italic\">&#39;%&#39;</span><span style=\"color: #24292e; font-weight: bold\">)</span> <span style=\"color: #005cc5; font-weight: bold\">AS</span> <span style=\"color: #22863a; font-weight: bold\">Metric_Mon_Pct_Chg_Str</span><span style=\"color: #24292e; font-weight: bold\">,</span> <span style=\"color: #888888; font-style: italic\">-- Format percentage change as string</span>\n",
       "            <span style=\"color: #22863a; font-weight: bold\">ROW_NUMBER</span><span style=\"color: #24292e; font-weight: bold\">()</span> <span style=\"color: #22863a; font-weight: bold\">OVER</span> <span style=\"color: #24292e; font-weight: bold\">(</span><span style=\"color: #22863a; font-weight: bold\">PARTITION</span> <span style=\"color: #005cc5; font-weight: bold\">BY</span> <span style=\"color: #22863a; font-weight: bold\">standardized_company</span> <span style=\"color: #005cc5; font-weight: bold\">ORDER</span> <span style=\"color: #005cc5; font-weight: bold\">BY</span> <span style=\"color: #22863a; font-weight: bold\">metric_delta</span> <span style=\"color: #005cc5; font-weight: bold\">ASC</span><span style=\"color: #24292e; font-weight: bold\">)</span> <span style=\"color: #005cc5; font-weight: bold\">AS</span> <span style=\"color: #22863a; font-weight: bold\">rank</span> <span style=\"color: #888888; font-style: italic\">-- Rank by largest decrease</span>\n",
       "        <span style=\"color: #005cc5; font-weight: bold\">FROM</span>\n",
       "            <span style=\"color: #22863a; font-weight: bold\">Fare_Decreases</span>\n",
       "        <span style=\"color: #005cc5; font-weight: bold\">WHERE</span>\n",
       "            <span style=\"color: #22863a; font-weight: bold\">Mon_Prior_Metric_Val</span> <span style=\"color: #005cc5; font-weight: bold\">IS</span> <span style=\"color: #005cc5; font-weight: bold\">NOT</span> <span style=\"color: #005cc5; font-weight: bold\">NULL</span> <span style=\"color: #888888; font-style: italic\">-- Exclude rows with no prior month data</span>\n",
       "            <span style=\"color: #005cc5; font-weight: bold\">AND</span> <span style=\"color: #22863a; font-weight: bold\">Mon_Prior_Metric_Val</span> <span style=\"color: #e36209; font-weight: bold\">&gt;</span> <span style=\"color: #6f42c1; font-weight: bold\">0</span><span style=\"color: #24292e; font-weight: bold\">.</span><span style=\"color: #6f42c1; font-weight: bold\">1</span> <span style=\"color: #888888; font-style: italic\">-- Exclude months with very low prior metrics</span>\n",
       "            <span style=\"color: #005cc5; font-weight: bold\">AND</span> <span style=\"color: #22863a; font-weight: bold\">metric</span> <span style=\"color: #e36209; font-weight: bold\">&gt;</span> <span style=\"color: #6f42c1; font-weight: bold\">0</span><span style=\"color: #24292e; font-weight: bold\">.</span><span style=\"color: #6f42c1; font-weight: bold\">1</span> <span style=\"color: #888888; font-style: italic\">-- Exclude months with very low current metrics</span>\n",
       "            <span style=\"color: #005cc5; font-weight: bold\">AND</span> <span style=\"color: #22863a; font-weight: bold\">SAFE_DIVIDE</span><span style=\"color: #24292e; font-weight: bold\">(</span><span style=\"color: #22863a; font-weight: bold\">metric_delta</span><span style=\"color: #24292e; font-weight: bold\">,</span> <span style=\"color: #22863a; font-weight: bold\">Mon_Prior_Metric_Val</span><span style=\"color: #24292e; font-weight: bold\">)</span> <span style=\"color: #e36209; font-weight: bold\">&gt;=</span> <span style=\"color: #e36209; font-weight: bold\">-</span><span style=\"color: #6f42c1; font-weight: bold\">10</span> <span style=\"color: #888888; font-style: italic\">-- Cap extreme percentage decreases</span>\n",
       "    <span style=\"color: #24292e; font-weight: bold\">),</span>\n",
       "\n",
       "    <span style=\"color: #888888; font-style: italic\">-- Extract Top Trip Increase Insights</span>\n",
       "    <span style=\"color: #22863a; font-weight: bold\">Top_Trip_Increase_Insights</span> <span style=\"color: #005cc5; font-weight: bold\">AS</span> <span style=\"color: #24292e; font-weight: bold\">(</span>\n",
       "        <span style=\"color: #005cc5; font-weight: bold\">SELECT</span>\n",
       "            <span style=\"color: #22863a; font-weight: bold\">b</span><span style=\"color: #24292e; font-weight: bold\">.</span><span style=\"color: #e36209; font-weight: bold\">*</span><span style=\"color: #24292e; font-weight: bold\">,</span>\n",
       "            <span style=\"color: #005cc5; font-weight: bold\">CASE</span>\n",
       "                <span style=\"color: #005cc5; font-weight: bold\">WHEN</span> <span style=\"color: #22863a; font-weight: bold\">b</span><span style=\"color: #24292e; font-weight: bold\">.</span><span style=\"color: #22863a; font-weight: bold\">Mon_Prior_Metric_Val</span> <span style=\"color: #005cc5; font-weight: bold\">IS</span> <span style=\"color: #005cc5; font-weight: bold\">NULL</span> <span style=\"color: #005cc5; font-weight: bold\">THEN</span> <span style=\"color: #d73a49; font-style: italic\">&quot;No Prior Data Available to Calculate Insights&quot;</span> <span style=\"color: #888888; font-style: italic\">-- Handle missing prior month data</span>\n",
       "                <span style=\"color: #005cc5; font-weight: bold\">ELSE</span> <span style=\"color: #22863a; font-weight: bold\">CONCAT</span><span style=\"color: #24292e; font-weight: bold\">(</span>\n",
       "                    <span style=\"color: #d73a49; font-style: italic\">&quot;In  &quot;</span><span style=\"color: #24292e; font-weight: bold\">,</span>\n",
       "                    <span style=\"color: #22863a; font-weight: bold\">FORMAT_TIMESTAMP</span><span style=\"color: #24292e; font-weight: bold\">(</span><span style=\"color: #d73a49; font-style: italic\">&#39;%b %Y&#39;</span><span style=\"color: #24292e; font-weight: bold\">,</span> <span style=\"color: #22863a; font-weight: bold\">PARSE_TIMESTAMP</span><span style=\"color: #24292e; font-weight: bold\">(</span><span style=\"color: #d73a49; font-style: italic\">&#39;%Y-%m&#39;</span><span style=\"color: #24292e; font-weight: bold\">,</span> <span style=\"color: #22863a; font-weight: bold\">b</span><span style=\"color: #24292e; font-weight: bold\">.</span><span style=\"color: #22863a; font-weight: bold\">Trip_Month</span><span style=\"color: #24292e; font-weight: bold\">)),</span>\n",
       "                    <span style=\"color: #d73a49; font-style: italic\">&quot;, trips increased by &quot;</span><span style=\"color: #24292e; font-weight: bold\">,</span>\n",
       "                    <span style=\"color: #22863a; font-weight: bold\">FORMAT</span><span style=\"color: #24292e; font-weight: bold\">(</span><span style=\"color: #d73a49; font-style: italic\">&quot;%&#39;d&quot;</span><span style=\"color: #24292e; font-weight: bold\">,</span> <span style=\"color: #005cc5; font-weight: bold\">CAST</span><span style=\"color: #24292e; font-weight: bold\">(</span><span style=\"color: #005cc5; font-weight: bold\">ABS</span><span style=\"color: #24292e; font-weight: bold\">(</span><span style=\"color: #22863a; font-weight: bold\">b</span><span style=\"color: #24292e; font-weight: bold\">.</span><span style=\"color: #22863a; font-weight: bold\">Metric_Delta</span><span style=\"color: #24292e; font-weight: bold\">)</span> <span style=\"color: #005cc5; font-weight: bold\">AS</span> <span style=\"color: #22863a; font-weight: bold\">INT64</span><span style=\"color: #24292e; font-weight: bold\">)),</span> <span style=\"color: #888888; font-style: italic\">-- Use FORMAT with &#39;%d&#39; and &#39;,&#39; for comma-separated numbers</span>\n",
       "                    <span style=\"color: #d73a49; font-style: italic\">&quot; (&quot;</span><span style=\"color: #24292e; font-weight: bold\">,</span>\n",
       "                    <span style=\"color: #22863a; font-weight: bold\">b</span><span style=\"color: #24292e; font-weight: bold\">.</span><span style=\"color: #22863a; font-weight: bold\">Metric_Mon_Pct_Chg_Str</span><span style=\"color: #24292e; font-weight: bold\">,</span>\n",
       "                    <span style=\"color: #d73a49; font-style: italic\">&quot;) compared to the previous month. The company&#39;s average monthly trips are &quot;</span><span style=\"color: #24292e; font-weight: bold\">,</span>\n",
       "                    <span style=\"color: #22863a; font-weight: bold\">FORMAT</span><span style=\"color: #24292e; font-weight: bold\">(</span><span style=\"color: #d73a49; font-style: italic\">&quot;%&#39;d&quot;</span><span style=\"color: #24292e; font-weight: bold\">,</span> <span style=\"color: #005cc5; font-weight: bold\">CAST</span><span style=\"color: #24292e; font-weight: bold\">(</span><span style=\"color: #22863a; font-weight: bold\">b</span><span style=\"color: #24292e; font-weight: bold\">.</span><span style=\"color: #22863a; font-weight: bold\">Metric_Gross_Avg</span> <span style=\"color: #005cc5; font-weight: bold\">AS</span> <span style=\"color: #22863a; font-weight: bold\">INT64</span><span style=\"color: #24292e; font-weight: bold\">)),</span> <span style=\"color: #888888; font-style: italic\">-- Include company average in the insight</span>\n",
       "                    <span style=\"color: #d73a49; font-style: italic\">&quot;. This month&#39;s trips are &quot;</span><span style=\"color: #24292e; font-weight: bold\">,</span>\n",
       "                    <span style=\"color: #22863a; font-weight: bold\">FORMAT</span><span style=\"color: #24292e; font-weight: bold\">(</span><span style=\"color: #d73a49; font-style: italic\">&quot;%&#39;d&quot;</span><span style=\"color: #24292e; font-weight: bold\">,</span> <span style=\"color: #005cc5; font-weight: bold\">CAST</span><span style=\"color: #24292e; font-weight: bold\">(</span><span style=\"color: #22863a; font-weight: bold\">b</span><span style=\"color: #24292e; font-weight: bold\">.</span><span style=\"color: #22863a; font-weight: bold\">Metric_Diff_From_Avg</span> <span style=\"color: #005cc5; font-weight: bold\">AS</span> <span style=\"color: #22863a; font-weight: bold\">INT64</span><span style=\"color: #24292e; font-weight: bold\">)),</span> <span style=\"color: #888888; font-style: italic\">-- Include difference from average</span>\n",
       "                    <span style=\"color: #d73a49; font-style: italic\">&quot; trips (&quot;</span><span style=\"color: #24292e; font-weight: bold\">,</span>\n",
       "                    <span style=\"color: #22863a; font-weight: bold\">FORMAT</span><span style=\"color: #24292e; font-weight: bold\">(</span><span style=\"color: #d73a49; font-style: italic\">&#39;%.1f&#39;</span><span style=\"color: #24292e; font-weight: bold\">,</span> <span style=\"color: #22863a; font-weight: bold\">b</span><span style=\"color: #24292e; font-weight: bold\">.</span><span style=\"color: #22863a; font-weight: bold\">Percent_Diff_From_Avg</span><span style=\"color: #24292e; font-weight: bold\">),</span>\n",
       "                    <span style=\"color: #d73a49; font-style: italic\">&quot;%) &quot;</span><span style=\"color: #24292e; font-weight: bold\">,</span>\n",
       "                    <span style=\"color: #005cc5; font-weight: bold\">IF</span><span style=\"color: #24292e; font-weight: bold\">(</span><span style=\"color: #22863a; font-weight: bold\">b</span><span style=\"color: #24292e; font-weight: bold\">.</span><span style=\"color: #22863a; font-weight: bold\">Metric_Diff_From_Avg</span> <span style=\"color: #e36209; font-weight: bold\">&gt;</span> <span style=\"color: #6f42c1; font-weight: bold\">0</span><span style=\"color: #24292e; font-weight: bold\">,</span> <span style=\"color: #d73a49; font-style: italic\">&quot;above&quot;</span><span style=\"color: #24292e; font-weight: bold\">,</span> <span style=\"color: #d73a49; font-style: italic\">&quot;below&quot;</span><span style=\"color: #24292e; font-weight: bold\">),</span>\n",
       "                    <span style=\"color: #d73a49; font-style: italic\">&quot; the company&#39;s average.\\nPotential reasons could include: &quot;</span><span style=\"color: #24292e; font-weight: bold\">,</span>\n",
       "                    <span style=\"color: #d73a49; font-style: italic\">&quot;\\n- seasonal changes, &quot;</span><span style=\"color: #24292e; font-weight: bold\">,</span>\n",
       "                    <span style=\"color: #d73a49; font-style: italic\">&quot;\\n- marketing campaigns, &quot;</span><span style=\"color: #24292e; font-weight: bold\">,</span>\n",
       "                    <span style=\"color: #d73a49; font-style: italic\">&quot;\\n- operational adjustments, &quot;</span><span style=\"color: #24292e; font-weight: bold\">,</span>\n",
       "                    <span style=\"color: #d73a49; font-style: italic\">&quot;\\n- increased demand due to events, &quot;</span><span style=\"color: #24292e; font-weight: bold\">,</span>\n",
       "                    <span style=\"color: #d73a49; font-style: italic\">&quot;\\n- improved service offerings, &quot;</span><span style=\"color: #24292e; font-weight: bold\">,</span>\n",
       "                    <span style=\"color: #d73a49; font-style: italic\">&quot;\\n- increased fleet size, &quot;</span><span style=\"color: #24292e; font-weight: bold\">,</span>\n",
       "                    <span style=\"color: #d73a49; font-style: italic\">&quot;\\n- acquisition or merger with former competitor.&quot;</span>\n",
       "                <span style=\"color: #24292e; font-weight: bold\">)</span>\n",
       "            <span style=\"color: #005cc5; font-weight: bold\">END</span> <span style=\"color: #005cc5; font-weight: bold\">AS</span> <span style=\"color: #22863a; font-weight: bold\">Metric_Insight</span>\n",
       "        <span style=\"color: #005cc5; font-weight: bold\">FROM</span> <span style=\"color: #24292e; font-weight: bold\">(</span>\n",
       "            <span style=\"color: #005cc5; font-weight: bold\">SELECT</span>\n",
       "                <span style=\"color: #22863a; font-weight: bold\">a</span><span style=\"color: #24292e; font-weight: bold\">.</span><span style=\"color: #e36209; font-weight: bold\">*</span><span style=\"color: #24292e; font-weight: bold\">,</span>\n",
       "                <span style=\"color: #22863a; font-weight: bold\">ROW_NUMBER</span><span style=\"color: #24292e; font-weight: bold\">()</span> <span style=\"color: #22863a; font-weight: bold\">OVER</span> <span style=\"color: #24292e; font-weight: bold\">(</span><span style=\"color: #22863a; font-weight: bold\">PARTITION</span> <span style=\"color: #005cc5; font-weight: bold\">BY</span> <span style=\"color: #22863a; font-weight: bold\">a</span><span style=\"color: #24292e; font-weight: bold\">.</span><span style=\"color: #22863a; font-weight: bold\">standardized_company</span> <span style=\"color: #005cc5; font-weight: bold\">ORDER</span> <span style=\"color: #005cc5; font-weight: bold\">BY</span> <span style=\"color: #22863a; font-weight: bold\">a</span><span style=\"color: #24292e; font-weight: bold\">.</span><span style=\"color: #22863a; font-weight: bold\">overall_rank</span> <span style=\"color: #005cc5; font-weight: bold\">ASC</span><span style=\"color: #24292e; font-weight: bold\">)</span> <span style=\"color: #005cc5; font-weight: bold\">AS</span> <span style=\"color: #22863a; font-weight: bold\">company_rank</span> <span style=\"color: #888888; font-style: italic\">-- Ensure uniqueness per company</span>\n",
       "            <span style=\"color: #005cc5; font-weight: bold\">FROM</span> <span style=\"color: #24292e; font-weight: bold\">(</span>\n",
       "                <span style=\"color: #005cc5; font-weight: bold\">SELECT</span>\n",
       "                    <span style=\"color: #22863a; font-weight: bold\">Metric_Description</span><span style=\"color: #24292e; font-weight: bold\">,</span>\n",
       "                    <span style=\"color: #22863a; font-weight: bold\">standardized_company</span><span style=\"color: #24292e; font-weight: bold\">,</span>\n",
       "                    <span style=\"color: #22863a; font-weight: bold\">company</span> <span style=\"color: #005cc5; font-weight: bold\">AS</span> <span style=\"color: #22863a; font-weight: bold\">Taxi_Company</span><span style=\"color: #24292e; font-weight: bold\">,</span>\n",
       "                    <span style=\"color: #22863a; font-weight: bold\">trip_month</span> <span style=\"color: #005cc5; font-weight: bold\">AS</span> <span style=\"color: #22863a; font-weight: bold\">Trip_Month</span><span style=\"color: #24292e; font-weight: bold\">,</span>\n",
       "                    <span style=\"color: #22863a; font-weight: bold\">metric</span> <span style=\"color: #005cc5; font-weight: bold\">AS</span> <span style=\"color: #22863a; font-weight: bold\">Mon_Metric_Val</span><span style=\"color: #24292e; font-weight: bold\">,</span>\n",
       "                    <span style=\"color: #22863a; font-weight: bold\">metric_delta</span> <span style=\"color: #005cc5; font-weight: bold\">AS</span> <span style=\"color: #22863a; font-weight: bold\">Metric_Delta</span><span style=\"color: #24292e; font-weight: bold\">,</span>\n",
       "                    <span style=\"color: #22863a; font-weight: bold\">Mon_Prior_Metric_Val</span><span style=\"color: #24292e; font-weight: bold\">,</span>\n",
       "                    <span style=\"color: #22863a; font-weight: bold\">Metric_Gross_Avg</span><span style=\"color: #24292e; font-weight: bold\">,</span> <span style=\"color: #888888; font-style: italic\">-- Include company average</span>\n",
       "                    <span style=\"color: #22863a; font-weight: bold\">Metric_Diff_From_Avg</span><span style=\"color: #24292e; font-weight: bold\">,</span> <span style=\"color: #888888; font-style: italic\">-- Include difference from average</span>\n",
       "                    <span style=\"color: #22863a; font-weight: bold\">Percent_Diff_From_Avg</span><span style=\"color: #24292e; font-weight: bold\">,</span> <span style=\"color: #888888; font-style: italic\">-- Include percentage difference from average</span>\n",
       "                    <span style=\"color: #22863a; font-weight: bold\">Metric_Mon_Pct_Chg</span><span style=\"color: #24292e; font-weight: bold\">,</span>\n",
       "                    <span style=\"color: #22863a; font-weight: bold\">Metric_Mon_Pct_Chg_Str</span><span style=\"color: #24292e; font-weight: bold\">,</span>\n",
       "                    <span style=\"color: #22863a; font-weight: bold\">ROW_NUMBER</span><span style=\"color: #24292e; font-weight: bold\">()</span> <span style=\"color: #22863a; font-weight: bold\">OVER</span> <span style=\"color: #24292e; font-weight: bold\">(</span><span style=\"color: #005cc5; font-weight: bold\">ORDER</span> <span style=\"color: #005cc5; font-weight: bold\">BY</span> <span style=\"color: #22863a; font-weight: bold\">metric_delta</span> <span style=\"color: #005cc5; font-weight: bold\">DESC</span><span style=\"color: #24292e; font-weight: bold\">)</span> <span style=\"color: #005cc5; font-weight: bold\">AS</span> <span style=\"color: #22863a; font-weight: bold\">overall_rank</span> <span style=\"color: #888888; font-style: italic\">-- Rank globally by largest increase</span>\n",
       "                <span style=\"color: #005cc5; font-weight: bold\">FROM</span>\n",
       "                    <span style=\"color: #22863a; font-weight: bold\">MoM_Trip_Increases_Ranked</span>\n",
       "                <span style=\"color: #005cc5; font-weight: bold\">WHERE</span>\n",
       "                    <span style=\"color: #22863a; font-weight: bold\">rank</span> <span style=\"color: #e36209; font-weight: bold\">=</span> <span style=\"color: #6f42c1; font-weight: bold\">1</span> <span style=\"color: #888888; font-style: italic\">-- Only consider the top increase for each company</span>\n",
       "            <span style=\"color: #24292e; font-weight: bold\">)</span> <span style=\"color: #22863a; font-weight: bold\">a</span>\n",
       "            <span style=\"color: #005cc5; font-weight: bold\">WHERE</span>\n",
       "                <span style=\"color: #22863a; font-weight: bold\">overall_rank</span> <span style=\"color: #e36209; font-weight: bold\">&lt;=</span> <span style=\"color: #6f42c1; font-weight: bold\">3</span> <span style=\"color: #888888; font-style: italic\">-- Limit to the top 3 increases overall</span>\n",
       "        <span style=\"color: #24292e; font-weight: bold\">)</span> <span style=\"color: #22863a; font-weight: bold\">b</span>\n",
       "        <span style=\"color: #005cc5; font-weight: bold\">WHERE</span>\n",
       "            <span style=\"color: #22863a; font-weight: bold\">b</span><span style=\"color: #24292e; font-weight: bold\">.</span><span style=\"color: #22863a; font-weight: bold\">company_rank</span> <span style=\"color: #e36209; font-weight: bold\">=</span> <span style=\"color: #6f42c1; font-weight: bold\">1</span> <span style=\"color: #888888; font-style: italic\">-- Ensure each company appears only once</span>\n",
       "    <span style=\"color: #24292e; font-weight: bold\">),</span>\n",
       "\n",
       "    <span style=\"color: #888888; font-style: italic\">-- Extract Top Fare Per Mile Decrease Insights</span>\n",
       "    <span style=\"color: #22863a; font-weight: bold\">Top_FarePerMile_Decrease_Insights</span> <span style=\"color: #005cc5; font-weight: bold\">AS</span> <span style=\"color: #24292e; font-weight: bold\">(</span>\n",
       "        <span style=\"color: #005cc5; font-weight: bold\">SELECT</span>\n",
       "            <span style=\"color: #22863a; font-weight: bold\">b</span><span style=\"color: #24292e; font-weight: bold\">.</span><span style=\"color: #e36209; font-weight: bold\">*</span><span style=\"color: #24292e; font-weight: bold\">,</span>\n",
       "            <span style=\"color: #005cc5; font-weight: bold\">CASE</span>\n",
       "                <span style=\"color: #005cc5; font-weight: bold\">WHEN</span> <span style=\"color: #22863a; font-weight: bold\">b</span><span style=\"color: #24292e; font-weight: bold\">.</span><span style=\"color: #22863a; font-weight: bold\">Mon_Prior_Metric_Val</span> <span style=\"color: #005cc5; font-weight: bold\">IS</span> <span style=\"color: #005cc5; font-weight: bold\">NULL</span> <span style=\"color: #005cc5; font-weight: bold\">THEN</span> <span style=\"color: #d73a49; font-style: italic\">&quot;No Prior Data Available to Calculate Insights&quot;</span> <span style=\"color: #888888; font-style: italic\">-- Handle missing prior month data</span>\n",
       "                <span style=\"color: #005cc5; font-weight: bold\">ELSE</span> <span style=\"color: #22863a; font-weight: bold\">CONCAT</span><span style=\"color: #24292e; font-weight: bold\">(</span>\n",
       "                    <span style=\"color: #d73a49; font-style: italic\">&quot;In  &quot;</span><span style=\"color: #24292e; font-weight: bold\">,</span>\n",
       "                    <span style=\"color: #22863a; font-weight: bold\">FORMAT_TIMESTAMP</span><span style=\"color: #24292e; font-weight: bold\">(</span><span style=\"color: #d73a49; font-style: italic\">&#39;%b %Y&#39;</span><span style=\"color: #24292e; font-weight: bold\">,</span> <span style=\"color: #22863a; font-weight: bold\">PARSE_TIMESTAMP</span><span style=\"color: #24292e; font-weight: bold\">(</span><span style=\"color: #d73a49; font-style: italic\">&#39;%Y-%m&#39;</span><span style=\"color: #24292e; font-weight: bold\">,</span> <span style=\"color: #22863a; font-weight: bold\">b</span><span style=\"color: #24292e; font-weight: bold\">.</span><span style=\"color: #22863a; font-weight: bold\">Trip_Month</span><span style=\"color: #24292e; font-weight: bold\">)),</span>\n",
       "                    <span style=\"color: #d73a49; font-style: italic\">&quot;, fare per mile decreased by &quot;</span><span style=\"color: #24292e; font-weight: bold\">,</span>\n",
       "                    <span style=\"color: #22863a; font-weight: bold\">CONCAT</span><span style=\"color: #24292e; font-weight: bold\">(</span><span style=\"color: #d73a49; font-style: italic\">&quot;$&quot;</span><span style=\"color: #24292e; font-weight: bold\">,</span> <span style=\"color: #22863a; font-weight: bold\">FORMAT</span><span style=\"color: #24292e; font-weight: bold\">(</span><span style=\"color: #d73a49; font-style: italic\">&quot;%&#39;.2f&quot;</span><span style=\"color: #24292e; font-weight: bold\">,</span> <span style=\"color: #005cc5; font-weight: bold\">ABS</span><span style=\"color: #24292e; font-weight: bold\">(</span><span style=\"color: #22863a; font-weight: bold\">b</span><span style=\"color: #24292e; font-weight: bold\">.</span><span style=\"color: #22863a; font-weight: bold\">Metric_Delta</span><span style=\"color: #24292e; font-weight: bold\">))),</span> <span style=\"color: #888888; font-style: italic\">-- Use FORMAT with &#39;%,.2f&#39; for comma-separated numbers rounded to 2 decimals and format as currency</span>\n",
       "                    <span style=\"color: #d73a49; font-style: italic\">&quot; (&quot;</span><span style=\"color: #24292e; font-weight: bold\">,</span>\n",
       "                    <span style=\"color: #22863a; font-weight: bold\">b</span><span style=\"color: #24292e; font-weight: bold\">.</span><span style=\"color: #22863a; font-weight: bold\">Metric_Mon_Pct_Chg_Str</span><span style=\"color: #24292e; font-weight: bold\">,</span>\n",
       "                    <span style=\"color: #d73a49; font-style: italic\">&quot;) compared to the previous month. The company&#39;s average fare per mile is $&quot;</span><span style=\"color: #24292e; font-weight: bold\">,</span>\n",
       "                    <span style=\"color: #22863a; font-weight: bold\">FORMAT</span><span style=\"color: #24292e; font-weight: bold\">(</span><span style=\"color: #d73a49; font-style: italic\">&quot;%&#39;.2f&quot;</span><span style=\"color: #24292e; font-weight: bold\">,</span> <span style=\"color: #22863a; font-weight: bold\">b</span><span style=\"color: #24292e; font-weight: bold\">.</span><span style=\"color: #22863a; font-weight: bold\">Metric_Gross_Avg</span><span style=\"color: #24292e; font-weight: bold\">),</span> <span style=\"color: #888888; font-style: italic\">-- Include company average in the insight</span>\n",
       "                    <span style=\"color: #d73a49; font-style: italic\">&quot;. This month&#39;s fare per mile is $&quot;</span><span style=\"color: #24292e; font-weight: bold\">,</span>\n",
       "                    <span style=\"color: #22863a; font-weight: bold\">FORMAT</span><span style=\"color: #24292e; font-weight: bold\">(</span><span style=\"color: #d73a49; font-style: italic\">&quot;%&#39;.2f&quot;</span><span style=\"color: #24292e; font-weight: bold\">,</span> <span style=\"color: #005cc5; font-weight: bold\">ABS</span><span style=\"color: #24292e; font-weight: bold\">(</span><span style=\"color: #22863a; font-weight: bold\">b</span><span style=\"color: #24292e; font-weight: bold\">.</span><span style=\"color: #22863a; font-weight: bold\">Metric_Diff_From_Avg</span><span style=\"color: #24292e; font-weight: bold\">)),</span> <span style=\"color: #888888; font-style: italic\">-- Include difference from average</span>\n",
       "                    <span style=\"color: #d73a49; font-style: italic\">&quot; (&quot;</span><span style=\"color: #24292e; font-weight: bold\">,</span>\n",
       "                    <span style=\"color: #22863a; font-weight: bold\">FORMAT</span><span style=\"color: #24292e; font-weight: bold\">(</span><span style=\"color: #d73a49; font-style: italic\">&#39;%.1f&#39;</span><span style=\"color: #24292e; font-weight: bold\">,</span> <span style=\"color: #005cc5; font-weight: bold\">ABS</span><span style=\"color: #24292e; font-weight: bold\">(</span><span style=\"color: #22863a; font-weight: bold\">b</span><span style=\"color: #24292e; font-weight: bold\">.</span><span style=\"color: #22863a; font-weight: bold\">Percent_Diff_From_Avg</span><span style=\"color: #24292e; font-weight: bold\">)),</span>\n",
       "                    <span style=\"color: #d73a49; font-style: italic\">&quot;%) &quot;</span><span style=\"color: #24292e; font-weight: bold\">,</span>\n",
       "                    <span style=\"color: #005cc5; font-weight: bold\">IF</span><span style=\"color: #24292e; font-weight: bold\">(</span><span style=\"color: #22863a; font-weight: bold\">b</span><span style=\"color: #24292e; font-weight: bold\">.</span><span style=\"color: #22863a; font-weight: bold\">Metric_Diff_From_Avg</span> <span style=\"color: #e36209; font-weight: bold\">&gt;</span> <span style=\"color: #6f42c1; font-weight: bold\">0</span><span style=\"color: #24292e; font-weight: bold\">,</span> <span style=\"color: #d73a49; font-style: italic\">&quot;above&quot;</span><span style=\"color: #24292e; font-weight: bold\">,</span> <span style=\"color: #d73a49; font-style: italic\">&quot;below&quot;</span><span style=\"color: #24292e; font-weight: bold\">),</span>\n",
       "                    <span style=\"color: #d73a49; font-style: italic\">&quot; the company&#39;s average.\\nPotential reasons could include: &quot;</span><span style=\"color: #24292e; font-weight: bold\">,</span>\n",
       "                    <span style=\"color: #d73a49; font-style: italic\">&quot;\\n- promotional discounts or fare reductions, &quot;</span><span style=\"color: #24292e; font-weight: bold\">,</span>\n",
       "                    <span style=\"color: #d73a49; font-style: italic\">&quot;\\n- introduction of new pricing models, &quot;</span><span style=\"color: #24292e; font-weight: bold\">,</span>\n",
       "                    <span style=\"color: #d73a49; font-style: italic\">&quot;\\n- increased use of flat-rate fares, &quot;</span><span style=\"color: #24292e; font-weight: bold\">,</span>\n",
       "                    <span style=\"color: #d73a49; font-style: italic\">&quot;\\n- temporary subsidies or incentives, &quot;</span><span style=\"color: #24292e; font-weight: bold\">,</span>\n",
       "                    <span style=\"color: #d73a49; font-style: italic\">&quot;\\n- errors in fare calculation or reporting, &quot;</span><span style=\"color: #24292e; font-weight: bold\">,</span>\n",
       "                    <span style=\"color: #d73a49; font-style: italic\">&quot;\\n- increased prevalence of shorter trips, &quot;</span><span style=\"color: #24292e; font-weight: bold\">,</span>\n",
       "                    <span style=\"color: #d73a49; font-style: italic\">&quot;\\n- changes in trip patterns or routes, &quot;</span><span style=\"color: #24292e; font-weight: bold\">,</span>\n",
       "                    <span style=\"color: #d73a49; font-style: italic\">&quot;\\n- seasonal or event-driven demand shifts, &quot;</span><span style=\"color: #24292e; font-weight: bold\">,</span>\n",
       "                    <span style=\"color: #d73a49; font-style: italic\">&quot;\\n- increased competition driving down prices, &quot;</span><span style=\"color: #24292e; font-weight: bold\">,</span>\n",
       "                    <span style=\"color: #d73a49; font-style: italic\">&quot;\\n- operational adjustments to attract more riders.&quot;</span>\n",
       "                <span style=\"color: #24292e; font-weight: bold\">)</span>\n",
       "            <span style=\"color: #005cc5; font-weight: bold\">END</span> <span style=\"color: #005cc5; font-weight: bold\">AS</span> <span style=\"color: #22863a; font-weight: bold\">Metric_Insight</span>\n",
       "        <span style=\"color: #005cc5; font-weight: bold\">FROM</span> <span style=\"color: #24292e; font-weight: bold\">(</span>\n",
       "            <span style=\"color: #005cc5; font-weight: bold\">SELECT</span>\n",
       "                <span style=\"color: #22863a; font-weight: bold\">a</span><span style=\"color: #24292e; font-weight: bold\">.</span><span style=\"color: #e36209; font-weight: bold\">*</span><span style=\"color: #24292e; font-weight: bold\">,</span>\n",
       "                <span style=\"color: #22863a; font-weight: bold\">ROW_NUMBER</span><span style=\"color: #24292e; font-weight: bold\">()</span> <span style=\"color: #22863a; font-weight: bold\">OVER</span> <span style=\"color: #24292e; font-weight: bold\">(</span><span style=\"color: #22863a; font-weight: bold\">PARTITION</span> <span style=\"color: #005cc5; font-weight: bold\">BY</span> <span style=\"color: #22863a; font-weight: bold\">a</span><span style=\"color: #24292e; font-weight: bold\">.</span><span style=\"color: #22863a; font-weight: bold\">standardized_company</span> <span style=\"color: #005cc5; font-weight: bold\">ORDER</span> <span style=\"color: #005cc5; font-weight: bold\">BY</span> <span style=\"color: #22863a; font-weight: bold\">a</span><span style=\"color: #24292e; font-weight: bold\">.</span><span style=\"color: #22863a; font-weight: bold\">overall_rank</span> <span style=\"color: #005cc5; font-weight: bold\">ASC</span><span style=\"color: #24292e; font-weight: bold\">)</span> <span style=\"color: #005cc5; font-weight: bold\">AS</span> <span style=\"color: #22863a; font-weight: bold\">company_rank</span> <span style=\"color: #888888; font-style: italic\">-- Ensure uniqueness per company</span>\n",
       "            <span style=\"color: #005cc5; font-weight: bold\">FROM</span> <span style=\"color: #24292e; font-weight: bold\">(</span>\n",
       "                <span style=\"color: #005cc5; font-weight: bold\">SELECT</span>\n",
       "                    <span style=\"color: #22863a; font-weight: bold\">Metric_Description</span><span style=\"color: #24292e; font-weight: bold\">,</span>\n",
       "                    <span style=\"color: #22863a; font-weight: bold\">standardized_company</span><span style=\"color: #24292e; font-weight: bold\">,</span>\n",
       "                    <span style=\"color: #22863a; font-weight: bold\">company</span> <span style=\"color: #005cc5; font-weight: bold\">AS</span> <span style=\"color: #22863a; font-weight: bold\">Taxi_Company</span><span style=\"color: #24292e; font-weight: bold\">,</span>\n",
       "                    <span style=\"color: #22863a; font-weight: bold\">trip_month</span> <span style=\"color: #005cc5; font-weight: bold\">AS</span> <span style=\"color: #22863a; font-weight: bold\">Trip_Month</span><span style=\"color: #24292e; font-weight: bold\">,</span>\n",
       "                    <span style=\"color: #22863a; font-weight: bold\">metric</span> <span style=\"color: #005cc5; font-weight: bold\">AS</span> <span style=\"color: #22863a; font-weight: bold\">Mon_Metric_Val</span><span style=\"color: #24292e; font-weight: bold\">,</span>\n",
       "                    <span style=\"color: #22863a; font-weight: bold\">metric_delta</span> <span style=\"color: #005cc5; font-weight: bold\">AS</span> <span style=\"color: #22863a; font-weight: bold\">Metric_Delta</span><span style=\"color: #24292e; font-weight: bold\">,</span>\n",
       "                    <span style=\"color: #22863a; font-weight: bold\">Mon_Prior_Metric_Val</span><span style=\"color: #24292e; font-weight: bold\">,</span>\n",
       "                    <span style=\"color: #22863a; font-weight: bold\">Metric_Gross_Avg</span><span style=\"color: #24292e; font-weight: bold\">,</span> <span style=\"color: #888888; font-style: italic\">-- Include company average</span>\n",
       "                    <span style=\"color: #22863a; font-weight: bold\">Metric_Diff_From_Avg</span><span style=\"color: #24292e; font-weight: bold\">,</span> <span style=\"color: #888888; font-style: italic\">-- Include difference from average</span>\n",
       "                    <span style=\"color: #22863a; font-weight: bold\">Percent_Diff_From_Avg</span><span style=\"color: #24292e; font-weight: bold\">,</span> <span style=\"color: #888888; font-style: italic\">-- Include percentage difference from average</span>\n",
       "                    <span style=\"color: #22863a; font-weight: bold\">Metric_Mon_Pct_Chg</span><span style=\"color: #24292e; font-weight: bold\">,</span>\n",
       "                    <span style=\"color: #22863a; font-weight: bold\">Metric_Mon_Pct_Chg_Str</span><span style=\"color: #24292e; font-weight: bold\">,</span>\n",
       "                    <span style=\"color: #22863a; font-weight: bold\">ROW_NUMBER</span><span style=\"color: #24292e; font-weight: bold\">()</span> <span style=\"color: #22863a; font-weight: bold\">OVER</span> <span style=\"color: #24292e; font-weight: bold\">(</span><span style=\"color: #005cc5; font-weight: bold\">ORDER</span> <span style=\"color: #005cc5; font-weight: bold\">BY</span> <span style=\"color: #22863a; font-weight: bold\">metric_delta</span> <span style=\"color: #005cc5; font-weight: bold\">ASC</span><span style=\"color: #24292e; font-weight: bold\">)</span> <span style=\"color: #005cc5; font-weight: bold\">AS</span> <span style=\"color: #22863a; font-weight: bold\">overall_rank</span> <span style=\"color: #888888; font-style: italic\">-- Rank globally by largest decrease</span>\n",
       "                <span style=\"color: #005cc5; font-weight: bold\">FROM</span>\n",
       "                    <span style=\"color: #22863a; font-weight: bold\">MoM_FarePerMile_Decreases_Ranked</span>\n",
       "                <span style=\"color: #005cc5; font-weight: bold\">WHERE</span>\n",
       "                    <span style=\"color: #22863a; font-weight: bold\">rank</span> <span style=\"color: #e36209; font-weight: bold\">=</span> <span style=\"color: #6f42c1; font-weight: bold\">1</span> <span style=\"color: #888888; font-style: italic\">-- Only consider the top decrease for each company</span>\n",
       "            <span style=\"color: #24292e; font-weight: bold\">)</span> <span style=\"color: #22863a; font-weight: bold\">a</span>\n",
       "            <span style=\"color: #005cc5; font-weight: bold\">WHERE</span>\n",
       "                <span style=\"color: #22863a; font-weight: bold\">overall_rank</span> <span style=\"color: #e36209; font-weight: bold\">&lt;=</span> <span style=\"color: #6f42c1; font-weight: bold\">3</span> <span style=\"color: #888888; font-style: italic\">-- Limit to the top 3 decreases overall</span>\n",
       "        <span style=\"color: #24292e; font-weight: bold\">)</span> <span style=\"color: #22863a; font-weight: bold\">b</span>\n",
       "        <span style=\"color: #005cc5; font-weight: bold\">WHERE</span>\n",
       "            <span style=\"color: #22863a; font-weight: bold\">b</span><span style=\"color: #24292e; font-weight: bold\">.</span><span style=\"color: #22863a; font-weight: bold\">company_rank</span> <span style=\"color: #e36209; font-weight: bold\">=</span> <span style=\"color: #6f42c1; font-weight: bold\">1</span> <span style=\"color: #888888; font-style: italic\">-- Ensure each company appears only once</span>\n",
       "    <span style=\"color: #24292e; font-weight: bold\">)</span>\n",
       "<span style=\"color: #888888; font-style: italic\">-- Combine Insights</span>\n",
       "<span style=\"color: #005cc5; font-weight: bold\">SELECT</span> \n",
       "    <span style=\"color: #22863a; font-weight: bold\">Metric_Description</span><span style=\"color: #24292e; font-weight: bold\">,</span>\n",
       "    <span style=\"color: #22863a; font-weight: bold\">Taxi_Company</span><span style=\"color: #24292e; font-weight: bold\">,</span>\n",
       "    <span style=\"color: #22863a; font-weight: bold\">Trip_Month</span><span style=\"color: #24292e; font-weight: bold\">,</span>\n",
       "    <span style=\"color: #22863a; font-weight: bold\">Mon_Metric_Val</span><span style=\"color: #24292e; font-weight: bold\">,</span>\n",
       "    <span style=\"color: #22863a; font-weight: bold\">Metric_Delta</span><span style=\"color: #24292e; font-weight: bold\">,</span>\n",
       "    <span style=\"color: #22863a; font-weight: bold\">Mon_Prior_Metric_Val</span><span style=\"color: #24292e; font-weight: bold\">,</span>\n",
       "    <span style=\"color: #22863a; font-weight: bold\">ROUND</span><span style=\"color: #24292e; font-weight: bold\">(</span><span style=\"color: #22863a; font-weight: bold\">Metric_Gross_Avg</span><span style=\"color: #24292e; font-weight: bold\">,</span> <span style=\"color: #6f42c1; font-weight: bold\">2</span><span style=\"color: #24292e; font-weight: bold\">)</span> <span style=\"color: #005cc5; font-weight: bold\">AS</span> <span style=\"color: #22863a; font-weight: bold\">Metric_Gross_Avg</span><span style=\"color: #24292e; font-weight: bold\">,</span> <span style=\"color: #888888; font-style: italic\">-- Round to 2 decimals</span>\n",
       "    <span style=\"color: #22863a; font-weight: bold\">ROUND</span><span style=\"color: #24292e; font-weight: bold\">(</span><span style=\"color: #22863a; font-weight: bold\">Metric_Diff_From_Avg</span><span style=\"color: #24292e; font-weight: bold\">,</span> <span style=\"color: #6f42c1; font-weight: bold\">2</span><span style=\"color: #24292e; font-weight: bold\">)</span> <span style=\"color: #005cc5; font-weight: bold\">AS</span> <span style=\"color: #22863a; font-weight: bold\">Metric_Diff_From_Avg</span><span style=\"color: #24292e; font-weight: bold\">,</span> <span style=\"color: #888888; font-style: italic\">-- Round to 2 decimals</span>\n",
       "    <span style=\"color: #22863a; font-weight: bold\">ROUND</span><span style=\"color: #24292e; font-weight: bold\">(</span><span style=\"color: #22863a; font-weight: bold\">Percent_Diff_From_Avg</span><span style=\"color: #24292e; font-weight: bold\">,</span> <span style=\"color: #6f42c1; font-weight: bold\">2</span><span style=\"color: #24292e; font-weight: bold\">)</span> <span style=\"color: #005cc5; font-weight: bold\">AS</span> <span style=\"color: #22863a; font-weight: bold\">Percent_Diff_From_Avg</span><span style=\"color: #24292e; font-weight: bold\">,</span> <span style=\"color: #888888; font-style: italic\">-- Round to 2 decimals</span>\n",
       "    <span style=\"color: #22863a; font-weight: bold\">ROUND</span><span style=\"color: #24292e; font-weight: bold\">(</span><span style=\"color: #22863a; font-weight: bold\">Metric_Mon_Pct_Chg</span><span style=\"color: #24292e; font-weight: bold\">,</span> <span style=\"color: #6f42c1; font-weight: bold\">2</span><span style=\"color: #24292e; font-weight: bold\">)</span> <span style=\"color: #005cc5; font-weight: bold\">AS</span> <span style=\"color: #22863a; font-weight: bold\">Metric_Mon_Pct_Chg</span><span style=\"color: #24292e; font-weight: bold\">,</span> <span style=\"color: #888888; font-style: italic\">-- Round to 2 decimals</span>\n",
       "    <span style=\"color: #22863a; font-weight: bold\">Metric_Mon_Pct_Chg_Str</span><span style=\"color: #24292e; font-weight: bold\">,</span>\n",
       "    <span style=\"color: #22863a; font-weight: bold\">Metric_Insight</span>\n",
       "<span style=\"color: #005cc5; font-weight: bold\">FROM</span> <span style=\"color: #22863a; font-weight: bold\">Top_Trip_Increase_Insights</span>\n",
       "<span style=\"color: #005cc5; font-weight: bold\">UNION</span> <span style=\"color: #005cc5; font-weight: bold\">ALL</span>\n",
       "<span style=\"color: #005cc5; font-weight: bold\">SELECT</span> \n",
       "    <span style=\"color: #22863a; font-weight: bold\">Metric_Description</span><span style=\"color: #24292e; font-weight: bold\">,</span>\n",
       "    <span style=\"color: #22863a; font-weight: bold\">Taxi_Company</span><span style=\"color: #24292e; font-weight: bold\">,</span>\n",
       "    <span style=\"color: #22863a; font-weight: bold\">Trip_Month</span><span style=\"color: #24292e; font-weight: bold\">,</span>\n",
       "    <span style=\"color: #22863a; font-weight: bold\">Mon_Metric_Val</span><span style=\"color: #24292e; font-weight: bold\">,</span>\n",
       "    <span style=\"color: #22863a; font-weight: bold\">Metric_Delta</span><span style=\"color: #24292e; font-weight: bold\">,</span>\n",
       "    <span style=\"color: #22863a; font-weight: bold\">Mon_Prior_Metric_Val</span><span style=\"color: #24292e; font-weight: bold\">,</span>\n",
       "    <span style=\"color: #22863a; font-weight: bold\">ROUND</span><span style=\"color: #24292e; font-weight: bold\">(</span><span style=\"color: #22863a; font-weight: bold\">Metric_Gross_Avg</span><span style=\"color: #24292e; font-weight: bold\">,</span> <span style=\"color: #6f42c1; font-weight: bold\">2</span><span style=\"color: #24292e; font-weight: bold\">)</span> <span style=\"color: #005cc5; font-weight: bold\">AS</span> <span style=\"color: #22863a; font-weight: bold\">Metric_Gross_Avg</span><span style=\"color: #24292e; font-weight: bold\">,</span> <span style=\"color: #888888; font-style: italic\">-- Round to 2 decimals</span>\n",
       "    <span style=\"color: #22863a; font-weight: bold\">ROUND</span><span style=\"color: #24292e; font-weight: bold\">(</span><span style=\"color: #22863a; font-weight: bold\">Metric_Diff_From_Avg</span><span style=\"color: #24292e; font-weight: bold\">,</span> <span style=\"color: #6f42c1; font-weight: bold\">2</span><span style=\"color: #24292e; font-weight: bold\">)</span> <span style=\"color: #005cc5; font-weight: bold\">AS</span> <span style=\"color: #22863a; font-weight: bold\">Metric_Diff_From_Avg</span><span style=\"color: #24292e; font-weight: bold\">,</span> <span style=\"color: #888888; font-style: italic\">-- Round to 2 decimals</span>\n",
       "    <span style=\"color: #22863a; font-weight: bold\">ROUND</span><span style=\"color: #24292e; font-weight: bold\">(</span><span style=\"color: #22863a; font-weight: bold\">Percent_Diff_From_Avg</span><span style=\"color: #24292e; font-weight: bold\">,</span> <span style=\"color: #6f42c1; font-weight: bold\">2</span><span style=\"color: #24292e; font-weight: bold\">)</span> <span style=\"color: #005cc5; font-weight: bold\">AS</span> <span style=\"color: #22863a; font-weight: bold\">Percent_Diff_From_Avg</span><span style=\"color: #24292e; font-weight: bold\">,</span> <span style=\"color: #888888; font-style: italic\">-- Round to 2 decimals</span>\n",
       "    <span style=\"color: #22863a; font-weight: bold\">ROUND</span><span style=\"color: #24292e; font-weight: bold\">(</span><span style=\"color: #22863a; font-weight: bold\">Metric_Mon_Pct_Chg</span><span style=\"color: #24292e; font-weight: bold\">,</span> <span style=\"color: #6f42c1; font-weight: bold\">2</span><span style=\"color: #24292e; font-weight: bold\">)</span> <span style=\"color: #005cc5; font-weight: bold\">AS</span> <span style=\"color: #22863a; font-weight: bold\">Metric_Mon_Pct_Chg</span><span style=\"color: #24292e; font-weight: bold\">,</span> <span style=\"color: #888888; font-style: italic\">-- Round to 2 decimals</span>\n",
       "    <span style=\"color: #22863a; font-weight: bold\">Metric_Mon_Pct_Chg_Str</span><span style=\"color: #24292e; font-weight: bold\">,</span>\n",
       "    <span style=\"color: #22863a; font-weight: bold\">Metric_Insight</span>\n",
       "<span style=\"color: #005cc5; font-weight: bold\">FROM</span> <span style=\"color: #22863a; font-weight: bold\">Top_FarePerMile_Decrease_Insights</span>\n",
       "<span style=\"color: #005cc5; font-weight: bold\">ORDER</span> <span style=\"color: #005cc5; font-weight: bold\">BY</span> <span style=\"color: #22863a; font-weight: bold\">Metric_Description</span><span style=\"color: #24292e; font-weight: bold\">,</span> <span style=\"color: #22863a; font-weight: bold\">Trip_Month</span> <span style=\"color: #005cc5; font-weight: bold\">DESC</span><span style=\"color: #24292e; font-weight: bold\">;</span> <span style=\"color: #888888; font-style: italic\">-- Order by metric description and month in descending order</span>\n",
       "<span style=\"color: #888888; font-style: italic\">-- End of Query</span>\n",
       "</pre></div>\n"
      ],
      "text/plain": [
       "<IPython.core.display.HTML object>"
      ]
     },
     "metadata": {},
     "output_type": "display_data"
    }
   ],
   "source": [
    "from IPython.display import display, HTML\n",
    "import pygments\n",
    "from pygments.lexers import SqlLexer\n",
    "from pygments.formatters import HtmlFormatter\n",
    "from pygments.style import Style\n",
    "from pygments.token import Keyword, Name, Comment, String, Number, Operator, Punctuation\n",
    "\n",
    "# Define a custom Pygments style\n",
    "class CustomSQLStyle(Style):\n",
    "    default_style = \"\"\n",
    "    styles = {\n",
    "        Comment: \"italic #888888\",  # Gray for comments\n",
    "        Keyword: \"bold #005cc5\",  # Blue for keywords\n",
    "        Name: \"bold #22863a\",  # Green for names\n",
    "        String: \"italic #d73a49\",  # Red for strings\n",
    "        Number: \"bold #6f42c1\",  # Purple for numbers\n",
    "        Operator: \"bold #e36209\",  # Orange for operators\n",
    "        Punctuation: \"bold #24292e\",  # Black for punctuation\n",
    "    }\n",
    "\n",
    "# Highlight the SQL code using Pygments with the custom style\n",
    "formatter = HtmlFormatter(style=CustomSQLStyle, full=False, noclasses=True)\n",
    "highlighted_sql = pygments.highlight(sql_code, SqlLexer(), formatter)\n",
    "\n",
    "# Display the highlighted SQL code in the notebook\n",
    "display(HTML(highlighted_sql))"
   ]
  },
  {
   "cell_type": "code",
   "execution_count": 6,
   "id": "25ef62fa",
   "metadata": {},
   "outputs": [
    {
     "name": "stdout",
     "output_type": "stream",
     "text": [
      "Downloading: 100%|\u001b[32m██████████\u001b[0m|\n"
     ]
    }
   ],
   "source": [
    "import warnings\n",
    "from pandas_gbq.exceptions import LargeResultsWarning\n",
    "\n",
    "# Suppress the LargeResultsWarning\n",
    "warnings.simplefilter('ignore', category=LargeResultsWarning)\n",
    "\n",
    "# Import the pandas_gbq library\n",
    "import pandas_gbq\n",
    "\n",
    "# Define the SQL query\n",
    "query = sql_code\n",
    "\n",
    "# Read the data from BigQuery into a pandas DataFrame\n",
    "Insights_Part_I = pandas_gbq.read_gbq(query, project_id=credentials.project_id, credentials=credentials)\n",
    "\n",
    "# Display the first few rows of the dataframe\n",
    "# print(Insights_Part_I.head())\n"
   ]
  },
  {
   "cell_type": "markdown",
   "id": "417b3f3f",
   "metadata": {},
   "source": [
    "## ✔ Execute the Query"
   ]
  },
  {
   "cell_type": "code",
   "execution_count": 7,
   "id": "7439f1e3",
   "metadata": {},
   "outputs": [
    {
     "name": "stdout",
     "output_type": "stream",
     "text": [
      "Downloading: 100%|\u001b[32m██████████\u001b[0m|\n"
     ]
    }
   ],
   "source": [
    "import warnings\n",
    "from pandas_gbq.exceptions import LargeResultsWarning\n",
    "\n",
    "# Suppress the LargeResultsWarning\n",
    "warnings.simplefilter('ignore', category=LargeResultsWarning)\n",
    "\n",
    "# Import the pandas_gbq library\n",
    "import pandas_gbq\n",
    "\n",
    "# Define the SQL query\n",
    "query = sql_code\n",
    "\n",
    "# Read the data from BigQuery into a pandas DataFrame\n",
    "Insights_Part_I = pandas_gbq.read_gbq(query, project_id=credentials.project_id, credentials=credentials)\n",
    "\n",
    "# Display the first few rows of the dataframe\n",
    "# print(Insights_Part_I.head())\n"
   ]
  },
  {
   "cell_type": "markdown",
   "id": "9d62e282",
   "metadata": {},
   "source": [
    "## ✔ I.a. LARGEST MOM TRIP INCREASE\n",
    "Which three distinct taxi companies had the largest month-over-month increase in trips, and what were those months and trip amounts?"
   ]
  },
  {
   "cell_type": "markdown",
   "id": "3fcdd5da",
   "metadata": {},
   "source": [
    "### ✔ Read Metric to Frame"
   ]
  },
  {
   "cell_type": "code",
   "execution_count": 8,
   "id": "7005bc6f",
   "metadata": {},
   "outputs": [],
   "source": [
    "# Filter the DataFrame for I.a insights (Largest Month-Over-Month Increase in Trips)\n",
    "insights_ia = Insights_Part_I[Insights_Part_I['Metric_Description'] == 'I.a-Largest Month-Over-Month Increase in Trips']"
   ]
  },
  {
   "cell_type": "markdown",
   "id": "4ded458a",
   "metadata": {},
   "source": [
    "### ✔ Present as Table"
   ]
  },
  {
   "cell_type": "code",
   "execution_count": 9,
   "id": "c90328bc",
   "metadata": {},
   "outputs": [
    {
     "data": {
      "application/vnd.plotly.v1+json": {
       "config": {
        "plotlyServerURL": "https://plot.ly"
       },
       "data": [
        {
         "cells": {
          "align": "left",
          "fill": {
           "color": [
            [
             "white",
             "lightgrey",
             "white",
             "lightgrey"
            ]
           ]
          },
          "font": {
           "size": 11
          },
          "line": {
           "color": "black"
          },
          "values": [
           [
            "I.a-Largest Month-Over-Month Increase in Trips",
            "I.a-Largest Month-Over-Month Increase in Trips",
            "I.a-Largest Month-Over-Month Increase in Trips"
           ],
           [
            "2016-07",
            "2016-01",
            "2014-03"
           ],
           [
            "Chicago Carriage Cab Corp",
            "Flash Cab",
            "Taxi Affiliation Services"
           ],
           [
            "In Jul 2016, trips increased by 131,272 (370.9%) compared to the previous month.<br>The company's average monthly trips are 154,555. This month's trips are 12,108 trips (7.8%) above the company's average.<br>Potential reasons could include: <br>&nbsp;&nbsp;&nbsp;&nbsp;• seasonal changes, <br>&nbsp;&nbsp;&nbsp;&nbsp;• marketing campaigns, <br>&nbsp;&nbsp;&nbsp;&nbsp;• operational adjustments, <br>&nbsp;&nbsp;&nbsp;&nbsp;• increased demand due to events, <br>&nbsp;&nbsp;&nbsp;&nbsp;• improved service offerings, <br>&nbsp;&nbsp;&nbsp;&nbsp;• increased fleet size, <br>&nbsp;&nbsp;&nbsp;&nbsp;• acquisition or merger with former competitor.<br>",
            "In Jan 2016, trips increased by 276,654 (388.9%) compared to the previous month.<br>The company's average monthly trips are 188,728. This month's trips are 159,065 trips (84.3%) above the company's average.<br>Potential reasons could include: <br>&nbsp;&nbsp;&nbsp;&nbsp;• seasonal changes, <br>&nbsp;&nbsp;&nbsp;&nbsp;• marketing campaigns, <br>&nbsp;&nbsp;&nbsp;&nbsp;• operational adjustments, <br>&nbsp;&nbsp;&nbsp;&nbsp;• increased demand due to events, <br>&nbsp;&nbsp;&nbsp;&nbsp;• improved service offerings, <br>&nbsp;&nbsp;&nbsp;&nbsp;• increased fleet size, <br>&nbsp;&nbsp;&nbsp;&nbsp;• acquisition or merger with former competitor.<br>",
            "In Mar 2014, trips increased by 115,543 (15.5%) compared to the previous month.<br>The company's average monthly trips are 334,605. This month's trips are 524,224 trips (156.7%) above the company's average.<br>Potential reasons could include: <br>&nbsp;&nbsp;&nbsp;&nbsp;• seasonal changes, <br>&nbsp;&nbsp;&nbsp;&nbsp;• marketing campaigns, <br>&nbsp;&nbsp;&nbsp;&nbsp;• operational adjustments, <br>&nbsp;&nbsp;&nbsp;&nbsp;• increased demand due to events, <br>&nbsp;&nbsp;&nbsp;&nbsp;• improved service offerings, <br>&nbsp;&nbsp;&nbsp;&nbsp;• increased fleet size, <br>&nbsp;&nbsp;&nbsp;&nbsp;• acquisition or merger with former competitor.<br>"
           ]
          ]
         },
         "columnwidth": [
          2,
          1,
          1.5,
          5
         ],
         "header": {
          "align": "left",
          "fill": {
           "color": "grey"
          },
          "font": {
           "color": "black",
           "size": 12
          },
          "values": [
           "<b>Metric_Description</b>",
           "<b>Trip_Month</b>",
           "<b>Taxi_Company</b>",
           "<b>Metric_Insight</b>"
          ]
         },
         "type": "table"
        }
       ],
       "layout": {
        "annotations": [
         {
          "align": "center",
          "font": {
           "size": 16
          },
          "showarrow": false,
          "text": "<b>I.a-Largest Month-Over-Month Increase in Trips</b>",
          "x": 0.5,
          "xref": "paper",
          "y": 1.15,
          "yref": "paper"
         }
        ],
        "autosize": true,
        "height": 800,
        "margin": {
         "b": 10,
         "l": 10,
         "r": 10,
         "t": 50
        },
        "template": {
         "data": {
          "bar": [
           {
            "error_x": {
             "color": "#2a3f5f"
            },
            "error_y": {
             "color": "#2a3f5f"
            },
            "marker": {
             "line": {
              "color": "#E5ECF6",
              "width": 0.5
             },
             "pattern": {
              "fillmode": "overlay",
              "size": 10,
              "solidity": 0.2
             }
            },
            "type": "bar"
           }
          ],
          "barpolar": [
           {
            "marker": {
             "line": {
              "color": "#E5ECF6",
              "width": 0.5
             },
             "pattern": {
              "fillmode": "overlay",
              "size": 10,
              "solidity": 0.2
             }
            },
            "type": "barpolar"
           }
          ],
          "carpet": [
           {
            "aaxis": {
             "endlinecolor": "#2a3f5f",
             "gridcolor": "white",
             "linecolor": "white",
             "minorgridcolor": "white",
             "startlinecolor": "#2a3f5f"
            },
            "baxis": {
             "endlinecolor": "#2a3f5f",
             "gridcolor": "white",
             "linecolor": "white",
             "minorgridcolor": "white",
             "startlinecolor": "#2a3f5f"
            },
            "type": "carpet"
           }
          ],
          "choropleth": [
           {
            "colorbar": {
             "outlinewidth": 0,
             "ticks": ""
            },
            "type": "choropleth"
           }
          ],
          "contour": [
           {
            "colorbar": {
             "outlinewidth": 0,
             "ticks": ""
            },
            "colorscale": [
             [
              0,
              "#0d0887"
             ],
             [
              0.1111111111111111,
              "#46039f"
             ],
             [
              0.2222222222222222,
              "#7201a8"
             ],
             [
              0.3333333333333333,
              "#9c179e"
             ],
             [
              0.4444444444444444,
              "#bd3786"
             ],
             [
              0.5555555555555556,
              "#d8576b"
             ],
             [
              0.6666666666666666,
              "#ed7953"
             ],
             [
              0.7777777777777778,
              "#fb9f3a"
             ],
             [
              0.8888888888888888,
              "#fdca26"
             ],
             [
              1,
              "#f0f921"
             ]
            ],
            "type": "contour"
           }
          ],
          "contourcarpet": [
           {
            "colorbar": {
             "outlinewidth": 0,
             "ticks": ""
            },
            "type": "contourcarpet"
           }
          ],
          "heatmap": [
           {
            "colorbar": {
             "outlinewidth": 0,
             "ticks": ""
            },
            "colorscale": [
             [
              0,
              "#0d0887"
             ],
             [
              0.1111111111111111,
              "#46039f"
             ],
             [
              0.2222222222222222,
              "#7201a8"
             ],
             [
              0.3333333333333333,
              "#9c179e"
             ],
             [
              0.4444444444444444,
              "#bd3786"
             ],
             [
              0.5555555555555556,
              "#d8576b"
             ],
             [
              0.6666666666666666,
              "#ed7953"
             ],
             [
              0.7777777777777778,
              "#fb9f3a"
             ],
             [
              0.8888888888888888,
              "#fdca26"
             ],
             [
              1,
              "#f0f921"
             ]
            ],
            "type": "heatmap"
           }
          ],
          "histogram": [
           {
            "marker": {
             "pattern": {
              "fillmode": "overlay",
              "size": 10,
              "solidity": 0.2
             }
            },
            "type": "histogram"
           }
          ],
          "histogram2d": [
           {
            "colorbar": {
             "outlinewidth": 0,
             "ticks": ""
            },
            "colorscale": [
             [
              0,
              "#0d0887"
             ],
             [
              0.1111111111111111,
              "#46039f"
             ],
             [
              0.2222222222222222,
              "#7201a8"
             ],
             [
              0.3333333333333333,
              "#9c179e"
             ],
             [
              0.4444444444444444,
              "#bd3786"
             ],
             [
              0.5555555555555556,
              "#d8576b"
             ],
             [
              0.6666666666666666,
              "#ed7953"
             ],
             [
              0.7777777777777778,
              "#fb9f3a"
             ],
             [
              0.8888888888888888,
              "#fdca26"
             ],
             [
              1,
              "#f0f921"
             ]
            ],
            "type": "histogram2d"
           }
          ],
          "histogram2dcontour": [
           {
            "colorbar": {
             "outlinewidth": 0,
             "ticks": ""
            },
            "colorscale": [
             [
              0,
              "#0d0887"
             ],
             [
              0.1111111111111111,
              "#46039f"
             ],
             [
              0.2222222222222222,
              "#7201a8"
             ],
             [
              0.3333333333333333,
              "#9c179e"
             ],
             [
              0.4444444444444444,
              "#bd3786"
             ],
             [
              0.5555555555555556,
              "#d8576b"
             ],
             [
              0.6666666666666666,
              "#ed7953"
             ],
             [
              0.7777777777777778,
              "#fb9f3a"
             ],
             [
              0.8888888888888888,
              "#fdca26"
             ],
             [
              1,
              "#f0f921"
             ]
            ],
            "type": "histogram2dcontour"
           }
          ],
          "mesh3d": [
           {
            "colorbar": {
             "outlinewidth": 0,
             "ticks": ""
            },
            "type": "mesh3d"
           }
          ],
          "parcoords": [
           {
            "line": {
             "colorbar": {
              "outlinewidth": 0,
              "ticks": ""
             }
            },
            "type": "parcoords"
           }
          ],
          "pie": [
           {
            "automargin": true,
            "type": "pie"
           }
          ],
          "scatter": [
           {
            "fillpattern": {
             "fillmode": "overlay",
             "size": 10,
             "solidity": 0.2
            },
            "type": "scatter"
           }
          ],
          "scatter3d": [
           {
            "line": {
             "colorbar": {
              "outlinewidth": 0,
              "ticks": ""
             }
            },
            "marker": {
             "colorbar": {
              "outlinewidth": 0,
              "ticks": ""
             }
            },
            "type": "scatter3d"
           }
          ],
          "scattercarpet": [
           {
            "marker": {
             "colorbar": {
              "outlinewidth": 0,
              "ticks": ""
             }
            },
            "type": "scattercarpet"
           }
          ],
          "scattergeo": [
           {
            "marker": {
             "colorbar": {
              "outlinewidth": 0,
              "ticks": ""
             }
            },
            "type": "scattergeo"
           }
          ],
          "scattergl": [
           {
            "marker": {
             "colorbar": {
              "outlinewidth": 0,
              "ticks": ""
             }
            },
            "type": "scattergl"
           }
          ],
          "scattermap": [
           {
            "marker": {
             "colorbar": {
              "outlinewidth": 0,
              "ticks": ""
             }
            },
            "type": "scattermap"
           }
          ],
          "scattermapbox": [
           {
            "marker": {
             "colorbar": {
              "outlinewidth": 0,
              "ticks": ""
             }
            },
            "type": "scattermapbox"
           }
          ],
          "scatterpolar": [
           {
            "marker": {
             "colorbar": {
              "outlinewidth": 0,
              "ticks": ""
             }
            },
            "type": "scatterpolar"
           }
          ],
          "scatterpolargl": [
           {
            "marker": {
             "colorbar": {
              "outlinewidth": 0,
              "ticks": ""
             }
            },
            "type": "scatterpolargl"
           }
          ],
          "scatterternary": [
           {
            "marker": {
             "colorbar": {
              "outlinewidth": 0,
              "ticks": ""
             }
            },
            "type": "scatterternary"
           }
          ],
          "surface": [
           {
            "colorbar": {
             "outlinewidth": 0,
             "ticks": ""
            },
            "colorscale": [
             [
              0,
              "#0d0887"
             ],
             [
              0.1111111111111111,
              "#46039f"
             ],
             [
              0.2222222222222222,
              "#7201a8"
             ],
             [
              0.3333333333333333,
              "#9c179e"
             ],
             [
              0.4444444444444444,
              "#bd3786"
             ],
             [
              0.5555555555555556,
              "#d8576b"
             ],
             [
              0.6666666666666666,
              "#ed7953"
             ],
             [
              0.7777777777777778,
              "#fb9f3a"
             ],
             [
              0.8888888888888888,
              "#fdca26"
             ],
             [
              1,
              "#f0f921"
             ]
            ],
            "type": "surface"
           }
          ],
          "table": [
           {
            "cells": {
             "fill": {
              "color": "#EBF0F8"
             },
             "line": {
              "color": "white"
             }
            },
            "header": {
             "fill": {
              "color": "#C8D4E3"
             },
             "line": {
              "color": "white"
             }
            },
            "type": "table"
           }
          ]
         },
         "layout": {
          "annotationdefaults": {
           "arrowcolor": "#2a3f5f",
           "arrowhead": 0,
           "arrowwidth": 1
          },
          "autotypenumbers": "strict",
          "coloraxis": {
           "colorbar": {
            "outlinewidth": 0,
            "ticks": ""
           }
          },
          "colorscale": {
           "diverging": [
            [
             0,
             "#8e0152"
            ],
            [
             0.1,
             "#c51b7d"
            ],
            [
             0.2,
             "#de77ae"
            ],
            [
             0.3,
             "#f1b6da"
            ],
            [
             0.4,
             "#fde0ef"
            ],
            [
             0.5,
             "#f7f7f7"
            ],
            [
             0.6,
             "#e6f5d0"
            ],
            [
             0.7,
             "#b8e186"
            ],
            [
             0.8,
             "#7fbc41"
            ],
            [
             0.9,
             "#4d9221"
            ],
            [
             1,
             "#276419"
            ]
           ],
           "sequential": [
            [
             0,
             "#0d0887"
            ],
            [
             0.1111111111111111,
             "#46039f"
            ],
            [
             0.2222222222222222,
             "#7201a8"
            ],
            [
             0.3333333333333333,
             "#9c179e"
            ],
            [
             0.4444444444444444,
             "#bd3786"
            ],
            [
             0.5555555555555556,
             "#d8576b"
            ],
            [
             0.6666666666666666,
             "#ed7953"
            ],
            [
             0.7777777777777778,
             "#fb9f3a"
            ],
            [
             0.8888888888888888,
             "#fdca26"
            ],
            [
             1,
             "#f0f921"
            ]
           ],
           "sequentialminus": [
            [
             0,
             "#0d0887"
            ],
            [
             0.1111111111111111,
             "#46039f"
            ],
            [
             0.2222222222222222,
             "#7201a8"
            ],
            [
             0.3333333333333333,
             "#9c179e"
            ],
            [
             0.4444444444444444,
             "#bd3786"
            ],
            [
             0.5555555555555556,
             "#d8576b"
            ],
            [
             0.6666666666666666,
             "#ed7953"
            ],
            [
             0.7777777777777778,
             "#fb9f3a"
            ],
            [
             0.8888888888888888,
             "#fdca26"
            ],
            [
             1,
             "#f0f921"
            ]
           ]
          },
          "colorway": [
           "#636efa",
           "#EF553B",
           "#00cc96",
           "#ab63fa",
           "#FFA15A",
           "#19d3f3",
           "#FF6692",
           "#B6E880",
           "#FF97FF",
           "#FECB52"
          ],
          "font": {
           "color": "#2a3f5f"
          },
          "geo": {
           "bgcolor": "white",
           "lakecolor": "white",
           "landcolor": "#E5ECF6",
           "showlakes": true,
           "showland": true,
           "subunitcolor": "white"
          },
          "hoverlabel": {
           "align": "left"
          },
          "hovermode": "closest",
          "mapbox": {
           "style": "light"
          },
          "paper_bgcolor": "white",
          "plot_bgcolor": "#E5ECF6",
          "polar": {
           "angularaxis": {
            "gridcolor": "white",
            "linecolor": "white",
            "ticks": ""
           },
           "bgcolor": "#E5ECF6",
           "radialaxis": {
            "gridcolor": "white",
            "linecolor": "white",
            "ticks": ""
           }
          },
          "scene": {
           "xaxis": {
            "backgroundcolor": "#E5ECF6",
            "gridcolor": "white",
            "gridwidth": 2,
            "linecolor": "white",
            "showbackground": true,
            "ticks": "",
            "zerolinecolor": "white"
           },
           "yaxis": {
            "backgroundcolor": "#E5ECF6",
            "gridcolor": "white",
            "gridwidth": 2,
            "linecolor": "white",
            "showbackground": true,
            "ticks": "",
            "zerolinecolor": "white"
           },
           "zaxis": {
            "backgroundcolor": "#E5ECF6",
            "gridcolor": "white",
            "gridwidth": 2,
            "linecolor": "white",
            "showbackground": true,
            "ticks": "",
            "zerolinecolor": "white"
           }
          },
          "shapedefaults": {
           "line": {
            "color": "#2a3f5f"
           }
          },
          "ternary": {
           "aaxis": {
            "gridcolor": "white",
            "linecolor": "white",
            "ticks": ""
           },
           "baxis": {
            "gridcolor": "white",
            "linecolor": "white",
            "ticks": ""
           },
           "bgcolor": "#E5ECF6",
           "caxis": {
            "gridcolor": "white",
            "linecolor": "white",
            "ticks": ""
           }
          },
          "title": {
           "x": 0.05
          },
          "xaxis": {
           "automargin": true,
           "gridcolor": "white",
           "linecolor": "white",
           "ticks": "",
           "title": {
            "standoff": 15
           },
           "zerolinecolor": "white",
           "zerolinewidth": 2
          },
          "yaxis": {
           "automargin": true,
           "gridcolor": "white",
           "linecolor": "white",
           "ticks": "",
           "title": {
            "standoff": 15
           },
           "zerolinecolor": "white",
           "zerolinewidth": 2
          }
         }
        },
        "title": {
         "font": {
          "size": 16
         },
         "text": "<b>I.a-Largest Month-Over-Month Increase in Trips</b>",
         "x": 0.5,
         "xanchor": "center",
         "y": 0.97,
         "yanchor": "top"
        },
        "width": 1500
       }
      }
     },
     "metadata": {},
     "output_type": "display_data"
    }
   ],
   "source": [
    "from plotly import graph_objects as go  # Import the required module\n",
    "\n",
    "# Check if the required column exists in the DataFrame\n",
    "if 'Metric_Description' not in Insights_Part_I.columns:\n",
    "    raise KeyError(\"The 'Metric_Description' column is missing from the Insights_Part_I DataFrame. Please verify the column name.\")\n",
    "\n",
    "# Filter the data to include only rows with 'I.a' in the 'Metric_Description' column for trip increases\n",
    "filtered_data = insights_ia.copy()  # Use the pre-filtered DataFrame for I.a insights\n",
    "\n",
    "# Ensure the 'Metric_Insight' column exists in the DataFrame\n",
    "if 'Metric_Insight' not in filtered_data.columns:\n",
    "    filtered_data['Metric_Insight'] = ''  # Create an empty 'Metric_Insight' column if it doesn't exist\n",
    "\n",
    "# Use the reform_text function to process the 'Metric_Insight' column\n",
    "filtered_data['Metric_Insight'] = filtered_data['Metric_Insight'].apply(reformat_text)\n",
    "\n",
    "# Extract the Metric Description for the title\n",
    "metric_description_title = filtered_data['Metric_Description'].iloc[0]\n",
    "\n",
    "# Create an interactive table using Plotly with a title\n",
    "fig = go.Figure()\n",
    "\n",
    "# Add a title as an annotation\n",
    "fig.add_annotation(\n",
    "    text=f\"<b>{metric_description_title}</b>\",\n",
    "    xref=\"paper\", yref=\"paper\",\n",
    "    x=0.5, y=1.15,  # Position above the table\n",
    "    showarrow=False,\n",
    "    font=dict(size=16),\n",
    "    align=\"center\"\n",
    ")\n",
    "\n",
    "# Add the table to the figure\n",
    "fig.add_trace(go.Table(\n",
    "    header=dict(\n",
    "        values=['<b>Metric_Description</b>', '<b>Trip_Month</b>', '<b>Taxi_Company</b>', '<b>Metric_Insight</b>'],\n",
    "        fill_color='grey',\n",
    "        align='left',\n",
    "        font=dict(size=12, color='black')\n",
    "    ),\n",
    "    cells=dict(\n",
    "        values=[\n",
    "            filtered_data['Metric_Description'], \n",
    "            filtered_data['Trip_Month'], \n",
    "            filtered_data['Taxi_Company'], \n",
    "            filtered_data['Metric_Insight']\n",
    "        ],\n",
    "        fill_color=[['white', 'lightgrey'] * (len(filtered_data) // 2 + 1)],\n",
    "        align='left',\n",
    "        font=dict(size=11),\n",
    "        line=dict(color='black')\n",
    "    )\n",
    "))\n",
    "\n",
    "# Set column widths dynamically\n",
    "fig.data[0].columnwidth = [2, 1, 1.5, 5]  # Adjust column widths proportionally: Metric_Description, Trip_Month, Taxi_Company, Metric_Insight\n",
    "\n",
    "# Add a centered title above the table\n",
    "fig.update_layout(\n",
    "    title={\n",
    "        'text': f\"<b>{metric_description_title}</b>\",\n",
    "        'y': 0.97,  # Position the title above the table\n",
    "        'x': 0.5,   # Center the title\n",
    "        'xanchor': 'center',\n",
    "        'yanchor': 'top',\n",
    "        'font': dict(size=16)\n",
    "    },\n",
    "    autosize=True,\n",
    "    width=1500,  # Set a fixed width to accommodate all columns\n",
    "    height=800,  # Increase the height to reduce scrolling\n",
    "    margin=dict(l=10, r=10, t=50, b=10)  # Adjust margins for better spacing\n",
    ")\n",
    "\n",
    "# Display the interactive table\n",
    "fig.show()\n"
   ]
  },
  {
   "cell_type": "markdown",
   "id": "721e7eca",
   "metadata": {},
   "source": [
    "## I.b. LARGEST MOM FARE-PER-MILE DECREASE  "
   ]
  },
  {
   "cell_type": "markdown",
   "id": "cabfbece",
   "metadata": {},
   "source": [
    "### ✔ Read Metric to Frame"
   ]
  },
  {
   "cell_type": "code",
   "execution_count": 10,
   "id": "afe3123d",
   "metadata": {},
   "outputs": [],
   "source": [
    "# Filter the DataFrame for I.b insights (Largest Month-Over-Month Decrease in Fare Per Mile)\n",
    "insights_ib = Insights_Part_I[Insights_Part_I['Metric_Description'] == 'I.b-Largest Month-Over-Month Decrease in Fare Per Mile']"
   ]
  },
  {
   "cell_type": "markdown",
   "id": "7b30b032",
   "metadata": {},
   "source": [
    "### Present as Table"
   ]
  },
  {
   "cell_type": "code",
   "execution_count": 11,
   "id": "3d2de578",
   "metadata": {},
   "outputs": [
    {
     "data": {
      "application/vnd.plotly.v1+json": {
       "config": {
        "plotlyServerURL": "https://plot.ly"
       },
       "data": [
        {
         "cells": {
          "align": "left",
          "fill": {
           "color": [
            [
             "white",
             "lightgrey",
             "white",
             "lightgrey"
            ]
           ]
          },
          "font": {
           "size": 11
          },
          "line": {
           "color": "black"
          },
          "values": [
           [
            "I.b-Largest Month-Over-Month Decrease in Fare Per Mile",
            "I.b-Largest Month-Over-Month Decrease in Fare Per Mile",
            "I.b-Largest Month-Over-Month Decrease in Fare Per Mile"
           ],
           [
            "2021-08",
            "2020-08",
            "2016-04"
           ],
           [
            "Metro Jet Taxi A.",
            "Blue Ribbon Taxi Association Inc.",
            "4732 - Maude Lamy"
           ],
           [
            "In Aug 2021, fare per mile decreased by $50.08 (95.1%) compared to the previous month.<br>The company's average fare per mile is $9.44. This month's fare per mile is $6.83 (72.4%) below the company's average.<br>Potential reasons could include: <br>&nbsp;&nbsp;&nbsp;&nbsp;• promotional discounts or fare reductions, <br>&nbsp;&nbsp;&nbsp;&nbsp;• introduction of new pricing models, <br>&nbsp;&nbsp;&nbsp;&nbsp;• increased use of flat-rate fares, <br>&nbsp;&nbsp;&nbsp;&nbsp;• temporary subsidies or incentives, <br>&nbsp;&nbsp;&nbsp;&nbsp;• errors in fare calculation or reporting, <br>&nbsp;&nbsp;&nbsp;&nbsp;• increased prevalence of shorter trips, <br>&nbsp;&nbsp;&nbsp;&nbsp;• changes in trip patterns or routes, <br>&nbsp;&nbsp;&nbsp;&nbsp;• seasonal or event-driven demand shifts, <br>&nbsp;&nbsp;&nbsp;&nbsp;• increased competition driving down prices, <br>&nbsp;&nbsp;&nbsp;&nbsp;• operational adjustments to attract more riders.<br>",
            "In Aug 2020, fare per mile decreased by $25.25 (49.1%) compared to the previous month.<br>The company's average fare per mile is $29.74. This month's fare per mile is $3.59 (12.1%) below the company's average.<br>Potential reasons could include: <br>&nbsp;&nbsp;&nbsp;&nbsp;• promotional discounts or fare reductions, <br>&nbsp;&nbsp;&nbsp;&nbsp;• introduction of new pricing models, <br>&nbsp;&nbsp;&nbsp;&nbsp;• increased use of flat-rate fares, <br>&nbsp;&nbsp;&nbsp;&nbsp;• temporary subsidies or incentives, <br>&nbsp;&nbsp;&nbsp;&nbsp;• errors in fare calculation or reporting, <br>&nbsp;&nbsp;&nbsp;&nbsp;• increased prevalence of shorter trips, <br>&nbsp;&nbsp;&nbsp;&nbsp;• changes in trip patterns or routes, <br>&nbsp;&nbsp;&nbsp;&nbsp;• seasonal or event-driven demand shifts, <br>&nbsp;&nbsp;&nbsp;&nbsp;• increased competition driving down prices, <br>&nbsp;&nbsp;&nbsp;&nbsp;• operational adjustments to attract more riders.<br>",
            "In Apr 2016, fare per mile decreased by $29.30 (90.2%) compared to the previous month.<br>The company's average fare per mile is $10.55. This month's fare per mile is $7.35 (69.7%) below the company's average.<br>Potential reasons could include: <br>&nbsp;&nbsp;&nbsp;&nbsp;• promotional discounts or fare reductions, <br>&nbsp;&nbsp;&nbsp;&nbsp;• introduction of new pricing models, <br>&nbsp;&nbsp;&nbsp;&nbsp;• increased use of flat-rate fares, <br>&nbsp;&nbsp;&nbsp;&nbsp;• temporary subsidies or incentives, <br>&nbsp;&nbsp;&nbsp;&nbsp;• errors in fare calculation or reporting, <br>&nbsp;&nbsp;&nbsp;&nbsp;• increased prevalence of shorter trips, <br>&nbsp;&nbsp;&nbsp;&nbsp;• changes in trip patterns or routes, <br>&nbsp;&nbsp;&nbsp;&nbsp;• seasonal or event-driven demand shifts, <br>&nbsp;&nbsp;&nbsp;&nbsp;• increased competition driving down prices, <br>&nbsp;&nbsp;&nbsp;&nbsp;• operational adjustments to attract more riders.<br>"
           ]
          ]
         },
         "columnwidth": [
          2,
          1,
          1.5,
          5
         ],
         "header": {
          "align": "left",
          "fill": {
           "color": "grey"
          },
          "font": {
           "color": "black",
           "size": 12
          },
          "values": [
           "<b>Metric_Description</b>",
           "<b>Trip_Month</b>",
           "<b>Taxi_Company</b>",
           "<b>Metric_Insight</b>"
          ]
         },
         "type": "table"
        }
       ],
       "layout": {
        "annotations": [
         {
          "align": "center",
          "font": {
           "size": 16
          },
          "showarrow": false,
          "text": "<b>I.b-Largest Month-Over-Month Decrease in Fare Per Mile</b>",
          "x": 0.5,
          "xref": "paper",
          "y": 1.15,
          "yref": "paper"
         }
        ],
        "autosize": true,
        "height": 800,
        "margin": {
         "b": 10,
         "l": 10,
         "r": 10,
         "t": 50
        },
        "template": {
         "data": {
          "bar": [
           {
            "error_x": {
             "color": "#2a3f5f"
            },
            "error_y": {
             "color": "#2a3f5f"
            },
            "marker": {
             "line": {
              "color": "#E5ECF6",
              "width": 0.5
             },
             "pattern": {
              "fillmode": "overlay",
              "size": 10,
              "solidity": 0.2
             }
            },
            "type": "bar"
           }
          ],
          "barpolar": [
           {
            "marker": {
             "line": {
              "color": "#E5ECF6",
              "width": 0.5
             },
             "pattern": {
              "fillmode": "overlay",
              "size": 10,
              "solidity": 0.2
             }
            },
            "type": "barpolar"
           }
          ],
          "carpet": [
           {
            "aaxis": {
             "endlinecolor": "#2a3f5f",
             "gridcolor": "white",
             "linecolor": "white",
             "minorgridcolor": "white",
             "startlinecolor": "#2a3f5f"
            },
            "baxis": {
             "endlinecolor": "#2a3f5f",
             "gridcolor": "white",
             "linecolor": "white",
             "minorgridcolor": "white",
             "startlinecolor": "#2a3f5f"
            },
            "type": "carpet"
           }
          ],
          "choropleth": [
           {
            "colorbar": {
             "outlinewidth": 0,
             "ticks": ""
            },
            "type": "choropleth"
           }
          ],
          "contour": [
           {
            "colorbar": {
             "outlinewidth": 0,
             "ticks": ""
            },
            "colorscale": [
             [
              0,
              "#0d0887"
             ],
             [
              0.1111111111111111,
              "#46039f"
             ],
             [
              0.2222222222222222,
              "#7201a8"
             ],
             [
              0.3333333333333333,
              "#9c179e"
             ],
             [
              0.4444444444444444,
              "#bd3786"
             ],
             [
              0.5555555555555556,
              "#d8576b"
             ],
             [
              0.6666666666666666,
              "#ed7953"
             ],
             [
              0.7777777777777778,
              "#fb9f3a"
             ],
             [
              0.8888888888888888,
              "#fdca26"
             ],
             [
              1,
              "#f0f921"
             ]
            ],
            "type": "contour"
           }
          ],
          "contourcarpet": [
           {
            "colorbar": {
             "outlinewidth": 0,
             "ticks": ""
            },
            "type": "contourcarpet"
           }
          ],
          "heatmap": [
           {
            "colorbar": {
             "outlinewidth": 0,
             "ticks": ""
            },
            "colorscale": [
             [
              0,
              "#0d0887"
             ],
             [
              0.1111111111111111,
              "#46039f"
             ],
             [
              0.2222222222222222,
              "#7201a8"
             ],
             [
              0.3333333333333333,
              "#9c179e"
             ],
             [
              0.4444444444444444,
              "#bd3786"
             ],
             [
              0.5555555555555556,
              "#d8576b"
             ],
             [
              0.6666666666666666,
              "#ed7953"
             ],
             [
              0.7777777777777778,
              "#fb9f3a"
             ],
             [
              0.8888888888888888,
              "#fdca26"
             ],
             [
              1,
              "#f0f921"
             ]
            ],
            "type": "heatmap"
           }
          ],
          "histogram": [
           {
            "marker": {
             "pattern": {
              "fillmode": "overlay",
              "size": 10,
              "solidity": 0.2
             }
            },
            "type": "histogram"
           }
          ],
          "histogram2d": [
           {
            "colorbar": {
             "outlinewidth": 0,
             "ticks": ""
            },
            "colorscale": [
             [
              0,
              "#0d0887"
             ],
             [
              0.1111111111111111,
              "#46039f"
             ],
             [
              0.2222222222222222,
              "#7201a8"
             ],
             [
              0.3333333333333333,
              "#9c179e"
             ],
             [
              0.4444444444444444,
              "#bd3786"
             ],
             [
              0.5555555555555556,
              "#d8576b"
             ],
             [
              0.6666666666666666,
              "#ed7953"
             ],
             [
              0.7777777777777778,
              "#fb9f3a"
             ],
             [
              0.8888888888888888,
              "#fdca26"
             ],
             [
              1,
              "#f0f921"
             ]
            ],
            "type": "histogram2d"
           }
          ],
          "histogram2dcontour": [
           {
            "colorbar": {
             "outlinewidth": 0,
             "ticks": ""
            },
            "colorscale": [
             [
              0,
              "#0d0887"
             ],
             [
              0.1111111111111111,
              "#46039f"
             ],
             [
              0.2222222222222222,
              "#7201a8"
             ],
             [
              0.3333333333333333,
              "#9c179e"
             ],
             [
              0.4444444444444444,
              "#bd3786"
             ],
             [
              0.5555555555555556,
              "#d8576b"
             ],
             [
              0.6666666666666666,
              "#ed7953"
             ],
             [
              0.7777777777777778,
              "#fb9f3a"
             ],
             [
              0.8888888888888888,
              "#fdca26"
             ],
             [
              1,
              "#f0f921"
             ]
            ],
            "type": "histogram2dcontour"
           }
          ],
          "mesh3d": [
           {
            "colorbar": {
             "outlinewidth": 0,
             "ticks": ""
            },
            "type": "mesh3d"
           }
          ],
          "parcoords": [
           {
            "line": {
             "colorbar": {
              "outlinewidth": 0,
              "ticks": ""
             }
            },
            "type": "parcoords"
           }
          ],
          "pie": [
           {
            "automargin": true,
            "type": "pie"
           }
          ],
          "scatter": [
           {
            "fillpattern": {
             "fillmode": "overlay",
             "size": 10,
             "solidity": 0.2
            },
            "type": "scatter"
           }
          ],
          "scatter3d": [
           {
            "line": {
             "colorbar": {
              "outlinewidth": 0,
              "ticks": ""
             }
            },
            "marker": {
             "colorbar": {
              "outlinewidth": 0,
              "ticks": ""
             }
            },
            "type": "scatter3d"
           }
          ],
          "scattercarpet": [
           {
            "marker": {
             "colorbar": {
              "outlinewidth": 0,
              "ticks": ""
             }
            },
            "type": "scattercarpet"
           }
          ],
          "scattergeo": [
           {
            "marker": {
             "colorbar": {
              "outlinewidth": 0,
              "ticks": ""
             }
            },
            "type": "scattergeo"
           }
          ],
          "scattergl": [
           {
            "marker": {
             "colorbar": {
              "outlinewidth": 0,
              "ticks": ""
             }
            },
            "type": "scattergl"
           }
          ],
          "scattermap": [
           {
            "marker": {
             "colorbar": {
              "outlinewidth": 0,
              "ticks": ""
             }
            },
            "type": "scattermap"
           }
          ],
          "scattermapbox": [
           {
            "marker": {
             "colorbar": {
              "outlinewidth": 0,
              "ticks": ""
             }
            },
            "type": "scattermapbox"
           }
          ],
          "scatterpolar": [
           {
            "marker": {
             "colorbar": {
              "outlinewidth": 0,
              "ticks": ""
             }
            },
            "type": "scatterpolar"
           }
          ],
          "scatterpolargl": [
           {
            "marker": {
             "colorbar": {
              "outlinewidth": 0,
              "ticks": ""
             }
            },
            "type": "scatterpolargl"
           }
          ],
          "scatterternary": [
           {
            "marker": {
             "colorbar": {
              "outlinewidth": 0,
              "ticks": ""
             }
            },
            "type": "scatterternary"
           }
          ],
          "surface": [
           {
            "colorbar": {
             "outlinewidth": 0,
             "ticks": ""
            },
            "colorscale": [
             [
              0,
              "#0d0887"
             ],
             [
              0.1111111111111111,
              "#46039f"
             ],
             [
              0.2222222222222222,
              "#7201a8"
             ],
             [
              0.3333333333333333,
              "#9c179e"
             ],
             [
              0.4444444444444444,
              "#bd3786"
             ],
             [
              0.5555555555555556,
              "#d8576b"
             ],
             [
              0.6666666666666666,
              "#ed7953"
             ],
             [
              0.7777777777777778,
              "#fb9f3a"
             ],
             [
              0.8888888888888888,
              "#fdca26"
             ],
             [
              1,
              "#f0f921"
             ]
            ],
            "type": "surface"
           }
          ],
          "table": [
           {
            "cells": {
             "fill": {
              "color": "#EBF0F8"
             },
             "line": {
              "color": "white"
             }
            },
            "header": {
             "fill": {
              "color": "#C8D4E3"
             },
             "line": {
              "color": "white"
             }
            },
            "type": "table"
           }
          ]
         },
         "layout": {
          "annotationdefaults": {
           "arrowcolor": "#2a3f5f",
           "arrowhead": 0,
           "arrowwidth": 1
          },
          "autotypenumbers": "strict",
          "coloraxis": {
           "colorbar": {
            "outlinewidth": 0,
            "ticks": ""
           }
          },
          "colorscale": {
           "diverging": [
            [
             0,
             "#8e0152"
            ],
            [
             0.1,
             "#c51b7d"
            ],
            [
             0.2,
             "#de77ae"
            ],
            [
             0.3,
             "#f1b6da"
            ],
            [
             0.4,
             "#fde0ef"
            ],
            [
             0.5,
             "#f7f7f7"
            ],
            [
             0.6,
             "#e6f5d0"
            ],
            [
             0.7,
             "#b8e186"
            ],
            [
             0.8,
             "#7fbc41"
            ],
            [
             0.9,
             "#4d9221"
            ],
            [
             1,
             "#276419"
            ]
           ],
           "sequential": [
            [
             0,
             "#0d0887"
            ],
            [
             0.1111111111111111,
             "#46039f"
            ],
            [
             0.2222222222222222,
             "#7201a8"
            ],
            [
             0.3333333333333333,
             "#9c179e"
            ],
            [
             0.4444444444444444,
             "#bd3786"
            ],
            [
             0.5555555555555556,
             "#d8576b"
            ],
            [
             0.6666666666666666,
             "#ed7953"
            ],
            [
             0.7777777777777778,
             "#fb9f3a"
            ],
            [
             0.8888888888888888,
             "#fdca26"
            ],
            [
             1,
             "#f0f921"
            ]
           ],
           "sequentialminus": [
            [
             0,
             "#0d0887"
            ],
            [
             0.1111111111111111,
             "#46039f"
            ],
            [
             0.2222222222222222,
             "#7201a8"
            ],
            [
             0.3333333333333333,
             "#9c179e"
            ],
            [
             0.4444444444444444,
             "#bd3786"
            ],
            [
             0.5555555555555556,
             "#d8576b"
            ],
            [
             0.6666666666666666,
             "#ed7953"
            ],
            [
             0.7777777777777778,
             "#fb9f3a"
            ],
            [
             0.8888888888888888,
             "#fdca26"
            ],
            [
             1,
             "#f0f921"
            ]
           ]
          },
          "colorway": [
           "#636efa",
           "#EF553B",
           "#00cc96",
           "#ab63fa",
           "#FFA15A",
           "#19d3f3",
           "#FF6692",
           "#B6E880",
           "#FF97FF",
           "#FECB52"
          ],
          "font": {
           "color": "#2a3f5f"
          },
          "geo": {
           "bgcolor": "white",
           "lakecolor": "white",
           "landcolor": "#E5ECF6",
           "showlakes": true,
           "showland": true,
           "subunitcolor": "white"
          },
          "hoverlabel": {
           "align": "left"
          },
          "hovermode": "closest",
          "mapbox": {
           "style": "light"
          },
          "paper_bgcolor": "white",
          "plot_bgcolor": "#E5ECF6",
          "polar": {
           "angularaxis": {
            "gridcolor": "white",
            "linecolor": "white",
            "ticks": ""
           },
           "bgcolor": "#E5ECF6",
           "radialaxis": {
            "gridcolor": "white",
            "linecolor": "white",
            "ticks": ""
           }
          },
          "scene": {
           "xaxis": {
            "backgroundcolor": "#E5ECF6",
            "gridcolor": "white",
            "gridwidth": 2,
            "linecolor": "white",
            "showbackground": true,
            "ticks": "",
            "zerolinecolor": "white"
           },
           "yaxis": {
            "backgroundcolor": "#E5ECF6",
            "gridcolor": "white",
            "gridwidth": 2,
            "linecolor": "white",
            "showbackground": true,
            "ticks": "",
            "zerolinecolor": "white"
           },
           "zaxis": {
            "backgroundcolor": "#E5ECF6",
            "gridcolor": "white",
            "gridwidth": 2,
            "linecolor": "white",
            "showbackground": true,
            "ticks": "",
            "zerolinecolor": "white"
           }
          },
          "shapedefaults": {
           "line": {
            "color": "#2a3f5f"
           }
          },
          "ternary": {
           "aaxis": {
            "gridcolor": "white",
            "linecolor": "white",
            "ticks": ""
           },
           "baxis": {
            "gridcolor": "white",
            "linecolor": "white",
            "ticks": ""
           },
           "bgcolor": "#E5ECF6",
           "caxis": {
            "gridcolor": "white",
            "linecolor": "white",
            "ticks": ""
           }
          },
          "title": {
           "x": 0.05
          },
          "xaxis": {
           "automargin": true,
           "gridcolor": "white",
           "linecolor": "white",
           "ticks": "",
           "title": {
            "standoff": 15
           },
           "zerolinecolor": "white",
           "zerolinewidth": 2
          },
          "yaxis": {
           "automargin": true,
           "gridcolor": "white",
           "linecolor": "white",
           "ticks": "",
           "title": {
            "standoff": 15
           },
           "zerolinecolor": "white",
           "zerolinewidth": 2
          }
         }
        },
        "title": {
         "font": {
          "size": 16
         },
         "text": "<b>I.b-Largest Month-Over-Month Decrease in Fare Per Mile</b>",
         "x": 0.5,
         "xanchor": "center",
         "y": 0.97,
         "yanchor": "top"
        },
        "width": 1500
       }
      }
     },
     "metadata": {},
     "output_type": "display_data"
    }
   ],
   "source": [
    "from plotly import graph_objects as go  # Import the required module\n",
    "\n",
    "# Check if the required column exists in the DataFrame\n",
    "if 'Metric_Description' not in Insights_Part_I.columns:\n",
    "    raise KeyError(\"The 'Metric_Description' column is missing from the Insights_Part_I DataFrame. Please verify the column name.\")\n",
    "\n",
    "# Filter the data to include only rows with 'I.b' in the 'Metric_Description' column for fare-per-mile decreases\n",
    "filtered_data_ib = insights_ib.copy()  # Use the pre-filtered DataFrame for I.b insights\n",
    "\n",
    "# Ensure the 'Metric_Insight' column exists in the DataFrame\n",
    "if 'Metric_Insight' not in filtered_data_ib.columns:\n",
    "    filtered_data_ib['Metric_Insight'] = ''  # Create an empty 'Metric_Insight' column if it doesn't exist\n",
    "\n",
    "# Use the reform_text function to process the 'Metric_Insight' column\n",
    "filtered_data_ib['Metric_Insight'] = filtered_data_ib['Metric_Insight'].apply(reformat_text)\n",
    "\n",
    "# Extract the Metric Description for the title\n",
    "metric_description_title_ib = filtered_data_ib['Metric_Description'].iloc[0]\n",
    "\n",
    "# Create an interactive table using Plotly with a title\n",
    "fig_ib = go.Figure()\n",
    "\n",
    "# Add a title as an annotation\n",
    "fig_ib.add_annotation(\n",
    "    text=f\"<b>{metric_description_title_ib}</b>\",\n",
    "    xref=\"paper\", yref=\"paper\",\n",
    "    x=0.5, y=1.15,  # Position above the table\n",
    "    showarrow=False,\n",
    "    font=dict(size=16),\n",
    "    align=\"center\"\n",
    ")\n",
    "\n",
    "# Add the table to the figure\n",
    "fig_ib.add_trace(go.Table(\n",
    "    header=dict(\n",
    "        values=['<b>Metric_Description</b>', '<b>Trip_Month</b>', '<b>Taxi_Company</b>', '<b>Metric_Insight</b>'],\n",
    "        fill_color='grey',\n",
    "        align='left',\n",
    "        font=dict(size=12, color='black')\n",
    "    ),\n",
    "    cells=dict(\n",
    "        values=[\n",
    "            filtered_data_ib['Metric_Description'], \n",
    "            filtered_data_ib['Trip_Month'], \n",
    "            filtered_data_ib['Taxi_Company'], \n",
    "            filtered_data_ib['Metric_Insight']\n",
    "        ],\n",
    "        fill_color=[['white', 'lightgrey'] * (len(filtered_data_ib) // 2 + 1)],\n",
    "        align='left',\n",
    "        font=dict(size=11),\n",
    "        line=dict(color='black')\n",
    "    )\n",
    "))\n",
    "\n",
    "# Set column widths dynamically\n",
    "fig_ib.data[0].columnwidth = [2, 1, 1.5, 5]  # Adjust column widths proportionally: Metric_Description, Trip_Month, Taxi_Company, Metric_Insight\n",
    "\n",
    "# Add a centered title above the table\n",
    "fig_ib.update_layout(\n",
    "    title={\n",
    "        'text': f\"<b>{metric_description_title_ib}</b>\",\n",
    "        'y': 0.97,  # Position the title above the table\n",
    "        'x': 0.5,   # Center the title\n",
    "        'xanchor': 'center',\n",
    "        'yanchor': 'top',\n",
    "        'font': dict(size=16)\n",
    "    },\n",
    "    autosize=True,\n",
    "    width=1500,  # Set a fixed width to accommodate all columns\n",
    "    height=800,  # Increase the height to reduce scrolling\n",
    "    margin=dict(l=10, r=10, t=50, b=10)  # Adjust margins for better spacing\n",
    ")\n",
    "\n",
    "# Display the interactive table\n",
    "fig_ib.show()"
   ]
  },
  {
   "cell_type": "markdown",
   "id": "215333b3",
   "metadata": {},
   "source": [
    "## 2. Executive Summary/Report of Findings\n",
    "Submit an executive summary/report of your findings, clearly answering the questions above."
   ]
  },
  {
   "cell_type": "markdown",
   "id": "ce20a4db",
   "metadata": {},
   "source": [
    "# PART II\n",
    "This portion of the assignment gives our candidates creative freedom to look at this data set in any way they want.\n",
    "There are no tricks here. This is simply meant to allow us to understand their ability to unearth insights and leverage visualizations to tell a story."
   ]
  },
  {
   "cell_type": "markdown",
   "id": "aa657f3c",
   "metadata": {},
   "source": [
    "## Additional Analysis Same Dataset\n",
    "Considering the context of the questions from part I, conduct an additional analysis using the same dataset and design a report that provides at least one additional insight, a trend or any other relevant detail that piques your interest.\n",
    "\n",
    "This report should:\n",
    "\n",
    "a. Clearly explain the value or potential use of that observation for someone who is interested in the answers to the questions above.  \n",
    "\n",
    "b. Include at least one visualization.  \n",
    "\n",
    "If you have any questions regarding the assignment please contact Noam Berns\n",
    "noam.berns@ourbranch.com, Austin McCleary austin.mccleary@ourbranch.com and Carson\n",
    "Wilshire at carson.wilshire@ourbranch.com\n",
    "Please email your final submission to your Branch recruiter and cc the above three managers."
   ]
  },
  {
   "cell_type": "markdown",
   "id": "b2c02fda",
   "metadata": {},
   "source": [
    "### ✔ Load & Show Query"
   ]
  },
  {
   "cell_type": "markdown",
   "id": "1e99aedc",
   "metadata": {},
   "source": [
    "#### Some Info About the Dataset\n",
    "This query analyzes Chicago taxi trip data by aggregating and joining it with geographic information. \n",
    "    It calculates various metrics such as average speed, revenue, and trip density, and includes window functions \n",
    "    to rank and compare performance across cities and companies."
   ]
  },
  {
   "cell_type": "code",
   "execution_count": 12,
   "id": "feb8e201",
   "metadata": {},
   "outputs": [
    {
     "name": "stdout",
     "output_type": "stream",
     "text": [
      "SQL code loaded successfully.\n"
     ]
    }
   ],
   "source": [
    "# Define the path to the SQL file\n",
    "# Dynamically construct the absolute path to the SQL file\n",
    "sql_file_path = os.path.abspath(os.path.join('C:\\\\Users\\\\mike\\\\Develop\\\\Projects\\\\Code Notebook\\\\Datasets\\\\Chicago Taxi Trips', 'Chi_Taxi_Trip_Insights_Branch_Part_III.bqsql'))\n",
    "\n",
    "# Check if the file exists and load the SQL code into a variable\n",
    "if os.path.exists(sql_file_path):\n",
    "    with open(sql_file_path, 'r') as sql_file:\n",
    "        sql_code = sql_file.read()\n",
    "    print(\"SQL code loaded successfully.\")\n",
    "else:\n",
    "    print(f\"File not found: {sql_file_path}\")"
   ]
  },
  {
   "cell_type": "code",
   "execution_count": 13,
   "id": "721034d6",
   "metadata": {},
   "outputs": [
    {
     "data": {
      "text/html": [
       "<div class=\"highlight\" style=\"background: #ffffff\"><pre style=\"line-height: 125%;\"><span></span><span style=\"color: #888888; font-style: italic\">/* </span>\n",
       "<span style=\"color: #888888; font-style: italic\">        AI Generated:</span>\n",
       "<span style=\"color: #888888; font-style: italic\">        This query analyzes Chicago taxi trip data by aggregating and joining it with geographic information. </span>\n",
       "<span style=\"color: #888888; font-style: italic\">        It calculates various metrics such as average speed, revenue, and trip density, and includes window functions </span>\n",
       "<span style=\"color: #888888; font-style: italic\">        to rank and compare performance across cities and companies. The query is optimized for readability and performance.</span>\n",
       "\n",
       "<span style=\"color: #888888; font-style: italic\">        Output Columns:</span>\n",
       "<span style=\"color: #888888; font-style: italic\">        1. trip_id: Unique identifier for each taxi trip.</span>\n",
       "<span style=\"color: #888888; font-style: italic\">        2. pickup_datetime: The timestamp when the trip started.</span>\n",
       "<span style=\"color: #888888; font-style: italic\">        3. dropoff_datetime: The timestamp when the trip ended.</span>\n",
       "<span style=\"color: #888888; font-style: italic\">        4. trip_duration_minutes: Duration of the trip in minutes, calculated from pickup and dropoff times.</span>\n",
       "<span style=\"color: #888888; font-style: italic\">        5. trip_distance_miles: Distance of the trip in miles.</span>\n",
       "<span style=\"color: #888888; font-style: italic\">        6. average_speed_mph: Average speed of the trip in miles per hour, derived from distance and duration.</span>\n",
       "<span style=\"color: #888888; font-style: italic\">        7. total_fare: Total fare collected for the trip.</span>\n",
       "<span style=\"color: #888888; font-style: italic\">        8. trip_city: The city where the trip occurred, derived from geographic data.</span>\n",
       "<span style=\"color: #888888; font-style: italic\">        9. company_name: The taxi company providing the service.</span>\n",
       "<span style=\"color: #888888; font-style: italic\">        10. trip_density: Number of trips per square mile in the city, indicating trip concentration.</span>\n",
       "<span style=\"color: #888888; font-style: italic\">        11. revenue_per_mile: Revenue generated per mile for the trip.</span>\n",
       "<span style=\"color: #888888; font-style: italic\">        12. city_rank: Rank of the city based on trip density, using a window function.</span>\n",
       "<span style=\"color: #888888; font-style: italic\">        13. company_rank: Rank of the taxi company based on total revenue, using a window function.</span>\n",
       "\n",
       "<span style=\"color: #888888; font-style: italic\">        Insights Offered:</span>\n",
       "<span style=\"color: #888888; font-style: italic\">        - Average speed and trip duration provide insights into traffic conditions and trip efficiency.</span>\n",
       "<span style=\"color: #888888; font-style: italic\">        - Revenue metrics help evaluate the financial performance of trips and companies.</span>\n",
       "<span style=\"color: #888888; font-style: italic\">        - Trip density highlights areas with high taxi demand, useful for resource allocation.</span>\n",
       "<span style=\"color: #888888; font-style: italic\">        - City and company rankings enable comparative analysis across geographic and organizational dimensions.</span>\n",
       "\n",
       "<span style=\"color: #888888; font-style: italic\">        Sections:</span>\n",
       "<span style=\"color: #888888; font-style: italic\">        1. Taxi_Trips: Filters and prepares the raw taxi trip data.</span>\n",
       "<span style=\"color: #888888; font-style: italic\">        2. Trip_City_Pop: Joins taxi trips with geographic data and filters out invalid rows.</span>\n",
       "<span style=\"color: #888888; font-style: italic\">        3. Final SELECT: Aggregates data, calculates metrics, and applies window functions for analysis.</span>\n",
       "<span style=\"color: #888888; font-style: italic\">*/</span>\n",
       "\n",
       "<span style=\"color: #e36209; font-weight: bold\">#</span> <span style=\"color: #005cc5; font-weight: bold\">CREATE</span> <span style=\"color: #005cc5; font-weight: bold\">OR</span> <span style=\"color: #005cc5; font-weight: bold\">REPLACE</span> <span style=\"color: #005cc5; font-weight: bold\">TABLE</span> <span style=\"color: #e36209; font-weight: bold\">`</span><span style=\"color: #22863a; font-weight: bold\">mikecancell</span><span style=\"color: #e36209; font-weight: bold\">-</span><span style=\"color: #22863a; font-weight: bold\">development</span><span style=\"color: #24292e; font-weight: bold\">.</span><span style=\"color: #22863a; font-weight: bold\">Chicago_Taxi_Trips</span><span style=\"color: #24292e; font-weight: bold\">.</span><span style=\"color: #22863a; font-weight: bold\">Chi_Taxi_Geo_Data_Joined_Grouped</span><span style=\"color: #e36209; font-weight: bold\">`</span> <span style=\"color: #005cc5; font-weight: bold\">AS</span>\n",
       "    <span style=\"color: #005cc5; font-weight: bold\">WITH</span> \n",
       "        <span style=\"color: #22863a; font-weight: bold\">Taxi_Trips</span> <span style=\"color: #005cc5; font-weight: bold\">AS</span> <span style=\"color: #24292e; font-weight: bold\">(</span>\n",
       "            <span style=\"color: #888888; font-style: italic\">/* </span>\n",
       "<span style=\"color: #888888; font-style: italic\">                Section 1: Taxi_Trips</span>\n",
       "<span style=\"color: #888888; font-style: italic\">                Filters and prepares the raw taxi trip data by selecting relevant columns and removing invalid rows.</span>\n",
       "<span style=\"color: #888888; font-style: italic\">            */</span>\n",
       "            <span style=\"color: #005cc5; font-weight: bold\">SELECT</span>\n",
       "                <span style=\"color: #22863a; font-weight: bold\">DATE_TRUNC</span><span style=\"color: #24292e; font-weight: bold\">(</span><span style=\"color: #22863a; font-weight: bold\">trip_start_timestamp</span><span style=\"color: #24292e; font-weight: bold\">,</span> <span style=\"color: #22863a; font-weight: bold\">QUARTER</span><span style=\"color: #24292e; font-weight: bold\">)</span> <span style=\"color: #005cc5; font-weight: bold\">AS</span> <span style=\"color: #22863a; font-weight: bold\">trip_quarter</span><span style=\"color: #24292e; font-weight: bold\">,</span> <span style=\"color: #888888; font-style: italic\">-- Extracts the quarter from the trip start timestamp</span>\n",
       "                <span style=\"color: #22863a; font-weight: bold\">company</span> <span style=\"color: #005cc5; font-weight: bold\">AS</span> <span style=\"color: #22863a; font-weight: bold\">taxi_company</span><span style=\"color: #24292e; font-weight: bold\">,</span> <span style=\"color: #888888; font-style: italic\">-- Taxi company name</span>\n",
       "                <span style=\"color: #22863a; font-weight: bold\">pickup_latitude</span><span style=\"color: #24292e; font-weight: bold\">,</span> <span style=\"color: #888888; font-style: italic\">-- Latitude of the pickup location</span>\n",
       "                <span style=\"color: #22863a; font-weight: bold\">pickup_longitude</span><span style=\"color: #24292e; font-weight: bold\">,</span> <span style=\"color: #888888; font-style: italic\">-- Longitude of the pickup location</span>\n",
       "                <span style=\"color: #22863a; font-weight: bold\">trip_seconds</span><span style=\"color: #24292e; font-weight: bold\">,</span> <span style=\"color: #888888; font-style: italic\">-- Duration of the trip in seconds</span>\n",
       "                <span style=\"color: #22863a; font-weight: bold\">trip_miles</span><span style=\"color: #24292e; font-weight: bold\">,</span> <span style=\"color: #888888; font-style: italic\">-- Distance of the trip in miles</span>\n",
       "                <span style=\"color: #22863a; font-weight: bold\">fare</span><span style=\"color: #24292e; font-weight: bold\">,</span> <span style=\"color: #888888; font-style: italic\">-- Fare amount for the trip</span>\n",
       "                <span style=\"color: #22863a; font-weight: bold\">tips</span><span style=\"color: #24292e; font-weight: bold\">,</span> <span style=\"color: #888888; font-style: italic\">-- Tips amount for the trip</span>\n",
       "                <span style=\"color: #22863a; font-weight: bold\">taxi_id</span><span style=\"color: #24292e; font-weight: bold\">,</span> <span style=\"color: #888888; font-style: italic\">-- Unique identifier for the taxi</span>\n",
       "                <span style=\"color: #22863a; font-weight: bold\">unique_key</span> <span style=\"color: #888888; font-style: italic\">-- Unique identifier for the trip</span>\n",
       "            <span style=\"color: #005cc5; font-weight: bold\">FROM</span> <span style=\"color: #e36209; font-weight: bold\">`</span><span style=\"color: #22863a; font-weight: bold\">bigquery</span><span style=\"color: #e36209; font-weight: bold\">-</span><span style=\"color: #005cc5; font-weight: bold\">public</span><span style=\"color: #e36209; font-weight: bold\">-</span><span style=\"color: #005cc5; font-weight: bold\">data</span><span style=\"color: #24292e; font-weight: bold\">.</span><span style=\"color: #22863a; font-weight: bold\">chicago_taxi_trips</span><span style=\"color: #24292e; font-weight: bold\">.</span><span style=\"color: #22863a; font-weight: bold\">taxi_trips</span><span style=\"color: #e36209; font-weight: bold\">`</span>\n",
       "            <span style=\"color: #005cc5; font-weight: bold\">WHERE</span>\n",
       "                <span style=\"color: #22863a; font-weight: bold\">company</span> <span style=\"color: #005cc5; font-weight: bold\">IS</span> <span style=\"color: #005cc5; font-weight: bold\">NOT</span> <span style=\"color: #005cc5; font-weight: bold\">NULL</span> <span style=\"color: #888888; font-style: italic\">-- Exclude trips with no company information</span>\n",
       "                <span style=\"color: #005cc5; font-weight: bold\">AND</span> <span style=\"color: #22863a; font-weight: bold\">trip_seconds</span> <span style=\"color: #005cc5; font-weight: bold\">IS</span> <span style=\"color: #005cc5; font-weight: bold\">NOT</span> <span style=\"color: #005cc5; font-weight: bold\">NULL</span> <span style=\"color: #888888; font-style: italic\">-- Exclude trips with no duration</span>\n",
       "                <span style=\"color: #005cc5; font-weight: bold\">AND</span> <span style=\"color: #22863a; font-weight: bold\">fare</span> <span style=\"color: #005cc5; font-weight: bold\">IS</span> <span style=\"color: #005cc5; font-weight: bold\">NOT</span> <span style=\"color: #005cc5; font-weight: bold\">NULL</span> <span style=\"color: #888888; font-style: italic\">-- Exclude trips with no fare</span>\n",
       "                <span style=\"color: #005cc5; font-weight: bold\">AND</span> <span style=\"color: #22863a; font-weight: bold\">trip_start_timestamp</span> <span style=\"color: #005cc5; font-weight: bold\">IS</span> <span style=\"color: #005cc5; font-weight: bold\">NOT</span> <span style=\"color: #005cc5; font-weight: bold\">NULL</span> <span style=\"color: #888888; font-style: italic\">-- Exclude trips with no start timestamp</span>\n",
       "                <span style=\"color: #005cc5; font-weight: bold\">AND</span> <span style=\"color: #22863a; font-weight: bold\">pickup_latitude</span> <span style=\"color: #005cc5; font-weight: bold\">IS</span> <span style=\"color: #005cc5; font-weight: bold\">NOT</span> <span style=\"color: #005cc5; font-weight: bold\">NULL</span> <span style=\"color: #888888; font-style: italic\">-- Exclude trips with no pickup latitude</span>\n",
       "                <span style=\"color: #005cc5; font-weight: bold\">AND</span> <span style=\"color: #22863a; font-weight: bold\">pickup_longitude</span> <span style=\"color: #005cc5; font-weight: bold\">IS</span> <span style=\"color: #005cc5; font-weight: bold\">NOT</span> <span style=\"color: #005cc5; font-weight: bold\">NULL</span> <span style=\"color: #888888; font-style: italic\">-- Exclude trips with no pickup longitude</span>\n",
       "        <span style=\"color: #24292e; font-weight: bold\">),</span>\n",
       "        <span style=\"color: #22863a; font-weight: bold\">Trip_City_Pop</span> <span style=\"color: #005cc5; font-weight: bold\">AS</span> <span style=\"color: #24292e; font-weight: bold\">(</span>\n",
       "            <span style=\"color: #888888; font-style: italic\">/* </span>\n",
       "<span style=\"color: #888888; font-style: italic\">                Section 2: Trip_City_Pop</span>\n",
       "<span style=\"color: #888888; font-style: italic\">                Joins the filtered taxi trip data with geographic data to associate trips with cities and populations.</span>\n",
       "<span style=\"color: #888888; font-style: italic\">                Filters out rows where the city is NULL.</span>\n",
       "<span style=\"color: #888888; font-style: italic\">            */</span>\n",
       "            <span style=\"color: #005cc5; font-weight: bold\">SELECT</span>\n",
       "                <span style=\"color: #22863a; font-weight: bold\">trips</span><span style=\"color: #24292e; font-weight: bold\">.</span><span style=\"color: #22863a; font-weight: bold\">trip_quarter</span><span style=\"color: #24292e; font-weight: bold\">,</span> <span style=\"color: #888888; font-style: italic\">-- Quarter of the trip</span>\n",
       "                <span style=\"color: #22863a; font-weight: bold\">trips</span><span style=\"color: #24292e; font-weight: bold\">.</span><span style=\"color: #22863a; font-weight: bold\">taxi_company</span><span style=\"color: #24292e; font-weight: bold\">,</span> <span style=\"color: #888888; font-style: italic\">-- Taxi company name</span>\n",
       "                <span style=\"color: #22863a; font-weight: bold\">geo</span><span style=\"color: #24292e; font-weight: bold\">.</span><span style=\"color: #22863a; font-weight: bold\">city</span> <span style=\"color: #005cc5; font-weight: bold\">AS</span> <span style=\"color: #22863a; font-weight: bold\">city</span><span style=\"color: #24292e; font-weight: bold\">,</span> <span style=\"color: #888888; font-style: italic\">-- City associated with the trip</span>\n",
       "                <span style=\"color: #22863a; font-weight: bold\">geo</span><span style=\"color: #24292e; font-weight: bold\">.</span><span style=\"color: #22863a; font-weight: bold\">population</span> <span style=\"color: #005cc5; font-weight: bold\">AS</span> <span style=\"color: #22863a; font-weight: bold\">city_population</span><span style=\"color: #24292e; font-weight: bold\">,</span> <span style=\"color: #888888; font-style: italic\">-- Population of the city</span>\n",
       "                <span style=\"color: #22863a; font-weight: bold\">trips</span><span style=\"color: #24292e; font-weight: bold\">.</span><span style=\"color: #22863a; font-weight: bold\">trip_seconds</span><span style=\"color: #24292e; font-weight: bold\">,</span> <span style=\"color: #888888; font-style: italic\">-- Duration of the trip in seconds</span>\n",
       "                <span style=\"color: #22863a; font-weight: bold\">trips</span><span style=\"color: #24292e; font-weight: bold\">.</span><span style=\"color: #22863a; font-weight: bold\">trip_miles</span><span style=\"color: #24292e; font-weight: bold\">,</span> <span style=\"color: #888888; font-style: italic\">-- Distance of the trip in miles</span>\n",
       "                <span style=\"color: #22863a; font-weight: bold\">trips</span><span style=\"color: #24292e; font-weight: bold\">.</span><span style=\"color: #22863a; font-weight: bold\">fare</span><span style=\"color: #24292e; font-weight: bold\">,</span> <span style=\"color: #888888; font-style: italic\">-- Fare amount for the trip</span>\n",
       "                <span style=\"color: #22863a; font-weight: bold\">trips</span><span style=\"color: #24292e; font-weight: bold\">.</span><span style=\"color: #22863a; font-weight: bold\">tips</span><span style=\"color: #24292e; font-weight: bold\">,</span> <span style=\"color: #888888; font-style: italic\">-- Tips amount for the trip</span>\n",
       "                <span style=\"color: #22863a; font-weight: bold\">trips</span><span style=\"color: #24292e; font-weight: bold\">.</span><span style=\"color: #22863a; font-weight: bold\">pickup_latitude</span><span style=\"color: #24292e; font-weight: bold\">,</span> <span style=\"color: #888888; font-style: italic\">-- Latitude of the pickup location</span>\n",
       "                <span style=\"color: #22863a; font-weight: bold\">trips</span><span style=\"color: #24292e; font-weight: bold\">.</span><span style=\"color: #22863a; font-weight: bold\">pickup_longitude</span><span style=\"color: #24292e; font-weight: bold\">,</span> <span style=\"color: #888888; font-style: italic\">-- Longitude of the pickup location</span>\n",
       "                <span style=\"color: #22863a; font-weight: bold\">trips</span><span style=\"color: #24292e; font-weight: bold\">.</span><span style=\"color: #22863a; font-weight: bold\">taxi_id</span><span style=\"color: #24292e; font-weight: bold\">,</span> <span style=\"color: #888888; font-style: italic\">-- Unique identifier for the taxi</span>\n",
       "                <span style=\"color: #22863a; font-weight: bold\">trips</span><span style=\"color: #24292e; font-weight: bold\">.</span><span style=\"color: #22863a; font-weight: bold\">unique_key</span> <span style=\"color: #888888; font-style: italic\">-- Unique identifier for the trip</span>\n",
       "            <span style=\"color: #005cc5; font-weight: bold\">FROM</span> <span style=\"color: #22863a; font-weight: bold\">Taxi_Trips</span> <span style=\"color: #22863a; font-weight: bold\">trips</span>\n",
       "            <span style=\"color: #005cc5; font-weight: bold\">LEFT</span> <span style=\"color: #005cc5; font-weight: bold\">JOIN</span> <span style=\"color: #e36209; font-weight: bold\">`</span><span style=\"color: #22863a; font-weight: bold\">mikecancell</span><span style=\"color: #e36209; font-weight: bold\">-</span><span style=\"color: #22863a; font-weight: bold\">development</span><span style=\"color: #24292e; font-weight: bold\">.</span><span style=\"color: #22863a; font-weight: bold\">Chicago_Taxi_Trips</span><span style=\"color: #24292e; font-weight: bold\">.</span><span style=\"color: #22863a; font-weight: bold\">Geo_Locations</span><span style=\"color: #e36209; font-weight: bold\">`</span> <span style=\"color: #005cc5; font-weight: bold\">AS</span> <span style=\"color: #22863a; font-weight: bold\">geo</span>\n",
       "                <span style=\"color: #005cc5; font-weight: bold\">ON</span> <span style=\"color: #005cc5; font-weight: bold\">ABS</span><span style=\"color: #24292e; font-weight: bold\">(</span><span style=\"color: #22863a; font-weight: bold\">geo</span><span style=\"color: #24292e; font-weight: bold\">.</span><span style=\"color: #22863a; font-weight: bold\">latitude</span> <span style=\"color: #e36209; font-weight: bold\">-</span> <span style=\"color: #22863a; font-weight: bold\">trips</span><span style=\"color: #24292e; font-weight: bold\">.</span><span style=\"color: #22863a; font-weight: bold\">pickup_latitude</span><span style=\"color: #24292e; font-weight: bold\">)</span> <span style=\"color: #e36209; font-weight: bold\">&lt;</span> <span style=\"color: #6f42c1; font-weight: bold\">0</span><span style=\"color: #24292e; font-weight: bold\">.</span><span style=\"color: #6f42c1; font-weight: bold\">05</span> <span style=\"color: #888888; font-style: italic\">-- Match trips to cities by latitude</span>\n",
       "                <span style=\"color: #005cc5; font-weight: bold\">AND</span> <span style=\"color: #005cc5; font-weight: bold\">ABS</span><span style=\"color: #24292e; font-weight: bold\">(</span><span style=\"color: #22863a; font-weight: bold\">geo</span><span style=\"color: #24292e; font-weight: bold\">.</span><span style=\"color: #22863a; font-weight: bold\">longitude</span> <span style=\"color: #e36209; font-weight: bold\">-</span> <span style=\"color: #22863a; font-weight: bold\">trips</span><span style=\"color: #24292e; font-weight: bold\">.</span><span style=\"color: #22863a; font-weight: bold\">pickup_longitude</span><span style=\"color: #24292e; font-weight: bold\">)</span> <span style=\"color: #e36209; font-weight: bold\">&lt;</span> <span style=\"color: #6f42c1; font-weight: bold\">0</span><span style=\"color: #24292e; font-weight: bold\">.</span><span style=\"color: #6f42c1; font-weight: bold\">05</span> <span style=\"color: #888888; font-style: italic\">-- Match trips to cities by longitude</span>\n",
       "            <span style=\"color: #005cc5; font-weight: bold\">WHERE</span> <span style=\"color: #22863a; font-weight: bold\">geo</span><span style=\"color: #24292e; font-weight: bold\">.</span><span style=\"color: #22863a; font-weight: bold\">city</span> <span style=\"color: #005cc5; font-weight: bold\">IS</span> <span style=\"color: #005cc5; font-weight: bold\">NOT</span> <span style=\"color: #005cc5; font-weight: bold\">NULL</span> <span style=\"color: #888888; font-style: italic\">-- Exclude rows where the city is NULL</span>\n",
       "        <span style=\"color: #24292e; font-weight: bold\">)</span>\n",
       "    <span style=\"color: #005cc5; font-weight: bold\">SELECT</span>\n",
       "        <span style=\"color: #888888; font-style: italic\">/* </span>\n",
       "<span style=\"color: #888888; font-style: italic\">            Section 3: Final SELECT</span>\n",
       "<span style=\"color: #888888; font-style: italic\">            Aggregates data, calculates metrics, and applies window functions for analysis.</span>\n",
       "<span style=\"color: #888888; font-style: italic\">        */</span>\n",
       "        <span style=\"color: #22863a; font-weight: bold\">trip_quarter</span><span style=\"color: #24292e; font-weight: bold\">,</span> <span style=\"color: #888888; font-style: italic\">-- Quarter of the trip</span>\n",
       "        <span style=\"color: #22863a; font-weight: bold\">taxi_company</span><span style=\"color: #24292e; font-weight: bold\">,</span> <span style=\"color: #888888; font-style: italic\">-- Taxi company name</span>\n",
       "        <span style=\"color: #22863a; font-weight: bold\">city</span><span style=\"color: #24292e; font-weight: bold\">,</span> <span style=\"color: #888888; font-style: italic\">-- City associated with the trip</span>\n",
       "        <span style=\"color: #005cc5; font-weight: bold\">AVG</span><span style=\"color: #24292e; font-weight: bold\">(</span><span style=\"color: #22863a; font-weight: bold\">city_population</span><span style=\"color: #24292e; font-weight: bold\">)</span> <span style=\"color: #005cc5; font-weight: bold\">AS</span> <span style=\"color: #22863a; font-weight: bold\">city_population</span><span style=\"color: #24292e; font-weight: bold\">,</span> <span style=\"color: #888888; font-style: italic\">-- Average population of the city</span>\n",
       "        <span style=\"color: #005cc5; font-weight: bold\">COUNT</span><span style=\"color: #24292e; font-weight: bold\">(</span><span style=\"color: #22863a; font-weight: bold\">unique_key</span><span style=\"color: #24292e; font-weight: bold\">)</span> <span style=\"color: #005cc5; font-weight: bold\">AS</span> <span style=\"color: #22863a; font-weight: bold\">total_trips</span><span style=\"color: #24292e; font-weight: bold\">,</span> <span style=\"color: #888888; font-style: italic\">-- Total number of trips</span>\n",
       "        <span style=\"color: #005cc5; font-weight: bold\">COUNT</span><span style=\"color: #24292e; font-weight: bold\">(</span><span style=\"color: #005cc5; font-weight: bold\">DISTINCT</span> <span style=\"color: #22863a; font-weight: bold\">taxi_id</span><span style=\"color: #24292e; font-weight: bold\">)</span> <span style=\"color: #005cc5; font-weight: bold\">AS</span> <span style=\"color: #22863a; font-weight: bold\">unique_taxis</span><span style=\"color: #24292e; font-weight: bold\">,</span> <span style=\"color: #888888; font-style: italic\">-- Number of unique taxis</span>\n",
       "        <span style=\"color: #005cc5; font-weight: bold\">SUM</span><span style=\"color: #24292e; font-weight: bold\">(</span><span style=\"color: #22863a; font-weight: bold\">trip_seconds</span><span style=\"color: #24292e; font-weight: bold\">)</span> <span style=\"color: #005cc5; font-weight: bold\">AS</span> <span style=\"color: #22863a; font-weight: bold\">total_trip_seconds</span><span style=\"color: #24292e; font-weight: bold\">,</span> <span style=\"color: #888888; font-style: italic\">-- Total trip duration in seconds</span>\n",
       "        <span style=\"color: #005cc5; font-weight: bold\">AVG</span><span style=\"color: #24292e; font-weight: bold\">(</span><span style=\"color: #22863a; font-weight: bold\">trip_seconds</span><span style=\"color: #24292e; font-weight: bold\">)</span> <span style=\"color: #005cc5; font-weight: bold\">AS</span> <span style=\"color: #22863a; font-weight: bold\">avg_trip_seconds</span><span style=\"color: #24292e; font-weight: bold\">,</span> <span style=\"color: #888888; font-style: italic\">-- Average trip duration in seconds</span>\n",
       "        <span style=\"color: #005cc5; font-weight: bold\">SUM</span><span style=\"color: #24292e; font-weight: bold\">(</span><span style=\"color: #22863a; font-weight: bold\">trip_miles</span><span style=\"color: #24292e; font-weight: bold\">)</span> <span style=\"color: #005cc5; font-weight: bold\">AS</span> <span style=\"color: #22863a; font-weight: bold\">total_trip_miles</span><span style=\"color: #24292e; font-weight: bold\">,</span> <span style=\"color: #888888; font-style: italic\">-- Total trip distance in miles</span>\n",
       "        <span style=\"color: #005cc5; font-weight: bold\">AVG</span><span style=\"color: #24292e; font-weight: bold\">(</span><span style=\"color: #22863a; font-weight: bold\">trip_miles</span><span style=\"color: #24292e; font-weight: bold\">)</span> <span style=\"color: #005cc5; font-weight: bold\">AS</span> <span style=\"color: #22863a; font-weight: bold\">avg_trip_miles</span><span style=\"color: #24292e; font-weight: bold\">,</span> <span style=\"color: #888888; font-style: italic\">-- Average trip distance in miles</span>\n",
       "        <span style=\"color: #005cc5; font-weight: bold\">SUM</span><span style=\"color: #24292e; font-weight: bold\">(</span><span style=\"color: #22863a; font-weight: bold\">fare</span><span style=\"color: #24292e; font-weight: bold\">)</span> <span style=\"color: #005cc5; font-weight: bold\">AS</span> <span style=\"color: #22863a; font-weight: bold\">total_fare</span><span style=\"color: #24292e; font-weight: bold\">,</span> <span style=\"color: #888888; font-style: italic\">-- Total fare amount</span>\n",
       "        <span style=\"color: #005cc5; font-weight: bold\">AVG</span><span style=\"color: #24292e; font-weight: bold\">(</span><span style=\"color: #22863a; font-weight: bold\">fare</span><span style=\"color: #24292e; font-weight: bold\">)</span> <span style=\"color: #005cc5; font-weight: bold\">AS</span> <span style=\"color: #22863a; font-weight: bold\">avg_fare</span><span style=\"color: #24292e; font-weight: bold\">,</span> <span style=\"color: #888888; font-style: italic\">-- Average fare amount</span>\n",
       "        <span style=\"color: #005cc5; font-weight: bold\">SUM</span><span style=\"color: #24292e; font-weight: bold\">(</span><span style=\"color: #22863a; font-weight: bold\">tips</span><span style=\"color: #24292e; font-weight: bold\">)</span> <span style=\"color: #005cc5; font-weight: bold\">AS</span> <span style=\"color: #22863a; font-weight: bold\">total_tips</span><span style=\"color: #24292e; font-weight: bold\">,</span> <span style=\"color: #888888; font-style: italic\">-- Total tips amount</span>\n",
       "        <span style=\"color: #005cc5; font-weight: bold\">AVG</span><span style=\"color: #24292e; font-weight: bold\">(</span><span style=\"color: #22863a; font-weight: bold\">tips</span><span style=\"color: #24292e; font-weight: bold\">)</span> <span style=\"color: #005cc5; font-weight: bold\">AS</span> <span style=\"color: #22863a; font-weight: bold\">avg_tips</span><span style=\"color: #24292e; font-weight: bold\">,</span> <span style=\"color: #888888; font-style: italic\">-- Average tips amount</span>\n",
       "        <span style=\"color: #005cc5; font-weight: bold\">AVG</span><span style=\"color: #24292e; font-weight: bold\">(</span><span style=\"color: #22863a; font-weight: bold\">pickup_latitude</span><span style=\"color: #24292e; font-weight: bold\">)</span> <span style=\"color: #005cc5; font-weight: bold\">AS</span> <span style=\"color: #22863a; font-weight: bold\">avg_pickup_latitude</span><span style=\"color: #24292e; font-weight: bold\">,</span> <span style=\"color: #888888; font-style: italic\">-- Average pickup latitude</span>\n",
       "        <span style=\"color: #005cc5; font-weight: bold\">AVG</span><span style=\"color: #24292e; font-weight: bold\">(</span><span style=\"color: #22863a; font-weight: bold\">pickup_longitude</span><span style=\"color: #24292e; font-weight: bold\">)</span> <span style=\"color: #005cc5; font-weight: bold\">AS</span> <span style=\"color: #22863a; font-weight: bold\">avg_pickup_longitude</span><span style=\"color: #24292e; font-weight: bold\">,</span> <span style=\"color: #888888; font-style: italic\">-- Average pickup longitude</span>\n",
       "        <span style=\"color: #888888; font-style: italic\">-- Calculated Metrics</span>\n",
       "        <span style=\"color: #005cc5; font-weight: bold\">AVG</span><span style=\"color: #24292e; font-weight: bold\">(</span><span style=\"color: #22863a; font-weight: bold\">trip_miles</span> <span style=\"color: #e36209; font-weight: bold\">/</span> <span style=\"color: #005cc5; font-weight: bold\">NULLIF</span><span style=\"color: #24292e; font-weight: bold\">(</span><span style=\"color: #22863a; font-weight: bold\">trip_seconds</span> <span style=\"color: #e36209; font-weight: bold\">/</span> <span style=\"color: #6f42c1; font-weight: bold\">3600</span><span style=\"color: #24292e; font-weight: bold\">,</span> <span style=\"color: #6f42c1; font-weight: bold\">0</span><span style=\"color: #24292e; font-weight: bold\">))</span> <span style=\"color: #005cc5; font-weight: bold\">AS</span> <span style=\"color: #22863a; font-weight: bold\">avg_mph_per_trip</span><span style=\"color: #24292e; font-weight: bold\">,</span> <span style=\"color: #888888; font-style: italic\">-- Average speed in miles per hour</span>\n",
       "        <span style=\"color: #005cc5; font-weight: bold\">AVG</span><span style=\"color: #24292e; font-weight: bold\">(</span><span style=\"color: #22863a; font-weight: bold\">tips</span> <span style=\"color: #e36209; font-weight: bold\">/</span> <span style=\"color: #005cc5; font-weight: bold\">NULLIF</span><span style=\"color: #24292e; font-weight: bold\">(</span><span style=\"color: #22863a; font-weight: bold\">trip_seconds</span><span style=\"color: #24292e; font-weight: bold\">,</span> <span style=\"color: #6f42c1; font-weight: bold\">0</span><span style=\"color: #24292e; font-weight: bold\">))</span> <span style=\"color: #e36209; font-weight: bold\">*</span> <span style=\"color: #6f42c1; font-weight: bold\">3600</span> <span style=\"color: #005cc5; font-weight: bold\">AS</span> <span style=\"color: #22863a; font-weight: bold\">avg_tips_per_hour</span><span style=\"color: #24292e; font-weight: bold\">,</span> <span style=\"color: #888888; font-style: italic\">-- Average tips per hour</span>\n",
       "        <span style=\"color: #005cc5; font-weight: bold\">AVG</span><span style=\"color: #24292e; font-weight: bold\">(</span><span style=\"color: #22863a; font-weight: bold\">fare</span> <span style=\"color: #e36209; font-weight: bold\">/</span> <span style=\"color: #005cc5; font-weight: bold\">NULLIF</span><span style=\"color: #24292e; font-weight: bold\">(</span><span style=\"color: #22863a; font-weight: bold\">trip_miles</span><span style=\"color: #24292e; font-weight: bold\">,</span> <span style=\"color: #6f42c1; font-weight: bold\">0</span><span style=\"color: #24292e; font-weight: bold\">))</span> <span style=\"color: #005cc5; font-weight: bold\">AS</span> <span style=\"color: #22863a; font-weight: bold\">avg_fare_per_mile</span><span style=\"color: #24292e; font-weight: bold\">,</span> <span style=\"color: #888888; font-style: italic\">-- Average fare per mile</span>\n",
       "        <span style=\"color: #005cc5; font-weight: bold\">AVG</span><span style=\"color: #24292e; font-weight: bold\">(</span><span style=\"color: #22863a; font-weight: bold\">trip_seconds</span> <span style=\"color: #e36209; font-weight: bold\">/</span> <span style=\"color: #005cc5; font-weight: bold\">NULLIF</span><span style=\"color: #24292e; font-weight: bold\">(</span><span style=\"color: #6f42c1; font-weight: bold\">60</span><span style=\"color: #24292e; font-weight: bold\">,</span> <span style=\"color: #6f42c1; font-weight: bold\">0</span><span style=\"color: #24292e; font-weight: bold\">))</span> <span style=\"color: #005cc5; font-weight: bold\">AS</span> <span style=\"color: #22863a; font-weight: bold\">avg_trip_duration_minutes</span><span style=\"color: #24292e; font-weight: bold\">,</span> <span style=\"color: #888888; font-style: italic\">-- Average trip duration in minutes</span>\n",
       "        <span style=\"color: #005cc5; font-weight: bold\">AVG</span><span style=\"color: #24292e; font-weight: bold\">((</span><span style=\"color: #22863a; font-weight: bold\">fare</span> <span style=\"color: #e36209; font-weight: bold\">+</span> <span style=\"color: #22863a; font-weight: bold\">tips</span><span style=\"color: #24292e; font-weight: bold\">)</span> <span style=\"color: #e36209; font-weight: bold\">/</span> <span style=\"color: #005cc5; font-weight: bold\">NULLIF</span><span style=\"color: #24292e; font-weight: bold\">(</span><span style=\"color: #6f42c1; font-weight: bold\">1</span><span style=\"color: #24292e; font-weight: bold\">,</span> <span style=\"color: #6f42c1; font-weight: bold\">0</span><span style=\"color: #24292e; font-weight: bold\">))</span> <span style=\"color: #005cc5; font-weight: bold\">AS</span> <span style=\"color: #22863a; font-weight: bold\">avg_total_revenue_per_trip</span><span style=\"color: #24292e; font-weight: bold\">,</span> <span style=\"color: #888888; font-style: italic\">-- Average total revenue per trip</span>\n",
       "        <span style=\"color: #888888; font-style: italic\">-- Window Functions</span>\n",
       "        <span style=\"color: #22863a; font-weight: bold\">RANK</span><span style=\"color: #24292e; font-weight: bold\">()</span> <span style=\"color: #22863a; font-weight: bold\">OVER</span> <span style=\"color: #24292e; font-weight: bold\">(</span><span style=\"color: #22863a; font-weight: bold\">PARTITION</span> <span style=\"color: #005cc5; font-weight: bold\">BY</span> <span style=\"color: #22863a; font-weight: bold\">trip_quarter</span><span style=\"color: #24292e; font-weight: bold\">,</span> <span style=\"color: #22863a; font-weight: bold\">city</span> <span style=\"color: #005cc5; font-weight: bold\">ORDER</span> <span style=\"color: #005cc5; font-weight: bold\">BY</span> <span style=\"color: #005cc5; font-weight: bold\">SUM</span><span style=\"color: #24292e; font-weight: bold\">(</span><span style=\"color: #22863a; font-weight: bold\">fare</span> <span style=\"color: #e36209; font-weight: bold\">+</span> <span style=\"color: #22863a; font-weight: bold\">tips</span><span style=\"color: #24292e; font-weight: bold\">)</span> <span style=\"color: #005cc5; font-weight: bold\">DESC</span><span style=\"color: #24292e; font-weight: bold\">)</span> <span style=\"color: #005cc5; font-weight: bold\">AS</span> <span style=\"color: #22863a; font-weight: bold\">revenue_rank_within_city</span><span style=\"color: #24292e; font-weight: bold\">,</span> <span style=\"color: #888888; font-style: italic\">-- Rank by total revenue within city</span>\n",
       "        <span style=\"color: #22863a; font-weight: bold\">DENSE_RANK</span><span style=\"color: #24292e; font-weight: bold\">()</span> <span style=\"color: #22863a; font-weight: bold\">OVER</span> <span style=\"color: #24292e; font-weight: bold\">(</span><span style=\"color: #22863a; font-weight: bold\">PARTITION</span> <span style=\"color: #005cc5; font-weight: bold\">BY</span> <span style=\"color: #22863a; font-weight: bold\">trip_quarter</span><span style=\"color: #24292e; font-weight: bold\">,</span> <span style=\"color: #22863a; font-weight: bold\">city</span> <span style=\"color: #005cc5; font-weight: bold\">ORDER</span> <span style=\"color: #005cc5; font-weight: bold\">BY</span> <span style=\"color: #005cc5; font-weight: bold\">COUNT</span><span style=\"color: #24292e; font-weight: bold\">(</span><span style=\"color: #22863a; font-weight: bold\">unique_key</span><span style=\"color: #24292e; font-weight: bold\">)</span> <span style=\"color: #005cc5; font-weight: bold\">DESC</span><span style=\"color: #24292e; font-weight: bold\">)</span> <span style=\"color: #005cc5; font-weight: bold\">AS</span> <span style=\"color: #22863a; font-weight: bold\">trip_count_rank_within_city</span><span style=\"color: #24292e; font-weight: bold\">,</span> <span style=\"color: #888888; font-style: italic\">-- Rank by total trips within city</span>\n",
       "        <span style=\"color: #22863a; font-weight: bold\">PERCENT_RANK</span><span style=\"color: #24292e; font-weight: bold\">()</span> <span style=\"color: #22863a; font-weight: bold\">OVER</span> <span style=\"color: #24292e; font-weight: bold\">(</span><span style=\"color: #22863a; font-weight: bold\">PARTITION</span> <span style=\"color: #005cc5; font-weight: bold\">BY</span> <span style=\"color: #22863a; font-weight: bold\">trip_quarter</span><span style=\"color: #24292e; font-weight: bold\">,</span> <span style=\"color: #22863a; font-weight: bold\">city</span> <span style=\"color: #005cc5; font-weight: bold\">ORDER</span> <span style=\"color: #005cc5; font-weight: bold\">BY</span> <span style=\"color: #005cc5; font-weight: bold\">AVG</span><span style=\"color: #24292e; font-weight: bold\">(</span><span style=\"color: #22863a; font-weight: bold\">fare</span><span style=\"color: #24292e; font-weight: bold\">))</span> <span style=\"color: #005cc5; font-weight: bold\">AS</span> <span style=\"color: #22863a; font-weight: bold\">fare_percentile_within_city</span><span style=\"color: #24292e; font-weight: bold\">,</span> <span style=\"color: #888888; font-style: italic\">-- Percentile of avg fare within city</span>\n",
       "        <span style=\"color: #005cc5; font-weight: bold\">SUM</span><span style=\"color: #24292e; font-weight: bold\">(</span><span style=\"color: #005cc5; font-weight: bold\">SUM</span><span style=\"color: #24292e; font-weight: bold\">(</span><span style=\"color: #22863a; font-weight: bold\">fare</span><span style=\"color: #24292e; font-weight: bold\">))</span> <span style=\"color: #22863a; font-weight: bold\">OVER</span> <span style=\"color: #24292e; font-weight: bold\">(</span><span style=\"color: #22863a; font-weight: bold\">PARTITION</span> <span style=\"color: #005cc5; font-weight: bold\">BY</span> <span style=\"color: #22863a; font-weight: bold\">trip_quarter</span><span style=\"color: #24292e; font-weight: bold\">,</span> <span style=\"color: #22863a; font-weight: bold\">city</span><span style=\"color: #24292e; font-weight: bold\">)</span> <span style=\"color: #005cc5; font-weight: bold\">AS</span> <span style=\"color: #22863a; font-weight: bold\">total_revenue_per_city</span><span style=\"color: #24292e; font-weight: bold\">,</span> <span style=\"color: #888888; font-style: italic\">-- Total revenue per city</span>\n",
       "        <span style=\"color: #22863a; font-weight: bold\">RANK</span><span style=\"color: #24292e; font-weight: bold\">()</span> <span style=\"color: #22863a; font-weight: bold\">OVER</span> <span style=\"color: #24292e; font-weight: bold\">(</span><span style=\"color: #22863a; font-weight: bold\">PARTITION</span> <span style=\"color: #005cc5; font-weight: bold\">BY</span> <span style=\"color: #22863a; font-weight: bold\">trip_quarter</span><span style=\"color: #24292e; font-weight: bold\">,</span> <span style=\"color: #22863a; font-weight: bold\">taxi_company</span> <span style=\"color: #005cc5; font-weight: bold\">ORDER</span> <span style=\"color: #005cc5; font-weight: bold\">BY</span> <span style=\"color: #005cc5; font-weight: bold\">SUM</span><span style=\"color: #24292e; font-weight: bold\">(</span><span style=\"color: #22863a; font-weight: bold\">fare</span> <span style=\"color: #e36209; font-weight: bold\">+</span> <span style=\"color: #22863a; font-weight: bold\">tips</span><span style=\"color: #24292e; font-weight: bold\">)</span> <span style=\"color: #005cc5; font-weight: bold\">DESC</span><span style=\"color: #24292e; font-weight: bold\">)</span> <span style=\"color: #005cc5; font-weight: bold\">AS</span> <span style=\"color: #22863a; font-weight: bold\">revenue_rank_within_company</span><span style=\"color: #24292e; font-weight: bold\">,</span> <span style=\"color: #888888; font-style: italic\">-- Rank by total revenue within company</span>\n",
       "        <span style=\"color: #005cc5; font-weight: bold\">SUM</span><span style=\"color: #24292e; font-weight: bold\">(</span><span style=\"color: #005cc5; font-weight: bold\">SUM</span><span style=\"color: #24292e; font-weight: bold\">(</span><span style=\"color: #22863a; font-weight: bold\">fare</span><span style=\"color: #24292e; font-weight: bold\">))</span> <span style=\"color: #22863a; font-weight: bold\">OVER</span> <span style=\"color: #24292e; font-weight: bold\">(</span><span style=\"color: #22863a; font-weight: bold\">PARTITION</span> <span style=\"color: #005cc5; font-weight: bold\">BY</span> <span style=\"color: #22863a; font-weight: bold\">trip_quarter</span><span style=\"color: #24292e; font-weight: bold\">,</span> <span style=\"color: #22863a; font-weight: bold\">taxi_company</span><span style=\"color: #24292e; font-weight: bold\">)</span> <span style=\"color: #005cc5; font-weight: bold\">AS</span> <span style=\"color: #22863a; font-weight: bold\">total_revenue_per_company</span><span style=\"color: #24292e; font-weight: bold\">,</span> <span style=\"color: #888888; font-style: italic\">-- Total revenue per company</span>\n",
       "        <span style=\"color: #888888; font-style: italic\">-- Additional Analytics</span>\n",
       "        <span style=\"color: #005cc5; font-weight: bold\">SUM</span><span style=\"color: #24292e; font-weight: bold\">(</span><span style=\"color: #22863a; font-weight: bold\">fare</span> <span style=\"color: #e36209; font-weight: bold\">+</span> <span style=\"color: #22863a; font-weight: bold\">tips</span><span style=\"color: #24292e; font-weight: bold\">)</span> <span style=\"color: #e36209; font-weight: bold\">/</span> <span style=\"color: #005cc5; font-weight: bold\">NULLIF</span><span style=\"color: #24292e; font-weight: bold\">(</span><span style=\"color: #005cc5; font-weight: bold\">SUM</span><span style=\"color: #24292e; font-weight: bold\">(</span><span style=\"color: #005cc5; font-weight: bold\">SUM</span><span style=\"color: #24292e; font-weight: bold\">(</span><span style=\"color: #22863a; font-weight: bold\">fare</span> <span style=\"color: #e36209; font-weight: bold\">+</span> <span style=\"color: #22863a; font-weight: bold\">tips</span><span style=\"color: #24292e; font-weight: bold\">))</span> <span style=\"color: #22863a; font-weight: bold\">OVER</span> <span style=\"color: #24292e; font-weight: bold\">(</span><span style=\"color: #22863a; font-weight: bold\">PARTITION</span> <span style=\"color: #005cc5; font-weight: bold\">BY</span> <span style=\"color: #22863a; font-weight: bold\">trip_quarter</span><span style=\"color: #24292e; font-weight: bold\">),</span> <span style=\"color: #6f42c1; font-weight: bold\">0</span><span style=\"color: #24292e; font-weight: bold\">)</span> <span style=\"color: #e36209; font-weight: bold\">*</span> <span style=\"color: #6f42c1; font-weight: bold\">100</span> <span style=\"color: #005cc5; font-weight: bold\">AS</span> <span style=\"color: #22863a; font-weight: bold\">revenue_contribution_percentage</span><span style=\"color: #24292e; font-weight: bold\">,</span> <span style=\"color: #888888; font-style: italic\">-- Revenue contribution by city and company</span>\n",
       "        <span style=\"color: #005cc5; font-weight: bold\">COUNT</span><span style=\"color: #24292e; font-weight: bold\">(</span><span style=\"color: #22863a; font-weight: bold\">unique_key</span><span style=\"color: #24292e; font-weight: bold\">)</span> <span style=\"color: #e36209; font-weight: bold\">/</span> <span style=\"color: #005cc5; font-weight: bold\">NULLIF</span><span style=\"color: #24292e; font-weight: bold\">(</span><span style=\"color: #005cc5; font-weight: bold\">AVG</span><span style=\"color: #24292e; font-weight: bold\">(</span><span style=\"color: #22863a; font-weight: bold\">city_population</span><span style=\"color: #24292e; font-weight: bold\">),</span> <span style=\"color: #6f42c1; font-weight: bold\">0</span><span style=\"color: #24292e; font-weight: bold\">)</span> <span style=\"color: #005cc5; font-weight: bold\">AS</span> <span style=\"color: #22863a; font-weight: bold\">trips_per_population</span><span style=\"color: #24292e; font-weight: bold\">,</span> <span style=\"color: #888888; font-style: italic\">-- Proxy for trip density</span>\n",
       "        <span style=\"color: #005cc5; font-weight: bold\">COUNT</span><span style=\"color: #24292e; font-weight: bold\">(</span><span style=\"color: #22863a; font-weight: bold\">unique_key</span><span style=\"color: #24292e; font-weight: bold\">)</span> <span style=\"color: #e36209; font-weight: bold\">/</span> <span style=\"color: #005cc5; font-weight: bold\">NULLIF</span><span style=\"color: #24292e; font-weight: bold\">(</span><span style=\"color: #005cc5; font-weight: bold\">COUNT</span><span style=\"color: #24292e; font-weight: bold\">(</span><span style=\"color: #005cc5; font-weight: bold\">DISTINCT</span> <span style=\"color: #22863a; font-weight: bold\">taxi_id</span><span style=\"color: #24292e; font-weight: bold\">),</span> <span style=\"color: #6f42c1; font-weight: bold\">0</span><span style=\"color: #24292e; font-weight: bold\">)</span> <span style=\"color: #005cc5; font-weight: bold\">AS</span> <span style=\"color: #22863a; font-weight: bold\">avg_trips_per_taxi</span><span style=\"color: #24292e; font-weight: bold\">,</span> <span style=\"color: #888888; font-style: italic\">-- Average trips per unique taxi</span>\n",
       "        <span style=\"color: #005cc5; font-weight: bold\">AVG</span><span style=\"color: #24292e; font-weight: bold\">(</span><span style=\"color: #005cc5; font-weight: bold\">SUM</span><span style=\"color: #24292e; font-weight: bold\">(</span><span style=\"color: #22863a; font-weight: bold\">fare</span> <span style=\"color: #e36209; font-weight: bold\">+</span> <span style=\"color: #22863a; font-weight: bold\">tips</span><span style=\"color: #24292e; font-weight: bold\">))</span> <span style=\"color: #22863a; font-weight: bold\">OVER</span> <span style=\"color: #24292e; font-weight: bold\">(</span><span style=\"color: #22863a; font-weight: bold\">PARTITION</span> <span style=\"color: #005cc5; font-weight: bold\">BY</span> <span style=\"color: #22863a; font-weight: bold\">city</span> <span style=\"color: #005cc5; font-weight: bold\">ORDER</span> <span style=\"color: #005cc5; font-weight: bold\">BY</span> <span style=\"color: #22863a; font-weight: bold\">trip_quarter</span><span style=\"color: #24292e; font-weight: bold\">)</span> <span style=\"color: #005cc5; font-weight: bold\">AS</span> <span style=\"color: #22863a; font-weight: bold\">avg_revenue_trend</span> <span style=\"color: #888888; font-style: italic\">-- Revenue trend by city</span>\n",
       "    <span style=\"color: #005cc5; font-weight: bold\">FROM</span> <span style=\"color: #22863a; font-weight: bold\">Trip_City_Pop</span>\n",
       "    <span style=\"color: #005cc5; font-weight: bold\">GROUP</span> <span style=\"color: #005cc5; font-weight: bold\">BY</span>\n",
       "        <span style=\"color: #22863a; font-weight: bold\">trip_quarter</span><span style=\"color: #24292e; font-weight: bold\">,</span>\n",
       "        <span style=\"color: #22863a; font-weight: bold\">taxi_company</span><span style=\"color: #24292e; font-weight: bold\">,</span>\n",
       "        <span style=\"color: #22863a; font-weight: bold\">city</span>\n",
       "    <span style=\"color: #005cc5; font-weight: bold\">ORDER</span> <span style=\"color: #005cc5; font-weight: bold\">BY</span>\n",
       "        <span style=\"color: #22863a; font-weight: bold\">trip_quarter</span> <span style=\"color: #005cc5; font-weight: bold\">DESC</span><span style=\"color: #24292e; font-weight: bold\">,</span>\n",
       "        <span style=\"color: #22863a; font-weight: bold\">revenue_contribution_percentage</span> <span style=\"color: #005cc5; font-weight: bold\">DESC</span><span style=\"color: #24292e; font-weight: bold\">,</span>\n",
       "        <span style=\"color: #22863a; font-weight: bold\">city</span> <span style=\"color: #005cc5; font-weight: bold\">ASC</span><span style=\"color: #24292e; font-weight: bold\">,</span>\n",
       "        <span style=\"color: #22863a; font-weight: bold\">taxi_company</span> <span style=\"color: #005cc5; font-weight: bold\">ASC</span>\n",
       "    <span style=\"color: #888888; font-style: italic\">--LIMIT 1000</span>\n",
       "    <span style=\"color: #24292e; font-weight: bold\">;</span>\n",
       "</pre></div>\n"
      ],
      "text/plain": [
       "<IPython.core.display.HTML object>"
      ]
     },
     "metadata": {},
     "output_type": "display_data"
    }
   ],
   "source": [
    "from IPython.display import display, HTML\n",
    "import pygments\n",
    "from pygments.lexers import SqlLexer\n",
    "from pygments.formatters import HtmlFormatter\n",
    "from pygments.style import Style\n",
    "from pygments.token import Keyword, Name, Comment, String, Number, Operator, Punctuation\n",
    "\n",
    "# Define a custom Pygments style\n",
    "class CustomSQLStyle(Style):\n",
    "    default_style = \"\"\n",
    "    styles = {\n",
    "        Comment: \"italic #888888\",  # Gray for comments\n",
    "        Keyword: \"bold #005cc5\",  # Blue for keywords\n",
    "        Name: \"bold #22863a\",  # Green for names\n",
    "        String: \"italic #d73a49\",  # Red for strings\n",
    "        Number: \"bold #6f42c1\",  # Purple for numbers\n",
    "        Operator: \"bold #e36209\",  # Orange for operators\n",
    "        Punctuation: \"bold #24292e\",  # Black for punctuation\n",
    "    }\n",
    "\n",
    "# Highlight the SQL code using Pygments with the custom style\n",
    "formatter = HtmlFormatter(style=CustomSQLStyle, full=False, noclasses=True)\n",
    "highlighted_sql = pygments.highlight(sql_code, SqlLexer(), formatter)\n",
    "\n",
    "# Display the highlighted SQL code in the notebook\n",
    "display(HTML(highlighted_sql))"
   ]
  },
  {
   "cell_type": "markdown",
   "id": "6d15c95e",
   "metadata": {},
   "source": [
    "## ✔ Execute the Query"
   ]
  },
  {
   "cell_type": "code",
   "execution_count": 14,
   "id": "f36b35c9",
   "metadata": {},
   "outputs": [
    {
     "name": "stdout",
     "output_type": "stream",
     "text": [
      "Data loaded from Parquet file.\n",
      "               trip_quarter taxi_company             city  city_population  \\\n",
      "0 2023-10-01 00:00:00+00:00    Flash Cab  Near North Side          85711.0   \n",
      "1 2023-10-01 00:00:00+00:00    Flash Cab     Lincoln Park          66959.0   \n",
      "2 2023-10-01 00:00:00+00:00    Flash Cab     Chicago Loop          33442.0   \n",
      "3 2023-10-01 00:00:00+00:00    Flash Cab  Lower West Side          34410.0   \n",
      "4 2023-10-01 00:00:00+00:00    Flash Cab  Near South Side          22401.0   \n",
      "\n",
      "   total_trips  unique_taxis  total_trip_seconds  avg_trip_seconds  \\\n",
      "0       167235           457           161349311        964.805878   \n",
      "1       163872           456           157591794        961.676150   \n",
      "2       155684           457           150731141        968.186461   \n",
      "3       151000           458           148884170        985.987881   \n",
      "4       149599           458           147309305        984.694450   \n",
      "\n",
      "   total_trip_miles  avg_trip_miles  ...  revenue_rank_within_city  \\\n",
      "0         725558.66        4.338557  ...                         1   \n",
      "1         704645.18        4.299973  ...                         1   \n",
      "2         700960.87        4.502459  ...                         1   \n",
      "3         713970.38        4.728281  ...                         1   \n",
      "4         708201.27        4.733997  ...                         1   \n",
      "\n",
      "   trip_count_rank_within_city  fare_percentile_within_city  \\\n",
      "0                            1                     0.933333   \n",
      "1                            1                     0.933333   \n",
      "2                            1                     0.966667   \n",
      "3                            2                     0.966667   \n",
      "4                            2                     0.966667   \n",
      "\n",
      "   total_revenue_per_city  revenue_rank_within_company  \\\n",
      "0             13331512.22                            1   \n",
      "1             12533395.77                            2   \n",
      "2             12988690.26                            3   \n",
      "3             12707968.63                            4   \n",
      "4             12666817.95                            5   \n",
      "\n",
      "   total_revenue_per_company  revenue_contribution_percentage  \\\n",
      "0                44642664.67                         1.533777   \n",
      "1                44642664.67                         1.489011   \n",
      "2                44642664.67                         1.448205   \n",
      "3                44642664.67                         1.434375   \n",
      "4                44642664.67                         1.416173   \n",
      "\n",
      "   trips_per_population  avg_trips_per_taxi  avg_revenue_trend  \n",
      "0              1.951150          365.940919      733375.946359  \n",
      "1              2.447348          359.368421      709830.253869  \n",
      "2              4.655344          340.665208      688594.136702  \n",
      "3              4.388259          329.694323      622475.961390  \n",
      "4              6.678229          326.635371      624381.288889  \n",
      "\n",
      "[5 rows x 31 columns]\n"
     ]
    }
   ],
   "source": [
    "import warnings\n",
    "from pandas_gbq.exceptions import LargeResultsWarning\n",
    "\n",
    "# Suppress the LargeResultsWarning\n",
    "warnings.simplefilter('ignore', category=LargeResultsWarning)\n",
    "\n",
    "# Import the pandas_gbq library\n",
    "import pandas_gbq\n",
    "import os\n",
    "import pandas as pd\n",
    "\n",
    "# Define the SQL query\n",
    "query = sql_code\n",
    "\n",
    "# Check if the Parquet file exists\n",
    "parquet_file_path = 'Insights_Part_III.parquet'\n",
    "\n",
    "if os.path.exists(parquet_file_path):\n",
    "    # Read the data from the Parquet file\n",
    "    Insights_Part_III = pd.read_parquet(parquet_file_path)\n",
    "    print(\"Data loaded from Parquet file.\")\n",
    "else:\n",
    "    # Read the data from BigQuery into a pandas DataFrame\n",
    "    Insights_Part_III = pandas_gbq.read_gbq(query, project_id=credentials.project_id, credentials=credentials)\n",
    "    print(\"Data loaded from BigQuery.\")\n",
    "\n",
    "# Display the first few rows of the dataframe\n",
    "print(Insights_Part_III.head())\n"
   ]
  },
  {
   "cell_type": "markdown",
   "id": "71bf27f6",
   "metadata": {},
   "source": [
    "### Save to Results to a Local Parquet File\n",
    "for faster loading"
   ]
  },
  {
   "cell_type": "code",
   "execution_count": 15,
   "id": "18c9927d",
   "metadata": {},
   "outputs": [
    {
     "name": "stdout",
     "output_type": "stream",
     "text": [
      "DataFrames have been saved to Parquet files successfully.\n"
     ]
    }
   ],
   "source": [
    "# Save insights_ia DataFrame to a Parquet file\n",
    "Insights_Part_III.to_parquet('Insights_Part_III.parquet', index=False)\n",
    "\n",
    "\n",
    "print(\"DataFrames have been saved to Parquet files successfully.\")"
   ]
  },
  {
   "cell_type": "code",
   "execution_count": 16,
   "id": "e1028634",
   "metadata": {},
   "outputs": [
    {
     "name": "stdout",
     "output_type": "stream",
     "text": [
      "Random sample of 5,000 rows saved to Insights_Part_III_Sample.csv\n"
     ]
    }
   ],
   "source": [
    "import pandas as pd\n",
    "\n",
    "# Load the Parquet file\n",
    "parquet_file_path = 'Insights_Part_III.parquet'\n",
    "df = pd.read_parquet(parquet_file_path)\n",
    "\n",
    "# Take a random sample of 5,000 rows\n",
    "sample_df = df.sample(n=5000, random_state=42)\n",
    "\n",
    "# Save the sample to a CSV file\n",
    "sample_csv_path = 'Insights_Part_III_Sample.csv'\n",
    "sample_df.to_csv(sample_csv_path, index=False)\n",
    "\n",
    "print(f\"Random sample of 5,000 rows saved to {sample_csv_path}\")"
   ]
  },
  {
   "cell_type": "markdown",
   "id": "14309643",
   "metadata": {},
   "source": [
    "## Chosen Insights to Analyze\n",
    "\n",
    "1. **Total Revenue (total_revenue_per_city)**  \n",
    "    **Why:** This metric reflects the overall financial performance of taxi services in each city. It can be used to identify high-revenue cities and analyze trends over time.  \n",
    "    **Chart Suggestion:** A bar chart comparing total revenue across cities or a time-series line chart showing revenue trends over quarters.  \n",
    "\n",
    "2. **Average Fare per Mile (avg_fare_per_mile)**  \n",
    "    **Why:** This metric indicates the cost efficiency of taxi services. It can help identify cities or companies with higher or lower fare rates per mile.  \n",
    "    **Chart Suggestion:** A scatter plot comparing average fare per mile against total trips or a heatmap showing fare per mile across cities.  \n",
    "\n",
    "3. **Average Trip Duration (avg_trip_duration_minutes)**  \n",
    "    **Why:** This metric provides insights into trip efficiency and customer behavior. Longer durations might indicate traffic congestion or longer trip distances.  \n",
    "    **Chart Suggestion:** A histogram of average trip durations or a box plot comparing trip durations across cities or companies.  \n",
    "\n",
    "I've selected these metrics because they can provide actionable insights into revenue generation, pricing strategies, and operational efficiency."
   ]
  },
  {
   "cell_type": "markdown",
   "id": "25881ff6",
   "metadata": {},
   "source": [
    "### Total Revenue (total_revenue_per_city)"
   ]
  },
  {
   "cell_type": "code",
   "execution_count": 22,
   "id": "ffa0f61a",
   "metadata": {},
   "outputs": [
    {
     "data": {
      "application/vnd.plotly.v1+json": {
       "config": {
        "plotlyServerURL": "https://plot.ly"
       },
       "data": [
        {
         "cells": {
          "align": "center",
          "fill": {
           "color": "lightgrey"
          },
          "font": {
           "color": "black",
           "size": 11
          },
          "values": [
           [
            1,
            2,
            3,
            4,
            5,
            6,
            7,
            8,
            9,
            10
           ],
           [
            "Metro Jet Taxi A.",
            "Metro Jet Taxi A",
            "Choice Taxi Association Inc",
            "Blue Ribbon Taxi Association Inc.",
            "Chicago Taxicab",
            "Taxicab Insurance Agency Llc",
            "Taxi Affiliation Services",
            "2767 - Sayed M Badri",
            "Blue Ribbon Taxi Association",
            "Chicago Carriage Cab Corp"
           ],
           [
            500.97,
            155.43,
            67.08,
            52.54,
            37.94,
            24.79,
            24.45,
            23.76,
            21.31,
            19.95
           ],
           [
            "296.42M $",
            "1691.03M $",
            "222.44M $",
            "46796.26M $",
            "3775.34M $",
            "5474.46M $",
            "231573.51M $",
            "1.5M $",
            "2498.64M $",
            "42245.79M $"
           ],
           [
            "61.3K",
            "562.75K",
            "229.35K",
            "70621.71K",
            "3863.06K",
            "5405.33K",
            "317938.27K",
            "6.17K",
            "2439.34K",
            "55619.32K"
           ],
           [
            "336.68K",
            "2017.36K",
            "1119.01K",
            "9913.8K",
            "12357.91K",
            "24136.22K",
            "590885.34K",
            "1.21K",
            "11097.02K",
            "236496.16K"
           ]
          ]
         },
         "header": {
          "align": "center",
          "fill": {
           "color": "grey"
          },
          "font": {
           "color": "white",
           "size": 12
          },
          "values": [
           "<b>Rank</b>",
           "<b>Company Name</b>",
           "<b>Avg Fare Per Mile ($)</b>",
           "<b>Total Revenue ($)</b>",
           "<b>Total Trips</b>",
           "<b>Total Miles</b>"
          ]
         },
         "type": "table"
        }
       ],
       "layout": {
        "height": 600,
        "template": {
         "data": {
          "bar": [
           {
            "error_x": {
             "color": "#2a3f5f"
            },
            "error_y": {
             "color": "#2a3f5f"
            },
            "marker": {
             "line": {
              "color": "#E5ECF6",
              "width": 0.5
             },
             "pattern": {
              "fillmode": "overlay",
              "size": 10,
              "solidity": 0.2
             }
            },
            "type": "bar"
           }
          ],
          "barpolar": [
           {
            "marker": {
             "line": {
              "color": "#E5ECF6",
              "width": 0.5
             },
             "pattern": {
              "fillmode": "overlay",
              "size": 10,
              "solidity": 0.2
             }
            },
            "type": "barpolar"
           }
          ],
          "carpet": [
           {
            "aaxis": {
             "endlinecolor": "#2a3f5f",
             "gridcolor": "white",
             "linecolor": "white",
             "minorgridcolor": "white",
             "startlinecolor": "#2a3f5f"
            },
            "baxis": {
             "endlinecolor": "#2a3f5f",
             "gridcolor": "white",
             "linecolor": "white",
             "minorgridcolor": "white",
             "startlinecolor": "#2a3f5f"
            },
            "type": "carpet"
           }
          ],
          "choropleth": [
           {
            "colorbar": {
             "outlinewidth": 0,
             "ticks": ""
            },
            "type": "choropleth"
           }
          ],
          "contour": [
           {
            "colorbar": {
             "outlinewidth": 0,
             "ticks": ""
            },
            "colorscale": [
             [
              0,
              "#0d0887"
             ],
             [
              0.1111111111111111,
              "#46039f"
             ],
             [
              0.2222222222222222,
              "#7201a8"
             ],
             [
              0.3333333333333333,
              "#9c179e"
             ],
             [
              0.4444444444444444,
              "#bd3786"
             ],
             [
              0.5555555555555556,
              "#d8576b"
             ],
             [
              0.6666666666666666,
              "#ed7953"
             ],
             [
              0.7777777777777778,
              "#fb9f3a"
             ],
             [
              0.8888888888888888,
              "#fdca26"
             ],
             [
              1,
              "#f0f921"
             ]
            ],
            "type": "contour"
           }
          ],
          "contourcarpet": [
           {
            "colorbar": {
             "outlinewidth": 0,
             "ticks": ""
            },
            "type": "contourcarpet"
           }
          ],
          "heatmap": [
           {
            "colorbar": {
             "outlinewidth": 0,
             "ticks": ""
            },
            "colorscale": [
             [
              0,
              "#0d0887"
             ],
             [
              0.1111111111111111,
              "#46039f"
             ],
             [
              0.2222222222222222,
              "#7201a8"
             ],
             [
              0.3333333333333333,
              "#9c179e"
             ],
             [
              0.4444444444444444,
              "#bd3786"
             ],
             [
              0.5555555555555556,
              "#d8576b"
             ],
             [
              0.6666666666666666,
              "#ed7953"
             ],
             [
              0.7777777777777778,
              "#fb9f3a"
             ],
             [
              0.8888888888888888,
              "#fdca26"
             ],
             [
              1,
              "#f0f921"
             ]
            ],
            "type": "heatmap"
           }
          ],
          "histogram": [
           {
            "marker": {
             "pattern": {
              "fillmode": "overlay",
              "size": 10,
              "solidity": 0.2
             }
            },
            "type": "histogram"
           }
          ],
          "histogram2d": [
           {
            "colorbar": {
             "outlinewidth": 0,
             "ticks": ""
            },
            "colorscale": [
             [
              0,
              "#0d0887"
             ],
             [
              0.1111111111111111,
              "#46039f"
             ],
             [
              0.2222222222222222,
              "#7201a8"
             ],
             [
              0.3333333333333333,
              "#9c179e"
             ],
             [
              0.4444444444444444,
              "#bd3786"
             ],
             [
              0.5555555555555556,
              "#d8576b"
             ],
             [
              0.6666666666666666,
              "#ed7953"
             ],
             [
              0.7777777777777778,
              "#fb9f3a"
             ],
             [
              0.8888888888888888,
              "#fdca26"
             ],
             [
              1,
              "#f0f921"
             ]
            ],
            "type": "histogram2d"
           }
          ],
          "histogram2dcontour": [
           {
            "colorbar": {
             "outlinewidth": 0,
             "ticks": ""
            },
            "colorscale": [
             [
              0,
              "#0d0887"
             ],
             [
              0.1111111111111111,
              "#46039f"
             ],
             [
              0.2222222222222222,
              "#7201a8"
             ],
             [
              0.3333333333333333,
              "#9c179e"
             ],
             [
              0.4444444444444444,
              "#bd3786"
             ],
             [
              0.5555555555555556,
              "#d8576b"
             ],
             [
              0.6666666666666666,
              "#ed7953"
             ],
             [
              0.7777777777777778,
              "#fb9f3a"
             ],
             [
              0.8888888888888888,
              "#fdca26"
             ],
             [
              1,
              "#f0f921"
             ]
            ],
            "type": "histogram2dcontour"
           }
          ],
          "mesh3d": [
           {
            "colorbar": {
             "outlinewidth": 0,
             "ticks": ""
            },
            "type": "mesh3d"
           }
          ],
          "parcoords": [
           {
            "line": {
             "colorbar": {
              "outlinewidth": 0,
              "ticks": ""
             }
            },
            "type": "parcoords"
           }
          ],
          "pie": [
           {
            "automargin": true,
            "type": "pie"
           }
          ],
          "scatter": [
           {
            "fillpattern": {
             "fillmode": "overlay",
             "size": 10,
             "solidity": 0.2
            },
            "type": "scatter"
           }
          ],
          "scatter3d": [
           {
            "line": {
             "colorbar": {
              "outlinewidth": 0,
              "ticks": ""
             }
            },
            "marker": {
             "colorbar": {
              "outlinewidth": 0,
              "ticks": ""
             }
            },
            "type": "scatter3d"
           }
          ],
          "scattercarpet": [
           {
            "marker": {
             "colorbar": {
              "outlinewidth": 0,
              "ticks": ""
             }
            },
            "type": "scattercarpet"
           }
          ],
          "scattergeo": [
           {
            "marker": {
             "colorbar": {
              "outlinewidth": 0,
              "ticks": ""
             }
            },
            "type": "scattergeo"
           }
          ],
          "scattergl": [
           {
            "marker": {
             "colorbar": {
              "outlinewidth": 0,
              "ticks": ""
             }
            },
            "type": "scattergl"
           }
          ],
          "scattermap": [
           {
            "marker": {
             "colorbar": {
              "outlinewidth": 0,
              "ticks": ""
             }
            },
            "type": "scattermap"
           }
          ],
          "scattermapbox": [
           {
            "marker": {
             "colorbar": {
              "outlinewidth": 0,
              "ticks": ""
             }
            },
            "type": "scattermapbox"
           }
          ],
          "scatterpolar": [
           {
            "marker": {
             "colorbar": {
              "outlinewidth": 0,
              "ticks": ""
             }
            },
            "type": "scatterpolar"
           }
          ],
          "scatterpolargl": [
           {
            "marker": {
             "colorbar": {
              "outlinewidth": 0,
              "ticks": ""
             }
            },
            "type": "scatterpolargl"
           }
          ],
          "scatterternary": [
           {
            "marker": {
             "colorbar": {
              "outlinewidth": 0,
              "ticks": ""
             }
            },
            "type": "scatterternary"
           }
          ],
          "surface": [
           {
            "colorbar": {
             "outlinewidth": 0,
             "ticks": ""
            },
            "colorscale": [
             [
              0,
              "#0d0887"
             ],
             [
              0.1111111111111111,
              "#46039f"
             ],
             [
              0.2222222222222222,
              "#7201a8"
             ],
             [
              0.3333333333333333,
              "#9c179e"
             ],
             [
              0.4444444444444444,
              "#bd3786"
             ],
             [
              0.5555555555555556,
              "#d8576b"
             ],
             [
              0.6666666666666666,
              "#ed7953"
             ],
             [
              0.7777777777777778,
              "#fb9f3a"
             ],
             [
              0.8888888888888888,
              "#fdca26"
             ],
             [
              1,
              "#f0f921"
             ]
            ],
            "type": "surface"
           }
          ],
          "table": [
           {
            "cells": {
             "fill": {
              "color": "#EBF0F8"
             },
             "line": {
              "color": "white"
             }
            },
            "header": {
             "fill": {
              "color": "#C8D4E3"
             },
             "line": {
              "color": "white"
             }
            },
            "type": "table"
           }
          ]
         },
         "layout": {
          "annotationdefaults": {
           "arrowcolor": "#2a3f5f",
           "arrowhead": 0,
           "arrowwidth": 1
          },
          "autotypenumbers": "strict",
          "coloraxis": {
           "colorbar": {
            "outlinewidth": 0,
            "ticks": ""
           }
          },
          "colorscale": {
           "diverging": [
            [
             0,
             "#8e0152"
            ],
            [
             0.1,
             "#c51b7d"
            ],
            [
             0.2,
             "#de77ae"
            ],
            [
             0.3,
             "#f1b6da"
            ],
            [
             0.4,
             "#fde0ef"
            ],
            [
             0.5,
             "#f7f7f7"
            ],
            [
             0.6,
             "#e6f5d0"
            ],
            [
             0.7,
             "#b8e186"
            ],
            [
             0.8,
             "#7fbc41"
            ],
            [
             0.9,
             "#4d9221"
            ],
            [
             1,
             "#276419"
            ]
           ],
           "sequential": [
            [
             0,
             "#0d0887"
            ],
            [
             0.1111111111111111,
             "#46039f"
            ],
            [
             0.2222222222222222,
             "#7201a8"
            ],
            [
             0.3333333333333333,
             "#9c179e"
            ],
            [
             0.4444444444444444,
             "#bd3786"
            ],
            [
             0.5555555555555556,
             "#d8576b"
            ],
            [
             0.6666666666666666,
             "#ed7953"
            ],
            [
             0.7777777777777778,
             "#fb9f3a"
            ],
            [
             0.8888888888888888,
             "#fdca26"
            ],
            [
             1,
             "#f0f921"
            ]
           ],
           "sequentialminus": [
            [
             0,
             "#0d0887"
            ],
            [
             0.1111111111111111,
             "#46039f"
            ],
            [
             0.2222222222222222,
             "#7201a8"
            ],
            [
             0.3333333333333333,
             "#9c179e"
            ],
            [
             0.4444444444444444,
             "#bd3786"
            ],
            [
             0.5555555555555556,
             "#d8576b"
            ],
            [
             0.6666666666666666,
             "#ed7953"
            ],
            [
             0.7777777777777778,
             "#fb9f3a"
            ],
            [
             0.8888888888888888,
             "#fdca26"
            ],
            [
             1,
             "#f0f921"
            ]
           ]
          },
          "colorway": [
           "#636efa",
           "#EF553B",
           "#00cc96",
           "#ab63fa",
           "#FFA15A",
           "#19d3f3",
           "#FF6692",
           "#B6E880",
           "#FF97FF",
           "#FECB52"
          ],
          "font": {
           "color": "#2a3f5f"
          },
          "geo": {
           "bgcolor": "white",
           "lakecolor": "white",
           "landcolor": "#E5ECF6",
           "showlakes": true,
           "showland": true,
           "subunitcolor": "white"
          },
          "hoverlabel": {
           "align": "left"
          },
          "hovermode": "closest",
          "mapbox": {
           "style": "light"
          },
          "paper_bgcolor": "white",
          "plot_bgcolor": "#E5ECF6",
          "polar": {
           "angularaxis": {
            "gridcolor": "white",
            "linecolor": "white",
            "ticks": ""
           },
           "bgcolor": "#E5ECF6",
           "radialaxis": {
            "gridcolor": "white",
            "linecolor": "white",
            "ticks": ""
           }
          },
          "scene": {
           "xaxis": {
            "backgroundcolor": "#E5ECF6",
            "gridcolor": "white",
            "gridwidth": 2,
            "linecolor": "white",
            "showbackground": true,
            "ticks": "",
            "zerolinecolor": "white"
           },
           "yaxis": {
            "backgroundcolor": "#E5ECF6",
            "gridcolor": "white",
            "gridwidth": 2,
            "linecolor": "white",
            "showbackground": true,
            "ticks": "",
            "zerolinecolor": "white"
           },
           "zaxis": {
            "backgroundcolor": "#E5ECF6",
            "gridcolor": "white",
            "gridwidth": 2,
            "linecolor": "white",
            "showbackground": true,
            "ticks": "",
            "zerolinecolor": "white"
           }
          },
          "shapedefaults": {
           "line": {
            "color": "#2a3f5f"
           }
          },
          "ternary": {
           "aaxis": {
            "gridcolor": "white",
            "linecolor": "white",
            "ticks": ""
           },
           "baxis": {
            "gridcolor": "white",
            "linecolor": "white",
            "ticks": ""
           },
           "bgcolor": "#E5ECF6",
           "caxis": {
            "gridcolor": "white",
            "linecolor": "white",
            "ticks": ""
           }
          },
          "title": {
           "x": 0.05
          },
          "xaxis": {
           "automargin": true,
           "gridcolor": "white",
           "linecolor": "white",
           "ticks": "",
           "title": {
            "standoff": 15
           },
           "zerolinecolor": "white",
           "zerolinewidth": 2
          },
          "yaxis": {
           "automargin": true,
           "gridcolor": "white",
           "linecolor": "white",
           "ticks": "",
           "title": {
            "standoff": 15
           },
           "zerolinecolor": "white",
           "zerolinewidth": 2
          }
         }
        },
        "title": {
         "text": "Top 10 Taxi Companies with Highest Avg Fare Per Mile",
         "x": 0.5
        },
        "width": 1200
       }
      }
     },
     "metadata": {},
     "output_type": "display_data"
    }
   ],
   "source": [
    "# Group by taxi company and calculate the average fare per mile\n",
    "top_companies_avg_fare_per_mile = df.groupby('taxi_company').agg(\n",
    "    Avg_Fare_Per_Mile=('avg_fare_per_mile', 'mean'),\n",
    "    Total_Revenue=('total_revenue_per_company', 'sum'),\n",
    "    Total_Trips=('total_trips', 'sum'),\n",
    "    Total_Miles=('total_trip_miles', 'sum')\n",
    ").reset_index()\n",
    "\n",
    "# Sort by Avg_Fare_Per_Mile in descending order and select the top 10\n",
    "top_companies_avg_fare_per_mile = top_companies_avg_fare_per_mile.sort_values(\n",
    "    by='Avg_Fare_Per_Mile', ascending=False\n",
    ").head(10)\n",
    "\n",
    "# Prepare the data for the Plotly table\n",
    "table_data = {\n",
    "    'Rank': list(range(1, 11)),  # Convert range to list\n",
    "    'Company Name': top_companies_avg_fare_per_mile['taxi_company'],\n",
    "    'Avg Fare Per Mile ($)': top_companies_avg_fare_per_mile['Avg_Fare_Per_Mile'].round(2),\n",
    "    'Total Revenue ($)': (top_companies_avg_fare_per_mile['Total_Revenue'] / 1e6).round(2).astype(str) + 'M $',\n",
    "    'Total Trips': (top_companies_avg_fare_per_mile['Total_Trips'] / 1e3).round(2).astype(str) + 'K',\n",
    "    'Total Miles': (top_companies_avg_fare_per_mile['Total_Miles'] / 1e3).round(2).astype(str) + 'K'\n",
    "}\n",
    "\n",
    "# Create the Plotly table\n",
    "fig = go.Figure(data=[go.Table(\n",
    "    header=dict(\n",
    "        values=['<b>Rank</b>', '<b>Company Name</b>', '<b>Avg Fare Per Mile ($)</b>',\n",
    "                '<b>Total Revenue ($)</b>', '<b>Total Trips</b>', '<b>Total Miles</b>'],\n",
    "        fill_color='grey',\n",
    "        align='center',\n",
    "        font=dict(color='white', size=12)\n",
    "    ),\n",
    "    cells=dict(\n",
    "        values=[\n",
    "            table_data['Rank'],\n",
    "            table_data['Company Name'],\n",
    "            table_data['Avg Fare Per Mile ($)'],\n",
    "            table_data['Total Revenue ($)'],\n",
    "            table_data['Total Trips'],\n",
    "            table_data['Total Miles']\n",
    "        ],\n",
    "        fill_color='lightgrey',\n",
    "        align='center',\n",
    "        font=dict(color='black', size=11)\n",
    "    )\n",
    ")])\n",
    "\n",
    "# Update layout for better visualization\n",
    "fig.update_layout(\n",
    "    title_text='Top 10 Taxi Companies with Highest Avg Fare Per Mile',\n",
    "    title_x=0.5,\n",
    "    width=1200,\n",
    "    height=600\n",
    ")\n",
    "\n",
    "# Display the table\n",
    "fig.show()\n"
   ]
  }
 ],
 "metadata": {
  "kernelspec": {
   "display_name": "Python 3",
   "language": "python",
   "name": "python3"
  },
  "language_info": {
   "codemirror_mode": {
    "name": "ipython",
    "version": 3
   },
   "file_extension": ".py",
   "mimetype": "text/x-python",
   "name": "python",
   "nbconvert_exporter": "python",
   "pygments_lexer": "ipython3",
   "version": "3.13.1"
  }
 },
 "nbformat": 4,
 "nbformat_minor": 5
}
