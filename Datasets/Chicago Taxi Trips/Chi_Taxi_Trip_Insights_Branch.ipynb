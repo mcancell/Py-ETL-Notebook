{
 "cells": [
  {
   "cell_type": "markdown",
   "id": "850f7ad7",
   "metadata": {},
   "source": [
    "# Notebook Setup"
   ]
  },
  {
   "cell_type": "markdown",
   "id": "2ef4d9dd",
   "metadata": {},
   "source": [
    "## ✔ Get My BQ Credentials to Access the Dataset"
   ]
  },
  {
   "cell_type": "markdown",
   "id": "8cb22b7a",
   "metadata": {},
   "source": [
    "## ✔ Load Directory Locations"
   ]
  },
  {
   "cell_type": "code",
   "execution_count": 1,
   "id": "7872ec7b",
   "metadata": {},
   "outputs": [
    {
     "name": "stdout",
     "output_type": "stream",
     "text": [
      "Common_Funcs_Dir: /Users/mike/Develop/Projects/Code Notebook/Common/Functions\n",
      "Credentials_Dir: /Users/mike/Develop/Projects/Code Notebook/Credentials\n",
      "Rel_Pickes_Dir: ../.pickles\n",
      "Pub_Data_Dir: '/Users/mike/Data/Public\n",
      "BQ_Service_Key: /Users/mike/Develop/Conf/GCP Service Keys/***\n"
     ]
    }
   ],
   "source": [
    "import json\n",
    "import os\n",
    "\n",
    "# Check if the file exists and load the JSON file into a dictionary\n",
    "file_path = r'C:\\Users\\mike\\Develop\\Projects\\Code Notebook\\Credentials\\locations_conf.json'\n",
    "if os.path.exists(file_path):\n",
    "    with open(file_path, 'r') as f:\n",
    "        locations_data = json.load(f)\n",
    "    for key, value in locations_data.items():\n",
    "        if key == 'BQ_Service_Key':\n",
    "            # Mask the final part of the key for security\n",
    "            value = value.rsplit('/', 1)[0] + '/***'\n",
    "        print(f\"{key}: {value}\")\n",
    "else:\n",
    "    print(f\"File not found: {file_path}\")"
   ]
  },
  {
   "cell_type": "markdown",
   "id": "39ce2053",
   "metadata": {},
   "source": [
    "## ✔ Connect to Google Cloud"
   ]
  },
  {
   "cell_type": "code",
   "execution_count": 2,
   "id": "4f08563d",
   "metadata": {},
   "outputs": [],
   "source": [
    "from google.oauth2 import service_account\n",
    "\n",
    "# Resolve the key path from the locations data\n",
    "key_path = locations_data.get('BQ_Service_Key', 'default_key_path.json')\n",
    "\n",
    "# Create credentials using the key file\n",
    "credentials = service_account.Credentials.from_service_account_file(key_path)"
   ]
  },
  {
   "cell_type": "markdown",
   "id": "5831505a",
   "metadata": {},
   "source": [
    "## ✔ Notebook Functions"
   ]
  },
  {
   "cell_type": "markdown",
   "id": "6608abdb",
   "metadata": {},
   "source": [
    "### Text Reformattor"
   ]
  },
  {
   "cell_type": "code",
   "execution_count": 3,
   "id": "39f1d5e4",
   "metadata": {},
   "outputs": [],
   "source": [
    "def reformat_text(data: str) -> str:\n",
    "    \"\"\"\n",
    "    Reformat the input text by performing the following:\n",
    "    - Replace standalone hyphens with bullet points and add HTML <br> tags for new lines.\n",
    "    - Preserve hyphens in hyphenated words (e.g., \"flat-rate pricing\").\n",
    "    - Add a break after each sentence ends, retaining the period, but not splitting on floats.\n",
    "    - Handle cases with multiple consecutive periods.\n",
    "    - Remove leading white space prior to each new line.\n",
    "    - Replace multiple spaces with a single space.\n",
    "    - Add indentation to each bullet point.\n",
    "\n",
    "    Args:\n",
    "        data (str): The input string to be reformatted.\n",
    "\n",
    "    Returns:\n",
    "        str: The reformatted string.\n",
    "    \"\"\"\n",
    "    import re\n",
    "\n",
    "    # Replace standalone hyphens with bullet points and add HTML <br> tags for new lines\n",
    "    data = re.sub(r'(?<!\\w)-(?=\\s)', '•', data)  # Replace standalone hyphens\n",
    "    data = re.sub(r'•', '<br>•', data)\n",
    "\n",
    "    # Add a break after each sentence ends, retaining the period, but not splitting on floats\n",
    "    data = re.sub(r'(?<!\\d)\\.(?!\\d)', '.<br>', data)\n",
    "\n",
    "    # Handle cases with multiple consecutive periods (e.g., \"...\") by replacing them with a single period followed by a break\n",
    "    data = re.sub(r'\\.{2,}', '.<br>', data)\n",
    "\n",
    "    # Remove leading white space prior to each new line\n",
    "    data = re.sub(r'<br>\\s+', '<br>', data)\n",
    "\n",
    "    # Replace multiple spaces with a single space\n",
    "    data = re.sub(r'\\s{2,}', ' ', data)\n",
    "\n",
    "    # Add indentation to each bullet point\n",
    "    data = re.sub(r'<br>•', '<br>&nbsp;&nbsp;&nbsp;&nbsp;•', data)\n",
    "\n",
    "    return data\n"
   ]
  },
  {
   "cell_type": "markdown",
   "id": "e9eb575c",
   "metadata": {},
   "source": [
    "# DATA OFFICE TECHNICAL SKILLS ASSESSMENT\n",
    "This test is designed to give us a better understanding of how our candidates leverage their technical skills to answer business questions and communicate findings.\n",
    "To complete the assignment you will have to work with the following Big Query public data set:\n",
    "Chicago Taxi Trips dataset:\n",
    "`bigquery-public-data.chicago_taxi_trips.taxi_trips`"
   ]
  },
  {
   "cell_type": "markdown",
   "id": "819f4c26",
   "metadata": {},
   "source": [
    "# PART I"
   ]
  },
  {
   "cell_type": "markdown",
   "id": "8d6e51ee",
   "metadata": {},
   "source": [
    "## ✔ Please submit your SQL code (follow [URL](https://github.com/mcancell/Py-ETL-Notebook/blob/main/Datasets/Chicago%20Taxi%20Trips/Chi_Taxi_Trip_Insights_Branch_Part_I.bqsql)):\n",
    "showing how you approached the data to be able to answer the following two questions. Note that a query that returns a lot of data and needs to be exported/manipulated in Excel is not preferred. A query that just returns the answer requested and no other data is preferred.\n",
    "\n",
    "[See Code Here](https://github.com/mcancell/Py-ETL-Notebook/blob/main/Datasets/Chicago%20Taxi%20Trips/Chi_Taxi_Trip_Insights_Branch_Part_I.bqsql)"
   ]
  },
  {
   "cell_type": "markdown",
   "id": "5ce28298",
   "metadata": {},
   "source": [
    "## ✔ Load & Show Query"
   ]
  },
  {
   "cell_type": "code",
   "execution_count": 4,
   "id": "ba9311b4",
   "metadata": {},
   "outputs": [
    {
     "name": "stdout",
     "output_type": "stream",
     "text": [
      "SQL code loaded successfully from file: Chi_Taxi_Trip_Insights_Branch_Part_I.bqsql\n"
     ]
    }
   ],
   "source": [
    "# Define the final filename as a variable\n",
    "filename = 'Chi_Taxi_Trip_Insights_Branch_Part_I.bqsql'\n",
    "\n",
    "# Dynamically construct the absolute path to the SQL file\n",
    "sql_file_path = os.path.abspath(os.path.join('C:\\\\Users\\\\mike\\\\Develop\\\\Projects\\\\Code Notebook\\\\Datasets\\\\Chicago Taxi Trips', filename))\n",
    "\n",
    "# Check if the file exists and load the SQL code into a variable\n",
    "if os.path.exists(sql_file_path):\n",
    "    with open(sql_file_path, 'r') as sql_file:\n",
    "        sql_code = sql_file.read()\n",
    "    print(f\"SQL code loaded successfully from file: {filename}\")\n",
    "else:\n",
    "    print(f\"File not found: {sql_file_path}\")"
   ]
  },
  {
   "cell_type": "code",
   "execution_count": 5,
   "id": "e5a097f5",
   "metadata": {},
   "outputs": [
    {
     "data": {
      "text/html": [
       "<div class=\"highlight\" style=\"background: #ffffff\"><pre style=\"line-height: 125%;\"><span></span><span style=\"color: #888888; font-style: italic\">-- Part I of the Chicago Taxi Trips Insights Query</span>\n",
       "<span style=\"color: #888888; font-style: italic\">/* </span>\n",
       "<span style=\"color: #888888; font-style: italic\">    AI Generated comments:</span>\n",
       "<span style=\"color: #888888; font-style: italic\">    This query analyzes Chicago Taxi Trips data to identify:</span>\n",
       "<span style=\"color: #888888; font-style: italic\">    1. The largest month-over-month increases in trips for each taxi company.</span>\n",
       "<span style=\"color: #888888; font-style: italic\">    2. The largest month-over-month decreases in fare per mile for each taxi company.</span>\n",
       "\n",
       "<span style=\"color: #888888; font-style: italic\">    Key Features:</span>\n",
       "<span style=\"color: #888888; font-style: italic\">    - Standardizes company names to handle variations (e.g., punctuation, case).</span>\n",
       "<span style=\"color: #888888; font-style: italic\">    - Calculates month-over-month metrics (trip count and fare per mile).</span>\n",
       "<span style=\"color: #888888; font-style: italic\">    - Ranks companies based on the largest increases and decreases.</span>\n",
       "<span style=\"color: #888888; font-style: italic\">    - Extracts insights for the top 3 companies for each metric.</span>\n",
       "\n",
       "<span style=\"color: #888888; font-style: italic\">    Filters Applied:</span>\n",
       "<span style=\"color: #888888; font-style: italic\">    - Exclude trips with no company information (`company IS NOT NULL`).</span>\n",
       "<span style=\"color: #888888; font-style: italic\">    - Exclude trips with zero or negative miles for fare per mile calculations (`trip_miles &gt; 0`).</span>\n",
       "<span style=\"color: #888888; font-style: italic\">    - Exclude months with very low prior metrics to avoid noise:</span>\n",
       "<span style=\"color: #888888; font-style: italic\">        - `Mon_Prior_Metric_Val &gt; 100` for trip increases.</span>\n",
       "<span style=\"color: #888888; font-style: italic\">        - `Mon_Prior_Metric_Val &gt; 0.1` for fare per mile decreases.</span>\n",
       "<span style=\"color: #888888; font-style: italic\">    - Cap extreme percentage changes:</span>\n",
       "<span style=\"color: #888888; font-style: italic\">        - `SAFE_DIVIDE(metric_delta, Mon_Prior_Metric_Val) &lt;= 10` for trip increases.</span>\n",
       "<span style=\"color: #888888; font-style: italic\">        - `SAFE_DIVIDE(metric_delta, Mon_Prior_Metric_Val) &gt;= -10` for fare per mile decreases.</span>\n",
       "\n",
       "<span style=\"color: #888888; font-style: italic\">    Resulting Output Columns:</span>\n",
       "<span style=\"color: #888888; font-style: italic\">    - `Metric_Description`: Describes the metric being analyzed (e.g., &quot;Largest Month-Over-Month Increase in Trips&quot;).</span>\n",
       "<span style=\"color: #888888; font-style: italic\">    - `standardized_company`: Standardized company name (lowercase, no punctuation).</span>\n",
       "<span style=\"color: #888888; font-style: italic\">    - `Taxi_Company`: Original company name.</span>\n",
       "<span style=\"color: #888888; font-style: italic\">    - `Trip_Month`: Month of the metric in `YYYY-MM` format.</span>\n",
       "<span style=\"color: #888888; font-style: italic\">    - `Mon_Metric_Val`: Current month&#39;s metric value (trip count or fare per mile).</span>\n",
       "<span style=\"color: #888888; font-style: italic\">    - `Metric_Delta`: Month-over-month change in the metric.</span>\n",
       "<span style=\"color: #888888; font-style: italic\">    - `Mon_Prior_Metric_Val`: Previous month&#39;s metric value.</span>\n",
       "<span style=\"color: #888888; font-style: italic\">    - `Metric_Mon_Pct_Chg`: Numeric percentage change from the prior month.</span>\n",
       "<span style=\"color: #888888; font-style: italic\">    - `Metric_Mon_Pct_Chg_Str`: String representation of the percentage change (e.g., &quot;123.4%&quot;).</span>\n",
       "<span style=\"color: #888888; font-style: italic\">    - `Metric_Insight`: Textual insight explaining the metric&#39;s significance.</span>\n",
       "<span style=\"color: #888888; font-style: italic\">*/</span>\n",
       "\n",
       "<span style=\"color: #888888; font-style: italic\">--CREATE OR REPLACE TABLE `mikecancell-development.Chicago_Taxi_Trips.Monthly_Insights_Part_I` AS</span>\n",
       "<span style=\"color: #005cc5; font-weight: bold\">WITH</span>\n",
       "    <span style=\"color: #888888; font-style: italic\">-- Standardize Company Names</span>\n",
       "    <span style=\"color: #22863a; font-weight: bold\">Trip_Increases</span> <span style=\"color: #005cc5; font-weight: bold\">AS</span> <span style=\"color: #24292e; font-weight: bold\">(</span>\n",
       "        <span style=\"color: #005cc5; font-weight: bold\">SELECT</span>\n",
       "            <span style=\"color: #22863a; font-weight: bold\">REGEXP_REPLACE</span><span style=\"color: #24292e; font-weight: bold\">(</span><span style=\"color: #005cc5; font-weight: bold\">LOWER</span><span style=\"color: #24292e; font-weight: bold\">(</span><span style=\"color: #005cc5; font-weight: bold\">TRIM</span><span style=\"color: #24292e; font-weight: bold\">(</span><span style=\"color: #22863a; font-weight: bold\">company</span><span style=\"color: #24292e; font-weight: bold\">)),</span> <span style=\"color: #22863a; font-weight: bold\">r</span><span style=\"color: #d73a49; font-style: italic\">&#39;[^a-z0-9\\s]&#39;</span><span style=\"color: #24292e; font-weight: bold\">,</span> <span style=\"color: #d73a49; font-style: italic\">&#39;&#39;</span><span style=\"color: #24292e; font-weight: bold\">)</span> <span style=\"color: #005cc5; font-weight: bold\">AS</span> <span style=\"color: #22863a; font-weight: bold\">standardized_company</span><span style=\"color: #24292e; font-weight: bold\">,</span> <span style=\"color: #888888; font-style: italic\">-- Standardize company names</span>\n",
       "            <span style=\"color: #d73a49; font-style: italic\">&#39;I.a-Largest Month-Over-Month Increase in Trips&#39;</span> <span style=\"color: #005cc5; font-weight: bold\">AS</span> <span style=\"color: #22863a; font-weight: bold\">Metric_Description</span><span style=\"color: #24292e; font-weight: bold\">,</span>\n",
       "            <span style=\"color: #22863a; font-weight: bold\">company</span><span style=\"color: #24292e; font-weight: bold\">,</span>\n",
       "            <span style=\"color: #22863a; font-weight: bold\">FORMAT_TIMESTAMP</span><span style=\"color: #24292e; font-weight: bold\">(</span><span style=\"color: #d73a49; font-style: italic\">&#39;%Y-%m&#39;</span><span style=\"color: #24292e; font-weight: bold\">,</span> <span style=\"color: #22863a; font-weight: bold\">trip_month</span><span style=\"color: #24292e; font-weight: bold\">)</span> <span style=\"color: #005cc5; font-weight: bold\">AS</span> <span style=\"color: #22863a; font-weight: bold\">trip_month</span><span style=\"color: #24292e; font-weight: bold\">,</span> <span style=\"color: #888888; font-style: italic\">-- Format trip month as YYYY-MM</span>\n",
       "            <span style=\"color: #22863a; font-weight: bold\">metric</span><span style=\"color: #24292e; font-weight: bold\">,</span>\n",
       "            <span style=\"color: #22863a; font-weight: bold\">LAG</span><span style=\"color: #24292e; font-weight: bold\">(</span><span style=\"color: #22863a; font-weight: bold\">metric</span><span style=\"color: #24292e; font-weight: bold\">)</span> <span style=\"color: #22863a; font-weight: bold\">OVER</span> <span style=\"color: #24292e; font-weight: bold\">(</span><span style=\"color: #22863a; font-weight: bold\">PARTITION</span> <span style=\"color: #005cc5; font-weight: bold\">BY</span> <span style=\"color: #22863a; font-weight: bold\">REGEXP_REPLACE</span><span style=\"color: #24292e; font-weight: bold\">(</span><span style=\"color: #005cc5; font-weight: bold\">LOWER</span><span style=\"color: #24292e; font-weight: bold\">(</span><span style=\"color: #005cc5; font-weight: bold\">TRIM</span><span style=\"color: #24292e; font-weight: bold\">(</span><span style=\"color: #22863a; font-weight: bold\">company</span><span style=\"color: #24292e; font-weight: bold\">)),</span> <span style=\"color: #22863a; font-weight: bold\">r</span><span style=\"color: #d73a49; font-style: italic\">&#39;[^a-z0-9\\s]&#39;</span><span style=\"color: #24292e; font-weight: bold\">,</span> <span style=\"color: #d73a49; font-style: italic\">&#39;&#39;</span><span style=\"color: #24292e; font-weight: bold\">)</span> <span style=\"color: #005cc5; font-weight: bold\">ORDER</span> <span style=\"color: #005cc5; font-weight: bold\">BY</span> <span style=\"color: #22863a; font-weight: bold\">trip_month</span><span style=\"color: #24292e; font-weight: bold\">)</span> <span style=\"color: #005cc5; font-weight: bold\">AS</span> <span style=\"color: #22863a; font-weight: bold\">Mon_Prior_Metric_Val</span><span style=\"color: #24292e; font-weight: bold\">,</span> <span style=\"color: #888888; font-style: italic\">-- Previous month&#39;s metric</span>\n",
       "            <span style=\"color: #22863a; font-weight: bold\">metric</span> <span style=\"color: #e36209; font-weight: bold\">-</span> <span style=\"color: #22863a; font-weight: bold\">LAG</span><span style=\"color: #24292e; font-weight: bold\">(</span><span style=\"color: #22863a; font-weight: bold\">metric</span><span style=\"color: #24292e; font-weight: bold\">)</span> <span style=\"color: #22863a; font-weight: bold\">OVER</span> <span style=\"color: #24292e; font-weight: bold\">(</span><span style=\"color: #22863a; font-weight: bold\">PARTITION</span> <span style=\"color: #005cc5; font-weight: bold\">BY</span> <span style=\"color: #22863a; font-weight: bold\">REGEXP_REPLACE</span><span style=\"color: #24292e; font-weight: bold\">(</span><span style=\"color: #005cc5; font-weight: bold\">LOWER</span><span style=\"color: #24292e; font-weight: bold\">(</span><span style=\"color: #005cc5; font-weight: bold\">TRIM</span><span style=\"color: #24292e; font-weight: bold\">(</span><span style=\"color: #22863a; font-weight: bold\">company</span><span style=\"color: #24292e; font-weight: bold\">)),</span> <span style=\"color: #22863a; font-weight: bold\">r</span><span style=\"color: #d73a49; font-style: italic\">&#39;[^a-z0-9\\s]&#39;</span><span style=\"color: #24292e; font-weight: bold\">,</span> <span style=\"color: #d73a49; font-style: italic\">&#39;&#39;</span><span style=\"color: #24292e; font-weight: bold\">)</span> <span style=\"color: #005cc5; font-weight: bold\">ORDER</span> <span style=\"color: #005cc5; font-weight: bold\">BY</span> <span style=\"color: #22863a; font-weight: bold\">trip_month</span><span style=\"color: #24292e; font-weight: bold\">)</span> <span style=\"color: #005cc5; font-weight: bold\">AS</span> <span style=\"color: #22863a; font-weight: bold\">metric_delta</span> <span style=\"color: #888888; font-style: italic\">-- Month-over-month change</span>\n",
       "        <span style=\"color: #005cc5; font-weight: bold\">FROM</span> <span style=\"color: #24292e; font-weight: bold\">(</span>\n",
       "            <span style=\"color: #005cc5; font-weight: bold\">SELECT</span>\n",
       "                <span style=\"color: #22863a; font-weight: bold\">company</span><span style=\"color: #24292e; font-weight: bold\">,</span>\n",
       "                <span style=\"color: #22863a; font-weight: bold\">DATE_TRUNC</span><span style=\"color: #24292e; font-weight: bold\">(</span><span style=\"color: #22863a; font-weight: bold\">trip_start_timestamp</span><span style=\"color: #24292e; font-weight: bold\">,</span> <span style=\"color: #005cc5; font-weight: bold\">MONTH</span><span style=\"color: #24292e; font-weight: bold\">)</span> <span style=\"color: #005cc5; font-weight: bold\">AS</span> <span style=\"color: #22863a; font-weight: bold\">trip_month</span><span style=\"color: #24292e; font-weight: bold\">,</span> <span style=\"color: #888888; font-style: italic\">-- Extract month from trip start timestamp</span>\n",
       "                <span style=\"color: #005cc5; font-weight: bold\">COUNT</span><span style=\"color: #24292e; font-weight: bold\">(</span><span style=\"color: #e36209; font-weight: bold\">*</span><span style=\"color: #24292e; font-weight: bold\">)</span> <span style=\"color: #005cc5; font-weight: bold\">AS</span> <span style=\"color: #22863a; font-weight: bold\">metric</span> <span style=\"color: #888888; font-style: italic\">-- Count trips</span>\n",
       "            <span style=\"color: #005cc5; font-weight: bold\">FROM</span>\n",
       "                <span style=\"color: #e36209; font-weight: bold\">`</span><span style=\"color: #22863a; font-weight: bold\">bigquery</span><span style=\"color: #e36209; font-weight: bold\">-</span><span style=\"color: #005cc5; font-weight: bold\">public</span><span style=\"color: #e36209; font-weight: bold\">-</span><span style=\"color: #005cc5; font-weight: bold\">data</span><span style=\"color: #24292e; font-weight: bold\">.</span><span style=\"color: #22863a; font-weight: bold\">chicago_taxi_trips</span><span style=\"color: #24292e; font-weight: bold\">.</span><span style=\"color: #22863a; font-weight: bold\">taxi_trips</span><span style=\"color: #e36209; font-weight: bold\">`</span>\n",
       "            <span style=\"color: #005cc5; font-weight: bold\">WHERE</span> \n",
       "                <span style=\"color: #22863a; font-weight: bold\">company</span> <span style=\"color: #005cc5; font-weight: bold\">IS</span> <span style=\"color: #005cc5; font-weight: bold\">NOT</span> <span style=\"color: #005cc5; font-weight: bold\">NULL</span> <span style=\"color: #888888; font-style: italic\">-- Exclude trips with no company information</span>\n",
       "            <span style=\"color: #005cc5; font-weight: bold\">GROUP</span> <span style=\"color: #005cc5; font-weight: bold\">BY</span>\n",
       "                <span style=\"color: #22863a; font-weight: bold\">company</span><span style=\"color: #24292e; font-weight: bold\">,</span> \n",
       "                <span style=\"color: #22863a; font-weight: bold\">DATE_TRUNC</span><span style=\"color: #24292e; font-weight: bold\">(</span><span style=\"color: #22863a; font-weight: bold\">trip_start_timestamp</span><span style=\"color: #24292e; font-weight: bold\">,</span> <span style=\"color: #005cc5; font-weight: bold\">MONTH</span><span style=\"color: #24292e; font-weight: bold\">)</span>\n",
       "        <span style=\"color: #24292e; font-weight: bold\">)</span> <span style=\"color: #22863a; font-weight: bold\">aggregated_data</span>\n",
       "    <span style=\"color: #24292e; font-weight: bold\">),</span>\n",
       "    \n",
       "    <span style=\"color: #22863a; font-weight: bold\">Fare_Decreases</span> <span style=\"color: #005cc5; font-weight: bold\">AS</span> <span style=\"color: #24292e; font-weight: bold\">(</span>\n",
       "        <span style=\"color: #005cc5; font-weight: bold\">SELECT</span>\n",
       "            <span style=\"color: #22863a; font-weight: bold\">REGEXP_REPLACE</span><span style=\"color: #24292e; font-weight: bold\">(</span><span style=\"color: #005cc5; font-weight: bold\">LOWER</span><span style=\"color: #24292e; font-weight: bold\">(</span><span style=\"color: #005cc5; font-weight: bold\">TRIM</span><span style=\"color: #24292e; font-weight: bold\">(</span><span style=\"color: #22863a; font-weight: bold\">company</span><span style=\"color: #24292e; font-weight: bold\">)),</span> <span style=\"color: #22863a; font-weight: bold\">r</span><span style=\"color: #d73a49; font-style: italic\">&#39;[^a-z0-9\\s]&#39;</span><span style=\"color: #24292e; font-weight: bold\">,</span> <span style=\"color: #d73a49; font-style: italic\">&#39;&#39;</span><span style=\"color: #24292e; font-weight: bold\">)</span> <span style=\"color: #005cc5; font-weight: bold\">AS</span> <span style=\"color: #22863a; font-weight: bold\">standardized_company</span><span style=\"color: #24292e; font-weight: bold\">,</span> <span style=\"color: #888888; font-style: italic\">-- Standardize company names</span>\n",
       "            <span style=\"color: #d73a49; font-style: italic\">&#39;I.b-Largest Month-Over-Month Decrease in Fare Per Mile&#39;</span> <span style=\"color: #005cc5; font-weight: bold\">AS</span> <span style=\"color: #22863a; font-weight: bold\">Metric_Description</span><span style=\"color: #24292e; font-weight: bold\">,</span>\n",
       "            <span style=\"color: #22863a; font-weight: bold\">company</span><span style=\"color: #24292e; font-weight: bold\">,</span>\n",
       "            <span style=\"color: #22863a; font-weight: bold\">FORMAT_TIMESTAMP</span><span style=\"color: #24292e; font-weight: bold\">(</span><span style=\"color: #d73a49; font-style: italic\">&#39;%Y-%m&#39;</span><span style=\"color: #24292e; font-weight: bold\">,</span> <span style=\"color: #22863a; font-weight: bold\">trip_month</span><span style=\"color: #24292e; font-weight: bold\">)</span> <span style=\"color: #005cc5; font-weight: bold\">AS</span> <span style=\"color: #22863a; font-weight: bold\">trip_month</span><span style=\"color: #24292e; font-weight: bold\">,</span> <span style=\"color: #888888; font-style: italic\">-- Format trip month as YYYY-MM</span>\n",
       "            <span style=\"color: #22863a; font-weight: bold\">metric</span><span style=\"color: #24292e; font-weight: bold\">,</span>\n",
       "            <span style=\"color: #22863a; font-weight: bold\">LAG</span><span style=\"color: #24292e; font-weight: bold\">(</span><span style=\"color: #22863a; font-weight: bold\">metric</span><span style=\"color: #24292e; font-weight: bold\">)</span> <span style=\"color: #22863a; font-weight: bold\">OVER</span> <span style=\"color: #24292e; font-weight: bold\">(</span><span style=\"color: #22863a; font-weight: bold\">PARTITION</span> <span style=\"color: #005cc5; font-weight: bold\">BY</span> <span style=\"color: #22863a; font-weight: bold\">REGEXP_REPLACE</span><span style=\"color: #24292e; font-weight: bold\">(</span><span style=\"color: #005cc5; font-weight: bold\">LOWER</span><span style=\"color: #24292e; font-weight: bold\">(</span><span style=\"color: #005cc5; font-weight: bold\">TRIM</span><span style=\"color: #24292e; font-weight: bold\">(</span><span style=\"color: #22863a; font-weight: bold\">company</span><span style=\"color: #24292e; font-weight: bold\">)),</span> <span style=\"color: #22863a; font-weight: bold\">r</span><span style=\"color: #d73a49; font-style: italic\">&#39;[^a-z0-9\\s]&#39;</span><span style=\"color: #24292e; font-weight: bold\">,</span> <span style=\"color: #d73a49; font-style: italic\">&#39;&#39;</span><span style=\"color: #24292e; font-weight: bold\">)</span> <span style=\"color: #005cc5; font-weight: bold\">ORDER</span> <span style=\"color: #005cc5; font-weight: bold\">BY</span> <span style=\"color: #22863a; font-weight: bold\">trip_month</span><span style=\"color: #24292e; font-weight: bold\">)</span> <span style=\"color: #005cc5; font-weight: bold\">AS</span> <span style=\"color: #22863a; font-weight: bold\">Mon_Prior_Metric_Val</span><span style=\"color: #24292e; font-weight: bold\">,</span> <span style=\"color: #888888; font-style: italic\">-- Previous month&#39;s metric</span>\n",
       "            <span style=\"color: #22863a; font-weight: bold\">metric</span> <span style=\"color: #e36209; font-weight: bold\">-</span> <span style=\"color: #22863a; font-weight: bold\">LAG</span><span style=\"color: #24292e; font-weight: bold\">(</span><span style=\"color: #22863a; font-weight: bold\">metric</span><span style=\"color: #24292e; font-weight: bold\">)</span> <span style=\"color: #22863a; font-weight: bold\">OVER</span> <span style=\"color: #24292e; font-weight: bold\">(</span><span style=\"color: #22863a; font-weight: bold\">PARTITION</span> <span style=\"color: #005cc5; font-weight: bold\">BY</span> <span style=\"color: #22863a; font-weight: bold\">REGEXP_REPLACE</span><span style=\"color: #24292e; font-weight: bold\">(</span><span style=\"color: #005cc5; font-weight: bold\">LOWER</span><span style=\"color: #24292e; font-weight: bold\">(</span><span style=\"color: #005cc5; font-weight: bold\">TRIM</span><span style=\"color: #24292e; font-weight: bold\">(</span><span style=\"color: #22863a; font-weight: bold\">company</span><span style=\"color: #24292e; font-weight: bold\">)),</span> <span style=\"color: #22863a; font-weight: bold\">r</span><span style=\"color: #d73a49; font-style: italic\">&#39;[^a-z0-9\\s]&#39;</span><span style=\"color: #24292e; font-weight: bold\">,</span> <span style=\"color: #d73a49; font-style: italic\">&#39;&#39;</span><span style=\"color: #24292e; font-weight: bold\">)</span> <span style=\"color: #005cc5; font-weight: bold\">ORDER</span> <span style=\"color: #005cc5; font-weight: bold\">BY</span> <span style=\"color: #22863a; font-weight: bold\">trip_month</span><span style=\"color: #24292e; font-weight: bold\">)</span> <span style=\"color: #005cc5; font-weight: bold\">AS</span> <span style=\"color: #22863a; font-weight: bold\">metric_delta</span> <span style=\"color: #888888; font-style: italic\">-- Month-over-month change</span>\n",
       "        <span style=\"color: #005cc5; font-weight: bold\">FROM</span> <span style=\"color: #24292e; font-weight: bold\">(</span>\n",
       "            <span style=\"color: #005cc5; font-weight: bold\">SELECT</span>\n",
       "                <span style=\"color: #22863a; font-weight: bold\">company</span><span style=\"color: #24292e; font-weight: bold\">,</span>\n",
       "                <span style=\"color: #22863a; font-weight: bold\">DATE_TRUNC</span><span style=\"color: #24292e; font-weight: bold\">(</span><span style=\"color: #22863a; font-weight: bold\">trip_start_timestamp</span><span style=\"color: #24292e; font-weight: bold\">,</span> <span style=\"color: #005cc5; font-weight: bold\">MONTH</span><span style=\"color: #24292e; font-weight: bold\">)</span> <span style=\"color: #005cc5; font-weight: bold\">AS</span> <span style=\"color: #22863a; font-weight: bold\">trip_month</span><span style=\"color: #24292e; font-weight: bold\">,</span> <span style=\"color: #888888; font-style: italic\">-- Extract month from trip start timestamp</span>\n",
       "                <span style=\"color: #22863a; font-weight: bold\">SAFE_DIVIDE</span><span style=\"color: #24292e; font-weight: bold\">(</span><span style=\"color: #005cc5; font-weight: bold\">SUM</span><span style=\"color: #24292e; font-weight: bold\">(</span><span style=\"color: #22863a; font-weight: bold\">fare</span><span style=\"color: #24292e; font-weight: bold\">),</span> <span style=\"color: #005cc5; font-weight: bold\">SUM</span><span style=\"color: #24292e; font-weight: bold\">(</span><span style=\"color: #22863a; font-weight: bold\">trip_miles</span><span style=\"color: #24292e; font-weight: bold\">))</span> <span style=\"color: #005cc5; font-weight: bold\">AS</span> <span style=\"color: #22863a; font-weight: bold\">metric</span> <span style=\"color: #888888; font-style: italic\">-- Calculate fare per mile</span>\n",
       "            <span style=\"color: #005cc5; font-weight: bold\">FROM</span>\n",
       "                <span style=\"color: #e36209; font-weight: bold\">`</span><span style=\"color: #22863a; font-weight: bold\">bigquery</span><span style=\"color: #e36209; font-weight: bold\">-</span><span style=\"color: #005cc5; font-weight: bold\">public</span><span style=\"color: #e36209; font-weight: bold\">-</span><span style=\"color: #005cc5; font-weight: bold\">data</span><span style=\"color: #24292e; font-weight: bold\">.</span><span style=\"color: #22863a; font-weight: bold\">chicago_taxi_trips</span><span style=\"color: #24292e; font-weight: bold\">.</span><span style=\"color: #22863a; font-weight: bold\">taxi_trips</span><span style=\"color: #e36209; font-weight: bold\">`</span>\n",
       "            <span style=\"color: #005cc5; font-weight: bold\">WHERE</span> \n",
       "                <span style=\"color: #22863a; font-weight: bold\">company</span> <span style=\"color: #005cc5; font-weight: bold\">IS</span> <span style=\"color: #005cc5; font-weight: bold\">NOT</span> <span style=\"color: #005cc5; font-weight: bold\">NULL</span> <span style=\"color: #888888; font-style: italic\">-- Exclude trips with no company information</span>\n",
       "                <span style=\"color: #005cc5; font-weight: bold\">AND</span> <span style=\"color: #22863a; font-weight: bold\">trip_miles</span> <span style=\"color: #e36209; font-weight: bold\">&gt;</span> <span style=\"color: #6f42c1; font-weight: bold\">0</span> <span style=\"color: #888888; font-style: italic\">-- Exclude trips with zero or negative miles</span>\n",
       "            <span style=\"color: #005cc5; font-weight: bold\">GROUP</span> <span style=\"color: #005cc5; font-weight: bold\">BY</span>\n",
       "                <span style=\"color: #22863a; font-weight: bold\">company</span><span style=\"color: #24292e; font-weight: bold\">,</span> \n",
       "                <span style=\"color: #22863a; font-weight: bold\">DATE_TRUNC</span><span style=\"color: #24292e; font-weight: bold\">(</span><span style=\"color: #22863a; font-weight: bold\">trip_start_timestamp</span><span style=\"color: #24292e; font-weight: bold\">,</span> <span style=\"color: #005cc5; font-weight: bold\">MONTH</span><span style=\"color: #24292e; font-weight: bold\">)</span>\n",
       "        <span style=\"color: #24292e; font-weight: bold\">)</span> <span style=\"color: #22863a; font-weight: bold\">aggregated_data</span>\n",
       "    <span style=\"color: #24292e; font-weight: bold\">),</span>\n",
       "\n",
       "    <span style=\"color: #888888; font-style: italic\">-- Rank Trip Increases by Metric Delta</span>\n",
       "    <span style=\"color: #22863a; font-weight: bold\">MoM_Trip_Increases_Ranked</span> <span style=\"color: #005cc5; font-weight: bold\">AS</span> <span style=\"color: #24292e; font-weight: bold\">(</span>\n",
       "        <span style=\"color: #005cc5; font-weight: bold\">SELECT</span>\n",
       "            <span style=\"color: #22863a; font-weight: bold\">Metric_Description</span><span style=\"color: #24292e; font-weight: bold\">,</span>\n",
       "            <span style=\"color: #22863a; font-weight: bold\">standardized_company</span><span style=\"color: #24292e; font-weight: bold\">,</span>\n",
       "            <span style=\"color: #22863a; font-weight: bold\">company</span><span style=\"color: #24292e; font-weight: bold\">,</span>\n",
       "            <span style=\"color: #22863a; font-weight: bold\">trip_month</span><span style=\"color: #24292e; font-weight: bold\">,</span>\n",
       "            <span style=\"color: #22863a; font-weight: bold\">metric</span><span style=\"color: #24292e; font-weight: bold\">,</span>\n",
       "            <span style=\"color: #22863a; font-weight: bold\">Mon_Prior_Metric_Val</span><span style=\"color: #24292e; font-weight: bold\">,</span>\n",
       "            <span style=\"color: #22863a; font-weight: bold\">metric_delta</span><span style=\"color: #24292e; font-weight: bold\">,</span>\n",
       "            <span style=\"color: #22863a; font-weight: bold\">SAFE_DIVIDE</span><span style=\"color: #24292e; font-weight: bold\">(</span><span style=\"color: #22863a; font-weight: bold\">metric_delta</span><span style=\"color: #24292e; font-weight: bold\">,</span> <span style=\"color: #22863a; font-weight: bold\">Mon_Prior_Metric_Val</span><span style=\"color: #24292e; font-weight: bold\">)</span> <span style=\"color: #005cc5; font-weight: bold\">AS</span> <span style=\"color: #22863a; font-weight: bold\">Metric_Mon_Pct_Chg</span><span style=\"color: #24292e; font-weight: bold\">,</span> <span style=\"color: #888888; font-style: italic\">-- Calculate percentage change</span>\n",
       "            <span style=\"color: #22863a; font-weight: bold\">CONCAT</span><span style=\"color: #24292e; font-weight: bold\">(</span><span style=\"color: #22863a; font-weight: bold\">FORMAT</span><span style=\"color: #24292e; font-weight: bold\">(</span><span style=\"color: #d73a49; font-style: italic\">&#39;%.1f&#39;</span><span style=\"color: #24292e; font-weight: bold\">,</span> <span style=\"color: #22863a; font-weight: bold\">SAFE_DIVIDE</span><span style=\"color: #24292e; font-weight: bold\">(</span><span style=\"color: #005cc5; font-weight: bold\">ABS</span><span style=\"color: #24292e; font-weight: bold\">(</span><span style=\"color: #22863a; font-weight: bold\">metric_delta</span><span style=\"color: #24292e; font-weight: bold\">),</span> <span style=\"color: #22863a; font-weight: bold\">Mon_Prior_Metric_Val</span><span style=\"color: #24292e; font-weight: bold\">)</span> <span style=\"color: #e36209; font-weight: bold\">*</span> <span style=\"color: #6f42c1; font-weight: bold\">100</span><span style=\"color: #24292e; font-weight: bold\">),</span> <span style=\"color: #d73a49; font-style: italic\">&#39;%&#39;</span><span style=\"color: #24292e; font-weight: bold\">)</span> <span style=\"color: #005cc5; font-weight: bold\">AS</span> <span style=\"color: #22863a; font-weight: bold\">Metric_Mon_Pct_Chg_Str</span><span style=\"color: #24292e; font-weight: bold\">,</span> <span style=\"color: #888888; font-style: italic\">-- Format percentage change as string</span>\n",
       "            <span style=\"color: #22863a; font-weight: bold\">ROW_NUMBER</span><span style=\"color: #24292e; font-weight: bold\">()</span> <span style=\"color: #22863a; font-weight: bold\">OVER</span> <span style=\"color: #24292e; font-weight: bold\">(</span><span style=\"color: #22863a; font-weight: bold\">PARTITION</span> <span style=\"color: #005cc5; font-weight: bold\">BY</span> <span style=\"color: #22863a; font-weight: bold\">standardized_company</span> <span style=\"color: #005cc5; font-weight: bold\">ORDER</span> <span style=\"color: #005cc5; font-weight: bold\">BY</span> <span style=\"color: #22863a; font-weight: bold\">metric_delta</span> <span style=\"color: #005cc5; font-weight: bold\">DESC</span><span style=\"color: #24292e; font-weight: bold\">)</span> <span style=\"color: #005cc5; font-weight: bold\">AS</span> <span style=\"color: #22863a; font-weight: bold\">rank</span> <span style=\"color: #888888; font-style: italic\">-- Rank by largest increase</span>\n",
       "        <span style=\"color: #005cc5; font-weight: bold\">FROM</span>\n",
       "            <span style=\"color: #22863a; font-weight: bold\">Trip_Increases</span>\n",
       "        <span style=\"color: #005cc5; font-weight: bold\">WHERE</span>\n",
       "            <span style=\"color: #22863a; font-weight: bold\">Mon_Prior_Metric_Val</span> <span style=\"color: #005cc5; font-weight: bold\">IS</span> <span style=\"color: #005cc5; font-weight: bold\">NOT</span> <span style=\"color: #005cc5; font-weight: bold\">NULL</span> <span style=\"color: #888888; font-style: italic\">-- Exclude rows with no prior month data</span>\n",
       "            <span style=\"color: #005cc5; font-weight: bold\">AND</span> <span style=\"color: #22863a; font-weight: bold\">Mon_Prior_Metric_Val</span> <span style=\"color: #e36209; font-weight: bold\">&gt;</span> <span style=\"color: #6f42c1; font-weight: bold\">100</span> <span style=\"color: #888888; font-style: italic\">-- Exclude months with very low prior metrics</span>\n",
       "            <span style=\"color: #005cc5; font-weight: bold\">AND</span> <span style=\"color: #22863a; font-weight: bold\">metric</span> <span style=\"color: #e36209; font-weight: bold\">&gt;</span> <span style=\"color: #6f42c1; font-weight: bold\">100</span> <span style=\"color: #888888; font-style: italic\">-- Exclude months with very low current metrics</span>\n",
       "            <span style=\"color: #005cc5; font-weight: bold\">AND</span> <span style=\"color: #22863a; font-weight: bold\">SAFE_DIVIDE</span><span style=\"color: #24292e; font-weight: bold\">(</span><span style=\"color: #22863a; font-weight: bold\">metric_delta</span><span style=\"color: #24292e; font-weight: bold\">,</span> <span style=\"color: #22863a; font-weight: bold\">Mon_Prior_Metric_Val</span><span style=\"color: #24292e; font-weight: bold\">)</span> <span style=\"color: #e36209; font-weight: bold\">&lt;=</span> <span style=\"color: #6f42c1; font-weight: bold\">10</span> <span style=\"color: #888888; font-style: italic\">-- Cap extreme percentage changes</span>\n",
       "    <span style=\"color: #24292e; font-weight: bold\">),</span>\n",
       "    \n",
       "    <span style=\"color: #888888; font-style: italic\">-- Rank Fare Per Mile Decreases by Metric Delta</span>\n",
       "    <span style=\"color: #22863a; font-weight: bold\">MoM_FarePerMile_Decreases_Ranked</span> <span style=\"color: #005cc5; font-weight: bold\">AS</span> <span style=\"color: #24292e; font-weight: bold\">(</span>\n",
       "        <span style=\"color: #005cc5; font-weight: bold\">SELECT</span>\n",
       "            <span style=\"color: #22863a; font-weight: bold\">Metric_Description</span><span style=\"color: #24292e; font-weight: bold\">,</span>\n",
       "            <span style=\"color: #22863a; font-weight: bold\">standardized_company</span><span style=\"color: #24292e; font-weight: bold\">,</span>\n",
       "            <span style=\"color: #22863a; font-weight: bold\">company</span><span style=\"color: #24292e; font-weight: bold\">,</span>\n",
       "            <span style=\"color: #22863a; font-weight: bold\">trip_month</span><span style=\"color: #24292e; font-weight: bold\">,</span>\n",
       "            <span style=\"color: #22863a; font-weight: bold\">metric</span><span style=\"color: #24292e; font-weight: bold\">,</span>\n",
       "            <span style=\"color: #22863a; font-weight: bold\">Mon_Prior_Metric_Val</span><span style=\"color: #24292e; font-weight: bold\">,</span>\n",
       "            <span style=\"color: #22863a; font-weight: bold\">metric_delta</span><span style=\"color: #24292e; font-weight: bold\">,</span>\n",
       "            <span style=\"color: #22863a; font-weight: bold\">SAFE_DIVIDE</span><span style=\"color: #24292e; font-weight: bold\">(</span><span style=\"color: #22863a; font-weight: bold\">metric_delta</span><span style=\"color: #24292e; font-weight: bold\">,</span> <span style=\"color: #22863a; font-weight: bold\">Mon_Prior_Metric_Val</span><span style=\"color: #24292e; font-weight: bold\">)</span> <span style=\"color: #005cc5; font-weight: bold\">AS</span> <span style=\"color: #22863a; font-weight: bold\">Metric_Mon_Pct_Chg</span><span style=\"color: #24292e; font-weight: bold\">,</span> <span style=\"color: #888888; font-style: italic\">-- Calculate percentage change</span>\n",
       "            <span style=\"color: #22863a; font-weight: bold\">CONCAT</span><span style=\"color: #24292e; font-weight: bold\">(</span><span style=\"color: #22863a; font-weight: bold\">FORMAT</span><span style=\"color: #24292e; font-weight: bold\">(</span><span style=\"color: #d73a49; font-style: italic\">&#39;%.1f&#39;</span><span style=\"color: #24292e; font-weight: bold\">,</span> <span style=\"color: #22863a; font-weight: bold\">SAFE_DIVIDE</span><span style=\"color: #24292e; font-weight: bold\">(</span><span style=\"color: #005cc5; font-weight: bold\">ABS</span><span style=\"color: #24292e; font-weight: bold\">(</span><span style=\"color: #22863a; font-weight: bold\">metric_delta</span><span style=\"color: #24292e; font-weight: bold\">),</span> <span style=\"color: #22863a; font-weight: bold\">Mon_Prior_Metric_Val</span><span style=\"color: #24292e; font-weight: bold\">)</span> <span style=\"color: #e36209; font-weight: bold\">*</span> <span style=\"color: #6f42c1; font-weight: bold\">100</span><span style=\"color: #24292e; font-weight: bold\">),</span> <span style=\"color: #d73a49; font-style: italic\">&#39;%&#39;</span><span style=\"color: #24292e; font-weight: bold\">)</span> <span style=\"color: #005cc5; font-weight: bold\">AS</span> <span style=\"color: #22863a; font-weight: bold\">Metric_Mon_Pct_Chg_Str</span><span style=\"color: #24292e; font-weight: bold\">,</span> <span style=\"color: #888888; font-style: italic\">-- Format percentage change as string</span>\n",
       "            <span style=\"color: #22863a; font-weight: bold\">ROW_NUMBER</span><span style=\"color: #24292e; font-weight: bold\">()</span> <span style=\"color: #22863a; font-weight: bold\">OVER</span> <span style=\"color: #24292e; font-weight: bold\">(</span><span style=\"color: #22863a; font-weight: bold\">PARTITION</span> <span style=\"color: #005cc5; font-weight: bold\">BY</span> <span style=\"color: #22863a; font-weight: bold\">standardized_company</span> <span style=\"color: #005cc5; font-weight: bold\">ORDER</span> <span style=\"color: #005cc5; font-weight: bold\">BY</span> <span style=\"color: #22863a; font-weight: bold\">metric_delta</span> <span style=\"color: #005cc5; font-weight: bold\">ASC</span><span style=\"color: #24292e; font-weight: bold\">)</span> <span style=\"color: #005cc5; font-weight: bold\">AS</span> <span style=\"color: #22863a; font-weight: bold\">rank</span> <span style=\"color: #888888; font-style: italic\">-- Rank by largest decrease</span>\n",
       "        <span style=\"color: #005cc5; font-weight: bold\">FROM</span>\n",
       "            <span style=\"color: #22863a; font-weight: bold\">Fare_Decreases</span>\n",
       "        <span style=\"color: #005cc5; font-weight: bold\">WHERE</span>\n",
       "            <span style=\"color: #22863a; font-weight: bold\">Mon_Prior_Metric_Val</span> <span style=\"color: #005cc5; font-weight: bold\">IS</span> <span style=\"color: #005cc5; font-weight: bold\">NOT</span> <span style=\"color: #005cc5; font-weight: bold\">NULL</span> <span style=\"color: #888888; font-style: italic\">-- Exclude rows with no prior month data</span>\n",
       "            <span style=\"color: #005cc5; font-weight: bold\">AND</span> <span style=\"color: #22863a; font-weight: bold\">Mon_Prior_Metric_Val</span> <span style=\"color: #e36209; font-weight: bold\">&gt;</span> <span style=\"color: #6f42c1; font-weight: bold\">0</span><span style=\"color: #24292e; font-weight: bold\">.</span><span style=\"color: #6f42c1; font-weight: bold\">1</span> <span style=\"color: #888888; font-style: italic\">-- Exclude months with very low prior metrics</span>\n",
       "            <span style=\"color: #005cc5; font-weight: bold\">AND</span> <span style=\"color: #22863a; font-weight: bold\">metric</span> <span style=\"color: #e36209; font-weight: bold\">&gt;</span> <span style=\"color: #6f42c1; font-weight: bold\">0</span><span style=\"color: #24292e; font-weight: bold\">.</span><span style=\"color: #6f42c1; font-weight: bold\">1</span> <span style=\"color: #888888; font-style: italic\">-- Exclude months with very low current metrics</span>\n",
       "            <span style=\"color: #005cc5; font-weight: bold\">AND</span> <span style=\"color: #22863a; font-weight: bold\">SAFE_DIVIDE</span><span style=\"color: #24292e; font-weight: bold\">(</span><span style=\"color: #22863a; font-weight: bold\">metric_delta</span><span style=\"color: #24292e; font-weight: bold\">,</span> <span style=\"color: #22863a; font-weight: bold\">Mon_Prior_Metric_Val</span><span style=\"color: #24292e; font-weight: bold\">)</span> <span style=\"color: #e36209; font-weight: bold\">&gt;=</span> <span style=\"color: #e36209; font-weight: bold\">-</span><span style=\"color: #6f42c1; font-weight: bold\">10</span> <span style=\"color: #888888; font-style: italic\">-- Cap extreme percentage decreases</span>\n",
       "    <span style=\"color: #24292e; font-weight: bold\">),</span>\n",
       "\n",
       "    <span style=\"color: #888888; font-style: italic\">-- Extract Top Trip Increase Insights</span>\n",
       "    <span style=\"color: #22863a; font-weight: bold\">Top_Trip_Increase_Insights</span> <span style=\"color: #005cc5; font-weight: bold\">AS</span> <span style=\"color: #24292e; font-weight: bold\">(</span>\n",
       "        <span style=\"color: #005cc5; font-weight: bold\">SELECT</span>\n",
       "            <span style=\"color: #22863a; font-weight: bold\">b</span><span style=\"color: #24292e; font-weight: bold\">.</span><span style=\"color: #e36209; font-weight: bold\">*</span><span style=\"color: #24292e; font-weight: bold\">,</span>\n",
       "            <span style=\"color: #005cc5; font-weight: bold\">CASE</span>\n",
       "            <span style=\"color: #005cc5; font-weight: bold\">WHEN</span> <span style=\"color: #22863a; font-weight: bold\">b</span><span style=\"color: #24292e; font-weight: bold\">.</span><span style=\"color: #22863a; font-weight: bold\">Mon_Prior_Metric_Val</span> <span style=\"color: #005cc5; font-weight: bold\">IS</span> <span style=\"color: #005cc5; font-weight: bold\">NULL</span> <span style=\"color: #005cc5; font-weight: bold\">THEN</span> <span style=\"color: #d73a49; font-style: italic\">&quot;No Prior Data Available to Calculate Insights&quot;</span> <span style=\"color: #888888; font-style: italic\">-- Handle missing prior month data</span>\n",
       "            <span style=\"color: #005cc5; font-weight: bold\">ELSE</span> <span style=\"color: #22863a; font-weight: bold\">CONCAT</span><span style=\"color: #24292e; font-weight: bold\">(</span>\n",
       "                <span style=\"color: #d73a49; font-style: italic\">&quot;In  &quot;</span><span style=\"color: #24292e; font-weight: bold\">,</span>\n",
       "                <span style=\"color: #22863a; font-weight: bold\">FORMAT_TIMESTAMP</span><span style=\"color: #24292e; font-weight: bold\">(</span><span style=\"color: #d73a49; font-style: italic\">&#39;%b %Y&#39;</span><span style=\"color: #24292e; font-weight: bold\">,</span> <span style=\"color: #22863a; font-weight: bold\">PARSE_TIMESTAMP</span><span style=\"color: #24292e; font-weight: bold\">(</span><span style=\"color: #d73a49; font-style: italic\">&#39;%Y-%m&#39;</span><span style=\"color: #24292e; font-weight: bold\">,</span> <span style=\"color: #22863a; font-weight: bold\">b</span><span style=\"color: #24292e; font-weight: bold\">.</span><span style=\"color: #22863a; font-weight: bold\">Trip_Month</span><span style=\"color: #24292e; font-weight: bold\">)),</span>\n",
       "                <span style=\"color: #d73a49; font-style: italic\">&quot;, trips increased by &quot;</span><span style=\"color: #24292e; font-weight: bold\">,</span>\n",
       "                <span style=\"color: #22863a; font-weight: bold\">FORMAT</span><span style=\"color: #24292e; font-weight: bold\">(</span><span style=\"color: #d73a49; font-style: italic\">&quot;%&#39;d&quot;</span><span style=\"color: #24292e; font-weight: bold\">,</span> <span style=\"color: #005cc5; font-weight: bold\">CAST</span><span style=\"color: #24292e; font-weight: bold\">(</span><span style=\"color: #005cc5; font-weight: bold\">ABS</span><span style=\"color: #24292e; font-weight: bold\">(</span><span style=\"color: #22863a; font-weight: bold\">b</span><span style=\"color: #24292e; font-weight: bold\">.</span><span style=\"color: #22863a; font-weight: bold\">Metric_Delta</span><span style=\"color: #24292e; font-weight: bold\">)</span> <span style=\"color: #005cc5; font-weight: bold\">AS</span> <span style=\"color: #22863a; font-weight: bold\">INT64</span><span style=\"color: #24292e; font-weight: bold\">)),</span> <span style=\"color: #888888; font-style: italic\">-- Use FORMAT with &#39;%d&#39; and &#39;,&#39; for comma-separated numbers</span>\n",
       "                <span style=\"color: #d73a49; font-style: italic\">&quot; (&quot;</span><span style=\"color: #24292e; font-weight: bold\">,</span>\n",
       "                <span style=\"color: #22863a; font-weight: bold\">b</span><span style=\"color: #24292e; font-weight: bold\">.</span><span style=\"color: #22863a; font-weight: bold\">Metric_Mon_Pct_Chg_Str</span><span style=\"color: #24292e; font-weight: bold\">,</span>\n",
       "                <span style=\"color: #d73a49; font-style: italic\">&quot;) compared to the previous month.&quot;</span>\n",
       "            <span style=\"color: #24292e; font-weight: bold\">)</span>\n",
       "            <span style=\"color: #005cc5; font-weight: bold\">END</span> <span style=\"color: #005cc5; font-weight: bold\">AS</span> <span style=\"color: #22863a; font-weight: bold\">Metric_Insight</span><span style=\"color: #24292e; font-weight: bold\">,</span>\n",
       "            <span style=\"color: #005cc5; font-weight: bold\">CASE</span>\n",
       "            <span style=\"color: #005cc5; font-weight: bold\">WHEN</span> <span style=\"color: #22863a; font-weight: bold\">b</span><span style=\"color: #24292e; font-weight: bold\">.</span><span style=\"color: #22863a; font-weight: bold\">Mon_Prior_Metric_Val</span> <span style=\"color: #005cc5; font-weight: bold\">IS</span> <span style=\"color: #005cc5; font-weight: bold\">NULL</span> <span style=\"color: #005cc5; font-weight: bold\">THEN</span> <span style=\"color: #005cc5; font-weight: bold\">NULL</span> <span style=\"color: #888888; font-style: italic\">-- No reasons if no prior data</span>\n",
       "            <span style=\"color: #005cc5; font-weight: bold\">ELSE</span> <span style=\"color: #d73a49; font-style: italic\">&quot;Potential reasons could include: &quot;</span> <span style=\"color: #e36209; font-weight: bold\">||</span>\n",
       "                <span style=\"color: #d73a49; font-style: italic\">&quot;\\n- seasonal changes, &quot;</span> <span style=\"color: #e36209; font-weight: bold\">||</span>\n",
       "                <span style=\"color: #d73a49; font-style: italic\">&quot;\\n- marketing campaigns, &quot;</span> <span style=\"color: #e36209; font-weight: bold\">||</span>\n",
       "                <span style=\"color: #d73a49; font-style: italic\">&quot;\\n- operational adjustments, &quot;</span> <span style=\"color: #e36209; font-weight: bold\">||</span>\n",
       "                <span style=\"color: #d73a49; font-style: italic\">&quot;\\n- increased demand due to events, &quot;</span> <span style=\"color: #e36209; font-weight: bold\">||</span>\n",
       "                <span style=\"color: #d73a49; font-style: italic\">&quot;\\n- improved service offerings, &quot;</span> <span style=\"color: #e36209; font-weight: bold\">||</span>\n",
       "                <span style=\"color: #d73a49; font-style: italic\">&quot;\\n- increased fleet size, &quot;</span> <span style=\"color: #e36209; font-weight: bold\">||</span>\n",
       "                <span style=\"color: #d73a49; font-style: italic\">&quot;\\n- acquisition or merger with former competitor.&quot;</span>\n",
       "            <span style=\"color: #005cc5; font-weight: bold\">END</span> <span style=\"color: #005cc5; font-weight: bold\">AS</span> <span style=\"color: #22863a; font-weight: bold\">Metric_Reasons</span>\n",
       "        <span style=\"color: #005cc5; font-weight: bold\">FROM</span> <span style=\"color: #24292e; font-weight: bold\">(</span>\n",
       "            <span style=\"color: #005cc5; font-weight: bold\">SELECT</span>\n",
       "                <span style=\"color: #22863a; font-weight: bold\">a</span><span style=\"color: #24292e; font-weight: bold\">.</span><span style=\"color: #e36209; font-weight: bold\">*</span><span style=\"color: #24292e; font-weight: bold\">,</span>\n",
       "                <span style=\"color: #22863a; font-weight: bold\">ROW_NUMBER</span><span style=\"color: #24292e; font-weight: bold\">()</span> <span style=\"color: #22863a; font-weight: bold\">OVER</span> <span style=\"color: #24292e; font-weight: bold\">(</span><span style=\"color: #22863a; font-weight: bold\">PARTITION</span> <span style=\"color: #005cc5; font-weight: bold\">BY</span> <span style=\"color: #22863a; font-weight: bold\">a</span><span style=\"color: #24292e; font-weight: bold\">.</span><span style=\"color: #22863a; font-weight: bold\">standardized_company</span> <span style=\"color: #005cc5; font-weight: bold\">ORDER</span> <span style=\"color: #005cc5; font-weight: bold\">BY</span> <span style=\"color: #22863a; font-weight: bold\">a</span><span style=\"color: #24292e; font-weight: bold\">.</span><span style=\"color: #22863a; font-weight: bold\">overall_rank</span> <span style=\"color: #005cc5; font-weight: bold\">ASC</span><span style=\"color: #24292e; font-weight: bold\">)</span> <span style=\"color: #005cc5; font-weight: bold\">AS</span> <span style=\"color: #22863a; font-weight: bold\">company_rank</span> <span style=\"color: #888888; font-style: italic\">-- Ensure uniqueness per company</span>\n",
       "            <span style=\"color: #005cc5; font-weight: bold\">FROM</span> <span style=\"color: #24292e; font-weight: bold\">(</span>\n",
       "                <span style=\"color: #005cc5; font-weight: bold\">SELECT</span>\n",
       "                    <span style=\"color: #22863a; font-weight: bold\">Metric_Description</span><span style=\"color: #24292e; font-weight: bold\">,</span>\n",
       "                    <span style=\"color: #22863a; font-weight: bold\">standardized_company</span><span style=\"color: #24292e; font-weight: bold\">,</span>\n",
       "                    <span style=\"color: #22863a; font-weight: bold\">company</span> <span style=\"color: #005cc5; font-weight: bold\">AS</span> <span style=\"color: #22863a; font-weight: bold\">Taxi_Company</span><span style=\"color: #24292e; font-weight: bold\">,</span>\n",
       "                    <span style=\"color: #22863a; font-weight: bold\">trip_month</span> <span style=\"color: #005cc5; font-weight: bold\">AS</span> <span style=\"color: #22863a; font-weight: bold\">Trip_Month</span><span style=\"color: #24292e; font-weight: bold\">,</span>\n",
       "                    <span style=\"color: #22863a; font-weight: bold\">metric</span> <span style=\"color: #005cc5; font-weight: bold\">AS</span> <span style=\"color: #22863a; font-weight: bold\">Mon_Metric_Val</span><span style=\"color: #24292e; font-weight: bold\">,</span>\n",
       "                    <span style=\"color: #22863a; font-weight: bold\">metric_delta</span> <span style=\"color: #005cc5; font-weight: bold\">AS</span> <span style=\"color: #22863a; font-weight: bold\">Metric_Delta</span><span style=\"color: #24292e; font-weight: bold\">,</span>\n",
       "                    <span style=\"color: #22863a; font-weight: bold\">Mon_Prior_Metric_Val</span><span style=\"color: #24292e; font-weight: bold\">,</span>\n",
       "                    <span style=\"color: #22863a; font-weight: bold\">Metric_Mon_Pct_Chg</span><span style=\"color: #24292e; font-weight: bold\">,</span>\n",
       "                    <span style=\"color: #22863a; font-weight: bold\">Metric_Mon_Pct_Chg_Str</span><span style=\"color: #24292e; font-weight: bold\">,</span>\n",
       "                    <span style=\"color: #22863a; font-weight: bold\">ROW_NUMBER</span><span style=\"color: #24292e; font-weight: bold\">()</span> <span style=\"color: #22863a; font-weight: bold\">OVER</span> <span style=\"color: #24292e; font-weight: bold\">(</span><span style=\"color: #005cc5; font-weight: bold\">ORDER</span> <span style=\"color: #005cc5; font-weight: bold\">BY</span> <span style=\"color: #22863a; font-weight: bold\">metric_delta</span> <span style=\"color: #005cc5; font-weight: bold\">DESC</span><span style=\"color: #24292e; font-weight: bold\">)</span> <span style=\"color: #005cc5; font-weight: bold\">AS</span> <span style=\"color: #22863a; font-weight: bold\">overall_rank</span> <span style=\"color: #888888; font-style: italic\">-- Rank globally by largest increase</span>\n",
       "                <span style=\"color: #005cc5; font-weight: bold\">FROM</span>\n",
       "                    <span style=\"color: #22863a; font-weight: bold\">MoM_Trip_Increases_Ranked</span>\n",
       "                <span style=\"color: #005cc5; font-weight: bold\">WHERE</span>\n",
       "                    <span style=\"color: #22863a; font-weight: bold\">rank</span> <span style=\"color: #e36209; font-weight: bold\">=</span> <span style=\"color: #6f42c1; font-weight: bold\">1</span> <span style=\"color: #888888; font-style: italic\">-- Only consider the top increase for each company</span>\n",
       "            <span style=\"color: #24292e; font-weight: bold\">)</span> <span style=\"color: #22863a; font-weight: bold\">a</span>\n",
       "            <span style=\"color: #005cc5; font-weight: bold\">WHERE</span>\n",
       "                <span style=\"color: #22863a; font-weight: bold\">overall_rank</span> <span style=\"color: #e36209; font-weight: bold\">&lt;=</span> <span style=\"color: #6f42c1; font-weight: bold\">3</span> <span style=\"color: #888888; font-style: italic\">-- Limit to the top 3 increases overall</span>\n",
       "        <span style=\"color: #24292e; font-weight: bold\">)</span> <span style=\"color: #22863a; font-weight: bold\">b</span>\n",
       "        <span style=\"color: #005cc5; font-weight: bold\">WHERE</span>\n",
       "            <span style=\"color: #22863a; font-weight: bold\">b</span><span style=\"color: #24292e; font-weight: bold\">.</span><span style=\"color: #22863a; font-weight: bold\">company_rank</span> <span style=\"color: #e36209; font-weight: bold\">=</span> <span style=\"color: #6f42c1; font-weight: bold\">1</span> <span style=\"color: #888888; font-style: italic\">-- Ensure each company appears only once</span>\n",
       "    <span style=\"color: #24292e; font-weight: bold\">),</span>\n",
       "\n",
       "    <span style=\"color: #888888; font-style: italic\">-- Extract Top Fare Per Mile Decrease Insights</span>\n",
       "    <span style=\"color: #22863a; font-weight: bold\">Top_FarePerMile_Decrease_Insights</span> <span style=\"color: #005cc5; font-weight: bold\">AS</span> <span style=\"color: #24292e; font-weight: bold\">(</span>\n",
       "        <span style=\"color: #005cc5; font-weight: bold\">SELECT</span>\n",
       "            <span style=\"color: #22863a; font-weight: bold\">b</span><span style=\"color: #24292e; font-weight: bold\">.</span><span style=\"color: #e36209; font-weight: bold\">*</span><span style=\"color: #24292e; font-weight: bold\">,</span>\n",
       "            <span style=\"color: #005cc5; font-weight: bold\">CASE</span>\n",
       "            <span style=\"color: #005cc5; font-weight: bold\">WHEN</span> <span style=\"color: #22863a; font-weight: bold\">b</span><span style=\"color: #24292e; font-weight: bold\">.</span><span style=\"color: #22863a; font-weight: bold\">Mon_Prior_Metric_Val</span> <span style=\"color: #005cc5; font-weight: bold\">IS</span> <span style=\"color: #005cc5; font-weight: bold\">NULL</span> <span style=\"color: #005cc5; font-weight: bold\">THEN</span> <span style=\"color: #d73a49; font-style: italic\">&quot;No Prior Data Available to Calculate Insights&quot;</span> <span style=\"color: #888888; font-style: italic\">-- Handle missing prior month data</span>\n",
       "            <span style=\"color: #005cc5; font-weight: bold\">ELSE</span> <span style=\"color: #22863a; font-weight: bold\">CONCAT</span><span style=\"color: #24292e; font-weight: bold\">(</span>\n",
       "                <span style=\"color: #d73a49; font-style: italic\">&quot;In &quot;</span><span style=\"color: #24292e; font-weight: bold\">,</span>\n",
       "                <span style=\"color: #22863a; font-weight: bold\">FORMAT_TIMESTAMP</span><span style=\"color: #24292e; font-weight: bold\">(</span><span style=\"color: #d73a49; font-style: italic\">&#39;%b %Y&#39;</span><span style=\"color: #24292e; font-weight: bold\">,</span> <span style=\"color: #22863a; font-weight: bold\">PARSE_TIMESTAMP</span><span style=\"color: #24292e; font-weight: bold\">(</span><span style=\"color: #d73a49; font-style: italic\">&#39;%Y-%m&#39;</span><span style=\"color: #24292e; font-weight: bold\">,</span> <span style=\"color: #22863a; font-weight: bold\">b</span><span style=\"color: #24292e; font-weight: bold\">.</span><span style=\"color: #22863a; font-weight: bold\">Trip_Month</span><span style=\"color: #24292e; font-weight: bold\">)),</span>\n",
       "                <span style=\"color: #d73a49; font-style: italic\">&quot;, fare per mile decreased by &quot;</span><span style=\"color: #24292e; font-weight: bold\">,</span>\n",
       "                <span style=\"color: #22863a; font-weight: bold\">CONCAT</span><span style=\"color: #24292e; font-weight: bold\">(</span><span style=\"color: #d73a49; font-style: italic\">&quot;$&quot;</span><span style=\"color: #24292e; font-weight: bold\">,</span> <span style=\"color: #22863a; font-weight: bold\">FORMAT</span><span style=\"color: #24292e; font-weight: bold\">(</span><span style=\"color: #d73a49; font-style: italic\">&quot;%&#39;.2f&quot;</span><span style=\"color: #24292e; font-weight: bold\">,</span> <span style=\"color: #005cc5; font-weight: bold\">ABS</span><span style=\"color: #24292e; font-weight: bold\">(</span><span style=\"color: #22863a; font-weight: bold\">b</span><span style=\"color: #24292e; font-weight: bold\">.</span><span style=\"color: #22863a; font-weight: bold\">Metric_Delta</span><span style=\"color: #24292e; font-weight: bold\">))),</span> <span style=\"color: #888888; font-style: italic\">-- Use FORMAT with &#39;%,.2f&#39; for comma-separated numbers rounded to 2 decimals and format as currency</span>\n",
       "                <span style=\"color: #d73a49; font-style: italic\">&quot; (&quot;</span><span style=\"color: #24292e; font-weight: bold\">,</span>\n",
       "                <span style=\"color: #22863a; font-weight: bold\">b</span><span style=\"color: #24292e; font-weight: bold\">.</span><span style=\"color: #22863a; font-weight: bold\">Metric_Mon_Pct_Chg_Str</span><span style=\"color: #24292e; font-weight: bold\">,</span>\n",
       "                <span style=\"color: #d73a49; font-style: italic\">&quot;) compared to the previous month.&quot;</span>\n",
       "            <span style=\"color: #24292e; font-weight: bold\">)</span>\n",
       "            <span style=\"color: #005cc5; font-weight: bold\">END</span> <span style=\"color: #005cc5; font-weight: bold\">AS</span> <span style=\"color: #22863a; font-weight: bold\">Metric_Insight</span><span style=\"color: #24292e; font-weight: bold\">,</span>\n",
       "            <span style=\"color: #005cc5; font-weight: bold\">CASE</span>\n",
       "            <span style=\"color: #005cc5; font-weight: bold\">WHEN</span> <span style=\"color: #22863a; font-weight: bold\">b</span><span style=\"color: #24292e; font-weight: bold\">.</span><span style=\"color: #22863a; font-weight: bold\">Mon_Prior_Metric_Val</span> <span style=\"color: #005cc5; font-weight: bold\">IS</span> <span style=\"color: #005cc5; font-weight: bold\">NULL</span> <span style=\"color: #005cc5; font-weight: bold\">THEN</span> <span style=\"color: #005cc5; font-weight: bold\">NULL</span> <span style=\"color: #888888; font-style: italic\">-- No reasons if no prior data</span>\n",
       "            <span style=\"color: #005cc5; font-weight: bold\">ELSE</span> <span style=\"color: #d73a49; font-style: italic\">&quot;Potential reasons could include: &quot;</span> <span style=\"color: #e36209; font-weight: bold\">||</span>\n",
       "                <span style=\"color: #d73a49; font-style: italic\">&quot;\\n- promotional discounts or fare reductions, &quot;</span> <span style=\"color: #e36209; font-weight: bold\">||</span>\n",
       "                <span style=\"color: #d73a49; font-style: italic\">&quot;\\n- introduction of new pricing models, &quot;</span> <span style=\"color: #e36209; font-weight: bold\">||</span>\n",
       "                <span style=\"color: #d73a49; font-style: italic\">&quot;\\n- increased use of flat-rate fares, &quot;</span> <span style=\"color: #e36209; font-weight: bold\">||</span>\n",
       "                <span style=\"color: #d73a49; font-style: italic\">&quot;\\n- temporary subsidies or incentives, &quot;</span> <span style=\"color: #e36209; font-weight: bold\">||</span>\n",
       "                <span style=\"color: #d73a49; font-style: italic\">&quot;\\n- errors in fare calculation or reporting, &quot;</span> <span style=\"color: #e36209; font-weight: bold\">||</span>\n",
       "                <span style=\"color: #d73a49; font-style: italic\">&quot;\\n- increased prevalence of shorter trips, &quot;</span> <span style=\"color: #e36209; font-weight: bold\">||</span>\n",
       "                <span style=\"color: #d73a49; font-style: italic\">&quot;\\n- changes in trip patterns or routes, &quot;</span> <span style=\"color: #e36209; font-weight: bold\">||</span>\n",
       "                <span style=\"color: #d73a49; font-style: italic\">&quot;\\n- seasonal or event-driven demand shifts, &quot;</span> <span style=\"color: #e36209; font-weight: bold\">||</span>\n",
       "                <span style=\"color: #d73a49; font-style: italic\">&quot;\\n- increased competition driving down prices, &quot;</span> <span style=\"color: #e36209; font-weight: bold\">||</span>\n",
       "                <span style=\"color: #d73a49; font-style: italic\">&quot;\\n- operational adjustments to attract more riders.&quot;</span>\n",
       "            <span style=\"color: #005cc5; font-weight: bold\">END</span> <span style=\"color: #005cc5; font-weight: bold\">AS</span> <span style=\"color: #22863a; font-weight: bold\">Metric_Reasons</span>\n",
       "        <span style=\"color: #005cc5; font-weight: bold\">FROM</span> <span style=\"color: #24292e; font-weight: bold\">(</span>\n",
       "            <span style=\"color: #005cc5; font-weight: bold\">SELECT</span>\n",
       "                <span style=\"color: #22863a; font-weight: bold\">a</span><span style=\"color: #24292e; font-weight: bold\">.</span><span style=\"color: #e36209; font-weight: bold\">*</span><span style=\"color: #24292e; font-weight: bold\">,</span>\n",
       "                <span style=\"color: #22863a; font-weight: bold\">ROW_NUMBER</span><span style=\"color: #24292e; font-weight: bold\">()</span> <span style=\"color: #22863a; font-weight: bold\">OVER</span> <span style=\"color: #24292e; font-weight: bold\">(</span><span style=\"color: #22863a; font-weight: bold\">PARTITION</span> <span style=\"color: #005cc5; font-weight: bold\">BY</span> <span style=\"color: #22863a; font-weight: bold\">a</span><span style=\"color: #24292e; font-weight: bold\">.</span><span style=\"color: #22863a; font-weight: bold\">standardized_company</span> <span style=\"color: #005cc5; font-weight: bold\">ORDER</span> <span style=\"color: #005cc5; font-weight: bold\">BY</span> <span style=\"color: #22863a; font-weight: bold\">a</span><span style=\"color: #24292e; font-weight: bold\">.</span><span style=\"color: #22863a; font-weight: bold\">overall_rank</span> <span style=\"color: #005cc5; font-weight: bold\">ASC</span><span style=\"color: #24292e; font-weight: bold\">)</span> <span style=\"color: #005cc5; font-weight: bold\">AS</span> <span style=\"color: #22863a; font-weight: bold\">company_rank</span> <span style=\"color: #888888; font-style: italic\">-- Ensure uniqueness per company</span>\n",
       "            <span style=\"color: #005cc5; font-weight: bold\">FROM</span> <span style=\"color: #24292e; font-weight: bold\">(</span>\n",
       "                <span style=\"color: #005cc5; font-weight: bold\">SELECT</span>\n",
       "                    <span style=\"color: #22863a; font-weight: bold\">Metric_Description</span><span style=\"color: #24292e; font-weight: bold\">,</span>\n",
       "                    <span style=\"color: #22863a; font-weight: bold\">standardized_company</span><span style=\"color: #24292e; font-weight: bold\">,</span>\n",
       "                    <span style=\"color: #22863a; font-weight: bold\">company</span> <span style=\"color: #005cc5; font-weight: bold\">AS</span> <span style=\"color: #22863a; font-weight: bold\">Taxi_Company</span><span style=\"color: #24292e; font-weight: bold\">,</span>\n",
       "                    <span style=\"color: #22863a; font-weight: bold\">trip_month</span> <span style=\"color: #005cc5; font-weight: bold\">AS</span> <span style=\"color: #22863a; font-weight: bold\">Trip_Month</span><span style=\"color: #24292e; font-weight: bold\">,</span>\n",
       "                    <span style=\"color: #22863a; font-weight: bold\">metric</span> <span style=\"color: #005cc5; font-weight: bold\">AS</span> <span style=\"color: #22863a; font-weight: bold\">Mon_Metric_Val</span><span style=\"color: #24292e; font-weight: bold\">,</span>\n",
       "                    <span style=\"color: #22863a; font-weight: bold\">metric_delta</span> <span style=\"color: #005cc5; font-weight: bold\">AS</span> <span style=\"color: #22863a; font-weight: bold\">Metric_Delta</span><span style=\"color: #24292e; font-weight: bold\">,</span>\n",
       "                    <span style=\"color: #22863a; font-weight: bold\">Mon_Prior_Metric_Val</span><span style=\"color: #24292e; font-weight: bold\">,</span>\n",
       "                    <span style=\"color: #22863a; font-weight: bold\">Metric_Mon_Pct_Chg</span><span style=\"color: #24292e; font-weight: bold\">,</span>\n",
       "                    <span style=\"color: #22863a; font-weight: bold\">Metric_Mon_Pct_Chg_Str</span><span style=\"color: #24292e; font-weight: bold\">,</span>\n",
       "                    <span style=\"color: #22863a; font-weight: bold\">ROW_NUMBER</span><span style=\"color: #24292e; font-weight: bold\">()</span> <span style=\"color: #22863a; font-weight: bold\">OVER</span> <span style=\"color: #24292e; font-weight: bold\">(</span><span style=\"color: #005cc5; font-weight: bold\">ORDER</span> <span style=\"color: #005cc5; font-weight: bold\">BY</span> <span style=\"color: #22863a; font-weight: bold\">metric_delta</span> <span style=\"color: #005cc5; font-weight: bold\">ASC</span><span style=\"color: #24292e; font-weight: bold\">)</span> <span style=\"color: #005cc5; font-weight: bold\">AS</span> <span style=\"color: #22863a; font-weight: bold\">overall_rank</span> <span style=\"color: #888888; font-style: italic\">-- Rank globally by largest decrease</span>\n",
       "                <span style=\"color: #005cc5; font-weight: bold\">FROM</span>\n",
       "                    <span style=\"color: #22863a; font-weight: bold\">MoM_FarePerMile_Decreases_Ranked</span>\n",
       "                <span style=\"color: #005cc5; font-weight: bold\">WHERE</span>\n",
       "                    <span style=\"color: #22863a; font-weight: bold\">rank</span> <span style=\"color: #e36209; font-weight: bold\">=</span> <span style=\"color: #6f42c1; font-weight: bold\">1</span> <span style=\"color: #888888; font-style: italic\">-- Only consider the top decrease for each company</span>\n",
       "            <span style=\"color: #24292e; font-weight: bold\">)</span> <span style=\"color: #22863a; font-weight: bold\">a</span>\n",
       "            <span style=\"color: #005cc5; font-weight: bold\">WHERE</span>\n",
       "                <span style=\"color: #22863a; font-weight: bold\">overall_rank</span> <span style=\"color: #e36209; font-weight: bold\">&lt;=</span> <span style=\"color: #6f42c1; font-weight: bold\">3</span> <span style=\"color: #888888; font-style: italic\">-- Limit to the top 3 decreases overall</span>\n",
       "        <span style=\"color: #24292e; font-weight: bold\">)</span> <span style=\"color: #22863a; font-weight: bold\">b</span>\n",
       "        <span style=\"color: #005cc5; font-weight: bold\">WHERE</span>\n",
       "            <span style=\"color: #22863a; font-weight: bold\">b</span><span style=\"color: #24292e; font-weight: bold\">.</span><span style=\"color: #22863a; font-weight: bold\">company_rank</span> <span style=\"color: #e36209; font-weight: bold\">=</span> <span style=\"color: #6f42c1; font-weight: bold\">1</span> <span style=\"color: #888888; font-style: italic\">-- Ensure each company appears only once</span>\n",
       "    <span style=\"color: #24292e; font-weight: bold\">)</span>\n",
       "<span style=\"color: #888888; font-style: italic\">-- Combine Insights</span>\n",
       "<span style=\"color: #005cc5; font-weight: bold\">SELECT</span> \n",
       "    <span style=\"color: #22863a; font-weight: bold\">Metric_Description</span><span style=\"color: #24292e; font-weight: bold\">,</span>\n",
       "    <span style=\"color: #22863a; font-weight: bold\">Taxi_Company</span><span style=\"color: #24292e; font-weight: bold\">,</span>\n",
       "    <span style=\"color: #22863a; font-weight: bold\">Trip_Month</span><span style=\"color: #24292e; font-weight: bold\">,</span>\n",
       "    <span style=\"color: #22863a; font-weight: bold\">Mon_Metric_Val</span><span style=\"color: #24292e; font-weight: bold\">,</span>\n",
       "    <span style=\"color: #22863a; font-weight: bold\">Metric_Delta</span><span style=\"color: #24292e; font-weight: bold\">,</span>\n",
       "    <span style=\"color: #22863a; font-weight: bold\">Mon_Prior_Metric_Val</span><span style=\"color: #24292e; font-weight: bold\">,</span>\n",
       "    <span style=\"color: #22863a; font-weight: bold\">ROUND</span><span style=\"color: #24292e; font-weight: bold\">(</span><span style=\"color: #22863a; font-weight: bold\">Metric_Mon_Pct_Chg</span><span style=\"color: #24292e; font-weight: bold\">,</span> <span style=\"color: #6f42c1; font-weight: bold\">2</span><span style=\"color: #24292e; font-weight: bold\">)</span> <span style=\"color: #005cc5; font-weight: bold\">AS</span> <span style=\"color: #22863a; font-weight: bold\">Metric_Mon_Pct_Chg</span><span style=\"color: #24292e; font-weight: bold\">,</span> <span style=\"color: #888888; font-style: italic\">-- Round to 2 decimals</span>\n",
       "    <span style=\"color: #22863a; font-weight: bold\">Metric_Mon_Pct_Chg_Str</span><span style=\"color: #24292e; font-weight: bold\">,</span>\n",
       "    <span style=\"color: #22863a; font-weight: bold\">Metric_Insight</span><span style=\"color: #24292e; font-weight: bold\">,</span>\n",
       "    <span style=\"color: #22863a; font-weight: bold\">Metric_Reasons</span>\n",
       "<span style=\"color: #005cc5; font-weight: bold\">FROM</span> <span style=\"color: #22863a; font-weight: bold\">Top_Trip_Increase_Insights</span>\n",
       "<span style=\"color: #005cc5; font-weight: bold\">UNION</span> <span style=\"color: #005cc5; font-weight: bold\">ALL</span>\n",
       "<span style=\"color: #005cc5; font-weight: bold\">SELECT</span> \n",
       "    <span style=\"color: #22863a; font-weight: bold\">Metric_Description</span><span style=\"color: #24292e; font-weight: bold\">,</span>\n",
       "    <span style=\"color: #22863a; font-weight: bold\">Taxi_Company</span><span style=\"color: #24292e; font-weight: bold\">,</span>\n",
       "    <span style=\"color: #22863a; font-weight: bold\">Trip_Month</span><span style=\"color: #24292e; font-weight: bold\">,</span>\n",
       "    <span style=\"color: #22863a; font-weight: bold\">Mon_Metric_Val</span><span style=\"color: #24292e; font-weight: bold\">,</span>\n",
       "    <span style=\"color: #22863a; font-weight: bold\">Metric_Delta</span><span style=\"color: #24292e; font-weight: bold\">,</span>\n",
       "    <span style=\"color: #22863a; font-weight: bold\">Mon_Prior_Metric_Val</span><span style=\"color: #24292e; font-weight: bold\">,</span>\n",
       "    <span style=\"color: #22863a; font-weight: bold\">ROUND</span><span style=\"color: #24292e; font-weight: bold\">(</span><span style=\"color: #22863a; font-weight: bold\">Metric_Mon_Pct_Chg</span><span style=\"color: #24292e; font-weight: bold\">,</span> <span style=\"color: #6f42c1; font-weight: bold\">2</span><span style=\"color: #24292e; font-weight: bold\">)</span> <span style=\"color: #005cc5; font-weight: bold\">AS</span> <span style=\"color: #22863a; font-weight: bold\">Metric_Mon_Pct_Chg</span><span style=\"color: #24292e; font-weight: bold\">,</span> <span style=\"color: #888888; font-style: italic\">-- Round to 2 decimals</span>\n",
       "    <span style=\"color: #22863a; font-weight: bold\">Metric_Mon_Pct_Chg_Str</span><span style=\"color: #24292e; font-weight: bold\">,</span>\n",
       "    <span style=\"color: #22863a; font-weight: bold\">Metric_Insight</span><span style=\"color: #24292e; font-weight: bold\">,</span>\n",
       "    <span style=\"color: #22863a; font-weight: bold\">Metric_Reasons</span>\n",
       "<span style=\"color: #005cc5; font-weight: bold\">FROM</span> <span style=\"color: #22863a; font-weight: bold\">Top_FarePerMile_Decrease_Insights</span>\n",
       "<span style=\"color: #005cc5; font-weight: bold\">ORDER</span> <span style=\"color: #005cc5; font-weight: bold\">BY</span> <span style=\"color: #22863a; font-weight: bold\">Metric_Description</span><span style=\"color: #24292e; font-weight: bold\">,</span> <span style=\"color: #22863a; font-weight: bold\">Metric_Delta</span><span style=\"color: #24292e; font-weight: bold\">;</span> <span style=\"color: #888888; font-style: italic\">-- Order by metric description and Delta</span>\n",
       "<span style=\"color: #888888; font-style: italic\">-- End of Query</span>\n",
       "</pre></div>\n"
      ],
      "text/plain": [
       "<IPython.core.display.HTML object>"
      ]
     },
     "metadata": {},
     "output_type": "display_data"
    }
   ],
   "source": [
    "from IPython.display import display, HTML\n",
    "import pygments\n",
    "from pygments.lexers import SqlLexer\n",
    "from pygments.formatters import HtmlFormatter\n",
    "from pygments.style import Style\n",
    "from pygments.token import Keyword, Name, Comment, String, Number, Operator, Punctuation\n",
    "\n",
    "# Define a custom Pygments style\n",
    "class CustomSQLStyle(Style):\n",
    "    default_style = \"\"\n",
    "    styles = {\n",
    "        Comment: \"italic #888888\",  # Gray for comments\n",
    "        Keyword: \"bold #005cc5\",  # Blue for keywords\n",
    "        Name: \"bold #22863a\",  # Green for names\n",
    "        String: \"italic #d73a49\",  # Red for strings\n",
    "        Number: \"bold #6f42c1\",  # Purple for numbers\n",
    "        Operator: \"bold #e36209\",  # Orange for operators\n",
    "        Punctuation: \"bold #24292e\",  # Black for punctuation\n",
    "    }\n",
    "\n",
    "# Highlight the SQL code using Pygments with the custom style\n",
    "formatter = HtmlFormatter(style=CustomSQLStyle, full=False, noclasses=True)\n",
    "highlighted_sql = pygments.highlight(sql_code, SqlLexer(), formatter)\n",
    "\n",
    "# Display the highlighted SQL code in the notebook\n",
    "display(HTML(highlighted_sql))"
   ]
  },
  {
   "cell_type": "code",
   "execution_count": 6,
   "id": "25ef62fa",
   "metadata": {},
   "outputs": [
    {
     "name": "stdout",
     "output_type": "stream",
     "text": [
      "Downloading: 100%|\u001b[32m██████████\u001b[0m|\n"
     ]
    }
   ],
   "source": [
    "import warnings\n",
    "from pandas_gbq.exceptions import LargeResultsWarning\n",
    "\n",
    "# Suppress the LargeResultsWarning\n",
    "warnings.simplefilter('ignore', category=LargeResultsWarning)\n",
    "\n",
    "# Import the pandas_gbq library\n",
    "import pandas_gbq\n",
    "\n",
    "# Define the SQL query\n",
    "query = sql_code\n",
    "\n",
    "# Read the data from BigQuery into a pandas DataFrame\n",
    "Insights_Part_I = pandas_gbq.read_gbq(query, project_id=credentials.project_id, credentials=credentials)\n",
    "\n",
    "# Display the first few rows of the dataframe\n",
    "# print(Insights_Part_I.head())\n"
   ]
  },
  {
   "cell_type": "markdown",
   "id": "417b3f3f",
   "metadata": {},
   "source": [
    "## ✔ Execute the Query"
   ]
  },
  {
   "cell_type": "code",
   "execution_count": 7,
   "id": "7439f1e3",
   "metadata": {},
   "outputs": [
    {
     "name": "stdout",
     "output_type": "stream",
     "text": [
      "Downloading: 100%|\u001b[32m██████████\u001b[0m|\n"
     ]
    }
   ],
   "source": [
    "import warnings\n",
    "from pandas_gbq.exceptions import LargeResultsWarning\n",
    "\n",
    "# Suppress the LargeResultsWarning\n",
    "warnings.simplefilter('ignore', category=LargeResultsWarning)\n",
    "\n",
    "# Import the pandas_gbq library\n",
    "import pandas_gbq\n",
    "\n",
    "# Define the SQL query\n",
    "query = sql_code\n",
    "\n",
    "# Read the data from BigQuery into a pandas DataFrame\n",
    "Insights_Part_I = pandas_gbq.read_gbq(query, project_id=credentials.project_id, credentials=credentials)\n",
    "\n",
    "# Display the first few rows of the dataframe\n",
    "# print(Insights_Part_I.head())\n"
   ]
  },
  {
   "cell_type": "markdown",
   "id": "9d62e282",
   "metadata": {},
   "source": [
    "### ✔ I.a-Largest Month-Over-Month Increase in Trips\n",
    "Which three distinct taxi companies had the largest month-over-month increase in trips, and what were those months and trip amounts?"
   ]
  },
  {
   "cell_type": "markdown",
   "id": "3fcdd5da",
   "metadata": {},
   "source": [
    "#### ✔ Read Metric to Frame"
   ]
  },
  {
   "cell_type": "code",
   "execution_count": 8,
   "id": "7005bc6f",
   "metadata": {},
   "outputs": [],
   "source": [
    "# Filter the DataFrame for I.a insights (Largest Month-Over-Month Increase in Trips)\n",
    "insights_ia = Insights_Part_I[Insights_Part_I['Metric_Description'] == 'I.a-Largest Month-Over-Month Increase in Trips']"
   ]
  },
  {
   "cell_type": "markdown",
   "id": "4ded458a",
   "metadata": {},
   "source": [
    "#### ✔ Show Table"
   ]
  },
  {
   "cell_type": "markdown",
   "id": "da12f6f7",
   "metadata": {},
   "source": [
    "##### ✔ Show as Markdown"
   ]
  },
  {
   "cell_type": "code",
   "execution_count": 9,
   "id": "5a6b931f",
   "metadata": {},
   "outputs": [
    {
     "data": {
      "text/markdown": [
       "### I.a-Largest Month-Over-Month Increase in Trips\n",
       "\n",
       "| Taxi Company | Trip Month | Insight Description |\n",
       "|--------------|------------|----------------------|\n",
       "| Taxi Affiliation Services | 2014-03 | In  Mar 2014, trips increased by 115,543 (15.5%) compared to the previous month. |\n",
       "| Chicago Carriage Cab Corp | 2016-07 | In  Jul 2016, trips increased by 131,272 (370.9%) compared to the previous month. |\n",
       "| Flash Cab | 2016-01 | In  Jan 2016, trips increased by 276,654 (388.9%) compared to the previous month. |\n"
      ],
      "text/plain": [
       "<IPython.core.display.Markdown object>"
      ]
     },
     "metadata": {},
     "output_type": "display_data"
    }
   ],
   "source": [
    "from IPython.display import Markdown, display\n",
    "\n",
    "# Generate a markdown table for insights_ia\n",
    "def display_markdown_table(df):\n",
    "    # Extract the metric description for the title\n",
    "    title = f\"### {df['Metric_Description'].iloc[0]}\"\n",
    "    \n",
    "    # Create the markdown table header\n",
    "    markdown_table = \"| Taxi Company | Trip Month | Insight Description |\\n\"\n",
    "    markdown_table += \"|--------------|------------|----------------------|\\n\"\n",
    "    \n",
    "    # Populate the table rows\n",
    "    for _, row in df.iterrows():\n",
    "        markdown_table += f\"| {row['Taxi_Company']} | {row['Trip_Month']} | {row['Metric_Insight']} |\\n\"\n",
    "    \n",
    "    # Combine the title and table\n",
    "    markdown_output = f\"{title}\\n\\n{markdown_table}\"\n",
    "    \n",
    "    # Display the markdown table\n",
    "    display(Markdown(markdown_output))\n",
    "\n",
    "# Call the function to display the table\n",
    "display_markdown_table(insights_ia)"
   ]
  },
  {
   "cell_type": "markdown",
   "id": "a5908c56",
   "metadata": {},
   "source": [
    "##### ✔ Show as as Chart"
   ]
  },
  {
   "cell_type": "code",
   "execution_count": 10,
   "id": "c90328bc",
   "metadata": {},
   "outputs": [
    {
     "data": {
      "application/vnd.plotly.v1+json": {
       "config": {
        "plotlyServerURL": "https://plot.ly"
       },
       "data": [
        {
         "cells": {
          "align": "left",
          "fill": {
           "color": "lightgrey"
          },
          "font": {
           "color": "black",
           "size": 11
          },
          "values": [
           [
            "Taxi Affiliation Services",
            "Chicago Carriage Cab Corp",
            "Flash Cab"
           ],
           [
            "2014-03",
            "2016-07",
            "2016-01"
           ],
           [
            "In  Mar 2014, trips increased by 115,543 (15.5%) compared to the previous month.",
            "In  Jul 2016, trips increased by 131,272 (370.9%) compared to the previous month.",
            "In  Jan 2016, trips increased by 276,654 (388.9%) compared to the previous month."
           ]
          ]
         },
         "columnwidth": [
          1.5,
          1,
          5
         ],
         "header": {
          "align": "left",
          "fill": {
           "color": "grey"
          },
          "font": {
           "color": "white",
           "size": 12
          },
          "values": [
           "<b>Taxi Company</b>",
           "<b>Trip Month</b>",
           "<b>Metric Insight</b>"
          ]
         },
         "type": "table"
        }
       ],
       "layout": {
        "autosize": true,
        "height": 400,
        "margin": {
         "b": 10,
         "l": 10,
         "r": 10,
         "t": 50
        },
        "template": {
         "data": {
          "bar": [
           {
            "error_x": {
             "color": "#2a3f5f"
            },
            "error_y": {
             "color": "#2a3f5f"
            },
            "marker": {
             "line": {
              "color": "#E5ECF6",
              "width": 0.5
             },
             "pattern": {
              "fillmode": "overlay",
              "size": 10,
              "solidity": 0.2
             }
            },
            "type": "bar"
           }
          ],
          "barpolar": [
           {
            "marker": {
             "line": {
              "color": "#E5ECF6",
              "width": 0.5
             },
             "pattern": {
              "fillmode": "overlay",
              "size": 10,
              "solidity": 0.2
             }
            },
            "type": "barpolar"
           }
          ],
          "carpet": [
           {
            "aaxis": {
             "endlinecolor": "#2a3f5f",
             "gridcolor": "white",
             "linecolor": "white",
             "minorgridcolor": "white",
             "startlinecolor": "#2a3f5f"
            },
            "baxis": {
             "endlinecolor": "#2a3f5f",
             "gridcolor": "white",
             "linecolor": "white",
             "minorgridcolor": "white",
             "startlinecolor": "#2a3f5f"
            },
            "type": "carpet"
           }
          ],
          "choropleth": [
           {
            "colorbar": {
             "outlinewidth": 0,
             "ticks": ""
            },
            "type": "choropleth"
           }
          ],
          "contour": [
           {
            "colorbar": {
             "outlinewidth": 0,
             "ticks": ""
            },
            "colorscale": [
             [
              0,
              "#0d0887"
             ],
             [
              0.1111111111111111,
              "#46039f"
             ],
             [
              0.2222222222222222,
              "#7201a8"
             ],
             [
              0.3333333333333333,
              "#9c179e"
             ],
             [
              0.4444444444444444,
              "#bd3786"
             ],
             [
              0.5555555555555556,
              "#d8576b"
             ],
             [
              0.6666666666666666,
              "#ed7953"
             ],
             [
              0.7777777777777778,
              "#fb9f3a"
             ],
             [
              0.8888888888888888,
              "#fdca26"
             ],
             [
              1,
              "#f0f921"
             ]
            ],
            "type": "contour"
           }
          ],
          "contourcarpet": [
           {
            "colorbar": {
             "outlinewidth": 0,
             "ticks": ""
            },
            "type": "contourcarpet"
           }
          ],
          "heatmap": [
           {
            "colorbar": {
             "outlinewidth": 0,
             "ticks": ""
            },
            "colorscale": [
             [
              0,
              "#0d0887"
             ],
             [
              0.1111111111111111,
              "#46039f"
             ],
             [
              0.2222222222222222,
              "#7201a8"
             ],
             [
              0.3333333333333333,
              "#9c179e"
             ],
             [
              0.4444444444444444,
              "#bd3786"
             ],
             [
              0.5555555555555556,
              "#d8576b"
             ],
             [
              0.6666666666666666,
              "#ed7953"
             ],
             [
              0.7777777777777778,
              "#fb9f3a"
             ],
             [
              0.8888888888888888,
              "#fdca26"
             ],
             [
              1,
              "#f0f921"
             ]
            ],
            "type": "heatmap"
           }
          ],
          "histogram": [
           {
            "marker": {
             "pattern": {
              "fillmode": "overlay",
              "size": 10,
              "solidity": 0.2
             }
            },
            "type": "histogram"
           }
          ],
          "histogram2d": [
           {
            "colorbar": {
             "outlinewidth": 0,
             "ticks": ""
            },
            "colorscale": [
             [
              0,
              "#0d0887"
             ],
             [
              0.1111111111111111,
              "#46039f"
             ],
             [
              0.2222222222222222,
              "#7201a8"
             ],
             [
              0.3333333333333333,
              "#9c179e"
             ],
             [
              0.4444444444444444,
              "#bd3786"
             ],
             [
              0.5555555555555556,
              "#d8576b"
             ],
             [
              0.6666666666666666,
              "#ed7953"
             ],
             [
              0.7777777777777778,
              "#fb9f3a"
             ],
             [
              0.8888888888888888,
              "#fdca26"
             ],
             [
              1,
              "#f0f921"
             ]
            ],
            "type": "histogram2d"
           }
          ],
          "histogram2dcontour": [
           {
            "colorbar": {
             "outlinewidth": 0,
             "ticks": ""
            },
            "colorscale": [
             [
              0,
              "#0d0887"
             ],
             [
              0.1111111111111111,
              "#46039f"
             ],
             [
              0.2222222222222222,
              "#7201a8"
             ],
             [
              0.3333333333333333,
              "#9c179e"
             ],
             [
              0.4444444444444444,
              "#bd3786"
             ],
             [
              0.5555555555555556,
              "#d8576b"
             ],
             [
              0.6666666666666666,
              "#ed7953"
             ],
             [
              0.7777777777777778,
              "#fb9f3a"
             ],
             [
              0.8888888888888888,
              "#fdca26"
             ],
             [
              1,
              "#f0f921"
             ]
            ],
            "type": "histogram2dcontour"
           }
          ],
          "mesh3d": [
           {
            "colorbar": {
             "outlinewidth": 0,
             "ticks": ""
            },
            "type": "mesh3d"
           }
          ],
          "parcoords": [
           {
            "line": {
             "colorbar": {
              "outlinewidth": 0,
              "ticks": ""
             }
            },
            "type": "parcoords"
           }
          ],
          "pie": [
           {
            "automargin": true,
            "type": "pie"
           }
          ],
          "scatter": [
           {
            "fillpattern": {
             "fillmode": "overlay",
             "size": 10,
             "solidity": 0.2
            },
            "type": "scatter"
           }
          ],
          "scatter3d": [
           {
            "line": {
             "colorbar": {
              "outlinewidth": 0,
              "ticks": ""
             }
            },
            "marker": {
             "colorbar": {
              "outlinewidth": 0,
              "ticks": ""
             }
            },
            "type": "scatter3d"
           }
          ],
          "scattercarpet": [
           {
            "marker": {
             "colorbar": {
              "outlinewidth": 0,
              "ticks": ""
             }
            },
            "type": "scattercarpet"
           }
          ],
          "scattergeo": [
           {
            "marker": {
             "colorbar": {
              "outlinewidth": 0,
              "ticks": ""
             }
            },
            "type": "scattergeo"
           }
          ],
          "scattergl": [
           {
            "marker": {
             "colorbar": {
              "outlinewidth": 0,
              "ticks": ""
             }
            },
            "type": "scattergl"
           }
          ],
          "scattermap": [
           {
            "marker": {
             "colorbar": {
              "outlinewidth": 0,
              "ticks": ""
             }
            },
            "type": "scattermap"
           }
          ],
          "scattermapbox": [
           {
            "marker": {
             "colorbar": {
              "outlinewidth": 0,
              "ticks": ""
             }
            },
            "type": "scattermapbox"
           }
          ],
          "scatterpolar": [
           {
            "marker": {
             "colorbar": {
              "outlinewidth": 0,
              "ticks": ""
             }
            },
            "type": "scatterpolar"
           }
          ],
          "scatterpolargl": [
           {
            "marker": {
             "colorbar": {
              "outlinewidth": 0,
              "ticks": ""
             }
            },
            "type": "scatterpolargl"
           }
          ],
          "scatterternary": [
           {
            "marker": {
             "colorbar": {
              "outlinewidth": 0,
              "ticks": ""
             }
            },
            "type": "scatterternary"
           }
          ],
          "surface": [
           {
            "colorbar": {
             "outlinewidth": 0,
             "ticks": ""
            },
            "colorscale": [
             [
              0,
              "#0d0887"
             ],
             [
              0.1111111111111111,
              "#46039f"
             ],
             [
              0.2222222222222222,
              "#7201a8"
             ],
             [
              0.3333333333333333,
              "#9c179e"
             ],
             [
              0.4444444444444444,
              "#bd3786"
             ],
             [
              0.5555555555555556,
              "#d8576b"
             ],
             [
              0.6666666666666666,
              "#ed7953"
             ],
             [
              0.7777777777777778,
              "#fb9f3a"
             ],
             [
              0.8888888888888888,
              "#fdca26"
             ],
             [
              1,
              "#f0f921"
             ]
            ],
            "type": "surface"
           }
          ],
          "table": [
           {
            "cells": {
             "fill": {
              "color": "#EBF0F8"
             },
             "line": {
              "color": "white"
             }
            },
            "header": {
             "fill": {
              "color": "#C8D4E3"
             },
             "line": {
              "color": "white"
             }
            },
            "type": "table"
           }
          ]
         },
         "layout": {
          "annotationdefaults": {
           "arrowcolor": "#2a3f5f",
           "arrowhead": 0,
           "arrowwidth": 1
          },
          "autotypenumbers": "strict",
          "coloraxis": {
           "colorbar": {
            "outlinewidth": 0,
            "ticks": ""
           }
          },
          "colorscale": {
           "diverging": [
            [
             0,
             "#8e0152"
            ],
            [
             0.1,
             "#c51b7d"
            ],
            [
             0.2,
             "#de77ae"
            ],
            [
             0.3,
             "#f1b6da"
            ],
            [
             0.4,
             "#fde0ef"
            ],
            [
             0.5,
             "#f7f7f7"
            ],
            [
             0.6,
             "#e6f5d0"
            ],
            [
             0.7,
             "#b8e186"
            ],
            [
             0.8,
             "#7fbc41"
            ],
            [
             0.9,
             "#4d9221"
            ],
            [
             1,
             "#276419"
            ]
           ],
           "sequential": [
            [
             0,
             "#0d0887"
            ],
            [
             0.1111111111111111,
             "#46039f"
            ],
            [
             0.2222222222222222,
             "#7201a8"
            ],
            [
             0.3333333333333333,
             "#9c179e"
            ],
            [
             0.4444444444444444,
             "#bd3786"
            ],
            [
             0.5555555555555556,
             "#d8576b"
            ],
            [
             0.6666666666666666,
             "#ed7953"
            ],
            [
             0.7777777777777778,
             "#fb9f3a"
            ],
            [
             0.8888888888888888,
             "#fdca26"
            ],
            [
             1,
             "#f0f921"
            ]
           ],
           "sequentialminus": [
            [
             0,
             "#0d0887"
            ],
            [
             0.1111111111111111,
             "#46039f"
            ],
            [
             0.2222222222222222,
             "#7201a8"
            ],
            [
             0.3333333333333333,
             "#9c179e"
            ],
            [
             0.4444444444444444,
             "#bd3786"
            ],
            [
             0.5555555555555556,
             "#d8576b"
            ],
            [
             0.6666666666666666,
             "#ed7953"
            ],
            [
             0.7777777777777778,
             "#fb9f3a"
            ],
            [
             0.8888888888888888,
             "#fdca26"
            ],
            [
             1,
             "#f0f921"
            ]
           ]
          },
          "colorway": [
           "#636efa",
           "#EF553B",
           "#00cc96",
           "#ab63fa",
           "#FFA15A",
           "#19d3f3",
           "#FF6692",
           "#B6E880",
           "#FF97FF",
           "#FECB52"
          ],
          "font": {
           "color": "#2a3f5f"
          },
          "geo": {
           "bgcolor": "white",
           "lakecolor": "white",
           "landcolor": "#E5ECF6",
           "showlakes": true,
           "showland": true,
           "subunitcolor": "white"
          },
          "hoverlabel": {
           "align": "left"
          },
          "hovermode": "closest",
          "mapbox": {
           "style": "light"
          },
          "paper_bgcolor": "white",
          "plot_bgcolor": "#E5ECF6",
          "polar": {
           "angularaxis": {
            "gridcolor": "white",
            "linecolor": "white",
            "ticks": ""
           },
           "bgcolor": "#E5ECF6",
           "radialaxis": {
            "gridcolor": "white",
            "linecolor": "white",
            "ticks": ""
           }
          },
          "scene": {
           "xaxis": {
            "backgroundcolor": "#E5ECF6",
            "gridcolor": "white",
            "gridwidth": 2,
            "linecolor": "white",
            "showbackground": true,
            "ticks": "",
            "zerolinecolor": "white"
           },
           "yaxis": {
            "backgroundcolor": "#E5ECF6",
            "gridcolor": "white",
            "gridwidth": 2,
            "linecolor": "white",
            "showbackground": true,
            "ticks": "",
            "zerolinecolor": "white"
           },
           "zaxis": {
            "backgroundcolor": "#E5ECF6",
            "gridcolor": "white",
            "gridwidth": 2,
            "linecolor": "white",
            "showbackground": true,
            "ticks": "",
            "zerolinecolor": "white"
           }
          },
          "shapedefaults": {
           "line": {
            "color": "#2a3f5f"
           }
          },
          "ternary": {
           "aaxis": {
            "gridcolor": "white",
            "linecolor": "white",
            "ticks": ""
           },
           "baxis": {
            "gridcolor": "white",
            "linecolor": "white",
            "ticks": ""
           },
           "bgcolor": "#E5ECF6",
           "caxis": {
            "gridcolor": "white",
            "linecolor": "white",
            "ticks": ""
           }
          },
          "title": {
           "x": 0.05
          },
          "xaxis": {
           "automargin": true,
           "gridcolor": "white",
           "linecolor": "white",
           "ticks": "",
           "title": {
            "standoff": 15
           },
           "zerolinecolor": "white",
           "zerolinewidth": 2
          },
          "yaxis": {
           "automargin": true,
           "gridcolor": "white",
           "linecolor": "white",
           "ticks": "",
           "title": {
            "standoff": 15
           },
           "zerolinecolor": "white",
           "zerolinewidth": 2
          }
         }
        },
        "title": {
         "font": {
          "size": 16
         },
         "text": "<b>I.a-Largest Month-Over-Month Increase in Trips</b>",
         "x": 0.5,
         "xanchor": "center",
         "y": 0.97,
         "yanchor": "top"
        },
        "width": 1500
       }
      }
     },
     "metadata": {},
     "output_type": "display_data"
    }
   ],
   "source": [
    "from plotly import graph_objects as go  # Import Plotly graph_objects\n",
    "\n",
    "# Create a new Plotly figure for the table\n",
    "fig_iia = go.Figure()\n",
    "\n",
    "# Add a table to the figure using the insights_ia DataFrame\n",
    "fig_iia.add_trace(go.Table(\n",
    "    header=dict(\n",
    "        values=['<b>Taxi Company</b>', '<b>Trip Month</b>', '<b>Metric Insight</b>'],\n",
    "        fill_color='grey',\n",
    "        align='left',\n",
    "        font=dict(size=12, color='white')\n",
    "    ),\n",
    "    cells=dict(\n",
    "        values=[\n",
    "            insights_ia['Taxi_Company'], \n",
    "            insights_ia['Trip_Month'], \n",
    "            insights_ia['Metric_Insight']\n",
    "        ],\n",
    "        fill_color='lightgrey',\n",
    "        align='left',\n",
    "        font=dict(size=11, color='black')\n",
    "    )\n",
    "))\n",
    "\n",
    "# Update the layout to reduce white space below the table\n",
    "fig_iia.update_layout(\n",
    "    title={\n",
    "        'text': f\"<b>{insights_ia['Metric_Description'].iloc[0]}</b>\",\n",
    "        'y': 0.97,  # Position the title above the table\n",
    "        'x': 0.5,   # Center the title\n",
    "        'xanchor': 'center',\n",
    "        'yanchor': 'top',\n",
    "        'font': dict(size=16)\n",
    "    },\n",
    "    autosize=True,\n",
    "    width=1500,  # Set a fixed width to accommodate all columns\n",
    "    height=400,  # Reduce the height to minimize white space\n",
    "    margin=dict(l=10, r=10, t=50, b=10)  # Adjust margins for better spacing\n",
    ")\n",
    "\n",
    "# Adjust column widths to fit the data\n",
    "fig_iia.data[0].columnwidth = [1.5, 1, 5]  # Set proportional widths for Taxi Company, Trip Month, and Metric Insight\n",
    "\n",
    "# Display the interactive table\n",
    "fig_iia.show()\n"
   ]
  },
  {
   "cell_type": "markdown",
   "id": "4869fc77",
   "metadata": {},
   "source": [
    "#### ✔ Show Some Potential Resons for Metric Deltas"
   ]
  },
  {
   "cell_type": "code",
   "execution_count": 11,
   "id": "5a01ba55",
   "metadata": {},
   "outputs": [
    {
     "data": {
      "text/markdown": [
       "### Potential Reasons for I.a-Largest Month-Over-Month Increase in Trips:\n",
       "- Potential reasons could include:\n",
       "- Seasonal changes,\n",
       "- Marketing campaigns,\n",
       "- Operational adjustments,\n",
       "- Increased demand due to events,\n",
       "- Improved service offerings,\n",
       "- Increased fleet size,\n",
       "- Acquisition or merger with former competitor."
      ],
      "text/plain": [
       "<IPython.core.display.Markdown object>"
      ]
     },
     "metadata": {},
     "output_type": "display_data"
    }
   ],
   "source": [
    "from IPython.display import Markdown, display\n",
    "\n",
    "# Extract the first row of Metric_Reasons for insights_ia\n",
    "reasons_ia = insights_ia['Metric_Reasons'].iloc[0]\n",
    "# Apply sentence case to each reason\n",
    "formatted_reasons = '\\n- '.join(reason.strip().capitalize() for reason in reasons_ia.split('\\n- '))\n",
    "# Format and display the reasons\n",
    "formatted_reasons_ia = f\"### Potential Reasons for {insights_ia['Metric_Description'].iloc[0]}:\\n- {formatted_reasons}\"\n",
    "display(Markdown(formatted_reasons_ia))"
   ]
  },
  {
   "cell_type": "markdown",
   "id": "721e7eca",
   "metadata": {},
   "source": [
    "### ✔ I.b-Largest Month-Over-Month Decrease in Fare Per Mile "
   ]
  },
  {
   "cell_type": "markdown",
   "id": "cabfbece",
   "metadata": {},
   "source": [
    "#### ✔ Read Metric into Frame"
   ]
  },
  {
   "cell_type": "code",
   "execution_count": 12,
   "id": "afe3123d",
   "metadata": {},
   "outputs": [],
   "source": [
    "# Filter the DataFrame for I.b insights (Largest Month-Over-Month Decrease in Fare Per Mile)\n",
    "insights_ib = Insights_Part_I[Insights_Part_I['Metric_Description'] == 'I.b-Largest Month-Over-Month Decrease in Fare Per Mile']"
   ]
  },
  {
   "cell_type": "markdown",
   "id": "7b30b032",
   "metadata": {},
   "source": [
    "#### ✔ Show Table"
   ]
  },
  {
   "cell_type": "markdown",
   "id": "06e033c2",
   "metadata": {},
   "source": [
    "##### ✔ Show as Markdown"
   ]
  },
  {
   "cell_type": "code",
   "execution_count": 13,
   "id": "9dcfa92d",
   "metadata": {},
   "outputs": [
    {
     "data": {
      "text/markdown": [
       "### I.b-Largest Month-Over-Month Decrease in Fare Per Mile\n",
       "\n",
       "| Taxi Company | Trip Month | Insight Description |\n",
       "|--------------|------------|----------------------|\n",
       "| Metro Jet Taxi A. | 2021-08 | In Aug 2021, fare per mile decreased by $50.08 (95.1%) compared to the previous month. |\n",
       "| 4732 - Maude Lamy | 2016-04 | In Apr 2016, fare per mile decreased by $29.30 (90.2%) compared to the previous month. |\n",
       "| Blue Ribbon Taxi Association Inc. | 2020-08 | In Aug 2020, fare per mile decreased by $25.25 (49.1%) compared to the previous month. |\n"
      ],
      "text/plain": [
       "<IPython.core.display.Markdown object>"
      ]
     },
     "metadata": {},
     "output_type": "display_data"
    }
   ],
   "source": [
    "from IPython.display import Markdown, display\n",
    "\n",
    "# Generate a markdown table for insights_ib\n",
    "def display_markdown_table_ib(df):\n",
    "    # Extract the metric description for the title\n",
    "    title = f\"### {df['Metric_Description'].iloc[0]}\"\n",
    "    \n",
    "    # Create the markdown table header\n",
    "    markdown_table = \"| Taxi Company | Trip Month | Insight Description |\\n\"\n",
    "    markdown_table += \"|--------------|------------|----------------------|\\n\"\n",
    "    \n",
    "    # Populate the table rows\n",
    "    for _, row in df.iterrows():\n",
    "        markdown_table += f\"| {row['Taxi_Company']} | {row['Trip_Month']} | {row['Metric_Insight']} |\\n\"\n",
    "    \n",
    "    # Combine the title and table\n",
    "    markdown_output = f\"{title}\\n\\n{markdown_table}\"\n",
    "    \n",
    "    # Display the markdown table\n",
    "    display(Markdown(markdown_output))\n",
    "\n",
    "# Call the function to display the table\n",
    "display_markdown_table_ib(insights_ib)"
   ]
  },
  {
   "cell_type": "markdown",
   "id": "b94ab75f",
   "metadata": {},
   "source": [
    "##### ✔ Show as Chart"
   ]
  },
  {
   "cell_type": "code",
   "execution_count": 14,
   "id": "3d2de578",
   "metadata": {},
   "outputs": [
    {
     "data": {
      "application/vnd.plotly.v1+json": {
       "config": {
        "plotlyServerURL": "https://plot.ly"
       },
       "data": [
        {
         "cells": {
          "align": "left",
          "fill": {
           "color": "lightgrey"
          },
          "font": {
           "color": "black",
           "size": 11
          },
          "values": [
           [
            "Metro Jet Taxi A.",
            "4732 - Maude Lamy",
            "Blue Ribbon Taxi Association Inc."
           ],
           [
            "2021-08",
            "2016-04",
            "2020-08"
           ],
           [
            "In Aug 2021, fare per mile decreased by $50.08 (95.1%) compared to the previous month.",
            "In Apr 2016, fare per mile decreased by $29.30 (90.2%) compared to the previous month.",
            "In Aug 2020, fare per mile decreased by $25.25 (49.1%) compared to the previous month."
           ]
          ]
         },
         "columnwidth": [
          1.5,
          1,
          5
         ],
         "header": {
          "align": "left",
          "fill": {
           "color": "grey"
          },
          "font": {
           "color": "white",
           "size": 12
          },
          "values": [
           "<b>Taxi Company</b>",
           "<b>Trip Month</b>",
           "<b>Metric Insight</b>"
          ]
         },
         "type": "table"
        }
       ],
       "layout": {
        "autosize": true,
        "height": 400,
        "margin": {
         "b": 10,
         "l": 10,
         "r": 10,
         "t": 50
        },
        "template": {
         "data": {
          "bar": [
           {
            "error_x": {
             "color": "#2a3f5f"
            },
            "error_y": {
             "color": "#2a3f5f"
            },
            "marker": {
             "line": {
              "color": "#E5ECF6",
              "width": 0.5
             },
             "pattern": {
              "fillmode": "overlay",
              "size": 10,
              "solidity": 0.2
             }
            },
            "type": "bar"
           }
          ],
          "barpolar": [
           {
            "marker": {
             "line": {
              "color": "#E5ECF6",
              "width": 0.5
             },
             "pattern": {
              "fillmode": "overlay",
              "size": 10,
              "solidity": 0.2
             }
            },
            "type": "barpolar"
           }
          ],
          "carpet": [
           {
            "aaxis": {
             "endlinecolor": "#2a3f5f",
             "gridcolor": "white",
             "linecolor": "white",
             "minorgridcolor": "white",
             "startlinecolor": "#2a3f5f"
            },
            "baxis": {
             "endlinecolor": "#2a3f5f",
             "gridcolor": "white",
             "linecolor": "white",
             "minorgridcolor": "white",
             "startlinecolor": "#2a3f5f"
            },
            "type": "carpet"
           }
          ],
          "choropleth": [
           {
            "colorbar": {
             "outlinewidth": 0,
             "ticks": ""
            },
            "type": "choropleth"
           }
          ],
          "contour": [
           {
            "colorbar": {
             "outlinewidth": 0,
             "ticks": ""
            },
            "colorscale": [
             [
              0,
              "#0d0887"
             ],
             [
              0.1111111111111111,
              "#46039f"
             ],
             [
              0.2222222222222222,
              "#7201a8"
             ],
             [
              0.3333333333333333,
              "#9c179e"
             ],
             [
              0.4444444444444444,
              "#bd3786"
             ],
             [
              0.5555555555555556,
              "#d8576b"
             ],
             [
              0.6666666666666666,
              "#ed7953"
             ],
             [
              0.7777777777777778,
              "#fb9f3a"
             ],
             [
              0.8888888888888888,
              "#fdca26"
             ],
             [
              1,
              "#f0f921"
             ]
            ],
            "type": "contour"
           }
          ],
          "contourcarpet": [
           {
            "colorbar": {
             "outlinewidth": 0,
             "ticks": ""
            },
            "type": "contourcarpet"
           }
          ],
          "heatmap": [
           {
            "colorbar": {
             "outlinewidth": 0,
             "ticks": ""
            },
            "colorscale": [
             [
              0,
              "#0d0887"
             ],
             [
              0.1111111111111111,
              "#46039f"
             ],
             [
              0.2222222222222222,
              "#7201a8"
             ],
             [
              0.3333333333333333,
              "#9c179e"
             ],
             [
              0.4444444444444444,
              "#bd3786"
             ],
             [
              0.5555555555555556,
              "#d8576b"
             ],
             [
              0.6666666666666666,
              "#ed7953"
             ],
             [
              0.7777777777777778,
              "#fb9f3a"
             ],
             [
              0.8888888888888888,
              "#fdca26"
             ],
             [
              1,
              "#f0f921"
             ]
            ],
            "type": "heatmap"
           }
          ],
          "histogram": [
           {
            "marker": {
             "pattern": {
              "fillmode": "overlay",
              "size": 10,
              "solidity": 0.2
             }
            },
            "type": "histogram"
           }
          ],
          "histogram2d": [
           {
            "colorbar": {
             "outlinewidth": 0,
             "ticks": ""
            },
            "colorscale": [
             [
              0,
              "#0d0887"
             ],
             [
              0.1111111111111111,
              "#46039f"
             ],
             [
              0.2222222222222222,
              "#7201a8"
             ],
             [
              0.3333333333333333,
              "#9c179e"
             ],
             [
              0.4444444444444444,
              "#bd3786"
             ],
             [
              0.5555555555555556,
              "#d8576b"
             ],
             [
              0.6666666666666666,
              "#ed7953"
             ],
             [
              0.7777777777777778,
              "#fb9f3a"
             ],
             [
              0.8888888888888888,
              "#fdca26"
             ],
             [
              1,
              "#f0f921"
             ]
            ],
            "type": "histogram2d"
           }
          ],
          "histogram2dcontour": [
           {
            "colorbar": {
             "outlinewidth": 0,
             "ticks": ""
            },
            "colorscale": [
             [
              0,
              "#0d0887"
             ],
             [
              0.1111111111111111,
              "#46039f"
             ],
             [
              0.2222222222222222,
              "#7201a8"
             ],
             [
              0.3333333333333333,
              "#9c179e"
             ],
             [
              0.4444444444444444,
              "#bd3786"
             ],
             [
              0.5555555555555556,
              "#d8576b"
             ],
             [
              0.6666666666666666,
              "#ed7953"
             ],
             [
              0.7777777777777778,
              "#fb9f3a"
             ],
             [
              0.8888888888888888,
              "#fdca26"
             ],
             [
              1,
              "#f0f921"
             ]
            ],
            "type": "histogram2dcontour"
           }
          ],
          "mesh3d": [
           {
            "colorbar": {
             "outlinewidth": 0,
             "ticks": ""
            },
            "type": "mesh3d"
           }
          ],
          "parcoords": [
           {
            "line": {
             "colorbar": {
              "outlinewidth": 0,
              "ticks": ""
             }
            },
            "type": "parcoords"
           }
          ],
          "pie": [
           {
            "automargin": true,
            "type": "pie"
           }
          ],
          "scatter": [
           {
            "fillpattern": {
             "fillmode": "overlay",
             "size": 10,
             "solidity": 0.2
            },
            "type": "scatter"
           }
          ],
          "scatter3d": [
           {
            "line": {
             "colorbar": {
              "outlinewidth": 0,
              "ticks": ""
             }
            },
            "marker": {
             "colorbar": {
              "outlinewidth": 0,
              "ticks": ""
             }
            },
            "type": "scatter3d"
           }
          ],
          "scattercarpet": [
           {
            "marker": {
             "colorbar": {
              "outlinewidth": 0,
              "ticks": ""
             }
            },
            "type": "scattercarpet"
           }
          ],
          "scattergeo": [
           {
            "marker": {
             "colorbar": {
              "outlinewidth": 0,
              "ticks": ""
             }
            },
            "type": "scattergeo"
           }
          ],
          "scattergl": [
           {
            "marker": {
             "colorbar": {
              "outlinewidth": 0,
              "ticks": ""
             }
            },
            "type": "scattergl"
           }
          ],
          "scattermap": [
           {
            "marker": {
             "colorbar": {
              "outlinewidth": 0,
              "ticks": ""
             }
            },
            "type": "scattermap"
           }
          ],
          "scattermapbox": [
           {
            "marker": {
             "colorbar": {
              "outlinewidth": 0,
              "ticks": ""
             }
            },
            "type": "scattermapbox"
           }
          ],
          "scatterpolar": [
           {
            "marker": {
             "colorbar": {
              "outlinewidth": 0,
              "ticks": ""
             }
            },
            "type": "scatterpolar"
           }
          ],
          "scatterpolargl": [
           {
            "marker": {
             "colorbar": {
              "outlinewidth": 0,
              "ticks": ""
             }
            },
            "type": "scatterpolargl"
           }
          ],
          "scatterternary": [
           {
            "marker": {
             "colorbar": {
              "outlinewidth": 0,
              "ticks": ""
             }
            },
            "type": "scatterternary"
           }
          ],
          "surface": [
           {
            "colorbar": {
             "outlinewidth": 0,
             "ticks": ""
            },
            "colorscale": [
             [
              0,
              "#0d0887"
             ],
             [
              0.1111111111111111,
              "#46039f"
             ],
             [
              0.2222222222222222,
              "#7201a8"
             ],
             [
              0.3333333333333333,
              "#9c179e"
             ],
             [
              0.4444444444444444,
              "#bd3786"
             ],
             [
              0.5555555555555556,
              "#d8576b"
             ],
             [
              0.6666666666666666,
              "#ed7953"
             ],
             [
              0.7777777777777778,
              "#fb9f3a"
             ],
             [
              0.8888888888888888,
              "#fdca26"
             ],
             [
              1,
              "#f0f921"
             ]
            ],
            "type": "surface"
           }
          ],
          "table": [
           {
            "cells": {
             "fill": {
              "color": "#EBF0F8"
             },
             "line": {
              "color": "white"
             }
            },
            "header": {
             "fill": {
              "color": "#C8D4E3"
             },
             "line": {
              "color": "white"
             }
            },
            "type": "table"
           }
          ]
         },
         "layout": {
          "annotationdefaults": {
           "arrowcolor": "#2a3f5f",
           "arrowhead": 0,
           "arrowwidth": 1
          },
          "autotypenumbers": "strict",
          "coloraxis": {
           "colorbar": {
            "outlinewidth": 0,
            "ticks": ""
           }
          },
          "colorscale": {
           "diverging": [
            [
             0,
             "#8e0152"
            ],
            [
             0.1,
             "#c51b7d"
            ],
            [
             0.2,
             "#de77ae"
            ],
            [
             0.3,
             "#f1b6da"
            ],
            [
             0.4,
             "#fde0ef"
            ],
            [
             0.5,
             "#f7f7f7"
            ],
            [
             0.6,
             "#e6f5d0"
            ],
            [
             0.7,
             "#b8e186"
            ],
            [
             0.8,
             "#7fbc41"
            ],
            [
             0.9,
             "#4d9221"
            ],
            [
             1,
             "#276419"
            ]
           ],
           "sequential": [
            [
             0,
             "#0d0887"
            ],
            [
             0.1111111111111111,
             "#46039f"
            ],
            [
             0.2222222222222222,
             "#7201a8"
            ],
            [
             0.3333333333333333,
             "#9c179e"
            ],
            [
             0.4444444444444444,
             "#bd3786"
            ],
            [
             0.5555555555555556,
             "#d8576b"
            ],
            [
             0.6666666666666666,
             "#ed7953"
            ],
            [
             0.7777777777777778,
             "#fb9f3a"
            ],
            [
             0.8888888888888888,
             "#fdca26"
            ],
            [
             1,
             "#f0f921"
            ]
           ],
           "sequentialminus": [
            [
             0,
             "#0d0887"
            ],
            [
             0.1111111111111111,
             "#46039f"
            ],
            [
             0.2222222222222222,
             "#7201a8"
            ],
            [
             0.3333333333333333,
             "#9c179e"
            ],
            [
             0.4444444444444444,
             "#bd3786"
            ],
            [
             0.5555555555555556,
             "#d8576b"
            ],
            [
             0.6666666666666666,
             "#ed7953"
            ],
            [
             0.7777777777777778,
             "#fb9f3a"
            ],
            [
             0.8888888888888888,
             "#fdca26"
            ],
            [
             1,
             "#f0f921"
            ]
           ]
          },
          "colorway": [
           "#636efa",
           "#EF553B",
           "#00cc96",
           "#ab63fa",
           "#FFA15A",
           "#19d3f3",
           "#FF6692",
           "#B6E880",
           "#FF97FF",
           "#FECB52"
          ],
          "font": {
           "color": "#2a3f5f"
          },
          "geo": {
           "bgcolor": "white",
           "lakecolor": "white",
           "landcolor": "#E5ECF6",
           "showlakes": true,
           "showland": true,
           "subunitcolor": "white"
          },
          "hoverlabel": {
           "align": "left"
          },
          "hovermode": "closest",
          "mapbox": {
           "style": "light"
          },
          "paper_bgcolor": "white",
          "plot_bgcolor": "#E5ECF6",
          "polar": {
           "angularaxis": {
            "gridcolor": "white",
            "linecolor": "white",
            "ticks": ""
           },
           "bgcolor": "#E5ECF6",
           "radialaxis": {
            "gridcolor": "white",
            "linecolor": "white",
            "ticks": ""
           }
          },
          "scene": {
           "xaxis": {
            "backgroundcolor": "#E5ECF6",
            "gridcolor": "white",
            "gridwidth": 2,
            "linecolor": "white",
            "showbackground": true,
            "ticks": "",
            "zerolinecolor": "white"
           },
           "yaxis": {
            "backgroundcolor": "#E5ECF6",
            "gridcolor": "white",
            "gridwidth": 2,
            "linecolor": "white",
            "showbackground": true,
            "ticks": "",
            "zerolinecolor": "white"
           },
           "zaxis": {
            "backgroundcolor": "#E5ECF6",
            "gridcolor": "white",
            "gridwidth": 2,
            "linecolor": "white",
            "showbackground": true,
            "ticks": "",
            "zerolinecolor": "white"
           }
          },
          "shapedefaults": {
           "line": {
            "color": "#2a3f5f"
           }
          },
          "ternary": {
           "aaxis": {
            "gridcolor": "white",
            "linecolor": "white",
            "ticks": ""
           },
           "baxis": {
            "gridcolor": "white",
            "linecolor": "white",
            "ticks": ""
           },
           "bgcolor": "#E5ECF6",
           "caxis": {
            "gridcolor": "white",
            "linecolor": "white",
            "ticks": ""
           }
          },
          "title": {
           "x": 0.05
          },
          "xaxis": {
           "automargin": true,
           "gridcolor": "white",
           "linecolor": "white",
           "ticks": "",
           "title": {
            "standoff": 15
           },
           "zerolinecolor": "white",
           "zerolinewidth": 2
          },
          "yaxis": {
           "automargin": true,
           "gridcolor": "white",
           "linecolor": "white",
           "ticks": "",
           "title": {
            "standoff": 15
           },
           "zerolinecolor": "white",
           "zerolinewidth": 2
          }
         }
        },
        "title": {
         "font": {
          "size": 16
         },
         "text": "<b>I.b-Largest Month-Over-Month Decrease in Fare Per Mile</b>",
         "x": 0.5,
         "xanchor": "center",
         "y": 0.97,
         "yanchor": "top"
        },
        "width": 1500
       }
      }
     },
     "metadata": {},
     "output_type": "display_data"
    }
   ],
   "source": [
    "from plotly import graph_objects as go  # Import Plotly graph_objects\n",
    "\n",
    "# Create a new Plotly figure for the table\n",
    "fig_ib = go.Figure()\n",
    "\n",
    "# Add a table to the figure using the insights_ib DataFrame\n",
    "fig_ib.add_trace(go.Table(\n",
    "    header=dict(\n",
    "        values=['<b>Taxi Company</b>', '<b>Trip Month</b>', '<b>Metric Insight</b>'],\n",
    "        fill_color='grey',\n",
    "        align='left',\n",
    "        font=dict(size=12, color='white')\n",
    "    ),\n",
    "    cells=dict(\n",
    "        values=[\n",
    "            insights_ib['Taxi_Company'], \n",
    "            insights_ib['Trip_Month'], \n",
    "            insights_ib['Metric_Insight']\n",
    "        ],\n",
    "        fill_color='lightgrey',\n",
    "        align='left',\n",
    "        font=dict(size=11, color='black')\n",
    "    )\n",
    "))\n",
    "\n",
    "# Update the layout to reduce white space below the table\n",
    "fig_ib.update_layout(\n",
    "    title={\n",
    "        'text': f\"<b>{insights_ib['Metric_Description'].iloc[0]}</b>\",\n",
    "        'y': 0.97,  # Position the title above the table\n",
    "        'x': 0.5,   # Center the title\n",
    "        'xanchor': 'center',\n",
    "        'yanchor': 'top',\n",
    "        'font': dict(size=16)\n",
    "    },\n",
    "    autosize=True,\n",
    "    width=1500,  # Set a fixed width to accommodate all columns\n",
    "    height=400,  # Reduce the height to minimize white space\n",
    "    margin=dict(l=10, r=10, t=50, b=10)  # Adjust margins for better spacing\n",
    ")\n",
    "\n",
    "# Adjust column widths to fit the data\n",
    "fig_ib.data[0].columnwidth = [1.5, 1, 5]  # Set proportional widths for Taxi Company, Trip Month, and Metric Insight\n",
    "\n",
    "# Display the interactive table\n",
    "fig_ib.show()\n"
   ]
  },
  {
   "cell_type": "markdown",
   "id": "e469df5f",
   "metadata": {},
   "source": [
    "#### ✔ Show Some Potential Reasons for Metric Deltas"
   ]
  },
  {
   "cell_type": "code",
   "execution_count": 15,
   "id": "42d76fd8",
   "metadata": {},
   "outputs": [
    {
     "data": {
      "text/markdown": [
       "### Potential Reasons for I.b-Largest Month-Over-Month Decrease in Fare Per Mile:\n",
       "- Potential reasons could include:\n",
       "- Seasonal changes,\n",
       "- Marketing campaigns,\n",
       "- Operational adjustments,\n",
       "- Increased demand due to events,\n",
       "- Improved service offerings,\n",
       "- Increased fleet size,\n",
       "- Acquisition or merger with former competitor."
      ],
      "text/plain": [
       "<IPython.core.display.Markdown object>"
      ]
     },
     "metadata": {},
     "output_type": "display_data"
    }
   ],
   "source": [
    "from IPython.display import Markdown, display\n",
    "\n",
    "# Extract the first row of Metric_Reasons for insights_ia\n",
    "reasons_ib = insights_ib['Metric_Reasons'].iloc[0]\n",
    "# Apply sentence case to each reason\n",
    "formatted_reasons = '\\n- '.join(reason.strip().capitalize() for reason in reasons_ia.split('\\n- '))\n",
    "# Format and display the reasons\n",
    "formatted_reasons_ib = f\"### Potential Reasons for {insights_ib['Metric_Description'].iloc[0]}:\\n- {formatted_reasons}\"\n",
    "display(Markdown(formatted_reasons_ib))"
   ]
  },
  {
   "cell_type": "markdown",
   "id": "215333b3",
   "metadata": {},
   "source": [
    "## 2. TBD Executive Summary/Report of Findings\n",
    "Submit an executive summary/report of your findings, clearly answering the questions above."
   ]
  },
  {
   "cell_type": "markdown",
   "id": "ce20a4db",
   "metadata": {},
   "source": [
    "# PART II\n",
    "This portion of the assignment gives our candidates creative freedom to look at this data set in any way they want.\n",
    "There are no tricks here. This is simply meant to allow us to understand their ability to unearth insights and leverage visualizations to tell a story."
   ]
  },
  {
   "cell_type": "markdown",
   "id": "aa657f3c",
   "metadata": {},
   "source": [
    "## Additional Analysis Same Dataset\n",
    "Considering the context of the questions from part I, conduct an additional analysis using the same dataset and design a report that provides at least one additional insight, a trend or any other relevant detail that piques your interest.\n",
    "\n",
    "This report should:\n",
    "\n",
    "a. Clearly explain the value or potential use of that observation for someone who is interested in the answers to the questions above.  \n",
    "\n",
    "b. Include at least one visualization.  \n",
    "\n",
    "If you have any questions regarding the assignment please contact Noam Berns\n",
    "noam.berns@ourbranch.com, Austin McCleary austin.mccleary@ourbranch.com and Carson\n",
    "Wilshire at carson.wilshire@ourbranch.com\n",
    "Please email your final submission to your Branch recruiter and cc the above three managers."
   ]
  },
  {
   "cell_type": "markdown",
   "id": "cd3d72fa",
   "metadata": {},
   "source": [
    "## ✔ Please submit your SQL code (follow [URL](https://github.com/mcancell/Py-ETL-Notebook/blob/main/Datasets/Chicago%20Taxi%20Trips/Chi_Taxi_Trip_Insights_Branch_Part_II.bqsql)):\n",
    "Considering the context of the questions from part I, conduct an additional analysis using the same dataset and design a report that provides at least one additional insight, a trend or any other relevant detail that piques your interest.\n",
    "\n",
    "[See Code Here](https://github.com/mcancell/Py-ETL-Notebook/blob/main/Datasets/Chicago%20Taxi%20Trips/Chi_Taxi_Trip_Insights_Branch_Part_II.bqsql)"
   ]
  },
  {
   "cell_type": "markdown",
   "id": "b2c02fda",
   "metadata": {},
   "source": [
    "### ✔ Load & Show Query"
   ]
  },
  {
   "cell_type": "code",
   "execution_count": 16,
   "id": "8cc65d9a",
   "metadata": {},
   "outputs": [
    {
     "name": "stdout",
     "output_type": "stream",
     "text": [
      "SQL code loaded successfully from file: Chi_Taxi_Trip_Insights_Branch_Part_II.bqsql\n"
     ]
    }
   ],
   "source": [
    "# Define the path to the SQL file\n",
    "# Define the final filename as a variable\n",
    "filename = 'Chi_Taxi_Trip_Insights_Branch_Part_II.bqsql'\n",
    "\n",
    "# Dynamically construct the absolute path to the SQL file\n",
    "sql_file_path = os.path.abspath(os.path.join('C:\\\\Users\\\\mike\\\\Develop\\\\Projects\\\\Code Notebook\\\\Datasets\\\\Chicago Taxi Trips', filename))\n",
    "\n",
    "# Check if the file exists and load the SQL code into a variable\n",
    "if os.path.exists(sql_file_path):\n",
    "    with open(sql_file_path, 'r') as sql_file:\n",
    "        sql_code = sql_file.read()\n",
    "    print(f\"SQL code loaded successfully from file: {filename}\")\n",
    "else:\n",
    "    print(f\"File not found: {sql_file_path}\")"
   ]
  },
  {
   "cell_type": "markdown",
   "id": "05785e0f",
   "metadata": {},
   "source": [
    "#### Show Query "
   ]
  },
  {
   "cell_type": "code",
   "execution_count": 17,
   "id": "5e67dac1",
   "metadata": {},
   "outputs": [
    {
     "data": {
      "text/html": [
       "<div class=\"highlight\" style=\"background: #ffffff\"><pre style=\"line-height: 125%;\"><span></span><span style=\"color: #888888; font-style: italic\">-- Part II of the Chicago Taxi Trips Insights Query</span>\n",
       "<span style=\"color: #888888; font-style: italic\">/* </span>\n",
       "<span style=\"color: #888888; font-style: italic\">    AI Generated doc:</span>\n",
       "<span style=\"color: #888888; font-style: italic\">    This query analyzes Chicago Taxi Trips data to provide insights into:</span>\n",
       "<span style=\"color: #888888; font-style: italic\">    1. The largest month-over-month decreases in trips for each taxi company.</span>\n",
       "<span style=\"color: #888888; font-style: italic\">    2. The largest month-over-month increases in fare per mile for each taxi company.</span>\n",
       "\n",
       "<span style=\"color: #888888; font-style: italic\">    Key Features:</span>\n",
       "<span style=\"color: #888888; font-style: italic\">    - Standardizes company names to handle variations (e.g., punctuation, case).</span>\n",
       "<span style=\"color: #888888; font-style: italic\">    - Calculates month-over-month metrics (trip count and fare per mile).</span>\n",
       "<span style=\"color: #888888; font-style: italic\">    - Ranks companies based on the largest decreases and increases.</span>\n",
       "<span style=\"color: #888888; font-style: italic\">    - Extracts insights for the top 3 companies for each metric.</span>\n",
       "\n",
       "<span style=\"color: #888888; font-style: italic\">    Filters Applied:</span>\n",
       "<span style=\"color: #888888; font-style: italic\">    - Exclude trips with no company information (`company IS NOT NULL`).</span>\n",
       "<span style=\"color: #888888; font-style: italic\">    - Exclude trips with zero or negative miles for fare per mile calculations (`trip_miles &gt; 0`).</span>\n",
       "<span style=\"color: #888888; font-style: italic\">    - Exclude months with very low prior metrics to avoid noise:</span>\n",
       "<span style=\"color: #888888; font-style: italic\">        - `Mon_Prior_Metric_Val &gt; 100` for trip decreases.</span>\n",
       "<span style=\"color: #888888; font-style: italic\">        - `Mon_Prior_Metric_Val &gt; 0.1` for fare per mile increases.</span>\n",
       "<span style=\"color: #888888; font-style: italic\">    - Cap extreme percentage changes:</span>\n",
       "<span style=\"color: #888888; font-style: italic\">        - `SAFE_DIVIDE(metric_delta, Mon_Prior_Metric_Val) &gt;= -10` for trip decreases.</span>\n",
       "<span style=\"color: #888888; font-style: italic\">        - `SAFE_DIVIDE(metric_delta, Mon_Prior_Metric_Val) &lt;= 10` for fare per mile increases.</span>\n",
       "\n",
       "<span style=\"color: #888888; font-style: italic\">    Resulting Output Columns:</span>\n",
       "<span style=\"color: #888888; font-style: italic\">    - `Metric_Description`: Describes the metric being analyzed (e.g., &quot;Largest Month-Over-Month Decrease in Trips&quot;).</span>\n",
       "<span style=\"color: #888888; font-style: italic\">    - `standardized_company`: Standardized company name (lowercase, no punctuation).</span>\n",
       "<span style=\"color: #888888; font-style: italic\">    - `Taxi_Company`: Original company name.</span>\n",
       "<span style=\"color: #888888; font-style: italic\">    - `Trip_Month`: Month of the metric in `YYYY-MM` format.</span>\n",
       "<span style=\"color: #888888; font-style: italic\">    - `Mon_Metric_Val`: Current month&#39;s metric value (trip count or fare per mile).</span>\n",
       "<span style=\"color: #888888; font-style: italic\">    - `Metric_Delta`: Month-over-month change in the metric.</span>\n",
       "<span style=\"color: #888888; font-style: italic\">    - `Mon_Prior_Metric_Val`: Previous month&#39;s metric value.</span>\n",
       "<span style=\"color: #888888; font-style: italic\">    - `Metric_Mon_Pct_Chg`: Numeric percentage change from the prior month.</span>\n",
       "<span style=\"color: #888888; font-style: italic\">    - `Metric_Mon_Pct_Chg_Str`: String representation of the percentage change (e.g., &quot;123.4%&quot;).</span>\n",
       "<span style=\"color: #888888; font-style: italic\">    - `Metric_Insight`: Textual insight explaining the metric&#39;s significance.</span>\n",
       "<span style=\"color: #888888; font-style: italic\">*/</span>\n",
       "\n",
       "<span style=\"color: #888888; font-style: italic\">--CREATE OR REPLACE TABLE `mikecancell-development.Chicago_Taxi_Trips.Monthly_Insights_Part_II` AS</span>\n",
       "<span style=\"color: #005cc5; font-weight: bold\">WITH</span>\n",
       "    <span style=\"color: #888888; font-style: italic\">/* </span>\n",
       "<span style=\"color: #888888; font-style: italic\">        Trip_Decreases CTE:</span>\n",
       "<span style=\"color: #888888; font-style: italic\">        Identifies the largest month-over-month decreases in trip counts for each taxi company.</span>\n",
       "<span style=\"color: #888888; font-style: italic\">        Standardizes company names, calculates month-over-month changes.</span>\n",
       "<span style=\"color: #888888; font-style: italic\">    */</span>\n",
       "    <span style=\"color: #22863a; font-weight: bold\">Trip_Decreases</span> <span style=\"color: #005cc5; font-weight: bold\">AS</span> <span style=\"color: #24292e; font-weight: bold\">(</span>\n",
       "        <span style=\"color: #005cc5; font-weight: bold\">SELECT</span>\n",
       "            <span style=\"color: #22863a; font-weight: bold\">REGEXP_REPLACE</span><span style=\"color: #24292e; font-weight: bold\">(</span><span style=\"color: #005cc5; font-weight: bold\">LOWER</span><span style=\"color: #24292e; font-weight: bold\">(</span><span style=\"color: #005cc5; font-weight: bold\">TRIM</span><span style=\"color: #24292e; font-weight: bold\">(</span><span style=\"color: #22863a; font-weight: bold\">company</span><span style=\"color: #24292e; font-weight: bold\">)),</span> <span style=\"color: #22863a; font-weight: bold\">r</span><span style=\"color: #d73a49; font-style: italic\">&#39;[^a-z0-9\\s]&#39;</span><span style=\"color: #24292e; font-weight: bold\">,</span> <span style=\"color: #d73a49; font-style: italic\">&#39;&#39;</span><span style=\"color: #24292e; font-weight: bold\">)</span> <span style=\"color: #005cc5; font-weight: bold\">AS</span> <span style=\"color: #22863a; font-weight: bold\">standardized_company</span><span style=\"color: #24292e; font-weight: bold\">,</span> <span style=\"color: #888888; font-style: italic\">-- Standardize company names</span>\n",
       "            <span style=\"color: #d73a49; font-style: italic\">&#39;II.a-Largest Month-Over-Month Decrease in Trips&#39;</span> <span style=\"color: #005cc5; font-weight: bold\">AS</span> <span style=\"color: #22863a; font-weight: bold\">Metric_Description</span><span style=\"color: #24292e; font-weight: bold\">,</span>\n",
       "            <span style=\"color: #22863a; font-weight: bold\">company</span><span style=\"color: #24292e; font-weight: bold\">,</span>\n",
       "            <span style=\"color: #22863a; font-weight: bold\">FORMAT_TIMESTAMP</span><span style=\"color: #24292e; font-weight: bold\">(</span><span style=\"color: #d73a49; font-style: italic\">&#39;%Y-%m&#39;</span><span style=\"color: #24292e; font-weight: bold\">,</span> <span style=\"color: #22863a; font-weight: bold\">trip_month</span><span style=\"color: #24292e; font-weight: bold\">)</span> <span style=\"color: #005cc5; font-weight: bold\">AS</span> <span style=\"color: #22863a; font-weight: bold\">trip_month</span><span style=\"color: #24292e; font-weight: bold\">,</span> <span style=\"color: #888888; font-style: italic\">-- Format trip month as YYYY-MM</span>\n",
       "            <span style=\"color: #22863a; font-weight: bold\">metric</span><span style=\"color: #24292e; font-weight: bold\">,</span>\n",
       "            <span style=\"color: #22863a; font-weight: bold\">LAG</span><span style=\"color: #24292e; font-weight: bold\">(</span><span style=\"color: #22863a; font-weight: bold\">metric</span><span style=\"color: #24292e; font-weight: bold\">)</span> <span style=\"color: #22863a; font-weight: bold\">OVER</span> <span style=\"color: #24292e; font-weight: bold\">(</span><span style=\"color: #22863a; font-weight: bold\">PARTITION</span> <span style=\"color: #005cc5; font-weight: bold\">BY</span> <span style=\"color: #22863a; font-weight: bold\">REGEXP_REPLACE</span><span style=\"color: #24292e; font-weight: bold\">(</span><span style=\"color: #005cc5; font-weight: bold\">LOWER</span><span style=\"color: #24292e; font-weight: bold\">(</span><span style=\"color: #005cc5; font-weight: bold\">TRIM</span><span style=\"color: #24292e; font-weight: bold\">(</span><span style=\"color: #22863a; font-weight: bold\">company</span><span style=\"color: #24292e; font-weight: bold\">)),</span> <span style=\"color: #22863a; font-weight: bold\">r</span><span style=\"color: #d73a49; font-style: italic\">&#39;[^a-z0-9\\s]&#39;</span><span style=\"color: #24292e; font-weight: bold\">,</span> <span style=\"color: #d73a49; font-style: italic\">&#39;&#39;</span><span style=\"color: #24292e; font-weight: bold\">)</span> <span style=\"color: #005cc5; font-weight: bold\">ORDER</span> <span style=\"color: #005cc5; font-weight: bold\">BY</span> <span style=\"color: #22863a; font-weight: bold\">trip_month</span><span style=\"color: #24292e; font-weight: bold\">)</span> <span style=\"color: #005cc5; font-weight: bold\">AS</span> <span style=\"color: #22863a; font-weight: bold\">Mon_Prior_Metric_Val</span><span style=\"color: #24292e; font-weight: bold\">,</span> <span style=\"color: #888888; font-style: italic\">-- Previous month&#39;s metric</span>\n",
       "            <span style=\"color: #22863a; font-weight: bold\">metric</span> <span style=\"color: #e36209; font-weight: bold\">-</span> <span style=\"color: #22863a; font-weight: bold\">LAG</span><span style=\"color: #24292e; font-weight: bold\">(</span><span style=\"color: #22863a; font-weight: bold\">metric</span><span style=\"color: #24292e; font-weight: bold\">)</span> <span style=\"color: #22863a; font-weight: bold\">OVER</span> <span style=\"color: #24292e; font-weight: bold\">(</span><span style=\"color: #22863a; font-weight: bold\">PARTITION</span> <span style=\"color: #005cc5; font-weight: bold\">BY</span> <span style=\"color: #22863a; font-weight: bold\">REGEXP_REPLACE</span><span style=\"color: #24292e; font-weight: bold\">(</span><span style=\"color: #005cc5; font-weight: bold\">LOWER</span><span style=\"color: #24292e; font-weight: bold\">(</span><span style=\"color: #005cc5; font-weight: bold\">TRIM</span><span style=\"color: #24292e; font-weight: bold\">(</span><span style=\"color: #22863a; font-weight: bold\">company</span><span style=\"color: #24292e; font-weight: bold\">)),</span> <span style=\"color: #22863a; font-weight: bold\">r</span><span style=\"color: #d73a49; font-style: italic\">&#39;[^a-z0-9\\s]&#39;</span><span style=\"color: #24292e; font-weight: bold\">,</span> <span style=\"color: #d73a49; font-style: italic\">&#39;&#39;</span><span style=\"color: #24292e; font-weight: bold\">)</span> <span style=\"color: #005cc5; font-weight: bold\">ORDER</span> <span style=\"color: #005cc5; font-weight: bold\">BY</span> <span style=\"color: #22863a; font-weight: bold\">trip_month</span><span style=\"color: #24292e; font-weight: bold\">)</span> <span style=\"color: #005cc5; font-weight: bold\">AS</span> <span style=\"color: #22863a; font-weight: bold\">metric_delta</span> <span style=\"color: #888888; font-style: italic\">-- Month-over-month change</span>\n",
       "        <span style=\"color: #005cc5; font-weight: bold\">FROM</span> <span style=\"color: #24292e; font-weight: bold\">(</span>\n",
       "            <span style=\"color: #005cc5; font-weight: bold\">SELECT</span>\n",
       "                <span style=\"color: #22863a; font-weight: bold\">company</span><span style=\"color: #24292e; font-weight: bold\">,</span>\n",
       "                <span style=\"color: #22863a; font-weight: bold\">DATE_TRUNC</span><span style=\"color: #24292e; font-weight: bold\">(</span><span style=\"color: #22863a; font-weight: bold\">trip_start_timestamp</span><span style=\"color: #24292e; font-weight: bold\">,</span> <span style=\"color: #005cc5; font-weight: bold\">MONTH</span><span style=\"color: #24292e; font-weight: bold\">)</span> <span style=\"color: #005cc5; font-weight: bold\">AS</span> <span style=\"color: #22863a; font-weight: bold\">trip_month</span><span style=\"color: #24292e; font-weight: bold\">,</span> <span style=\"color: #888888; font-style: italic\">-- Extract month from trip start timestamp</span>\n",
       "                <span style=\"color: #005cc5; font-weight: bold\">COUNT</span><span style=\"color: #24292e; font-weight: bold\">(</span><span style=\"color: #e36209; font-weight: bold\">*</span><span style=\"color: #24292e; font-weight: bold\">)</span> <span style=\"color: #005cc5; font-weight: bold\">AS</span> <span style=\"color: #22863a; font-weight: bold\">metric</span> <span style=\"color: #888888; font-style: italic\">-- Count trips</span>\n",
       "            <span style=\"color: #005cc5; font-weight: bold\">FROM</span>\n",
       "                <span style=\"color: #e36209; font-weight: bold\">`</span><span style=\"color: #22863a; font-weight: bold\">bigquery</span><span style=\"color: #e36209; font-weight: bold\">-</span><span style=\"color: #005cc5; font-weight: bold\">public</span><span style=\"color: #e36209; font-weight: bold\">-</span><span style=\"color: #005cc5; font-weight: bold\">data</span><span style=\"color: #24292e; font-weight: bold\">.</span><span style=\"color: #22863a; font-weight: bold\">chicago_taxi_trips</span><span style=\"color: #24292e; font-weight: bold\">.</span><span style=\"color: #22863a; font-weight: bold\">taxi_trips</span><span style=\"color: #e36209; font-weight: bold\">`</span>\n",
       "            <span style=\"color: #005cc5; font-weight: bold\">WHERE</span> \n",
       "                <span style=\"color: #22863a; font-weight: bold\">company</span> <span style=\"color: #005cc5; font-weight: bold\">IS</span> <span style=\"color: #005cc5; font-weight: bold\">NOT</span> <span style=\"color: #005cc5; font-weight: bold\">NULL</span> <span style=\"color: #888888; font-style: italic\">-- Exclude trips with no company information</span>\n",
       "            <span style=\"color: #005cc5; font-weight: bold\">GROUP</span> <span style=\"color: #005cc5; font-weight: bold\">BY</span>\n",
       "                <span style=\"color: #22863a; font-weight: bold\">company</span><span style=\"color: #24292e; font-weight: bold\">,</span> \n",
       "                <span style=\"color: #22863a; font-weight: bold\">DATE_TRUNC</span><span style=\"color: #24292e; font-weight: bold\">(</span><span style=\"color: #22863a; font-weight: bold\">trip_start_timestamp</span><span style=\"color: #24292e; font-weight: bold\">,</span> <span style=\"color: #005cc5; font-weight: bold\">MONTH</span><span style=\"color: #24292e; font-weight: bold\">)</span>\n",
       "        <span style=\"color: #24292e; font-weight: bold\">)</span> <span style=\"color: #22863a; font-weight: bold\">aggregated_data</span>\n",
       "    <span style=\"color: #24292e; font-weight: bold\">),</span>\n",
       "    \n",
       "    <span style=\"color: #888888; font-style: italic\">/* </span>\n",
       "<span style=\"color: #888888; font-style: italic\">        Fare_Increases CTE:</span>\n",
       "<span style=\"color: #888888; font-style: italic\">        Calculates month-over-month changes in fare per mile for taxi companies.</span>\n",
       "<span style=\"color: #888888; font-style: italic\">        Standardizes company names and computes metrics such as differences from the previous month&#39;s fare per mile.</span>\n",
       "<span style=\"color: #888888; font-style: italic\">    */</span>\n",
       "    <span style=\"color: #22863a; font-weight: bold\">Fare_Increases</span> <span style=\"color: #005cc5; font-weight: bold\">AS</span> <span style=\"color: #24292e; font-weight: bold\">(</span>\n",
       "        <span style=\"color: #005cc5; font-weight: bold\">SELECT</span>\n",
       "            <span style=\"color: #22863a; font-weight: bold\">REGEXP_REPLACE</span><span style=\"color: #24292e; font-weight: bold\">(</span><span style=\"color: #005cc5; font-weight: bold\">LOWER</span><span style=\"color: #24292e; font-weight: bold\">(</span><span style=\"color: #005cc5; font-weight: bold\">TRIM</span><span style=\"color: #24292e; font-weight: bold\">(</span><span style=\"color: #22863a; font-weight: bold\">company</span><span style=\"color: #24292e; font-weight: bold\">)),</span> <span style=\"color: #22863a; font-weight: bold\">r</span><span style=\"color: #d73a49; font-style: italic\">&#39;[^a-z0-9\\s]&#39;</span><span style=\"color: #24292e; font-weight: bold\">,</span> <span style=\"color: #d73a49; font-style: italic\">&#39;&#39;</span><span style=\"color: #24292e; font-weight: bold\">)</span> <span style=\"color: #005cc5; font-weight: bold\">AS</span> <span style=\"color: #22863a; font-weight: bold\">standardized_company</span><span style=\"color: #24292e; font-weight: bold\">,</span> <span style=\"color: #888888; font-style: italic\">-- Standardize company names</span>\n",
       "            <span style=\"color: #d73a49; font-style: italic\">&#39;II.b-Largest Month-Over-Month Increase in Fare Per Mile&#39;</span> <span style=\"color: #005cc5; font-weight: bold\">AS</span> <span style=\"color: #22863a; font-weight: bold\">Metric_Description</span><span style=\"color: #24292e; font-weight: bold\">,</span>\n",
       "            <span style=\"color: #22863a; font-weight: bold\">company</span><span style=\"color: #24292e; font-weight: bold\">,</span>\n",
       "            <span style=\"color: #22863a; font-weight: bold\">FORMAT_TIMESTAMP</span><span style=\"color: #24292e; font-weight: bold\">(</span><span style=\"color: #d73a49; font-style: italic\">&#39;%Y-%m&#39;</span><span style=\"color: #24292e; font-weight: bold\">,</span> <span style=\"color: #22863a; font-weight: bold\">trip_month</span><span style=\"color: #24292e; font-weight: bold\">)</span> <span style=\"color: #005cc5; font-weight: bold\">AS</span> <span style=\"color: #22863a; font-weight: bold\">trip_month</span><span style=\"color: #24292e; font-weight: bold\">,</span> <span style=\"color: #888888; font-style: italic\">-- Format trip month as YYYY-MM</span>\n",
       "            <span style=\"color: #22863a; font-weight: bold\">metric</span><span style=\"color: #24292e; font-weight: bold\">,</span>\n",
       "            <span style=\"color: #22863a; font-weight: bold\">LAG</span><span style=\"color: #24292e; font-weight: bold\">(</span><span style=\"color: #22863a; font-weight: bold\">metric</span><span style=\"color: #24292e; font-weight: bold\">)</span> <span style=\"color: #22863a; font-weight: bold\">OVER</span> <span style=\"color: #24292e; font-weight: bold\">(</span><span style=\"color: #22863a; font-weight: bold\">PARTITION</span> <span style=\"color: #005cc5; font-weight: bold\">BY</span> <span style=\"color: #22863a; font-weight: bold\">REGEXP_REPLACE</span><span style=\"color: #24292e; font-weight: bold\">(</span><span style=\"color: #005cc5; font-weight: bold\">LOWER</span><span style=\"color: #24292e; font-weight: bold\">(</span><span style=\"color: #005cc5; font-weight: bold\">TRIM</span><span style=\"color: #24292e; font-weight: bold\">(</span><span style=\"color: #22863a; font-weight: bold\">company</span><span style=\"color: #24292e; font-weight: bold\">)),</span> <span style=\"color: #22863a; font-weight: bold\">r</span><span style=\"color: #d73a49; font-style: italic\">&#39;[^a-z0-9\\s]&#39;</span><span style=\"color: #24292e; font-weight: bold\">,</span> <span style=\"color: #d73a49; font-style: italic\">&#39;&#39;</span><span style=\"color: #24292e; font-weight: bold\">)</span> <span style=\"color: #005cc5; font-weight: bold\">ORDER</span> <span style=\"color: #005cc5; font-weight: bold\">BY</span> <span style=\"color: #22863a; font-weight: bold\">trip_month</span><span style=\"color: #24292e; font-weight: bold\">)</span> <span style=\"color: #005cc5; font-weight: bold\">AS</span> <span style=\"color: #22863a; font-weight: bold\">Mon_Prior_Metric_Val</span><span style=\"color: #24292e; font-weight: bold\">,</span> <span style=\"color: #888888; font-style: italic\">-- Previous month&#39;s metric</span>\n",
       "            <span style=\"color: #22863a; font-weight: bold\">metric</span> <span style=\"color: #e36209; font-weight: bold\">-</span> <span style=\"color: #22863a; font-weight: bold\">LAG</span><span style=\"color: #24292e; font-weight: bold\">(</span><span style=\"color: #22863a; font-weight: bold\">metric</span><span style=\"color: #24292e; font-weight: bold\">)</span> <span style=\"color: #22863a; font-weight: bold\">OVER</span> <span style=\"color: #24292e; font-weight: bold\">(</span><span style=\"color: #22863a; font-weight: bold\">PARTITION</span> <span style=\"color: #005cc5; font-weight: bold\">BY</span> <span style=\"color: #22863a; font-weight: bold\">REGEXP_REPLACE</span><span style=\"color: #24292e; font-weight: bold\">(</span><span style=\"color: #005cc5; font-weight: bold\">LOWER</span><span style=\"color: #24292e; font-weight: bold\">(</span><span style=\"color: #005cc5; font-weight: bold\">TRIM</span><span style=\"color: #24292e; font-weight: bold\">(</span><span style=\"color: #22863a; font-weight: bold\">company</span><span style=\"color: #24292e; font-weight: bold\">)),</span> <span style=\"color: #22863a; font-weight: bold\">r</span><span style=\"color: #d73a49; font-style: italic\">&#39;[^a-z0-9\\s]&#39;</span><span style=\"color: #24292e; font-weight: bold\">,</span> <span style=\"color: #d73a49; font-style: italic\">&#39;&#39;</span><span style=\"color: #24292e; font-weight: bold\">)</span> <span style=\"color: #005cc5; font-weight: bold\">ORDER</span> <span style=\"color: #005cc5; font-weight: bold\">BY</span> <span style=\"color: #22863a; font-weight: bold\">trip_month</span><span style=\"color: #24292e; font-weight: bold\">)</span> <span style=\"color: #005cc5; font-weight: bold\">AS</span> <span style=\"color: #22863a; font-weight: bold\">metric_delta</span> <span style=\"color: #888888; font-style: italic\">-- Month-over-month change</span>\n",
       "        <span style=\"color: #005cc5; font-weight: bold\">FROM</span> <span style=\"color: #24292e; font-weight: bold\">(</span>\n",
       "            <span style=\"color: #005cc5; font-weight: bold\">SELECT</span>\n",
       "                <span style=\"color: #22863a; font-weight: bold\">company</span><span style=\"color: #24292e; font-weight: bold\">,</span>\n",
       "                <span style=\"color: #22863a; font-weight: bold\">DATE_TRUNC</span><span style=\"color: #24292e; font-weight: bold\">(</span><span style=\"color: #22863a; font-weight: bold\">trip_start_timestamp</span><span style=\"color: #24292e; font-weight: bold\">,</span> <span style=\"color: #005cc5; font-weight: bold\">MONTH</span><span style=\"color: #24292e; font-weight: bold\">)</span> <span style=\"color: #005cc5; font-weight: bold\">AS</span> <span style=\"color: #22863a; font-weight: bold\">trip_month</span><span style=\"color: #24292e; font-weight: bold\">,</span> <span style=\"color: #888888; font-style: italic\">-- Extract month from trip start timestamp</span>\n",
       "                <span style=\"color: #22863a; font-weight: bold\">SAFE_DIVIDE</span><span style=\"color: #24292e; font-weight: bold\">(</span><span style=\"color: #005cc5; font-weight: bold\">SUM</span><span style=\"color: #24292e; font-weight: bold\">(</span><span style=\"color: #22863a; font-weight: bold\">fare</span><span style=\"color: #24292e; font-weight: bold\">),</span> <span style=\"color: #005cc5; font-weight: bold\">SUM</span><span style=\"color: #24292e; font-weight: bold\">(</span><span style=\"color: #22863a; font-weight: bold\">trip_miles</span><span style=\"color: #24292e; font-weight: bold\">))</span> <span style=\"color: #005cc5; font-weight: bold\">AS</span> <span style=\"color: #22863a; font-weight: bold\">metric</span> <span style=\"color: #888888; font-style: italic\">-- Calculate fare per mile</span>\n",
       "            <span style=\"color: #005cc5; font-weight: bold\">FROM</span>\n",
       "                <span style=\"color: #e36209; font-weight: bold\">`</span><span style=\"color: #22863a; font-weight: bold\">bigquery</span><span style=\"color: #e36209; font-weight: bold\">-</span><span style=\"color: #005cc5; font-weight: bold\">public</span><span style=\"color: #e36209; font-weight: bold\">-</span><span style=\"color: #005cc5; font-weight: bold\">data</span><span style=\"color: #24292e; font-weight: bold\">.</span><span style=\"color: #22863a; font-weight: bold\">chicago_taxi_trips</span><span style=\"color: #24292e; font-weight: bold\">.</span><span style=\"color: #22863a; font-weight: bold\">taxi_trips</span><span style=\"color: #e36209; font-weight: bold\">`</span>\n",
       "            <span style=\"color: #005cc5; font-weight: bold\">WHERE</span> \n",
       "                <span style=\"color: #22863a; font-weight: bold\">company</span> <span style=\"color: #005cc5; font-weight: bold\">IS</span> <span style=\"color: #005cc5; font-weight: bold\">NOT</span> <span style=\"color: #005cc5; font-weight: bold\">NULL</span> <span style=\"color: #888888; font-style: italic\">-- Exclude trips with no company information</span>\n",
       "                <span style=\"color: #005cc5; font-weight: bold\">AND</span> <span style=\"color: #22863a; font-weight: bold\">trip_miles</span> <span style=\"color: #e36209; font-weight: bold\">&gt;</span> <span style=\"color: #6f42c1; font-weight: bold\">0</span> <span style=\"color: #888888; font-style: italic\">-- Exclude trips with zero or negative miles</span>\n",
       "            <span style=\"color: #005cc5; font-weight: bold\">GROUP</span> <span style=\"color: #005cc5; font-weight: bold\">BY</span>\n",
       "                <span style=\"color: #22863a; font-weight: bold\">company</span><span style=\"color: #24292e; font-weight: bold\">,</span> \n",
       "                <span style=\"color: #22863a; font-weight: bold\">DATE_TRUNC</span><span style=\"color: #24292e; font-weight: bold\">(</span><span style=\"color: #22863a; font-weight: bold\">trip_start_timestamp</span><span style=\"color: #24292e; font-weight: bold\">,</span> <span style=\"color: #005cc5; font-weight: bold\">MONTH</span><span style=\"color: #24292e; font-weight: bold\">)</span>\n",
       "        <span style=\"color: #24292e; font-weight: bold\">)</span> <span style=\"color: #22863a; font-weight: bold\">aggregated_data</span>\n",
       "    <span style=\"color: #24292e; font-weight: bold\">),</span>\n",
       "\n",
       "    <span style=\"color: #888888; font-style: italic\">-- Rank Trip Decreases by Metric Delta</span>\n",
       "    <span style=\"color: #22863a; font-weight: bold\">MoM_Trip_Decreases_Ranked</span> <span style=\"color: #005cc5; font-weight: bold\">AS</span> <span style=\"color: #24292e; font-weight: bold\">(</span>\n",
       "        <span style=\"color: #005cc5; font-weight: bold\">SELECT</span>\n",
       "            <span style=\"color: #22863a; font-weight: bold\">Metric_Description</span><span style=\"color: #24292e; font-weight: bold\">,</span>\n",
       "            <span style=\"color: #22863a; font-weight: bold\">standardized_company</span><span style=\"color: #24292e; font-weight: bold\">,</span>\n",
       "            <span style=\"color: #22863a; font-weight: bold\">company</span><span style=\"color: #24292e; font-weight: bold\">,</span>\n",
       "            <span style=\"color: #22863a; font-weight: bold\">trip_month</span><span style=\"color: #24292e; font-weight: bold\">,</span>\n",
       "            <span style=\"color: #22863a; font-weight: bold\">metric</span><span style=\"color: #24292e; font-weight: bold\">,</span>\n",
       "            <span style=\"color: #22863a; font-weight: bold\">Mon_Prior_Metric_Val</span><span style=\"color: #24292e; font-weight: bold\">,</span>\n",
       "            <span style=\"color: #22863a; font-weight: bold\">metric_delta</span><span style=\"color: #24292e; font-weight: bold\">,</span>\n",
       "            <span style=\"color: #22863a; font-weight: bold\">SAFE_DIVIDE</span><span style=\"color: #24292e; font-weight: bold\">(</span><span style=\"color: #22863a; font-weight: bold\">metric_delta</span><span style=\"color: #24292e; font-weight: bold\">,</span> <span style=\"color: #22863a; font-weight: bold\">Mon_Prior_Metric_Val</span><span style=\"color: #24292e; font-weight: bold\">)</span> <span style=\"color: #005cc5; font-weight: bold\">AS</span> <span style=\"color: #22863a; font-weight: bold\">Metric_Mon_Pct_Chg</span><span style=\"color: #24292e; font-weight: bold\">,</span> <span style=\"color: #888888; font-style: italic\">-- Calculate percentage change</span>\n",
       "            <span style=\"color: #22863a; font-weight: bold\">CONCAT</span><span style=\"color: #24292e; font-weight: bold\">(</span><span style=\"color: #22863a; font-weight: bold\">FORMAT</span><span style=\"color: #24292e; font-weight: bold\">(</span><span style=\"color: #d73a49; font-style: italic\">&#39;%.1f&#39;</span><span style=\"color: #24292e; font-weight: bold\">,</span> <span style=\"color: #22863a; font-weight: bold\">SAFE_DIVIDE</span><span style=\"color: #24292e; font-weight: bold\">(</span><span style=\"color: #005cc5; font-weight: bold\">ABS</span><span style=\"color: #24292e; font-weight: bold\">(</span><span style=\"color: #22863a; font-weight: bold\">metric_delta</span><span style=\"color: #24292e; font-weight: bold\">),</span> <span style=\"color: #22863a; font-weight: bold\">Mon_Prior_Metric_Val</span><span style=\"color: #24292e; font-weight: bold\">)</span> <span style=\"color: #e36209; font-weight: bold\">*</span> <span style=\"color: #6f42c1; font-weight: bold\">100</span><span style=\"color: #24292e; font-weight: bold\">),</span> <span style=\"color: #d73a49; font-style: italic\">&#39;%&#39;</span><span style=\"color: #24292e; font-weight: bold\">)</span> <span style=\"color: #005cc5; font-weight: bold\">AS</span> <span style=\"color: #22863a; font-weight: bold\">Metric_Mon_Pct_Chg_Str</span><span style=\"color: #24292e; font-weight: bold\">,</span> <span style=\"color: #888888; font-style: italic\">-- Format percentage change as string</span>\n",
       "            <span style=\"color: #22863a; font-weight: bold\">ROW_NUMBER</span><span style=\"color: #24292e; font-weight: bold\">()</span> <span style=\"color: #22863a; font-weight: bold\">OVER</span> <span style=\"color: #24292e; font-weight: bold\">(</span><span style=\"color: #22863a; font-weight: bold\">PARTITION</span> <span style=\"color: #005cc5; font-weight: bold\">BY</span> <span style=\"color: #22863a; font-weight: bold\">standardized_company</span> <span style=\"color: #005cc5; font-weight: bold\">ORDER</span> <span style=\"color: #005cc5; font-weight: bold\">BY</span> <span style=\"color: #22863a; font-weight: bold\">metric_delta</span> <span style=\"color: #005cc5; font-weight: bold\">ASC</span><span style=\"color: #24292e; font-weight: bold\">)</span> <span style=\"color: #005cc5; font-weight: bold\">AS</span> <span style=\"color: #22863a; font-weight: bold\">rank</span> <span style=\"color: #888888; font-style: italic\">-- Rank by largest decrease</span>\n",
       "        <span style=\"color: #005cc5; font-weight: bold\">FROM</span>\n",
       "            <span style=\"color: #22863a; font-weight: bold\">Trip_Decreases</span>\n",
       "        <span style=\"color: #005cc5; font-weight: bold\">WHERE</span>\n",
       "            <span style=\"color: #22863a; font-weight: bold\">Mon_Prior_Metric_Val</span> <span style=\"color: #005cc5; font-weight: bold\">IS</span> <span style=\"color: #005cc5; font-weight: bold\">NOT</span> <span style=\"color: #005cc5; font-weight: bold\">NULL</span> <span style=\"color: #888888; font-style: italic\">-- Exclude rows with no prior month data</span>\n",
       "            <span style=\"color: #005cc5; font-weight: bold\">AND</span> <span style=\"color: #22863a; font-weight: bold\">Mon_Prior_Metric_Val</span> <span style=\"color: #e36209; font-weight: bold\">&gt;</span> <span style=\"color: #6f42c1; font-weight: bold\">100</span> <span style=\"color: #888888; font-style: italic\">-- Exclude months with very low prior metrics</span>\n",
       "            <span style=\"color: #005cc5; font-weight: bold\">AND</span> <span style=\"color: #22863a; font-weight: bold\">metric</span> <span style=\"color: #e36209; font-weight: bold\">&gt;</span> <span style=\"color: #6f42c1; font-weight: bold\">100</span> <span style=\"color: #888888; font-style: italic\">-- Exclude months with very low current metrics</span>\n",
       "            <span style=\"color: #005cc5; font-weight: bold\">AND</span> <span style=\"color: #22863a; font-weight: bold\">SAFE_DIVIDE</span><span style=\"color: #24292e; font-weight: bold\">(</span><span style=\"color: #22863a; font-weight: bold\">metric_delta</span><span style=\"color: #24292e; font-weight: bold\">,</span> <span style=\"color: #22863a; font-weight: bold\">Mon_Prior_Metric_Val</span><span style=\"color: #24292e; font-weight: bold\">)</span> <span style=\"color: #e36209; font-weight: bold\">&gt;=</span> <span style=\"color: #e36209; font-weight: bold\">-</span><span style=\"color: #6f42c1; font-weight: bold\">10</span> <span style=\"color: #888888; font-style: italic\">-- Cap extreme percentage changes</span>\n",
       "    <span style=\"color: #24292e; font-weight: bold\">),</span>\n",
       "    \n",
       "    <span style=\"color: #888888; font-style: italic\">-- Rank Fare Per Mile Increases by Metric Delta</span>\n",
       "    <span style=\"color: #22863a; font-weight: bold\">MoM_FarePerMile_Increases_Ranked</span> <span style=\"color: #005cc5; font-weight: bold\">AS</span> <span style=\"color: #24292e; font-weight: bold\">(</span>\n",
       "        <span style=\"color: #005cc5; font-weight: bold\">SELECT</span>\n",
       "            <span style=\"color: #22863a; font-weight: bold\">Metric_Description</span><span style=\"color: #24292e; font-weight: bold\">,</span>\n",
       "            <span style=\"color: #22863a; font-weight: bold\">standardized_company</span><span style=\"color: #24292e; font-weight: bold\">,</span>\n",
       "            <span style=\"color: #22863a; font-weight: bold\">company</span><span style=\"color: #24292e; font-weight: bold\">,</span>\n",
       "            <span style=\"color: #22863a; font-weight: bold\">trip_month</span><span style=\"color: #24292e; font-weight: bold\">,</span>\n",
       "            <span style=\"color: #22863a; font-weight: bold\">metric</span><span style=\"color: #24292e; font-weight: bold\">,</span>\n",
       "            <span style=\"color: #22863a; font-weight: bold\">Mon_Prior_Metric_Val</span><span style=\"color: #24292e; font-weight: bold\">,</span>\n",
       "            <span style=\"color: #22863a; font-weight: bold\">metric_delta</span><span style=\"color: #24292e; font-weight: bold\">,</span>\n",
       "            <span style=\"color: #22863a; font-weight: bold\">SAFE_DIVIDE</span><span style=\"color: #24292e; font-weight: bold\">(</span><span style=\"color: #22863a; font-weight: bold\">metric_delta</span><span style=\"color: #24292e; font-weight: bold\">,</span> <span style=\"color: #22863a; font-weight: bold\">Mon_Prior_Metric_Val</span><span style=\"color: #24292e; font-weight: bold\">)</span> <span style=\"color: #005cc5; font-weight: bold\">AS</span> <span style=\"color: #22863a; font-weight: bold\">Metric_Mon_Pct_Chg</span><span style=\"color: #24292e; font-weight: bold\">,</span> <span style=\"color: #888888; font-style: italic\">-- Calculate percentage change</span>\n",
       "            <span style=\"color: #22863a; font-weight: bold\">CONCAT</span><span style=\"color: #24292e; font-weight: bold\">(</span><span style=\"color: #22863a; font-weight: bold\">FORMAT</span><span style=\"color: #24292e; font-weight: bold\">(</span><span style=\"color: #d73a49; font-style: italic\">&#39;%.1f&#39;</span><span style=\"color: #24292e; font-weight: bold\">,</span> <span style=\"color: #22863a; font-weight: bold\">SAFE_DIVIDE</span><span style=\"color: #24292e; font-weight: bold\">(</span><span style=\"color: #005cc5; font-weight: bold\">ABS</span><span style=\"color: #24292e; font-weight: bold\">(</span><span style=\"color: #22863a; font-weight: bold\">metric_delta</span><span style=\"color: #24292e; font-weight: bold\">),</span> <span style=\"color: #22863a; font-weight: bold\">Mon_Prior_Metric_Val</span><span style=\"color: #24292e; font-weight: bold\">)</span> <span style=\"color: #e36209; font-weight: bold\">*</span> <span style=\"color: #6f42c1; font-weight: bold\">100</span><span style=\"color: #24292e; font-weight: bold\">),</span> <span style=\"color: #d73a49; font-style: italic\">&#39;%&#39;</span><span style=\"color: #24292e; font-weight: bold\">)</span> <span style=\"color: #005cc5; font-weight: bold\">AS</span> <span style=\"color: #22863a; font-weight: bold\">Metric_Mon_Pct_Chg_Str</span><span style=\"color: #24292e; font-weight: bold\">,</span> <span style=\"color: #888888; font-style: italic\">-- Format percentage change as string</span>\n",
       "            <span style=\"color: #22863a; font-weight: bold\">ROW_NUMBER</span><span style=\"color: #24292e; font-weight: bold\">()</span> <span style=\"color: #22863a; font-weight: bold\">OVER</span> <span style=\"color: #24292e; font-weight: bold\">(</span><span style=\"color: #22863a; font-weight: bold\">PARTITION</span> <span style=\"color: #005cc5; font-weight: bold\">BY</span> <span style=\"color: #22863a; font-weight: bold\">standardized_company</span> <span style=\"color: #005cc5; font-weight: bold\">ORDER</span> <span style=\"color: #005cc5; font-weight: bold\">BY</span> <span style=\"color: #22863a; font-weight: bold\">metric_delta</span> <span style=\"color: #005cc5; font-weight: bold\">DESC</span><span style=\"color: #24292e; font-weight: bold\">)</span> <span style=\"color: #005cc5; font-weight: bold\">AS</span> <span style=\"color: #22863a; font-weight: bold\">rank</span> <span style=\"color: #888888; font-style: italic\">-- Rank by largest increase</span>\n",
       "        <span style=\"color: #005cc5; font-weight: bold\">FROM</span>\n",
       "            <span style=\"color: #22863a; font-weight: bold\">Fare_Increases</span>\n",
       "        <span style=\"color: #005cc5; font-weight: bold\">WHERE</span>\n",
       "            <span style=\"color: #22863a; font-weight: bold\">Mon_Prior_Metric_Val</span> <span style=\"color: #005cc5; font-weight: bold\">IS</span> <span style=\"color: #005cc5; font-weight: bold\">NOT</span> <span style=\"color: #005cc5; font-weight: bold\">NULL</span> <span style=\"color: #888888; font-style: italic\">-- Exclude rows with no prior month data</span>\n",
       "            <span style=\"color: #005cc5; font-weight: bold\">AND</span> <span style=\"color: #22863a; font-weight: bold\">Mon_Prior_Metric_Val</span> <span style=\"color: #e36209; font-weight: bold\">&gt;</span> <span style=\"color: #6f42c1; font-weight: bold\">0</span><span style=\"color: #24292e; font-weight: bold\">.</span><span style=\"color: #6f42c1; font-weight: bold\">1</span> <span style=\"color: #888888; font-style: italic\">-- Exclude months with very low prior metrics</span>\n",
       "            <span style=\"color: #005cc5; font-weight: bold\">AND</span> <span style=\"color: #22863a; font-weight: bold\">metric</span> <span style=\"color: #e36209; font-weight: bold\">&gt;</span> <span style=\"color: #6f42c1; font-weight: bold\">0</span><span style=\"color: #24292e; font-weight: bold\">.</span><span style=\"color: #6f42c1; font-weight: bold\">1</span> <span style=\"color: #888888; font-style: italic\">-- Exclude months with very low current metrics</span>\n",
       "            <span style=\"color: #005cc5; font-weight: bold\">AND</span> <span style=\"color: #22863a; font-weight: bold\">SAFE_DIVIDE</span><span style=\"color: #24292e; font-weight: bold\">(</span><span style=\"color: #22863a; font-weight: bold\">metric_delta</span><span style=\"color: #24292e; font-weight: bold\">,</span> <span style=\"color: #22863a; font-weight: bold\">Mon_Prior_Metric_Val</span><span style=\"color: #24292e; font-weight: bold\">)</span> <span style=\"color: #e36209; font-weight: bold\">&lt;=</span> <span style=\"color: #6f42c1; font-weight: bold\">10</span> <span style=\"color: #888888; font-style: italic\">-- Cap extreme percentage increases</span>\n",
       "    <span style=\"color: #24292e; font-weight: bold\">),</span>\n",
       "\n",
       "    <span style=\"color: #888888; font-style: italic\">-- Extract Top Trip Decrease Insights</span>\n",
       "    <span style=\"color: #22863a; font-weight: bold\">Top_Trip_Decrease_Insights</span> <span style=\"color: #005cc5; font-weight: bold\">AS</span> <span style=\"color: #24292e; font-weight: bold\">(</span>\n",
       "        <span style=\"color: #005cc5; font-weight: bold\">SELECT</span>\n",
       "            <span style=\"color: #22863a; font-weight: bold\">b</span><span style=\"color: #24292e; font-weight: bold\">.</span><span style=\"color: #e36209; font-weight: bold\">*</span><span style=\"color: #24292e; font-weight: bold\">,</span>\n",
       "            <span style=\"color: #005cc5; font-weight: bold\">CASE</span>\n",
       "                <span style=\"color: #005cc5; font-weight: bold\">WHEN</span> <span style=\"color: #22863a; font-weight: bold\">b</span><span style=\"color: #24292e; font-weight: bold\">.</span><span style=\"color: #22863a; font-weight: bold\">Mon_Prior_Metric_Val</span> <span style=\"color: #005cc5; font-weight: bold\">IS</span> <span style=\"color: #005cc5; font-weight: bold\">NULL</span> <span style=\"color: #005cc5; font-weight: bold\">THEN</span> <span style=\"color: #d73a49; font-style: italic\">&quot;No Prior Data Available to Calculate Insights&quot;</span> <span style=\"color: #888888; font-style: italic\">-- Handle missing prior month data</span>\n",
       "                <span style=\"color: #005cc5; font-weight: bold\">ELSE</span> <span style=\"color: #22863a; font-weight: bold\">CONCAT</span><span style=\"color: #24292e; font-weight: bold\">(</span>\n",
       "                    <span style=\"color: #d73a49; font-style: italic\">&quot;In &quot;</span><span style=\"color: #24292e; font-weight: bold\">,</span>\n",
       "                    <span style=\"color: #22863a; font-weight: bold\">FORMAT_TIMESTAMP</span><span style=\"color: #24292e; font-weight: bold\">(</span><span style=\"color: #d73a49; font-style: italic\">&#39;%b %Y&#39;</span><span style=\"color: #24292e; font-weight: bold\">,</span> <span style=\"color: #22863a; font-weight: bold\">PARSE_TIMESTAMP</span><span style=\"color: #24292e; font-weight: bold\">(</span><span style=\"color: #d73a49; font-style: italic\">&#39;%Y-%m&#39;</span><span style=\"color: #24292e; font-weight: bold\">,</span> <span style=\"color: #22863a; font-weight: bold\">b</span><span style=\"color: #24292e; font-weight: bold\">.</span><span style=\"color: #22863a; font-weight: bold\">Trip_Month</span><span style=\"color: #24292e; font-weight: bold\">)),</span>\n",
       "                    <span style=\"color: #d73a49; font-style: italic\">&quot;, trips decreased by &quot;</span><span style=\"color: #24292e; font-weight: bold\">,</span>\n",
       "                    <span style=\"color: #22863a; font-weight: bold\">FORMAT</span><span style=\"color: #24292e; font-weight: bold\">(</span><span style=\"color: #d73a49; font-style: italic\">&quot;%&#39;d&quot;</span><span style=\"color: #24292e; font-weight: bold\">,</span> <span style=\"color: #005cc5; font-weight: bold\">CAST</span><span style=\"color: #24292e; font-weight: bold\">(</span><span style=\"color: #005cc5; font-weight: bold\">ABS</span><span style=\"color: #24292e; font-weight: bold\">(</span><span style=\"color: #22863a; font-weight: bold\">b</span><span style=\"color: #24292e; font-weight: bold\">.</span><span style=\"color: #22863a; font-weight: bold\">Metric_Delta</span><span style=\"color: #24292e; font-weight: bold\">)</span> <span style=\"color: #005cc5; font-weight: bold\">AS</span> <span style=\"color: #22863a; font-weight: bold\">INT64</span><span style=\"color: #24292e; font-weight: bold\">)),</span> <span style=\"color: #888888; font-style: italic\">-- Use FORMAT with &#39;%d&#39; and &#39;,&#39; for comma-separated numbers</span>\n",
       "                    <span style=\"color: #d73a49; font-style: italic\">&quot; (&quot;</span><span style=\"color: #24292e; font-weight: bold\">,</span>\n",
       "                    <span style=\"color: #22863a; font-weight: bold\">b</span><span style=\"color: #24292e; font-weight: bold\">.</span><span style=\"color: #22863a; font-weight: bold\">Metric_Mon_Pct_Chg_Str</span><span style=\"color: #24292e; font-weight: bold\">,</span>\n",
       "                    <span style=\"color: #d73a49; font-style: italic\">&quot;) compared to the previous month.&quot;</span>\n",
       "                <span style=\"color: #24292e; font-weight: bold\">)</span>\n",
       "            <span style=\"color: #005cc5; font-weight: bold\">END</span> <span style=\"color: #005cc5; font-weight: bold\">AS</span> <span style=\"color: #22863a; font-weight: bold\">Metric_Insight</span><span style=\"color: #24292e; font-weight: bold\">,</span>\n",
       "            <span style=\"color: #005cc5; font-weight: bold\">CASE</span>\n",
       "                <span style=\"color: #005cc5; font-weight: bold\">WHEN</span> <span style=\"color: #22863a; font-weight: bold\">b</span><span style=\"color: #24292e; font-weight: bold\">.</span><span style=\"color: #22863a; font-weight: bold\">Mon_Prior_Metric_Val</span> <span style=\"color: #005cc5; font-weight: bold\">IS</span> <span style=\"color: #005cc5; font-weight: bold\">NULL</span> <span style=\"color: #005cc5; font-weight: bold\">THEN</span> <span style=\"color: #005cc5; font-weight: bold\">NULL</span> <span style=\"color: #888888; font-style: italic\">-- No reasons if prior data is missing</span>\n",
       "                <span style=\"color: #005cc5; font-weight: bold\">ELSE</span> \n",
       "                    <span style=\"color: #d73a49; font-style: italic\">&quot;Potential reasons could include: &quot;</span> <span style=\"color: #e36209; font-weight: bold\">||</span>\n",
       "                    <span style=\"color: #d73a49; font-style: italic\">&quot;\\n- seasonal changes,&quot;</span> <span style=\"color: #e36209; font-weight: bold\">||</span>\n",
       "                    <span style=\"color: #d73a49; font-style: italic\">&quot;\\n- weather conditions,&quot;</span> <span style=\"color: #e36209; font-weight: bold\">||</span>\n",
       "                    <span style=\"color: #d73a49; font-style: italic\">&quot;\\n- reduced demand due to events,&quot;</span> <span style=\"color: #e36209; font-weight: bold\">||</span>\n",
       "                    <span style=\"color: #d73a49; font-style: italic\">&quot;\\n- operational challenges,&quot;</span> <span style=\"color: #e36209; font-weight: bold\">||</span>\n",
       "                    <span style=\"color: #d73a49; font-style: italic\">&quot;\\n- changes in regulations,&quot;</span> <span style=\"color: #e36209; font-weight: bold\">||</span>\n",
       "                    <span style=\"color: #d73a49; font-style: italic\">&quot;\\n- decreased fleet size,&quot;</span> <span style=\"color: #e36209; font-weight: bold\">||</span>\n",
       "                    <span style=\"color: #d73a49; font-style: italic\">&quot;\\n- increased competition,&quot;</span> <span style=\"color: #e36209; font-weight: bold\">||</span>\n",
       "                    <span style=\"color: #d73a49; font-style: italic\">&quot;\\n- changes in service offerings,&quot;</span> <span style=\"color: #e36209; font-weight: bold\">||</span>\n",
       "                    <span style=\"color: #d73a49; font-style: italic\">&quot;\\n- economic factors affecting ridership,&quot;</span> <span style=\"color: #e36209; font-weight: bold\">||</span>\n",
       "                    <span style=\"color: #d73a49; font-style: italic\">&quot;\\n- changes in customer preferences&quot;</span>\n",
       "            <span style=\"color: #005cc5; font-weight: bold\">END</span> <span style=\"color: #005cc5; font-weight: bold\">AS</span> <span style=\"color: #22863a; font-weight: bold\">Metric_Reasons</span>\n",
       "        <span style=\"color: #005cc5; font-weight: bold\">FROM</span> <span style=\"color: #24292e; font-weight: bold\">(</span>\n",
       "            <span style=\"color: #005cc5; font-weight: bold\">SELECT</span>\n",
       "                <span style=\"color: #22863a; font-weight: bold\">a</span><span style=\"color: #24292e; font-weight: bold\">.</span><span style=\"color: #e36209; font-weight: bold\">*</span><span style=\"color: #24292e; font-weight: bold\">,</span>\n",
       "                <span style=\"color: #22863a; font-weight: bold\">ROW_NUMBER</span><span style=\"color: #24292e; font-weight: bold\">()</span> <span style=\"color: #22863a; font-weight: bold\">OVER</span> <span style=\"color: #24292e; font-weight: bold\">(</span><span style=\"color: #22863a; font-weight: bold\">PARTITION</span> <span style=\"color: #005cc5; font-weight: bold\">BY</span> <span style=\"color: #22863a; font-weight: bold\">a</span><span style=\"color: #24292e; font-weight: bold\">.</span><span style=\"color: #22863a; font-weight: bold\">standardized_company</span> <span style=\"color: #005cc5; font-weight: bold\">ORDER</span> <span style=\"color: #005cc5; font-weight: bold\">BY</span> <span style=\"color: #22863a; font-weight: bold\">a</span><span style=\"color: #24292e; font-weight: bold\">.</span><span style=\"color: #22863a; font-weight: bold\">overall_rank</span> <span style=\"color: #005cc5; font-weight: bold\">ASC</span><span style=\"color: #24292e; font-weight: bold\">)</span> <span style=\"color: #005cc5; font-weight: bold\">AS</span> <span style=\"color: #22863a; font-weight: bold\">company_rank</span> <span style=\"color: #888888; font-style: italic\">-- Ensure uniqueness per company</span>\n",
       "            <span style=\"color: #005cc5; font-weight: bold\">FROM</span> <span style=\"color: #24292e; font-weight: bold\">(</span>\n",
       "                <span style=\"color: #005cc5; font-weight: bold\">SELECT</span>\n",
       "                    <span style=\"color: #22863a; font-weight: bold\">Metric_Description</span><span style=\"color: #24292e; font-weight: bold\">,</span>\n",
       "                    <span style=\"color: #22863a; font-weight: bold\">standardized_company</span><span style=\"color: #24292e; font-weight: bold\">,</span>\n",
       "                    <span style=\"color: #22863a; font-weight: bold\">company</span> <span style=\"color: #005cc5; font-weight: bold\">AS</span> <span style=\"color: #22863a; font-weight: bold\">Taxi_Company</span><span style=\"color: #24292e; font-weight: bold\">,</span>\n",
       "                    <span style=\"color: #22863a; font-weight: bold\">trip_month</span> <span style=\"color: #005cc5; font-weight: bold\">AS</span> <span style=\"color: #22863a; font-weight: bold\">Trip_Month</span><span style=\"color: #24292e; font-weight: bold\">,</span>\n",
       "                    <span style=\"color: #22863a; font-weight: bold\">metric</span> <span style=\"color: #005cc5; font-weight: bold\">AS</span> <span style=\"color: #22863a; font-weight: bold\">Mon_Metric_Val</span><span style=\"color: #24292e; font-weight: bold\">,</span>\n",
       "                    <span style=\"color: #22863a; font-weight: bold\">metric_delta</span> <span style=\"color: #005cc5; font-weight: bold\">AS</span> <span style=\"color: #22863a; font-weight: bold\">Metric_Delta</span><span style=\"color: #24292e; font-weight: bold\">,</span>\n",
       "                    <span style=\"color: #22863a; font-weight: bold\">Mon_Prior_Metric_Val</span><span style=\"color: #24292e; font-weight: bold\">,</span>\n",
       "                    <span style=\"color: #22863a; font-weight: bold\">Metric_Mon_Pct_Chg</span><span style=\"color: #24292e; font-weight: bold\">,</span>\n",
       "                    <span style=\"color: #22863a; font-weight: bold\">Metric_Mon_Pct_Chg_Str</span><span style=\"color: #24292e; font-weight: bold\">,</span>\n",
       "                    <span style=\"color: #22863a; font-weight: bold\">ROW_NUMBER</span><span style=\"color: #24292e; font-weight: bold\">()</span> <span style=\"color: #22863a; font-weight: bold\">OVER</span> <span style=\"color: #24292e; font-weight: bold\">(</span><span style=\"color: #005cc5; font-weight: bold\">ORDER</span> <span style=\"color: #005cc5; font-weight: bold\">BY</span> <span style=\"color: #22863a; font-weight: bold\">metric_delta</span> <span style=\"color: #005cc5; font-weight: bold\">ASC</span><span style=\"color: #24292e; font-weight: bold\">)</span> <span style=\"color: #005cc5; font-weight: bold\">AS</span> <span style=\"color: #22863a; font-weight: bold\">overall_rank</span> <span style=\"color: #888888; font-style: italic\">-- Rank globally by largest decrease</span>\n",
       "                <span style=\"color: #005cc5; font-weight: bold\">FROM</span>\n",
       "                    <span style=\"color: #22863a; font-weight: bold\">MoM_Trip_Decreases_Ranked</span>\n",
       "                <span style=\"color: #005cc5; font-weight: bold\">WHERE</span>\n",
       "                    <span style=\"color: #22863a; font-weight: bold\">rank</span> <span style=\"color: #e36209; font-weight: bold\">=</span> <span style=\"color: #6f42c1; font-weight: bold\">1</span> <span style=\"color: #888888; font-style: italic\">-- Only consider the top decrease for each company</span>\n",
       "            <span style=\"color: #24292e; font-weight: bold\">)</span> <span style=\"color: #22863a; font-weight: bold\">a</span>\n",
       "            <span style=\"color: #005cc5; font-weight: bold\">WHERE</span>\n",
       "                <span style=\"color: #22863a; font-weight: bold\">overall_rank</span> <span style=\"color: #e36209; font-weight: bold\">&lt;=</span> <span style=\"color: #6f42c1; font-weight: bold\">3</span> <span style=\"color: #888888; font-style: italic\">-- Limit to the top 3 decreases overall</span>\n",
       "        <span style=\"color: #24292e; font-weight: bold\">)</span> <span style=\"color: #22863a; font-weight: bold\">b</span>\n",
       "        <span style=\"color: #005cc5; font-weight: bold\">WHERE</span>\n",
       "            <span style=\"color: #22863a; font-weight: bold\">b</span><span style=\"color: #24292e; font-weight: bold\">.</span><span style=\"color: #22863a; font-weight: bold\">company_rank</span> <span style=\"color: #e36209; font-weight: bold\">=</span> <span style=\"color: #6f42c1; font-weight: bold\">1</span> <span style=\"color: #888888; font-style: italic\">-- Ensure each company appears only once</span>\n",
       "    <span style=\"color: #24292e; font-weight: bold\">),</span>\n",
       "\n",
       "    <span style=\"color: #888888; font-style: italic\">-- Extract Top Fare Per Mile Increase Insights</span>\n",
       "    <span style=\"color: #22863a; font-weight: bold\">Top_FarePerMile_Increase_Insights</span> <span style=\"color: #005cc5; font-weight: bold\">AS</span> <span style=\"color: #24292e; font-weight: bold\">(</span>\n",
       "        <span style=\"color: #005cc5; font-weight: bold\">SELECT</span>\n",
       "            <span style=\"color: #22863a; font-weight: bold\">b</span><span style=\"color: #24292e; font-weight: bold\">.</span><span style=\"color: #e36209; font-weight: bold\">*</span><span style=\"color: #24292e; font-weight: bold\">,</span>\n",
       "            <span style=\"color: #005cc5; font-weight: bold\">CASE</span>\n",
       "            <span style=\"color: #005cc5; font-weight: bold\">WHEN</span> <span style=\"color: #22863a; font-weight: bold\">b</span><span style=\"color: #24292e; font-weight: bold\">.</span><span style=\"color: #22863a; font-weight: bold\">Mon_Prior_Metric_Val</span> <span style=\"color: #005cc5; font-weight: bold\">IS</span> <span style=\"color: #005cc5; font-weight: bold\">NULL</span> <span style=\"color: #005cc5; font-weight: bold\">THEN</span> <span style=\"color: #d73a49; font-style: italic\">&quot;No Prior Data Available to Calculate Insights&quot;</span> <span style=\"color: #888888; font-style: italic\">-- Handle missing prior month data</span>\n",
       "            <span style=\"color: #005cc5; font-weight: bold\">ELSE</span> <span style=\"color: #22863a; font-weight: bold\">CONCAT</span><span style=\"color: #24292e; font-weight: bold\">(</span>\n",
       "                <span style=\"color: #d73a49; font-style: italic\">&quot;In &quot;</span><span style=\"color: #24292e; font-weight: bold\">,</span>\n",
       "                <span style=\"color: #22863a; font-weight: bold\">FORMAT_TIMESTAMP</span><span style=\"color: #24292e; font-weight: bold\">(</span><span style=\"color: #d73a49; font-style: italic\">&#39;%b %Y&#39;</span><span style=\"color: #24292e; font-weight: bold\">,</span> <span style=\"color: #22863a; font-weight: bold\">PARSE_TIMESTAMP</span><span style=\"color: #24292e; font-weight: bold\">(</span><span style=\"color: #d73a49; font-style: italic\">&#39;%Y-%m&#39;</span><span style=\"color: #24292e; font-weight: bold\">,</span> <span style=\"color: #22863a; font-weight: bold\">b</span><span style=\"color: #24292e; font-weight: bold\">.</span><span style=\"color: #22863a; font-weight: bold\">Trip_Month</span><span style=\"color: #24292e; font-weight: bold\">)),</span>\n",
       "                <span style=\"color: #d73a49; font-style: italic\">&quot;, fare per mile increased by &quot;</span><span style=\"color: #24292e; font-weight: bold\">,</span>\n",
       "                <span style=\"color: #22863a; font-weight: bold\">CONCAT</span><span style=\"color: #24292e; font-weight: bold\">(</span><span style=\"color: #d73a49; font-style: italic\">&quot;$&quot;</span><span style=\"color: #24292e; font-weight: bold\">,</span> <span style=\"color: #22863a; font-weight: bold\">FORMAT</span><span style=\"color: #24292e; font-weight: bold\">(</span><span style=\"color: #d73a49; font-style: italic\">&quot;%&#39;.2f&quot;</span><span style=\"color: #24292e; font-weight: bold\">,</span> <span style=\"color: #005cc5; font-weight: bold\">ABS</span><span style=\"color: #24292e; font-weight: bold\">(</span><span style=\"color: #22863a; font-weight: bold\">b</span><span style=\"color: #24292e; font-weight: bold\">.</span><span style=\"color: #22863a; font-weight: bold\">Metric_Delta</span><span style=\"color: #24292e; font-weight: bold\">))),</span> <span style=\"color: #888888; font-style: italic\">-- Use FORMAT with &#39;%,.2f&#39; for comma-separated numbers rounded to 2 decimals and format as currency</span>\n",
       "                <span style=\"color: #d73a49; font-style: italic\">&quot; (&quot;</span><span style=\"color: #24292e; font-weight: bold\">,</span>\n",
       "                <span style=\"color: #22863a; font-weight: bold\">b</span><span style=\"color: #24292e; font-weight: bold\">.</span><span style=\"color: #22863a; font-weight: bold\">Metric_Mon_Pct_Chg_Str</span><span style=\"color: #24292e; font-weight: bold\">,</span>\n",
       "                <span style=\"color: #d73a49; font-style: italic\">&quot;) compared to the previous month.&quot;</span>\n",
       "            <span style=\"color: #24292e; font-weight: bold\">)</span>\n",
       "            <span style=\"color: #005cc5; font-weight: bold\">END</span> <span style=\"color: #005cc5; font-weight: bold\">AS</span> <span style=\"color: #22863a; font-weight: bold\">Metric_Insight</span><span style=\"color: #24292e; font-weight: bold\">,</span>\n",
       "            <span style=\"color: #005cc5; font-weight: bold\">CASE</span>\n",
       "            <span style=\"color: #005cc5; font-weight: bold\">WHEN</span> <span style=\"color: #22863a; font-weight: bold\">b</span><span style=\"color: #24292e; font-weight: bold\">.</span><span style=\"color: #22863a; font-weight: bold\">Mon_Prior_Metric_Val</span> <span style=\"color: #005cc5; font-weight: bold\">IS</span> <span style=\"color: #005cc5; font-weight: bold\">NULL</span> <span style=\"color: #005cc5; font-weight: bold\">THEN</span> <span style=\"color: #005cc5; font-weight: bold\">NULL</span> <span style=\"color: #888888; font-style: italic\">-- No reasons if prior data is missing</span>\n",
       "            <span style=\"color: #005cc5; font-weight: bold\">ELSE</span> \n",
       "                <span style=\"color: #d73a49; font-style: italic\">&quot;Potential reasons could include: &quot;</span> <span style=\"color: #e36209; font-weight: bold\">||</span>\n",
       "                <span style=\"color: #d73a49; font-style: italic\">&quot;\\n- increased demand for premium services,&quot;</span> <span style=\"color: #e36209; font-weight: bold\">||</span>\n",
       "                <span style=\"color: #d73a49; font-style: italic\">&quot;\\n- adjustments to pricing models,&quot;</span> <span style=\"color: #e36209; font-weight: bold\">||</span>\n",
       "                <span style=\"color: #d73a49; font-style: italic\">&quot;\\n- reduced availability of discounts or promotions,&quot;</span> <span style=\"color: #e36209; font-weight: bold\">||</span>\n",
       "                <span style=\"color: #d73a49; font-style: italic\">&quot;\\n- longer trips with higher fares,&quot;</span> <span style=\"color: #e36209; font-weight: bold\">||</span>\n",
       "                <span style=\"color: #d73a49; font-style: italic\">&quot;\\n- seasonal or event-driven demand surges,&quot;</span> <span style=\"color: #e36209; font-weight: bold\">||</span>\n",
       "                <span style=\"color: #d73a49; font-style: italic\">&quot;\\n- operational changes to optimize revenue,&quot;</span> <span style=\"color: #e36209; font-weight: bold\">||</span>\n",
       "                <span style=\"color: #d73a49; font-style: italic\">&quot;\\n- changes in trip patterns or routes,&quot;</span> <span style=\"color: #e36209; font-weight: bold\">||</span>\n",
       "                <span style=\"color: #d73a49; font-style: italic\">&quot;\\n- economic factors influencing pricing,&quot;</span> <span style=\"color: #e36209; font-weight: bold\">||</span>\n",
       "                <span style=\"color: #d73a49; font-style: italic\">&quot;\\n- reduced competition or market consolidation.&quot;</span>\n",
       "            <span style=\"color: #005cc5; font-weight: bold\">END</span> <span style=\"color: #005cc5; font-weight: bold\">AS</span> <span style=\"color: #22863a; font-weight: bold\">Metric_Reasons</span>\n",
       "        <span style=\"color: #005cc5; font-weight: bold\">FROM</span> <span style=\"color: #24292e; font-weight: bold\">(</span>\n",
       "            <span style=\"color: #005cc5; font-weight: bold\">SELECT</span>\n",
       "                <span style=\"color: #22863a; font-weight: bold\">a</span><span style=\"color: #24292e; font-weight: bold\">.</span><span style=\"color: #e36209; font-weight: bold\">*</span><span style=\"color: #24292e; font-weight: bold\">,</span>\n",
       "                <span style=\"color: #22863a; font-weight: bold\">ROW_NUMBER</span><span style=\"color: #24292e; font-weight: bold\">()</span> <span style=\"color: #22863a; font-weight: bold\">OVER</span> <span style=\"color: #24292e; font-weight: bold\">(</span><span style=\"color: #22863a; font-weight: bold\">PARTITION</span> <span style=\"color: #005cc5; font-weight: bold\">BY</span> <span style=\"color: #22863a; font-weight: bold\">a</span><span style=\"color: #24292e; font-weight: bold\">.</span><span style=\"color: #22863a; font-weight: bold\">standardized_company</span> <span style=\"color: #005cc5; font-weight: bold\">ORDER</span> <span style=\"color: #005cc5; font-weight: bold\">BY</span> <span style=\"color: #22863a; font-weight: bold\">a</span><span style=\"color: #24292e; font-weight: bold\">.</span><span style=\"color: #22863a; font-weight: bold\">overall_rank</span> <span style=\"color: #005cc5; font-weight: bold\">ASC</span><span style=\"color: #24292e; font-weight: bold\">)</span> <span style=\"color: #005cc5; font-weight: bold\">AS</span> <span style=\"color: #22863a; font-weight: bold\">company_rank</span> <span style=\"color: #888888; font-style: italic\">-- Ensure uniqueness per company</span>\n",
       "            <span style=\"color: #005cc5; font-weight: bold\">FROM</span> <span style=\"color: #24292e; font-weight: bold\">(</span>\n",
       "                <span style=\"color: #005cc5; font-weight: bold\">SELECT</span>\n",
       "                    <span style=\"color: #22863a; font-weight: bold\">Metric_Description</span><span style=\"color: #24292e; font-weight: bold\">,</span>\n",
       "                    <span style=\"color: #22863a; font-weight: bold\">standardized_company</span><span style=\"color: #24292e; font-weight: bold\">,</span>\n",
       "                    <span style=\"color: #22863a; font-weight: bold\">company</span> <span style=\"color: #005cc5; font-weight: bold\">AS</span> <span style=\"color: #22863a; font-weight: bold\">Taxi_Company</span><span style=\"color: #24292e; font-weight: bold\">,</span>\n",
       "                    <span style=\"color: #22863a; font-weight: bold\">trip_month</span> <span style=\"color: #005cc5; font-weight: bold\">AS</span> <span style=\"color: #22863a; font-weight: bold\">Trip_Month</span><span style=\"color: #24292e; font-weight: bold\">,</span>\n",
       "                    <span style=\"color: #22863a; font-weight: bold\">metric</span> <span style=\"color: #005cc5; font-weight: bold\">AS</span> <span style=\"color: #22863a; font-weight: bold\">Mon_Metric_Val</span><span style=\"color: #24292e; font-weight: bold\">,</span>\n",
       "                    <span style=\"color: #22863a; font-weight: bold\">metric_delta</span> <span style=\"color: #005cc5; font-weight: bold\">AS</span> <span style=\"color: #22863a; font-weight: bold\">Metric_Delta</span><span style=\"color: #24292e; font-weight: bold\">,</span>\n",
       "                    <span style=\"color: #22863a; font-weight: bold\">Mon_Prior_Metric_Val</span><span style=\"color: #24292e; font-weight: bold\">,</span>\n",
       "                    <span style=\"color: #22863a; font-weight: bold\">Metric_Mon_Pct_Chg</span><span style=\"color: #24292e; font-weight: bold\">,</span>\n",
       "                    <span style=\"color: #22863a; font-weight: bold\">Metric_Mon_Pct_Chg_Str</span><span style=\"color: #24292e; font-weight: bold\">,</span>\n",
       "                    <span style=\"color: #22863a; font-weight: bold\">ROW_NUMBER</span><span style=\"color: #24292e; font-weight: bold\">()</span> <span style=\"color: #22863a; font-weight: bold\">OVER</span> <span style=\"color: #24292e; font-weight: bold\">(</span><span style=\"color: #005cc5; font-weight: bold\">ORDER</span> <span style=\"color: #005cc5; font-weight: bold\">BY</span> <span style=\"color: #22863a; font-weight: bold\">metric_delta</span> <span style=\"color: #005cc5; font-weight: bold\">DESC</span><span style=\"color: #24292e; font-weight: bold\">)</span> <span style=\"color: #005cc5; font-weight: bold\">AS</span> <span style=\"color: #22863a; font-weight: bold\">overall_rank</span> <span style=\"color: #888888; font-style: italic\">-- Rank globally by largest increase</span>\n",
       "                <span style=\"color: #005cc5; font-weight: bold\">FROM</span>\n",
       "                    <span style=\"color: #22863a; font-weight: bold\">MoM_FarePerMile_Increases_Ranked</span>\n",
       "                <span style=\"color: #005cc5; font-weight: bold\">WHERE</span>\n",
       "                    <span style=\"color: #22863a; font-weight: bold\">rank</span> <span style=\"color: #e36209; font-weight: bold\">=</span> <span style=\"color: #6f42c1; font-weight: bold\">1</span> <span style=\"color: #888888; font-style: italic\">-- Only consider the top increase for each company</span>\n",
       "            <span style=\"color: #24292e; font-weight: bold\">)</span> <span style=\"color: #22863a; font-weight: bold\">a</span>\n",
       "            <span style=\"color: #005cc5; font-weight: bold\">WHERE</span>\n",
       "                <span style=\"color: #22863a; font-weight: bold\">overall_rank</span> <span style=\"color: #e36209; font-weight: bold\">&lt;=</span> <span style=\"color: #6f42c1; font-weight: bold\">3</span> <span style=\"color: #888888; font-style: italic\">-- Limit to the top 3 increases overall</span>\n",
       "        <span style=\"color: #24292e; font-weight: bold\">)</span> <span style=\"color: #22863a; font-weight: bold\">b</span>\n",
       "        <span style=\"color: #005cc5; font-weight: bold\">WHERE</span>\n",
       "            <span style=\"color: #22863a; font-weight: bold\">b</span><span style=\"color: #24292e; font-weight: bold\">.</span><span style=\"color: #22863a; font-weight: bold\">company_rank</span> <span style=\"color: #e36209; font-weight: bold\">=</span> <span style=\"color: #6f42c1; font-weight: bold\">1</span> <span style=\"color: #888888; font-style: italic\">-- Ensure each company appears only once</span>\n",
       "    <span style=\"color: #24292e; font-weight: bold\">)</span>\n",
       "<span style=\"color: #888888; font-style: italic\">-- Combine Insights</span>\n",
       "<span style=\"color: #005cc5; font-weight: bold\">SELECT</span> \n",
       "    <span style=\"color: #22863a; font-weight: bold\">Metric_Description</span><span style=\"color: #24292e; font-weight: bold\">,</span>\n",
       "    <span style=\"color: #22863a; font-weight: bold\">Taxi_Company</span><span style=\"color: #24292e; font-weight: bold\">,</span>\n",
       "    <span style=\"color: #22863a; font-weight: bold\">Trip_Month</span><span style=\"color: #24292e; font-weight: bold\">,</span>\n",
       "    <span style=\"color: #22863a; font-weight: bold\">Mon_Metric_Val</span><span style=\"color: #24292e; font-weight: bold\">,</span>\n",
       "    <span style=\"color: #22863a; font-weight: bold\">Metric_Delta</span><span style=\"color: #24292e; font-weight: bold\">,</span>\n",
       "    <span style=\"color: #22863a; font-weight: bold\">Mon_Prior_Metric_Val</span><span style=\"color: #24292e; font-weight: bold\">,</span>\n",
       "    <span style=\"color: #22863a; font-weight: bold\">ROUND</span><span style=\"color: #24292e; font-weight: bold\">(</span><span style=\"color: #22863a; font-weight: bold\">Metric_Mon_Pct_Chg</span><span style=\"color: #24292e; font-weight: bold\">,</span> <span style=\"color: #6f42c1; font-weight: bold\">2</span><span style=\"color: #24292e; font-weight: bold\">)</span> <span style=\"color: #005cc5; font-weight: bold\">AS</span> <span style=\"color: #22863a; font-weight: bold\">Metric_Mon_Pct_Chg</span><span style=\"color: #24292e; font-weight: bold\">,</span> <span style=\"color: #888888; font-style: italic\">-- Round to 2 decimals</span>\n",
       "    <span style=\"color: #22863a; font-weight: bold\">Metric_Mon_Pct_Chg_Str</span><span style=\"color: #24292e; font-weight: bold\">,</span>\n",
       "    <span style=\"color: #22863a; font-weight: bold\">Metric_Insight</span><span style=\"color: #24292e; font-weight: bold\">,</span>\n",
       "    <span style=\"color: #22863a; font-weight: bold\">Metric_Reasons</span>\n",
       "<span style=\"color: #005cc5; font-weight: bold\">FROM</span> <span style=\"color: #22863a; font-weight: bold\">Top_Trip_Decrease_Insights</span> <span style=\"color: #888888; font-style: italic\">-- Corrected reference to Top_Trip_Decrease_Insights</span>\n",
       "<span style=\"color: #005cc5; font-weight: bold\">UNION</span> <span style=\"color: #005cc5; font-weight: bold\">ALL</span>\n",
       "<span style=\"color: #005cc5; font-weight: bold\">SELECT</span> \n",
       "    <span style=\"color: #22863a; font-weight: bold\">Metric_Description</span><span style=\"color: #24292e; font-weight: bold\">,</span>\n",
       "    <span style=\"color: #22863a; font-weight: bold\">Taxi_Company</span><span style=\"color: #24292e; font-weight: bold\">,</span>\n",
       "    <span style=\"color: #22863a; font-weight: bold\">Trip_Month</span><span style=\"color: #24292e; font-weight: bold\">,</span>\n",
       "    <span style=\"color: #22863a; font-weight: bold\">Mon_Metric_Val</span><span style=\"color: #24292e; font-weight: bold\">,</span>\n",
       "    <span style=\"color: #22863a; font-weight: bold\">Metric_Delta</span><span style=\"color: #24292e; font-weight: bold\">,</span>\n",
       "    <span style=\"color: #22863a; font-weight: bold\">Mon_Prior_Metric_Val</span><span style=\"color: #24292e; font-weight: bold\">,</span>\n",
       "    <span style=\"color: #22863a; font-weight: bold\">ROUND</span><span style=\"color: #24292e; font-weight: bold\">(</span><span style=\"color: #22863a; font-weight: bold\">Metric_Mon_Pct_Chg</span><span style=\"color: #24292e; font-weight: bold\">,</span> <span style=\"color: #6f42c1; font-weight: bold\">2</span><span style=\"color: #24292e; font-weight: bold\">)</span> <span style=\"color: #005cc5; font-weight: bold\">AS</span> <span style=\"color: #22863a; font-weight: bold\">Metric_Mon_Pct_Chg</span><span style=\"color: #24292e; font-weight: bold\">,</span> <span style=\"color: #888888; font-style: italic\">-- Round to 2 decimals</span>\n",
       "    <span style=\"color: #22863a; font-weight: bold\">Metric_Mon_Pct_Chg_Str</span><span style=\"color: #24292e; font-weight: bold\">,</span>\n",
       "    <span style=\"color: #22863a; font-weight: bold\">Metric_Insight</span><span style=\"color: #24292e; font-weight: bold\">,</span>\n",
       "    <span style=\"color: #22863a; font-weight: bold\">Metric_Reasons</span>\n",
       "<span style=\"color: #005cc5; font-weight: bold\">FROM</span> <span style=\"color: #22863a; font-weight: bold\">Top_FarePerMile_Increase_Insights</span> <span style=\"color: #888888; font-style: italic\">-- Corrected reference to Top_FarePerMile_Increase_Insights</span>\n",
       "<span style=\"color: #005cc5; font-weight: bold\">ORDER</span> <span style=\"color: #005cc5; font-weight: bold\">BY</span> <span style=\"color: #22863a; font-weight: bold\">Metric_Description</span><span style=\"color: #24292e; font-weight: bold\">,</span> <span style=\"color: #22863a; font-weight: bold\">Metric_Delta</span><span style=\"color: #24292e; font-weight: bold\">;</span> <span style=\"color: #888888; font-style: italic\">-- Order by metric description and Metric Delta</span>\n",
       "<span style=\"color: #888888; font-style: italic\">-- End of Query</span>\n",
       "</pre></div>\n"
      ],
      "text/plain": [
       "<IPython.core.display.HTML object>"
      ]
     },
     "metadata": {},
     "output_type": "display_data"
    }
   ],
   "source": [
    "from IPython.display import display, HTML\n",
    "import pygments\n",
    "from pygments.lexers import SqlLexer\n",
    "from pygments.formatters import HtmlFormatter\n",
    "from pygments.style import Style\n",
    "from pygments.token import Keyword, Name, Comment, String, Number, Operator, Punctuation\n",
    "\n",
    "# Define a custom Pygments style\n",
    "class CustomSQLStyle(Style):\n",
    "    default_style = \"\"\n",
    "    styles = {\n",
    "        Comment: \"italic #888888\",  # Gray for comments\n",
    "        Keyword: \"bold #005cc5\",  # Blue for keywords\n",
    "        Name: \"bold #22863a\",  # Green for names\n",
    "        String: \"italic #d73a49\",  # Red for strings\n",
    "        Number: \"bold #6f42c1\",  # Purple for numbers\n",
    "        Operator: \"bold #e36209\",  # Orange for operators\n",
    "        Punctuation: \"bold #24292e\",  # Black for punctuation\n",
    "    }\n",
    "\n",
    "# Highlight the SQL code using Pygments with the custom style\n",
    "formatter = HtmlFormatter(style=CustomSQLStyle, full=False, noclasses=True)\n",
    "highlighted_sql = pygments.highlight(sql_code, SqlLexer(), formatter)\n",
    "\n",
    "# Display the highlighted SQL code in the notebook\n",
    "display(HTML(highlighted_sql))"
   ]
  },
  {
   "cell_type": "markdown",
   "id": "08d11fa6",
   "metadata": {},
   "source": [
    "## Execute the Query"
   ]
  },
  {
   "cell_type": "code",
   "execution_count": 18,
   "id": "1b4e93b8",
   "metadata": {},
   "outputs": [
    {
     "name": "stdout",
     "output_type": "stream",
     "text": [
      "Downloading: 100%|\u001b[32m██████████\u001b[0m|\n"
     ]
    }
   ],
   "source": [
    "import warnings\n",
    "from pandas_gbq.exceptions import LargeResultsWarning\n",
    "\n",
    "# Suppress the LargeResultsWarning\n",
    "warnings.simplefilter('ignore', category=LargeResultsWarning)\n",
    "\n",
    "# Import the pandas_gbq library\n",
    "import pandas_gbq\n",
    "\n",
    "# Define the SQL query\n",
    "query = sql_code\n",
    "\n",
    "# Read the data from BigQuery into a pandas DataFrame\n",
    "Insights_Part_II = pandas_gbq.read_gbq(query, project_id=credentials.project_id, credentials=credentials)\n",
    "\n",
    "# Display the first few rows of the dataframe\n",
    "# print(Insights_Part_I.head())\n"
   ]
  },
  {
   "cell_type": "markdown",
   "id": "6242e04e",
   "metadata": {},
   "source": [
    "### II.a. Largest MoM Decrease in Trips"
   ]
  },
  {
   "cell_type": "markdown",
   "id": "335aa88c",
   "metadata": {},
   "source": [
    "#### ✔ Read Metric into Frame"
   ]
  },
  {
   "cell_type": "code",
   "execution_count": 19,
   "id": "50d02b85",
   "metadata": {},
   "outputs": [],
   "source": [
    "# Filter the DataFrame for I.b insights (Largest Month-Over-Month Decrease in Fare Per Mile)\n",
    "insights_iia = Insights_Part_II[Insights_Part_II['Metric_Description'] == 'II.a-Largest Month-Over-Month Decrease in Trips']"
   ]
  },
  {
   "cell_type": "markdown",
   "id": "a91f6dd9",
   "metadata": {},
   "source": [
    "#### ✔ Show Table"
   ]
  },
  {
   "cell_type": "markdown",
   "id": "3a247551",
   "metadata": {},
   "source": [
    "##### ✔ Show as Markdown"
   ]
  },
  {
   "cell_type": "code",
   "execution_count": 20,
   "id": "50942490",
   "metadata": {},
   "outputs": [
    {
     "data": {
      "text/markdown": [
       "### II.a-Largest Month-Over-Month Decrease in Trips\n",
       "\n",
       "| Taxi Company | Trip Month | Insight Description |\n",
       "|--------------|------------|----------------------|\n",
       "| Flash Cab | 2014-11 | In Nov 2014, trips decreased by 365,892 (83.7%) compared to the previous month. |\n",
       "| Taxi Affiliation Services | 2020-03 | In Mar 2020, trips decreased by 134,967 (47.8%) compared to the previous month. |\n",
       "| Chicago Elite Cab Corp. | 2013-08 | In Aug 2013, trips decreased by 84,206 (60.1%) compared to the previous month. |\n"
      ],
      "text/plain": [
       "<IPython.core.display.Markdown object>"
      ]
     },
     "metadata": {},
     "output_type": "display_data"
    }
   ],
   "source": [
    "# Call the function to display the table\n",
    "display_markdown_table_ib(insights_iia)"
   ]
  },
  {
   "cell_type": "markdown",
   "id": "ff15c327",
   "metadata": {},
   "source": [
    "##### ✔ Show as Chart"
   ]
  },
  {
   "cell_type": "code",
   "execution_count": 21,
   "id": "3070dc17",
   "metadata": {},
   "outputs": [
    {
     "data": {
      "application/vnd.plotly.v1+json": {
       "config": {
        "plotlyServerURL": "https://plot.ly"
       },
       "data": [
        {
         "cells": {
          "align": "left",
          "fill": {
           "color": "lightgrey"
          },
          "font": {
           "color": "black",
           "size": 11
          },
          "values": [
           [
            "Flash Cab",
            "Taxi Affiliation Services",
            "Chicago Elite Cab Corp."
           ],
           [
            "2014-11",
            "2020-03",
            "2013-08"
           ],
           [
            "In Nov 2014, trips decreased by 365,892 (83.7%) compared to the previous month.",
            "In Mar 2020, trips decreased by 134,967 (47.8%) compared to the previous month.",
            "In Aug 2013, trips decreased by 84,206 (60.1%) compared to the previous month."
           ]
          ]
         },
         "columnwidth": [
          1.5,
          1,
          5
         ],
         "header": {
          "align": "left",
          "fill": {
           "color": "grey"
          },
          "font": {
           "color": "white",
           "size": 12
          },
          "values": [
           "<b>Taxi Company</b>",
           "<b>Trip Month</b>",
           "<b>Metric Insight</b>"
          ]
         },
         "type": "table"
        }
       ],
       "layout": {
        "autosize": true,
        "height": 400,
        "margin": {
         "b": 10,
         "l": 10,
         "r": 10,
         "t": 50
        },
        "template": {
         "data": {
          "bar": [
           {
            "error_x": {
             "color": "#2a3f5f"
            },
            "error_y": {
             "color": "#2a3f5f"
            },
            "marker": {
             "line": {
              "color": "#E5ECF6",
              "width": 0.5
             },
             "pattern": {
              "fillmode": "overlay",
              "size": 10,
              "solidity": 0.2
             }
            },
            "type": "bar"
           }
          ],
          "barpolar": [
           {
            "marker": {
             "line": {
              "color": "#E5ECF6",
              "width": 0.5
             },
             "pattern": {
              "fillmode": "overlay",
              "size": 10,
              "solidity": 0.2
             }
            },
            "type": "barpolar"
           }
          ],
          "carpet": [
           {
            "aaxis": {
             "endlinecolor": "#2a3f5f",
             "gridcolor": "white",
             "linecolor": "white",
             "minorgridcolor": "white",
             "startlinecolor": "#2a3f5f"
            },
            "baxis": {
             "endlinecolor": "#2a3f5f",
             "gridcolor": "white",
             "linecolor": "white",
             "minorgridcolor": "white",
             "startlinecolor": "#2a3f5f"
            },
            "type": "carpet"
           }
          ],
          "choropleth": [
           {
            "colorbar": {
             "outlinewidth": 0,
             "ticks": ""
            },
            "type": "choropleth"
           }
          ],
          "contour": [
           {
            "colorbar": {
             "outlinewidth": 0,
             "ticks": ""
            },
            "colorscale": [
             [
              0,
              "#0d0887"
             ],
             [
              0.1111111111111111,
              "#46039f"
             ],
             [
              0.2222222222222222,
              "#7201a8"
             ],
             [
              0.3333333333333333,
              "#9c179e"
             ],
             [
              0.4444444444444444,
              "#bd3786"
             ],
             [
              0.5555555555555556,
              "#d8576b"
             ],
             [
              0.6666666666666666,
              "#ed7953"
             ],
             [
              0.7777777777777778,
              "#fb9f3a"
             ],
             [
              0.8888888888888888,
              "#fdca26"
             ],
             [
              1,
              "#f0f921"
             ]
            ],
            "type": "contour"
           }
          ],
          "contourcarpet": [
           {
            "colorbar": {
             "outlinewidth": 0,
             "ticks": ""
            },
            "type": "contourcarpet"
           }
          ],
          "heatmap": [
           {
            "colorbar": {
             "outlinewidth": 0,
             "ticks": ""
            },
            "colorscale": [
             [
              0,
              "#0d0887"
             ],
             [
              0.1111111111111111,
              "#46039f"
             ],
             [
              0.2222222222222222,
              "#7201a8"
             ],
             [
              0.3333333333333333,
              "#9c179e"
             ],
             [
              0.4444444444444444,
              "#bd3786"
             ],
             [
              0.5555555555555556,
              "#d8576b"
             ],
             [
              0.6666666666666666,
              "#ed7953"
             ],
             [
              0.7777777777777778,
              "#fb9f3a"
             ],
             [
              0.8888888888888888,
              "#fdca26"
             ],
             [
              1,
              "#f0f921"
             ]
            ],
            "type": "heatmap"
           }
          ],
          "histogram": [
           {
            "marker": {
             "pattern": {
              "fillmode": "overlay",
              "size": 10,
              "solidity": 0.2
             }
            },
            "type": "histogram"
           }
          ],
          "histogram2d": [
           {
            "colorbar": {
             "outlinewidth": 0,
             "ticks": ""
            },
            "colorscale": [
             [
              0,
              "#0d0887"
             ],
             [
              0.1111111111111111,
              "#46039f"
             ],
             [
              0.2222222222222222,
              "#7201a8"
             ],
             [
              0.3333333333333333,
              "#9c179e"
             ],
             [
              0.4444444444444444,
              "#bd3786"
             ],
             [
              0.5555555555555556,
              "#d8576b"
             ],
             [
              0.6666666666666666,
              "#ed7953"
             ],
             [
              0.7777777777777778,
              "#fb9f3a"
             ],
             [
              0.8888888888888888,
              "#fdca26"
             ],
             [
              1,
              "#f0f921"
             ]
            ],
            "type": "histogram2d"
           }
          ],
          "histogram2dcontour": [
           {
            "colorbar": {
             "outlinewidth": 0,
             "ticks": ""
            },
            "colorscale": [
             [
              0,
              "#0d0887"
             ],
             [
              0.1111111111111111,
              "#46039f"
             ],
             [
              0.2222222222222222,
              "#7201a8"
             ],
             [
              0.3333333333333333,
              "#9c179e"
             ],
             [
              0.4444444444444444,
              "#bd3786"
             ],
             [
              0.5555555555555556,
              "#d8576b"
             ],
             [
              0.6666666666666666,
              "#ed7953"
             ],
             [
              0.7777777777777778,
              "#fb9f3a"
             ],
             [
              0.8888888888888888,
              "#fdca26"
             ],
             [
              1,
              "#f0f921"
             ]
            ],
            "type": "histogram2dcontour"
           }
          ],
          "mesh3d": [
           {
            "colorbar": {
             "outlinewidth": 0,
             "ticks": ""
            },
            "type": "mesh3d"
           }
          ],
          "parcoords": [
           {
            "line": {
             "colorbar": {
              "outlinewidth": 0,
              "ticks": ""
             }
            },
            "type": "parcoords"
           }
          ],
          "pie": [
           {
            "automargin": true,
            "type": "pie"
           }
          ],
          "scatter": [
           {
            "fillpattern": {
             "fillmode": "overlay",
             "size": 10,
             "solidity": 0.2
            },
            "type": "scatter"
           }
          ],
          "scatter3d": [
           {
            "line": {
             "colorbar": {
              "outlinewidth": 0,
              "ticks": ""
             }
            },
            "marker": {
             "colorbar": {
              "outlinewidth": 0,
              "ticks": ""
             }
            },
            "type": "scatter3d"
           }
          ],
          "scattercarpet": [
           {
            "marker": {
             "colorbar": {
              "outlinewidth": 0,
              "ticks": ""
             }
            },
            "type": "scattercarpet"
           }
          ],
          "scattergeo": [
           {
            "marker": {
             "colorbar": {
              "outlinewidth": 0,
              "ticks": ""
             }
            },
            "type": "scattergeo"
           }
          ],
          "scattergl": [
           {
            "marker": {
             "colorbar": {
              "outlinewidth": 0,
              "ticks": ""
             }
            },
            "type": "scattergl"
           }
          ],
          "scattermap": [
           {
            "marker": {
             "colorbar": {
              "outlinewidth": 0,
              "ticks": ""
             }
            },
            "type": "scattermap"
           }
          ],
          "scattermapbox": [
           {
            "marker": {
             "colorbar": {
              "outlinewidth": 0,
              "ticks": ""
             }
            },
            "type": "scattermapbox"
           }
          ],
          "scatterpolar": [
           {
            "marker": {
             "colorbar": {
              "outlinewidth": 0,
              "ticks": ""
             }
            },
            "type": "scatterpolar"
           }
          ],
          "scatterpolargl": [
           {
            "marker": {
             "colorbar": {
              "outlinewidth": 0,
              "ticks": ""
             }
            },
            "type": "scatterpolargl"
           }
          ],
          "scatterternary": [
           {
            "marker": {
             "colorbar": {
              "outlinewidth": 0,
              "ticks": ""
             }
            },
            "type": "scatterternary"
           }
          ],
          "surface": [
           {
            "colorbar": {
             "outlinewidth": 0,
             "ticks": ""
            },
            "colorscale": [
             [
              0,
              "#0d0887"
             ],
             [
              0.1111111111111111,
              "#46039f"
             ],
             [
              0.2222222222222222,
              "#7201a8"
             ],
             [
              0.3333333333333333,
              "#9c179e"
             ],
             [
              0.4444444444444444,
              "#bd3786"
             ],
             [
              0.5555555555555556,
              "#d8576b"
             ],
             [
              0.6666666666666666,
              "#ed7953"
             ],
             [
              0.7777777777777778,
              "#fb9f3a"
             ],
             [
              0.8888888888888888,
              "#fdca26"
             ],
             [
              1,
              "#f0f921"
             ]
            ],
            "type": "surface"
           }
          ],
          "table": [
           {
            "cells": {
             "fill": {
              "color": "#EBF0F8"
             },
             "line": {
              "color": "white"
             }
            },
            "header": {
             "fill": {
              "color": "#C8D4E3"
             },
             "line": {
              "color": "white"
             }
            },
            "type": "table"
           }
          ]
         },
         "layout": {
          "annotationdefaults": {
           "arrowcolor": "#2a3f5f",
           "arrowhead": 0,
           "arrowwidth": 1
          },
          "autotypenumbers": "strict",
          "coloraxis": {
           "colorbar": {
            "outlinewidth": 0,
            "ticks": ""
           }
          },
          "colorscale": {
           "diverging": [
            [
             0,
             "#8e0152"
            ],
            [
             0.1,
             "#c51b7d"
            ],
            [
             0.2,
             "#de77ae"
            ],
            [
             0.3,
             "#f1b6da"
            ],
            [
             0.4,
             "#fde0ef"
            ],
            [
             0.5,
             "#f7f7f7"
            ],
            [
             0.6,
             "#e6f5d0"
            ],
            [
             0.7,
             "#b8e186"
            ],
            [
             0.8,
             "#7fbc41"
            ],
            [
             0.9,
             "#4d9221"
            ],
            [
             1,
             "#276419"
            ]
           ],
           "sequential": [
            [
             0,
             "#0d0887"
            ],
            [
             0.1111111111111111,
             "#46039f"
            ],
            [
             0.2222222222222222,
             "#7201a8"
            ],
            [
             0.3333333333333333,
             "#9c179e"
            ],
            [
             0.4444444444444444,
             "#bd3786"
            ],
            [
             0.5555555555555556,
             "#d8576b"
            ],
            [
             0.6666666666666666,
             "#ed7953"
            ],
            [
             0.7777777777777778,
             "#fb9f3a"
            ],
            [
             0.8888888888888888,
             "#fdca26"
            ],
            [
             1,
             "#f0f921"
            ]
           ],
           "sequentialminus": [
            [
             0,
             "#0d0887"
            ],
            [
             0.1111111111111111,
             "#46039f"
            ],
            [
             0.2222222222222222,
             "#7201a8"
            ],
            [
             0.3333333333333333,
             "#9c179e"
            ],
            [
             0.4444444444444444,
             "#bd3786"
            ],
            [
             0.5555555555555556,
             "#d8576b"
            ],
            [
             0.6666666666666666,
             "#ed7953"
            ],
            [
             0.7777777777777778,
             "#fb9f3a"
            ],
            [
             0.8888888888888888,
             "#fdca26"
            ],
            [
             1,
             "#f0f921"
            ]
           ]
          },
          "colorway": [
           "#636efa",
           "#EF553B",
           "#00cc96",
           "#ab63fa",
           "#FFA15A",
           "#19d3f3",
           "#FF6692",
           "#B6E880",
           "#FF97FF",
           "#FECB52"
          ],
          "font": {
           "color": "#2a3f5f"
          },
          "geo": {
           "bgcolor": "white",
           "lakecolor": "white",
           "landcolor": "#E5ECF6",
           "showlakes": true,
           "showland": true,
           "subunitcolor": "white"
          },
          "hoverlabel": {
           "align": "left"
          },
          "hovermode": "closest",
          "mapbox": {
           "style": "light"
          },
          "paper_bgcolor": "white",
          "plot_bgcolor": "#E5ECF6",
          "polar": {
           "angularaxis": {
            "gridcolor": "white",
            "linecolor": "white",
            "ticks": ""
           },
           "bgcolor": "#E5ECF6",
           "radialaxis": {
            "gridcolor": "white",
            "linecolor": "white",
            "ticks": ""
           }
          },
          "scene": {
           "xaxis": {
            "backgroundcolor": "#E5ECF6",
            "gridcolor": "white",
            "gridwidth": 2,
            "linecolor": "white",
            "showbackground": true,
            "ticks": "",
            "zerolinecolor": "white"
           },
           "yaxis": {
            "backgroundcolor": "#E5ECF6",
            "gridcolor": "white",
            "gridwidth": 2,
            "linecolor": "white",
            "showbackground": true,
            "ticks": "",
            "zerolinecolor": "white"
           },
           "zaxis": {
            "backgroundcolor": "#E5ECF6",
            "gridcolor": "white",
            "gridwidth": 2,
            "linecolor": "white",
            "showbackground": true,
            "ticks": "",
            "zerolinecolor": "white"
           }
          },
          "shapedefaults": {
           "line": {
            "color": "#2a3f5f"
           }
          },
          "ternary": {
           "aaxis": {
            "gridcolor": "white",
            "linecolor": "white",
            "ticks": ""
           },
           "baxis": {
            "gridcolor": "white",
            "linecolor": "white",
            "ticks": ""
           },
           "bgcolor": "#E5ECF6",
           "caxis": {
            "gridcolor": "white",
            "linecolor": "white",
            "ticks": ""
           }
          },
          "title": {
           "x": 0.05
          },
          "xaxis": {
           "automargin": true,
           "gridcolor": "white",
           "linecolor": "white",
           "ticks": "",
           "title": {
            "standoff": 15
           },
           "zerolinecolor": "white",
           "zerolinewidth": 2
          },
          "yaxis": {
           "automargin": true,
           "gridcolor": "white",
           "linecolor": "white",
           "ticks": "",
           "title": {
            "standoff": 15
           },
           "zerolinecolor": "white",
           "zerolinewidth": 2
          }
         }
        },
        "title": {
         "font": {
          "size": 16
         },
         "text": "<b>II.a-Largest Month-Over-Month Decrease in Trips</b>",
         "x": 0.5,
         "xanchor": "center",
         "y": 0.97,
         "yanchor": "top"
        },
        "width": 1500
       }
      }
     },
     "metadata": {},
     "output_type": "display_data"
    }
   ],
   "source": [
    "from plotly import graph_objects as go  # Import Plotly graph_objects\n",
    "\n",
    "# Create a new Plotly figure for the table\n",
    "fig_iia = go.Figure()\n",
    "\n",
    "# Add a table to the figure using the insights_iia DataFrame\n",
    "fig_iia.add_trace(go.Table(\n",
    "    header=dict(\n",
    "        values=['<b>Taxi Company</b>', '<b>Trip Month</b>', '<b>Metric Insight</b>'],\n",
    "        fill_color='grey',\n",
    "        align='left',\n",
    "        font=dict(size=12, color='white')\n",
    "    ),\n",
    "    cells=dict(\n",
    "        values=[\n",
    "            insights_iia['Taxi_Company'], \n",
    "            insights_iia['Trip_Month'], \n",
    "            insights_iia['Metric_Insight']\n",
    "        ],\n",
    "        fill_color='lightgrey',\n",
    "        align='left',\n",
    "        font=dict(size=11, color='black')\n",
    "    )\n",
    "))\n",
    "\n",
    "# Update the layout to reduce white space below the table\n",
    "fig_iia.update_layout(\n",
    "    title={\n",
    "        'text': f\"<b>{insights_iia['Metric_Description'].iloc[0]}</b>\",\n",
    "        'y': 0.97,  # Position the title above the table\n",
    "        'x': 0.5,   # Center the title\n",
    "        'xanchor': 'center',\n",
    "        'yanchor': 'top',\n",
    "        'font': dict(size=16)\n",
    "    },\n",
    "    autosize=True,\n",
    "    width=1500,  # Set a fixed width to accommodate all columns\n",
    "    height=400,  # Reduce the height to minimize white space\n",
    "    margin=dict(l=10, r=10, t=50, b=10)  # Adjust margins for better spacing\n",
    ")\n",
    "\n",
    "# Adjust column widths to fit the data\n",
    "fig_iia.data[0].columnwidth = [1.5, 1, 5]  # Set proportional widths for Taxi Company, Trip Month, and Metric Insight\n",
    "\n",
    "# Display the interactive table\n",
    "fig_iia.show()\n"
   ]
  },
  {
   "cell_type": "markdown",
   "id": "a0443d35",
   "metadata": {},
   "source": [
    "#### ✔ Show Some Potential Resons for Metric Deltas"
   ]
  },
  {
   "cell_type": "code",
   "execution_count": 22,
   "id": "b9c08889",
   "metadata": {},
   "outputs": [
    {
     "data": {
      "text/markdown": [
       "### Potential Reasons for II.a-Largest Month-Over-Month Decrease in Trips:\n",
       "- Potential reasons could include:\n",
       "- Seasonal changes,\n",
       "- Weather conditions,\n",
       "- Reduced demand due to events,\n",
       "- Operational challenges,\n",
       "- Changes in regulations,\n",
       "- Decreased fleet size,\n",
       "- Increased competition,\n",
       "- Changes in service offerings,\n",
       "- Economic factors affecting ridership,\n",
       "- Changes in customer preferences"
      ],
      "text/plain": [
       "<IPython.core.display.Markdown object>"
      ]
     },
     "metadata": {},
     "output_type": "display_data"
    }
   ],
   "source": [
    "from IPython.display import Markdown, display\n",
    "\n",
    "# Extract the first row of Metric_Reasons for reasons_iia\n",
    "reasons_iia = insights_iia['Metric_Reasons'].iloc[0]\n",
    "# Apply sentence case to each reason\n",
    "formatted_reasons = '\\n- '.join(reason.strip().capitalize() for reason in reasons_iia.split('\\n- '))\n",
    "# Format and display the reasons\n",
    "formatted_reasons = f\"### Potential Reasons for {insights_iia['Metric_Description'].iloc[0]}:\\n- {formatted_reasons}\"\n",
    "display(Markdown(formatted_reasons))"
   ]
  },
  {
   "cell_type": "markdown",
   "id": "af8f2e25",
   "metadata": {},
   "source": [
    "#### ✔ Visualization"
   ]
  },
  {
   "cell_type": "markdown",
   "id": "5c18f66e",
   "metadata": {},
   "source": [
    "##### ✔ Visualization: Month-over-Month Decrease in Trips by Taxi Company (II.a Insights)"
   ]
  },
  {
   "cell_type": "code",
   "execution_count": 23,
   "id": "d89a5549",
   "metadata": {},
   "outputs": [
    {
     "data": {
      "application/vnd.plotly.v1+json": {
       "config": {
        "plotlyServerURL": "https://plot.ly"
       },
       "data": [
        {
         "hovertemplate": "Taxi_Company=%{x}<br>Current Month Trips=%{y}<br>text=%{text}<br>color=%{marker.color}<extra></extra>",
         "legendgroup": "",
         "marker": {
          "color": {
           "bdata": "4XoUrkfh6j+4HoXrUbjePzMzMzMzM+M/",
           "dtype": "f8"
          },
          "coloraxis": "coloraxis",
          "pattern": {
           "shape": ""
          }
         },
         "name": "",
         "orientation": "v",
         "showlegend": false,
         "text": [
          "(84%)",
          "(48%)",
          "(60%)"
         ],
         "textposition": "auto",
         "type": "bar",
         "x": [
          "Flash Cab",
          "Taxi Affiliation Services",
          "Chicago Elite Cab Corp."
         ],
         "xaxis": "x",
         "y": {
          "bdata": "AAAAADBe8UAAAAAAYPUBQQAAAADgT+tA",
          "dtype": "f8"
         },
         "yaxis": "y"
        }
       ],
       "layout": {
        "barmode": "relative",
        "coloraxis": {
         "cmax": 0.84,
         "cmin": 0.48,
         "colorbar": {
          "ticktext": [
           "84%",
           "48%",
           "60%"
          ],
          "tickvals": [
           0.84,
           0.48,
           0.6
          ],
          "title": {
           "text": "ABS MoM Change (%)"
          }
         },
         "colorscale": [
          [
           0,
           "orange"
          ],
          [
           1,
           "red"
          ]
         ]
        },
        "legend": {
         "title": {
          "text": "Metric Change"
         },
         "tracegroupgap": 0
        },
        "template": {
         "data": {
          "bar": [
           {
            "error_x": {
             "color": "#2a3f5f"
            },
            "error_y": {
             "color": "#2a3f5f"
            },
            "marker": {
             "line": {
              "color": "white",
              "width": 0.5
             },
             "pattern": {
              "fillmode": "overlay",
              "size": 10,
              "solidity": 0.2
             }
            },
            "type": "bar"
           }
          ],
          "barpolar": [
           {
            "marker": {
             "line": {
              "color": "white",
              "width": 0.5
             },
             "pattern": {
              "fillmode": "overlay",
              "size": 10,
              "solidity": 0.2
             }
            },
            "type": "barpolar"
           }
          ],
          "carpet": [
           {
            "aaxis": {
             "endlinecolor": "#2a3f5f",
             "gridcolor": "#C8D4E3",
             "linecolor": "#C8D4E3",
             "minorgridcolor": "#C8D4E3",
             "startlinecolor": "#2a3f5f"
            },
            "baxis": {
             "endlinecolor": "#2a3f5f",
             "gridcolor": "#C8D4E3",
             "linecolor": "#C8D4E3",
             "minorgridcolor": "#C8D4E3",
             "startlinecolor": "#2a3f5f"
            },
            "type": "carpet"
           }
          ],
          "choropleth": [
           {
            "colorbar": {
             "outlinewidth": 0,
             "ticks": ""
            },
            "type": "choropleth"
           }
          ],
          "contour": [
           {
            "colorbar": {
             "outlinewidth": 0,
             "ticks": ""
            },
            "colorscale": [
             [
              0,
              "#0d0887"
             ],
             [
              0.1111111111111111,
              "#46039f"
             ],
             [
              0.2222222222222222,
              "#7201a8"
             ],
             [
              0.3333333333333333,
              "#9c179e"
             ],
             [
              0.4444444444444444,
              "#bd3786"
             ],
             [
              0.5555555555555556,
              "#d8576b"
             ],
             [
              0.6666666666666666,
              "#ed7953"
             ],
             [
              0.7777777777777778,
              "#fb9f3a"
             ],
             [
              0.8888888888888888,
              "#fdca26"
             ],
             [
              1,
              "#f0f921"
             ]
            ],
            "type": "contour"
           }
          ],
          "contourcarpet": [
           {
            "colorbar": {
             "outlinewidth": 0,
             "ticks": ""
            },
            "type": "contourcarpet"
           }
          ],
          "heatmap": [
           {
            "colorbar": {
             "outlinewidth": 0,
             "ticks": ""
            },
            "colorscale": [
             [
              0,
              "#0d0887"
             ],
             [
              0.1111111111111111,
              "#46039f"
             ],
             [
              0.2222222222222222,
              "#7201a8"
             ],
             [
              0.3333333333333333,
              "#9c179e"
             ],
             [
              0.4444444444444444,
              "#bd3786"
             ],
             [
              0.5555555555555556,
              "#d8576b"
             ],
             [
              0.6666666666666666,
              "#ed7953"
             ],
             [
              0.7777777777777778,
              "#fb9f3a"
             ],
             [
              0.8888888888888888,
              "#fdca26"
             ],
             [
              1,
              "#f0f921"
             ]
            ],
            "type": "heatmap"
           }
          ],
          "histogram": [
           {
            "marker": {
             "pattern": {
              "fillmode": "overlay",
              "size": 10,
              "solidity": 0.2
             }
            },
            "type": "histogram"
           }
          ],
          "histogram2d": [
           {
            "colorbar": {
             "outlinewidth": 0,
             "ticks": ""
            },
            "colorscale": [
             [
              0,
              "#0d0887"
             ],
             [
              0.1111111111111111,
              "#46039f"
             ],
             [
              0.2222222222222222,
              "#7201a8"
             ],
             [
              0.3333333333333333,
              "#9c179e"
             ],
             [
              0.4444444444444444,
              "#bd3786"
             ],
             [
              0.5555555555555556,
              "#d8576b"
             ],
             [
              0.6666666666666666,
              "#ed7953"
             ],
             [
              0.7777777777777778,
              "#fb9f3a"
             ],
             [
              0.8888888888888888,
              "#fdca26"
             ],
             [
              1,
              "#f0f921"
             ]
            ],
            "type": "histogram2d"
           }
          ],
          "histogram2dcontour": [
           {
            "colorbar": {
             "outlinewidth": 0,
             "ticks": ""
            },
            "colorscale": [
             [
              0,
              "#0d0887"
             ],
             [
              0.1111111111111111,
              "#46039f"
             ],
             [
              0.2222222222222222,
              "#7201a8"
             ],
             [
              0.3333333333333333,
              "#9c179e"
             ],
             [
              0.4444444444444444,
              "#bd3786"
             ],
             [
              0.5555555555555556,
              "#d8576b"
             ],
             [
              0.6666666666666666,
              "#ed7953"
             ],
             [
              0.7777777777777778,
              "#fb9f3a"
             ],
             [
              0.8888888888888888,
              "#fdca26"
             ],
             [
              1,
              "#f0f921"
             ]
            ],
            "type": "histogram2dcontour"
           }
          ],
          "mesh3d": [
           {
            "colorbar": {
             "outlinewidth": 0,
             "ticks": ""
            },
            "type": "mesh3d"
           }
          ],
          "parcoords": [
           {
            "line": {
             "colorbar": {
              "outlinewidth": 0,
              "ticks": ""
             }
            },
            "type": "parcoords"
           }
          ],
          "pie": [
           {
            "automargin": true,
            "type": "pie"
           }
          ],
          "scatter": [
           {
            "fillpattern": {
             "fillmode": "overlay",
             "size": 10,
             "solidity": 0.2
            },
            "type": "scatter"
           }
          ],
          "scatter3d": [
           {
            "line": {
             "colorbar": {
              "outlinewidth": 0,
              "ticks": ""
             }
            },
            "marker": {
             "colorbar": {
              "outlinewidth": 0,
              "ticks": ""
             }
            },
            "type": "scatter3d"
           }
          ],
          "scattercarpet": [
           {
            "marker": {
             "colorbar": {
              "outlinewidth": 0,
              "ticks": ""
             }
            },
            "type": "scattercarpet"
           }
          ],
          "scattergeo": [
           {
            "marker": {
             "colorbar": {
              "outlinewidth": 0,
              "ticks": ""
             }
            },
            "type": "scattergeo"
           }
          ],
          "scattergl": [
           {
            "marker": {
             "colorbar": {
              "outlinewidth": 0,
              "ticks": ""
             }
            },
            "type": "scattergl"
           }
          ],
          "scattermap": [
           {
            "marker": {
             "colorbar": {
              "outlinewidth": 0,
              "ticks": ""
             }
            },
            "type": "scattermap"
           }
          ],
          "scattermapbox": [
           {
            "marker": {
             "colorbar": {
              "outlinewidth": 0,
              "ticks": ""
             }
            },
            "type": "scattermapbox"
           }
          ],
          "scatterpolar": [
           {
            "marker": {
             "colorbar": {
              "outlinewidth": 0,
              "ticks": ""
             }
            },
            "type": "scatterpolar"
           }
          ],
          "scatterpolargl": [
           {
            "marker": {
             "colorbar": {
              "outlinewidth": 0,
              "ticks": ""
             }
            },
            "type": "scatterpolargl"
           }
          ],
          "scatterternary": [
           {
            "marker": {
             "colorbar": {
              "outlinewidth": 0,
              "ticks": ""
             }
            },
            "type": "scatterternary"
           }
          ],
          "surface": [
           {
            "colorbar": {
             "outlinewidth": 0,
             "ticks": ""
            },
            "colorscale": [
             [
              0,
              "#0d0887"
             ],
             [
              0.1111111111111111,
              "#46039f"
             ],
             [
              0.2222222222222222,
              "#7201a8"
             ],
             [
              0.3333333333333333,
              "#9c179e"
             ],
             [
              0.4444444444444444,
              "#bd3786"
             ],
             [
              0.5555555555555556,
              "#d8576b"
             ],
             [
              0.6666666666666666,
              "#ed7953"
             ],
             [
              0.7777777777777778,
              "#fb9f3a"
             ],
             [
              0.8888888888888888,
              "#fdca26"
             ],
             [
              1,
              "#f0f921"
             ]
            ],
            "type": "surface"
           }
          ],
          "table": [
           {
            "cells": {
             "fill": {
              "color": "#EBF0F8"
             },
             "line": {
              "color": "white"
             }
            },
            "header": {
             "fill": {
              "color": "#C8D4E3"
             },
             "line": {
              "color": "white"
             }
            },
            "type": "table"
           }
          ]
         },
         "layout": {
          "annotationdefaults": {
           "arrowcolor": "#2a3f5f",
           "arrowhead": 0,
           "arrowwidth": 1
          },
          "autotypenumbers": "strict",
          "coloraxis": {
           "colorbar": {
            "outlinewidth": 0,
            "ticks": ""
           }
          },
          "colorscale": {
           "diverging": [
            [
             0,
             "#8e0152"
            ],
            [
             0.1,
             "#c51b7d"
            ],
            [
             0.2,
             "#de77ae"
            ],
            [
             0.3,
             "#f1b6da"
            ],
            [
             0.4,
             "#fde0ef"
            ],
            [
             0.5,
             "#f7f7f7"
            ],
            [
             0.6,
             "#e6f5d0"
            ],
            [
             0.7,
             "#b8e186"
            ],
            [
             0.8,
             "#7fbc41"
            ],
            [
             0.9,
             "#4d9221"
            ],
            [
             1,
             "#276419"
            ]
           ],
           "sequential": [
            [
             0,
             "#0d0887"
            ],
            [
             0.1111111111111111,
             "#46039f"
            ],
            [
             0.2222222222222222,
             "#7201a8"
            ],
            [
             0.3333333333333333,
             "#9c179e"
            ],
            [
             0.4444444444444444,
             "#bd3786"
            ],
            [
             0.5555555555555556,
             "#d8576b"
            ],
            [
             0.6666666666666666,
             "#ed7953"
            ],
            [
             0.7777777777777778,
             "#fb9f3a"
            ],
            [
             0.8888888888888888,
             "#fdca26"
            ],
            [
             1,
             "#f0f921"
            ]
           ],
           "sequentialminus": [
            [
             0,
             "#0d0887"
            ],
            [
             0.1111111111111111,
             "#46039f"
            ],
            [
             0.2222222222222222,
             "#7201a8"
            ],
            [
             0.3333333333333333,
             "#9c179e"
            ],
            [
             0.4444444444444444,
             "#bd3786"
            ],
            [
             0.5555555555555556,
             "#d8576b"
            ],
            [
             0.6666666666666666,
             "#ed7953"
            ],
            [
             0.7777777777777778,
             "#fb9f3a"
            ],
            [
             0.8888888888888888,
             "#fdca26"
            ],
            [
             1,
             "#f0f921"
            ]
           ]
          },
          "colorway": [
           "#636efa",
           "#EF553B",
           "#00cc96",
           "#ab63fa",
           "#FFA15A",
           "#19d3f3",
           "#FF6692",
           "#B6E880",
           "#FF97FF",
           "#FECB52"
          ],
          "font": {
           "color": "#2a3f5f"
          },
          "geo": {
           "bgcolor": "white",
           "lakecolor": "white",
           "landcolor": "white",
           "showlakes": true,
           "showland": true,
           "subunitcolor": "#C8D4E3"
          },
          "hoverlabel": {
           "align": "left"
          },
          "hovermode": "closest",
          "mapbox": {
           "style": "light"
          },
          "paper_bgcolor": "white",
          "plot_bgcolor": "white",
          "polar": {
           "angularaxis": {
            "gridcolor": "#EBF0F8",
            "linecolor": "#EBF0F8",
            "ticks": ""
           },
           "bgcolor": "white",
           "radialaxis": {
            "gridcolor": "#EBF0F8",
            "linecolor": "#EBF0F8",
            "ticks": ""
           }
          },
          "scene": {
           "xaxis": {
            "backgroundcolor": "white",
            "gridcolor": "#DFE8F3",
            "gridwidth": 2,
            "linecolor": "#EBF0F8",
            "showbackground": true,
            "ticks": "",
            "zerolinecolor": "#EBF0F8"
           },
           "yaxis": {
            "backgroundcolor": "white",
            "gridcolor": "#DFE8F3",
            "gridwidth": 2,
            "linecolor": "#EBF0F8",
            "showbackground": true,
            "ticks": "",
            "zerolinecolor": "#EBF0F8"
           },
           "zaxis": {
            "backgroundcolor": "white",
            "gridcolor": "#DFE8F3",
            "gridwidth": 2,
            "linecolor": "#EBF0F8",
            "showbackground": true,
            "ticks": "",
            "zerolinecolor": "#EBF0F8"
           }
          },
          "shapedefaults": {
           "line": {
            "color": "#2a3f5f"
           }
          },
          "ternary": {
           "aaxis": {
            "gridcolor": "#DFE8F3",
            "linecolor": "#A2B1C6",
            "ticks": ""
           },
           "baxis": {
            "gridcolor": "#DFE8F3",
            "linecolor": "#A2B1C6",
            "ticks": ""
           },
           "bgcolor": "white",
           "caxis": {
            "gridcolor": "#DFE8F3",
            "linecolor": "#A2B1C6",
            "ticks": ""
           }
          },
          "title": {
           "x": 0.05
          },
          "xaxis": {
           "automargin": true,
           "gridcolor": "#EBF0F8",
           "linecolor": "#EBF0F8",
           "ticks": "",
           "title": {
            "standoff": 15
           },
           "zerolinecolor": "#EBF0F8",
           "zerolinewidth": 2
          },
          "yaxis": {
           "automargin": true,
           "gridcolor": "#EBF0F8",
           "linecolor": "#EBF0F8",
           "ticks": "",
           "title": {
            "standoff": 15
           },
           "zerolinecolor": "#EBF0F8",
           "zerolinewidth": 2
          }
         }
        },
        "title": {
         "text": "Month-over-Month Decrease in Trips by Taxi Company",
         "x": 0.5,
         "xanchor": "center",
         "yanchor": "top"
        },
        "xaxis": {
         "anchor": "y",
         "domain": [
          0,
          1
         ],
         "title": {
          "text": "Taxi Company"
         }
        },
        "yaxis": {
         "anchor": "x",
         "domain": [
          0,
          1
         ],
         "title": {
          "text": "Current Month Trips"
         }
        }
       }
      }
     },
     "metadata": {},
     "output_type": "display_data"
    }
   ],
   "source": [
    "# - The x-axis represents the taxi companies.\n",
    "# - The y-axis shows the number of trips in the current month (Mon_Metric_Val).\n",
    "# - The bars are color-coded based on the absolute percentage change in trips (abs(Metric_Mon_Pct_Chg)).\n",
    "# - The text on the bars displays the percentage change in trips compared to the previous month.\n",
    "# - A darker red color indicates a larger percentage decrease in trips.\n",
    "# - Use this graph to identify which taxi companies experienced the most significant drop in trips and the magnitude of that change.\n",
    "\n",
    "import plotly.express as px\n",
    "\n",
    "# Create a bar chart\n",
    "fig = px.bar(\n",
    "    insights_iia,\n",
    "    x='Taxi_Company',\n",
    "    y='Mon_Metric_Val',\n",
    "    color=insights_iia['Metric_Mon_Pct_Chg'].abs(),  # Use absolute value for color scale\n",
    "    text=insights_iia['Metric_Mon_Pct_Chg'].apply(lambda x: f\"({abs(x * 100):.0f}%)\" if x < 0 else f\"{x * 100:.0f}%\"),\n",
    "    title='Month-over-Month Decrease in Trips by Taxi Company',\n",
    "    labels={'Mon_Metric_Val': 'Current Month Trips', 'Metric_Mon_Pct_Chg': 'MoM Change (%)'},\n",
    "    color_continuous_scale=['orange', 'red'],  # Transition from orange to red\n",
    "    range_color=[insights_iia['Metric_Mon_Pct_Chg'].abs().min(), insights_iia['Metric_Mon_Pct_Chg'].abs().max()]\n",
    ")\n",
    "\n",
    "# Update layout for better readability\n",
    "fig.update_layout(\n",
    "    xaxis_title='Taxi Company',\n",
    "    yaxis_title='Current Month Trips',\n",
    "    coloraxis_colorbar=dict(\n",
    "        title='ABS MoM Change (%)',\n",
    "        tickvals=[val for val in insights_iia['Metric_Mon_Pct_Chg'].abs().unique()],\n",
    "        ticktext=[f\"{val * 100:.0f}%\" for val in insights_iia['Metric_Mon_Pct_Chg'].abs().unique()]\n",
    "    ),\n",
    "    title={\n",
    "        'text': 'Month-over-Month Decrease in Trips by Taxi Company',\n",
    "        'x': 0.5,\n",
    "        'xanchor': 'center',\n",
    "        'yanchor': 'top'\n",
    "    },\n",
    "    legend_title_text='Metric Change',\n",
    "    template='plotly_white'\n",
    ")\n",
    "\n",
    "# Show the chart\n",
    "fig.show()"
   ]
  },
  {
   "cell_type": "markdown",
   "id": "83f231a2",
   "metadata": {},
   "source": [
    "### ✔ II.b-Largest Month-Over-Month Increase in Fare Per Mile\n"
   ]
  },
  {
   "cell_type": "markdown",
   "id": "833d3eed",
   "metadata": {},
   "source": [
    "#### ✔ Read Metric into Frame"
   ]
  },
  {
   "cell_type": "code",
   "execution_count": 24,
   "id": "2ea5e401",
   "metadata": {},
   "outputs": [],
   "source": [
    "# Filter the DataFrame for the desired metric insights\n",
    "insights_iib = Insights_Part_II[Insights_Part_II['Metric_Description'] == 'II.b-Largest Month-Over-Month Increase in Fare Per Mile']"
   ]
  },
  {
   "cell_type": "markdown",
   "id": "db3bdab6",
   "metadata": {},
   "source": [
    "#### ✔ Show Table"
   ]
  },
  {
   "cell_type": "markdown",
   "id": "a2691648",
   "metadata": {},
   "source": [
    "##### ✔ Show as Markdown"
   ]
  },
  {
   "cell_type": "code",
   "execution_count": 25,
   "id": "1f7ac652",
   "metadata": {},
   "outputs": [
    {
     "data": {
      "text/markdown": [
       "### II.b-Largest Month-Over-Month Increase in Fare Per Mile\n",
       "\n",
       "| Taxi Company | Trip Month | Insight Description |\n",
       "|--------------|------------|----------------------|\n",
       "| 4732 - Maude Lamy | 2015-10 | In Oct 2015, fare per mile increased by $21.33 (191.0%) compared to the previous month. |\n",
       "| Suburban Dispatch LLC | 2015-08 | In Aug 2015, fare per mile increased by $23.69 (313.7%) compared to the previous month. |\n",
       "| Metro Jet Taxi A. | 2022-06 | In Jun 2022, fare per mile increased by $37.81 (120.5%) compared to the previous month. |\n"
      ],
      "text/plain": [
       "<IPython.core.display.Markdown object>"
      ]
     },
     "metadata": {},
     "output_type": "display_data"
    }
   ],
   "source": [
    "# Call the function to display the table\n",
    "display_markdown_table_ib(insights_iib)"
   ]
  },
  {
   "cell_type": "markdown",
   "id": "f44a7e93",
   "metadata": {},
   "source": [
    "#### ✔ Show as Chart"
   ]
  },
  {
   "cell_type": "code",
   "execution_count": 26,
   "id": "ed3454fe",
   "metadata": {},
   "outputs": [
    {
     "data": {
      "application/vnd.plotly.v1+json": {
       "config": {
        "plotlyServerURL": "https://plot.ly"
       },
       "data": [
        {
         "cells": {
          "align": "left",
          "fill": {
           "color": "lightgrey"
          },
          "font": {
           "color": "black",
           "size": 11
          },
          "values": [
           [
            "4732 - Maude Lamy",
            "Suburban Dispatch LLC",
            "Metro Jet Taxi A."
           ],
           [
            "2015-10",
            "2015-08",
            "2022-06"
           ],
           [
            "In Oct 2015, fare per mile increased by $21.33 (191.0%) compared to the previous month.",
            "In Aug 2015, fare per mile increased by $23.69 (313.7%) compared to the previous month.",
            "In Jun 2022, fare per mile increased by $37.81 (120.5%) compared to the previous month."
           ]
          ]
         },
         "columnwidth": [
          1.5,
          1,
          5
         ],
         "header": {
          "align": "left",
          "fill": {
           "color": "grey"
          },
          "font": {
           "color": "white",
           "size": 12
          },
          "values": [
           "<b>Taxi Company</b>",
           "<b>Trip Month</b>",
           "<b>Metric Insight</b>"
          ]
         },
         "type": "table"
        }
       ],
       "layout": {
        "autosize": true,
        "height": 400,
        "margin": {
         "b": 10,
         "l": 10,
         "r": 10,
         "t": 50
        },
        "template": {
         "data": {
          "bar": [
           {
            "error_x": {
             "color": "#2a3f5f"
            },
            "error_y": {
             "color": "#2a3f5f"
            },
            "marker": {
             "line": {
              "color": "#E5ECF6",
              "width": 0.5
             },
             "pattern": {
              "fillmode": "overlay",
              "size": 10,
              "solidity": 0.2
             }
            },
            "type": "bar"
           }
          ],
          "barpolar": [
           {
            "marker": {
             "line": {
              "color": "#E5ECF6",
              "width": 0.5
             },
             "pattern": {
              "fillmode": "overlay",
              "size": 10,
              "solidity": 0.2
             }
            },
            "type": "barpolar"
           }
          ],
          "carpet": [
           {
            "aaxis": {
             "endlinecolor": "#2a3f5f",
             "gridcolor": "white",
             "linecolor": "white",
             "minorgridcolor": "white",
             "startlinecolor": "#2a3f5f"
            },
            "baxis": {
             "endlinecolor": "#2a3f5f",
             "gridcolor": "white",
             "linecolor": "white",
             "minorgridcolor": "white",
             "startlinecolor": "#2a3f5f"
            },
            "type": "carpet"
           }
          ],
          "choropleth": [
           {
            "colorbar": {
             "outlinewidth": 0,
             "ticks": ""
            },
            "type": "choropleth"
           }
          ],
          "contour": [
           {
            "colorbar": {
             "outlinewidth": 0,
             "ticks": ""
            },
            "colorscale": [
             [
              0,
              "#0d0887"
             ],
             [
              0.1111111111111111,
              "#46039f"
             ],
             [
              0.2222222222222222,
              "#7201a8"
             ],
             [
              0.3333333333333333,
              "#9c179e"
             ],
             [
              0.4444444444444444,
              "#bd3786"
             ],
             [
              0.5555555555555556,
              "#d8576b"
             ],
             [
              0.6666666666666666,
              "#ed7953"
             ],
             [
              0.7777777777777778,
              "#fb9f3a"
             ],
             [
              0.8888888888888888,
              "#fdca26"
             ],
             [
              1,
              "#f0f921"
             ]
            ],
            "type": "contour"
           }
          ],
          "contourcarpet": [
           {
            "colorbar": {
             "outlinewidth": 0,
             "ticks": ""
            },
            "type": "contourcarpet"
           }
          ],
          "heatmap": [
           {
            "colorbar": {
             "outlinewidth": 0,
             "ticks": ""
            },
            "colorscale": [
             [
              0,
              "#0d0887"
             ],
             [
              0.1111111111111111,
              "#46039f"
             ],
             [
              0.2222222222222222,
              "#7201a8"
             ],
             [
              0.3333333333333333,
              "#9c179e"
             ],
             [
              0.4444444444444444,
              "#bd3786"
             ],
             [
              0.5555555555555556,
              "#d8576b"
             ],
             [
              0.6666666666666666,
              "#ed7953"
             ],
             [
              0.7777777777777778,
              "#fb9f3a"
             ],
             [
              0.8888888888888888,
              "#fdca26"
             ],
             [
              1,
              "#f0f921"
             ]
            ],
            "type": "heatmap"
           }
          ],
          "histogram": [
           {
            "marker": {
             "pattern": {
              "fillmode": "overlay",
              "size": 10,
              "solidity": 0.2
             }
            },
            "type": "histogram"
           }
          ],
          "histogram2d": [
           {
            "colorbar": {
             "outlinewidth": 0,
             "ticks": ""
            },
            "colorscale": [
             [
              0,
              "#0d0887"
             ],
             [
              0.1111111111111111,
              "#46039f"
             ],
             [
              0.2222222222222222,
              "#7201a8"
             ],
             [
              0.3333333333333333,
              "#9c179e"
             ],
             [
              0.4444444444444444,
              "#bd3786"
             ],
             [
              0.5555555555555556,
              "#d8576b"
             ],
             [
              0.6666666666666666,
              "#ed7953"
             ],
             [
              0.7777777777777778,
              "#fb9f3a"
             ],
             [
              0.8888888888888888,
              "#fdca26"
             ],
             [
              1,
              "#f0f921"
             ]
            ],
            "type": "histogram2d"
           }
          ],
          "histogram2dcontour": [
           {
            "colorbar": {
             "outlinewidth": 0,
             "ticks": ""
            },
            "colorscale": [
             [
              0,
              "#0d0887"
             ],
             [
              0.1111111111111111,
              "#46039f"
             ],
             [
              0.2222222222222222,
              "#7201a8"
             ],
             [
              0.3333333333333333,
              "#9c179e"
             ],
             [
              0.4444444444444444,
              "#bd3786"
             ],
             [
              0.5555555555555556,
              "#d8576b"
             ],
             [
              0.6666666666666666,
              "#ed7953"
             ],
             [
              0.7777777777777778,
              "#fb9f3a"
             ],
             [
              0.8888888888888888,
              "#fdca26"
             ],
             [
              1,
              "#f0f921"
             ]
            ],
            "type": "histogram2dcontour"
           }
          ],
          "mesh3d": [
           {
            "colorbar": {
             "outlinewidth": 0,
             "ticks": ""
            },
            "type": "mesh3d"
           }
          ],
          "parcoords": [
           {
            "line": {
             "colorbar": {
              "outlinewidth": 0,
              "ticks": ""
             }
            },
            "type": "parcoords"
           }
          ],
          "pie": [
           {
            "automargin": true,
            "type": "pie"
           }
          ],
          "scatter": [
           {
            "fillpattern": {
             "fillmode": "overlay",
             "size": 10,
             "solidity": 0.2
            },
            "type": "scatter"
           }
          ],
          "scatter3d": [
           {
            "line": {
             "colorbar": {
              "outlinewidth": 0,
              "ticks": ""
             }
            },
            "marker": {
             "colorbar": {
              "outlinewidth": 0,
              "ticks": ""
             }
            },
            "type": "scatter3d"
           }
          ],
          "scattercarpet": [
           {
            "marker": {
             "colorbar": {
              "outlinewidth": 0,
              "ticks": ""
             }
            },
            "type": "scattercarpet"
           }
          ],
          "scattergeo": [
           {
            "marker": {
             "colorbar": {
              "outlinewidth": 0,
              "ticks": ""
             }
            },
            "type": "scattergeo"
           }
          ],
          "scattergl": [
           {
            "marker": {
             "colorbar": {
              "outlinewidth": 0,
              "ticks": ""
             }
            },
            "type": "scattergl"
           }
          ],
          "scattermap": [
           {
            "marker": {
             "colorbar": {
              "outlinewidth": 0,
              "ticks": ""
             }
            },
            "type": "scattermap"
           }
          ],
          "scattermapbox": [
           {
            "marker": {
             "colorbar": {
              "outlinewidth": 0,
              "ticks": ""
             }
            },
            "type": "scattermapbox"
           }
          ],
          "scatterpolar": [
           {
            "marker": {
             "colorbar": {
              "outlinewidth": 0,
              "ticks": ""
             }
            },
            "type": "scatterpolar"
           }
          ],
          "scatterpolargl": [
           {
            "marker": {
             "colorbar": {
              "outlinewidth": 0,
              "ticks": ""
             }
            },
            "type": "scatterpolargl"
           }
          ],
          "scatterternary": [
           {
            "marker": {
             "colorbar": {
              "outlinewidth": 0,
              "ticks": ""
             }
            },
            "type": "scatterternary"
           }
          ],
          "surface": [
           {
            "colorbar": {
             "outlinewidth": 0,
             "ticks": ""
            },
            "colorscale": [
             [
              0,
              "#0d0887"
             ],
             [
              0.1111111111111111,
              "#46039f"
             ],
             [
              0.2222222222222222,
              "#7201a8"
             ],
             [
              0.3333333333333333,
              "#9c179e"
             ],
             [
              0.4444444444444444,
              "#bd3786"
             ],
             [
              0.5555555555555556,
              "#d8576b"
             ],
             [
              0.6666666666666666,
              "#ed7953"
             ],
             [
              0.7777777777777778,
              "#fb9f3a"
             ],
             [
              0.8888888888888888,
              "#fdca26"
             ],
             [
              1,
              "#f0f921"
             ]
            ],
            "type": "surface"
           }
          ],
          "table": [
           {
            "cells": {
             "fill": {
              "color": "#EBF0F8"
             },
             "line": {
              "color": "white"
             }
            },
            "header": {
             "fill": {
              "color": "#C8D4E3"
             },
             "line": {
              "color": "white"
             }
            },
            "type": "table"
           }
          ]
         },
         "layout": {
          "annotationdefaults": {
           "arrowcolor": "#2a3f5f",
           "arrowhead": 0,
           "arrowwidth": 1
          },
          "autotypenumbers": "strict",
          "coloraxis": {
           "colorbar": {
            "outlinewidth": 0,
            "ticks": ""
           }
          },
          "colorscale": {
           "diverging": [
            [
             0,
             "#8e0152"
            ],
            [
             0.1,
             "#c51b7d"
            ],
            [
             0.2,
             "#de77ae"
            ],
            [
             0.3,
             "#f1b6da"
            ],
            [
             0.4,
             "#fde0ef"
            ],
            [
             0.5,
             "#f7f7f7"
            ],
            [
             0.6,
             "#e6f5d0"
            ],
            [
             0.7,
             "#b8e186"
            ],
            [
             0.8,
             "#7fbc41"
            ],
            [
             0.9,
             "#4d9221"
            ],
            [
             1,
             "#276419"
            ]
           ],
           "sequential": [
            [
             0,
             "#0d0887"
            ],
            [
             0.1111111111111111,
             "#46039f"
            ],
            [
             0.2222222222222222,
             "#7201a8"
            ],
            [
             0.3333333333333333,
             "#9c179e"
            ],
            [
             0.4444444444444444,
             "#bd3786"
            ],
            [
             0.5555555555555556,
             "#d8576b"
            ],
            [
             0.6666666666666666,
             "#ed7953"
            ],
            [
             0.7777777777777778,
             "#fb9f3a"
            ],
            [
             0.8888888888888888,
             "#fdca26"
            ],
            [
             1,
             "#f0f921"
            ]
           ],
           "sequentialminus": [
            [
             0,
             "#0d0887"
            ],
            [
             0.1111111111111111,
             "#46039f"
            ],
            [
             0.2222222222222222,
             "#7201a8"
            ],
            [
             0.3333333333333333,
             "#9c179e"
            ],
            [
             0.4444444444444444,
             "#bd3786"
            ],
            [
             0.5555555555555556,
             "#d8576b"
            ],
            [
             0.6666666666666666,
             "#ed7953"
            ],
            [
             0.7777777777777778,
             "#fb9f3a"
            ],
            [
             0.8888888888888888,
             "#fdca26"
            ],
            [
             1,
             "#f0f921"
            ]
           ]
          },
          "colorway": [
           "#636efa",
           "#EF553B",
           "#00cc96",
           "#ab63fa",
           "#FFA15A",
           "#19d3f3",
           "#FF6692",
           "#B6E880",
           "#FF97FF",
           "#FECB52"
          ],
          "font": {
           "color": "#2a3f5f"
          },
          "geo": {
           "bgcolor": "white",
           "lakecolor": "white",
           "landcolor": "#E5ECF6",
           "showlakes": true,
           "showland": true,
           "subunitcolor": "white"
          },
          "hoverlabel": {
           "align": "left"
          },
          "hovermode": "closest",
          "mapbox": {
           "style": "light"
          },
          "paper_bgcolor": "white",
          "plot_bgcolor": "#E5ECF6",
          "polar": {
           "angularaxis": {
            "gridcolor": "white",
            "linecolor": "white",
            "ticks": ""
           },
           "bgcolor": "#E5ECF6",
           "radialaxis": {
            "gridcolor": "white",
            "linecolor": "white",
            "ticks": ""
           }
          },
          "scene": {
           "xaxis": {
            "backgroundcolor": "#E5ECF6",
            "gridcolor": "white",
            "gridwidth": 2,
            "linecolor": "white",
            "showbackground": true,
            "ticks": "",
            "zerolinecolor": "white"
           },
           "yaxis": {
            "backgroundcolor": "#E5ECF6",
            "gridcolor": "white",
            "gridwidth": 2,
            "linecolor": "white",
            "showbackground": true,
            "ticks": "",
            "zerolinecolor": "white"
           },
           "zaxis": {
            "backgroundcolor": "#E5ECF6",
            "gridcolor": "white",
            "gridwidth": 2,
            "linecolor": "white",
            "showbackground": true,
            "ticks": "",
            "zerolinecolor": "white"
           }
          },
          "shapedefaults": {
           "line": {
            "color": "#2a3f5f"
           }
          },
          "ternary": {
           "aaxis": {
            "gridcolor": "white",
            "linecolor": "white",
            "ticks": ""
           },
           "baxis": {
            "gridcolor": "white",
            "linecolor": "white",
            "ticks": ""
           },
           "bgcolor": "#E5ECF6",
           "caxis": {
            "gridcolor": "white",
            "linecolor": "white",
            "ticks": ""
           }
          },
          "title": {
           "x": 0.05
          },
          "xaxis": {
           "automargin": true,
           "gridcolor": "white",
           "linecolor": "white",
           "ticks": "",
           "title": {
            "standoff": 15
           },
           "zerolinecolor": "white",
           "zerolinewidth": 2
          },
          "yaxis": {
           "automargin": true,
           "gridcolor": "white",
           "linecolor": "white",
           "ticks": "",
           "title": {
            "standoff": 15
           },
           "zerolinecolor": "white",
           "zerolinewidth": 2
          }
         }
        },
        "title": {
         "font": {
          "size": 16
         },
         "text": "<b>II.b-Largest Month-Over-Month Increase in Fare Per Mile</b>",
         "x": 0.5,
         "xanchor": "center",
         "y": 0.97,
         "yanchor": "top"
        },
        "width": 1500
       }
      }
     },
     "metadata": {},
     "output_type": "display_data"
    }
   ],
   "source": [
    "from plotly import graph_objects as go  # Import Plotly graph_objects\n",
    "\n",
    "# Create a new Plotly figure for the table\n",
    "fig_iib = go.Figure()\n",
    "\n",
    "# Add a table to the figure using the insights_iia DataFrame\n",
    "fig_iib.add_trace(go.Table(\n",
    "    header=dict(\n",
    "        values=['<b>Taxi Company</b>', '<b>Trip Month</b>', '<b>Metric Insight</b>'],\n",
    "        fill_color='grey',\n",
    "        align='left',\n",
    "        font=dict(size=12, color='white')\n",
    "    ),\n",
    "    cells=dict(\n",
    "        values=[\n",
    "            insights_iib['Taxi_Company'], \n",
    "            insights_iib['Trip_Month'], \n",
    "            insights_iib['Metric_Insight']\n",
    "        ],\n",
    "        fill_color='lightgrey',\n",
    "        align='left',\n",
    "        font=dict(size=11, color='black')\n",
    "    )\n",
    "))\n",
    "\n",
    "# Update the layout to reduce white space below the table\n",
    "fig_iib.update_layout(\n",
    "    title={\n",
    "        'text': f\"<b>{insights_iib['Metric_Description'].iloc[0]}</b>\",\n",
    "        'y': 0.97,  # Position the title above the table\n",
    "        'x': 0.5,   # Center the title\n",
    "        'xanchor': 'center',\n",
    "        'yanchor': 'top',\n",
    "        'font': dict(size=16)\n",
    "    },\n",
    "    autosize=True,\n",
    "    width=1500,  # Set a fixed width to accommodate all columns\n",
    "    height=400,  # Reduce the height to minimize white space\n",
    "    margin=dict(l=10, r=10, t=50, b=10)  # Adjust margins for better spacing\n",
    ")\n",
    "\n",
    "# Adjust column widths to fit the data\n",
    "fig_iib.data[0].columnwidth = [1.5, 1, 5]  # Set proportional widths for Taxi Company, Trip Month, and Metric Insight\n",
    "\n",
    "# Display the interactive table\n",
    "fig_iib.show()\n"
   ]
  },
  {
   "cell_type": "markdown",
   "id": "9f5fc1e6",
   "metadata": {},
   "source": [
    "#### ✔ Show Some Potential Resons for Metric Deltas"
   ]
  },
  {
   "cell_type": "code",
   "execution_count": 27,
   "id": "f0fe2311",
   "metadata": {},
   "outputs": [
    {
     "data": {
      "text/markdown": [
       "### Potential Reasons for II.b-Largest Month-Over-Month Increase in Fare Per Mile:\n",
       "- Potential reasons could include:\n",
       "- Increased demand for premium services,\n",
       "- Adjustments to pricing models,\n",
       "- Reduced availability of discounts or promotions,\n",
       "- Longer trips with higher fares,\n",
       "- Seasonal or event-driven demand surges,\n",
       "- Operational changes to optimize revenue,\n",
       "- Changes in trip patterns or routes,\n",
       "- Economic factors influencing pricing,\n",
       "- Reduced competition or market consolidation."
      ],
      "text/plain": [
       "<IPython.core.display.Markdown object>"
      ]
     },
     "metadata": {},
     "output_type": "display_data"
    }
   ],
   "source": [
    "from IPython.display import Markdown, display\n",
    "\n",
    "# Extract the first row of Metric_Reasons for reasons_iia\n",
    "reasons_iib = insights_iib['Metric_Reasons'].iloc[0]\n",
    "# Apply sentence case to each reason\n",
    "formatted_reasons = '\\n- '.join(reason.strip().capitalize() for reason in reasons_iib.split('\\n- '))\n",
    "# Format and display the reasons\n",
    "formatted_reasons = f\"### Potential Reasons for {insights_iib['Metric_Description'].iloc[0]}:\\n- {formatted_reasons}\"\n",
    "display(Markdown(formatted_reasons))"
   ]
  },
  {
   "cell_type": "markdown",
   "id": "a66d45d9",
   "metadata": {},
   "source": [
    "#### ✔ Visualization"
   ]
  },
  {
   "cell_type": "markdown",
   "id": "f3b39144",
   "metadata": {},
   "source": [
    "##### ✔ Visualization: Percent Difference from Average (II.b Insights)"
   ]
  },
  {
   "cell_type": "code",
   "execution_count": 28,
   "id": "d11152a6",
   "metadata": {},
   "outputs": [
    {
     "data": {
      "application/vnd.plotly.v1+json": {
       "config": {
        "plotlyServerURL": "https://plot.ly"
       },
       "data": [
        {
         "hovertemplate": "Taxi Company=%{x}<br>Increase in Fare Per Mile ($)=%{marker.color}<br>text=%{text}<extra></extra>",
         "legendgroup": "",
         "marker": {
          "color": {
           "bdata": "VVVVVVVVNUCPwvUoXK83QB5dII1T50JA",
           "dtype": "f8"
          },
          "coloraxis": "coloraxis",
          "pattern": {
           "shape": ""
          }
         },
         "name": "",
         "orientation": "v",
         "showlegend": false,
         "text": [
          "21.33",
          "23.68",
          "37.81"
         ],
         "textposition": "outside",
         "type": "bar",
         "x": [
          "4732 - Maude Lamy",
          "Suburban Dispatch LLC",
          "Metro Jet Taxi A."
         ],
         "xaxis": "x",
         "y": {
          "bdata": "VVVVVVVVNUCPwvUoXK83QB5dII1T50JA",
          "dtype": "f8"
         },
         "yaxis": "y"
        }
       ],
       "layout": {
        "barmode": "relative",
        "coloraxis": {
         "cmax": 37.80723728256474,
         "cmin": 0,
         "colorbar": {
          "ticktext": [
           "Small",
           "Moderate",
           "Large"
          ],
          "tickvals": [
           0,
           18.90361864128237,
           37.80723728256474
          ],
          "title": {
           "text": "Increase in Fare ($)"
          }
         },
         "colorscale": [
          [
           0,
           "blue"
          ],
          [
           1,
           "green"
          ]
         ]
        },
        "legend": {
         "tracegroupgap": 0
        },
        "template": {
         "data": {
          "bar": [
           {
            "error_x": {
             "color": "#2a3f5f"
            },
            "error_y": {
             "color": "#2a3f5f"
            },
            "marker": {
             "line": {
              "color": "white",
              "width": 0.5
             },
             "pattern": {
              "fillmode": "overlay",
              "size": 10,
              "solidity": 0.2
             }
            },
            "type": "bar"
           }
          ],
          "barpolar": [
           {
            "marker": {
             "line": {
              "color": "white",
              "width": 0.5
             },
             "pattern": {
              "fillmode": "overlay",
              "size": 10,
              "solidity": 0.2
             }
            },
            "type": "barpolar"
           }
          ],
          "carpet": [
           {
            "aaxis": {
             "endlinecolor": "#2a3f5f",
             "gridcolor": "#C8D4E3",
             "linecolor": "#C8D4E3",
             "minorgridcolor": "#C8D4E3",
             "startlinecolor": "#2a3f5f"
            },
            "baxis": {
             "endlinecolor": "#2a3f5f",
             "gridcolor": "#C8D4E3",
             "linecolor": "#C8D4E3",
             "minorgridcolor": "#C8D4E3",
             "startlinecolor": "#2a3f5f"
            },
            "type": "carpet"
           }
          ],
          "choropleth": [
           {
            "colorbar": {
             "outlinewidth": 0,
             "ticks": ""
            },
            "type": "choropleth"
           }
          ],
          "contour": [
           {
            "colorbar": {
             "outlinewidth": 0,
             "ticks": ""
            },
            "colorscale": [
             [
              0,
              "#0d0887"
             ],
             [
              0.1111111111111111,
              "#46039f"
             ],
             [
              0.2222222222222222,
              "#7201a8"
             ],
             [
              0.3333333333333333,
              "#9c179e"
             ],
             [
              0.4444444444444444,
              "#bd3786"
             ],
             [
              0.5555555555555556,
              "#d8576b"
             ],
             [
              0.6666666666666666,
              "#ed7953"
             ],
             [
              0.7777777777777778,
              "#fb9f3a"
             ],
             [
              0.8888888888888888,
              "#fdca26"
             ],
             [
              1,
              "#f0f921"
             ]
            ],
            "type": "contour"
           }
          ],
          "contourcarpet": [
           {
            "colorbar": {
             "outlinewidth": 0,
             "ticks": ""
            },
            "type": "contourcarpet"
           }
          ],
          "heatmap": [
           {
            "colorbar": {
             "outlinewidth": 0,
             "ticks": ""
            },
            "colorscale": [
             [
              0,
              "#0d0887"
             ],
             [
              0.1111111111111111,
              "#46039f"
             ],
             [
              0.2222222222222222,
              "#7201a8"
             ],
             [
              0.3333333333333333,
              "#9c179e"
             ],
             [
              0.4444444444444444,
              "#bd3786"
             ],
             [
              0.5555555555555556,
              "#d8576b"
             ],
             [
              0.6666666666666666,
              "#ed7953"
             ],
             [
              0.7777777777777778,
              "#fb9f3a"
             ],
             [
              0.8888888888888888,
              "#fdca26"
             ],
             [
              1,
              "#f0f921"
             ]
            ],
            "type": "heatmap"
           }
          ],
          "histogram": [
           {
            "marker": {
             "pattern": {
              "fillmode": "overlay",
              "size": 10,
              "solidity": 0.2
             }
            },
            "type": "histogram"
           }
          ],
          "histogram2d": [
           {
            "colorbar": {
             "outlinewidth": 0,
             "ticks": ""
            },
            "colorscale": [
             [
              0,
              "#0d0887"
             ],
             [
              0.1111111111111111,
              "#46039f"
             ],
             [
              0.2222222222222222,
              "#7201a8"
             ],
             [
              0.3333333333333333,
              "#9c179e"
             ],
             [
              0.4444444444444444,
              "#bd3786"
             ],
             [
              0.5555555555555556,
              "#d8576b"
             ],
             [
              0.6666666666666666,
              "#ed7953"
             ],
             [
              0.7777777777777778,
              "#fb9f3a"
             ],
             [
              0.8888888888888888,
              "#fdca26"
             ],
             [
              1,
              "#f0f921"
             ]
            ],
            "type": "histogram2d"
           }
          ],
          "histogram2dcontour": [
           {
            "colorbar": {
             "outlinewidth": 0,
             "ticks": ""
            },
            "colorscale": [
             [
              0,
              "#0d0887"
             ],
             [
              0.1111111111111111,
              "#46039f"
             ],
             [
              0.2222222222222222,
              "#7201a8"
             ],
             [
              0.3333333333333333,
              "#9c179e"
             ],
             [
              0.4444444444444444,
              "#bd3786"
             ],
             [
              0.5555555555555556,
              "#d8576b"
             ],
             [
              0.6666666666666666,
              "#ed7953"
             ],
             [
              0.7777777777777778,
              "#fb9f3a"
             ],
             [
              0.8888888888888888,
              "#fdca26"
             ],
             [
              1,
              "#f0f921"
             ]
            ],
            "type": "histogram2dcontour"
           }
          ],
          "mesh3d": [
           {
            "colorbar": {
             "outlinewidth": 0,
             "ticks": ""
            },
            "type": "mesh3d"
           }
          ],
          "parcoords": [
           {
            "line": {
             "colorbar": {
              "outlinewidth": 0,
              "ticks": ""
             }
            },
            "type": "parcoords"
           }
          ],
          "pie": [
           {
            "automargin": true,
            "type": "pie"
           }
          ],
          "scatter": [
           {
            "fillpattern": {
             "fillmode": "overlay",
             "size": 10,
             "solidity": 0.2
            },
            "type": "scatter"
           }
          ],
          "scatter3d": [
           {
            "line": {
             "colorbar": {
              "outlinewidth": 0,
              "ticks": ""
             }
            },
            "marker": {
             "colorbar": {
              "outlinewidth": 0,
              "ticks": ""
             }
            },
            "type": "scatter3d"
           }
          ],
          "scattercarpet": [
           {
            "marker": {
             "colorbar": {
              "outlinewidth": 0,
              "ticks": ""
             }
            },
            "type": "scattercarpet"
           }
          ],
          "scattergeo": [
           {
            "marker": {
             "colorbar": {
              "outlinewidth": 0,
              "ticks": ""
             }
            },
            "type": "scattergeo"
           }
          ],
          "scattergl": [
           {
            "marker": {
             "colorbar": {
              "outlinewidth": 0,
              "ticks": ""
             }
            },
            "type": "scattergl"
           }
          ],
          "scattermap": [
           {
            "marker": {
             "colorbar": {
              "outlinewidth": 0,
              "ticks": ""
             }
            },
            "type": "scattermap"
           }
          ],
          "scattermapbox": [
           {
            "marker": {
             "colorbar": {
              "outlinewidth": 0,
              "ticks": ""
             }
            },
            "type": "scattermapbox"
           }
          ],
          "scatterpolar": [
           {
            "marker": {
             "colorbar": {
              "outlinewidth": 0,
              "ticks": ""
             }
            },
            "type": "scatterpolar"
           }
          ],
          "scatterpolargl": [
           {
            "marker": {
             "colorbar": {
              "outlinewidth": 0,
              "ticks": ""
             }
            },
            "type": "scatterpolargl"
           }
          ],
          "scatterternary": [
           {
            "marker": {
             "colorbar": {
              "outlinewidth": 0,
              "ticks": ""
             }
            },
            "type": "scatterternary"
           }
          ],
          "surface": [
           {
            "colorbar": {
             "outlinewidth": 0,
             "ticks": ""
            },
            "colorscale": [
             [
              0,
              "#0d0887"
             ],
             [
              0.1111111111111111,
              "#46039f"
             ],
             [
              0.2222222222222222,
              "#7201a8"
             ],
             [
              0.3333333333333333,
              "#9c179e"
             ],
             [
              0.4444444444444444,
              "#bd3786"
             ],
             [
              0.5555555555555556,
              "#d8576b"
             ],
             [
              0.6666666666666666,
              "#ed7953"
             ],
             [
              0.7777777777777778,
              "#fb9f3a"
             ],
             [
              0.8888888888888888,
              "#fdca26"
             ],
             [
              1,
              "#f0f921"
             ]
            ],
            "type": "surface"
           }
          ],
          "table": [
           {
            "cells": {
             "fill": {
              "color": "#EBF0F8"
             },
             "line": {
              "color": "white"
             }
            },
            "header": {
             "fill": {
              "color": "#C8D4E3"
             },
             "line": {
              "color": "white"
             }
            },
            "type": "table"
           }
          ]
         },
         "layout": {
          "annotationdefaults": {
           "arrowcolor": "#2a3f5f",
           "arrowhead": 0,
           "arrowwidth": 1
          },
          "autotypenumbers": "strict",
          "coloraxis": {
           "colorbar": {
            "outlinewidth": 0,
            "ticks": ""
           }
          },
          "colorscale": {
           "diverging": [
            [
             0,
             "#8e0152"
            ],
            [
             0.1,
             "#c51b7d"
            ],
            [
             0.2,
             "#de77ae"
            ],
            [
             0.3,
             "#f1b6da"
            ],
            [
             0.4,
             "#fde0ef"
            ],
            [
             0.5,
             "#f7f7f7"
            ],
            [
             0.6,
             "#e6f5d0"
            ],
            [
             0.7,
             "#b8e186"
            ],
            [
             0.8,
             "#7fbc41"
            ],
            [
             0.9,
             "#4d9221"
            ],
            [
             1,
             "#276419"
            ]
           ],
           "sequential": [
            [
             0,
             "#0d0887"
            ],
            [
             0.1111111111111111,
             "#46039f"
            ],
            [
             0.2222222222222222,
             "#7201a8"
            ],
            [
             0.3333333333333333,
             "#9c179e"
            ],
            [
             0.4444444444444444,
             "#bd3786"
            ],
            [
             0.5555555555555556,
             "#d8576b"
            ],
            [
             0.6666666666666666,
             "#ed7953"
            ],
            [
             0.7777777777777778,
             "#fb9f3a"
            ],
            [
             0.8888888888888888,
             "#fdca26"
            ],
            [
             1,
             "#f0f921"
            ]
           ],
           "sequentialminus": [
            [
             0,
             "#0d0887"
            ],
            [
             0.1111111111111111,
             "#46039f"
            ],
            [
             0.2222222222222222,
             "#7201a8"
            ],
            [
             0.3333333333333333,
             "#9c179e"
            ],
            [
             0.4444444444444444,
             "#bd3786"
            ],
            [
             0.5555555555555556,
             "#d8576b"
            ],
            [
             0.6666666666666666,
             "#ed7953"
            ],
            [
             0.7777777777777778,
             "#fb9f3a"
            ],
            [
             0.8888888888888888,
             "#fdca26"
            ],
            [
             1,
             "#f0f921"
            ]
           ]
          },
          "colorway": [
           "#636efa",
           "#EF553B",
           "#00cc96",
           "#ab63fa",
           "#FFA15A",
           "#19d3f3",
           "#FF6692",
           "#B6E880",
           "#FF97FF",
           "#FECB52"
          ],
          "font": {
           "color": "#2a3f5f"
          },
          "geo": {
           "bgcolor": "white",
           "lakecolor": "white",
           "landcolor": "white",
           "showlakes": true,
           "showland": true,
           "subunitcolor": "#C8D4E3"
          },
          "hoverlabel": {
           "align": "left"
          },
          "hovermode": "closest",
          "mapbox": {
           "style": "light"
          },
          "paper_bgcolor": "white",
          "plot_bgcolor": "white",
          "polar": {
           "angularaxis": {
            "gridcolor": "#EBF0F8",
            "linecolor": "#EBF0F8",
            "ticks": ""
           },
           "bgcolor": "white",
           "radialaxis": {
            "gridcolor": "#EBF0F8",
            "linecolor": "#EBF0F8",
            "ticks": ""
           }
          },
          "scene": {
           "xaxis": {
            "backgroundcolor": "white",
            "gridcolor": "#DFE8F3",
            "gridwidth": 2,
            "linecolor": "#EBF0F8",
            "showbackground": true,
            "ticks": "",
            "zerolinecolor": "#EBF0F8"
           },
           "yaxis": {
            "backgroundcolor": "white",
            "gridcolor": "#DFE8F3",
            "gridwidth": 2,
            "linecolor": "#EBF0F8",
            "showbackground": true,
            "ticks": "",
            "zerolinecolor": "#EBF0F8"
           },
           "zaxis": {
            "backgroundcolor": "white",
            "gridcolor": "#DFE8F3",
            "gridwidth": 2,
            "linecolor": "#EBF0F8",
            "showbackground": true,
            "ticks": "",
            "zerolinecolor": "#EBF0F8"
           }
          },
          "shapedefaults": {
           "line": {
            "color": "#2a3f5f"
           }
          },
          "ternary": {
           "aaxis": {
            "gridcolor": "#DFE8F3",
            "linecolor": "#A2B1C6",
            "ticks": ""
           },
           "baxis": {
            "gridcolor": "#DFE8F3",
            "linecolor": "#A2B1C6",
            "ticks": ""
           },
           "bgcolor": "white",
           "caxis": {
            "gridcolor": "#DFE8F3",
            "linecolor": "#A2B1C6",
            "ticks": ""
           }
          },
          "title": {
           "x": 0.05
          },
          "xaxis": {
           "automargin": true,
           "gridcolor": "#EBF0F8",
           "linecolor": "#EBF0F8",
           "ticks": "",
           "title": {
            "standoff": 15
           },
           "zerolinecolor": "#EBF0F8",
           "zerolinewidth": 2
          },
          "yaxis": {
           "automargin": true,
           "gridcolor": "#EBF0F8",
           "linecolor": "#EBF0F8",
           "ticks": "",
           "title": {
            "standoff": 15
           },
           "zerolinecolor": "#EBF0F8",
           "zerolinewidth": 2
          }
         }
        },
        "title": {
         "text": "Increase in Fare Per Mile (by Company) (II.b Insights)",
         "x": 0.5,
         "xanchor": "center",
         "yanchor": "top"
        },
        "xaxis": {
         "anchor": "y",
         "domain": [
          0,
          1
         ],
         "title": {
          "text": "Taxi Company"
         }
        },
        "yaxis": {
         "anchor": "x",
         "domain": [
          0,
          1
         ],
         "range": [
          0,
          41.58796101082122
         ],
         "title": {
          "text": "Increase in Fare Per Mile ($)"
         }
        }
       }
      }
     },
     "metadata": {},
     "output_type": "display_data"
    }
   ],
   "source": [
    "# This visualization provides insights into the increase in fare per mile for each taxi company.\n",
    "# - The x-axis represents the taxi companies.\n",
    "# - The y-axis shows the increase in fare per mile.\n",
    "# - The bars are color-coded to indicate the magnitude of the increase:\n",
    "#   - Blue for small increases, transitioning to green for large increases.\n",
    "# - The text on the bars displays the exact increase in fare per mile for better readability.\n",
    "# - This chart helps identify which taxi companies experienced significant increases in fare per mile.\n",
    "\n",
    "import plotly.express as px\n",
    "\n",
    "# Ensure Metric_Delta is numeric using .loc to avoid SettingWithCopyWarning\n",
    "insights_iib.loc[:, 'Metric_Delta'] = insights_iib['Metric_Delta'].astype(float)\n",
    "\n",
    "# Create a bar chart for Metric_Delta\n",
    "fig_fare_increase = px.bar(\n",
    "    insights_iib,\n",
    "    x='Taxi_Company',\n",
    "    y='Metric_Delta',\n",
    "    color='Metric_Delta',\n",
    "    text=insights_iib['Metric_Delta'].round(2).astype(str),\n",
    "    title='Increase in Fare Per Mile (by Company) (II.b Insights)',\n",
    "    labels={\n",
    "        'Taxi_Company': 'Taxi Company',\n",
    "        'Metric_Delta': 'Increase in Fare Per Mile ($)'\n",
    "    },\n",
    "    color_continuous_scale=['blue', 'green'],  # Blue for small, green for large\n",
    "    range_color=[0, insights_iib['Metric_Delta'].max()],\n",
    "    template='plotly_white'\n",
    ")\n",
    "\n",
    "# Update layout for better readability and adjust y-axis range\n",
    "fig_fare_increase.update_layout(\n",
    "    xaxis_title='Taxi Company',\n",
    "    yaxis_title='Increase in Fare Per Mile ($)',\n",
    "    yaxis=dict(range=[0, insights_iib['Metric_Delta'].max() * 1.1]),\n",
    "    title={\n",
    "        'x': 0.5,\n",
    "        'xanchor': 'center',\n",
    "        'yanchor': 'top'\n",
    "    },\n",
    "    coloraxis_colorbar=dict(\n",
    "        title='Increase in Fare ($)',\n",
    "        tickvals=[0, insights_iib['Metric_Delta'].max() / 2, insights_iib['Metric_Delta'].max()],\n",
    "        ticktext=['Small', 'Moderate', 'Large']\n",
    "    )\n",
    ")\n",
    "\n",
    "# Add text formatting for better readability\n",
    "fig_fare_increase.update_traces(textposition='outside')\n",
    "\n",
    "# Show the chart\n",
    "fig_fare_increase.show()"
   ]
  },
  {
   "cell_type": "markdown",
   "id": "0f43f766",
   "metadata": {},
   "source": [
    "# PART II Extra Analysis - TBD"
   ]
  },
  {
   "cell_type": "markdown",
   "id": "1e99aedc",
   "metadata": {},
   "source": [
    "#### Some Info About the Dataset\n",
    "This query analyzes Chicago taxi trip data by aggregating and joining it with geographic information with City info like Census Pop. \n",
    "    It calculates various metrics such as average speed, revenue, and trip density, and includes window functions \n",
    "    to rank and compare performance across cities and companies."
   ]
  },
  {
   "cell_type": "code",
   "execution_count": 29,
   "id": "feb8e201",
   "metadata": {},
   "outputs": [
    {
     "name": "stdout",
     "output_type": "stream",
     "text": [
      "SQL code loaded successfully.\n"
     ]
    }
   ],
   "source": [
    "# Define the path to the SQL file\n",
    "# Define the file name as a variable for easier maintenance\n",
    "file_name = 'Chi_Taxi_Trip_Insights_Branch_Part_II_Extra.bqsql'\n",
    "\n",
    "# Dynamically construct the absolute path to the SQL file\n",
    "sql_file_path = os.path.abspath(os.path.join('C:\\\\Users\\\\mike\\\\Develop\\\\Projects\\\\Code Notebook\\\\Datasets\\\\Chicago Taxi Trips', file_name))\n",
    "\n",
    "# Check if the file exists and load the SQL code into a variable\n",
    "if os.path.exists(sql_file_path):\n",
    "    with open(sql_file_path, 'r') as sql_file:\n",
    "        sql_code = sql_file.read()\n",
    "    print(\"SQL code loaded successfully.\")\n",
    "else:\n",
    "    print(f\"File not found: {sql_file_path}\")"
   ]
  },
  {
   "cell_type": "code",
   "execution_count": 30,
   "id": "721034d6",
   "metadata": {},
   "outputs": [
    {
     "data": {
      "text/html": [
       "<div class=\"highlight\" style=\"background: #ffffff\"><pre style=\"line-height: 125%;\"><span></span><span style=\"color: #888888; font-style: italic\">-- Part II: Extra Insights and Analytics on Chicago Taxi Trips</span>\n",
       "<span style=\"color: #888888; font-style: italic\">/*</span>\n",
       "<span style=\"color: #888888; font-style: italic\">        AI Generated:</span>\n",
       "<span style=\"color: #888888; font-style: italic\">        This query analyzes Chicago taxi trip data by aggregating and joining it with geographic information. </span>\n",
       "<span style=\"color: #888888; font-style: italic\">        It calculates various metrics such as average speed, revenue, and trip density, and includes window functions </span>\n",
       "<span style=\"color: #888888; font-style: italic\">        to rank and compare performance across cities and companies. The query is optimized for readability and performance.</span>\n",
       "\n",
       "<span style=\"color: #888888; font-style: italic\">        Output Columns:</span>\n",
       "<span style=\"color: #888888; font-style: italic\">        1. trip_quarter: Quarter of the trip.</span>\n",
       "<span style=\"color: #888888; font-style: italic\">        2. taxi_company: Taxi company name.</span>\n",
       "<span style=\"color: #888888; font-style: italic\">        3. city: City associated with the trip.</span>\n",
       "<span style=\"color: #888888; font-style: italic\">        4. city_population: Average population of the city.</span>\n",
       "<span style=\"color: #888888; font-style: italic\">        5. total_trips: Total number of trips.</span>\n",
       "<span style=\"color: #888888; font-style: italic\">        6. unique_taxis: Number of unique taxis.</span>\n",
       "<span style=\"color: #888888; font-style: italic\">        7. total_trip_seconds: Total trip duration in seconds.</span>\n",
       "<span style=\"color: #888888; font-style: italic\">        8. avg_trip_seconds: Average trip duration in seconds.</span>\n",
       "<span style=\"color: #888888; font-style: italic\">        9. total_trip_miles: Total trip distance in miles.</span>\n",
       "<span style=\"color: #888888; font-style: italic\">        10. avg_trip_miles: Average trip distance in miles.</span>\n",
       "<span style=\"color: #888888; font-style: italic\">        11. total_fare: Total fare amount.</span>\n",
       "<span style=\"color: #888888; font-style: italic\">        12. avg_fare: Average fare amount.</span>\n",
       "<span style=\"color: #888888; font-style: italic\">        13. total_tips: Total tips amount.</span>\n",
       "<span style=\"color: #888888; font-style: italic\">        14. avg_tips: Average tips amount.</span>\n",
       "<span style=\"color: #888888; font-style: italic\">        15. avg_pickup_latitude: Average pickup latitude.</span>\n",
       "<span style=\"color: #888888; font-style: italic\">        16. avg_pickup_longitude: Average pickup longitude.</span>\n",
       "<span style=\"color: #888888; font-style: italic\">        17. avg_mph_per_trip: Average speed in miles per hour.</span>\n",
       "<span style=\"color: #888888; font-style: italic\">        18. avg_tips_per_hour: Average tips per hour.</span>\n",
       "<span style=\"color: #888888; font-style: italic\">        19. avg_fare_per_mile: Average fare per mile.</span>\n",
       "<span style=\"color: #888888; font-style: italic\">        20. avg_trip_duration_minutes: Average trip duration in minutes.</span>\n",
       "<span style=\"color: #888888; font-style: italic\">        21. avg_total_revenue_per_trip: Average total revenue per trip.</span>\n",
       "<span style=\"color: #888888; font-style: italic\">        22. revenue_rank_within_city: Rank by total revenue within city.</span>\n",
       "<span style=\"color: #888888; font-style: italic\">        23. trip_count_rank_within_city: Rank by total trips within city.</span>\n",
       "<span style=\"color: #888888; font-style: italic\">        24. fare_percentile_within_city: Percentile of avg fare within city.</span>\n",
       "<span style=\"color: #888888; font-style: italic\">        25. total_revenue_per_city: Total revenue per city.</span>\n",
       "<span style=\"color: #888888; font-style: italic\">        26. revenue_rank_within_company: Rank by total revenue within company.</span>\n",
       "<span style=\"color: #888888; font-style: italic\">        27. total_revenue_per_company: Total revenue per company.</span>\n",
       "<span style=\"color: #888888; font-style: italic\">        28. revenue_contribution_percentage: Revenue contribution by city and company.</span>\n",
       "<span style=\"color: #888888; font-style: italic\">        29. trips_per_population: Proxy for trip density.</span>\n",
       "<span style=\"color: #888888; font-style: italic\">        30. avg_trips_per_taxi: Average trips per unique taxi.</span>\n",
       "<span style=\"color: #888888; font-style: italic\">        31. avg_revenue_trend: Revenue trend by city.</span>\n",
       "\n",
       "<span style=\"color: #888888; font-style: italic\">        Insights Offered:</span>\n",
       "<span style=\"color: #888888; font-style: italic\">        - Average speed and trip duration provide insights into traffic conditions and trip efficiency.</span>\n",
       "<span style=\"color: #888888; font-style: italic\">        - Revenue metrics help evaluate the financial performance of trips and companies.</span>\n",
       "<span style=\"color: #888888; font-style: italic\">        - Trip density highlights areas with high taxi demand, useful for resource allocation.</span>\n",
       "<span style=\"color: #888888; font-style: italic\">        - City and company rankings enable comparative analysis across geographic and organizational dimensions.</span>\n",
       "<span style=\"color: #888888; font-style: italic\">        - Revenue trends by city help identify seasonal or quarterly patterns.</span>\n",
       "<span style=\"color: #888888; font-style: italic\">        - Revenue contribution percentages show the impact of specific cities and companies on overall revenue.</span>\n",
       "<span style=\"color: #888888; font-style: italic\">        - Fare percentiles within cities provide a measure of fare distribution and competitiveness.</span>\n",
       "\n",
       "<span style=\"color: #888888; font-style: italic\">        Sections:</span>\n",
       "<span style=\"color: #888888; font-style: italic\">        1. Taxi_Trips: Filters and prepares the raw taxi trip data.</span>\n",
       "<span style=\"color: #888888; font-style: italic\">        2. Trip_City_Pop: Joins taxi trips with geographic data and filters out invalid rows.</span>\n",
       "<span style=\"color: #888888; font-style: italic\">        3. Final SELECT: Aggregates data, calculates metrics, and applies window functions for analysis.</span>\n",
       "<span style=\"color: #888888; font-style: italic\">*/</span>\n",
       "<span style=\"color: #e36209; font-weight: bold\">#</span> <span style=\"color: #005cc5; font-weight: bold\">CREATE</span> <span style=\"color: #005cc5; font-weight: bold\">OR</span> <span style=\"color: #005cc5; font-weight: bold\">REPLACE</span> <span style=\"color: #005cc5; font-weight: bold\">TABLE</span> <span style=\"color: #e36209; font-weight: bold\">`</span><span style=\"color: #22863a; font-weight: bold\">mikecancell</span><span style=\"color: #e36209; font-weight: bold\">-</span><span style=\"color: #22863a; font-weight: bold\">development</span><span style=\"color: #24292e; font-weight: bold\">.</span><span style=\"color: #22863a; font-weight: bold\">Chicago_Taxi_Trips</span><span style=\"color: #24292e; font-weight: bold\">.</span><span style=\"color: #22863a; font-weight: bold\">Chi_Taxi_Geo_Data_Joined_Grouped</span><span style=\"color: #e36209; font-weight: bold\">`</span> <span style=\"color: #005cc5; font-weight: bold\">AS</span>\n",
       "    <span style=\"color: #005cc5; font-weight: bold\">WITH</span> \n",
       "        <span style=\"color: #22863a; font-weight: bold\">Taxi_Trips</span> <span style=\"color: #005cc5; font-weight: bold\">AS</span> <span style=\"color: #24292e; font-weight: bold\">(</span>\n",
       "            <span style=\"color: #888888; font-style: italic\">/* </span>\n",
       "<span style=\"color: #888888; font-style: italic\">                Section 1: Taxi_Trips</span>\n",
       "<span style=\"color: #888888; font-style: italic\">                Filters and prepares the raw taxi trip data by selecting relevant columns and removing invalid rows.</span>\n",
       "<span style=\"color: #888888; font-style: italic\">            */</span>\n",
       "            <span style=\"color: #005cc5; font-weight: bold\">SELECT</span>\n",
       "                <span style=\"color: #22863a; font-weight: bold\">DATE_TRUNC</span><span style=\"color: #24292e; font-weight: bold\">(</span><span style=\"color: #22863a; font-weight: bold\">trip_start_timestamp</span><span style=\"color: #24292e; font-weight: bold\">,</span> <span style=\"color: #22863a; font-weight: bold\">QUARTER</span><span style=\"color: #24292e; font-weight: bold\">)</span> <span style=\"color: #005cc5; font-weight: bold\">AS</span> <span style=\"color: #22863a; font-weight: bold\">trip_quarter</span><span style=\"color: #24292e; font-weight: bold\">,</span> <span style=\"color: #888888; font-style: italic\">-- Extracts the quarter from the trip start timestamp</span>\n",
       "                <span style=\"color: #22863a; font-weight: bold\">company</span> <span style=\"color: #005cc5; font-weight: bold\">AS</span> <span style=\"color: #22863a; font-weight: bold\">taxi_company</span><span style=\"color: #24292e; font-weight: bold\">,</span> <span style=\"color: #888888; font-style: italic\">-- Taxi company name</span>\n",
       "                <span style=\"color: #22863a; font-weight: bold\">pickup_latitude</span><span style=\"color: #24292e; font-weight: bold\">,</span> <span style=\"color: #888888; font-style: italic\">-- Latitude of the pickup location</span>\n",
       "                <span style=\"color: #22863a; font-weight: bold\">pickup_longitude</span><span style=\"color: #24292e; font-weight: bold\">,</span> <span style=\"color: #888888; font-style: italic\">-- Longitude of the pickup location</span>\n",
       "                <span style=\"color: #22863a; font-weight: bold\">trip_seconds</span><span style=\"color: #24292e; font-weight: bold\">,</span> <span style=\"color: #888888; font-style: italic\">-- Duration of the trip in seconds</span>\n",
       "                <span style=\"color: #22863a; font-weight: bold\">trip_miles</span><span style=\"color: #24292e; font-weight: bold\">,</span> <span style=\"color: #888888; font-style: italic\">-- Distance of the trip in miles</span>\n",
       "                <span style=\"color: #22863a; font-weight: bold\">fare</span><span style=\"color: #24292e; font-weight: bold\">,</span> <span style=\"color: #888888; font-style: italic\">-- Fare amount for the trip</span>\n",
       "                <span style=\"color: #22863a; font-weight: bold\">tips</span><span style=\"color: #24292e; font-weight: bold\">,</span> <span style=\"color: #888888; font-style: italic\">-- Tips amount for the trip</span>\n",
       "                <span style=\"color: #22863a; font-weight: bold\">taxi_id</span><span style=\"color: #24292e; font-weight: bold\">,</span> <span style=\"color: #888888; font-style: italic\">-- Unique identifier for the taxi</span>\n",
       "                <span style=\"color: #22863a; font-weight: bold\">unique_key</span> <span style=\"color: #888888; font-style: italic\">-- Unique identifier for the trip</span>\n",
       "            <span style=\"color: #005cc5; font-weight: bold\">FROM</span> <span style=\"color: #e36209; font-weight: bold\">`</span><span style=\"color: #22863a; font-weight: bold\">bigquery</span><span style=\"color: #e36209; font-weight: bold\">-</span><span style=\"color: #005cc5; font-weight: bold\">public</span><span style=\"color: #e36209; font-weight: bold\">-</span><span style=\"color: #005cc5; font-weight: bold\">data</span><span style=\"color: #24292e; font-weight: bold\">.</span><span style=\"color: #22863a; font-weight: bold\">chicago_taxi_trips</span><span style=\"color: #24292e; font-weight: bold\">.</span><span style=\"color: #22863a; font-weight: bold\">taxi_trips</span><span style=\"color: #e36209; font-weight: bold\">`</span>\n",
       "            <span style=\"color: #005cc5; font-weight: bold\">WHERE</span>\n",
       "                <span style=\"color: #22863a; font-weight: bold\">company</span> <span style=\"color: #005cc5; font-weight: bold\">IS</span> <span style=\"color: #005cc5; font-weight: bold\">NOT</span> <span style=\"color: #005cc5; font-weight: bold\">NULL</span> <span style=\"color: #888888; font-style: italic\">-- Exclude trips with no company information</span>\n",
       "                <span style=\"color: #005cc5; font-weight: bold\">AND</span> <span style=\"color: #22863a; font-weight: bold\">trip_seconds</span> <span style=\"color: #005cc5; font-weight: bold\">IS</span> <span style=\"color: #005cc5; font-weight: bold\">NOT</span> <span style=\"color: #005cc5; font-weight: bold\">NULL</span> <span style=\"color: #888888; font-style: italic\">-- Exclude trips with no duration</span>\n",
       "                <span style=\"color: #005cc5; font-weight: bold\">AND</span> <span style=\"color: #22863a; font-weight: bold\">fare</span> <span style=\"color: #005cc5; font-weight: bold\">IS</span> <span style=\"color: #005cc5; font-weight: bold\">NOT</span> <span style=\"color: #005cc5; font-weight: bold\">NULL</span> <span style=\"color: #888888; font-style: italic\">-- Exclude trips with no fare</span>\n",
       "                <span style=\"color: #005cc5; font-weight: bold\">AND</span> <span style=\"color: #22863a; font-weight: bold\">trip_start_timestamp</span> <span style=\"color: #005cc5; font-weight: bold\">IS</span> <span style=\"color: #005cc5; font-weight: bold\">NOT</span> <span style=\"color: #005cc5; font-weight: bold\">NULL</span> <span style=\"color: #888888; font-style: italic\">-- Exclude trips with no start timestamp</span>\n",
       "                <span style=\"color: #005cc5; font-weight: bold\">AND</span> <span style=\"color: #22863a; font-weight: bold\">pickup_latitude</span> <span style=\"color: #005cc5; font-weight: bold\">IS</span> <span style=\"color: #005cc5; font-weight: bold\">NOT</span> <span style=\"color: #005cc5; font-weight: bold\">NULL</span> <span style=\"color: #888888; font-style: italic\">-- Exclude trips with no pickup latitude</span>\n",
       "                <span style=\"color: #005cc5; font-weight: bold\">AND</span> <span style=\"color: #22863a; font-weight: bold\">pickup_longitude</span> <span style=\"color: #005cc5; font-weight: bold\">IS</span> <span style=\"color: #005cc5; font-weight: bold\">NOT</span> <span style=\"color: #005cc5; font-weight: bold\">NULL</span> <span style=\"color: #888888; font-style: italic\">-- Exclude trips with no pickup longitude</span>\n",
       "        <span style=\"color: #24292e; font-weight: bold\">),</span>\n",
       "        <span style=\"color: #22863a; font-weight: bold\">Trip_City_Pop</span> <span style=\"color: #005cc5; font-weight: bold\">AS</span> <span style=\"color: #24292e; font-weight: bold\">(</span>\n",
       "            <span style=\"color: #888888; font-style: italic\">/* </span>\n",
       "<span style=\"color: #888888; font-style: italic\">                Section 2: Trip_City_Pop</span>\n",
       "<span style=\"color: #888888; font-style: italic\">                Joins the filtered taxi trip data with geographic data to associate trips with cities and populations.</span>\n",
       "<span style=\"color: #888888; font-style: italic\">                Filters out rows where the city is NULL.</span>\n",
       "<span style=\"color: #888888; font-style: italic\">            */</span>\n",
       "            <span style=\"color: #005cc5; font-weight: bold\">SELECT</span>\n",
       "                <span style=\"color: #22863a; font-weight: bold\">trips</span><span style=\"color: #24292e; font-weight: bold\">.</span><span style=\"color: #22863a; font-weight: bold\">trip_quarter</span><span style=\"color: #24292e; font-weight: bold\">,</span> <span style=\"color: #888888; font-style: italic\">-- Quarter of the trip</span>\n",
       "                <span style=\"color: #22863a; font-weight: bold\">trips</span><span style=\"color: #24292e; font-weight: bold\">.</span><span style=\"color: #22863a; font-weight: bold\">taxi_company</span><span style=\"color: #24292e; font-weight: bold\">,</span> <span style=\"color: #888888; font-style: italic\">-- Taxi company name</span>\n",
       "                <span style=\"color: #22863a; font-weight: bold\">geo</span><span style=\"color: #24292e; font-weight: bold\">.</span><span style=\"color: #22863a; font-weight: bold\">city</span> <span style=\"color: #005cc5; font-weight: bold\">AS</span> <span style=\"color: #22863a; font-weight: bold\">city</span><span style=\"color: #24292e; font-weight: bold\">,</span> <span style=\"color: #888888; font-style: italic\">-- City associated with the trip</span>\n",
       "                <span style=\"color: #22863a; font-weight: bold\">geo</span><span style=\"color: #24292e; font-weight: bold\">.</span><span style=\"color: #22863a; font-weight: bold\">population</span> <span style=\"color: #005cc5; font-weight: bold\">AS</span> <span style=\"color: #22863a; font-weight: bold\">city_population</span><span style=\"color: #24292e; font-weight: bold\">,</span> <span style=\"color: #888888; font-style: italic\">-- Population of the city</span>\n",
       "                <span style=\"color: #22863a; font-weight: bold\">trips</span><span style=\"color: #24292e; font-weight: bold\">.</span><span style=\"color: #22863a; font-weight: bold\">trip_seconds</span><span style=\"color: #24292e; font-weight: bold\">,</span> <span style=\"color: #888888; font-style: italic\">-- Duration of the trip in seconds</span>\n",
       "                <span style=\"color: #22863a; font-weight: bold\">trips</span><span style=\"color: #24292e; font-weight: bold\">.</span><span style=\"color: #22863a; font-weight: bold\">trip_miles</span><span style=\"color: #24292e; font-weight: bold\">,</span> <span style=\"color: #888888; font-style: italic\">-- Distance of the trip in miles</span>\n",
       "                <span style=\"color: #22863a; font-weight: bold\">trips</span><span style=\"color: #24292e; font-weight: bold\">.</span><span style=\"color: #22863a; font-weight: bold\">fare</span><span style=\"color: #24292e; font-weight: bold\">,</span> <span style=\"color: #888888; font-style: italic\">-- Fare amount for the trip</span>\n",
       "                <span style=\"color: #22863a; font-weight: bold\">trips</span><span style=\"color: #24292e; font-weight: bold\">.</span><span style=\"color: #22863a; font-weight: bold\">tips</span><span style=\"color: #24292e; font-weight: bold\">,</span> <span style=\"color: #888888; font-style: italic\">-- Tips amount for the trip</span>\n",
       "                <span style=\"color: #22863a; font-weight: bold\">trips</span><span style=\"color: #24292e; font-weight: bold\">.</span><span style=\"color: #22863a; font-weight: bold\">pickup_latitude</span><span style=\"color: #24292e; font-weight: bold\">,</span> <span style=\"color: #888888; font-style: italic\">-- Latitude of the pickup location</span>\n",
       "                <span style=\"color: #22863a; font-weight: bold\">trips</span><span style=\"color: #24292e; font-weight: bold\">.</span><span style=\"color: #22863a; font-weight: bold\">pickup_longitude</span><span style=\"color: #24292e; font-weight: bold\">,</span> <span style=\"color: #888888; font-style: italic\">-- Longitude of the pickup location</span>\n",
       "                <span style=\"color: #22863a; font-weight: bold\">trips</span><span style=\"color: #24292e; font-weight: bold\">.</span><span style=\"color: #22863a; font-weight: bold\">taxi_id</span><span style=\"color: #24292e; font-weight: bold\">,</span> <span style=\"color: #888888; font-style: italic\">-- Unique identifier for the taxi</span>\n",
       "                <span style=\"color: #22863a; font-weight: bold\">trips</span><span style=\"color: #24292e; font-weight: bold\">.</span><span style=\"color: #22863a; font-weight: bold\">unique_key</span> <span style=\"color: #888888; font-style: italic\">-- Unique identifier for the trip</span>\n",
       "            <span style=\"color: #005cc5; font-weight: bold\">FROM</span> <span style=\"color: #22863a; font-weight: bold\">Taxi_Trips</span> <span style=\"color: #22863a; font-weight: bold\">trips</span>\n",
       "            <span style=\"color: #005cc5; font-weight: bold\">LEFT</span> <span style=\"color: #005cc5; font-weight: bold\">JOIN</span> <span style=\"color: #e36209; font-weight: bold\">`</span><span style=\"color: #22863a; font-weight: bold\">mikecancell</span><span style=\"color: #e36209; font-weight: bold\">-</span><span style=\"color: #22863a; font-weight: bold\">development</span><span style=\"color: #24292e; font-weight: bold\">.</span><span style=\"color: #22863a; font-weight: bold\">Chicago_Taxi_Trips</span><span style=\"color: #24292e; font-weight: bold\">.</span><span style=\"color: #22863a; font-weight: bold\">Geo_Locations</span><span style=\"color: #e36209; font-weight: bold\">`</span> <span style=\"color: #005cc5; font-weight: bold\">AS</span> <span style=\"color: #22863a; font-weight: bold\">geo</span>\n",
       "                <span style=\"color: #005cc5; font-weight: bold\">ON</span> <span style=\"color: #005cc5; font-weight: bold\">ABS</span><span style=\"color: #24292e; font-weight: bold\">(</span><span style=\"color: #22863a; font-weight: bold\">geo</span><span style=\"color: #24292e; font-weight: bold\">.</span><span style=\"color: #22863a; font-weight: bold\">latitude</span> <span style=\"color: #e36209; font-weight: bold\">-</span> <span style=\"color: #22863a; font-weight: bold\">trips</span><span style=\"color: #24292e; font-weight: bold\">.</span><span style=\"color: #22863a; font-weight: bold\">pickup_latitude</span><span style=\"color: #24292e; font-weight: bold\">)</span> <span style=\"color: #e36209; font-weight: bold\">&lt;</span> <span style=\"color: #6f42c1; font-weight: bold\">0</span><span style=\"color: #24292e; font-weight: bold\">.</span><span style=\"color: #6f42c1; font-weight: bold\">05</span> <span style=\"color: #888888; font-style: italic\">-- Match trips to cities by latitude</span>\n",
       "                <span style=\"color: #005cc5; font-weight: bold\">AND</span> <span style=\"color: #005cc5; font-weight: bold\">ABS</span><span style=\"color: #24292e; font-weight: bold\">(</span><span style=\"color: #22863a; font-weight: bold\">geo</span><span style=\"color: #24292e; font-weight: bold\">.</span><span style=\"color: #22863a; font-weight: bold\">longitude</span> <span style=\"color: #e36209; font-weight: bold\">-</span> <span style=\"color: #22863a; font-weight: bold\">trips</span><span style=\"color: #24292e; font-weight: bold\">.</span><span style=\"color: #22863a; font-weight: bold\">pickup_longitude</span><span style=\"color: #24292e; font-weight: bold\">)</span> <span style=\"color: #e36209; font-weight: bold\">&lt;</span> <span style=\"color: #6f42c1; font-weight: bold\">0</span><span style=\"color: #24292e; font-weight: bold\">.</span><span style=\"color: #6f42c1; font-weight: bold\">05</span> <span style=\"color: #888888; font-style: italic\">-- Match trips to cities by longitude</span>\n",
       "            <span style=\"color: #005cc5; font-weight: bold\">WHERE</span> <span style=\"color: #22863a; font-weight: bold\">geo</span><span style=\"color: #24292e; font-weight: bold\">.</span><span style=\"color: #22863a; font-weight: bold\">city</span> <span style=\"color: #005cc5; font-weight: bold\">IS</span> <span style=\"color: #005cc5; font-weight: bold\">NOT</span> <span style=\"color: #005cc5; font-weight: bold\">NULL</span> <span style=\"color: #888888; font-style: italic\">-- Exclude rows where the city is NULL</span>\n",
       "        <span style=\"color: #24292e; font-weight: bold\">)</span>\n",
       "    <span style=\"color: #005cc5; font-weight: bold\">SELECT</span>\n",
       "        <span style=\"color: #888888; font-style: italic\">/* </span>\n",
       "<span style=\"color: #888888; font-style: italic\">            Section 3: Final SELECT</span>\n",
       "<span style=\"color: #888888; font-style: italic\">            Aggregates data, calculates metrics, and applies window functions for analysis.</span>\n",
       "<span style=\"color: #888888; font-style: italic\">        */</span>\n",
       "        <span style=\"color: #22863a; font-weight: bold\">trip_quarter</span><span style=\"color: #24292e; font-weight: bold\">,</span> <span style=\"color: #888888; font-style: italic\">-- Quarter of the trip</span>\n",
       "        <span style=\"color: #22863a; font-weight: bold\">taxi_company</span><span style=\"color: #24292e; font-weight: bold\">,</span> <span style=\"color: #888888; font-style: italic\">-- Taxi company name</span>\n",
       "        <span style=\"color: #22863a; font-weight: bold\">city</span><span style=\"color: #24292e; font-weight: bold\">,</span> <span style=\"color: #888888; font-style: italic\">-- City associated with the trip</span>\n",
       "        <span style=\"color: #005cc5; font-weight: bold\">AVG</span><span style=\"color: #24292e; font-weight: bold\">(</span><span style=\"color: #22863a; font-weight: bold\">city_population</span><span style=\"color: #24292e; font-weight: bold\">)</span> <span style=\"color: #005cc5; font-weight: bold\">AS</span> <span style=\"color: #22863a; font-weight: bold\">city_population</span><span style=\"color: #24292e; font-weight: bold\">,</span> <span style=\"color: #888888; font-style: italic\">-- Average population of the city</span>\n",
       "        <span style=\"color: #005cc5; font-weight: bold\">COUNT</span><span style=\"color: #24292e; font-weight: bold\">(</span><span style=\"color: #22863a; font-weight: bold\">unique_key</span><span style=\"color: #24292e; font-weight: bold\">)</span> <span style=\"color: #005cc5; font-weight: bold\">AS</span> <span style=\"color: #22863a; font-weight: bold\">total_trips</span><span style=\"color: #24292e; font-weight: bold\">,</span> <span style=\"color: #888888; font-style: italic\">-- Total number of trips</span>\n",
       "        <span style=\"color: #005cc5; font-weight: bold\">COUNT</span><span style=\"color: #24292e; font-weight: bold\">(</span><span style=\"color: #005cc5; font-weight: bold\">DISTINCT</span> <span style=\"color: #22863a; font-weight: bold\">taxi_id</span><span style=\"color: #24292e; font-weight: bold\">)</span> <span style=\"color: #005cc5; font-weight: bold\">AS</span> <span style=\"color: #22863a; font-weight: bold\">unique_taxis</span><span style=\"color: #24292e; font-weight: bold\">,</span> <span style=\"color: #888888; font-style: italic\">-- Number of unique taxis</span>\n",
       "        <span style=\"color: #005cc5; font-weight: bold\">SUM</span><span style=\"color: #24292e; font-weight: bold\">(</span><span style=\"color: #22863a; font-weight: bold\">trip_seconds</span><span style=\"color: #24292e; font-weight: bold\">)</span> <span style=\"color: #005cc5; font-weight: bold\">AS</span> <span style=\"color: #22863a; font-weight: bold\">total_trip_seconds</span><span style=\"color: #24292e; font-weight: bold\">,</span> <span style=\"color: #888888; font-style: italic\">-- Total trip duration in seconds</span>\n",
       "        <span style=\"color: #005cc5; font-weight: bold\">AVG</span><span style=\"color: #24292e; font-weight: bold\">(</span><span style=\"color: #22863a; font-weight: bold\">trip_seconds</span><span style=\"color: #24292e; font-weight: bold\">)</span> <span style=\"color: #005cc5; font-weight: bold\">AS</span> <span style=\"color: #22863a; font-weight: bold\">avg_trip_seconds</span><span style=\"color: #24292e; font-weight: bold\">,</span> <span style=\"color: #888888; font-style: italic\">-- Average trip duration in seconds</span>\n",
       "        <span style=\"color: #005cc5; font-weight: bold\">SUM</span><span style=\"color: #24292e; font-weight: bold\">(</span><span style=\"color: #22863a; font-weight: bold\">trip_miles</span><span style=\"color: #24292e; font-weight: bold\">)</span> <span style=\"color: #005cc5; font-weight: bold\">AS</span> <span style=\"color: #22863a; font-weight: bold\">total_trip_miles</span><span style=\"color: #24292e; font-weight: bold\">,</span> <span style=\"color: #888888; font-style: italic\">-- Total trip distance in miles</span>\n",
       "        <span style=\"color: #005cc5; font-weight: bold\">AVG</span><span style=\"color: #24292e; font-weight: bold\">(</span><span style=\"color: #22863a; font-weight: bold\">trip_miles</span><span style=\"color: #24292e; font-weight: bold\">)</span> <span style=\"color: #005cc5; font-weight: bold\">AS</span> <span style=\"color: #22863a; font-weight: bold\">avg_trip_miles</span><span style=\"color: #24292e; font-weight: bold\">,</span> <span style=\"color: #888888; font-style: italic\">-- Average trip distance in miles</span>\n",
       "        <span style=\"color: #005cc5; font-weight: bold\">SUM</span><span style=\"color: #24292e; font-weight: bold\">(</span><span style=\"color: #22863a; font-weight: bold\">fare</span><span style=\"color: #24292e; font-weight: bold\">)</span> <span style=\"color: #005cc5; font-weight: bold\">AS</span> <span style=\"color: #22863a; font-weight: bold\">total_fare</span><span style=\"color: #24292e; font-weight: bold\">,</span> <span style=\"color: #888888; font-style: italic\">-- Total fare amount</span>\n",
       "        <span style=\"color: #005cc5; font-weight: bold\">AVG</span><span style=\"color: #24292e; font-weight: bold\">(</span><span style=\"color: #22863a; font-weight: bold\">fare</span><span style=\"color: #24292e; font-weight: bold\">)</span> <span style=\"color: #005cc5; font-weight: bold\">AS</span> <span style=\"color: #22863a; font-weight: bold\">avg_fare</span><span style=\"color: #24292e; font-weight: bold\">,</span> <span style=\"color: #888888; font-style: italic\">-- Average fare amount</span>\n",
       "        <span style=\"color: #005cc5; font-weight: bold\">SUM</span><span style=\"color: #24292e; font-weight: bold\">(</span><span style=\"color: #22863a; font-weight: bold\">tips</span><span style=\"color: #24292e; font-weight: bold\">)</span> <span style=\"color: #005cc5; font-weight: bold\">AS</span> <span style=\"color: #22863a; font-weight: bold\">total_tips</span><span style=\"color: #24292e; font-weight: bold\">,</span> <span style=\"color: #888888; font-style: italic\">-- Total tips amount</span>\n",
       "        <span style=\"color: #005cc5; font-weight: bold\">AVG</span><span style=\"color: #24292e; font-weight: bold\">(</span><span style=\"color: #22863a; font-weight: bold\">tips</span><span style=\"color: #24292e; font-weight: bold\">)</span> <span style=\"color: #005cc5; font-weight: bold\">AS</span> <span style=\"color: #22863a; font-weight: bold\">avg_tips</span><span style=\"color: #24292e; font-weight: bold\">,</span> <span style=\"color: #888888; font-style: italic\">-- Average tips amount</span>\n",
       "        <span style=\"color: #005cc5; font-weight: bold\">AVG</span><span style=\"color: #24292e; font-weight: bold\">(</span><span style=\"color: #22863a; font-weight: bold\">pickup_latitude</span><span style=\"color: #24292e; font-weight: bold\">)</span> <span style=\"color: #005cc5; font-weight: bold\">AS</span> <span style=\"color: #22863a; font-weight: bold\">avg_pickup_latitude</span><span style=\"color: #24292e; font-weight: bold\">,</span> <span style=\"color: #888888; font-style: italic\">-- Average pickup latitude</span>\n",
       "        <span style=\"color: #005cc5; font-weight: bold\">AVG</span><span style=\"color: #24292e; font-weight: bold\">(</span><span style=\"color: #22863a; font-weight: bold\">pickup_longitude</span><span style=\"color: #24292e; font-weight: bold\">)</span> <span style=\"color: #005cc5; font-weight: bold\">AS</span> <span style=\"color: #22863a; font-weight: bold\">avg_pickup_longitude</span><span style=\"color: #24292e; font-weight: bold\">,</span> <span style=\"color: #888888; font-style: italic\">-- Average pickup longitude</span>\n",
       "        <span style=\"color: #888888; font-style: italic\">-- Calculated Metrics</span>\n",
       "        <span style=\"color: #005cc5; font-weight: bold\">AVG</span><span style=\"color: #24292e; font-weight: bold\">(</span><span style=\"color: #22863a; font-weight: bold\">trip_miles</span> <span style=\"color: #e36209; font-weight: bold\">/</span> <span style=\"color: #005cc5; font-weight: bold\">NULLIF</span><span style=\"color: #24292e; font-weight: bold\">(</span><span style=\"color: #22863a; font-weight: bold\">trip_seconds</span> <span style=\"color: #e36209; font-weight: bold\">/</span> <span style=\"color: #6f42c1; font-weight: bold\">3600</span><span style=\"color: #24292e; font-weight: bold\">,</span> <span style=\"color: #6f42c1; font-weight: bold\">0</span><span style=\"color: #24292e; font-weight: bold\">))</span> <span style=\"color: #005cc5; font-weight: bold\">AS</span> <span style=\"color: #22863a; font-weight: bold\">avg_mph_per_trip</span><span style=\"color: #24292e; font-weight: bold\">,</span> <span style=\"color: #888888; font-style: italic\">-- Average speed in miles per hour</span>\n",
       "        <span style=\"color: #005cc5; font-weight: bold\">AVG</span><span style=\"color: #24292e; font-weight: bold\">(</span><span style=\"color: #22863a; font-weight: bold\">tips</span> <span style=\"color: #e36209; font-weight: bold\">/</span> <span style=\"color: #005cc5; font-weight: bold\">NULLIF</span><span style=\"color: #24292e; font-weight: bold\">(</span><span style=\"color: #22863a; font-weight: bold\">trip_seconds</span><span style=\"color: #24292e; font-weight: bold\">,</span> <span style=\"color: #6f42c1; font-weight: bold\">0</span><span style=\"color: #24292e; font-weight: bold\">))</span> <span style=\"color: #e36209; font-weight: bold\">*</span> <span style=\"color: #6f42c1; font-weight: bold\">3600</span> <span style=\"color: #005cc5; font-weight: bold\">AS</span> <span style=\"color: #22863a; font-weight: bold\">avg_tips_per_hour</span><span style=\"color: #24292e; font-weight: bold\">,</span> <span style=\"color: #888888; font-style: italic\">-- Average tips per hour</span>\n",
       "        <span style=\"color: #005cc5; font-weight: bold\">AVG</span><span style=\"color: #24292e; font-weight: bold\">(</span><span style=\"color: #22863a; font-weight: bold\">fare</span> <span style=\"color: #e36209; font-weight: bold\">/</span> <span style=\"color: #005cc5; font-weight: bold\">NULLIF</span><span style=\"color: #24292e; font-weight: bold\">(</span><span style=\"color: #22863a; font-weight: bold\">trip_miles</span><span style=\"color: #24292e; font-weight: bold\">,</span> <span style=\"color: #6f42c1; font-weight: bold\">0</span><span style=\"color: #24292e; font-weight: bold\">))</span> <span style=\"color: #005cc5; font-weight: bold\">AS</span> <span style=\"color: #22863a; font-weight: bold\">avg_fare_per_mile</span><span style=\"color: #24292e; font-weight: bold\">,</span> <span style=\"color: #888888; font-style: italic\">-- Average fare per mile</span>\n",
       "        <span style=\"color: #005cc5; font-weight: bold\">AVG</span><span style=\"color: #24292e; font-weight: bold\">(</span><span style=\"color: #22863a; font-weight: bold\">trip_seconds</span> <span style=\"color: #e36209; font-weight: bold\">/</span> <span style=\"color: #005cc5; font-weight: bold\">NULLIF</span><span style=\"color: #24292e; font-weight: bold\">(</span><span style=\"color: #6f42c1; font-weight: bold\">60</span><span style=\"color: #24292e; font-weight: bold\">,</span> <span style=\"color: #6f42c1; font-weight: bold\">0</span><span style=\"color: #24292e; font-weight: bold\">))</span> <span style=\"color: #005cc5; font-weight: bold\">AS</span> <span style=\"color: #22863a; font-weight: bold\">avg_trip_duration_minutes</span><span style=\"color: #24292e; font-weight: bold\">,</span> <span style=\"color: #888888; font-style: italic\">-- Average trip duration in minutes</span>\n",
       "        <span style=\"color: #005cc5; font-weight: bold\">AVG</span><span style=\"color: #24292e; font-weight: bold\">((</span><span style=\"color: #22863a; font-weight: bold\">fare</span> <span style=\"color: #e36209; font-weight: bold\">+</span> <span style=\"color: #22863a; font-weight: bold\">tips</span><span style=\"color: #24292e; font-weight: bold\">)</span> <span style=\"color: #e36209; font-weight: bold\">/</span> <span style=\"color: #005cc5; font-weight: bold\">NULLIF</span><span style=\"color: #24292e; font-weight: bold\">(</span><span style=\"color: #6f42c1; font-weight: bold\">1</span><span style=\"color: #24292e; font-weight: bold\">,</span> <span style=\"color: #6f42c1; font-weight: bold\">0</span><span style=\"color: #24292e; font-weight: bold\">))</span> <span style=\"color: #005cc5; font-weight: bold\">AS</span> <span style=\"color: #22863a; font-weight: bold\">avg_total_revenue_per_trip</span><span style=\"color: #24292e; font-weight: bold\">,</span> <span style=\"color: #888888; font-style: italic\">-- Average total revenue per trip</span>\n",
       "        <span style=\"color: #888888; font-style: italic\">-- Window Functions</span>\n",
       "        <span style=\"color: #22863a; font-weight: bold\">RANK</span><span style=\"color: #24292e; font-weight: bold\">()</span> <span style=\"color: #22863a; font-weight: bold\">OVER</span> <span style=\"color: #24292e; font-weight: bold\">(</span><span style=\"color: #22863a; font-weight: bold\">PARTITION</span> <span style=\"color: #005cc5; font-weight: bold\">BY</span> <span style=\"color: #22863a; font-weight: bold\">trip_quarter</span><span style=\"color: #24292e; font-weight: bold\">,</span> <span style=\"color: #22863a; font-weight: bold\">city</span> <span style=\"color: #005cc5; font-weight: bold\">ORDER</span> <span style=\"color: #005cc5; font-weight: bold\">BY</span> <span style=\"color: #005cc5; font-weight: bold\">SUM</span><span style=\"color: #24292e; font-weight: bold\">(</span><span style=\"color: #22863a; font-weight: bold\">fare</span> <span style=\"color: #e36209; font-weight: bold\">+</span> <span style=\"color: #22863a; font-weight: bold\">tips</span><span style=\"color: #24292e; font-weight: bold\">)</span> <span style=\"color: #005cc5; font-weight: bold\">DESC</span><span style=\"color: #24292e; font-weight: bold\">)</span> <span style=\"color: #005cc5; font-weight: bold\">AS</span> <span style=\"color: #22863a; font-weight: bold\">revenue_rank_within_city</span><span style=\"color: #24292e; font-weight: bold\">,</span> <span style=\"color: #888888; font-style: italic\">-- Rank by total revenue within city</span>\n",
       "        <span style=\"color: #22863a; font-weight: bold\">DENSE_RANK</span><span style=\"color: #24292e; font-weight: bold\">()</span> <span style=\"color: #22863a; font-weight: bold\">OVER</span> <span style=\"color: #24292e; font-weight: bold\">(</span><span style=\"color: #22863a; font-weight: bold\">PARTITION</span> <span style=\"color: #005cc5; font-weight: bold\">BY</span> <span style=\"color: #22863a; font-weight: bold\">trip_quarter</span><span style=\"color: #24292e; font-weight: bold\">,</span> <span style=\"color: #22863a; font-weight: bold\">city</span> <span style=\"color: #005cc5; font-weight: bold\">ORDER</span> <span style=\"color: #005cc5; font-weight: bold\">BY</span> <span style=\"color: #005cc5; font-weight: bold\">COUNT</span><span style=\"color: #24292e; font-weight: bold\">(</span><span style=\"color: #22863a; font-weight: bold\">unique_key</span><span style=\"color: #24292e; font-weight: bold\">)</span> <span style=\"color: #005cc5; font-weight: bold\">DESC</span><span style=\"color: #24292e; font-weight: bold\">)</span> <span style=\"color: #005cc5; font-weight: bold\">AS</span> <span style=\"color: #22863a; font-weight: bold\">trip_count_rank_within_city</span><span style=\"color: #24292e; font-weight: bold\">,</span> <span style=\"color: #888888; font-style: italic\">-- Rank by total trips within city</span>\n",
       "        <span style=\"color: #22863a; font-weight: bold\">PERCENT_RANK</span><span style=\"color: #24292e; font-weight: bold\">()</span> <span style=\"color: #22863a; font-weight: bold\">OVER</span> <span style=\"color: #24292e; font-weight: bold\">(</span><span style=\"color: #22863a; font-weight: bold\">PARTITION</span> <span style=\"color: #005cc5; font-weight: bold\">BY</span> <span style=\"color: #22863a; font-weight: bold\">trip_quarter</span><span style=\"color: #24292e; font-weight: bold\">,</span> <span style=\"color: #22863a; font-weight: bold\">city</span> <span style=\"color: #005cc5; font-weight: bold\">ORDER</span> <span style=\"color: #005cc5; font-weight: bold\">BY</span> <span style=\"color: #005cc5; font-weight: bold\">AVG</span><span style=\"color: #24292e; font-weight: bold\">(</span><span style=\"color: #22863a; font-weight: bold\">fare</span><span style=\"color: #24292e; font-weight: bold\">))</span> <span style=\"color: #005cc5; font-weight: bold\">AS</span> <span style=\"color: #22863a; font-weight: bold\">fare_percentile_within_city</span><span style=\"color: #24292e; font-weight: bold\">,</span> <span style=\"color: #888888; font-style: italic\">-- Percentile of avg fare within city</span>\n",
       "        <span style=\"color: #005cc5; font-weight: bold\">SUM</span><span style=\"color: #24292e; font-weight: bold\">(</span><span style=\"color: #005cc5; font-weight: bold\">SUM</span><span style=\"color: #24292e; font-weight: bold\">(</span><span style=\"color: #22863a; font-weight: bold\">fare</span><span style=\"color: #24292e; font-weight: bold\">))</span> <span style=\"color: #22863a; font-weight: bold\">OVER</span> <span style=\"color: #24292e; font-weight: bold\">(</span><span style=\"color: #22863a; font-weight: bold\">PARTITION</span> <span style=\"color: #005cc5; font-weight: bold\">BY</span> <span style=\"color: #22863a; font-weight: bold\">trip_quarter</span><span style=\"color: #24292e; font-weight: bold\">,</span> <span style=\"color: #22863a; font-weight: bold\">city</span><span style=\"color: #24292e; font-weight: bold\">)</span> <span style=\"color: #005cc5; font-weight: bold\">AS</span> <span style=\"color: #22863a; font-weight: bold\">total_revenue_per_city</span><span style=\"color: #24292e; font-weight: bold\">,</span> <span style=\"color: #888888; font-style: italic\">-- Total revenue per city</span>\n",
       "        <span style=\"color: #22863a; font-weight: bold\">RANK</span><span style=\"color: #24292e; font-weight: bold\">()</span> <span style=\"color: #22863a; font-weight: bold\">OVER</span> <span style=\"color: #24292e; font-weight: bold\">(</span><span style=\"color: #22863a; font-weight: bold\">PARTITION</span> <span style=\"color: #005cc5; font-weight: bold\">BY</span> <span style=\"color: #22863a; font-weight: bold\">trip_quarter</span><span style=\"color: #24292e; font-weight: bold\">,</span> <span style=\"color: #22863a; font-weight: bold\">taxi_company</span> <span style=\"color: #005cc5; font-weight: bold\">ORDER</span> <span style=\"color: #005cc5; font-weight: bold\">BY</span> <span style=\"color: #005cc5; font-weight: bold\">SUM</span><span style=\"color: #24292e; font-weight: bold\">(</span><span style=\"color: #22863a; font-weight: bold\">fare</span> <span style=\"color: #e36209; font-weight: bold\">+</span> <span style=\"color: #22863a; font-weight: bold\">tips</span><span style=\"color: #24292e; font-weight: bold\">)</span> <span style=\"color: #005cc5; font-weight: bold\">DESC</span><span style=\"color: #24292e; font-weight: bold\">)</span> <span style=\"color: #005cc5; font-weight: bold\">AS</span> <span style=\"color: #22863a; font-weight: bold\">revenue_rank_within_company</span><span style=\"color: #24292e; font-weight: bold\">,</span> <span style=\"color: #888888; font-style: italic\">-- Rank by total revenue within company</span>\n",
       "        <span style=\"color: #005cc5; font-weight: bold\">SUM</span><span style=\"color: #24292e; font-weight: bold\">(</span><span style=\"color: #005cc5; font-weight: bold\">SUM</span><span style=\"color: #24292e; font-weight: bold\">(</span><span style=\"color: #22863a; font-weight: bold\">fare</span><span style=\"color: #24292e; font-weight: bold\">))</span> <span style=\"color: #22863a; font-weight: bold\">OVER</span> <span style=\"color: #24292e; font-weight: bold\">(</span><span style=\"color: #22863a; font-weight: bold\">PARTITION</span> <span style=\"color: #005cc5; font-weight: bold\">BY</span> <span style=\"color: #22863a; font-weight: bold\">trip_quarter</span><span style=\"color: #24292e; font-weight: bold\">,</span> <span style=\"color: #22863a; font-weight: bold\">taxi_company</span><span style=\"color: #24292e; font-weight: bold\">)</span> <span style=\"color: #005cc5; font-weight: bold\">AS</span> <span style=\"color: #22863a; font-weight: bold\">total_revenue_per_company</span><span style=\"color: #24292e; font-weight: bold\">,</span> <span style=\"color: #888888; font-style: italic\">-- Total revenue per company</span>\n",
       "        <span style=\"color: #888888; font-style: italic\">-- Additional Analytics</span>\n",
       "        <span style=\"color: #005cc5; font-weight: bold\">SUM</span><span style=\"color: #24292e; font-weight: bold\">(</span><span style=\"color: #22863a; font-weight: bold\">fare</span> <span style=\"color: #e36209; font-weight: bold\">+</span> <span style=\"color: #22863a; font-weight: bold\">tips</span><span style=\"color: #24292e; font-weight: bold\">)</span> <span style=\"color: #e36209; font-weight: bold\">/</span> <span style=\"color: #005cc5; font-weight: bold\">NULLIF</span><span style=\"color: #24292e; font-weight: bold\">(</span><span style=\"color: #005cc5; font-weight: bold\">SUM</span><span style=\"color: #24292e; font-weight: bold\">(</span><span style=\"color: #005cc5; font-weight: bold\">SUM</span><span style=\"color: #24292e; font-weight: bold\">(</span><span style=\"color: #22863a; font-weight: bold\">fare</span> <span style=\"color: #e36209; font-weight: bold\">+</span> <span style=\"color: #22863a; font-weight: bold\">tips</span><span style=\"color: #24292e; font-weight: bold\">))</span> <span style=\"color: #22863a; font-weight: bold\">OVER</span> <span style=\"color: #24292e; font-weight: bold\">(</span><span style=\"color: #22863a; font-weight: bold\">PARTITION</span> <span style=\"color: #005cc5; font-weight: bold\">BY</span> <span style=\"color: #22863a; font-weight: bold\">trip_quarter</span><span style=\"color: #24292e; font-weight: bold\">),</span> <span style=\"color: #6f42c1; font-weight: bold\">0</span><span style=\"color: #24292e; font-weight: bold\">)</span> <span style=\"color: #e36209; font-weight: bold\">*</span> <span style=\"color: #6f42c1; font-weight: bold\">100</span> <span style=\"color: #005cc5; font-weight: bold\">AS</span> <span style=\"color: #22863a; font-weight: bold\">revenue_contribution_percentage</span><span style=\"color: #24292e; font-weight: bold\">,</span> <span style=\"color: #888888; font-style: italic\">-- Revenue contribution by city and company</span>\n",
       "        <span style=\"color: #005cc5; font-weight: bold\">COUNT</span><span style=\"color: #24292e; font-weight: bold\">(</span><span style=\"color: #22863a; font-weight: bold\">unique_key</span><span style=\"color: #24292e; font-weight: bold\">)</span> <span style=\"color: #e36209; font-weight: bold\">/</span> <span style=\"color: #005cc5; font-weight: bold\">NULLIF</span><span style=\"color: #24292e; font-weight: bold\">(</span><span style=\"color: #005cc5; font-weight: bold\">AVG</span><span style=\"color: #24292e; font-weight: bold\">(</span><span style=\"color: #22863a; font-weight: bold\">city_population</span><span style=\"color: #24292e; font-weight: bold\">),</span> <span style=\"color: #6f42c1; font-weight: bold\">0</span><span style=\"color: #24292e; font-weight: bold\">)</span> <span style=\"color: #005cc5; font-weight: bold\">AS</span> <span style=\"color: #22863a; font-weight: bold\">trips_per_population</span><span style=\"color: #24292e; font-weight: bold\">,</span> <span style=\"color: #888888; font-style: italic\">-- Proxy for trip density</span>\n",
       "        <span style=\"color: #005cc5; font-weight: bold\">COUNT</span><span style=\"color: #24292e; font-weight: bold\">(</span><span style=\"color: #22863a; font-weight: bold\">unique_key</span><span style=\"color: #24292e; font-weight: bold\">)</span> <span style=\"color: #e36209; font-weight: bold\">/</span> <span style=\"color: #005cc5; font-weight: bold\">NULLIF</span><span style=\"color: #24292e; font-weight: bold\">(</span><span style=\"color: #005cc5; font-weight: bold\">COUNT</span><span style=\"color: #24292e; font-weight: bold\">(</span><span style=\"color: #005cc5; font-weight: bold\">DISTINCT</span> <span style=\"color: #22863a; font-weight: bold\">taxi_id</span><span style=\"color: #24292e; font-weight: bold\">),</span> <span style=\"color: #6f42c1; font-weight: bold\">0</span><span style=\"color: #24292e; font-weight: bold\">)</span> <span style=\"color: #005cc5; font-weight: bold\">AS</span> <span style=\"color: #22863a; font-weight: bold\">avg_trips_per_taxi</span><span style=\"color: #24292e; font-weight: bold\">,</span> <span style=\"color: #888888; font-style: italic\">-- Average trips per unique taxi</span>\n",
       "        <span style=\"color: #005cc5; font-weight: bold\">AVG</span><span style=\"color: #24292e; font-weight: bold\">(</span><span style=\"color: #005cc5; font-weight: bold\">SUM</span><span style=\"color: #24292e; font-weight: bold\">(</span><span style=\"color: #22863a; font-weight: bold\">fare</span> <span style=\"color: #e36209; font-weight: bold\">+</span> <span style=\"color: #22863a; font-weight: bold\">tips</span><span style=\"color: #24292e; font-weight: bold\">))</span> <span style=\"color: #22863a; font-weight: bold\">OVER</span> <span style=\"color: #24292e; font-weight: bold\">(</span><span style=\"color: #22863a; font-weight: bold\">PARTITION</span> <span style=\"color: #005cc5; font-weight: bold\">BY</span> <span style=\"color: #22863a; font-weight: bold\">city</span> <span style=\"color: #005cc5; font-weight: bold\">ORDER</span> <span style=\"color: #005cc5; font-weight: bold\">BY</span> <span style=\"color: #22863a; font-weight: bold\">trip_quarter</span><span style=\"color: #24292e; font-weight: bold\">)</span> <span style=\"color: #005cc5; font-weight: bold\">AS</span> <span style=\"color: #22863a; font-weight: bold\">avg_revenue_trend</span> <span style=\"color: #888888; font-style: italic\">-- Revenue trend by city</span>\n",
       "    <span style=\"color: #005cc5; font-weight: bold\">FROM</span> <span style=\"color: #22863a; font-weight: bold\">Trip_City_Pop</span>\n",
       "    <span style=\"color: #005cc5; font-weight: bold\">GROUP</span> <span style=\"color: #005cc5; font-weight: bold\">BY</span>\n",
       "        <span style=\"color: #22863a; font-weight: bold\">trip_quarter</span><span style=\"color: #24292e; font-weight: bold\">,</span>\n",
       "        <span style=\"color: #22863a; font-weight: bold\">taxi_company</span><span style=\"color: #24292e; font-weight: bold\">,</span>\n",
       "        <span style=\"color: #22863a; font-weight: bold\">city</span>\n",
       "    <span style=\"color: #005cc5; font-weight: bold\">ORDER</span> <span style=\"color: #005cc5; font-weight: bold\">BY</span>\n",
       "        <span style=\"color: #22863a; font-weight: bold\">trip_quarter</span> <span style=\"color: #005cc5; font-weight: bold\">DESC</span><span style=\"color: #24292e; font-weight: bold\">,</span>\n",
       "        <span style=\"color: #22863a; font-weight: bold\">revenue_contribution_percentage</span> <span style=\"color: #005cc5; font-weight: bold\">DESC</span><span style=\"color: #24292e; font-weight: bold\">,</span>\n",
       "        <span style=\"color: #22863a; font-weight: bold\">city</span> <span style=\"color: #005cc5; font-weight: bold\">ASC</span><span style=\"color: #24292e; font-weight: bold\">,</span>\n",
       "        <span style=\"color: #22863a; font-weight: bold\">taxi_company</span> <span style=\"color: #005cc5; font-weight: bold\">ASC</span>\n",
       "    <span style=\"color: #888888; font-style: italic\">--LIMIT 1000</span>\n",
       "    <span style=\"color: #24292e; font-weight: bold\">;</span>\n",
       "</pre></div>\n"
      ],
      "text/plain": [
       "<IPython.core.display.HTML object>"
      ]
     },
     "metadata": {},
     "output_type": "display_data"
    }
   ],
   "source": [
    "from IPython.display import display, HTML\n",
    "import pygments\n",
    "from pygments.lexers import SqlLexer\n",
    "from pygments.formatters import HtmlFormatter\n",
    "from pygments.style import Style\n",
    "from pygments.token import Keyword, Name, Comment, String, Number, Operator, Punctuation\n",
    "\n",
    "# Define a custom Pygments style\n",
    "class CustomSQLStyle(Style):\n",
    "    default_style = \"\"\n",
    "    styles = {\n",
    "        Comment: \"italic #888888\",  # Gray for comments\n",
    "        Keyword: \"bold #005cc5\",  # Blue for keywords\n",
    "        Name: \"bold #22863a\",  # Green for names\n",
    "        String: \"italic #d73a49\",  # Red for strings\n",
    "        Number: \"bold #6f42c1\",  # Purple for numbers\n",
    "        Operator: \"bold #e36209\",  # Orange for operators\n",
    "        Punctuation: \"bold #24292e\",  # Black for punctuation\n",
    "    }\n",
    "\n",
    "# Highlight the SQL code using Pygments with the custom style\n",
    "formatter = HtmlFormatter(style=CustomSQLStyle, full=False, noclasses=True)\n",
    "highlighted_sql = pygments.highlight(sql_code, SqlLexer(), formatter)\n",
    "\n",
    "# Display the highlighted SQL code in the notebook\n",
    "display(HTML(highlighted_sql))"
   ]
  },
  {
   "cell_type": "markdown",
   "id": "6d15c95e",
   "metadata": {},
   "source": [
    "## ✔ Execute the Query"
   ]
  },
  {
   "cell_type": "code",
   "execution_count": 31,
   "id": "f36b35c9",
   "metadata": {},
   "outputs": [
    {
     "name": "stdout",
     "output_type": "stream",
     "text": [
      "Data loaded from Parquet file.\n",
      "               trip_quarter taxi_company             city  city_population  \\\n",
      "0 2023-10-01 00:00:00+00:00    Flash Cab  Near North Side          85711.0   \n",
      "1 2023-10-01 00:00:00+00:00    Flash Cab     Lincoln Park          66959.0   \n",
      "2 2023-10-01 00:00:00+00:00    Flash Cab     Chicago Loop          33442.0   \n",
      "3 2023-10-01 00:00:00+00:00    Flash Cab  Lower West Side          34410.0   \n",
      "4 2023-10-01 00:00:00+00:00    Flash Cab  Near South Side          22401.0   \n",
      "\n",
      "   total_trips  unique_taxis  total_trip_seconds  avg_trip_seconds  \\\n",
      "0       167235           457           161349311        964.805878   \n",
      "1       163872           456           157591794        961.676150   \n",
      "2       155684           457           150731141        968.186461   \n",
      "3       151000           458           148884170        985.987881   \n",
      "4       149599           458           147309305        984.694450   \n",
      "\n",
      "   total_trip_miles  avg_trip_miles  ...  revenue_rank_within_city  \\\n",
      "0         725558.66        4.338557  ...                         1   \n",
      "1         704645.18        4.299973  ...                         1   \n",
      "2         700960.87        4.502459  ...                         1   \n",
      "3         713970.38        4.728281  ...                         1   \n",
      "4         708201.27        4.733997  ...                         1   \n",
      "\n",
      "   trip_count_rank_within_city  fare_percentile_within_city  \\\n",
      "0                            1                     0.933333   \n",
      "1                            1                     0.933333   \n",
      "2                            1                     0.966667   \n",
      "3                            2                     0.966667   \n",
      "4                            2                     0.966667   \n",
      "\n",
      "   total_revenue_per_city  revenue_rank_within_company  \\\n",
      "0             13331512.22                            1   \n",
      "1             12533395.77                            2   \n",
      "2             12988690.26                            3   \n",
      "3             12707968.63                            4   \n",
      "4             12666817.95                            5   \n",
      "\n",
      "   total_revenue_per_company  revenue_contribution_percentage  \\\n",
      "0                44642664.67                         1.533777   \n",
      "1                44642664.67                         1.489011   \n",
      "2                44642664.67                         1.448205   \n",
      "3                44642664.67                         1.434375   \n",
      "4                44642664.67                         1.416173   \n",
      "\n",
      "   trips_per_population  avg_trips_per_taxi  avg_revenue_trend  \n",
      "0              1.951150          365.940919      733375.946359  \n",
      "1              2.447348          359.368421      709830.253869  \n",
      "2              4.655344          340.665208      688594.136702  \n",
      "3              4.388259          329.694323      622475.961390  \n",
      "4              6.678229          326.635371      624381.288889  \n",
      "\n",
      "[5 rows x 31 columns]\n"
     ]
    }
   ],
   "source": [
    "import warnings\n",
    "from pandas_gbq.exceptions import LargeResultsWarning\n",
    "\n",
    "# Suppress the LargeResultsWarning\n",
    "warnings.simplefilter('ignore', category=LargeResultsWarning)\n",
    "\n",
    "# Import the pandas_gbq library\n",
    "import pandas_gbq\n",
    "import os\n",
    "import pandas as pd\n",
    "\n",
    "# Define the SQL query\n",
    "query = sql_code\n",
    "\n",
    "# Check if the Parquet file exists\n",
    "parquet_file_path = 'Insights_Part_III.parquet'\n",
    "\n",
    "if os.path.exists(parquet_file_path):\n",
    "    # Read the data from the Parquet file\n",
    "    Insights_Part_III = pd.read_parquet(parquet_file_path)\n",
    "    print(\"Data loaded from Parquet file.\")\n",
    "else:\n",
    "    # Read the data from BigQuery into a pandas DataFrame\n",
    "    Insights_Part_III = pandas_gbq.read_gbq(query, project_id=credentials.project_id, credentials=credentials)\n",
    "    print(\"Data loaded from BigQuery.\")\n",
    "\n",
    "# Display the first few rows of the dataframe\n",
    "print(Insights_Part_III.head())\n"
   ]
  },
  {
   "cell_type": "markdown",
   "id": "71bf27f6",
   "metadata": {},
   "source": [
    "### Save to Results to a Local Parquet File\n",
    "for faster loading"
   ]
  },
  {
   "cell_type": "code",
   "execution_count": 32,
   "id": "18c9927d",
   "metadata": {},
   "outputs": [
    {
     "name": "stdout",
     "output_type": "stream",
     "text": [
      "DataFrames have been saved to Parquet files successfully.\n"
     ]
    }
   ],
   "source": [
    "# Save insights_ia DataFrame to a Parquet file\n",
    "Insights_Part_III.to_parquet('Insights_Part_III.parquet', index=False)\n",
    "\n",
    "\n",
    "print(\"DataFrames have been saved to Parquet files successfully.\")"
   ]
  }
 ],
 "metadata": {
  "kernelspec": {
   "display_name": "Python 3",
   "language": "python",
   "name": "python3"
  },
  "language_info": {
   "codemirror_mode": {
    "name": "ipython",
    "version": 3
   },
   "file_extension": ".py",
   "mimetype": "text/x-python",
   "name": "python",
   "nbconvert_exporter": "python",
   "pygments_lexer": "ipython3",
   "version": "3.13.1"
  }
 },
 "nbformat": 4,
 "nbformat_minor": 5
}
