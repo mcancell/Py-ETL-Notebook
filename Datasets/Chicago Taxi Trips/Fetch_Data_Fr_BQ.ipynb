{
 "cells": [
  {
   "cell_type": "markdown",
   "id": "e9eb575c",
   "metadata": {},
   "source": [
    "# DATA OFFICE TECHNICAL SKILLS ASSESSMENT:\n",
    "This test is designed to give us a better understanding of how our candidates leverage their technical skills to answer business questions and communicate findings.\n",
    "To complete the assignment you will have to work with the following Big Query public data set:\n",
    "Chicago Taxi Trips dataset:\n",
    "`bigquery-public-data.chicago_taxi_trips.taxi_trips`"
   ]
  },
  {
   "cell_type": "markdown",
   "id": "819f4c26",
   "metadata": {},
   "source": [
    "## PART I"
   ]
  },
  {
   "cell_type": "markdown",
   "id": "8d6e51ee",
   "metadata": {},
   "source": [
    "### 1. ! DONE - Please submit your SQL code (follow [URL](https://github.com/mcancell/Py-ETL-Notebook/blob/main/Datasets/Chicago%20Taxi%20Trips/Chi_Taxi_Trip_Insights_Branch_Part_I.bqsql)):\n",
    "showing how you approached the data to be able to answer the following two questions. Note that a query that returns a lot of data and needs to be exported/manipulated in Excel is not preferred. A query that just returns the answer requested and no other data is preferred.\n",
    "\n",
    "See Code Here: [Datasets/Chicago Taxi Trips/Chi_Taxi_Trip_Insights_Branch_Part_I.bqsql](https://github.com/mcancell/Py-ETL-Notebook/blob/main/Datasets/Chicago%20Taxi%20Trips/Chi_Taxi_Trip_Insights_Branch_Part_I.bqsql)"
   ]
  },
  {
   "cell_type": "markdown",
   "id": "a9984855",
   "metadata": {},
   "source": [
    "[See URL to My Git](https://github.com/mcancell/Py-ETL-Notebook/blob/main/Datasets/Chicago%20Taxi%20Trips/Chi_Taxi_Trip_Insights_Branch_Part_I.bqsql)"
   ]
  },
  {
   "cell_type": "markdown",
   "id": "9d62e282",
   "metadata": {},
   "source": [
    "#### a. Distinct Company with Largest MoM Trip Increase\n",
    "Which three distinct taxi companies had the largest month-over-month increase in trips, and what were those months and trip amounts?"
   ]
  },
  {
   "cell_type": "markdown",
   "id": "2ef4d9dd",
   "metadata": {},
   "source": [
    "##### Get My BQ Credentials to Access the Dataset"
   ]
  },
  {
   "cell_type": "markdown",
   "id": "8cb22b7a",
   "metadata": {},
   "source": [
    "##### Load Directory Locations"
   ]
  },
  {
   "cell_type": "code",
   "execution_count": 1,
   "id": "7872ec7b",
   "metadata": {},
   "outputs": [
    {
     "name": "stdout",
     "output_type": "stream",
     "text": [
      "Common_Funcs_Dir: /Users/mike/Develop/Projects/Code Notebook/Common/Functions\n",
      "Credentials_Dir: /Users/mike/Develop/Projects/Code Notebook/Credentials\n",
      "Rel_Pickes_Dir: ../.pickles\n",
      "Pub_Data_Dir: '/Users/mike/Data/Public\n",
      "BQ_Service_Key: /Users/mike/Develop/Conf/GCP Service Keys/mikecancell-development-0bcca41f8486.json\n"
     ]
    }
   ],
   "source": [
    "import json\n",
    "import os\n",
    "\n",
    "# Check if the file exists and load the JSON file into a dictionary\n",
    "file_path = r'C:\\Users\\mike\\Develop\\Projects\\Code Notebook\\Credentials\\locations_conf.json'\n",
    "if os.path.exists(file_path):\n",
    "    with open(file_path, 'r') as f:\n",
    "        locations_data = json.load(f)\n",
    "    for key, value in locations_data.items():\n",
    "        print(f\"{key}: {value}\")\n",
    "else:\n",
    "    print(f\"File not found: {file_path}\")"
   ]
  },
  {
   "cell_type": "markdown",
   "id": "39ce2053",
   "metadata": {},
   "source": [
    "##### Connect to Google Cloud\n",
    "from google.cloud import bigquery"
   ]
  },
  {
   "cell_type": "code",
   "execution_count": 2,
   "id": "4f08563d",
   "metadata": {},
   "outputs": [],
   "source": [
    "from google.oauth2 import service_account\n",
    "\n",
    "# Resolve the key path from the locations data\n",
    "key_path = locations_data.get('BQ_Service_Key', 'default_key_path.json')\n",
    "\n",
    "# Create credentials using the key file\n",
    "credentials = service_account.Credentials.from_service_account_file(key_path)"
   ]
  },
  {
   "cell_type": "markdown",
   "id": "5ce28298",
   "metadata": {},
   "source": [
    "##### Load the Query into a Variable"
   ]
  },
  {
   "cell_type": "code",
   "execution_count": 3,
   "id": "ba9311b4",
   "metadata": {},
   "outputs": [
    {
     "name": "stdout",
     "output_type": "stream",
     "text": [
      "SQL code loaded successfully.\n"
     ]
    }
   ],
   "source": [
    "# Define the path to the SQL file\n",
    "# Dynamically construct the absolute path to the SQL file\n",
    "sql_file_path = os.path.abspath(os.path.join('C:\\\\Users\\\\mike\\\\Develop\\\\Projects\\\\Code Notebook\\\\Datasets\\\\Chicago Taxi Trips', 'Chi_Taxi_Trip_Insights_Branch_Part_I.bqsql'))\n",
    "\n",
    "# Check if the file exists and load the SQL code into a variable\n",
    "if os.path.exists(sql_file_path):\n",
    "    with open(sql_file_path, 'r') as sql_file:\n",
    "        sql_code = sql_file.read()\n",
    "    print(\"SQL code loaded successfully.\")\n",
    "else:\n",
    "    print(f\"File not found: {sql_file_path}\")"
   ]
  },
  {
   "cell_type": "markdown",
   "id": "1e770106",
   "metadata": {},
   "source": [
    "##### Show the Query Code\n",
    "Note that the Header Doc and Comments are AI Generated"
   ]
  },
  {
   "cell_type": "code",
   "execution_count": 4,
   "id": "e5a097f5",
   "metadata": {},
   "outputs": [
    {
     "name": "stdout",
     "output_type": "stream",
     "text": [
      "/*\n",
      "    AI Generated doc:\n",
      "    This query analyzes Chicago Taxi Trips data to identify:\n",
      "    1. The largest month-over-month increases in trips for each taxi company.\n",
      "    2. The largest month-over-month decreases in fare per mile for each taxi company.\n",
      "    3. The overall company averages (`Metric_Gross_Avg`) for trips and fare per mile.\n",
      "    4. The difference from the average (`Metric_Diff_From_Avg`) and percentage difference from the average (`Percent_Diff_From_Avg`).\n",
      "\n",
      "    Key Features:\n",
      "    - Standardizes company names to handle variations (e.g., punctuation, case).\n",
      "    - Calculates month-over-month metrics (trip count and fare per mile).\n",
      "    - Includes overall company averages for trips and fare per mile.\n",
      "    - Includes metrics for difference from average and percentage difference from average.\n",
      "    - Ranks companies based on the largest increases and decreases.\n",
      "    - Extracts insights for the top 3 companies for each metric.\n",
      "\n",
      "    Filters Applied:\n",
      "    - Exclude trips with no company information (`company IS NOT NULL`).\n",
      "    - Exclude trips with zero or negative miles for fare per mile calculations (`trip_miles > 0`).\n",
      "    - Exclude months with very low prior metrics to avoid noise:\n",
      "        - `Mon_Prior_Metric_Val > 100` for trip increases.\n",
      "        - `Mon_Prior_Metric_Val > 0.1` for fare per mile decreases.\n",
      "    - Cap extreme percentage changes:\n",
      "        - `SAFE_DIVIDE(metric_delta, Mon_Prior_Metric_Val) <= 10` for trip increases.\n",
      "        - `SAFE_DIVIDE(metric_delta, Mon_Prior_Metric_Val) >= -10` for fare per mile decreases.\n",
      "\n",
      "    Resulting Output Columns:\n",
      "    - `Metric_Description`: Describes the metric being analyzed (e.g., \"Largest Month-Over-Month Increase in Trips\").\n",
      "    - `standardized_company`: Standardized company name (lowercase, no punctuation).\n",
      "    - `Taxi_Company`: Original company name.\n",
      "    - `Trip_Month`: Month of the metric in `YYYY-MM` format.\n",
      "    - `Mon_Metric_Val`: Current month's metric value (trip count or fare per mile).\n",
      "    - `Metric_Delta`: Month-over-month change in the metric.\n",
      "    - `Mon_Prior_Metric_Val`: Previous month's metric value.\n",
      "    - `Metric_Gross_Avg`: Overall company average for trips or fare per mile.\n",
      "    - `Metric_Diff_From_Avg`: Difference from the average.\n",
      "    - `Percent_Diff_From_Avg`: Percentage difference from the average.\n",
      "    - `Metric_Mon_Pct_Chg`: Numeric percentage change from the prior month.\n",
      "    - `Metric_Mon_Pct_Chg_Str`: String representation of the percentage change (e.g., \"123.4%\").\n",
      "    - `Metric_Insight`: Textual insight explaining the metric's significance.\n",
      "*/ --CREATE OR REPLACE TABLE `mikecancell-development.Chicago_Taxi_Trips.Monthly_Insights_Part_I` AS\n",
      "WITH -- Standardize Company Names\n",
      " Trip_Increases AS \n",
      "  (SELECT REGEXP_REPLACE(LOWER(TRIM(company)), r'[^a-z0-9\\s]', '') AS standardized_company, -- Standardize company names\n",
      " 'I.a-Largest Month-Over-Month Increase in Trips' AS Metric_Description, \n",
      " company, \n",
      " FORMAT_TIMESTAMP('%Y-%m', trip_month) AS trip_month, -- Format trip month as YYYY-MM\n",
      " metric, \n",
      " LAG(metric) OVER (PARTITION BY REGEXP_REPLACE(LOWER(TRIM(company)), r'[^a-z0-9\\s]', '')\n",
      "                   ORDER BY trip_month) AS Mon_Prior_Metric_Val, -- Previous month's metric\n",
      " metric - LAG(metric) OVER (PARTITION BY REGEXP_REPLACE(LOWER(TRIM(company)), r'[^a-z0-9\\s]', '')\n",
      "                            ORDER BY trip_month) AS metric_delta, -- Month-over-month change\n",
      " AVG(metric) OVER (PARTITION BY REGEXP_REPLACE(LOWER(TRIM(company)), r'[^a-z0-9\\s]', '')) AS Metric_Gross_Avg, -- Overall company average for trips\n",
      " metric - AVG(metric) OVER (PARTITION BY REGEXP_REPLACE(LOWER(TRIM(company)), r'[^a-z0-9\\s]', '')) AS Metric_Diff_From_Avg, -- Difference from average\n",
      " SAFE_DIVIDE(metric - AVG(metric) OVER (PARTITION BY REGEXP_REPLACE(LOWER(TRIM(company)), r'[^a-z0-9\\s]', '')), AVG(metric) OVER (PARTITION BY REGEXP_REPLACE(LOWER(TRIM(company)), r'[^a-z0-9\\s]', ''))) * 100 AS Percent_Diff_From_Avg -- Percentage difference from average\n",
      "\n",
      "   FROM\n",
      "     (SELECT company,\n",
      "             DATE_TRUNC(trip_start_timestamp, MONTH) AS trip_month, -- Extract month from trip start timestamp\n",
      " COUNT(*) AS metric -- Count trips\n",
      "\n",
      "      FROM `bigquery-public-data.chicago_taxi_trips.taxi_trips`\n",
      "      WHERE company IS NOT NULL -- Exclude trips with no company information\n",
      "\n",
      "      GROUP BY company,\n",
      "               DATE_TRUNC(trip_start_timestamp, MONTH)) aggregated_data),\n",
      " Fare_Decreases AS\n",
      "  (SELECT REGEXP_REPLACE(LOWER(TRIM(company)), r'[^a-z0-9\\s]', '') AS standardized_company, -- Standardize company names\n",
      " 'I.b-Largest Month-Over-Month Decrease in Fare Per Mile' AS Metric_Description,\n",
      " company,\n",
      " FORMAT_TIMESTAMP('%Y-%m', trip_month) AS trip_month, -- Format trip month as YYYY-MM\n",
      " metric,\n",
      " LAG(metric) OVER (PARTITION BY REGEXP_REPLACE(LOWER(TRIM(company)), r'[^a-z0-9\\s]', '')\n",
      "                   ORDER BY trip_month) AS Mon_Prior_Metric_Val, -- Previous month's metric\n",
      " metric - LAG(metric) OVER (PARTITION BY REGEXP_REPLACE(LOWER(TRIM(company)), r'[^a-z0-9\\s]', '')\n",
      "                            ORDER BY trip_month) AS metric_delta, -- Month-over-month change\n",
      " AVG(metric) OVER (PARTITION BY REGEXP_REPLACE(LOWER(TRIM(company)), r'[^a-z0-9\\s]', '')) AS Metric_Gross_Avg, -- Overall company average for fare per mile\n",
      " metric - AVG(metric) OVER (PARTITION BY REGEXP_REPLACE(LOWER(TRIM(company)), r'[^a-z0-9\\s]', '')) AS Metric_Diff_From_Avg, -- Difference from average\n",
      " SAFE_DIVIDE(metric - AVG(metric) OVER (PARTITION BY REGEXP_REPLACE(LOWER(TRIM(company)), r'[^a-z0-9\\s]', '')), AVG(metric) OVER (PARTITION BY REGEXP_REPLACE(LOWER(TRIM(company)), r'[^a-z0-9\\s]', ''))) * 100 AS Percent_Diff_From_Avg -- Percentage difference from average\n",
      " \n",
      "   FROM \n",
      "     (SELECT company, \n",
      "             DATE_TRUNC(trip_start_timestamp, MONTH) AS trip_month, -- Extract month from trip start timestamp\n",
      " SAFE_DIVIDE(SUM(fare), SUM(trip_miles)) AS metric -- Calculate fare per mile\n",
      " \n",
      "      FROM `bigquery-public-data.chicago_taxi_trips.taxi_trips` \n",
      "      WHERE company IS NOT NULL -- Exclude trips with no company information\n",
      " \n",
      "        AND trip_miles > 0 -- Exclude trips with zero or negative miles\n",
      " \n",
      "      GROUP BY company, \n",
      "               DATE_TRUNC(trip_start_timestamp, MONTH)) aggregated_data), -- Rank Trip Increases by Metric Delta\n",
      " MoM_Trip_Increases_Ranked AS \n",
      "  (SELECT Metric_Description, \n",
      "          standardized_company, \n",
      "          company, \n",
      "          trip_month, \n",
      "          metric, \n",
      "          Mon_Prior_Metric_Val, \n",
      "          metric_delta, \n",
      "          Metric_Gross_Avg, -- Include company average\n",
      " Metric_Diff_From_Avg, -- Include difference from average\n",
      " Percent_Diff_From_Avg, -- Include percentage difference from average\n",
      " SAFE_DIVIDE(metric_delta, Mon_Prior_Metric_Val) AS Metric_Mon_Pct_Chg, -- Calculate percentage change\n",
      " CONCAT(FORMAT('%.1f', SAFE_DIVIDE(metric_delta, Mon_Prior_Metric_Val) * 100), '%') AS Metric_Mon_Pct_Chg_Str, -- Format percentage change as string\n",
      " ROW_NUMBER() OVER (PARTITION BY standardized_company\n",
      "                    ORDER BY metric_delta DESC) AS rank -- Rank by largest increase\n",
      " \n",
      "   FROM Trip_Increases \n",
      "   WHERE Mon_Prior_Metric_Val IS NOT NULL -- Exclude rows with no prior month data\n",
      " \n",
      "     AND Mon_Prior_Metric_Val > 100 -- Exclude months with very low prior metrics\n",
      " \n",
      "     AND metric > 100 -- Exclude months with very low current metrics\n",
      " \n",
      "     AND SAFE_DIVIDE(metric_delta, Mon_Prior_Metric_Val) <= 10 -- Cap extreme percentage changes\n",
      "), -- Rank Fare Per Mile Decreases by Metric Delta\n",
      " MoM_FarePerMile_Decreases_Ranked AS \n",
      "  (SELECT Metric_Description, \n",
      "          standardized_company, \n",
      "          company, \n",
      "          trip_month, \n",
      "          metric, \n",
      "          Mon_Prior_Metric_Val, \n",
      "          metric_delta, \n",
      "          Metric_Gross_Avg, -- Include company average\n",
      " Metric_Diff_From_Avg, -- Include difference from average\n",
      " Percent_Diff_From_Avg, -- Include percentage difference from average\n",
      " SAFE_DIVIDE(metric_delta, Mon_Prior_Metric_Val) AS Metric_Mon_Pct_Chg, -- Calculate percentage change\n",
      " CONCAT(FORMAT('%.1f', SAFE_DIVIDE(metric_delta, Mon_Prior_Metric_Val) * 100), '%') AS Metric_Mon_Pct_Chg_Str, -- Format percentage change as string\n",
      " ROW_NUMBER() OVER (PARTITION BY standardized_company\n",
      "                    ORDER BY metric_delta ASC) AS rank -- Rank by largest decrease\n",
      " \n",
      "   FROM Fare_Decreases \n",
      "   WHERE Mon_Prior_Metric_Val IS NOT NULL -- Exclude rows with no prior month data\n",
      " \n",
      "     AND Mon_Prior_Metric_Val > 0.1 -- Exclude months with very low prior metrics\n",
      " \n",
      "     AND metric > 0.1 -- Exclude months with very low current metrics\n",
      " \n",
      "     AND SAFE_DIVIDE(metric_delta, Mon_Prior_Metric_Val) >= -10 -- Cap extreme percentage decreases\n",
      "), -- Extract Top Trip Increase Insights\n",
      " Top_Trip_Increase_Insights AS \n",
      "  (SELECT b.*, \n",
      "          CASE \n",
      "              WHEN b.Mon_Prior_Metric_Val IS NULL THEN \"No Prior Data Available to Calculate Insights\" -- Handle missing prior month data\n",
      " \n",
      "              ELSE CONCAT(\"In  \", FORMAT_TIMESTAMP('%b %Y', PARSE_TIMESTAMP('%Y-%m', b.Trip_Month)), \", trips increased by \", FORMAT(\"%'d\", CAST(b.Metric_Delta AS INT64)), -- Use FORMAT with '%d' and ',' for comma-separated numbers\n",
      " \" (\", b.Metric_Mon_Pct_Chg_Str, \") compared to the previous month. The company's average monthly trips are \", FORMAT(\"%'d\", CAST(b.Metric_Gross_Avg AS INT64)), -- Include company average in the insight\n",
      " \". This month's trips are \", FORMAT(\"%'d\", CAST(b.Metric_Diff_From_Avg AS INT64)), -- Include difference from average\n",
      " \" trips (\", FORMAT('%.1f', b.Percent_Diff_From_Avg), \"%) \", IF(b.Metric_Diff_From_Avg > 0, \"above\", \"below\"), \" the company's average.\\nPotential reasons could include: \", \"\\n- seasonal changes, \", \"\\n- marketing campaigns, \", \"\\n- operational adjustments, \", \"\\n- increased demand due to events, \", \"\\n- improved service offerings, \", \"\\n- increased fleet size, \", \"\\n- acquisition or merger with former competitor.\") \n",
      "          END AS Metric_Insight \n",
      "   FROM \n",
      "     (SELECT a.*, \n",
      "             ROW_NUMBER() OVER (PARTITION BY a.standardized_company\n",
      "                                ORDER BY a.overall_rank ASC) AS company_rank -- Ensure uniqueness per company\n",
      " \n",
      "      FROM \n",
      "        (SELECT Metric_Description, \n",
      "                standardized_company, \n",
      "                company AS Taxi_Company, \n",
      "                trip_month AS Trip_Month, \n",
      "                metric AS Mon_Metric_Val, \n",
      "                metric_delta AS Metric_Delta, \n",
      "                Mon_Prior_Metric_Val, \n",
      "                Metric_Gross_Avg, -- Include company average\n",
      " Metric_Diff_From_Avg, -- Include difference from average\n",
      " Percent_Diff_From_Avg, -- Include percentage difference from average\n",
      " Metric_Mon_Pct_Chg, \n",
      " Metric_Mon_Pct_Chg_Str, \n",
      " ROW_NUMBER() OVER (\n",
      "                    ORDER BY metric_delta DESC) AS overall_rank -- Rank globally by largest increase\n",
      " \n",
      "         FROM MoM_Trip_Increases_Ranked \n",
      "         WHERE rank = 1 -- Only consider the top increase for each company\n",
      ") a \n",
      "      WHERE overall_rank <= 3 -- Limit to the top 3 increases overall\n",
      ") b \n",
      "   WHERE b.company_rank = 1 -- Ensure each company appears only once\n",
      "), -- Extract Top Fare Per Mile Decrease Insights\n",
      " Top_FarePerMile_Decrease_Insights AS \n",
      "  (SELECT b.*, \n",
      "          CASE \n",
      "              WHEN b.Mon_Prior_Metric_Val IS NULL THEN \"No Prior Data Available to Calculate Insights\" -- Handle missing prior month data\n",
      " \n",
      "              ELSE CONCAT(\"In  \", FORMAT_TIMESTAMP('%b %Y', PARSE_TIMESTAMP('%Y-%m', b.Trip_Month)), \", fare per mile decreased by \", CONCAT(\"$\", FORMAT(\"%'.2f\", ABS(b.Metric_Delta))), -- Use FORMAT with '%,.2f' for comma-separated numbers rounded to 2 decimals and format as currency\n",
      " \" (\", b.Metric_Mon_Pct_Chg_Str, \") compared to the previous month. The company's average fare per mile is $\", FORMAT(\"%'.2f\", b.Metric_Gross_Avg), -- Include company average in the insight\n",
      " \". This month's fare per mile is $\", FORMAT(\"%'.2f\", ABS(b.Metric_Diff_From_Avg)), -- Include difference from average\n",
      " \" (\", FORMAT('%.1f', b.Percent_Diff_From_Avg), \"%) \", IF(b.Metric_Diff_From_Avg > 0, \"above\", \"below\"), \" the company's average.\\nPotential reasons could include: \", \"\\n- promotional discounts or fare reductions, \", \"\\n- introduction of new pricing models, \", \"\\n- increased use of flat-rate fares, \", \"\\n- temporary subsidies or incentives, \", \"\\n- errors in fare calculation or reporting, \", \"\\n- increased prevalence of shorter trips, \", \"\\n- changes in trip patterns or routes, \", \"\\n- seasonal or event-driven demand shifts, \", \"\\n- increased competition driving down prices, \", \"\\n- operational adjustments to attract more riders.\")\n",
      "          END AS Metric_Insight\n",
      "   FROM\n",
      "     (SELECT a.*,\n",
      "             ROW_NUMBER() OVER (PARTITION BY a.standardized_company\n",
      "                                ORDER BY a.overall_rank ASC) AS company_rank -- Ensure uniqueness per company\n",
      "\n",
      "      FROM\n",
      "        (SELECT Metric_Description,\n",
      "                standardized_company,\n",
      "                company AS Taxi_Company,\n",
      "                trip_month AS Trip_Month,\n",
      "                metric AS Mon_Metric_Val,\n",
      "                metric_delta AS Metric_Delta,\n",
      "                Mon_Prior_Metric_Val,\n",
      "                Metric_Gross_Avg, -- Include company average\n",
      " Metric_Diff_From_Avg, -- Include difference from average\n",
      " Percent_Diff_From_Avg, -- Include percentage difference from average\n",
      " Metric_Mon_Pct_Chg,\n",
      " Metric_Mon_Pct_Chg_Str,\n",
      " ROW_NUMBER() OVER (\n",
      "                    ORDER BY metric_delta ASC) AS overall_rank -- Rank globally by largest decrease\n",
      "\n",
      "         FROM MoM_FarePerMile_Decreases_Ranked\n",
      "         WHERE rank = 1 -- Only consider the top decrease for each company\n",
      ") a\n",
      "      WHERE overall_rank <= 3 -- Limit to the top 3 decreases overall\n",
      ") b\n",
      "   WHERE b.company_rank = 1 -- Ensure each company appears only once\n",
      ") -- Combine Insights\n",
      "\n",
      "SELECT Metric_Description,\n",
      "       Taxi_Company,\n",
      "       Trip_Month,\n",
      "       Mon_Metric_Val,\n",
      "       Metric_Delta,\n",
      "       Mon_Prior_Metric_Val,\n",
      "       ROUND(Metric_Gross_Avg, 2) AS Metric_Gross_Avg, -- Round to 2 decimals\n",
      " ROUND(Metric_Diff_From_Avg, 2) AS Metric_Diff_From_Avg, -- Round to 2 decimals\n",
      " ROUND(Percent_Diff_From_Avg, 2) AS Percent_Diff_From_Avg, -- Round to 2 decimals\n",
      " ROUND(Metric_Mon_Pct_Chg, 2) AS Metric_Mon_Pct_Chg, -- Round to 2 decimals\n",
      " Metric_Mon_Pct_Chg_Str,\n",
      " Metric_Insight\n",
      "FROM Top_Trip_Increase_Insights\n",
      "UNION ALL\n",
      "SELECT Metric_Description,\n",
      "       Taxi_Company,\n",
      "       Trip_Month,\n",
      "       Mon_Metric_Val,\n",
      "       Metric_Delta,\n",
      "       Mon_Prior_Metric_Val,\n",
      "       ROUND(Metric_Gross_Avg, 2) AS Metric_Gross_Avg, -- Round to 2 decimals\n",
      " ROUND(Metric_Diff_From_Avg, 2) AS Metric_Diff_From_Avg, -- Round to 2 decimals\n",
      " ROUND(Percent_Diff_From_Avg, 2) AS Percent_Diff_From_Avg, -- Round to 2 decimals\n",
      " ROUND(Metric_Mon_Pct_Chg, 2) AS Metric_Mon_Pct_Chg, -- Round to 2 decimals\n",
      " Metric_Mon_Pct_Chg_Str,\n",
      " Metric_Insight\n",
      "FROM Top_FarePerMile_Decrease_Insights\n",
      "ORDER BY Metric_Description,\n",
      "         Trip_Month DESC; -- Order by metric description and month in descending order\n",
      "-- End of Query\n"
     ]
    }
   ],
   "source": [
    "import sqlparse\n",
    "\n",
    "# Beautify the SQL code\n",
    "formatted_sql_code = sqlparse.format(sql_code, reindent=True, keyword_case='upper')\n",
    "\n",
    "# Display the beautified SQL code\n",
    "print(formatted_sql_code)"
   ]
  },
  {
   "cell_type": "markdown",
   "id": "eb678898",
   "metadata": {},
   "source": [
    "##### Execute the Query\n",
    "from google.cloud import bigquery"
   ]
  },
  {
   "cell_type": "code",
   "execution_count": 5,
   "id": "fb7742a1",
   "metadata": {},
   "outputs": [
    {
     "name": "stdout",
     "output_type": "stream",
     "text": [
      "Downloading: 100%|\u001b[32m██████████\u001b[0m|\n",
      "                                  Metric_Description  \\\n",
      "0     I.a-Largest Month-Over-Month Increase in Trips   \n",
      "1     I.a-Largest Month-Over-Month Increase in Trips   \n",
      "2     I.a-Largest Month-Over-Month Increase in Trips   \n",
      "3  I.b-Largest Month-Over-Month Decrease in Fare ...   \n",
      "4  I.b-Largest Month-Over-Month Decrease in Fare ...   \n",
      "\n",
      "                        Taxi_Company Trip_Month  Mon_Metric_Val  \\\n",
      "0          Chicago Carriage Cab Corp    2016-07   166663.000000   \n",
      "1                          Flash Cab    2016-01   347793.000000   \n",
      "2          Taxi Affiliation Services    2014-03   858829.000000   \n",
      "3                  Metro Jet Taxi A.    2021-08        2.605708   \n",
      "4  Blue Ribbon Taxi Association Inc.    2020-08       26.148880   \n",
      "\n",
      "    Metric_Delta  Mon_Prior_Metric_Val  Metric_Gross_Avg  \\\n",
      "0  131272.000000          35391.000000         154555.06   \n",
      "1  276654.000000          71139.000000         188727.70   \n",
      "2  115543.000000         743286.000000         334605.25   \n",
      "3     -50.079162             52.684870              9.44   \n",
      "4     -25.248745             51.397625             29.74   \n",
      "\n",
      "   Metric_Diff_From_Avg  Percent_Diff_From_Avg  Metric_Mon_Pct_Chg  \\\n",
      "0              12107.94                   7.83                3.71   \n",
      "1             159065.30                  84.28                3.89   \n",
      "2             524223.75                 156.67                0.16   \n",
      "3                 -6.83                 -72.39               -0.95   \n",
      "4                 -3.59                 -12.07               -0.49   \n",
      "\n",
      "  Metric_Mon_Pct_Chg_Str                                     Metric_Insight  \n",
      "0                 370.9%  In  Jul 2016, trips increased by 131,272 (370....  \n",
      "1                 388.9%  In  Jan 2016, trips increased by 276,654 (388....  \n",
      "2                  15.5%  In  Mar 2014, trips increased by 115,543 (15.5...  \n",
      "3                 -95.1%  In  Aug 2021, fare per mile decreased by $50.0...  \n",
      "4                 -49.1%  In  Aug 2020, fare per mile decreased by $25.2...  \n"
     ]
    }
   ],
   "source": [
    "import warnings\n",
    "from pandas_gbq.exceptions import LargeResultsWarning\n",
    "\n",
    "# Suppress the LargeResultsWarning\n",
    "warnings.simplefilter('ignore', category=LargeResultsWarning)\n",
    "\n",
    "# Import the pandas_gbq library\n",
    "import pandas_gbq\n",
    "\n",
    "# Define the SQL query\n",
    "query = sql_code\n",
    "\n",
    "# Read the data from BigQuery into a pandas DataFrame\n",
    "Insights_Part_I = pandas_gbq.read_gbq(query, project_id=credentials.project_id, credentials=credentials)\n",
    "\n",
    "# Display the first few rows of the dataframe\n",
    "print(Insights_Part_I.head())\n"
   ]
  },
  {
   "cell_type": "markdown",
   "id": "3fcdd5da",
   "metadata": {},
   "source": [
    "##### Read the Largest Month Over Month Increase in Trips Measurement Data"
   ]
  },
  {
   "cell_type": "code",
   "execution_count": 6,
   "id": "7005bc6f",
   "metadata": {},
   "outputs": [
    {
     "name": "stdout",
     "output_type": "stream",
     "text": [
      "                               Metric_Description               Taxi_Company  \\\n",
      "0  I.a-Largest Month-Over-Month Increase in Trips  Chicago Carriage Cab Corp   \n",
      "1  I.a-Largest Month-Over-Month Increase in Trips                  Flash Cab   \n",
      "2  I.a-Largest Month-Over-Month Increase in Trips  Taxi Affiliation Services   \n",
      "\n",
      "  Trip_Month  Mon_Metric_Val  Metric_Delta  Mon_Prior_Metric_Val  \\\n",
      "0    2016-07        166663.0      131272.0               35391.0   \n",
      "1    2016-01        347793.0      276654.0               71139.0   \n",
      "2    2014-03        858829.0      115543.0              743286.0   \n",
      "\n",
      "   Metric_Gross_Avg  Metric_Diff_From_Avg  Percent_Diff_From_Avg  \\\n",
      "0         154555.06              12107.94                   7.83   \n",
      "1         188727.70             159065.30                  84.28   \n",
      "2         334605.25             524223.75                 156.67   \n",
      "\n",
      "   Metric_Mon_Pct_Chg Metric_Mon_Pct_Chg_Str  \\\n",
      "0                3.71                 370.9%   \n",
      "1                3.89                 388.9%   \n",
      "2                0.16                  15.5%   \n",
      "\n",
      "                                      Metric_Insight  \n",
      "0  In  Jul 2016, trips increased by 131,272 (370....  \n",
      "1  In  Jan 2016, trips increased by 276,654 (388....  \n",
      "2  In  Mar 2014, trips increased by 115,543 (15.5...  \n"
     ]
    }
   ],
   "source": [
    "largest_trip_increase = Insights_Part_I[Insights_Part_I['Metric_Description'] == 'I.a-Largest Month-Over-Month Increase in Trips']\n",
    "print(largest_trip_increase)"
   ]
  },
  {
   "cell_type": "markdown",
   "id": "4ded458a",
   "metadata": {},
   "source": [
    "#### Show the Largest Month Over Month Increase in Trips Measurement Data"
   ]
  },
  {
   "cell_type": "code",
   "execution_count": 82,
   "id": "1944a44e",
   "metadata": {},
   "outputs": [
    {
     "data": {
      "application/vnd.plotly.v1+json": {
       "config": {
        "plotlyServerURL": "https://plot.ly"
       },
       "data": [
        {
         "cells": {
          "align": "left",
          "fill": {
           "color": [
            [
             "white",
             "lightgrey",
             "white",
             "lightgrey"
            ]
           ]
          },
          "font": {
           "size": 11
          },
          "line": {
           "color": "black"
          },
          "values": [
           [
            "I.a-Largest Month-Over-Month Increase in Trips",
            "I.a-Largest Month-Over-Month Increase in Trips",
            "I.a-Largest Month-Over-Month Increase in Trips"
           ],
           [
            "2016-07",
            "2016-01",
            "2014-03"
           ],
           [
            "Chicago Carriage Cab Corp",
            "Flash Cab",
            "Taxi Affiliation Services"
           ],
           [
            "In Jul 2016, trips increased by 131,272 (370.9%) compared to the previous month.<br>The company's average monthly trips are 154,555. This month's trips are 12,108 trips (7.8%) above the company's average.<br>Potential reasons could include: <br>• seasonal changes, <br>• marketing campaigns, <br>• operational adjustments, <br>• increased demand due to events, <br>• improved service offerings, <br>• increased fleet size, <br>• acquisition or merger with former competitor.<br>",
            "In Jan 2016, trips increased by 276,654 (388.9%) compared to the previous month.<br>The company's average monthly trips are 188,728. This month's trips are 159,065 trips (84.3%) above the company's average.<br>Potential reasons could include: <br>• seasonal changes, <br>• marketing campaigns, <br>• operational adjustments, <br>• increased demand due to events, <br>• improved service offerings, <br>• increased fleet size, <br>• acquisition or merger with former competitor.<br>",
            "In Mar 2014, trips increased by 115,543 (15.5%) compared to the previous month.<br>The company's average monthly trips are 334,605. This month's trips are 524,224 trips (156.7%) above the company's average.<br>Potential reasons could include: <br>• seasonal changes, <br>• marketing campaigns, <br>• operational adjustments, <br>• increased demand due to events, <br>• improved service offerings, <br>• increased fleet size, <br>• acquisition or merger with former competitor.<br>"
           ]
          ]
         },
         "columnwidth": [
          2,
          1,
          1.5,
          5
         ],
         "header": {
          "align": "left",
          "fill": {
           "color": "grey"
          },
          "font": {
           "color": "black",
           "size": 12
          },
          "values": [
           "<b>Metric_Description</b>",
           "<b>Trip_Month</b>",
           "<b>Taxi_Company</b>",
           "<b>Metric_Insight</b>"
          ]
         },
         "type": "table"
        }
       ],
       "layout": {
        "autosize": true,
        "margin": {
         "b": 10,
         "l": 10,
         "r": 10,
         "t": 10
        },
        "template": {
         "data": {
          "bar": [
           {
            "error_x": {
             "color": "#2a3f5f"
            },
            "error_y": {
             "color": "#2a3f5f"
            },
            "marker": {
             "line": {
              "color": "#E5ECF6",
              "width": 0.5
             },
             "pattern": {
              "fillmode": "overlay",
              "size": 10,
              "solidity": 0.2
             }
            },
            "type": "bar"
           }
          ],
          "barpolar": [
           {
            "marker": {
             "line": {
              "color": "#E5ECF6",
              "width": 0.5
             },
             "pattern": {
              "fillmode": "overlay",
              "size": 10,
              "solidity": 0.2
             }
            },
            "type": "barpolar"
           }
          ],
          "carpet": [
           {
            "aaxis": {
             "endlinecolor": "#2a3f5f",
             "gridcolor": "white",
             "linecolor": "white",
             "minorgridcolor": "white",
             "startlinecolor": "#2a3f5f"
            },
            "baxis": {
             "endlinecolor": "#2a3f5f",
             "gridcolor": "white",
             "linecolor": "white",
             "minorgridcolor": "white",
             "startlinecolor": "#2a3f5f"
            },
            "type": "carpet"
           }
          ],
          "choropleth": [
           {
            "colorbar": {
             "outlinewidth": 0,
             "ticks": ""
            },
            "type": "choropleth"
           }
          ],
          "contour": [
           {
            "colorbar": {
             "outlinewidth": 0,
             "ticks": ""
            },
            "colorscale": [
             [
              0,
              "#0d0887"
             ],
             [
              0.1111111111111111,
              "#46039f"
             ],
             [
              0.2222222222222222,
              "#7201a8"
             ],
             [
              0.3333333333333333,
              "#9c179e"
             ],
             [
              0.4444444444444444,
              "#bd3786"
             ],
             [
              0.5555555555555556,
              "#d8576b"
             ],
             [
              0.6666666666666666,
              "#ed7953"
             ],
             [
              0.7777777777777778,
              "#fb9f3a"
             ],
             [
              0.8888888888888888,
              "#fdca26"
             ],
             [
              1,
              "#f0f921"
             ]
            ],
            "type": "contour"
           }
          ],
          "contourcarpet": [
           {
            "colorbar": {
             "outlinewidth": 0,
             "ticks": ""
            },
            "type": "contourcarpet"
           }
          ],
          "heatmap": [
           {
            "colorbar": {
             "outlinewidth": 0,
             "ticks": ""
            },
            "colorscale": [
             [
              0,
              "#0d0887"
             ],
             [
              0.1111111111111111,
              "#46039f"
             ],
             [
              0.2222222222222222,
              "#7201a8"
             ],
             [
              0.3333333333333333,
              "#9c179e"
             ],
             [
              0.4444444444444444,
              "#bd3786"
             ],
             [
              0.5555555555555556,
              "#d8576b"
             ],
             [
              0.6666666666666666,
              "#ed7953"
             ],
             [
              0.7777777777777778,
              "#fb9f3a"
             ],
             [
              0.8888888888888888,
              "#fdca26"
             ],
             [
              1,
              "#f0f921"
             ]
            ],
            "type": "heatmap"
           }
          ],
          "histogram": [
           {
            "marker": {
             "pattern": {
              "fillmode": "overlay",
              "size": 10,
              "solidity": 0.2
             }
            },
            "type": "histogram"
           }
          ],
          "histogram2d": [
           {
            "colorbar": {
             "outlinewidth": 0,
             "ticks": ""
            },
            "colorscale": [
             [
              0,
              "#0d0887"
             ],
             [
              0.1111111111111111,
              "#46039f"
             ],
             [
              0.2222222222222222,
              "#7201a8"
             ],
             [
              0.3333333333333333,
              "#9c179e"
             ],
             [
              0.4444444444444444,
              "#bd3786"
             ],
             [
              0.5555555555555556,
              "#d8576b"
             ],
             [
              0.6666666666666666,
              "#ed7953"
             ],
             [
              0.7777777777777778,
              "#fb9f3a"
             ],
             [
              0.8888888888888888,
              "#fdca26"
             ],
             [
              1,
              "#f0f921"
             ]
            ],
            "type": "histogram2d"
           }
          ],
          "histogram2dcontour": [
           {
            "colorbar": {
             "outlinewidth": 0,
             "ticks": ""
            },
            "colorscale": [
             [
              0,
              "#0d0887"
             ],
             [
              0.1111111111111111,
              "#46039f"
             ],
             [
              0.2222222222222222,
              "#7201a8"
             ],
             [
              0.3333333333333333,
              "#9c179e"
             ],
             [
              0.4444444444444444,
              "#bd3786"
             ],
             [
              0.5555555555555556,
              "#d8576b"
             ],
             [
              0.6666666666666666,
              "#ed7953"
             ],
             [
              0.7777777777777778,
              "#fb9f3a"
             ],
             [
              0.8888888888888888,
              "#fdca26"
             ],
             [
              1,
              "#f0f921"
             ]
            ],
            "type": "histogram2dcontour"
           }
          ],
          "mesh3d": [
           {
            "colorbar": {
             "outlinewidth": 0,
             "ticks": ""
            },
            "type": "mesh3d"
           }
          ],
          "parcoords": [
           {
            "line": {
             "colorbar": {
              "outlinewidth": 0,
              "ticks": ""
             }
            },
            "type": "parcoords"
           }
          ],
          "pie": [
           {
            "automargin": true,
            "type": "pie"
           }
          ],
          "scatter": [
           {
            "fillpattern": {
             "fillmode": "overlay",
             "size": 10,
             "solidity": 0.2
            },
            "type": "scatter"
           }
          ],
          "scatter3d": [
           {
            "line": {
             "colorbar": {
              "outlinewidth": 0,
              "ticks": ""
             }
            },
            "marker": {
             "colorbar": {
              "outlinewidth": 0,
              "ticks": ""
             }
            },
            "type": "scatter3d"
           }
          ],
          "scattercarpet": [
           {
            "marker": {
             "colorbar": {
              "outlinewidth": 0,
              "ticks": ""
             }
            },
            "type": "scattercarpet"
           }
          ],
          "scattergeo": [
           {
            "marker": {
             "colorbar": {
              "outlinewidth": 0,
              "ticks": ""
             }
            },
            "type": "scattergeo"
           }
          ],
          "scattergl": [
           {
            "marker": {
             "colorbar": {
              "outlinewidth": 0,
              "ticks": ""
             }
            },
            "type": "scattergl"
           }
          ],
          "scattermap": [
           {
            "marker": {
             "colorbar": {
              "outlinewidth": 0,
              "ticks": ""
             }
            },
            "type": "scattermap"
           }
          ],
          "scattermapbox": [
           {
            "marker": {
             "colorbar": {
              "outlinewidth": 0,
              "ticks": ""
             }
            },
            "type": "scattermapbox"
           }
          ],
          "scatterpolar": [
           {
            "marker": {
             "colorbar": {
              "outlinewidth": 0,
              "ticks": ""
             }
            },
            "type": "scatterpolar"
           }
          ],
          "scatterpolargl": [
           {
            "marker": {
             "colorbar": {
              "outlinewidth": 0,
              "ticks": ""
             }
            },
            "type": "scatterpolargl"
           }
          ],
          "scatterternary": [
           {
            "marker": {
             "colorbar": {
              "outlinewidth": 0,
              "ticks": ""
             }
            },
            "type": "scatterternary"
           }
          ],
          "surface": [
           {
            "colorbar": {
             "outlinewidth": 0,
             "ticks": ""
            },
            "colorscale": [
             [
              0,
              "#0d0887"
             ],
             [
              0.1111111111111111,
              "#46039f"
             ],
             [
              0.2222222222222222,
              "#7201a8"
             ],
             [
              0.3333333333333333,
              "#9c179e"
             ],
             [
              0.4444444444444444,
              "#bd3786"
             ],
             [
              0.5555555555555556,
              "#d8576b"
             ],
             [
              0.6666666666666666,
              "#ed7953"
             ],
             [
              0.7777777777777778,
              "#fb9f3a"
             ],
             [
              0.8888888888888888,
              "#fdca26"
             ],
             [
              1,
              "#f0f921"
             ]
            ],
            "type": "surface"
           }
          ],
          "table": [
           {
            "cells": {
             "fill": {
              "color": "#EBF0F8"
             },
             "line": {
              "color": "white"
             }
            },
            "header": {
             "fill": {
              "color": "#C8D4E3"
             },
             "line": {
              "color": "white"
             }
            },
            "type": "table"
           }
          ]
         },
         "layout": {
          "annotationdefaults": {
           "arrowcolor": "#2a3f5f",
           "arrowhead": 0,
           "arrowwidth": 1
          },
          "autotypenumbers": "strict",
          "coloraxis": {
           "colorbar": {
            "outlinewidth": 0,
            "ticks": ""
           }
          },
          "colorscale": {
           "diverging": [
            [
             0,
             "#8e0152"
            ],
            [
             0.1,
             "#c51b7d"
            ],
            [
             0.2,
             "#de77ae"
            ],
            [
             0.3,
             "#f1b6da"
            ],
            [
             0.4,
             "#fde0ef"
            ],
            [
             0.5,
             "#f7f7f7"
            ],
            [
             0.6,
             "#e6f5d0"
            ],
            [
             0.7,
             "#b8e186"
            ],
            [
             0.8,
             "#7fbc41"
            ],
            [
             0.9,
             "#4d9221"
            ],
            [
             1,
             "#276419"
            ]
           ],
           "sequential": [
            [
             0,
             "#0d0887"
            ],
            [
             0.1111111111111111,
             "#46039f"
            ],
            [
             0.2222222222222222,
             "#7201a8"
            ],
            [
             0.3333333333333333,
             "#9c179e"
            ],
            [
             0.4444444444444444,
             "#bd3786"
            ],
            [
             0.5555555555555556,
             "#d8576b"
            ],
            [
             0.6666666666666666,
             "#ed7953"
            ],
            [
             0.7777777777777778,
             "#fb9f3a"
            ],
            [
             0.8888888888888888,
             "#fdca26"
            ],
            [
             1,
             "#f0f921"
            ]
           ],
           "sequentialminus": [
            [
             0,
             "#0d0887"
            ],
            [
             0.1111111111111111,
             "#46039f"
            ],
            [
             0.2222222222222222,
             "#7201a8"
            ],
            [
             0.3333333333333333,
             "#9c179e"
            ],
            [
             0.4444444444444444,
             "#bd3786"
            ],
            [
             0.5555555555555556,
             "#d8576b"
            ],
            [
             0.6666666666666666,
             "#ed7953"
            ],
            [
             0.7777777777777778,
             "#fb9f3a"
            ],
            [
             0.8888888888888888,
             "#fdca26"
            ],
            [
             1,
             "#f0f921"
            ]
           ]
          },
          "colorway": [
           "#636efa",
           "#EF553B",
           "#00cc96",
           "#ab63fa",
           "#FFA15A",
           "#19d3f3",
           "#FF6692",
           "#B6E880",
           "#FF97FF",
           "#FECB52"
          ],
          "font": {
           "color": "#2a3f5f"
          },
          "geo": {
           "bgcolor": "white",
           "lakecolor": "white",
           "landcolor": "#E5ECF6",
           "showlakes": true,
           "showland": true,
           "subunitcolor": "white"
          },
          "hoverlabel": {
           "align": "left"
          },
          "hovermode": "closest",
          "mapbox": {
           "style": "light"
          },
          "paper_bgcolor": "white",
          "plot_bgcolor": "#E5ECF6",
          "polar": {
           "angularaxis": {
            "gridcolor": "white",
            "linecolor": "white",
            "ticks": ""
           },
           "bgcolor": "#E5ECF6",
           "radialaxis": {
            "gridcolor": "white",
            "linecolor": "white",
            "ticks": ""
           }
          },
          "scene": {
           "xaxis": {
            "backgroundcolor": "#E5ECF6",
            "gridcolor": "white",
            "gridwidth": 2,
            "linecolor": "white",
            "showbackground": true,
            "ticks": "",
            "zerolinecolor": "white"
           },
           "yaxis": {
            "backgroundcolor": "#E5ECF6",
            "gridcolor": "white",
            "gridwidth": 2,
            "linecolor": "white",
            "showbackground": true,
            "ticks": "",
            "zerolinecolor": "white"
           },
           "zaxis": {
            "backgroundcolor": "#E5ECF6",
            "gridcolor": "white",
            "gridwidth": 2,
            "linecolor": "white",
            "showbackground": true,
            "ticks": "",
            "zerolinecolor": "white"
           }
          },
          "shapedefaults": {
           "line": {
            "color": "#2a3f5f"
           }
          },
          "ternary": {
           "aaxis": {
            "gridcolor": "white",
            "linecolor": "white",
            "ticks": ""
           },
           "baxis": {
            "gridcolor": "white",
            "linecolor": "white",
            "ticks": ""
           },
           "bgcolor": "#E5ECF6",
           "caxis": {
            "gridcolor": "white",
            "linecolor": "white",
            "ticks": ""
           }
          },
          "title": {
           "x": 0.05
          },
          "xaxis": {
           "automargin": true,
           "gridcolor": "white",
           "linecolor": "white",
           "ticks": "",
           "title": {
            "standoff": 15
           },
           "zerolinecolor": "white",
           "zerolinewidth": 2
          },
          "yaxis": {
           "automargin": true,
           "gridcolor": "white",
           "linecolor": "white",
           "ticks": "",
           "title": {
            "standoff": 15
           },
           "zerolinecolor": "white",
           "zerolinewidth": 2
          }
         }
        },
        "width": 1500
       }
      }
     },
     "metadata": {},
     "output_type": "display_data"
    }
   ],
   "source": [
    "from plotly import graph_objects as go  # Import the required module\n",
    "\n",
    "# Check if the required column exists in the DataFrame\n",
    "if 'Metric_Description' not in Insights_Part_I.columns:\n",
    "    raise KeyError(\"The 'Metric_Description' column is missing from the Insights_Part_I DataFrame. Please verify the column name.\")\n",
    "\n",
    "# Filter the data to include only rows with 'Increase' in the 'Metric_Description' column\n",
    "filtered_data = Insights_Part_I[Insights_Part_I['Metric_Description'].str.contains('Increase', na=False)].copy()  # Create a deep copy to avoid SettingWithCopyWarning\n",
    "\n",
    "# Ensure the 'Metric_Insight' column exists in the DataFrame\n",
    "if 'Metric_Insight' not in filtered_data.columns:\n",
    "    filtered_data['Metric_Insight'] = ''  # Create an empty 'Metric_Insight' column if it doesn't exist\n",
    "\n",
    "# Replace '-' with '•' and add HTML <br> tags for new lines\n",
    "filtered_data['Metric_Insight'] = filtered_data['Metric_Insight'].str.replace('-', '•').str.replace('•', '<br>•')\n",
    "\n",
    "# Add a break after each sentence ends, retaining the period, but avoid breaking within numbers like \"123.123\"\n",
    "filtered_data['Metric_Insight'] = filtered_data['Metric_Insight'].str.replace(r'(?<!\\d)\\.(?!\\d)', '.<br>', regex=True)\n",
    "\n",
    "# Remove leading white space prior to each new line in the 'Metric_Insight' column\n",
    "filtered_data['Metric_Insight'] = filtered_data['Metric_Insight'].str.replace(r'<br>\\s+', '<br>', regex=True)\n",
    "\n",
    "# Replace multiple spaces with a single space\n",
    "filtered_data['Metric_Insight'] = filtered_data['Metric_Insight'].str.replace(r'\\s{2,}', ' ', regex=True)\n",
    "\n",
    "# Create an interactive table using Plotly\n",
    "fig = go.Figure(data=[go.Table(\n",
    "    header=dict(\n",
    "        values=['<b>Metric_Description</b>', '<b>Trip_Month</b>', '<b>Taxi_Company</b>', '<b>Metric_Insight</b>'],\n",
    "        fill_color='grey',\n",
    "        align='left',\n",
    "        font=dict(size=12, color='black')\n",
    "    ),\n",
    "    cells=dict(\n",
    "        values=[\n",
    "            filtered_data['Metric_Description'], \n",
    "            filtered_data['Trip_Month'], \n",
    "            filtered_data['Taxi_Company'], \n",
    "            filtered_data['Metric_Insight']\n",
    "        ],\n",
    "        fill_color=[['white', 'lightgrey'] * (len(filtered_data) // 2 + 1)],\n",
    "        align='left',\n",
    "        font=dict(size=11),\n",
    "        height=None,  # Allow cell height to adjust dynamically\n",
    "        line=dict(color='black')\n",
    "    )\n",
    ")],\n",
    "layout=dict(\n",
    "    autosize=True,  # Allow the table to adjust size automatically\n",
    "    width=1500,  # Set a fixed width to accommodate all columns\n",
    "    height=None,  # Allow height to adjust dynamically\n",
    "    margin=dict(l=10, r=10, t=10, b=10)  # Adjust margins for better spacing\n",
    "))\n",
    "\n",
    "# Set column widths dynamically\n",
    "fig.data[0].columnwidth = [2, 1, 1.5, 5]  # Adjust column widths proportionally: Metric_Description, Trip_Month, Taxi_Company, Metric_Insight\n",
    "\n",
    "# Display the interactive table\n",
    "fig.show()"
   ]
  },
  {
   "cell_type": "markdown",
   "id": "721e7eca",
   "metadata": {},
   "source": [
    "#### b. Distinct Company with Largest MoM Decrease in Fare-per-Mile \n",
    "Which three distinct taxi companies had the largest month-over-month decrease in fare-per-mile, and what were those months and fare-per-mile values?"
   ]
  },
  {
   "cell_type": "markdown",
   "id": "215333b3",
   "metadata": {},
   "source": [
    "### 2. Executive Summary/Report of Findings\n",
    "Submit an executive summary/report of your findings, clearly answering the questions above."
   ]
  },
  {
   "cell_type": "markdown",
   "id": "ce20a4db",
   "metadata": {},
   "source": [
    "## PART II\n",
    "This portion of the assignment gives our candidates creative freedom to look at this data set in any way they want.\n",
    "There are no tricks here. This is simply meant to allow us to understand their ability to unearth insights and leverage visualizations to tell a story."
   ]
  },
  {
   "cell_type": "markdown",
   "id": "aa657f3c",
   "metadata": {},
   "source": [
    "### 3. Additional Analysis Same Dataset\n",
    "Considering the context of the questions from part I, conduct an additional analysis using the same dataset and design a report that provides at least one additional insight, a trend or any other relevant detail that piques your interest.\n",
    "\n",
    "This report should:"
   ]
  },
  {
   "cell_type": "markdown",
   "id": "4f6c64a8",
   "metadata": {},
   "source": [
    "#### a. Clearly Explain Value or Potential Use of Observation \n",
    "Clearly explain the value or potential use of that observation for someone who is interested in the answers to the questions above."
   ]
  },
  {
   "cell_type": "markdown",
   "id": "0912687a",
   "metadata": {},
   "source": [
    "#### b. Include at least one visualization.\n",
    "If you have any questions regarding the assignment please contact Noam Berns\n",
    "noam.berns@ourbranch.com, Austin McCleary austin.mccleary@ourbranch.com and Carson\n",
    "Wilshire at carson.wilshire@ourbranch.com\n",
    "Please email your final submission to your Branch recruiter and cc the above three managers."
   ]
  }
 ],
 "metadata": {
  "kernelspec": {
   "display_name": "Python 3",
   "language": "python",
   "name": "python3"
  },
  "language_info": {
   "codemirror_mode": {
    "name": "ipython",
    "version": 3
   },
   "file_extension": ".py",
   "mimetype": "text/x-python",
   "name": "python",
   "nbconvert_exporter": "python",
   "pygments_lexer": "ipython3",
   "version": "3.13.1"
  }
 },
 "nbformat": 4,
 "nbformat_minor": 5
}
