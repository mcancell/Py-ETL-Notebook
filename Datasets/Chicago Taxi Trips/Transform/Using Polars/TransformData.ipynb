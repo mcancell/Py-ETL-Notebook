{
 "cells": [
  {
   "cell_type": "markdown",
   "metadata": {},
   "source": [
    "# Transform the Extracted Taxi Data"
   ]
  },
  {
   "cell_type": "markdown",
   "metadata": {},
   "source": [
    "## Organize the data into df using the appropriate data types"
   ]
  },
  {
   "cell_type": "code",
   "execution_count": 22,
   "metadata": {},
   "outputs": [
    {
     "data": {
      "text/html": [
       "<div><style>\n",
       ".dataframe > thead > tr,\n",
       ".dataframe > tbody > tr {\n",
       "  text-align: right;\n",
       "  white-space: pre-wrap;\n",
       "}\n",
       "</style>\n",
       "<small>shape: (5, 21)</small><table border=\"1\" class=\"dataframe\"><thead><tr><th>trip_id</th><th>taxi_id</th><th>trip_start_timestamp</th><th>trip_end_timestamp</th><th>trip_seconds</th><th>trip_miles</th><th>pickup_community_area</th><th>dropoff_community_area</th><th>fare</th><th>tips</th><th>tolls</th><th>extras</th><th>trip_total</th><th>payment_type</th><th>company</th><th>pickup_centroid_latitude</th><th>pickup_centroid_longitude</th><th>dropoff_centroid_latitude</th><th>dropoff_centroid_longitude</th><th>pickup_census_tract</th><th>dropoff_census_tract</th></tr><tr><td>str</td><td>str</td><td>datetime[μs]</td><td>datetime[μs]</td><td>f64</td><td>f64</td><td>i64</td><td>i64</td><td>f64</td><td>f64</td><td>f64</td><td>f64</td><td>f64</td><td>str</td><td>str</td><td>f64</td><td>f64</td><td>f64</td><td>f64</td><td>str</td><td>str</td></tr></thead><tbody><tr><td>&quot;5c0b9d9d95e401aa64da33eb3ffebb…</td><td>&quot;545ac2dfd5b722e0f0d884cc68ec27…</td><td>2024-12-20 19:30:00</td><td>2024-12-20 19:45:00</td><td>980.0</td><td>2.35</td><td>8</td><td>24</td><td>10.47</td><td>1.29</td><td>0.0</td><td>0.0</td><td>11.76</td><td>&quot;Mobile&quot;</td><td>&quot;Tac - American United Dispatch&quot;</td><td>41.899602</td><td>-87.633308</td><td>41.901207</td><td>-87.676356</td><td>null</td><td>null</td></tr><tr><td>&quot;6952ad9bc387cdc714604ec7af4053…</td><td>&quot;d4578429775c32e03fb5139e1d132b…</td><td>2024-12-30 16:15:00</td><td>2024-12-30 16:30:00</td><td>742.0</td><td>1.04</td><td>32</td><td>8</td><td>8.0</td><td>1.0</td><td>0.0</td><td>2.0</td><td>11.5</td><td>&quot;Credit Card&quot;</td><td>&quot;Taxicab Insurance Agency Llc&quot;</td><td>41.884987</td><td>-87.620993</td><td>41.899156</td><td>-87.626211</td><td>&quot;17031320100&quot;</td><td>&quot;17031081201&quot;</td></tr><tr><td>&quot;12535c80e6bed94672cc8f43d2b9be…</td><td>&quot;083b7260314e48be5e10a9191da36f…</td><td>2024-12-20 09:00:00</td><td>2024-12-20 09:00:00</td><td>180.0</td><td>0.5</td><td>28</td><td>32</td><td>4.75</td><td>0.0</td><td>0.0</td><td>0.0</td><td>4.75</td><td>&quot;Credit Card&quot;</td><td>&quot;Taxi Affiliation Services&quot;</td><td>41.879255</td><td>-87.642649</td><td>41.880994</td><td>-87.632746</td><td>&quot;17031281900&quot;</td><td>&quot;17031839100&quot;</td></tr><tr><td>&quot;a20cd18e92f8f33dab45f78ebde5f3…</td><td>&quot;6b29392d56c7d58fe76ec1513ab5c0…</td><td>2024-12-29 09:45:00</td><td>2024-12-29 09:45:00</td><td>348.0</td><td>1.16</td><td>35</td><td>35</td><td>6.5</td><td>0.0</td><td>0.0</td><td>0.0</td><td>6.5</td><td>&quot;Prcard&quot;</td><td>&quot;Sun Taxi&quot;</td><td>41.835118</td><td>-87.618678</td><td>41.835118</td><td>-87.618678</td><td>null</td><td>null</td></tr><tr><td>&quot;77acd09b0a28d9d3b371d46ae8e090…</td><td>&quot;49d226e40bf779a8ba34d280971ff8…</td><td>2024-12-28 12:15:00</td><td>2024-12-28 12:30:00</td><td>1410.0</td><td>12.06</td><td>8</td><td>44</td><td>32.0</td><td>0.0</td><td>0.0</td><td>0.0</td><td>32.0</td><td>&quot;Cash&quot;</td><td>&quot;Flash Cab&quot;</td><td>41.899602</td><td>-87.633308</td><td>41.740206</td><td>-87.61597</td><td>null</td><td>null</td></tr></tbody></table></div>"
      ],
      "text/plain": [
       "shape: (5, 21)\n",
       "┌───────────┬───────────┬───────────┬───────────┬───┬───────────┬───────────┬───────────┬──────────┐\n",
       "│ trip_id   ┆ taxi_id   ┆ trip_star ┆ trip_end_ ┆ … ┆ dropoff_c ┆ dropoff_c ┆ pickup_ce ┆ dropoff_ │\n",
       "│ ---       ┆ ---       ┆ t_timesta ┆ timestamp ┆   ┆ entroid_l ┆ entroid_l ┆ nsus_trac ┆ census_t │\n",
       "│ str       ┆ str       ┆ mp        ┆ ---       ┆   ┆ atitude   ┆ ongitude  ┆ t         ┆ ract     │\n",
       "│           ┆           ┆ ---       ┆ datetime[ ┆   ┆ ---       ┆ ---       ┆ ---       ┆ ---      │\n",
       "│           ┆           ┆ datetime[ ┆ μs]       ┆   ┆ f64       ┆ f64       ┆ str       ┆ str      │\n",
       "│           ┆           ┆ μs]       ┆           ┆   ┆           ┆           ┆           ┆          │\n",
       "╞═══════════╪═══════════╪═══════════╪═══════════╪═══╪═══════════╪═══════════╪═══════════╪══════════╡\n",
       "│ 5c0b9d9d9 ┆ 545ac2dfd ┆ 2024-12-2 ┆ 2024-12-2 ┆ … ┆ 41.901207 ┆ -87.67635 ┆ null      ┆ null     │\n",
       "│ 5e401aa64 ┆ 5b722e0f0 ┆ 0         ┆ 0         ┆   ┆           ┆ 6         ┆           ┆          │\n",
       "│ da33eb3ff ┆ d884cc68e ┆ 19:30:00  ┆ 19:45:00  ┆   ┆           ┆           ┆           ┆          │\n",
       "│ ebb…      ┆ c27…      ┆           ┆           ┆   ┆           ┆           ┆           ┆          │\n",
       "│ 6952ad9bc ┆ d45784297 ┆ 2024-12-3 ┆ 2024-12-3 ┆ … ┆ 41.899156 ┆ -87.62621 ┆ 170313201 ┆ 17031081 │\n",
       "│ 387cdc714 ┆ 75c32e03f ┆ 0         ┆ 0         ┆   ┆           ┆ 1         ┆ 00        ┆ 201      │\n",
       "│ 604ec7af4 ┆ b5139e1d1 ┆ 16:15:00  ┆ 16:30:00  ┆   ┆           ┆           ┆           ┆          │\n",
       "│ 053…      ┆ 32b…      ┆           ┆           ┆   ┆           ┆           ┆           ┆          │\n",
       "│ 12535c80e ┆ 083b72603 ┆ 2024-12-2 ┆ 2024-12-2 ┆ … ┆ 41.880994 ┆ -87.63274 ┆ 170312819 ┆ 17031839 │\n",
       "│ 6bed94672 ┆ 14e48be5e ┆ 0         ┆ 0         ┆   ┆           ┆ 6         ┆ 00        ┆ 100      │\n",
       "│ cc8f43d2b ┆ 10a9191da ┆ 09:00:00  ┆ 09:00:00  ┆   ┆           ┆           ┆           ┆          │\n",
       "│ 9be…      ┆ 36f…      ┆           ┆           ┆   ┆           ┆           ┆           ┆          │\n",
       "│ a20cd18e9 ┆ 6b29392d5 ┆ 2024-12-2 ┆ 2024-12-2 ┆ … ┆ 41.835118 ┆ -87.61867 ┆ null      ┆ null     │\n",
       "│ 2f8f33dab ┆ 6c7d58fe7 ┆ 9         ┆ 9         ┆   ┆           ┆ 8         ┆           ┆          │\n",
       "│ 45f78ebde ┆ 6ec1513ab ┆ 09:45:00  ┆ 09:45:00  ┆   ┆           ┆           ┆           ┆          │\n",
       "│ 5f3…      ┆ 5c0…      ┆           ┆           ┆   ┆           ┆           ┆           ┆          │\n",
       "│ 77acd09b0 ┆ 49d226e40 ┆ 2024-12-2 ┆ 2024-12-2 ┆ … ┆ 41.740206 ┆ -87.61597 ┆ null      ┆ null     │\n",
       "│ a28d9d3b3 ┆ bf779a8ba ┆ 8         ┆ 8         ┆   ┆           ┆           ┆           ┆          │\n",
       "│ 71d46ae8e ┆ 34d280971 ┆ 12:15:00  ┆ 12:30:00  ┆   ┆           ┆           ┆           ┆          │\n",
       "│ 090…      ┆ ff8…      ┆           ┆           ┆   ┆           ┆           ┆           ┆          │\n",
       "└───────────┴───────────┴───────────┴───────────┴───┴───────────┴───────────┴───────────┴──────────┘"
      ]
     },
     "execution_count": 22,
     "metadata": {},
     "output_type": "execute_result"
    }
   ],
   "source": [
    "import json\n",
    "import zipfile\n",
    "import os\n",
    "import polars as pl\n",
    "\n",
    "json_file_name = '/Users/mike/Data/Public/Chi_Taxi_Trips'\n",
    "\n",
    "# Check if the JSON file exists\n",
    "if os.path.exists(f\"{json_file_name}.json\"):\n",
    "    with open(f\"{json_file_name}.json\", 'r') as f:\n",
    "        data = json.load(f)\n",
    "# Check if the ZIP file exists\n",
    "elif os.path.exists(f\"{json_file_name}.zip\"):\n",
    "    with zipfile.ZipFile(f\"{json_file_name}.zip\", 'r') as zip_ref:\n",
    "        with zip_ref.open(zip_ref.namelist()[0]) as f:\n",
    "            data = json.load(f)\n",
    "else:\n",
    "    raise FileNotFoundError(f\"No such file or directory: '{json_file_name}.json' or '{json_file_name}.zip'\")\n",
    "\n",
    "# Remove unhashable columns\n",
    "for entry in data:\n",
    "    entry.pop('pickup_centroid_location', None)\n",
    "    entry.pop('dropoff_centroid_location', None)\n",
    "\n",
    "# Convert JSON data to a Polars DataFrame\n",
    "df = pl.DataFrame(data)\n",
    "\n",
    "# Drop duplicate rows\n",
    "df = df.unique()\n",
    "\n",
    "# Convert columns to appropriate types\n",
    "df = df.with_columns([\n",
    "    pl.col('trip_id').cast(pl.Utf8),\n",
    "    pl.col('taxi_id').cast(pl.Utf8),\n",
    "    pl.col('trip_start_timestamp').str.strptime(pl.Datetime, format=\"%Y-%m-%dT%H:%M:%S%.f\", strict=False),\n",
    "    pl.col('trip_end_timestamp').str.strptime(pl.Datetime, format=\"%Y-%m-%dT%H:%M:%S%.f\", strict=False),\n",
    "    pl.col('trip_seconds').cast(pl.Float64),\n",
    "    pl.col('trip_miles').cast(pl.Float64),\n",
    "    pl.col('pickup_community_area').cast(pl.Int64),\n",
    "    pl.col('dropoff_community_area').cast(pl.Int64),\n",
    "    pl.col('fare').cast(pl.Float64),\n",
    "    pl.col('tips').cast(pl.Float64),\n",
    "    pl.col('tolls').cast(pl.Float64),\n",
    "    pl.col('extras').cast(pl.Float64),\n",
    "    pl.col('trip_total').cast(pl.Float64),\n",
    "    pl.col('payment_type').cast(pl.Utf8),\n",
    "    pl.col('company').cast(pl.Utf8),\n",
    "    pl.col('pickup_centroid_latitude').cast(pl.Float64),\n",
    "    pl.col('pickup_centroid_longitude').cast(pl.Float64),\n",
    "    pl.col('dropoff_centroid_latitude').cast(pl.Float64),\n",
    "    pl.col('dropoff_centroid_longitude').cast(pl.Float64),\n",
    "    pl.col('pickup_census_tract').cast(pl.Utf8),\n",
    "    pl.col('dropoff_census_tract').cast(pl.Utf8)])\n",
    "\n",
    "# Display the DataFrame\n",
    "df.head()\n"
   ]
  },
  {
   "cell_type": "code",
   "execution_count": 44,
   "metadata": {},
   "outputs": [
    {
     "name": "stdout",
     "output_type": "stream",
     "text": [
      "trip_id: String\n",
      "taxi_id: String\n",
      "trip_start_timestamp: Datetime(time_unit='us', time_zone=None)\n",
      "trip_end_timestamp: Datetime(time_unit='us', time_zone=None)\n",
      "trip_seconds: Float64\n",
      "trip_miles: Float64\n",
      "pickup_community_area: Float64\n",
      "dropoff_community_area: Float64\n",
      "fare: Float64\n",
      "tips: Float64\n",
      "tolls: Float64\n",
      "extras: Float64\n",
      "trip_total: Float64\n",
      "payment_type: String\n",
      "company: String\n",
      "pickup_centroid_latitude: Float64\n",
      "pickup_centroid_longitude: Float64\n",
      "dropoff_centroid_latitude: Float64\n",
      "dropoff_centroid_longitude: Float64\n",
      "pickup_census_tract: String\n",
      "dropoff_census_tract: String\n"
     ]
    }
   ],
   "source": [
    "df.dtypes\n",
    "for col, dtype in zip(df.columns, df.dtypes):\n",
    "    print(f\"{col}: {dtype}\")"
   ]
  },
  {
   "cell_type": "code",
   "execution_count": 45,
   "metadata": {},
   "outputs": [
    {
     "data": {
      "text/html": [
       "<div><style>\n",
       ".dataframe > thead > tr,\n",
       ".dataframe > tbody > tr {\n",
       "  text-align: right;\n",
       "  white-space: pre-wrap;\n",
       "}\n",
       "</style>\n",
       "<small>shape: (9, 22)</small><table border=\"1\" class=\"dataframe\"><thead><tr><th>statistic</th><th>trip_id</th><th>taxi_id</th><th>trip_start_timestamp</th><th>trip_end_timestamp</th><th>trip_seconds</th><th>trip_miles</th><th>pickup_community_area</th><th>dropoff_community_area</th><th>fare</th><th>tips</th><th>tolls</th><th>extras</th><th>trip_total</th><th>payment_type</th><th>company</th><th>pickup_centroid_latitude</th><th>pickup_centroid_longitude</th><th>dropoff_centroid_latitude</th><th>dropoff_centroid_longitude</th><th>pickup_census_tract</th><th>dropoff_census_tract</th></tr><tr><td>str</td><td>str</td><td>str</td><td>str</td><td>str</td><td>f64</td><td>f64</td><td>f64</td><td>f64</td><td>f64</td><td>f64</td><td>f64</td><td>f64</td><td>f64</td><td>str</td><td>str</td><td>f64</td><td>f64</td><td>f64</td><td>f64</td><td>str</td><td>str</td></tr></thead><tbody><tr><td>&quot;count&quot;</td><td>&quot;179679&quot;</td><td>&quot;179679&quot;</td><td>&quot;179679&quot;</td><td>&quot;179679&quot;</td><td>179679.0</td><td>179679.0</td><td>179679.0</td><td>179679.0</td><td>179679.0</td><td>179679.0</td><td>179679.0</td><td>179679.0</td><td>179679.0</td><td>&quot;179679&quot;</td><td>&quot;179679&quot;</td><td>179679.0</td><td>179679.0</td><td>179679.0</td><td>179679.0</td><td>&quot;179679&quot;</td><td>&quot;179679&quot;</td></tr><tr><td>&quot;null_count&quot;</td><td>&quot;0&quot;</td><td>&quot;0&quot;</td><td>&quot;0&quot;</td><td>&quot;0&quot;</td><td>0.0</td><td>0.0</td><td>0.0</td><td>0.0</td><td>0.0</td><td>0.0</td><td>0.0</td><td>0.0</td><td>0.0</td><td>&quot;0&quot;</td><td>&quot;0&quot;</td><td>0.0</td><td>0.0</td><td>0.0</td><td>0.0</td><td>&quot;0&quot;</td><td>&quot;0&quot;</td></tr><tr><td>&quot;mean&quot;</td><td>null</td><td>null</td><td>&quot;2024-12-23 18:41:14.016997&quot;</td><td>&quot;2024-12-23 19:01:34.753978&quot;</td><td>1195.683643</td><td>6.836591</td><td>33.409356</td><td>25.045372</td><td>21.122806</td><td>2.274768</td><td>0.016495</td><td>1.654709</td><td>25.234824</td><td>null</td><td>null</td><td>41.897539</td><td>-87.689464</td><td>41.890543</td><td>-87.654437</td><td>null</td><td>null</td></tr><tr><td>&quot;std&quot;</td><td>null</td><td>null</td><td>null</td><td>null</td><td>1638.338323</td><td>8.609549</td><td>25.228502</td><td>19.334304</td><td>17.641721</td><td>3.758208</td><td>0.29783</td><td>4.886151</td><td>21.871028</td><td>null</td><td>null</td><td>0.064939</td><td>0.105301</td><td>0.057374</td><td>0.058529</td><td>null</td><td>null</td></tr><tr><td>&quot;min&quot;</td><td>&quot;0000b7daa281db74f51c8ee838283a…</td><td>&quot;0044e6c0d091476299b99345501f75…</td><td>&quot;2024-12-17 07:45:00&quot;</td><td>&quot;2024-12-17 07:45:00&quot;</td><td>0.0</td><td>0.01</td><td>1.0</td><td>1.0</td><td>0.0</td><td>0.0</td><td>0.0</td><td>0.0</td><td>0.0</td><td>&quot;Cash&quot;</td><td>&quot;2733 - 74600 Benny Jona&quot;</td><td>41.660136</td><td>-87.913625</td><td>41.660136</td><td>-87.913625</td><td>&quot;17031010202&quot;</td><td>&quot;17031010202&quot;</td></tr><tr><td>&quot;25%&quot;</td><td>null</td><td>null</td><td>&quot;2024-12-19 16:30:00&quot;</td><td>&quot;2024-12-19 17:00:00&quot;</td><td>499.0</td><td>1.3</td><td>8.0</td><td>8.0</td><td>8.25</td><td>0.0</td><td>0.0</td><td>0.0</td><td>10.16</td><td>null</td><td>null</td><td>41.878866</td><td>-87.688013</td><td>41.878866</td><td>-87.656412</td><td>null</td><td>null</td></tr><tr><td>&quot;50%&quot;</td><td>null</td><td>null</td><td>&quot;2024-12-22 21:30:00&quot;</td><td>&quot;2024-12-22 22:00:00&quot;</td><td>902.0</td><td>3.96</td><td>32.0</td><td>25.396486</td><td>15.0</td><td>0.0</td><td>0.0</td><td>0.0</td><td>17.4</td><td>null</td><td>null</td><td>41.895033</td><td>-87.637844</td><td>41.890922</td><td>-87.634156</td><td>null</td><td>null</td></tr><tr><td>&quot;75%&quot;</td><td>null</td><td>null</td><td>&quot;2024-12-27 18:30:00&quot;</td><td>&quot;2024-12-27 19:00:00&quot;</td><td>1560.0</td><td>11.51</td><td>50.0</td><td>32.0</td><td>31.0</td><td>3.0</td><td>0.0</td><td>1.0</td><td>33.25</td><td>null</td><td>null</td><td>41.944227</td><td>-87.625192</td><td>41.90752</td><td>-87.625192</td><td>null</td><td>null</td></tr><tr><td>&quot;max&quot;</td><td>&quot;fffe353e28c1f049ede16af7d5dd41…</td><td>&quot;ffda53354c610fd3af1aee46d72302…</td><td>&quot;2025-01-01 00:00:00&quot;</td><td>&quot;2025-01-03 17:45:00&quot;</td><td>84014.0</td><td>2166.39</td><td>77.0</td><td>77.0</td><td>1234.0</td><td>100.0</td><td>41.75</td><td>270.0</td><td>1234.0</td><td>&quot;Unknown&quot;</td><td>&quot;Wolley Taxi&quot;</td><td>42.016046</td><td>-87.534903</td><td>42.016046</td><td>-87.534903</td><td>&quot;Unknown&quot;</td><td>&quot;Unknown&quot;</td></tr></tbody></table></div>"
      ],
      "text/plain": [
       "shape: (9, 22)\n",
       "┌───────────┬───────────┬───────────┬───────────┬───┬───────────┬───────────┬───────────┬──────────┐\n",
       "│ statistic ┆ trip_id   ┆ taxi_id   ┆ trip_star ┆ … ┆ dropoff_c ┆ dropoff_c ┆ pickup_ce ┆ dropoff_ │\n",
       "│ ---       ┆ ---       ┆ ---       ┆ t_timesta ┆   ┆ entroid_l ┆ entroid_l ┆ nsus_trac ┆ census_t │\n",
       "│ str       ┆ str       ┆ str       ┆ mp        ┆   ┆ atitude   ┆ ongitude  ┆ t         ┆ ract     │\n",
       "│           ┆           ┆           ┆ ---       ┆   ┆ ---       ┆ ---       ┆ ---       ┆ ---      │\n",
       "│           ┆           ┆           ┆ str       ┆   ┆ f64       ┆ f64       ┆ str       ┆ str      │\n",
       "╞═══════════╪═══════════╪═══════════╪═══════════╪═══╪═══════════╪═══════════╪═══════════╪══════════╡\n",
       "│ count     ┆ 179679    ┆ 179679    ┆ 179679    ┆ … ┆ 179679.0  ┆ 179679.0  ┆ 179679    ┆ 179679   │\n",
       "│ null_coun ┆ 0         ┆ 0         ┆ 0         ┆ … ┆ 0.0       ┆ 0.0       ┆ 0         ┆ 0        │\n",
       "│ t         ┆           ┆           ┆           ┆   ┆           ┆           ┆           ┆          │\n",
       "│ mean      ┆ null      ┆ null      ┆ 2024-12-2 ┆ … ┆ 41.890543 ┆ -87.65443 ┆ null      ┆ null     │\n",
       "│           ┆           ┆           ┆ 3 18:41:1 ┆   ┆           ┆ 7         ┆           ┆          │\n",
       "│           ┆           ┆           ┆ 4.016997  ┆   ┆           ┆           ┆           ┆          │\n",
       "│ std       ┆ null      ┆ null      ┆ null      ┆ … ┆ 0.057374  ┆ 0.058529  ┆ null      ┆ null     │\n",
       "│ min       ┆ 0000b7daa ┆ 0044e6c0d ┆ 2024-12-1 ┆ … ┆ 41.660136 ┆ -87.91362 ┆ 170310102 ┆ 17031010 │\n",
       "│           ┆ 281db74f5 ┆ 091476299 ┆ 7         ┆   ┆           ┆ 5         ┆ 02        ┆ 202      │\n",
       "│           ┆ 1c8ee8382 ┆ b99345501 ┆ 07:45:00  ┆   ┆           ┆           ┆           ┆          │\n",
       "│           ┆ 83a…      ┆ f75…      ┆           ┆   ┆           ┆           ┆           ┆          │\n",
       "│ 25%       ┆ null      ┆ null      ┆ 2024-12-1 ┆ … ┆ 41.878866 ┆ -87.65641 ┆ null      ┆ null     │\n",
       "│           ┆           ┆           ┆ 9         ┆   ┆           ┆ 2         ┆           ┆          │\n",
       "│           ┆           ┆           ┆ 16:30:00  ┆   ┆           ┆           ┆           ┆          │\n",
       "│ 50%       ┆ null      ┆ null      ┆ 2024-12-2 ┆ … ┆ 41.890922 ┆ -87.63415 ┆ null      ┆ null     │\n",
       "│           ┆           ┆           ┆ 2         ┆   ┆           ┆ 6         ┆           ┆          │\n",
       "│           ┆           ┆           ┆ 21:30:00  ┆   ┆           ┆           ┆           ┆          │\n",
       "│ 75%       ┆ null      ┆ null      ┆ 2024-12-2 ┆ … ┆ 41.90752  ┆ -87.62519 ┆ null      ┆ null     │\n",
       "│           ┆           ┆           ┆ 7         ┆   ┆           ┆ 2         ┆           ┆          │\n",
       "│           ┆           ┆           ┆ 18:30:00  ┆   ┆           ┆           ┆           ┆          │\n",
       "│ max       ┆ fffe353e2 ┆ ffda53354 ┆ 2025-01-0 ┆ … ┆ 42.016046 ┆ -87.53490 ┆ Unknown   ┆ Unknown  │\n",
       "│           ┆ 8c1f049ed ┆ c610fd3af ┆ 1         ┆   ┆           ┆ 3         ┆           ┆          │\n",
       "│           ┆ e16af7d5d ┆ 1aee46d72 ┆ 00:00:00  ┆   ┆           ┆           ┆           ┆          │\n",
       "│           ┆ d41…      ┆ 302…      ┆           ┆   ┆           ┆           ┆           ┆          │\n",
       "└───────────┴───────────┴───────────┴───────────┴───┴───────────┴───────────┴───────────┴──────────┘"
      ]
     },
     "execution_count": 45,
     "metadata": {},
     "output_type": "execute_result"
    }
   ],
   "source": [
    "# Summary statistics for the Polars DataFrame\n",
    "df.describe()"
   ]
  },
  {
   "cell_type": "markdown",
   "metadata": {},
   "source": [
    "### Set any Numercial Missing Data with Mean Values"
   ]
  },
  {
   "cell_type": "code",
   "execution_count": 46,
   "metadata": {},
   "outputs": [
    {
     "data": {
      "text/html": [
       "<div><style>\n",
       ".dataframe > thead > tr,\n",
       ".dataframe > tbody > tr {\n",
       "  text-align: right;\n",
       "  white-space: pre-wrap;\n",
       "}\n",
       "</style>\n",
       "<small>shape: (5, 21)</small><table border=\"1\" class=\"dataframe\"><thead><tr><th>trip_id</th><th>taxi_id</th><th>trip_start_timestamp</th><th>trip_end_timestamp</th><th>trip_seconds</th><th>trip_miles</th><th>pickup_community_area</th><th>dropoff_community_area</th><th>fare</th><th>tips</th><th>tolls</th><th>extras</th><th>trip_total</th><th>payment_type</th><th>company</th><th>pickup_centroid_latitude</th><th>pickup_centroid_longitude</th><th>dropoff_centroid_latitude</th><th>dropoff_centroid_longitude</th><th>pickup_census_tract</th><th>dropoff_census_tract</th></tr><tr><td>str</td><td>str</td><td>datetime[μs]</td><td>datetime[μs]</td><td>f64</td><td>f64</td><td>f64</td><td>f64</td><td>f64</td><td>f64</td><td>f64</td><td>f64</td><td>f64</td><td>str</td><td>str</td><td>f64</td><td>f64</td><td>f64</td><td>f64</td><td>str</td><td>str</td></tr></thead><tbody><tr><td>&quot;5c0b9d9d95e401aa64da33eb3ffebb…</td><td>&quot;545ac2dfd5b722e0f0d884cc68ec27…</td><td>2024-12-20 19:30:00</td><td>2024-12-20 19:45:00</td><td>980.0</td><td>2.35</td><td>8.0</td><td>24.0</td><td>10.47</td><td>1.29</td><td>0.0</td><td>0.0</td><td>11.76</td><td>&quot;Mobile&quot;</td><td>&quot;Tac - American United Dispatch&quot;</td><td>41.899602</td><td>-87.633308</td><td>41.901207</td><td>-87.676356</td><td>&quot;Unknown&quot;</td><td>&quot;Unknown&quot;</td></tr><tr><td>&quot;6952ad9bc387cdc714604ec7af4053…</td><td>&quot;d4578429775c32e03fb5139e1d132b…</td><td>2024-12-30 16:15:00</td><td>2024-12-30 16:30:00</td><td>742.0</td><td>1.04</td><td>32.0</td><td>8.0</td><td>8.0</td><td>1.0</td><td>0.0</td><td>2.0</td><td>11.5</td><td>&quot;Credit Card&quot;</td><td>&quot;Taxicab Insurance Agency Llc&quot;</td><td>41.884987</td><td>-87.620993</td><td>41.899156</td><td>-87.626211</td><td>&quot;17031320100&quot;</td><td>&quot;17031081201&quot;</td></tr><tr><td>&quot;12535c80e6bed94672cc8f43d2b9be…</td><td>&quot;083b7260314e48be5e10a9191da36f…</td><td>2024-12-20 09:00:00</td><td>2024-12-20 09:00:00</td><td>180.0</td><td>0.5</td><td>28.0</td><td>32.0</td><td>4.75</td><td>0.0</td><td>0.0</td><td>0.0</td><td>4.75</td><td>&quot;Credit Card&quot;</td><td>&quot;Taxi Affiliation Services&quot;</td><td>41.879255</td><td>-87.642649</td><td>41.880994</td><td>-87.632746</td><td>&quot;17031281900&quot;</td><td>&quot;17031839100&quot;</td></tr><tr><td>&quot;a20cd18e92f8f33dab45f78ebde5f3…</td><td>&quot;6b29392d56c7d58fe76ec1513ab5c0…</td><td>2024-12-29 09:45:00</td><td>2024-12-29 09:45:00</td><td>348.0</td><td>1.16</td><td>35.0</td><td>35.0</td><td>6.5</td><td>0.0</td><td>0.0</td><td>0.0</td><td>6.5</td><td>&quot;Prcard&quot;</td><td>&quot;Sun Taxi&quot;</td><td>41.835118</td><td>-87.618678</td><td>41.835118</td><td>-87.618678</td><td>&quot;Unknown&quot;</td><td>&quot;Unknown&quot;</td></tr><tr><td>&quot;77acd09b0a28d9d3b371d46ae8e090…</td><td>&quot;49d226e40bf779a8ba34d280971ff8…</td><td>2024-12-28 12:15:00</td><td>2024-12-28 12:30:00</td><td>1410.0</td><td>12.06</td><td>8.0</td><td>44.0</td><td>32.0</td><td>0.0</td><td>0.0</td><td>0.0</td><td>32.0</td><td>&quot;Cash&quot;</td><td>&quot;Flash Cab&quot;</td><td>41.899602</td><td>-87.633308</td><td>41.740206</td><td>-87.61597</td><td>&quot;Unknown&quot;</td><td>&quot;Unknown&quot;</td></tr></tbody></table></div>"
      ],
      "text/plain": [
       "shape: (5, 21)\n",
       "┌───────────┬───────────┬───────────┬───────────┬───┬───────────┬───────────┬───────────┬──────────┐\n",
       "│ trip_id   ┆ taxi_id   ┆ trip_star ┆ trip_end_ ┆ … ┆ dropoff_c ┆ dropoff_c ┆ pickup_ce ┆ dropoff_ │\n",
       "│ ---       ┆ ---       ┆ t_timesta ┆ timestamp ┆   ┆ entroid_l ┆ entroid_l ┆ nsus_trac ┆ census_t │\n",
       "│ str       ┆ str       ┆ mp        ┆ ---       ┆   ┆ atitude   ┆ ongitude  ┆ t         ┆ ract     │\n",
       "│           ┆           ┆ ---       ┆ datetime[ ┆   ┆ ---       ┆ ---       ┆ ---       ┆ ---      │\n",
       "│           ┆           ┆ datetime[ ┆ μs]       ┆   ┆ f64       ┆ f64       ┆ str       ┆ str      │\n",
       "│           ┆           ┆ μs]       ┆           ┆   ┆           ┆           ┆           ┆          │\n",
       "╞═══════════╪═══════════╪═══════════╪═══════════╪═══╪═══════════╪═══════════╪═══════════╪══════════╡\n",
       "│ 5c0b9d9d9 ┆ 545ac2dfd ┆ 2024-12-2 ┆ 2024-12-2 ┆ … ┆ 41.901207 ┆ -87.67635 ┆ Unknown   ┆ Unknown  │\n",
       "│ 5e401aa64 ┆ 5b722e0f0 ┆ 0         ┆ 0         ┆   ┆           ┆ 6         ┆           ┆          │\n",
       "│ da33eb3ff ┆ d884cc68e ┆ 19:30:00  ┆ 19:45:00  ┆   ┆           ┆           ┆           ┆          │\n",
       "│ ebb…      ┆ c27…      ┆           ┆           ┆   ┆           ┆           ┆           ┆          │\n",
       "│ 6952ad9bc ┆ d45784297 ┆ 2024-12-3 ┆ 2024-12-3 ┆ … ┆ 41.899156 ┆ -87.62621 ┆ 170313201 ┆ 17031081 │\n",
       "│ 387cdc714 ┆ 75c32e03f ┆ 0         ┆ 0         ┆   ┆           ┆ 1         ┆ 00        ┆ 201      │\n",
       "│ 604ec7af4 ┆ b5139e1d1 ┆ 16:15:00  ┆ 16:30:00  ┆   ┆           ┆           ┆           ┆          │\n",
       "│ 053…      ┆ 32b…      ┆           ┆           ┆   ┆           ┆           ┆           ┆          │\n",
       "│ 12535c80e ┆ 083b72603 ┆ 2024-12-2 ┆ 2024-12-2 ┆ … ┆ 41.880994 ┆ -87.63274 ┆ 170312819 ┆ 17031839 │\n",
       "│ 6bed94672 ┆ 14e48be5e ┆ 0         ┆ 0         ┆   ┆           ┆ 6         ┆ 00        ┆ 100      │\n",
       "│ cc8f43d2b ┆ 10a9191da ┆ 09:00:00  ┆ 09:00:00  ┆   ┆           ┆           ┆           ┆          │\n",
       "│ 9be…      ┆ 36f…      ┆           ┆           ┆   ┆           ┆           ┆           ┆          │\n",
       "│ a20cd18e9 ┆ 6b29392d5 ┆ 2024-12-2 ┆ 2024-12-2 ┆ … ┆ 41.835118 ┆ -87.61867 ┆ Unknown   ┆ Unknown  │\n",
       "│ 2f8f33dab ┆ 6c7d58fe7 ┆ 9         ┆ 9         ┆   ┆           ┆ 8         ┆           ┆          │\n",
       "│ 45f78ebde ┆ 6ec1513ab ┆ 09:45:00  ┆ 09:45:00  ┆   ┆           ┆           ┆           ┆          │\n",
       "│ 5f3…      ┆ 5c0…      ┆           ┆           ┆   ┆           ┆           ┆           ┆          │\n",
       "│ 77acd09b0 ┆ 49d226e40 ┆ 2024-12-2 ┆ 2024-12-2 ┆ … ┆ 41.740206 ┆ -87.61597 ┆ Unknown   ┆ Unknown  │\n",
       "│ a28d9d3b3 ┆ bf779a8ba ┆ 8         ┆ 8         ┆   ┆           ┆           ┆           ┆          │\n",
       "│ 71d46ae8e ┆ 34d280971 ┆ 12:15:00  ┆ 12:30:00  ┆   ┆           ┆           ┆           ┆          │\n",
       "│ 090…      ┆ ff8…      ┆           ┆           ┆   ┆           ┆           ┆           ┆          │\n",
       "└───────────┴───────────┴───────────┴───────────┴───┴───────────┴───────────┴───────────┴──────────┘"
      ]
     },
     "execution_count": 46,
     "metadata": {},
     "output_type": "execute_result"
    }
   ],
   "source": [
    "# Fill missing values in numeric columns with the mean of each column\n",
    "numeric_columns = df.select([pl.col(pl.Float64), pl.col(pl.Int64)]).columns\n",
    "df = df.with_columns([pl.col(col).fill_null(pl.col(col).mean()) for col in numeric_columns])\n",
    "\n",
    "# Display the DataFrame to verify the changes\n",
    "df.head()"
   ]
  },
  {
   "cell_type": "code",
   "execution_count": 47,
   "metadata": {},
   "outputs": [
    {
     "data": {
      "text/html": [
       "<div><style>\n",
       ".dataframe > thead > tr,\n",
       ".dataframe > tbody > tr {\n",
       "  text-align: right;\n",
       "  white-space: pre-wrap;\n",
       "}\n",
       "</style>\n",
       "<small>shape: (5, 21)</small><table border=\"1\" class=\"dataframe\"><thead><tr><th>trip_id</th><th>taxi_id</th><th>trip_start_timestamp</th><th>trip_end_timestamp</th><th>trip_seconds</th><th>trip_miles</th><th>pickup_community_area</th><th>dropoff_community_area</th><th>fare</th><th>tips</th><th>tolls</th><th>extras</th><th>trip_total</th><th>payment_type</th><th>company</th><th>pickup_centroid_latitude</th><th>pickup_centroid_longitude</th><th>dropoff_centroid_latitude</th><th>dropoff_centroid_longitude</th><th>pickup_census_tract</th><th>dropoff_census_tract</th></tr><tr><td>str</td><td>str</td><td>datetime[μs]</td><td>datetime[μs]</td><td>f64</td><td>f64</td><td>f64</td><td>f64</td><td>f64</td><td>f64</td><td>f64</td><td>f64</td><td>f64</td><td>str</td><td>str</td><td>f64</td><td>f64</td><td>f64</td><td>f64</td><td>str</td><td>str</td></tr></thead><tbody><tr><td>&quot;5c0b9d9d95e401aa64da33eb3ffebb…</td><td>&quot;545ac2dfd5b722e0f0d884cc68ec27…</td><td>2024-12-20 19:30:00</td><td>2024-12-20 19:45:00</td><td>980.0</td><td>2.35</td><td>8.0</td><td>24.0</td><td>10.47</td><td>1.29</td><td>0.0</td><td>0.0</td><td>11.76</td><td>&quot;Mobile&quot;</td><td>&quot;Tac - American United Dispatch&quot;</td><td>41.899602</td><td>-87.633308</td><td>41.901207</td><td>-87.676356</td><td>&quot;Unknown&quot;</td><td>&quot;Unknown&quot;</td></tr><tr><td>&quot;6952ad9bc387cdc714604ec7af4053…</td><td>&quot;d4578429775c32e03fb5139e1d132b…</td><td>2024-12-30 16:15:00</td><td>2024-12-30 16:30:00</td><td>742.0</td><td>1.04</td><td>32.0</td><td>8.0</td><td>8.0</td><td>1.0</td><td>0.0</td><td>2.0</td><td>11.5</td><td>&quot;Credit Card&quot;</td><td>&quot;Taxicab Insurance Agency Llc&quot;</td><td>41.884987</td><td>-87.620993</td><td>41.899156</td><td>-87.626211</td><td>&quot;17031320100&quot;</td><td>&quot;17031081201&quot;</td></tr><tr><td>&quot;12535c80e6bed94672cc8f43d2b9be…</td><td>&quot;083b7260314e48be5e10a9191da36f…</td><td>2024-12-20 09:00:00</td><td>2024-12-20 09:00:00</td><td>180.0</td><td>0.5</td><td>28.0</td><td>32.0</td><td>4.75</td><td>0.0</td><td>0.0</td><td>0.0</td><td>4.75</td><td>&quot;Credit Card&quot;</td><td>&quot;Taxi Affiliation Services&quot;</td><td>41.879255</td><td>-87.642649</td><td>41.880994</td><td>-87.632746</td><td>&quot;17031281900&quot;</td><td>&quot;17031839100&quot;</td></tr><tr><td>&quot;a20cd18e92f8f33dab45f78ebde5f3…</td><td>&quot;6b29392d56c7d58fe76ec1513ab5c0…</td><td>2024-12-29 09:45:00</td><td>2024-12-29 09:45:00</td><td>348.0</td><td>1.16</td><td>35.0</td><td>35.0</td><td>6.5</td><td>0.0</td><td>0.0</td><td>0.0</td><td>6.5</td><td>&quot;Prcard&quot;</td><td>&quot;Sun Taxi&quot;</td><td>41.835118</td><td>-87.618678</td><td>41.835118</td><td>-87.618678</td><td>&quot;Unknown&quot;</td><td>&quot;Unknown&quot;</td></tr><tr><td>&quot;77acd09b0a28d9d3b371d46ae8e090…</td><td>&quot;49d226e40bf779a8ba34d280971ff8…</td><td>2024-12-28 12:15:00</td><td>2024-12-28 12:30:00</td><td>1410.0</td><td>12.06</td><td>8.0</td><td>44.0</td><td>32.0</td><td>0.0</td><td>0.0</td><td>0.0</td><td>32.0</td><td>&quot;Cash&quot;</td><td>&quot;Flash Cab&quot;</td><td>41.899602</td><td>-87.633308</td><td>41.740206</td><td>-87.61597</td><td>&quot;Unknown&quot;</td><td>&quot;Unknown&quot;</td></tr></tbody></table></div>"
      ],
      "text/plain": [
       "shape: (5, 21)\n",
       "┌───────────┬───────────┬───────────┬───────────┬───┬───────────┬───────────┬───────────┬──────────┐\n",
       "│ trip_id   ┆ taxi_id   ┆ trip_star ┆ trip_end_ ┆ … ┆ dropoff_c ┆ dropoff_c ┆ pickup_ce ┆ dropoff_ │\n",
       "│ ---       ┆ ---       ┆ t_timesta ┆ timestamp ┆   ┆ entroid_l ┆ entroid_l ┆ nsus_trac ┆ census_t │\n",
       "│ str       ┆ str       ┆ mp        ┆ ---       ┆   ┆ atitude   ┆ ongitude  ┆ t         ┆ ract     │\n",
       "│           ┆           ┆ ---       ┆ datetime[ ┆   ┆ ---       ┆ ---       ┆ ---       ┆ ---      │\n",
       "│           ┆           ┆ datetime[ ┆ μs]       ┆   ┆ f64       ┆ f64       ┆ str       ┆ str      │\n",
       "│           ┆           ┆ μs]       ┆           ┆   ┆           ┆           ┆           ┆          │\n",
       "╞═══════════╪═══════════╪═══════════╪═══════════╪═══╪═══════════╪═══════════╪═══════════╪══════════╡\n",
       "│ 5c0b9d9d9 ┆ 545ac2dfd ┆ 2024-12-2 ┆ 2024-12-2 ┆ … ┆ 41.901207 ┆ -87.67635 ┆ Unknown   ┆ Unknown  │\n",
       "│ 5e401aa64 ┆ 5b722e0f0 ┆ 0         ┆ 0         ┆   ┆           ┆ 6         ┆           ┆          │\n",
       "│ da33eb3ff ┆ d884cc68e ┆ 19:30:00  ┆ 19:45:00  ┆   ┆           ┆           ┆           ┆          │\n",
       "│ ebb…      ┆ c27…      ┆           ┆           ┆   ┆           ┆           ┆           ┆          │\n",
       "│ 6952ad9bc ┆ d45784297 ┆ 2024-12-3 ┆ 2024-12-3 ┆ … ┆ 41.899156 ┆ -87.62621 ┆ 170313201 ┆ 17031081 │\n",
       "│ 387cdc714 ┆ 75c32e03f ┆ 0         ┆ 0         ┆   ┆           ┆ 1         ┆ 00        ┆ 201      │\n",
       "│ 604ec7af4 ┆ b5139e1d1 ┆ 16:15:00  ┆ 16:30:00  ┆   ┆           ┆           ┆           ┆          │\n",
       "│ 053…      ┆ 32b…      ┆           ┆           ┆   ┆           ┆           ┆           ┆          │\n",
       "│ 12535c80e ┆ 083b72603 ┆ 2024-12-2 ┆ 2024-12-2 ┆ … ┆ 41.880994 ┆ -87.63274 ┆ 170312819 ┆ 17031839 │\n",
       "│ 6bed94672 ┆ 14e48be5e ┆ 0         ┆ 0         ┆   ┆           ┆ 6         ┆ 00        ┆ 100      │\n",
       "│ cc8f43d2b ┆ 10a9191da ┆ 09:00:00  ┆ 09:00:00  ┆   ┆           ┆           ┆           ┆          │\n",
       "│ 9be…      ┆ 36f…      ┆           ┆           ┆   ┆           ┆           ┆           ┆          │\n",
       "│ a20cd18e9 ┆ 6b29392d5 ┆ 2024-12-2 ┆ 2024-12-2 ┆ … ┆ 41.835118 ┆ -87.61867 ┆ Unknown   ┆ Unknown  │\n",
       "│ 2f8f33dab ┆ 6c7d58fe7 ┆ 9         ┆ 9         ┆   ┆           ┆ 8         ┆           ┆          │\n",
       "│ 45f78ebde ┆ 6ec1513ab ┆ 09:45:00  ┆ 09:45:00  ┆   ┆           ┆           ┆           ┆          │\n",
       "│ 5f3…      ┆ 5c0…      ┆           ┆           ┆   ┆           ┆           ┆           ┆          │\n",
       "│ 77acd09b0 ┆ 49d226e40 ┆ 2024-12-2 ┆ 2024-12-2 ┆ … ┆ 41.740206 ┆ -87.61597 ┆ Unknown   ┆ Unknown  │\n",
       "│ a28d9d3b3 ┆ bf779a8ba ┆ 8         ┆ 8         ┆   ┆           ┆           ┆           ┆          │\n",
       "│ 71d46ae8e ┆ 34d280971 ┆ 12:15:00  ┆ 12:30:00  ┆   ┆           ┆           ┆           ┆          │\n",
       "│ 090…      ┆ ff8…      ┆           ┆           ┆   ┆           ┆           ┆           ┆          │\n",
       "└───────────┴───────────┴───────────┴───────────┴───┴───────────┴───────────┴───────────┴──────────┘"
      ]
     },
     "execution_count": 47,
     "metadata": {},
     "output_type": "execute_result"
    }
   ],
   "source": [
    "# Fill missing values in numeric columns with the mean of each column\n",
    "numeric_columns = df.select([pl.col(pl.Float64), pl.col(pl.Int64)]).columns\n",
    "df = df.with_columns([pl.col(col).fill_null(pl.col(col).mean()) for col in numeric_columns])\n",
    "\n",
    "# Display the DataFrame to verify the changes\n",
    "df.head()"
   ]
  },
  {
   "cell_type": "code",
   "execution_count": 48,
   "metadata": {},
   "outputs": [
    {
     "data": {
      "text/html": [
       "<div><style>\n",
       ".dataframe > thead > tr,\n",
       ".dataframe > tbody > tr {\n",
       "  text-align: right;\n",
       "  white-space: pre-wrap;\n",
       "}\n",
       "</style>\n",
       "<small>shape: (1, 21)</small><table border=\"1\" class=\"dataframe\"><thead><tr><th>trip_id</th><th>taxi_id</th><th>trip_start_timestamp</th><th>trip_end_timestamp</th><th>trip_seconds</th><th>trip_miles</th><th>pickup_community_area</th><th>dropoff_community_area</th><th>fare</th><th>tips</th><th>tolls</th><th>extras</th><th>trip_total</th><th>payment_type</th><th>company</th><th>pickup_centroid_latitude</th><th>pickup_centroid_longitude</th><th>dropoff_centroid_latitude</th><th>dropoff_centroid_longitude</th><th>pickup_census_tract</th><th>dropoff_census_tract</th></tr><tr><td>u32</td><td>u32</td><td>u32</td><td>u32</td><td>u32</td><td>u32</td><td>u32</td><td>u32</td><td>u32</td><td>u32</td><td>u32</td><td>u32</td><td>u32</td><td>u32</td><td>u32</td><td>u32</td><td>u32</td><td>u32</td><td>u32</td><td>u32</td><td>u32</td></tr></thead><tbody><tr><td>0</td><td>0</td><td>0</td><td>0</td><td>0</td><td>0</td><td>0</td><td>0</td><td>0</td><td>0</td><td>0</td><td>0</td><td>0</td><td>0</td><td>0</td><td>0</td><td>0</td><td>0</td><td>0</td><td>0</td><td>0</td></tr></tbody></table></div>"
      ],
      "text/plain": [
       "shape: (1, 21)\n",
       "┌─────────┬─────────┬────────────┬────────────┬───┬────────────┬───────────┬───────────┬───────────┐\n",
       "│ trip_id ┆ taxi_id ┆ trip_start ┆ trip_end_t ┆ … ┆ dropoff_ce ┆ dropoff_c ┆ pickup_ce ┆ dropoff_c │\n",
       "│ ---     ┆ ---     ┆ _timestamp ┆ imestamp   ┆   ┆ ntroid_lat ┆ entroid_l ┆ nsus_trac ┆ ensus_tra │\n",
       "│ u32     ┆ u32     ┆ ---        ┆ ---        ┆   ┆ itude      ┆ ongitude  ┆ t         ┆ ct        │\n",
       "│         ┆         ┆ u32        ┆ u32        ┆   ┆ ---        ┆ ---       ┆ ---       ┆ ---       │\n",
       "│         ┆         ┆            ┆            ┆   ┆ u32        ┆ u32       ┆ u32       ┆ u32       │\n",
       "╞═════════╪═════════╪════════════╪════════════╪═══╪════════════╪═══════════╪═══════════╪═══════════╡\n",
       "│ 0       ┆ 0       ┆ 0          ┆ 0          ┆ … ┆ 0          ┆ 0         ┆ 0         ┆ 0         │\n",
       "└─────────┴─────────┴────────────┴────────────┴───┴────────────┴───────────┴───────────┴───────────┘"
      ]
     },
     "metadata": {},
     "output_type": "display_data"
    }
   ],
   "source": [
    "# Calculate missing values statistics\n",
    "missing_values = df.select([pl.col(col).is_null().sum().alias(col) for col in df.columns])\n",
    "\n",
    "# Display missing values statistics\n",
    "display(missing_values)"
   ]
  },
  {
   "cell_type": "code",
   "execution_count": 49,
   "metadata": {},
   "outputs": [
    {
     "data": {
      "text/html": [
       "<div><style>\n",
       ".dataframe > thead > tr,\n",
       ".dataframe > tbody > tr {\n",
       "  text-align: right;\n",
       "  white-space: pre-wrap;\n",
       "}\n",
       "</style>\n",
       "<small>shape: (5, 21)</small><table border=\"1\" class=\"dataframe\"><thead><tr><th>trip_id</th><th>taxi_id</th><th>trip_start_timestamp</th><th>trip_end_timestamp</th><th>trip_seconds</th><th>trip_miles</th><th>pickup_community_area</th><th>dropoff_community_area</th><th>fare</th><th>tips</th><th>tolls</th><th>extras</th><th>trip_total</th><th>payment_type</th><th>company</th><th>pickup_centroid_latitude</th><th>pickup_centroid_longitude</th><th>dropoff_centroid_latitude</th><th>dropoff_centroid_longitude</th><th>pickup_census_tract</th><th>dropoff_census_tract</th></tr><tr><td>str</td><td>str</td><td>datetime[μs]</td><td>datetime[μs]</td><td>f64</td><td>f64</td><td>f64</td><td>f64</td><td>f64</td><td>f64</td><td>f64</td><td>f64</td><td>f64</td><td>str</td><td>str</td><td>f64</td><td>f64</td><td>f64</td><td>f64</td><td>str</td><td>str</td></tr></thead><tbody><tr><td>&quot;5c0b9d9d95e401aa64da33eb3ffebb…</td><td>&quot;545ac2dfd5b722e0f0d884cc68ec27…</td><td>2024-12-20 19:30:00</td><td>2024-12-20 19:45:00</td><td>980.0</td><td>2.35</td><td>8.0</td><td>24.0</td><td>10.47</td><td>1.29</td><td>0.0</td><td>0.0</td><td>11.76</td><td>&quot;Mobile&quot;</td><td>&quot;Tac - American United Dispatch&quot;</td><td>41.899602</td><td>-87.633308</td><td>41.901207</td><td>-87.676356</td><td>&quot;Unknown&quot;</td><td>&quot;Unknown&quot;</td></tr><tr><td>&quot;6952ad9bc387cdc714604ec7af4053…</td><td>&quot;d4578429775c32e03fb5139e1d132b…</td><td>2024-12-30 16:15:00</td><td>2024-12-30 16:30:00</td><td>742.0</td><td>1.04</td><td>32.0</td><td>8.0</td><td>8.0</td><td>1.0</td><td>0.0</td><td>2.0</td><td>11.5</td><td>&quot;Credit Card&quot;</td><td>&quot;Taxicab Insurance Agency Llc&quot;</td><td>41.884987</td><td>-87.620993</td><td>41.899156</td><td>-87.626211</td><td>&quot;17031320100&quot;</td><td>&quot;17031081201&quot;</td></tr><tr><td>&quot;12535c80e6bed94672cc8f43d2b9be…</td><td>&quot;083b7260314e48be5e10a9191da36f…</td><td>2024-12-20 09:00:00</td><td>2024-12-20 09:00:00</td><td>180.0</td><td>0.5</td><td>28.0</td><td>32.0</td><td>4.75</td><td>0.0</td><td>0.0</td><td>0.0</td><td>4.75</td><td>&quot;Credit Card&quot;</td><td>&quot;Taxi Affiliation Services&quot;</td><td>41.879255</td><td>-87.642649</td><td>41.880994</td><td>-87.632746</td><td>&quot;17031281900&quot;</td><td>&quot;17031839100&quot;</td></tr><tr><td>&quot;a20cd18e92f8f33dab45f78ebde5f3…</td><td>&quot;6b29392d56c7d58fe76ec1513ab5c0…</td><td>2024-12-29 09:45:00</td><td>2024-12-29 09:45:00</td><td>348.0</td><td>1.16</td><td>35.0</td><td>35.0</td><td>6.5</td><td>0.0</td><td>0.0</td><td>0.0</td><td>6.5</td><td>&quot;Prcard&quot;</td><td>&quot;Sun Taxi&quot;</td><td>41.835118</td><td>-87.618678</td><td>41.835118</td><td>-87.618678</td><td>&quot;Unknown&quot;</td><td>&quot;Unknown&quot;</td></tr><tr><td>&quot;77acd09b0a28d9d3b371d46ae8e090…</td><td>&quot;49d226e40bf779a8ba34d280971ff8…</td><td>2024-12-28 12:15:00</td><td>2024-12-28 12:30:00</td><td>1410.0</td><td>12.06</td><td>8.0</td><td>44.0</td><td>32.0</td><td>0.0</td><td>0.0</td><td>0.0</td><td>32.0</td><td>&quot;Cash&quot;</td><td>&quot;Flash Cab&quot;</td><td>41.899602</td><td>-87.633308</td><td>41.740206</td><td>-87.61597</td><td>&quot;Unknown&quot;</td><td>&quot;Unknown&quot;</td></tr></tbody></table></div>"
      ],
      "text/plain": [
       "shape: (5, 21)\n",
       "┌───────────┬───────────┬───────────┬───────────┬───┬───────────┬───────────┬───────────┬──────────┐\n",
       "│ trip_id   ┆ taxi_id   ┆ trip_star ┆ trip_end_ ┆ … ┆ dropoff_c ┆ dropoff_c ┆ pickup_ce ┆ dropoff_ │\n",
       "│ ---       ┆ ---       ┆ t_timesta ┆ timestamp ┆   ┆ entroid_l ┆ entroid_l ┆ nsus_trac ┆ census_t │\n",
       "│ str       ┆ str       ┆ mp        ┆ ---       ┆   ┆ atitude   ┆ ongitude  ┆ t         ┆ ract     │\n",
       "│           ┆           ┆ ---       ┆ datetime[ ┆   ┆ ---       ┆ ---       ┆ ---       ┆ ---      │\n",
       "│           ┆           ┆ datetime[ ┆ μs]       ┆   ┆ f64       ┆ f64       ┆ str       ┆ str      │\n",
       "│           ┆           ┆ μs]       ┆           ┆   ┆           ┆           ┆           ┆          │\n",
       "╞═══════════╪═══════════╪═══════════╪═══════════╪═══╪═══════════╪═══════════╪═══════════╪══════════╡\n",
       "│ 5c0b9d9d9 ┆ 545ac2dfd ┆ 2024-12-2 ┆ 2024-12-2 ┆ … ┆ 41.901207 ┆ -87.67635 ┆ Unknown   ┆ Unknown  │\n",
       "│ 5e401aa64 ┆ 5b722e0f0 ┆ 0         ┆ 0         ┆   ┆           ┆ 6         ┆           ┆          │\n",
       "│ da33eb3ff ┆ d884cc68e ┆ 19:30:00  ┆ 19:45:00  ┆   ┆           ┆           ┆           ┆          │\n",
       "│ ebb…      ┆ c27…      ┆           ┆           ┆   ┆           ┆           ┆           ┆          │\n",
       "│ 6952ad9bc ┆ d45784297 ┆ 2024-12-3 ┆ 2024-12-3 ┆ … ┆ 41.899156 ┆ -87.62621 ┆ 170313201 ┆ 17031081 │\n",
       "│ 387cdc714 ┆ 75c32e03f ┆ 0         ┆ 0         ┆   ┆           ┆ 1         ┆ 00        ┆ 201      │\n",
       "│ 604ec7af4 ┆ b5139e1d1 ┆ 16:15:00  ┆ 16:30:00  ┆   ┆           ┆           ┆           ┆          │\n",
       "│ 053…      ┆ 32b…      ┆           ┆           ┆   ┆           ┆           ┆           ┆          │\n",
       "│ 12535c80e ┆ 083b72603 ┆ 2024-12-2 ┆ 2024-12-2 ┆ … ┆ 41.880994 ┆ -87.63274 ┆ 170312819 ┆ 17031839 │\n",
       "│ 6bed94672 ┆ 14e48be5e ┆ 0         ┆ 0         ┆   ┆           ┆ 6         ┆ 00        ┆ 100      │\n",
       "│ cc8f43d2b ┆ 10a9191da ┆ 09:00:00  ┆ 09:00:00  ┆   ┆           ┆           ┆           ┆          │\n",
       "│ 9be…      ┆ 36f…      ┆           ┆           ┆   ┆           ┆           ┆           ┆          │\n",
       "│ a20cd18e9 ┆ 6b29392d5 ┆ 2024-12-2 ┆ 2024-12-2 ┆ … ┆ 41.835118 ┆ -87.61867 ┆ Unknown   ┆ Unknown  │\n",
       "│ 2f8f33dab ┆ 6c7d58fe7 ┆ 9         ┆ 9         ┆   ┆           ┆ 8         ┆           ┆          │\n",
       "│ 45f78ebde ┆ 6ec1513ab ┆ 09:45:00  ┆ 09:45:00  ┆   ┆           ┆           ┆           ┆          │\n",
       "│ 5f3…      ┆ 5c0…      ┆           ┆           ┆   ┆           ┆           ┆           ┆          │\n",
       "│ 77acd09b0 ┆ 49d226e40 ┆ 2024-12-2 ┆ 2024-12-2 ┆ … ┆ 41.740206 ┆ -87.61597 ┆ Unknown   ┆ Unknown  │\n",
       "│ a28d9d3b3 ┆ bf779a8ba ┆ 8         ┆ 8         ┆   ┆           ┆           ┆           ┆          │\n",
       "│ 71d46ae8e ┆ 34d280971 ┆ 12:15:00  ┆ 12:30:00  ┆   ┆           ┆           ┆           ┆          │\n",
       "│ 090…      ┆ ff8…      ┆           ┆           ┆   ┆           ┆           ┆           ┆          │\n",
       "└───────────┴───────────┴───────────┴───────────┴───┴───────────┴───────────┴───────────┴──────────┘"
      ]
     },
     "execution_count": 49,
     "metadata": {},
     "output_type": "execute_result"
    }
   ],
   "source": [
    "# Fill missing values in string columns with a placeholder\n",
    "string_columns = df.select(pl.col(pl.Utf8)).columns\n",
    "df = df.with_columns([pl.col(col).fill_null('Unknown') for col in string_columns])\n",
    "\n",
    "# Display the DataFrame to verify the changes\n",
    "df.head()"
   ]
  },
  {
   "cell_type": "code",
   "execution_count": 50,
   "metadata": {},
   "outputs": [
    {
     "data": {
      "text/html": [
       "<div><style>\n",
       ".dataframe > thead > tr,\n",
       ".dataframe > tbody > tr {\n",
       "  text-align: right;\n",
       "  white-space: pre-wrap;\n",
       "}\n",
       "</style>\n",
       "<small>shape: (5, 21)</small><table border=\"1\" class=\"dataframe\"><thead><tr><th>trip_id</th><th>taxi_id</th><th>trip_start_timestamp</th><th>trip_end_timestamp</th><th>trip_seconds</th><th>trip_miles</th><th>pickup_community_area</th><th>dropoff_community_area</th><th>fare</th><th>tips</th><th>tolls</th><th>extras</th><th>trip_total</th><th>payment_type</th><th>company</th><th>pickup_centroid_latitude</th><th>pickup_centroid_longitude</th><th>dropoff_centroid_latitude</th><th>dropoff_centroid_longitude</th><th>pickup_census_tract</th><th>dropoff_census_tract</th></tr><tr><td>str</td><td>str</td><td>datetime[μs]</td><td>datetime[μs]</td><td>f64</td><td>f64</td><td>f64</td><td>f64</td><td>f64</td><td>f64</td><td>f64</td><td>f64</td><td>f64</td><td>str</td><td>str</td><td>f64</td><td>f64</td><td>f64</td><td>f64</td><td>str</td><td>str</td></tr></thead><tbody><tr><td>&quot;5c0b9d9d95e401aa64da33eb3ffebb…</td><td>&quot;545ac2dfd5b722e0f0d884cc68ec27…</td><td>2024-12-20 19:30:00</td><td>2024-12-20 19:45:00</td><td>980.0</td><td>2.35</td><td>8.0</td><td>24.0</td><td>10.47</td><td>1.29</td><td>0.0</td><td>0.0</td><td>11.76</td><td>&quot;Mobile&quot;</td><td>&quot;Tac - American United Dispatch&quot;</td><td>41.899602</td><td>-87.633308</td><td>41.901207</td><td>-87.676356</td><td>&quot;Unknown&quot;</td><td>&quot;Unknown&quot;</td></tr><tr><td>&quot;6952ad9bc387cdc714604ec7af4053…</td><td>&quot;d4578429775c32e03fb5139e1d132b…</td><td>2024-12-30 16:15:00</td><td>2024-12-30 16:30:00</td><td>742.0</td><td>1.04</td><td>32.0</td><td>8.0</td><td>8.0</td><td>1.0</td><td>0.0</td><td>2.0</td><td>11.5</td><td>&quot;Credit Card&quot;</td><td>&quot;Taxicab Insurance Agency Llc&quot;</td><td>41.884987</td><td>-87.620993</td><td>41.899156</td><td>-87.626211</td><td>&quot;17031320100&quot;</td><td>&quot;17031081201&quot;</td></tr><tr><td>&quot;12535c80e6bed94672cc8f43d2b9be…</td><td>&quot;083b7260314e48be5e10a9191da36f…</td><td>2024-12-20 09:00:00</td><td>2024-12-20 09:00:00</td><td>180.0</td><td>0.5</td><td>28.0</td><td>32.0</td><td>4.75</td><td>0.0</td><td>0.0</td><td>0.0</td><td>4.75</td><td>&quot;Credit Card&quot;</td><td>&quot;Taxi Affiliation Services&quot;</td><td>41.879255</td><td>-87.642649</td><td>41.880994</td><td>-87.632746</td><td>&quot;17031281900&quot;</td><td>&quot;17031839100&quot;</td></tr><tr><td>&quot;a20cd18e92f8f33dab45f78ebde5f3…</td><td>&quot;6b29392d56c7d58fe76ec1513ab5c0…</td><td>2024-12-29 09:45:00</td><td>2024-12-29 09:45:00</td><td>348.0</td><td>1.16</td><td>35.0</td><td>35.0</td><td>6.5</td><td>0.0</td><td>0.0</td><td>0.0</td><td>6.5</td><td>&quot;Prcard&quot;</td><td>&quot;Sun Taxi&quot;</td><td>41.835118</td><td>-87.618678</td><td>41.835118</td><td>-87.618678</td><td>&quot;Unknown&quot;</td><td>&quot;Unknown&quot;</td></tr><tr><td>&quot;77acd09b0a28d9d3b371d46ae8e090…</td><td>&quot;49d226e40bf779a8ba34d280971ff8…</td><td>2024-12-28 12:15:00</td><td>2024-12-28 12:30:00</td><td>1410.0</td><td>12.06</td><td>8.0</td><td>44.0</td><td>32.0</td><td>0.0</td><td>0.0</td><td>0.0</td><td>32.0</td><td>&quot;Cash&quot;</td><td>&quot;Flash Cab&quot;</td><td>41.899602</td><td>-87.633308</td><td>41.740206</td><td>-87.61597</td><td>&quot;Unknown&quot;</td><td>&quot;Unknown&quot;</td></tr></tbody></table></div>"
      ],
      "text/plain": [
       "shape: (5, 21)\n",
       "┌───────────┬───────────┬───────────┬───────────┬───┬───────────┬───────────┬───────────┬──────────┐\n",
       "│ trip_id   ┆ taxi_id   ┆ trip_star ┆ trip_end_ ┆ … ┆ dropoff_c ┆ dropoff_c ┆ pickup_ce ┆ dropoff_ │\n",
       "│ ---       ┆ ---       ┆ t_timesta ┆ timestamp ┆   ┆ entroid_l ┆ entroid_l ┆ nsus_trac ┆ census_t │\n",
       "│ str       ┆ str       ┆ mp        ┆ ---       ┆   ┆ atitude   ┆ ongitude  ┆ t         ┆ ract     │\n",
       "│           ┆           ┆ ---       ┆ datetime[ ┆   ┆ ---       ┆ ---       ┆ ---       ┆ ---      │\n",
       "│           ┆           ┆ datetime[ ┆ μs]       ┆   ┆ f64       ┆ f64       ┆ str       ┆ str      │\n",
       "│           ┆           ┆ μs]       ┆           ┆   ┆           ┆           ┆           ┆          │\n",
       "╞═══════════╪═══════════╪═══════════╪═══════════╪═══╪═══════════╪═══════════╪═══════════╪══════════╡\n",
       "│ 5c0b9d9d9 ┆ 545ac2dfd ┆ 2024-12-2 ┆ 2024-12-2 ┆ … ┆ 41.901207 ┆ -87.67635 ┆ Unknown   ┆ Unknown  │\n",
       "│ 5e401aa64 ┆ 5b722e0f0 ┆ 0         ┆ 0         ┆   ┆           ┆ 6         ┆           ┆          │\n",
       "│ da33eb3ff ┆ d884cc68e ┆ 19:30:00  ┆ 19:45:00  ┆   ┆           ┆           ┆           ┆          │\n",
       "│ ebb…      ┆ c27…      ┆           ┆           ┆   ┆           ┆           ┆           ┆          │\n",
       "│ 6952ad9bc ┆ d45784297 ┆ 2024-12-3 ┆ 2024-12-3 ┆ … ┆ 41.899156 ┆ -87.62621 ┆ 170313201 ┆ 17031081 │\n",
       "│ 387cdc714 ┆ 75c32e03f ┆ 0         ┆ 0         ┆   ┆           ┆ 1         ┆ 00        ┆ 201      │\n",
       "│ 604ec7af4 ┆ b5139e1d1 ┆ 16:15:00  ┆ 16:30:00  ┆   ┆           ┆           ┆           ┆          │\n",
       "│ 053…      ┆ 32b…      ┆           ┆           ┆   ┆           ┆           ┆           ┆          │\n",
       "│ 12535c80e ┆ 083b72603 ┆ 2024-12-2 ┆ 2024-12-2 ┆ … ┆ 41.880994 ┆ -87.63274 ┆ 170312819 ┆ 17031839 │\n",
       "│ 6bed94672 ┆ 14e48be5e ┆ 0         ┆ 0         ┆   ┆           ┆ 6         ┆ 00        ┆ 100      │\n",
       "│ cc8f43d2b ┆ 10a9191da ┆ 09:00:00  ┆ 09:00:00  ┆   ┆           ┆           ┆           ┆          │\n",
       "│ 9be…      ┆ 36f…      ┆           ┆           ┆   ┆           ┆           ┆           ┆          │\n",
       "│ a20cd18e9 ┆ 6b29392d5 ┆ 2024-12-2 ┆ 2024-12-2 ┆ … ┆ 41.835118 ┆ -87.61867 ┆ Unknown   ┆ Unknown  │\n",
       "│ 2f8f33dab ┆ 6c7d58fe7 ┆ 9         ┆ 9         ┆   ┆           ┆ 8         ┆           ┆          │\n",
       "│ 45f78ebde ┆ 6ec1513ab ┆ 09:45:00  ┆ 09:45:00  ┆   ┆           ┆           ┆           ┆          │\n",
       "│ 5f3…      ┆ 5c0…      ┆           ┆           ┆   ┆           ┆           ┆           ┆          │\n",
       "│ 77acd09b0 ┆ 49d226e40 ┆ 2024-12-2 ┆ 2024-12-2 ┆ … ┆ 41.740206 ┆ -87.61597 ┆ Unknown   ┆ Unknown  │\n",
       "│ a28d9d3b3 ┆ bf779a8ba ┆ 8         ┆ 8         ┆   ┆           ┆           ┆           ┆          │\n",
       "│ 71d46ae8e ┆ 34d280971 ┆ 12:15:00  ┆ 12:30:00  ┆   ┆           ┆           ┆           ┆          │\n",
       "│ 090…      ┆ ff8…      ┆           ┆           ┆   ┆           ┆           ┆           ┆          │\n",
       "└───────────┴───────────┴───────────┴───────────┴───┴───────────┴───────────┴───────────┴──────────┘"
      ]
     },
     "execution_count": 50,
     "metadata": {},
     "output_type": "execute_result"
    }
   ],
   "source": [
    "# Fill missing values in string columns with a placeholder\n",
    "string_columns = df.select(pl.col(pl.Utf8)).columns\n",
    "df = df.with_columns([pl.col(col).fill_null('Unknown') for col in string_columns])\n",
    "\n",
    "# Display the DataFrame to verify the changes\n",
    "df.head()"
   ]
  },
  {
   "cell_type": "code",
   "execution_count": 51,
   "metadata": {},
   "outputs": [
    {
     "name": "stdout",
     "output_type": "stream",
     "text": [
      "Number of rows with trip_miles=0: 0\n"
     ]
    }
   ],
   "source": [
    "zero_trip_miles_count = df.filter(pl.col('trip_miles') == 0).shape[0]\n",
    "print(f\"Number of rows with trip_miles=0: {zero_trip_miles_count}\")"
   ]
  },
  {
   "cell_type": "code",
   "execution_count": 52,
   "metadata": {},
   "outputs": [
    {
     "name": "stdout",
     "output_type": "stream",
     "text": [
      "Number of rows dropped: 0\n"
     ]
    },
    {
     "data": {
      "text/html": [
       "<div><style>\n",
       ".dataframe > thead > tr,\n",
       ".dataframe > tbody > tr {\n",
       "  text-align: right;\n",
       "  white-space: pre-wrap;\n",
       "}\n",
       "</style>\n",
       "<small>shape: (5, 21)</small><table border=\"1\" class=\"dataframe\"><thead><tr><th>trip_id</th><th>taxi_id</th><th>trip_start_timestamp</th><th>trip_end_timestamp</th><th>trip_seconds</th><th>trip_miles</th><th>pickup_community_area</th><th>dropoff_community_area</th><th>fare</th><th>tips</th><th>tolls</th><th>extras</th><th>trip_total</th><th>payment_type</th><th>company</th><th>pickup_centroid_latitude</th><th>pickup_centroid_longitude</th><th>dropoff_centroid_latitude</th><th>dropoff_centroid_longitude</th><th>pickup_census_tract</th><th>dropoff_census_tract</th></tr><tr><td>str</td><td>str</td><td>datetime[μs]</td><td>datetime[μs]</td><td>f64</td><td>f64</td><td>f64</td><td>f64</td><td>f64</td><td>f64</td><td>f64</td><td>f64</td><td>f64</td><td>str</td><td>str</td><td>f64</td><td>f64</td><td>f64</td><td>f64</td><td>str</td><td>str</td></tr></thead><tbody><tr><td>&quot;5c0b9d9d95e401aa64da33eb3ffebb…</td><td>&quot;545ac2dfd5b722e0f0d884cc68ec27…</td><td>2024-12-20 19:30:00</td><td>2024-12-20 19:45:00</td><td>980.0</td><td>2.35</td><td>8.0</td><td>24.0</td><td>10.47</td><td>1.29</td><td>0.0</td><td>0.0</td><td>11.76</td><td>&quot;Mobile&quot;</td><td>&quot;Tac - American United Dispatch&quot;</td><td>41.899602</td><td>-87.633308</td><td>41.901207</td><td>-87.676356</td><td>&quot;Unknown&quot;</td><td>&quot;Unknown&quot;</td></tr><tr><td>&quot;6952ad9bc387cdc714604ec7af4053…</td><td>&quot;d4578429775c32e03fb5139e1d132b…</td><td>2024-12-30 16:15:00</td><td>2024-12-30 16:30:00</td><td>742.0</td><td>1.04</td><td>32.0</td><td>8.0</td><td>8.0</td><td>1.0</td><td>0.0</td><td>2.0</td><td>11.5</td><td>&quot;Credit Card&quot;</td><td>&quot;Taxicab Insurance Agency Llc&quot;</td><td>41.884987</td><td>-87.620993</td><td>41.899156</td><td>-87.626211</td><td>&quot;17031320100&quot;</td><td>&quot;17031081201&quot;</td></tr><tr><td>&quot;12535c80e6bed94672cc8f43d2b9be…</td><td>&quot;083b7260314e48be5e10a9191da36f…</td><td>2024-12-20 09:00:00</td><td>2024-12-20 09:00:00</td><td>180.0</td><td>0.5</td><td>28.0</td><td>32.0</td><td>4.75</td><td>0.0</td><td>0.0</td><td>0.0</td><td>4.75</td><td>&quot;Credit Card&quot;</td><td>&quot;Taxi Affiliation Services&quot;</td><td>41.879255</td><td>-87.642649</td><td>41.880994</td><td>-87.632746</td><td>&quot;17031281900&quot;</td><td>&quot;17031839100&quot;</td></tr><tr><td>&quot;a20cd18e92f8f33dab45f78ebde5f3…</td><td>&quot;6b29392d56c7d58fe76ec1513ab5c0…</td><td>2024-12-29 09:45:00</td><td>2024-12-29 09:45:00</td><td>348.0</td><td>1.16</td><td>35.0</td><td>35.0</td><td>6.5</td><td>0.0</td><td>0.0</td><td>0.0</td><td>6.5</td><td>&quot;Prcard&quot;</td><td>&quot;Sun Taxi&quot;</td><td>41.835118</td><td>-87.618678</td><td>41.835118</td><td>-87.618678</td><td>&quot;Unknown&quot;</td><td>&quot;Unknown&quot;</td></tr><tr><td>&quot;77acd09b0a28d9d3b371d46ae8e090…</td><td>&quot;49d226e40bf779a8ba34d280971ff8…</td><td>2024-12-28 12:15:00</td><td>2024-12-28 12:30:00</td><td>1410.0</td><td>12.06</td><td>8.0</td><td>44.0</td><td>32.0</td><td>0.0</td><td>0.0</td><td>0.0</td><td>32.0</td><td>&quot;Cash&quot;</td><td>&quot;Flash Cab&quot;</td><td>41.899602</td><td>-87.633308</td><td>41.740206</td><td>-87.61597</td><td>&quot;Unknown&quot;</td><td>&quot;Unknown&quot;</td></tr></tbody></table></div>"
      ],
      "text/plain": [
       "shape: (5, 21)\n",
       "┌───────────┬───────────┬───────────┬───────────┬───┬───────────┬───────────┬───────────┬──────────┐\n",
       "│ trip_id   ┆ taxi_id   ┆ trip_star ┆ trip_end_ ┆ … ┆ dropoff_c ┆ dropoff_c ┆ pickup_ce ┆ dropoff_ │\n",
       "│ ---       ┆ ---       ┆ t_timesta ┆ timestamp ┆   ┆ entroid_l ┆ entroid_l ┆ nsus_trac ┆ census_t │\n",
       "│ str       ┆ str       ┆ mp        ┆ ---       ┆   ┆ atitude   ┆ ongitude  ┆ t         ┆ ract     │\n",
       "│           ┆           ┆ ---       ┆ datetime[ ┆   ┆ ---       ┆ ---       ┆ ---       ┆ ---      │\n",
       "│           ┆           ┆ datetime[ ┆ μs]       ┆   ┆ f64       ┆ f64       ┆ str       ┆ str      │\n",
       "│           ┆           ┆ μs]       ┆           ┆   ┆           ┆           ┆           ┆          │\n",
       "╞═══════════╪═══════════╪═══════════╪═══════════╪═══╪═══════════╪═══════════╪═══════════╪══════════╡\n",
       "│ 5c0b9d9d9 ┆ 545ac2dfd ┆ 2024-12-2 ┆ 2024-12-2 ┆ … ┆ 41.901207 ┆ -87.67635 ┆ Unknown   ┆ Unknown  │\n",
       "│ 5e401aa64 ┆ 5b722e0f0 ┆ 0         ┆ 0         ┆   ┆           ┆ 6         ┆           ┆          │\n",
       "│ da33eb3ff ┆ d884cc68e ┆ 19:30:00  ┆ 19:45:00  ┆   ┆           ┆           ┆           ┆          │\n",
       "│ ebb…      ┆ c27…      ┆           ┆           ┆   ┆           ┆           ┆           ┆          │\n",
       "│ 6952ad9bc ┆ d45784297 ┆ 2024-12-3 ┆ 2024-12-3 ┆ … ┆ 41.899156 ┆ -87.62621 ┆ 170313201 ┆ 17031081 │\n",
       "│ 387cdc714 ┆ 75c32e03f ┆ 0         ┆ 0         ┆   ┆           ┆ 1         ┆ 00        ┆ 201      │\n",
       "│ 604ec7af4 ┆ b5139e1d1 ┆ 16:15:00  ┆ 16:30:00  ┆   ┆           ┆           ┆           ┆          │\n",
       "│ 053…      ┆ 32b…      ┆           ┆           ┆   ┆           ┆           ┆           ┆          │\n",
       "│ 12535c80e ┆ 083b72603 ┆ 2024-12-2 ┆ 2024-12-2 ┆ … ┆ 41.880994 ┆ -87.63274 ┆ 170312819 ┆ 17031839 │\n",
       "│ 6bed94672 ┆ 14e48be5e ┆ 0         ┆ 0         ┆   ┆           ┆ 6         ┆ 00        ┆ 100      │\n",
       "│ cc8f43d2b ┆ 10a9191da ┆ 09:00:00  ┆ 09:00:00  ┆   ┆           ┆           ┆           ┆          │\n",
       "│ 9be…      ┆ 36f…      ┆           ┆           ┆   ┆           ┆           ┆           ┆          │\n",
       "│ a20cd18e9 ┆ 6b29392d5 ┆ 2024-12-2 ┆ 2024-12-2 ┆ … ┆ 41.835118 ┆ -87.61867 ┆ Unknown   ┆ Unknown  │\n",
       "│ 2f8f33dab ┆ 6c7d58fe7 ┆ 9         ┆ 9         ┆   ┆           ┆ 8         ┆           ┆          │\n",
       "│ 45f78ebde ┆ 6ec1513ab ┆ 09:45:00  ┆ 09:45:00  ┆   ┆           ┆           ┆           ┆          │\n",
       "│ 5f3…      ┆ 5c0…      ┆           ┆           ┆   ┆           ┆           ┆           ┆          │\n",
       "│ 77acd09b0 ┆ 49d226e40 ┆ 2024-12-2 ┆ 2024-12-2 ┆ … ┆ 41.740206 ┆ -87.61597 ┆ Unknown   ┆ Unknown  │\n",
       "│ a28d9d3b3 ┆ bf779a8ba ┆ 8         ┆ 8         ┆   ┆           ┆           ┆           ┆          │\n",
       "│ 71d46ae8e ┆ 34d280971 ┆ 12:15:00  ┆ 12:30:00  ┆   ┆           ┆           ┆           ┆          │\n",
       "│ 090…      ┆ ff8…      ┆           ┆           ┆   ┆           ┆           ┆           ┆          │\n",
       "└───────────┴───────────┴───────────┴───────────┴───┴───────────┴───────────┴───────────┴──────────┘"
      ]
     },
     "execution_count": 52,
     "metadata": {},
     "output_type": "execute_result"
    }
   ],
   "source": [
    "original_row_count = df.shape[0]\n",
    "\n",
    "df = df.filter(pl.col('trip_miles') > 0).with_row_index(name='index').drop('index')\n",
    "\n",
    "# Calculate the number of rows dropped\n",
    "rows_dropped = original_row_count - df.shape[0]\n",
    "print(f\"Number of rows dropped: {rows_dropped}\")\n",
    "\n",
    "# Display the DataFrame to verify the changes\n",
    "df.head()"
   ]
  },
  {
   "cell_type": "code",
   "execution_count": 53,
   "metadata": {},
   "outputs": [
    {
     "name": "stdout",
     "output_type": "stream",
     "text": [
      "Number of rows with trip_miles=0: 0\n"
     ]
    }
   ],
   "source": [
    "zero_trip_miles_count = df.filter(pl.col('trip_miles') == 0).shape[0]\n",
    "print(f\"Number of rows with trip_miles=0: {zero_trip_miles_count}\")"
   ]
  },
  {
   "cell_type": "code",
   "execution_count": 54,
   "metadata": {},
   "outputs": [
    {
     "name": "stdout",
     "output_type": "stream",
     "text": [
      "Number of rows dropped: 0\n"
     ]
    },
    {
     "data": {
      "text/html": [
       "<div><style>\n",
       ".dataframe > thead > tr,\n",
       ".dataframe > tbody > tr {\n",
       "  text-align: right;\n",
       "  white-space: pre-wrap;\n",
       "}\n",
       "</style>\n",
       "<small>shape: (5, 21)</small><table border=\"1\" class=\"dataframe\"><thead><tr><th>trip_id</th><th>taxi_id</th><th>trip_start_timestamp</th><th>trip_end_timestamp</th><th>trip_seconds</th><th>trip_miles</th><th>pickup_community_area</th><th>dropoff_community_area</th><th>fare</th><th>tips</th><th>tolls</th><th>extras</th><th>trip_total</th><th>payment_type</th><th>company</th><th>pickup_centroid_latitude</th><th>pickup_centroid_longitude</th><th>dropoff_centroid_latitude</th><th>dropoff_centroid_longitude</th><th>pickup_census_tract</th><th>dropoff_census_tract</th></tr><tr><td>str</td><td>str</td><td>datetime[μs]</td><td>datetime[μs]</td><td>f64</td><td>f64</td><td>f64</td><td>f64</td><td>f64</td><td>f64</td><td>f64</td><td>f64</td><td>f64</td><td>str</td><td>str</td><td>f64</td><td>f64</td><td>f64</td><td>f64</td><td>str</td><td>str</td></tr></thead><tbody><tr><td>&quot;5c0b9d9d95e401aa64da33eb3ffebb…</td><td>&quot;545ac2dfd5b722e0f0d884cc68ec27…</td><td>2024-12-20 19:30:00</td><td>2024-12-20 19:45:00</td><td>980.0</td><td>2.35</td><td>8.0</td><td>24.0</td><td>10.47</td><td>1.29</td><td>0.0</td><td>0.0</td><td>11.76</td><td>&quot;Mobile&quot;</td><td>&quot;Tac - American United Dispatch&quot;</td><td>41.899602</td><td>-87.633308</td><td>41.901207</td><td>-87.676356</td><td>&quot;Unknown&quot;</td><td>&quot;Unknown&quot;</td></tr><tr><td>&quot;6952ad9bc387cdc714604ec7af4053…</td><td>&quot;d4578429775c32e03fb5139e1d132b…</td><td>2024-12-30 16:15:00</td><td>2024-12-30 16:30:00</td><td>742.0</td><td>1.04</td><td>32.0</td><td>8.0</td><td>8.0</td><td>1.0</td><td>0.0</td><td>2.0</td><td>11.5</td><td>&quot;Credit Card&quot;</td><td>&quot;Taxicab Insurance Agency Llc&quot;</td><td>41.884987</td><td>-87.620993</td><td>41.899156</td><td>-87.626211</td><td>&quot;17031320100&quot;</td><td>&quot;17031081201&quot;</td></tr><tr><td>&quot;12535c80e6bed94672cc8f43d2b9be…</td><td>&quot;083b7260314e48be5e10a9191da36f…</td><td>2024-12-20 09:00:00</td><td>2024-12-20 09:00:00</td><td>180.0</td><td>0.5</td><td>28.0</td><td>32.0</td><td>4.75</td><td>0.0</td><td>0.0</td><td>0.0</td><td>4.75</td><td>&quot;Credit Card&quot;</td><td>&quot;Taxi Affiliation Services&quot;</td><td>41.879255</td><td>-87.642649</td><td>41.880994</td><td>-87.632746</td><td>&quot;17031281900&quot;</td><td>&quot;17031839100&quot;</td></tr><tr><td>&quot;a20cd18e92f8f33dab45f78ebde5f3…</td><td>&quot;6b29392d56c7d58fe76ec1513ab5c0…</td><td>2024-12-29 09:45:00</td><td>2024-12-29 09:45:00</td><td>348.0</td><td>1.16</td><td>35.0</td><td>35.0</td><td>6.5</td><td>0.0</td><td>0.0</td><td>0.0</td><td>6.5</td><td>&quot;Prcard&quot;</td><td>&quot;Sun Taxi&quot;</td><td>41.835118</td><td>-87.618678</td><td>41.835118</td><td>-87.618678</td><td>&quot;Unknown&quot;</td><td>&quot;Unknown&quot;</td></tr><tr><td>&quot;77acd09b0a28d9d3b371d46ae8e090…</td><td>&quot;49d226e40bf779a8ba34d280971ff8…</td><td>2024-12-28 12:15:00</td><td>2024-12-28 12:30:00</td><td>1410.0</td><td>12.06</td><td>8.0</td><td>44.0</td><td>32.0</td><td>0.0</td><td>0.0</td><td>0.0</td><td>32.0</td><td>&quot;Cash&quot;</td><td>&quot;Flash Cab&quot;</td><td>41.899602</td><td>-87.633308</td><td>41.740206</td><td>-87.61597</td><td>&quot;Unknown&quot;</td><td>&quot;Unknown&quot;</td></tr></tbody></table></div>"
      ],
      "text/plain": [
       "shape: (5, 21)\n",
       "┌───────────┬───────────┬───────────┬───────────┬───┬───────────┬───────────┬───────────┬──────────┐\n",
       "│ trip_id   ┆ taxi_id   ┆ trip_star ┆ trip_end_ ┆ … ┆ dropoff_c ┆ dropoff_c ┆ pickup_ce ┆ dropoff_ │\n",
       "│ ---       ┆ ---       ┆ t_timesta ┆ timestamp ┆   ┆ entroid_l ┆ entroid_l ┆ nsus_trac ┆ census_t │\n",
       "│ str       ┆ str       ┆ mp        ┆ ---       ┆   ┆ atitude   ┆ ongitude  ┆ t         ┆ ract     │\n",
       "│           ┆           ┆ ---       ┆ datetime[ ┆   ┆ ---       ┆ ---       ┆ ---       ┆ ---      │\n",
       "│           ┆           ┆ datetime[ ┆ μs]       ┆   ┆ f64       ┆ f64       ┆ str       ┆ str      │\n",
       "│           ┆           ┆ μs]       ┆           ┆   ┆           ┆           ┆           ┆          │\n",
       "╞═══════════╪═══════════╪═══════════╪═══════════╪═══╪═══════════╪═══════════╪═══════════╪══════════╡\n",
       "│ 5c0b9d9d9 ┆ 545ac2dfd ┆ 2024-12-2 ┆ 2024-12-2 ┆ … ┆ 41.901207 ┆ -87.67635 ┆ Unknown   ┆ Unknown  │\n",
       "│ 5e401aa64 ┆ 5b722e0f0 ┆ 0         ┆ 0         ┆   ┆           ┆ 6         ┆           ┆          │\n",
       "│ da33eb3ff ┆ d884cc68e ┆ 19:30:00  ┆ 19:45:00  ┆   ┆           ┆           ┆           ┆          │\n",
       "│ ebb…      ┆ c27…      ┆           ┆           ┆   ┆           ┆           ┆           ┆          │\n",
       "│ 6952ad9bc ┆ d45784297 ┆ 2024-12-3 ┆ 2024-12-3 ┆ … ┆ 41.899156 ┆ -87.62621 ┆ 170313201 ┆ 17031081 │\n",
       "│ 387cdc714 ┆ 75c32e03f ┆ 0         ┆ 0         ┆   ┆           ┆ 1         ┆ 00        ┆ 201      │\n",
       "│ 604ec7af4 ┆ b5139e1d1 ┆ 16:15:00  ┆ 16:30:00  ┆   ┆           ┆           ┆           ┆          │\n",
       "│ 053…      ┆ 32b…      ┆           ┆           ┆   ┆           ┆           ┆           ┆          │\n",
       "│ 12535c80e ┆ 083b72603 ┆ 2024-12-2 ┆ 2024-12-2 ┆ … ┆ 41.880994 ┆ -87.63274 ┆ 170312819 ┆ 17031839 │\n",
       "│ 6bed94672 ┆ 14e48be5e ┆ 0         ┆ 0         ┆   ┆           ┆ 6         ┆ 00        ┆ 100      │\n",
       "│ cc8f43d2b ┆ 10a9191da ┆ 09:00:00  ┆ 09:00:00  ┆   ┆           ┆           ┆           ┆          │\n",
       "│ 9be…      ┆ 36f…      ┆           ┆           ┆   ┆           ┆           ┆           ┆          │\n",
       "│ a20cd18e9 ┆ 6b29392d5 ┆ 2024-12-2 ┆ 2024-12-2 ┆ … ┆ 41.835118 ┆ -87.61867 ┆ Unknown   ┆ Unknown  │\n",
       "│ 2f8f33dab ┆ 6c7d58fe7 ┆ 9         ┆ 9         ┆   ┆           ┆ 8         ┆           ┆          │\n",
       "│ 45f78ebde ┆ 6ec1513ab ┆ 09:45:00  ┆ 09:45:00  ┆   ┆           ┆           ┆           ┆          │\n",
       "│ 5f3…      ┆ 5c0…      ┆           ┆           ┆   ┆           ┆           ┆           ┆          │\n",
       "│ 77acd09b0 ┆ 49d226e40 ┆ 2024-12-2 ┆ 2024-12-2 ┆ … ┆ 41.740206 ┆ -87.61597 ┆ Unknown   ┆ Unknown  │\n",
       "│ a28d9d3b3 ┆ bf779a8ba ┆ 8         ┆ 8         ┆   ┆           ┆           ┆           ┆          │\n",
       "│ 71d46ae8e ┆ 34d280971 ┆ 12:15:00  ┆ 12:30:00  ┆   ┆           ┆           ┆           ┆          │\n",
       "│ 090…      ┆ ff8…      ┆           ┆           ┆   ┆           ┆           ┆           ┆          │\n",
       "└───────────┴───────────┴───────────┴───────────┴───┴───────────┴───────────┴───────────┴──────────┘"
      ]
     },
     "execution_count": 54,
     "metadata": {},
     "output_type": "execute_result"
    }
   ],
   "source": [
    "original_row_count = df.shape[0]\n",
    "\n",
    "df = df.filter(pl.col('trip_miles') > 0).with_row_index(name='index').drop('index')\n",
    "\n",
    "# Calculate the number of rows dropped\n",
    "rows_dropped = original_row_count - df.shape[0]\n",
    "print(f\"Number of rows dropped: {rows_dropped}\")\n",
    "\n",
    "# Display the DataFrame to verify the changes\n",
    "df.head()"
   ]
  },
  {
   "cell_type": "code",
   "execution_count": 55,
   "metadata": {},
   "outputs": [
    {
     "name": "stdout",
     "output_type": "stream",
     "text": [
      "Number of rows with trip_miles=0: 0\n"
     ]
    }
   ],
   "source": [
    "zero_trip_miles_count = df.filter(pl.col('trip_miles') == 0).shape[0]\n",
    "print(f\"Number of rows with trip_miles=0: {zero_trip_miles_count}\")"
   ]
  },
  {
   "cell_type": "code",
   "execution_count": 56,
   "metadata": {},
   "outputs": [
    {
     "name": "stdout",
     "output_type": "stream",
     "text": [
      "Number of rows with trip_miles=0: 0\n"
     ]
    }
   ],
   "source": [
    "zero_trip_miles_count = df.filter(pl.col('trip_miles') == 0).shape[0]\n",
    "print(f\"Number of rows with trip_miles=0: {zero_trip_miles_count}\")"
   ]
  },
  {
   "cell_type": "code",
   "execution_count": 60,
   "metadata": {},
   "outputs": [
    {
     "name": "stdout",
     "output_type": "stream",
     "text": [
      "Number of null values in pickup_community_area: 0\n",
      "Number of null values in dropoff_community_area: 0\n"
     ]
    }
   ],
   "source": [
    "# Calculate the number of null values in the community area columns\n",
    "null_pickup_community_area = df.filter(pl.col('pickup_community_area').is_null()).shape[0]\n",
    "null_dropoff_community_area = df.filter(pl.col('dropoff_community_area').is_null()).shape[0]\n",
    "\n",
    "print(f\"Number of null values in pickup_community_area: {null_pickup_community_area}\")\n",
    "print(f\"Number of null values in dropoff_community_area: {null_dropoff_community_area}\")"
   ]
  },
  {
   "cell_type": "markdown",
   "metadata": {},
   "source": [
    "### Create a Dim for Time"
   ]
  },
  {
   "cell_type": "code",
   "execution_count": 61,
   "metadata": {},
   "outputs": [
    {
     "data": {
      "text/html": [
       "<div><style>\n",
       ".dataframe > thead > tr,\n",
       ".dataframe > tbody > tr {\n",
       "  text-align: right;\n",
       "  white-space: pre-wrap;\n",
       "}\n",
       "</style>\n",
       "<small>shape: (5, 6)</small><table border=\"1\" class=\"dataframe\"><thead><tr><th>fk_trip_timestamp</th><th>date</th><th>time</th><th>month</th><th>hour</th><th>minute</th></tr><tr><td>datetime[μs]</td><td>date</td><td>time</td><td>i8</td><td>i8</td><td>i8</td></tr></thead><tbody><tr><td>2024-12-17 07:45:00</td><td>2024-12-17</td><td>07:45:00</td><td>12</td><td>7</td><td>45</td></tr><tr><td>2024-12-17 08:00:00</td><td>2024-12-17</td><td>08:00:00</td><td>12</td><td>8</td><td>0</td></tr><tr><td>2024-12-17 08:15:00</td><td>2024-12-17</td><td>08:15:00</td><td>12</td><td>8</td><td>15</td></tr><tr><td>2024-12-17 08:30:00</td><td>2024-12-17</td><td>08:30:00</td><td>12</td><td>8</td><td>30</td></tr><tr><td>2024-12-17 08:45:00</td><td>2024-12-17</td><td>08:45:00</td><td>12</td><td>8</td><td>45</td></tr></tbody></table></div>"
      ],
      "text/plain": [
       "shape: (5, 6)\n",
       "┌─────────────────────┬────────────┬──────────┬───────┬──────┬────────┐\n",
       "│ fk_trip_timestamp   ┆ date       ┆ time     ┆ month ┆ hour ┆ minute │\n",
       "│ ---                 ┆ ---        ┆ ---      ┆ ---   ┆ ---  ┆ ---    │\n",
       "│ datetime[μs]        ┆ date       ┆ time     ┆ i8    ┆ i8   ┆ i8     │\n",
       "╞═════════════════════╪════════════╪══════════╪═══════╪══════╪════════╡\n",
       "│ 2024-12-17 07:45:00 ┆ 2024-12-17 ┆ 07:45:00 ┆ 12    ┆ 7    ┆ 45     │\n",
       "│ 2024-12-17 08:00:00 ┆ 2024-12-17 ┆ 08:00:00 ┆ 12    ┆ 8    ┆ 0      │\n",
       "│ 2024-12-17 08:15:00 ┆ 2024-12-17 ┆ 08:15:00 ┆ 12    ┆ 8    ┆ 15     │\n",
       "│ 2024-12-17 08:30:00 ┆ 2024-12-17 ┆ 08:30:00 ┆ 12    ┆ 8    ┆ 30     │\n",
       "│ 2024-12-17 08:45:00 ┆ 2024-12-17 ┆ 08:45:00 ┆ 12    ┆ 8    ┆ 45     │\n",
       "└─────────────────────┴────────────┴──────────┴───────┴──────┴────────┘"
      ]
     },
     "execution_count": 61,
     "metadata": {},
     "output_type": "execute_result"
    }
   ],
   "source": [
    "import polars as pl\n",
    "\n",
    "# Extract start and end timestamps\n",
    "start_times = df['trip_start_timestamp']\n",
    "end_times = df['trip_end_timestamp']\n",
    "\n",
    "# Combine start and end timestamps into a single series\n",
    "all_times = pl.concat([start_times, end_times]).unique().sort()\n",
    "\n",
    "# Create the time dimension dataframe\n",
    "dim_time = pl.DataFrame({\n",
    "    'fk_trip_timestamp': all_times,\n",
    "    'date': all_times.dt.date(),\n",
    "    'time': all_times.dt.time(),\n",
    "    'month': all_times.dt.month(),\n",
    "    'hour': all_times.dt.hour(),\n",
    "    'minute': all_times.dt.minute()\n",
    "})\n",
    "\n",
    "# Set fk_trip_timestamp as the index\n",
    "dim_time = dim_time.set_sorted('fk_trip_timestamp')\n",
    "\n",
    "# Display the time dimension dataframe\n",
    "dim_time.head()"
   ]
  },
  {
   "cell_type": "code",
   "execution_count": 62,
   "metadata": {},
   "outputs": [
    {
     "data": {
      "text/html": [
       "<div><style>\n",
       ".dataframe > thead > tr,\n",
       ".dataframe > tbody > tr {\n",
       "  text-align: right;\n",
       "  white-space: pre-wrap;\n",
       "}\n",
       "</style>\n",
       "<small>shape: (5, 7)</small><table border=\"1\" class=\"dataframe\"><thead><tr><th>fk_trip_timestamp</th><th>date</th><th>time</th><th>month</th><th>hour</th><th>minute</th><th>day_of_week</th></tr><tr><td>datetime[μs]</td><td>date</td><td>time</td><td>i8</td><td>i8</td><td>i8</td><td>str</td></tr></thead><tbody><tr><td>2024-12-17 07:45:00</td><td>2024-12-17</td><td>07:45:00</td><td>12</td><td>7</td><td>45</td><td>&quot;Tue&quot;</td></tr><tr><td>2024-12-17 08:00:00</td><td>2024-12-17</td><td>08:00:00</td><td>12</td><td>8</td><td>0</td><td>&quot;Tue&quot;</td></tr><tr><td>2024-12-17 08:15:00</td><td>2024-12-17</td><td>08:15:00</td><td>12</td><td>8</td><td>15</td><td>&quot;Tue&quot;</td></tr><tr><td>2024-12-17 08:30:00</td><td>2024-12-17</td><td>08:30:00</td><td>12</td><td>8</td><td>30</td><td>&quot;Tue&quot;</td></tr><tr><td>2024-12-17 08:45:00</td><td>2024-12-17</td><td>08:45:00</td><td>12</td><td>8</td><td>45</td><td>&quot;Tue&quot;</td></tr></tbody></table></div>"
      ],
      "text/plain": [
       "shape: (5, 7)\n",
       "┌─────────────────────┬────────────┬──────────┬───────┬──────┬────────┬─────────────┐\n",
       "│ fk_trip_timestamp   ┆ date       ┆ time     ┆ month ┆ hour ┆ minute ┆ day_of_week │\n",
       "│ ---                 ┆ ---        ┆ ---      ┆ ---   ┆ ---  ┆ ---    ┆ ---         │\n",
       "│ datetime[μs]        ┆ date       ┆ time     ┆ i8    ┆ i8   ┆ i8     ┆ str         │\n",
       "╞═════════════════════╪════════════╪══════════╪═══════╪══════╪════════╪═════════════╡\n",
       "│ 2024-12-17 07:45:00 ┆ 2024-12-17 ┆ 07:45:00 ┆ 12    ┆ 7    ┆ 45     ┆ Tue         │\n",
       "│ 2024-12-17 08:00:00 ┆ 2024-12-17 ┆ 08:00:00 ┆ 12    ┆ 8    ┆ 0      ┆ Tue         │\n",
       "│ 2024-12-17 08:15:00 ┆ 2024-12-17 ┆ 08:15:00 ┆ 12    ┆ 8    ┆ 15     ┆ Tue         │\n",
       "│ 2024-12-17 08:30:00 ┆ 2024-12-17 ┆ 08:30:00 ┆ 12    ┆ 8    ┆ 30     ┆ Tue         │\n",
       "│ 2024-12-17 08:45:00 ┆ 2024-12-17 ┆ 08:45:00 ┆ 12    ┆ 8    ┆ 45     ┆ Tue         │\n",
       "└─────────────────────┴────────────┴──────────┴───────┴──────┴────────┴─────────────┘"
      ]
     },
     "execution_count": 62,
     "metadata": {},
     "output_type": "execute_result"
    }
   ],
   "source": [
    "# Add a column for the day of the week as an abbreviated string\n",
    "dim_time = dim_time.with_columns([\n",
    "    dim_time['fk_trip_timestamp'].dt.strftime('%a').alias('day_of_week')\n",
    "])\n",
    "\n",
    "# Display the updated time dimension dataframe\n",
    "dim_time.head()"
   ]
  },
  {
   "cell_type": "markdown",
   "metadata": {},
   "source": [
    "### Create a Dimension for location data"
   ]
  },
  {
   "cell_type": "code",
   "execution_count": 85,
   "metadata": {
    "vscode": {
     "languageId": "ruby"
    }
   },
   "outputs": [
    {
     "data": {
      "text/html": [
       "<div><style>\n",
       ".dataframe > thead > tr,\n",
       ".dataframe > tbody > tr {\n",
       "  text-align: right;\n",
       "  white-space: pre-wrap;\n",
       "}\n",
       "</style>\n",
       "<small>shape: (5, 4)</small><table border=\"1\" class=\"dataframe\"><thead><tr><th>fk_latitude</th><th>fk_longitude</th><th>census_tract</th><th>community_area</th></tr><tr><td>f64</td><td>f64</td><td>str</td><td>i64</td></tr></thead><tbody><tr><td>41.968069</td><td>-87.721559</td><td>&quot;Unknown&quot;</td><td>null</td></tr><tr><td>41.884987</td><td>-87.620993</td><td>&quot;17031320100&quot;</td><td>null</td></tr><tr><td>41.892073</td><td>-87.628874</td><td>&quot;17031081600&quot;</td><td>null</td></tr><tr><td>41.938232</td><td>-87.646782</td><td>&quot;17031063100&quot;</td><td>null</td></tr><tr><td>41.942692</td><td>-87.651771</td><td>&quot;17031062100&quot;</td><td>null</td></tr></tbody></table></div>"
      ],
      "text/plain": [
       "shape: (5, 4)\n",
       "┌─────────────┬──────────────┬──────────────┬────────────────┐\n",
       "│ fk_latitude ┆ fk_longitude ┆ census_tract ┆ community_area │\n",
       "│ ---         ┆ ---          ┆ ---          ┆ ---            │\n",
       "│ f64         ┆ f64          ┆ str          ┆ i64            │\n",
       "╞═════════════╪══════════════╪══════════════╪════════════════╡\n",
       "│ 41.968069   ┆ -87.721559   ┆ Unknown      ┆ null           │\n",
       "│ 41.884987   ┆ -87.620993   ┆ 17031320100  ┆ null           │\n",
       "│ 41.892073   ┆ -87.628874   ┆ 17031081600  ┆ null           │\n",
       "│ 41.938232   ┆ -87.646782   ┆ 17031063100  ┆ null           │\n",
       "│ 41.942692   ┆ -87.651771   ┆ 17031062100  ┆ null           │\n",
       "└─────────────┴──────────────┴──────────────┴────────────────┘"
      ]
     },
     "execution_count": 85,
     "metadata": {},
     "output_type": "execute_result"
    }
   ],
   "source": [
    "# Extract unique combinations of latitude, longitude, and census tract from pickup locations\n",
    "pickup_locations = df.select(['pickup_centroid_latitude', 'pickup_centroid_longitude', 'pickup_census_tract']).unique()\n",
    "\n",
    "# Create the location dimension dataframe\n",
    "dim_location = pickup_locations.with_columns([\n",
    "    pl.col('pickup_centroid_latitude').alias('fk_latitude'),\n",
    "    pl.col('pickup_centroid_longitude').alias('fk_longitude'),\n",
    "    pl.col('pickup_census_tract').alias('census_tract'),\n",
    "    pl.lit(None).cast(pl.Int64).alias('community_area')\n",
    "])\n",
    "\n",
    "# Drop the original latitude, longitude, and census tract columns\n",
    "dim_location = dim_location.drop(['pickup_centroid_latitude', 'pickup_centroid_longitude', 'pickup_census_tract'])\n",
    "\n",
    "# Display the location dimension dataframe\n",
    "dim_location.head()\n"
   ]
  },
  {
   "cell_type": "code",
   "execution_count": 86,
   "metadata": {},
   "outputs": [
    {
     "name": "stdout",
     "output_type": "stream",
     "text": [
      "Number of community areas in dim_location that are null: 226\n"
     ]
    }
   ],
   "source": [
    "null_community_areas_count = dim_location.filter(pl.col('community_area').is_null()).shape[0]\n",
    "print(f\"Number of community areas in dim_location that are null: {null_community_areas_count}\")"
   ]
  },
  {
   "cell_type": "code",
   "execution_count": 87,
   "metadata": {},
   "outputs": [
    {
     "data": {
      "text/html": [
       "<div><style>\n",
       ".dataframe > thead > tr,\n",
       ".dataframe > tbody > tr {\n",
       "  text-align: right;\n",
       "  white-space: pre-wrap;\n",
       "}\n",
       "</style>\n",
       "<small>shape: (5, 4)</small><table border=\"1\" class=\"dataframe\"><thead><tr><th>fk_latitude</th><th>fk_longitude</th><th>census_tract</th><th>community_area</th></tr><tr><td>f64</td><td>f64</td><td>str</td><td>i64</td></tr></thead><tbody><tr><td>41.968069</td><td>-87.721559</td><td>&quot;Unknown&quot;</td><td>0</td></tr><tr><td>41.884987</td><td>-87.620993</td><td>&quot;17031320100&quot;</td><td>0</td></tr><tr><td>41.892073</td><td>-87.628874</td><td>&quot;17031081600&quot;</td><td>0</td></tr><tr><td>41.938232</td><td>-87.646782</td><td>&quot;17031063100&quot;</td><td>0</td></tr><tr><td>41.942692</td><td>-87.651771</td><td>&quot;17031062100&quot;</td><td>0</td></tr></tbody></table></div>"
      ],
      "text/plain": [
       "shape: (5, 4)\n",
       "┌─────────────┬──────────────┬──────────────┬────────────────┐\n",
       "│ fk_latitude ┆ fk_longitude ┆ census_tract ┆ community_area │\n",
       "│ ---         ┆ ---          ┆ ---          ┆ ---            │\n",
       "│ f64         ┆ f64          ┆ str          ┆ i64            │\n",
       "╞═════════════╪══════════════╪══════════════╪════════════════╡\n",
       "│ 41.968069   ┆ -87.721559   ┆ Unknown      ┆ 0              │\n",
       "│ 41.884987   ┆ -87.620993   ┆ 17031320100  ┆ 0              │\n",
       "│ 41.892073   ┆ -87.628874   ┆ 17031081600  ┆ 0              │\n",
       "│ 41.938232   ┆ -87.646782   ┆ 17031063100  ┆ 0              │\n",
       "│ 41.942692   ┆ -87.651771   ┆ 17031062100  ┆ 0              │\n",
       "└─────────────┴──────────────┴──────────────┴────────────────┘"
      ]
     },
     "execution_count": 87,
     "metadata": {},
     "output_type": "execute_result"
    }
   ],
   "source": [
    "# Fill null values in dim_location with 0\n",
    "dim_location = dim_location.fill_null(0)\n",
    "\n",
    "# Display the updated dim_location dataframe\n",
    "dim_location.head()"
   ]
  },
  {
   "cell_type": "markdown",
   "metadata": {},
   "source": [
    "### Create a Dim for Payment Types"
   ]
  },
  {
   "cell_type": "code",
   "execution_count": 88,
   "metadata": {},
   "outputs": [
    {
     "data": {
      "text/html": [
       "<div><style>\n",
       ".dataframe > thead > tr,\n",
       ".dataframe > tbody > tr {\n",
       "  text-align: right;\n",
       "  white-space: pre-wrap;\n",
       "}\n",
       "</style>\n",
       "<small>shape: (5, 2)</small><table border=\"1\" class=\"dataframe\"><thead><tr><th>payment_type</th><th>payment_type_key</th></tr><tr><td>str</td><td>i64</td></tr></thead><tbody><tr><td>&quot;Unknown&quot;</td><td>1</td></tr><tr><td>&quot;Prcard&quot;</td><td>2</td></tr><tr><td>&quot;No Charge&quot;</td><td>3</td></tr><tr><td>&quot;Cash&quot;</td><td>4</td></tr><tr><td>&quot;Credit Card&quot;</td><td>5</td></tr></tbody></table></div>"
      ],
      "text/plain": [
       "shape: (5, 2)\n",
       "┌──────────────┬──────────────────┐\n",
       "│ payment_type ┆ payment_type_key │\n",
       "│ ---          ┆ ---              │\n",
       "│ str          ┆ i64              │\n",
       "╞══════════════╪══════════════════╡\n",
       "│ Unknown      ┆ 1                │\n",
       "│ Prcard       ┆ 2                │\n",
       "│ No Charge    ┆ 3                │\n",
       "│ Cash         ┆ 4                │\n",
       "│ Credit Card  ┆ 5                │\n",
       "└──────────────┴──────────────────┘"
      ]
     },
     "execution_count": 88,
     "metadata": {},
     "output_type": "execute_result"
    }
   ],
   "source": [
    "# Extract unique payment types\n",
    "unique_payment_types = df.select(pl.col('payment_type')).unique()\n",
    "\n",
    "# Create the payment type dimension dataframe\n",
    "dim_payment_type = unique_payment_types.with_columns([\n",
    "    pl.arange(1, unique_payment_types.height + 1).alias('payment_type_key')\n",
    "])\n",
    "\n",
    "# Display the payment type dimension dataframe\n",
    "dim_payment_type.head()\n"
   ]
  },
  {
   "cell_type": "markdown",
   "metadata": {},
   "source": [
    "### Create a Dim for Taxi Companies based on the Taxi Id"
   ]
  },
  {
   "cell_type": "code",
   "execution_count": 89,
   "metadata": {},
   "outputs": [
    {
     "data": {
      "text/html": [
       "<div><style>\n",
       ".dataframe > thead > tr,\n",
       ".dataframe > tbody > tr {\n",
       "  text-align: right;\n",
       "  white-space: pre-wrap;\n",
       "}\n",
       "</style>\n",
       "<small>shape: (10, 2)</small><table border=\"1\" class=\"dataframe\"><thead><tr><th>fk_taxi_id</th><th>company</th></tr><tr><td>str</td><td>str</td></tr></thead><tbody><tr><td>&quot;b52493d43f7de565ab5eaaa0b12387…</td><td>&quot;Tac - Yellow Cab Association&quot;</td></tr><tr><td>&quot;9d0ae86bab93b06fc8d952808f4fcc…</td><td>&quot;Taxicab Insurance Agency Llc&quot;</td></tr><tr><td>&quot;19b4ae2f19dd457dced6a79a9a5fea…</td><td>&quot;Chicago Independents&quot;</td></tr><tr><td>&quot;8b1a88e5a09cfd55ca72d267f00f56…</td><td>&quot;5 Star Taxi&quot;</td></tr><tr><td>&quot;365689b9f3107b807470fe16b781f7…</td><td>&quot;Blue Ribbon Taxi Association&quot;</td></tr><tr><td>&quot;a31d2ea87ea4f5a4793c30f84f000b…</td><td>&quot;Flash Cab&quot;</td></tr><tr><td>&quot;cea7a9702e82637b2250c3f993e1ea…</td><td>&quot;Taxicab Insurance Agency Llc&quot;</td></tr><tr><td>&quot;00f4b381570486f8575cbaa57ed41f…</td><td>&quot;Taxi Affiliation Services&quot;</td></tr><tr><td>&quot;0d155321bfc93b437e0630bd155d06…</td><td>&quot;Flash Cab&quot;</td></tr><tr><td>&quot;f454eed0504cea35dec37d008e9408…</td><td>&quot;5 Star Taxi&quot;</td></tr></tbody></table></div>"
      ],
      "text/plain": [
       "shape: (10, 2)\n",
       "┌─────────────────────────────────┬──────────────────────────────┐\n",
       "│ fk_taxi_id                      ┆ company                      │\n",
       "│ ---                             ┆ ---                          │\n",
       "│ str                             ┆ str                          │\n",
       "╞═════════════════════════════════╪══════════════════════════════╡\n",
       "│ b52493d43f7de565ab5eaaa0b12387… ┆ Tac - Yellow Cab Association │\n",
       "│ 9d0ae86bab93b06fc8d952808f4fcc… ┆ Taxicab Insurance Agency Llc │\n",
       "│ 19b4ae2f19dd457dced6a79a9a5fea… ┆ Chicago Independents         │\n",
       "│ 8b1a88e5a09cfd55ca72d267f00f56… ┆ 5 Star Taxi                  │\n",
       "│ 365689b9f3107b807470fe16b781f7… ┆ Blue Ribbon Taxi Association │\n",
       "│ a31d2ea87ea4f5a4793c30f84f000b… ┆ Flash Cab                    │\n",
       "│ cea7a9702e82637b2250c3f993e1ea… ┆ Taxicab Insurance Agency Llc │\n",
       "│ 00f4b381570486f8575cbaa57ed41f… ┆ Taxi Affiliation Services    │\n",
       "│ 0d155321bfc93b437e0630bd155d06… ┆ Flash Cab                    │\n",
       "│ f454eed0504cea35dec37d008e9408… ┆ 5 Star Taxi                  │\n",
       "└─────────────────────────────────┴──────────────────────────────┘"
      ]
     },
     "execution_count": 89,
     "metadata": {},
     "output_type": "execute_result"
    }
   ],
   "source": [
    "# Create the taxi dimension dataframe\n",
    "dim_taxi = df.select(['taxi_id', 'company']).unique().with_columns([\n",
    "    pl.col('taxi_id').alias('fk_taxi_id')\n",
    "]).drop('taxi_id')\n",
    "\n",
    "# Rearrange columns to have fk_taxi_id first\n",
    "dim_taxi = dim_taxi.select(['fk_taxi_id', 'company'])\n",
    "\n",
    "# Display the taxi dimension dataframe\n",
    "dim_taxi.head(10)"
   ]
  },
  {
   "cell_type": "markdown",
   "metadata": {},
   "source": [
    "### Create the Fact Table merging with Dim tables"
   ]
  },
  {
   "cell_type": "markdown",
   "metadata": {},
   "source": [
    "#### The number of records is around 200K. This means the merge operations must be done in chunks, along with other mem optimizations"
   ]
  },
  {
   "cell_type": "markdown",
   "metadata": {},
   "source": [
    "##### What happends if we increase the number of rows to 1M or 2M? (We will see later....)"
   ]
  },
  {
   "cell_type": "code",
   "execution_count": 90,
   "metadata": {},
   "outputs": [
    {
     "data": {
      "text/html": [
       "<div><style>\n",
       ".dataframe > thead > tr,\n",
       ".dataframe > tbody > tr {\n",
       "  text-align: right;\n",
       "  white-space: pre-wrap;\n",
       "}\n",
       "</style>\n",
       "<small>shape: (5, 39)</small><table border=\"1\" class=\"dataframe\"><thead><tr><th>trip_id</th><th>taxi_id</th><th>trip_start_timestamp</th><th>trip_end_timestamp</th><th>trip_seconds</th><th>trip_miles</th><th>pickup_community_area</th><th>dropoff_community_area</th><th>fare</th><th>tips</th><th>tolls</th><th>extras</th><th>trip_total</th><th>payment_type</th><th>company</th><th>pickup_centroid_latitude</th><th>pickup_centroid_longitude</th><th>dropoff_centroid_latitude</th><th>dropoff_centroid_longitude</th><th>pickup_census_tract</th><th>dropoff_census_tract</th><th>date</th><th>time</th><th>month</th><th>hour</th><th>minute</th><th>day_of_week</th><th>date_end</th><th>time_end</th><th>month_end</th><th>hour_end</th><th>minute_end</th><th>day_of_week_end</th><th>census_tract</th><th>community_area</th><th>census_tract_dropoff</th><th>community_area_dropoff</th><th>company_right</th><th>payment_type_key</th></tr><tr><td>str</td><td>str</td><td>datetime[μs]</td><td>datetime[μs]</td><td>f64</td><td>f64</td><td>f64</td><td>f64</td><td>f64</td><td>f64</td><td>f64</td><td>f64</td><td>f64</td><td>str</td><td>str</td><td>f64</td><td>f64</td><td>f64</td><td>f64</td><td>str</td><td>str</td><td>date</td><td>time</td><td>i8</td><td>i8</td><td>i8</td><td>str</td><td>date</td><td>time</td><td>i8</td><td>i8</td><td>i8</td><td>str</td><td>str</td><td>i64</td><td>str</td><td>i64</td><td>str</td><td>i64</td></tr></thead><tbody><tr><td>&quot;5c0b9d9d95e401aa64da33eb3ffebb…</td><td>&quot;545ac2dfd5b722e0f0d884cc68ec27…</td><td>2024-12-20 19:30:00</td><td>2024-12-20 19:45:00</td><td>980.0</td><td>2.35</td><td>8.0</td><td>24.0</td><td>10.47</td><td>1.29</td><td>0.0</td><td>0.0</td><td>11.76</td><td>&quot;Mobile&quot;</td><td>&quot;Tac - American United Dispatch&quot;</td><td>41.899602</td><td>-87.633308</td><td>41.901207</td><td>-87.676356</td><td>&quot;Unknown&quot;</td><td>&quot;Unknown&quot;</td><td>2024-12-20</td><td>19:30:00</td><td>12</td><td>19</td><td>30</td><td>&quot;Fri&quot;</td><td>2024-12-20</td><td>19:45:00</td><td>12</td><td>19</td><td>45</td><td>&quot;Fri&quot;</td><td>&quot;Unknown&quot;</td><td>0</td><td>&quot;Unknown&quot;</td><td>0</td><td>&quot;Tac - American United Dispatch&quot;</td><td>6</td></tr><tr><td>&quot;5c0b9d9d95e401aa64da33eb3ffebb…</td><td>&quot;545ac2dfd5b722e0f0d884cc68ec27…</td><td>2024-12-20 19:30:00</td><td>2024-12-20 19:45:00</td><td>980.0</td><td>2.35</td><td>8.0</td><td>24.0</td><td>10.47</td><td>1.29</td><td>0.0</td><td>0.0</td><td>11.76</td><td>&quot;Mobile&quot;</td><td>&quot;Tac - American United Dispatch&quot;</td><td>41.899602</td><td>-87.633308</td><td>41.901207</td><td>-87.676356</td><td>&quot;Unknown&quot;</td><td>&quot;Unknown&quot;</td><td>2024-12-20</td><td>19:30:00</td><td>12</td><td>19</td><td>30</td><td>&quot;Fri&quot;</td><td>2024-12-20</td><td>19:45:00</td><td>12</td><td>19</td><td>45</td><td>&quot;Fri&quot;</td><td>&quot;Unknown&quot;</td><td>0</td><td>&quot;Unknown&quot;</td><td>0</td><td>&quot;Taxi Affiliation Services&quot;</td><td>6</td></tr><tr><td>&quot;6952ad9bc387cdc714604ec7af4053…</td><td>&quot;d4578429775c32e03fb5139e1d132b…</td><td>2024-12-30 16:15:00</td><td>2024-12-30 16:30:00</td><td>742.0</td><td>1.04</td><td>32.0</td><td>8.0</td><td>8.0</td><td>1.0</td><td>0.0</td><td>2.0</td><td>11.5</td><td>&quot;Credit Card&quot;</td><td>&quot;Taxicab Insurance Agency Llc&quot;</td><td>41.884987</td><td>-87.620993</td><td>41.899156</td><td>-87.626211</td><td>&quot;17031320100&quot;</td><td>&quot;17031081201&quot;</td><td>2024-12-30</td><td>16:15:00</td><td>12</td><td>16</td><td>15</td><td>&quot;Mon&quot;</td><td>2024-12-30</td><td>16:30:00</td><td>12</td><td>16</td><td>30</td><td>&quot;Mon&quot;</td><td>&quot;17031320100&quot;</td><td>0</td><td>&quot;17031081201&quot;</td><td>0</td><td>&quot;Taxicab Insurance Agency Llc&quot;</td><td>5</td></tr><tr><td>&quot;12535c80e6bed94672cc8f43d2b9be…</td><td>&quot;083b7260314e48be5e10a9191da36f…</td><td>2024-12-20 09:00:00</td><td>2024-12-20 09:00:00</td><td>180.0</td><td>0.5</td><td>28.0</td><td>32.0</td><td>4.75</td><td>0.0</td><td>0.0</td><td>0.0</td><td>4.75</td><td>&quot;Credit Card&quot;</td><td>&quot;Taxi Affiliation Services&quot;</td><td>41.879255</td><td>-87.642649</td><td>41.880994</td><td>-87.632746</td><td>&quot;17031281900&quot;</td><td>&quot;17031839100&quot;</td><td>2024-12-20</td><td>09:00:00</td><td>12</td><td>9</td><td>0</td><td>&quot;Fri&quot;</td><td>2024-12-20</td><td>09:00:00</td><td>12</td><td>9</td><td>0</td><td>&quot;Fri&quot;</td><td>&quot;17031281900&quot;</td><td>0</td><td>&quot;17031839100&quot;</td><td>0</td><td>&quot;Tac - Yellow Cab Association&quot;</td><td>5</td></tr><tr><td>&quot;12535c80e6bed94672cc8f43d2b9be…</td><td>&quot;083b7260314e48be5e10a9191da36f…</td><td>2024-12-20 09:00:00</td><td>2024-12-20 09:00:00</td><td>180.0</td><td>0.5</td><td>28.0</td><td>32.0</td><td>4.75</td><td>0.0</td><td>0.0</td><td>0.0</td><td>4.75</td><td>&quot;Credit Card&quot;</td><td>&quot;Taxi Affiliation Services&quot;</td><td>41.879255</td><td>-87.642649</td><td>41.880994</td><td>-87.632746</td><td>&quot;17031281900&quot;</td><td>&quot;17031839100&quot;</td><td>2024-12-20</td><td>09:00:00</td><td>12</td><td>9</td><td>0</td><td>&quot;Fri&quot;</td><td>2024-12-20</td><td>09:00:00</td><td>12</td><td>9</td><td>0</td><td>&quot;Fri&quot;</td><td>&quot;17031281900&quot;</td><td>0</td><td>&quot;17031839100&quot;</td><td>0</td><td>&quot;Taxi Affiliation Services&quot;</td><td>5</td></tr></tbody></table></div>"
      ],
      "text/plain": [
       "shape: (5, 39)\n",
       "┌───────────┬───────────┬───────────┬───────────┬───┬───────────┬───────────┬───────────┬──────────┐\n",
       "│ trip_id   ┆ taxi_id   ┆ trip_star ┆ trip_end_ ┆ … ┆ census_tr ┆ community ┆ company_r ┆ payment_ │\n",
       "│ ---       ┆ ---       ┆ t_timesta ┆ timestamp ┆   ┆ act_dropo ┆ _area_dro ┆ ight      ┆ type_key │\n",
       "│ str       ┆ str       ┆ mp        ┆ ---       ┆   ┆ ff        ┆ poff      ┆ ---       ┆ ---      │\n",
       "│           ┆           ┆ ---       ┆ datetime[ ┆   ┆ ---       ┆ ---       ┆ str       ┆ i64      │\n",
       "│           ┆           ┆ datetime[ ┆ μs]       ┆   ┆ str       ┆ i64       ┆           ┆          │\n",
       "│           ┆           ┆ μs]       ┆           ┆   ┆           ┆           ┆           ┆          │\n",
       "╞═══════════╪═══════════╪═══════════╪═══════════╪═══╪═══════════╪═══════════╪═══════════╪══════════╡\n",
       "│ 5c0b9d9d9 ┆ 545ac2dfd ┆ 2024-12-2 ┆ 2024-12-2 ┆ … ┆ Unknown   ┆ 0         ┆ Tac -     ┆ 6        │\n",
       "│ 5e401aa64 ┆ 5b722e0f0 ┆ 0         ┆ 0         ┆   ┆           ┆           ┆ American  ┆          │\n",
       "│ da33eb3ff ┆ d884cc68e ┆ 19:30:00  ┆ 19:45:00  ┆   ┆           ┆           ┆ United    ┆          │\n",
       "│ ebb…      ┆ c27…      ┆           ┆           ┆   ┆           ┆           ┆ Dispatch  ┆          │\n",
       "│ 5c0b9d9d9 ┆ 545ac2dfd ┆ 2024-12-2 ┆ 2024-12-2 ┆ … ┆ Unknown   ┆ 0         ┆ Taxi Affi ┆ 6        │\n",
       "│ 5e401aa64 ┆ 5b722e0f0 ┆ 0         ┆ 0         ┆   ┆           ┆           ┆ liation   ┆          │\n",
       "│ da33eb3ff ┆ d884cc68e ┆ 19:30:00  ┆ 19:45:00  ┆   ┆           ┆           ┆ Services  ┆          │\n",
       "│ ebb…      ┆ c27…      ┆           ┆           ┆   ┆           ┆           ┆           ┆          │\n",
       "│ 6952ad9bc ┆ d45784297 ┆ 2024-12-3 ┆ 2024-12-3 ┆ … ┆ 170310812 ┆ 0         ┆ Taxicab   ┆ 5        │\n",
       "│ 387cdc714 ┆ 75c32e03f ┆ 0         ┆ 0         ┆   ┆ 01        ┆           ┆ Insurance ┆          │\n",
       "│ 604ec7af4 ┆ b5139e1d1 ┆ 16:15:00  ┆ 16:30:00  ┆   ┆           ┆           ┆ Agency    ┆          │\n",
       "│ 053…      ┆ 32b…      ┆           ┆           ┆   ┆           ┆           ┆ Llc       ┆          │\n",
       "│ 12535c80e ┆ 083b72603 ┆ 2024-12-2 ┆ 2024-12-2 ┆ … ┆ 170318391 ┆ 0         ┆ Tac -     ┆ 5        │\n",
       "│ 6bed94672 ┆ 14e48be5e ┆ 0         ┆ 0         ┆   ┆ 00        ┆           ┆ Yellow    ┆          │\n",
       "│ cc8f43d2b ┆ 10a9191da ┆ 09:00:00  ┆ 09:00:00  ┆   ┆           ┆           ┆ Cab Assoc ┆          │\n",
       "│ 9be…      ┆ 36f…      ┆           ┆           ┆   ┆           ┆           ┆ iation    ┆          │\n",
       "│ 12535c80e ┆ 083b72603 ┆ 2024-12-2 ┆ 2024-12-2 ┆ … ┆ 170318391 ┆ 0         ┆ Taxi Affi ┆ 5        │\n",
       "│ 6bed94672 ┆ 14e48be5e ┆ 0         ┆ 0         ┆   ┆ 00        ┆           ┆ liation   ┆          │\n",
       "│ cc8f43d2b ┆ 10a9191da ┆ 09:00:00  ┆ 09:00:00  ┆   ┆           ┆           ┆ Services  ┆          │\n",
       "│ 9be…      ┆ 36f…      ┆           ┆           ┆   ┆           ┆           ┆           ┆          │\n",
       "└───────────┴───────────┴───────────┴───────────┴───┴───────────┴───────────┴───────────┴──────────┘"
      ]
     },
     "execution_count": 90,
     "metadata": {},
     "output_type": "execute_result"
    }
   ],
   "source": [
    "# Join df with dim_time on trip_start_timestamp and trip_end_timestamp\n",
    "fact_table = df.join(dim_time, left_on='trip_start_timestamp', right_on='fk_trip_timestamp', how='left') \\\n",
    "               .join(dim_time, left_on='trip_end_timestamp', right_on='fk_trip_timestamp', how='left', suffix='_end')\n",
    "\n",
    "# Join with dim_location on pickup and dropoff coordinates\n",
    "fact_table = fact_table.join(dim_location, left_on=['pickup_centroid_latitude', 'pickup_centroid_longitude'], right_on=['fk_latitude', 'fk_longitude'], how='left', suffix='_pickup') \\\n",
    ".join(dim_location, left_on=['dropoff_centroid_latitude', 'dropoff_centroid_longitude'], right_on=['fk_latitude', 'fk_longitude'], how='left', suffix='_dropoff')\n",
    "\n",
    "# Join with dim_taxi on taxi_id\n",
    "fact_table = fact_table.join(dim_taxi, left_on='taxi_id', right_on='fk_taxi_id', how='left')\n",
    "\n",
    "# Join with dim_payment_type on payment_type\n",
    "fact_table = fact_table.join(dim_payment_type, left_on='payment_type', right_on='payment_type', how='left')\n",
    "fact_table.head()"
   ]
  },
  {
   "cell_type": "markdown",
   "metadata": {},
   "source": [
    "#### Drop unneeded cols from the fact table  "
   ]
  },
  {
   "cell_type": "code",
   "execution_count": 91,
   "metadata": {},
   "outputs": [
    {
     "data": {
      "text/html": [
       "<div><style>\n",
       ".dataframe > thead > tr,\n",
       ".dataframe > tbody > tr {\n",
       "  text-align: right;\n",
       "  white-space: pre-wrap;\n",
       "}\n",
       "</style>\n",
       "<small>shape: (5, 37)</small><table border=\"1\" class=\"dataframe\"><thead><tr><th>trip_id</th><th>taxi_id</th><th>trip_start_timestamp</th><th>trip_end_timestamp</th><th>trip_seconds</th><th>trip_miles</th><th>fare</th><th>tips</th><th>tolls</th><th>extras</th><th>trip_total</th><th>payment_type</th><th>company</th><th>pickup_centroid_latitude</th><th>pickup_centroid_longitude</th><th>dropoff_centroid_latitude</th><th>dropoff_centroid_longitude</th><th>pickup_census_tract</th><th>dropoff_census_tract</th><th>date</th><th>time</th><th>month</th><th>hour</th><th>minute</th><th>day_of_week</th><th>date_end</th><th>time_end</th><th>month_end</th><th>hour_end</th><th>minute_end</th><th>day_of_week_end</th><th>census_tract</th><th>community_area</th><th>census_tract_dropoff</th><th>community_area_dropoff</th><th>company_right</th><th>payment_type_key</th></tr><tr><td>str</td><td>str</td><td>datetime[μs]</td><td>datetime[μs]</td><td>f64</td><td>f64</td><td>f64</td><td>f64</td><td>f64</td><td>f64</td><td>f64</td><td>str</td><td>str</td><td>f64</td><td>f64</td><td>f64</td><td>f64</td><td>str</td><td>str</td><td>date</td><td>time</td><td>i8</td><td>i8</td><td>i8</td><td>str</td><td>date</td><td>time</td><td>i8</td><td>i8</td><td>i8</td><td>str</td><td>str</td><td>i64</td><td>str</td><td>i64</td><td>str</td><td>i64</td></tr></thead><tbody><tr><td>&quot;5c0b9d9d95e401aa64da33eb3ffebb…</td><td>&quot;545ac2dfd5b722e0f0d884cc68ec27…</td><td>2024-12-20 19:30:00</td><td>2024-12-20 19:45:00</td><td>980.0</td><td>2.35</td><td>10.47</td><td>1.29</td><td>0.0</td><td>0.0</td><td>11.76</td><td>&quot;Mobile&quot;</td><td>&quot;Tac - American United Dispatch&quot;</td><td>41.899602</td><td>-87.633308</td><td>41.901207</td><td>-87.676356</td><td>&quot;Unknown&quot;</td><td>&quot;Unknown&quot;</td><td>2024-12-20</td><td>19:30:00</td><td>12</td><td>19</td><td>30</td><td>&quot;Fri&quot;</td><td>2024-12-20</td><td>19:45:00</td><td>12</td><td>19</td><td>45</td><td>&quot;Fri&quot;</td><td>&quot;Unknown&quot;</td><td>0</td><td>&quot;Unknown&quot;</td><td>0</td><td>&quot;Tac - American United Dispatch&quot;</td><td>6</td></tr><tr><td>&quot;5c0b9d9d95e401aa64da33eb3ffebb…</td><td>&quot;545ac2dfd5b722e0f0d884cc68ec27…</td><td>2024-12-20 19:30:00</td><td>2024-12-20 19:45:00</td><td>980.0</td><td>2.35</td><td>10.47</td><td>1.29</td><td>0.0</td><td>0.0</td><td>11.76</td><td>&quot;Mobile&quot;</td><td>&quot;Tac - American United Dispatch&quot;</td><td>41.899602</td><td>-87.633308</td><td>41.901207</td><td>-87.676356</td><td>&quot;Unknown&quot;</td><td>&quot;Unknown&quot;</td><td>2024-12-20</td><td>19:30:00</td><td>12</td><td>19</td><td>30</td><td>&quot;Fri&quot;</td><td>2024-12-20</td><td>19:45:00</td><td>12</td><td>19</td><td>45</td><td>&quot;Fri&quot;</td><td>&quot;Unknown&quot;</td><td>0</td><td>&quot;Unknown&quot;</td><td>0</td><td>&quot;Taxi Affiliation Services&quot;</td><td>6</td></tr><tr><td>&quot;6952ad9bc387cdc714604ec7af4053…</td><td>&quot;d4578429775c32e03fb5139e1d132b…</td><td>2024-12-30 16:15:00</td><td>2024-12-30 16:30:00</td><td>742.0</td><td>1.04</td><td>8.0</td><td>1.0</td><td>0.0</td><td>2.0</td><td>11.5</td><td>&quot;Credit Card&quot;</td><td>&quot;Taxicab Insurance Agency Llc&quot;</td><td>41.884987</td><td>-87.620993</td><td>41.899156</td><td>-87.626211</td><td>&quot;17031320100&quot;</td><td>&quot;17031081201&quot;</td><td>2024-12-30</td><td>16:15:00</td><td>12</td><td>16</td><td>15</td><td>&quot;Mon&quot;</td><td>2024-12-30</td><td>16:30:00</td><td>12</td><td>16</td><td>30</td><td>&quot;Mon&quot;</td><td>&quot;17031320100&quot;</td><td>0</td><td>&quot;17031081201&quot;</td><td>0</td><td>&quot;Taxicab Insurance Agency Llc&quot;</td><td>5</td></tr><tr><td>&quot;12535c80e6bed94672cc8f43d2b9be…</td><td>&quot;083b7260314e48be5e10a9191da36f…</td><td>2024-12-20 09:00:00</td><td>2024-12-20 09:00:00</td><td>180.0</td><td>0.5</td><td>4.75</td><td>0.0</td><td>0.0</td><td>0.0</td><td>4.75</td><td>&quot;Credit Card&quot;</td><td>&quot;Taxi Affiliation Services&quot;</td><td>41.879255</td><td>-87.642649</td><td>41.880994</td><td>-87.632746</td><td>&quot;17031281900&quot;</td><td>&quot;17031839100&quot;</td><td>2024-12-20</td><td>09:00:00</td><td>12</td><td>9</td><td>0</td><td>&quot;Fri&quot;</td><td>2024-12-20</td><td>09:00:00</td><td>12</td><td>9</td><td>0</td><td>&quot;Fri&quot;</td><td>&quot;17031281900&quot;</td><td>0</td><td>&quot;17031839100&quot;</td><td>0</td><td>&quot;Tac - Yellow Cab Association&quot;</td><td>5</td></tr><tr><td>&quot;12535c80e6bed94672cc8f43d2b9be…</td><td>&quot;083b7260314e48be5e10a9191da36f…</td><td>2024-12-20 09:00:00</td><td>2024-12-20 09:00:00</td><td>180.0</td><td>0.5</td><td>4.75</td><td>0.0</td><td>0.0</td><td>0.0</td><td>4.75</td><td>&quot;Credit Card&quot;</td><td>&quot;Taxi Affiliation Services&quot;</td><td>41.879255</td><td>-87.642649</td><td>41.880994</td><td>-87.632746</td><td>&quot;17031281900&quot;</td><td>&quot;17031839100&quot;</td><td>2024-12-20</td><td>09:00:00</td><td>12</td><td>9</td><td>0</td><td>&quot;Fri&quot;</td><td>2024-12-20</td><td>09:00:00</td><td>12</td><td>9</td><td>0</td><td>&quot;Fri&quot;</td><td>&quot;17031281900&quot;</td><td>0</td><td>&quot;17031839100&quot;</td><td>0</td><td>&quot;Taxi Affiliation Services&quot;</td><td>5</td></tr></tbody></table></div>"
      ],
      "text/plain": [
       "shape: (5, 37)\n",
       "┌───────────┬───────────┬───────────┬───────────┬───┬───────────┬───────────┬───────────┬──────────┐\n",
       "│ trip_id   ┆ taxi_id   ┆ trip_star ┆ trip_end_ ┆ … ┆ census_tr ┆ community ┆ company_r ┆ payment_ │\n",
       "│ ---       ┆ ---       ┆ t_timesta ┆ timestamp ┆   ┆ act_dropo ┆ _area_dro ┆ ight      ┆ type_key │\n",
       "│ str       ┆ str       ┆ mp        ┆ ---       ┆   ┆ ff        ┆ poff      ┆ ---       ┆ ---      │\n",
       "│           ┆           ┆ ---       ┆ datetime[ ┆   ┆ ---       ┆ ---       ┆ str       ┆ i64      │\n",
       "│           ┆           ┆ datetime[ ┆ μs]       ┆   ┆ str       ┆ i64       ┆           ┆          │\n",
       "│           ┆           ┆ μs]       ┆           ┆   ┆           ┆           ┆           ┆          │\n",
       "╞═══════════╪═══════════╪═══════════╪═══════════╪═══╪═══════════╪═══════════╪═══════════╪══════════╡\n",
       "│ 5c0b9d9d9 ┆ 545ac2dfd ┆ 2024-12-2 ┆ 2024-12-2 ┆ … ┆ Unknown   ┆ 0         ┆ Tac -     ┆ 6        │\n",
       "│ 5e401aa64 ┆ 5b722e0f0 ┆ 0         ┆ 0         ┆   ┆           ┆           ┆ American  ┆          │\n",
       "│ da33eb3ff ┆ d884cc68e ┆ 19:30:00  ┆ 19:45:00  ┆   ┆           ┆           ┆ United    ┆          │\n",
       "│ ebb…      ┆ c27…      ┆           ┆           ┆   ┆           ┆           ┆ Dispatch  ┆          │\n",
       "│ 5c0b9d9d9 ┆ 545ac2dfd ┆ 2024-12-2 ┆ 2024-12-2 ┆ … ┆ Unknown   ┆ 0         ┆ Taxi Affi ┆ 6        │\n",
       "│ 5e401aa64 ┆ 5b722e0f0 ┆ 0         ┆ 0         ┆   ┆           ┆           ┆ liation   ┆          │\n",
       "│ da33eb3ff ┆ d884cc68e ┆ 19:30:00  ┆ 19:45:00  ┆   ┆           ┆           ┆ Services  ┆          │\n",
       "│ ebb…      ┆ c27…      ┆           ┆           ┆   ┆           ┆           ┆           ┆          │\n",
       "│ 6952ad9bc ┆ d45784297 ┆ 2024-12-3 ┆ 2024-12-3 ┆ … ┆ 170310812 ┆ 0         ┆ Taxicab   ┆ 5        │\n",
       "│ 387cdc714 ┆ 75c32e03f ┆ 0         ┆ 0         ┆   ┆ 01        ┆           ┆ Insurance ┆          │\n",
       "│ 604ec7af4 ┆ b5139e1d1 ┆ 16:15:00  ┆ 16:30:00  ┆   ┆           ┆           ┆ Agency    ┆          │\n",
       "│ 053…      ┆ 32b…      ┆           ┆           ┆   ┆           ┆           ┆ Llc       ┆          │\n",
       "│ 12535c80e ┆ 083b72603 ┆ 2024-12-2 ┆ 2024-12-2 ┆ … ┆ 170318391 ┆ 0         ┆ Tac -     ┆ 5        │\n",
       "│ 6bed94672 ┆ 14e48be5e ┆ 0         ┆ 0         ┆   ┆ 00        ┆           ┆ Yellow    ┆          │\n",
       "│ cc8f43d2b ┆ 10a9191da ┆ 09:00:00  ┆ 09:00:00  ┆   ┆           ┆           ┆ Cab Assoc ┆          │\n",
       "│ 9be…      ┆ 36f…      ┆           ┆           ┆   ┆           ┆           ┆ iation    ┆          │\n",
       "│ 12535c80e ┆ 083b72603 ┆ 2024-12-2 ┆ 2024-12-2 ┆ … ┆ 170318391 ┆ 0         ┆ Taxi Affi ┆ 5        │\n",
       "│ 6bed94672 ┆ 14e48be5e ┆ 0         ┆ 0         ┆   ┆ 00        ┆           ┆ liation   ┆          │\n",
       "│ cc8f43d2b ┆ 10a9191da ┆ 09:00:00  ┆ 09:00:00  ┆   ┆           ┆           ┆ Services  ┆          │\n",
       "│ 9be…      ┆ 36f…      ┆           ┆           ┆   ┆           ┆           ┆           ┆          │\n",
       "└───────────┴───────────┴───────────┴───────────┴───┴───────────┴───────────┴───────────┴──────────┘"
      ]
     },
     "execution_count": 91,
     "metadata": {},
     "output_type": "execute_result"
    }
   ],
   "source": [
    "fact_table = fact_table.drop(['pickup_community_area', 'dropoff_community_area'])\n",
    "\n",
    "# Display the updated fact table to verify the changes\n",
    "fact_table.head()"
   ]
  },
  {
   "cell_type": "code",
   "execution_count": 92,
   "metadata": {},
   "outputs": [
    {
     "data": {
      "text/html": [
       "<div><style>\n",
       ".dataframe > thead > tr,\n",
       ".dataframe > tbody > tr {\n",
       "  text-align: right;\n",
       "  white-space: pre-wrap;\n",
       "}\n",
       "</style>\n",
       "<small>shape: (5, 36)</small><table border=\"1\" class=\"dataframe\"><thead><tr><th>trip_id</th><th>taxi_id</th><th>trip_start_timestamp</th><th>trip_end_timestamp</th><th>trip_seconds</th><th>trip_miles</th><th>fare</th><th>tips</th><th>tolls</th><th>extras</th><th>trip_total</th><th>company</th><th>pickup_centroid_latitude</th><th>pickup_centroid_longitude</th><th>dropoff_centroid_latitude</th><th>dropoff_centroid_longitude</th><th>pickup_census_tract</th><th>dropoff_census_tract</th><th>date</th><th>time</th><th>month</th><th>hour</th><th>minute</th><th>day_of_week</th><th>date_end</th><th>time_end</th><th>month_end</th><th>hour_end</th><th>minute_end</th><th>day_of_week_end</th><th>census_tract</th><th>community_area</th><th>census_tract_dropoff</th><th>community_area_dropoff</th><th>company_right</th><th>payment_type_key</th></tr><tr><td>str</td><td>str</td><td>datetime[μs]</td><td>datetime[μs]</td><td>f64</td><td>f64</td><td>f64</td><td>f64</td><td>f64</td><td>f64</td><td>f64</td><td>str</td><td>f64</td><td>f64</td><td>f64</td><td>f64</td><td>str</td><td>str</td><td>date</td><td>time</td><td>i8</td><td>i8</td><td>i8</td><td>str</td><td>date</td><td>time</td><td>i8</td><td>i8</td><td>i8</td><td>str</td><td>str</td><td>i64</td><td>str</td><td>i64</td><td>str</td><td>i64</td></tr></thead><tbody><tr><td>&quot;5c0b9d9d95e401aa64da33eb3ffebb…</td><td>&quot;545ac2dfd5b722e0f0d884cc68ec27…</td><td>2024-12-20 19:30:00</td><td>2024-12-20 19:45:00</td><td>980.0</td><td>2.35</td><td>10.47</td><td>1.29</td><td>0.0</td><td>0.0</td><td>11.76</td><td>&quot;Tac - American United Dispatch&quot;</td><td>41.899602</td><td>-87.633308</td><td>41.901207</td><td>-87.676356</td><td>&quot;Unknown&quot;</td><td>&quot;Unknown&quot;</td><td>2024-12-20</td><td>19:30:00</td><td>12</td><td>19</td><td>30</td><td>&quot;Fri&quot;</td><td>2024-12-20</td><td>19:45:00</td><td>12</td><td>19</td><td>45</td><td>&quot;Fri&quot;</td><td>&quot;Unknown&quot;</td><td>0</td><td>&quot;Unknown&quot;</td><td>0</td><td>&quot;Tac - American United Dispatch&quot;</td><td>6</td></tr><tr><td>&quot;5c0b9d9d95e401aa64da33eb3ffebb…</td><td>&quot;545ac2dfd5b722e0f0d884cc68ec27…</td><td>2024-12-20 19:30:00</td><td>2024-12-20 19:45:00</td><td>980.0</td><td>2.35</td><td>10.47</td><td>1.29</td><td>0.0</td><td>0.0</td><td>11.76</td><td>&quot;Tac - American United Dispatch&quot;</td><td>41.899602</td><td>-87.633308</td><td>41.901207</td><td>-87.676356</td><td>&quot;Unknown&quot;</td><td>&quot;Unknown&quot;</td><td>2024-12-20</td><td>19:30:00</td><td>12</td><td>19</td><td>30</td><td>&quot;Fri&quot;</td><td>2024-12-20</td><td>19:45:00</td><td>12</td><td>19</td><td>45</td><td>&quot;Fri&quot;</td><td>&quot;Unknown&quot;</td><td>0</td><td>&quot;Unknown&quot;</td><td>0</td><td>&quot;Taxi Affiliation Services&quot;</td><td>6</td></tr><tr><td>&quot;6952ad9bc387cdc714604ec7af4053…</td><td>&quot;d4578429775c32e03fb5139e1d132b…</td><td>2024-12-30 16:15:00</td><td>2024-12-30 16:30:00</td><td>742.0</td><td>1.04</td><td>8.0</td><td>1.0</td><td>0.0</td><td>2.0</td><td>11.5</td><td>&quot;Taxicab Insurance Agency Llc&quot;</td><td>41.884987</td><td>-87.620993</td><td>41.899156</td><td>-87.626211</td><td>&quot;17031320100&quot;</td><td>&quot;17031081201&quot;</td><td>2024-12-30</td><td>16:15:00</td><td>12</td><td>16</td><td>15</td><td>&quot;Mon&quot;</td><td>2024-12-30</td><td>16:30:00</td><td>12</td><td>16</td><td>30</td><td>&quot;Mon&quot;</td><td>&quot;17031320100&quot;</td><td>0</td><td>&quot;17031081201&quot;</td><td>0</td><td>&quot;Taxicab Insurance Agency Llc&quot;</td><td>5</td></tr><tr><td>&quot;12535c80e6bed94672cc8f43d2b9be…</td><td>&quot;083b7260314e48be5e10a9191da36f…</td><td>2024-12-20 09:00:00</td><td>2024-12-20 09:00:00</td><td>180.0</td><td>0.5</td><td>4.75</td><td>0.0</td><td>0.0</td><td>0.0</td><td>4.75</td><td>&quot;Taxi Affiliation Services&quot;</td><td>41.879255</td><td>-87.642649</td><td>41.880994</td><td>-87.632746</td><td>&quot;17031281900&quot;</td><td>&quot;17031839100&quot;</td><td>2024-12-20</td><td>09:00:00</td><td>12</td><td>9</td><td>0</td><td>&quot;Fri&quot;</td><td>2024-12-20</td><td>09:00:00</td><td>12</td><td>9</td><td>0</td><td>&quot;Fri&quot;</td><td>&quot;17031281900&quot;</td><td>0</td><td>&quot;17031839100&quot;</td><td>0</td><td>&quot;Tac - Yellow Cab Association&quot;</td><td>5</td></tr><tr><td>&quot;12535c80e6bed94672cc8f43d2b9be…</td><td>&quot;083b7260314e48be5e10a9191da36f…</td><td>2024-12-20 09:00:00</td><td>2024-12-20 09:00:00</td><td>180.0</td><td>0.5</td><td>4.75</td><td>0.0</td><td>0.0</td><td>0.0</td><td>4.75</td><td>&quot;Taxi Affiliation Services&quot;</td><td>41.879255</td><td>-87.642649</td><td>41.880994</td><td>-87.632746</td><td>&quot;17031281900&quot;</td><td>&quot;17031839100&quot;</td><td>2024-12-20</td><td>09:00:00</td><td>12</td><td>9</td><td>0</td><td>&quot;Fri&quot;</td><td>2024-12-20</td><td>09:00:00</td><td>12</td><td>9</td><td>0</td><td>&quot;Fri&quot;</td><td>&quot;17031281900&quot;</td><td>0</td><td>&quot;17031839100&quot;</td><td>0</td><td>&quot;Taxi Affiliation Services&quot;</td><td>5</td></tr></tbody></table></div>"
      ],
      "text/plain": [
       "shape: (5, 36)\n",
       "┌───────────┬───────────┬───────────┬───────────┬───┬───────────┬───────────┬───────────┬──────────┐\n",
       "│ trip_id   ┆ taxi_id   ┆ trip_star ┆ trip_end_ ┆ … ┆ census_tr ┆ community ┆ company_r ┆ payment_ │\n",
       "│ ---       ┆ ---       ┆ t_timesta ┆ timestamp ┆   ┆ act_dropo ┆ _area_dro ┆ ight      ┆ type_key │\n",
       "│ str       ┆ str       ┆ mp        ┆ ---       ┆   ┆ ff        ┆ poff      ┆ ---       ┆ ---      │\n",
       "│           ┆           ┆ ---       ┆ datetime[ ┆   ┆ ---       ┆ ---       ┆ str       ┆ i64      │\n",
       "│           ┆           ┆ datetime[ ┆ μs]       ┆   ┆ str       ┆ i64       ┆           ┆          │\n",
       "│           ┆           ┆ μs]       ┆           ┆   ┆           ┆           ┆           ┆          │\n",
       "╞═══════════╪═══════════╪═══════════╪═══════════╪═══╪═══════════╪═══════════╪═══════════╪══════════╡\n",
       "│ 5c0b9d9d9 ┆ 545ac2dfd ┆ 2024-12-2 ┆ 2024-12-2 ┆ … ┆ Unknown   ┆ 0         ┆ Tac -     ┆ 6        │\n",
       "│ 5e401aa64 ┆ 5b722e0f0 ┆ 0         ┆ 0         ┆   ┆           ┆           ┆ American  ┆          │\n",
       "│ da33eb3ff ┆ d884cc68e ┆ 19:30:00  ┆ 19:45:00  ┆   ┆           ┆           ┆ United    ┆          │\n",
       "│ ebb…      ┆ c27…      ┆           ┆           ┆   ┆           ┆           ┆ Dispatch  ┆          │\n",
       "│ 5c0b9d9d9 ┆ 545ac2dfd ┆ 2024-12-2 ┆ 2024-12-2 ┆ … ┆ Unknown   ┆ 0         ┆ Taxi Affi ┆ 6        │\n",
       "│ 5e401aa64 ┆ 5b722e0f0 ┆ 0         ┆ 0         ┆   ┆           ┆           ┆ liation   ┆          │\n",
       "│ da33eb3ff ┆ d884cc68e ┆ 19:30:00  ┆ 19:45:00  ┆   ┆           ┆           ┆ Services  ┆          │\n",
       "│ ebb…      ┆ c27…      ┆           ┆           ┆   ┆           ┆           ┆           ┆          │\n",
       "│ 6952ad9bc ┆ d45784297 ┆ 2024-12-3 ┆ 2024-12-3 ┆ … ┆ 170310812 ┆ 0         ┆ Taxicab   ┆ 5        │\n",
       "│ 387cdc714 ┆ 75c32e03f ┆ 0         ┆ 0         ┆   ┆ 01        ┆           ┆ Insurance ┆          │\n",
       "│ 604ec7af4 ┆ b5139e1d1 ┆ 16:15:00  ┆ 16:30:00  ┆   ┆           ┆           ┆ Agency    ┆          │\n",
       "│ 053…      ┆ 32b…      ┆           ┆           ┆   ┆           ┆           ┆ Llc       ┆          │\n",
       "│ 12535c80e ┆ 083b72603 ┆ 2024-12-2 ┆ 2024-12-2 ┆ … ┆ 170318391 ┆ 0         ┆ Tac -     ┆ 5        │\n",
       "│ 6bed94672 ┆ 14e48be5e ┆ 0         ┆ 0         ┆   ┆ 00        ┆           ┆ Yellow    ┆          │\n",
       "│ cc8f43d2b ┆ 10a9191da ┆ 09:00:00  ┆ 09:00:00  ┆   ┆           ┆           ┆ Cab Assoc ┆          │\n",
       "│ 9be…      ┆ 36f…      ┆           ┆           ┆   ┆           ┆           ┆ iation    ┆          │\n",
       "│ 12535c80e ┆ 083b72603 ┆ 2024-12-2 ┆ 2024-12-2 ┆ … ┆ 170318391 ┆ 0         ┆ Taxi Affi ┆ 5        │\n",
       "│ 6bed94672 ┆ 14e48be5e ┆ 0         ┆ 0         ┆   ┆ 00        ┆           ┆ liation   ┆          │\n",
       "│ cc8f43d2b ┆ 10a9191da ┆ 09:00:00  ┆ 09:00:00  ┆   ┆           ┆           ┆ Services  ┆          │\n",
       "│ 9be…      ┆ 36f…      ┆           ┆           ┆   ┆           ┆           ┆           ┆          │\n",
       "└───────────┴───────────┴───────────┴───────────┴───┴───────────┴───────────┴───────────┴──────────┘"
      ]
     },
     "execution_count": 92,
     "metadata": {},
     "output_type": "execute_result"
    }
   ],
   "source": [
    "fact_table = fact_table.drop('payment_type')\n",
    "\n",
    "# Display the updated fact table to verify the changes\n",
    "fact_table.head()"
   ]
  },
  {
   "cell_type": "code",
   "execution_count": 93,
   "metadata": {},
   "outputs": [
    {
     "data": {
      "text/html": [
       "<div><style>\n",
       ".dataframe > thead > tr,\n",
       ".dataframe > tbody > tr {\n",
       "  text-align: right;\n",
       "  white-space: pre-wrap;\n",
       "}\n",
       "</style>\n",
       "<small>shape: (5, 35)</small><table border=\"1\" class=\"dataframe\"><thead><tr><th>trip_id</th><th>taxi_id</th><th>trip_start_timestamp</th><th>trip_end_timestamp</th><th>trip_seconds</th><th>trip_miles</th><th>fare</th><th>tips</th><th>tolls</th><th>extras</th><th>trip_total</th><th>pickup_centroid_latitude</th><th>pickup_centroid_longitude</th><th>dropoff_centroid_latitude</th><th>dropoff_centroid_longitude</th><th>pickup_census_tract</th><th>dropoff_census_tract</th><th>date</th><th>time</th><th>month</th><th>hour</th><th>minute</th><th>day_of_week</th><th>date_end</th><th>time_end</th><th>month_end</th><th>hour_end</th><th>minute_end</th><th>day_of_week_end</th><th>census_tract</th><th>community_area</th><th>census_tract_dropoff</th><th>community_area_dropoff</th><th>company_right</th><th>payment_type_key</th></tr><tr><td>str</td><td>str</td><td>datetime[μs]</td><td>datetime[μs]</td><td>f64</td><td>f64</td><td>f64</td><td>f64</td><td>f64</td><td>f64</td><td>f64</td><td>f64</td><td>f64</td><td>f64</td><td>f64</td><td>str</td><td>str</td><td>date</td><td>time</td><td>i8</td><td>i8</td><td>i8</td><td>str</td><td>date</td><td>time</td><td>i8</td><td>i8</td><td>i8</td><td>str</td><td>str</td><td>i64</td><td>str</td><td>i64</td><td>str</td><td>i64</td></tr></thead><tbody><tr><td>&quot;5c0b9d9d95e401aa64da33eb3ffebb…</td><td>&quot;545ac2dfd5b722e0f0d884cc68ec27…</td><td>2024-12-20 19:30:00</td><td>2024-12-20 19:45:00</td><td>980.0</td><td>2.35</td><td>10.47</td><td>1.29</td><td>0.0</td><td>0.0</td><td>11.76</td><td>41.899602</td><td>-87.633308</td><td>41.901207</td><td>-87.676356</td><td>&quot;Unknown&quot;</td><td>&quot;Unknown&quot;</td><td>2024-12-20</td><td>19:30:00</td><td>12</td><td>19</td><td>30</td><td>&quot;Fri&quot;</td><td>2024-12-20</td><td>19:45:00</td><td>12</td><td>19</td><td>45</td><td>&quot;Fri&quot;</td><td>&quot;Unknown&quot;</td><td>0</td><td>&quot;Unknown&quot;</td><td>0</td><td>&quot;Tac - American United Dispatch&quot;</td><td>6</td></tr><tr><td>&quot;5c0b9d9d95e401aa64da33eb3ffebb…</td><td>&quot;545ac2dfd5b722e0f0d884cc68ec27…</td><td>2024-12-20 19:30:00</td><td>2024-12-20 19:45:00</td><td>980.0</td><td>2.35</td><td>10.47</td><td>1.29</td><td>0.0</td><td>0.0</td><td>11.76</td><td>41.899602</td><td>-87.633308</td><td>41.901207</td><td>-87.676356</td><td>&quot;Unknown&quot;</td><td>&quot;Unknown&quot;</td><td>2024-12-20</td><td>19:30:00</td><td>12</td><td>19</td><td>30</td><td>&quot;Fri&quot;</td><td>2024-12-20</td><td>19:45:00</td><td>12</td><td>19</td><td>45</td><td>&quot;Fri&quot;</td><td>&quot;Unknown&quot;</td><td>0</td><td>&quot;Unknown&quot;</td><td>0</td><td>&quot;Taxi Affiliation Services&quot;</td><td>6</td></tr><tr><td>&quot;6952ad9bc387cdc714604ec7af4053…</td><td>&quot;d4578429775c32e03fb5139e1d132b…</td><td>2024-12-30 16:15:00</td><td>2024-12-30 16:30:00</td><td>742.0</td><td>1.04</td><td>8.0</td><td>1.0</td><td>0.0</td><td>2.0</td><td>11.5</td><td>41.884987</td><td>-87.620993</td><td>41.899156</td><td>-87.626211</td><td>&quot;17031320100&quot;</td><td>&quot;17031081201&quot;</td><td>2024-12-30</td><td>16:15:00</td><td>12</td><td>16</td><td>15</td><td>&quot;Mon&quot;</td><td>2024-12-30</td><td>16:30:00</td><td>12</td><td>16</td><td>30</td><td>&quot;Mon&quot;</td><td>&quot;17031320100&quot;</td><td>0</td><td>&quot;17031081201&quot;</td><td>0</td><td>&quot;Taxicab Insurance Agency Llc&quot;</td><td>5</td></tr><tr><td>&quot;12535c80e6bed94672cc8f43d2b9be…</td><td>&quot;083b7260314e48be5e10a9191da36f…</td><td>2024-12-20 09:00:00</td><td>2024-12-20 09:00:00</td><td>180.0</td><td>0.5</td><td>4.75</td><td>0.0</td><td>0.0</td><td>0.0</td><td>4.75</td><td>41.879255</td><td>-87.642649</td><td>41.880994</td><td>-87.632746</td><td>&quot;17031281900&quot;</td><td>&quot;17031839100&quot;</td><td>2024-12-20</td><td>09:00:00</td><td>12</td><td>9</td><td>0</td><td>&quot;Fri&quot;</td><td>2024-12-20</td><td>09:00:00</td><td>12</td><td>9</td><td>0</td><td>&quot;Fri&quot;</td><td>&quot;17031281900&quot;</td><td>0</td><td>&quot;17031839100&quot;</td><td>0</td><td>&quot;Tac - Yellow Cab Association&quot;</td><td>5</td></tr><tr><td>&quot;12535c80e6bed94672cc8f43d2b9be…</td><td>&quot;083b7260314e48be5e10a9191da36f…</td><td>2024-12-20 09:00:00</td><td>2024-12-20 09:00:00</td><td>180.0</td><td>0.5</td><td>4.75</td><td>0.0</td><td>0.0</td><td>0.0</td><td>4.75</td><td>41.879255</td><td>-87.642649</td><td>41.880994</td><td>-87.632746</td><td>&quot;17031281900&quot;</td><td>&quot;17031839100&quot;</td><td>2024-12-20</td><td>09:00:00</td><td>12</td><td>9</td><td>0</td><td>&quot;Fri&quot;</td><td>2024-12-20</td><td>09:00:00</td><td>12</td><td>9</td><td>0</td><td>&quot;Fri&quot;</td><td>&quot;17031281900&quot;</td><td>0</td><td>&quot;17031839100&quot;</td><td>0</td><td>&quot;Taxi Affiliation Services&quot;</td><td>5</td></tr></tbody></table></div>"
      ],
      "text/plain": [
       "shape: (5, 35)\n",
       "┌───────────┬───────────┬───────────┬───────────┬───┬───────────┬───────────┬───────────┬──────────┐\n",
       "│ trip_id   ┆ taxi_id   ┆ trip_star ┆ trip_end_ ┆ … ┆ census_tr ┆ community ┆ company_r ┆ payment_ │\n",
       "│ ---       ┆ ---       ┆ t_timesta ┆ timestamp ┆   ┆ act_dropo ┆ _area_dro ┆ ight      ┆ type_key │\n",
       "│ str       ┆ str       ┆ mp        ┆ ---       ┆   ┆ ff        ┆ poff      ┆ ---       ┆ ---      │\n",
       "│           ┆           ┆ ---       ┆ datetime[ ┆   ┆ ---       ┆ ---       ┆ str       ┆ i64      │\n",
       "│           ┆           ┆ datetime[ ┆ μs]       ┆   ┆ str       ┆ i64       ┆           ┆          │\n",
       "│           ┆           ┆ μs]       ┆           ┆   ┆           ┆           ┆           ┆          │\n",
       "╞═══════════╪═══════════╪═══════════╪═══════════╪═══╪═══════════╪═══════════╪═══════════╪══════════╡\n",
       "│ 5c0b9d9d9 ┆ 545ac2dfd ┆ 2024-12-2 ┆ 2024-12-2 ┆ … ┆ Unknown   ┆ 0         ┆ Tac -     ┆ 6        │\n",
       "│ 5e401aa64 ┆ 5b722e0f0 ┆ 0         ┆ 0         ┆   ┆           ┆           ┆ American  ┆          │\n",
       "│ da33eb3ff ┆ d884cc68e ┆ 19:30:00  ┆ 19:45:00  ┆   ┆           ┆           ┆ United    ┆          │\n",
       "│ ebb…      ┆ c27…      ┆           ┆           ┆   ┆           ┆           ┆ Dispatch  ┆          │\n",
       "│ 5c0b9d9d9 ┆ 545ac2dfd ┆ 2024-12-2 ┆ 2024-12-2 ┆ … ┆ Unknown   ┆ 0         ┆ Taxi Affi ┆ 6        │\n",
       "│ 5e401aa64 ┆ 5b722e0f0 ┆ 0         ┆ 0         ┆   ┆           ┆           ┆ liation   ┆          │\n",
       "│ da33eb3ff ┆ d884cc68e ┆ 19:30:00  ┆ 19:45:00  ┆   ┆           ┆           ┆ Services  ┆          │\n",
       "│ ebb…      ┆ c27…      ┆           ┆           ┆   ┆           ┆           ┆           ┆          │\n",
       "│ 6952ad9bc ┆ d45784297 ┆ 2024-12-3 ┆ 2024-12-3 ┆ … ┆ 170310812 ┆ 0         ┆ Taxicab   ┆ 5        │\n",
       "│ 387cdc714 ┆ 75c32e03f ┆ 0         ┆ 0         ┆   ┆ 01        ┆           ┆ Insurance ┆          │\n",
       "│ 604ec7af4 ┆ b5139e1d1 ┆ 16:15:00  ┆ 16:30:00  ┆   ┆           ┆           ┆ Agency    ┆          │\n",
       "│ 053…      ┆ 32b…      ┆           ┆           ┆   ┆           ┆           ┆ Llc       ┆          │\n",
       "│ 12535c80e ┆ 083b72603 ┆ 2024-12-2 ┆ 2024-12-2 ┆ … ┆ 170318391 ┆ 0         ┆ Tac -     ┆ 5        │\n",
       "│ 6bed94672 ┆ 14e48be5e ┆ 0         ┆ 0         ┆   ┆ 00        ┆           ┆ Yellow    ┆          │\n",
       "│ cc8f43d2b ┆ 10a9191da ┆ 09:00:00  ┆ 09:00:00  ┆   ┆           ┆           ┆ Cab Assoc ┆          │\n",
       "│ 9be…      ┆ 36f…      ┆           ┆           ┆   ┆           ┆           ┆ iation    ┆          │\n",
       "│ 12535c80e ┆ 083b72603 ┆ 2024-12-2 ┆ 2024-12-2 ┆ … ┆ 170318391 ┆ 0         ┆ Taxi Affi ┆ 5        │\n",
       "│ 6bed94672 ┆ 14e48be5e ┆ 0         ┆ 0         ┆   ┆ 00        ┆           ┆ liation   ┆          │\n",
       "│ cc8f43d2b ┆ 10a9191da ┆ 09:00:00  ┆ 09:00:00  ┆   ┆           ┆           ┆ Services  ┆          │\n",
       "│ 9be…      ┆ 36f…      ┆           ┆           ┆   ┆           ┆           ┆           ┆          │\n",
       "└───────────┴───────────┴───────────┴───────────┴───┴───────────┴───────────┴───────────┴──────────┘"
      ]
     },
     "execution_count": 93,
     "metadata": {},
     "output_type": "execute_result"
    }
   ],
   "source": [
    "fact_table = fact_table.drop('company')\n",
    "\n",
    "# Display the updated fact table to verify the changes\n",
    "fact_table.head()"
   ]
  },
  {
   "cell_type": "code",
   "execution_count": 94,
   "metadata": {},
   "outputs": [
    {
     "data": {
      "text/html": [
       "<div><style>\n",
       ".dataframe > thead > tr,\n",
       ".dataframe > tbody > tr {\n",
       "  text-align: right;\n",
       "  white-space: pre-wrap;\n",
       "}\n",
       "</style>\n",
       "<small>shape: (5, 23)</small><table border=\"1\" class=\"dataframe\"><thead><tr><th>trip_id</th><th>taxi_id</th><th>trip_start_timestamp</th><th>trip_end_timestamp</th><th>trip_seconds</th><th>trip_miles</th><th>fare</th><th>tips</th><th>tolls</th><th>extras</th><th>trip_total</th><th>pickup_centroid_latitude</th><th>pickup_centroid_longitude</th><th>dropoff_centroid_latitude</th><th>dropoff_centroid_longitude</th><th>pickup_census_tract</th><th>dropoff_census_tract</th><th>census_tract</th><th>community_area</th><th>census_tract_dropoff</th><th>community_area_dropoff</th><th>company_right</th><th>payment_type_key</th></tr><tr><td>str</td><td>str</td><td>datetime[μs]</td><td>datetime[μs]</td><td>f64</td><td>f64</td><td>f64</td><td>f64</td><td>f64</td><td>f64</td><td>f64</td><td>f64</td><td>f64</td><td>f64</td><td>f64</td><td>str</td><td>str</td><td>str</td><td>i64</td><td>str</td><td>i64</td><td>str</td><td>i64</td></tr></thead><tbody><tr><td>&quot;5c0b9d9d95e401aa64da33eb3ffebb…</td><td>&quot;545ac2dfd5b722e0f0d884cc68ec27…</td><td>2024-12-20 19:30:00</td><td>2024-12-20 19:45:00</td><td>980.0</td><td>2.35</td><td>10.47</td><td>1.29</td><td>0.0</td><td>0.0</td><td>11.76</td><td>41.899602</td><td>-87.633308</td><td>41.901207</td><td>-87.676356</td><td>&quot;Unknown&quot;</td><td>&quot;Unknown&quot;</td><td>&quot;Unknown&quot;</td><td>0</td><td>&quot;Unknown&quot;</td><td>0</td><td>&quot;Tac - American United Dispatch&quot;</td><td>6</td></tr><tr><td>&quot;5c0b9d9d95e401aa64da33eb3ffebb…</td><td>&quot;545ac2dfd5b722e0f0d884cc68ec27…</td><td>2024-12-20 19:30:00</td><td>2024-12-20 19:45:00</td><td>980.0</td><td>2.35</td><td>10.47</td><td>1.29</td><td>0.0</td><td>0.0</td><td>11.76</td><td>41.899602</td><td>-87.633308</td><td>41.901207</td><td>-87.676356</td><td>&quot;Unknown&quot;</td><td>&quot;Unknown&quot;</td><td>&quot;Unknown&quot;</td><td>0</td><td>&quot;Unknown&quot;</td><td>0</td><td>&quot;Taxi Affiliation Services&quot;</td><td>6</td></tr><tr><td>&quot;6952ad9bc387cdc714604ec7af4053…</td><td>&quot;d4578429775c32e03fb5139e1d132b…</td><td>2024-12-30 16:15:00</td><td>2024-12-30 16:30:00</td><td>742.0</td><td>1.04</td><td>8.0</td><td>1.0</td><td>0.0</td><td>2.0</td><td>11.5</td><td>41.884987</td><td>-87.620993</td><td>41.899156</td><td>-87.626211</td><td>&quot;17031320100&quot;</td><td>&quot;17031081201&quot;</td><td>&quot;17031320100&quot;</td><td>0</td><td>&quot;17031081201&quot;</td><td>0</td><td>&quot;Taxicab Insurance Agency Llc&quot;</td><td>5</td></tr><tr><td>&quot;12535c80e6bed94672cc8f43d2b9be…</td><td>&quot;083b7260314e48be5e10a9191da36f…</td><td>2024-12-20 09:00:00</td><td>2024-12-20 09:00:00</td><td>180.0</td><td>0.5</td><td>4.75</td><td>0.0</td><td>0.0</td><td>0.0</td><td>4.75</td><td>41.879255</td><td>-87.642649</td><td>41.880994</td><td>-87.632746</td><td>&quot;17031281900&quot;</td><td>&quot;17031839100&quot;</td><td>&quot;17031281900&quot;</td><td>0</td><td>&quot;17031839100&quot;</td><td>0</td><td>&quot;Tac - Yellow Cab Association&quot;</td><td>5</td></tr><tr><td>&quot;12535c80e6bed94672cc8f43d2b9be…</td><td>&quot;083b7260314e48be5e10a9191da36f…</td><td>2024-12-20 09:00:00</td><td>2024-12-20 09:00:00</td><td>180.0</td><td>0.5</td><td>4.75</td><td>0.0</td><td>0.0</td><td>0.0</td><td>4.75</td><td>41.879255</td><td>-87.642649</td><td>41.880994</td><td>-87.632746</td><td>&quot;17031281900&quot;</td><td>&quot;17031839100&quot;</td><td>&quot;17031281900&quot;</td><td>0</td><td>&quot;17031839100&quot;</td><td>0</td><td>&quot;Taxi Affiliation Services&quot;</td><td>5</td></tr></tbody></table></div>"
      ],
      "text/plain": [
       "shape: (5, 23)\n",
       "┌───────────┬───────────┬───────────┬───────────┬───┬───────────┬───────────┬───────────┬──────────┐\n",
       "│ trip_id   ┆ taxi_id   ┆ trip_star ┆ trip_end_ ┆ … ┆ census_tr ┆ community ┆ company_r ┆ payment_ │\n",
       "│ ---       ┆ ---       ┆ t_timesta ┆ timestamp ┆   ┆ act_dropo ┆ _area_dro ┆ ight      ┆ type_key │\n",
       "│ str       ┆ str       ┆ mp        ┆ ---       ┆   ┆ ff        ┆ poff      ┆ ---       ┆ ---      │\n",
       "│           ┆           ┆ ---       ┆ datetime[ ┆   ┆ ---       ┆ ---       ┆ str       ┆ i64      │\n",
       "│           ┆           ┆ datetime[ ┆ μs]       ┆   ┆ str       ┆ i64       ┆           ┆          │\n",
       "│           ┆           ┆ μs]       ┆           ┆   ┆           ┆           ┆           ┆          │\n",
       "╞═══════════╪═══════════╪═══════════╪═══════════╪═══╪═══════════╪═══════════╪═══════════╪══════════╡\n",
       "│ 5c0b9d9d9 ┆ 545ac2dfd ┆ 2024-12-2 ┆ 2024-12-2 ┆ … ┆ Unknown   ┆ 0         ┆ Tac -     ┆ 6        │\n",
       "│ 5e401aa64 ┆ 5b722e0f0 ┆ 0         ┆ 0         ┆   ┆           ┆           ┆ American  ┆          │\n",
       "│ da33eb3ff ┆ d884cc68e ┆ 19:30:00  ┆ 19:45:00  ┆   ┆           ┆           ┆ United    ┆          │\n",
       "│ ebb…      ┆ c27…      ┆           ┆           ┆   ┆           ┆           ┆ Dispatch  ┆          │\n",
       "│ 5c0b9d9d9 ┆ 545ac2dfd ┆ 2024-12-2 ┆ 2024-12-2 ┆ … ┆ Unknown   ┆ 0         ┆ Taxi Affi ┆ 6        │\n",
       "│ 5e401aa64 ┆ 5b722e0f0 ┆ 0         ┆ 0         ┆   ┆           ┆           ┆ liation   ┆          │\n",
       "│ da33eb3ff ┆ d884cc68e ┆ 19:30:00  ┆ 19:45:00  ┆   ┆           ┆           ┆ Services  ┆          │\n",
       "│ ebb…      ┆ c27…      ┆           ┆           ┆   ┆           ┆           ┆           ┆          │\n",
       "│ 6952ad9bc ┆ d45784297 ┆ 2024-12-3 ┆ 2024-12-3 ┆ … ┆ 170310812 ┆ 0         ┆ Taxicab   ┆ 5        │\n",
       "│ 387cdc714 ┆ 75c32e03f ┆ 0         ┆ 0         ┆   ┆ 01        ┆           ┆ Insurance ┆          │\n",
       "│ 604ec7af4 ┆ b5139e1d1 ┆ 16:15:00  ┆ 16:30:00  ┆   ┆           ┆           ┆ Agency    ┆          │\n",
       "│ 053…      ┆ 32b…      ┆           ┆           ┆   ┆           ┆           ┆ Llc       ┆          │\n",
       "│ 12535c80e ┆ 083b72603 ┆ 2024-12-2 ┆ 2024-12-2 ┆ … ┆ 170318391 ┆ 0         ┆ Tac -     ┆ 5        │\n",
       "│ 6bed94672 ┆ 14e48be5e ┆ 0         ┆ 0         ┆   ┆ 00        ┆           ┆ Yellow    ┆          │\n",
       "│ cc8f43d2b ┆ 10a9191da ┆ 09:00:00  ┆ 09:00:00  ┆   ┆           ┆           ┆ Cab Assoc ┆          │\n",
       "│ 9be…      ┆ 36f…      ┆           ┆           ┆   ┆           ┆           ┆ iation    ┆          │\n",
       "│ 12535c80e ┆ 083b72603 ┆ 2024-12-2 ┆ 2024-12-2 ┆ … ┆ 170318391 ┆ 0         ┆ Taxi Affi ┆ 5        │\n",
       "│ 6bed94672 ┆ 14e48be5e ┆ 0         ┆ 0         ┆   ┆ 00        ┆           ┆ liation   ┆          │\n",
       "│ cc8f43d2b ┆ 10a9191da ┆ 09:00:00  ┆ 09:00:00  ┆   ┆           ┆           ┆ Services  ┆          │\n",
       "│ 9be…      ┆ 36f…      ┆           ┆           ┆   ┆           ┆           ┆           ┆          │\n",
       "└───────────┴───────────┴───────────┴───────────┴───┴───────────┴───────────┴───────────┴──────────┘"
      ]
     },
     "execution_count": 94,
     "metadata": {},
     "output_type": "execute_result"
    }
   ],
   "source": [
    "columns_to_drop = ['date', 'time', 'month', 'hour', 'minute', 'day_of_week', 'date_end', 'time_end', 'month_end', 'hour_end', 'minute_end', 'day_of_week_end']\n",
    "fact_table = fact_table.drop(columns_to_drop)\n",
    "\n",
    "# Display the updated fact table to verify the changes\n",
    "fact_table.head()"
   ]
  },
  {
   "cell_type": "code",
   "execution_count": 103,
   "metadata": {},
   "outputs": [
    {
     "data": {
      "text/html": [
       "<div><style>\n",
       ".dataframe > thead > tr,\n",
       ".dataframe > tbody > tr {\n",
       "  text-align: right;\n",
       "  white-space: pre-wrap;\n",
       "}\n",
       "</style>\n",
       "<small>shape: (5, 19)</small><table border=\"1\" class=\"dataframe\"><thead><tr><th>trip_id</th><th>taxi_id</th><th>payment_type_key</th><th>trip_start_timestamp</th><th>trip_end_timestamp</th><th>pickup_centroid_latitude</th><th>pickup_centroid_longitude</th><th>trip_seconds</th><th>trip_miles</th><th>fare</th><th>tips</th><th>tolls</th><th>extras</th><th>trip_total</th><th>dropoff_centroid_latitude</th><th>dropoff_centroid_longitude</th><th>pickup_census_tract</th><th>dropoff_census_tract</th><th>census_tract_dropoff</th></tr><tr><td>str</td><td>str</td><td>i64</td><td>datetime[μs]</td><td>datetime[μs]</td><td>f64</td><td>f64</td><td>f64</td><td>f64</td><td>f64</td><td>f64</td><td>f64</td><td>f64</td><td>f64</td><td>f64</td><td>f64</td><td>str</td><td>str</td><td>str</td></tr></thead><tbody><tr><td>&quot;5c0b9d9d95e401aa64da33eb3ffebb…</td><td>&quot;545ac2dfd5b722e0f0d884cc68ec27…</td><td>6</td><td>2024-12-20 19:30:00</td><td>2024-12-20 19:45:00</td><td>41.899602</td><td>-87.633308</td><td>980.0</td><td>2.35</td><td>10.47</td><td>1.29</td><td>0.0</td><td>0.0</td><td>11.76</td><td>41.901207</td><td>-87.676356</td><td>&quot;Unknown&quot;</td><td>&quot;Unknown&quot;</td><td>&quot;Unknown&quot;</td></tr><tr><td>&quot;5c0b9d9d95e401aa64da33eb3ffebb…</td><td>&quot;545ac2dfd5b722e0f0d884cc68ec27…</td><td>6</td><td>2024-12-20 19:30:00</td><td>2024-12-20 19:45:00</td><td>41.899602</td><td>-87.633308</td><td>980.0</td><td>2.35</td><td>10.47</td><td>1.29</td><td>0.0</td><td>0.0</td><td>11.76</td><td>41.901207</td><td>-87.676356</td><td>&quot;Unknown&quot;</td><td>&quot;Unknown&quot;</td><td>&quot;Unknown&quot;</td></tr><tr><td>&quot;6952ad9bc387cdc714604ec7af4053…</td><td>&quot;d4578429775c32e03fb5139e1d132b…</td><td>5</td><td>2024-12-30 16:15:00</td><td>2024-12-30 16:30:00</td><td>41.884987</td><td>-87.620993</td><td>742.0</td><td>1.04</td><td>8.0</td><td>1.0</td><td>0.0</td><td>2.0</td><td>11.5</td><td>41.899156</td><td>-87.626211</td><td>&quot;17031320100&quot;</td><td>&quot;17031081201&quot;</td><td>&quot;17031081201&quot;</td></tr><tr><td>&quot;12535c80e6bed94672cc8f43d2b9be…</td><td>&quot;083b7260314e48be5e10a9191da36f…</td><td>5</td><td>2024-12-20 09:00:00</td><td>2024-12-20 09:00:00</td><td>41.879255</td><td>-87.642649</td><td>180.0</td><td>0.5</td><td>4.75</td><td>0.0</td><td>0.0</td><td>0.0</td><td>4.75</td><td>41.880994</td><td>-87.632746</td><td>&quot;17031281900&quot;</td><td>&quot;17031839100&quot;</td><td>&quot;17031839100&quot;</td></tr><tr><td>&quot;12535c80e6bed94672cc8f43d2b9be…</td><td>&quot;083b7260314e48be5e10a9191da36f…</td><td>5</td><td>2024-12-20 09:00:00</td><td>2024-12-20 09:00:00</td><td>41.879255</td><td>-87.642649</td><td>180.0</td><td>0.5</td><td>4.75</td><td>0.0</td><td>0.0</td><td>0.0</td><td>4.75</td><td>41.880994</td><td>-87.632746</td><td>&quot;17031281900&quot;</td><td>&quot;17031839100&quot;</td><td>&quot;17031839100&quot;</td></tr></tbody></table></div>"
      ],
      "text/plain": [
       "shape: (5, 19)\n",
       "┌───────────┬───────────┬───────────┬───────────┬───┬───────────┬───────────┬───────────┬──────────┐\n",
       "│ trip_id   ┆ taxi_id   ┆ payment_t ┆ trip_star ┆ … ┆ dropoff_c ┆ pickup_ce ┆ dropoff_c ┆ census_t │\n",
       "│ ---       ┆ ---       ┆ ype_key   ┆ t_timesta ┆   ┆ entroid_l ┆ nsus_trac ┆ ensus_tra ┆ ract_dro │\n",
       "│ str       ┆ str       ┆ ---       ┆ mp        ┆   ┆ ongitude  ┆ t         ┆ ct        ┆ poff     │\n",
       "│           ┆           ┆ i64       ┆ ---       ┆   ┆ ---       ┆ ---       ┆ ---       ┆ ---      │\n",
       "│           ┆           ┆           ┆ datetime[ ┆   ┆ f64       ┆ str       ┆ str       ┆ str      │\n",
       "│           ┆           ┆           ┆ μs]       ┆   ┆           ┆           ┆           ┆          │\n",
       "╞═══════════╪═══════════╪═══════════╪═══════════╪═══╪═══════════╪═══════════╪═══════════╪══════════╡\n",
       "│ 5c0b9d9d9 ┆ 545ac2dfd ┆ 6         ┆ 2024-12-2 ┆ … ┆ -87.67635 ┆ Unknown   ┆ Unknown   ┆ Unknown  │\n",
       "│ 5e401aa64 ┆ 5b722e0f0 ┆           ┆ 0         ┆   ┆ 6         ┆           ┆           ┆          │\n",
       "│ da33eb3ff ┆ d884cc68e ┆           ┆ 19:30:00  ┆   ┆           ┆           ┆           ┆          │\n",
       "│ ebb…      ┆ c27…      ┆           ┆           ┆   ┆           ┆           ┆           ┆          │\n",
       "│ 5c0b9d9d9 ┆ 545ac2dfd ┆ 6         ┆ 2024-12-2 ┆ … ┆ -87.67635 ┆ Unknown   ┆ Unknown   ┆ Unknown  │\n",
       "│ 5e401aa64 ┆ 5b722e0f0 ┆           ┆ 0         ┆   ┆ 6         ┆           ┆           ┆          │\n",
       "│ da33eb3ff ┆ d884cc68e ┆           ┆ 19:30:00  ┆   ┆           ┆           ┆           ┆          │\n",
       "│ ebb…      ┆ c27…      ┆           ┆           ┆   ┆           ┆           ┆           ┆          │\n",
       "│ 6952ad9bc ┆ d45784297 ┆ 5         ┆ 2024-12-3 ┆ … ┆ -87.62621 ┆ 170313201 ┆ 170310812 ┆ 17031081 │\n",
       "│ 387cdc714 ┆ 75c32e03f ┆           ┆ 0         ┆   ┆ 1         ┆ 00        ┆ 01        ┆ 201      │\n",
       "│ 604ec7af4 ┆ b5139e1d1 ┆           ┆ 16:15:00  ┆   ┆           ┆           ┆           ┆          │\n",
       "│ 053…      ┆ 32b…      ┆           ┆           ┆   ┆           ┆           ┆           ┆          │\n",
       "│ 12535c80e ┆ 083b72603 ┆ 5         ┆ 2024-12-2 ┆ … ┆ -87.63274 ┆ 170312819 ┆ 170318391 ┆ 17031839 │\n",
       "│ 6bed94672 ┆ 14e48be5e ┆           ┆ 0         ┆   ┆ 6         ┆ 00        ┆ 00        ┆ 100      │\n",
       "│ cc8f43d2b ┆ 10a9191da ┆           ┆ 09:00:00  ┆   ┆           ┆           ┆           ┆          │\n",
       "│ 9be…      ┆ 36f…      ┆           ┆           ┆   ┆           ┆           ┆           ┆          │\n",
       "│ 12535c80e ┆ 083b72603 ┆ 5         ┆ 2024-12-2 ┆ … ┆ -87.63274 ┆ 170312819 ┆ 170318391 ┆ 17031839 │\n",
       "│ 6bed94672 ┆ 14e48be5e ┆           ┆ 0         ┆   ┆ 6         ┆ 00        ┆ 00        ┆ 100      │\n",
       "│ cc8f43d2b ┆ 10a9191da ┆           ┆ 09:00:00  ┆   ┆           ┆           ┆           ┆          │\n",
       "│ 9be…      ┆ 36f…      ┆           ┆           ┆   ┆           ┆           ┆           ┆          │\n",
       "└───────────┴───────────┴───────────┴───────────┴───┴───────────┴───────────┴───────────┴──────────┘"
      ]
     },
     "execution_count": 103,
     "metadata": {},
     "output_type": "execute_result"
    }
   ],
   "source": [
    "columns_to_drop = ['community_area', 'community_area_dropoff', 'company_right', 'census_tract']\n",
    "existing_columns_to_drop = [col for col in columns_to_drop if col in fact_table.columns]\n",
    "fact_table = fact_table.drop(existing_columns_to_drop)\n",
    "\n",
    "# Display the updated fact table to verify the changes\n",
    "fact_table.head()"
   ]
  },
  {
   "cell_type": "code",
   "execution_count": 104,
   "metadata": {},
   "outputs": [
    {
     "data": {
      "text/html": [
       "<div><style>\n",
       ".dataframe > thead > tr,\n",
       ".dataframe > tbody > tr {\n",
       "  text-align: right;\n",
       "  white-space: pre-wrap;\n",
       "}\n",
       "</style>\n",
       "<small>shape: (5, 16)</small><table border=\"1\" class=\"dataframe\"><thead><tr><th>trip_id</th><th>taxi_id</th><th>payment_type_key</th><th>trip_start_timestamp</th><th>trip_end_timestamp</th><th>pickup_centroid_latitude</th><th>pickup_centroid_longitude</th><th>trip_seconds</th><th>trip_miles</th><th>fare</th><th>tips</th><th>tolls</th><th>extras</th><th>trip_total</th><th>dropoff_centroid_latitude</th><th>dropoff_centroid_longitude</th></tr><tr><td>str</td><td>str</td><td>i64</td><td>datetime[μs]</td><td>datetime[μs]</td><td>f64</td><td>f64</td><td>f64</td><td>f64</td><td>f64</td><td>f64</td><td>f64</td><td>f64</td><td>f64</td><td>f64</td><td>f64</td></tr></thead><tbody><tr><td>&quot;5c0b9d9d95e401aa64da33eb3ffebb…</td><td>&quot;545ac2dfd5b722e0f0d884cc68ec27…</td><td>6</td><td>2024-12-20 19:30:00</td><td>2024-12-20 19:45:00</td><td>41.899602</td><td>-87.633308</td><td>980.0</td><td>2.35</td><td>10.47</td><td>1.29</td><td>0.0</td><td>0.0</td><td>11.76</td><td>41.901207</td><td>-87.676356</td></tr><tr><td>&quot;5c0b9d9d95e401aa64da33eb3ffebb…</td><td>&quot;545ac2dfd5b722e0f0d884cc68ec27…</td><td>6</td><td>2024-12-20 19:30:00</td><td>2024-12-20 19:45:00</td><td>41.899602</td><td>-87.633308</td><td>980.0</td><td>2.35</td><td>10.47</td><td>1.29</td><td>0.0</td><td>0.0</td><td>11.76</td><td>41.901207</td><td>-87.676356</td></tr><tr><td>&quot;6952ad9bc387cdc714604ec7af4053…</td><td>&quot;d4578429775c32e03fb5139e1d132b…</td><td>5</td><td>2024-12-30 16:15:00</td><td>2024-12-30 16:30:00</td><td>41.884987</td><td>-87.620993</td><td>742.0</td><td>1.04</td><td>8.0</td><td>1.0</td><td>0.0</td><td>2.0</td><td>11.5</td><td>41.899156</td><td>-87.626211</td></tr><tr><td>&quot;12535c80e6bed94672cc8f43d2b9be…</td><td>&quot;083b7260314e48be5e10a9191da36f…</td><td>5</td><td>2024-12-20 09:00:00</td><td>2024-12-20 09:00:00</td><td>41.879255</td><td>-87.642649</td><td>180.0</td><td>0.5</td><td>4.75</td><td>0.0</td><td>0.0</td><td>0.0</td><td>4.75</td><td>41.880994</td><td>-87.632746</td></tr><tr><td>&quot;12535c80e6bed94672cc8f43d2b9be…</td><td>&quot;083b7260314e48be5e10a9191da36f…</td><td>5</td><td>2024-12-20 09:00:00</td><td>2024-12-20 09:00:00</td><td>41.879255</td><td>-87.642649</td><td>180.0</td><td>0.5</td><td>4.75</td><td>0.0</td><td>0.0</td><td>0.0</td><td>4.75</td><td>41.880994</td><td>-87.632746</td></tr></tbody></table></div>"
      ],
      "text/plain": [
       "shape: (5, 16)\n",
       "┌────────────┬────────────┬───────────┬───────────┬───┬────────┬───────────┬───────────┬───────────┐\n",
       "│ trip_id    ┆ taxi_id    ┆ payment_t ┆ trip_star ┆ … ┆ extras ┆ trip_tota ┆ dropoff_c ┆ dropoff_c │\n",
       "│ ---        ┆ ---        ┆ ype_key   ┆ t_timesta ┆   ┆ ---    ┆ l         ┆ entroid_l ┆ entroid_l │\n",
       "│ str        ┆ str        ┆ ---       ┆ mp        ┆   ┆ f64    ┆ ---       ┆ atitude   ┆ ongitude  │\n",
       "│            ┆            ┆ i64       ┆ ---       ┆   ┆        ┆ f64       ┆ ---       ┆ ---       │\n",
       "│            ┆            ┆           ┆ datetime[ ┆   ┆        ┆           ┆ f64       ┆ f64       │\n",
       "│            ┆            ┆           ┆ μs]       ┆   ┆        ┆           ┆           ┆           │\n",
       "╞════════════╪════════════╪═══════════╪═══════════╪═══╪════════╪═══════════╪═══════════╪═══════════╡\n",
       "│ 5c0b9d9d95 ┆ 545ac2dfd5 ┆ 6         ┆ 2024-12-2 ┆ … ┆ 0.0    ┆ 11.76     ┆ 41.901207 ┆ -87.67635 │\n",
       "│ e401aa64da ┆ b722e0f0d8 ┆           ┆ 0         ┆   ┆        ┆           ┆           ┆ 6         │\n",
       "│ 33eb3ffebb ┆ 84cc68ec27 ┆           ┆ 19:30:00  ┆   ┆        ┆           ┆           ┆           │\n",
       "│ …          ┆ …          ┆           ┆           ┆   ┆        ┆           ┆           ┆           │\n",
       "│ 5c0b9d9d95 ┆ 545ac2dfd5 ┆ 6         ┆ 2024-12-2 ┆ … ┆ 0.0    ┆ 11.76     ┆ 41.901207 ┆ -87.67635 │\n",
       "│ e401aa64da ┆ b722e0f0d8 ┆           ┆ 0         ┆   ┆        ┆           ┆           ┆ 6         │\n",
       "│ 33eb3ffebb ┆ 84cc68ec27 ┆           ┆ 19:30:00  ┆   ┆        ┆           ┆           ┆           │\n",
       "│ …          ┆ …          ┆           ┆           ┆   ┆        ┆           ┆           ┆           │\n",
       "│ 6952ad9bc3 ┆ d457842977 ┆ 5         ┆ 2024-12-3 ┆ … ┆ 2.0    ┆ 11.5      ┆ 41.899156 ┆ -87.62621 │\n",
       "│ 87cdc71460 ┆ 5c32e03fb5 ┆           ┆ 0         ┆   ┆        ┆           ┆           ┆ 1         │\n",
       "│ 4ec7af4053 ┆ 139e1d132b ┆           ┆ 16:15:00  ┆   ┆        ┆           ┆           ┆           │\n",
       "│ …          ┆ …          ┆           ┆           ┆   ┆        ┆           ┆           ┆           │\n",
       "│ 12535c80e6 ┆ 083b726031 ┆ 5         ┆ 2024-12-2 ┆ … ┆ 0.0    ┆ 4.75      ┆ 41.880994 ┆ -87.63274 │\n",
       "│ bed94672cc ┆ 4e48be5e10 ┆           ┆ 0         ┆   ┆        ┆           ┆           ┆ 6         │\n",
       "│ 8f43d2b9be ┆ a9191da36f ┆           ┆ 09:00:00  ┆   ┆        ┆           ┆           ┆           │\n",
       "│ …          ┆ …          ┆           ┆           ┆   ┆        ┆           ┆           ┆           │\n",
       "│ 12535c80e6 ┆ 083b726031 ┆ 5         ┆ 2024-12-2 ┆ … ┆ 0.0    ┆ 4.75      ┆ 41.880994 ┆ -87.63274 │\n",
       "│ bed94672cc ┆ 4e48be5e10 ┆           ┆ 0         ┆   ┆        ┆           ┆           ┆ 6         │\n",
       "│ 8f43d2b9be ┆ a9191da36f ┆           ┆ 09:00:00  ┆   ┆        ┆           ┆           ┆           │\n",
       "│ …          ┆ …          ┆           ┆           ┆   ┆        ┆           ┆           ┆           │\n",
       "└────────────┴────────────┴───────────┴───────────┴───┴────────┴───────────┴───────────┴───────────┘"
      ]
     },
     "execution_count": 104,
     "metadata": {},
     "output_type": "execute_result"
    }
   ],
   "source": [
    "columns_to_drop = ['pickup_census_tract', 'dropoff_census_tract', 'census_tract_dropoff']\n",
    "existing_columns_to_drop = [col for col in columns_to_drop if col in fact_table.columns]\n",
    "fact_table = fact_table.drop(existing_columns_to_drop)\n",
    "\n",
    "# Display the updated fact table to verify the changes\n",
    "fact_table.head()"
   ]
  },
  {
   "cell_type": "code",
   "execution_count": 105,
   "metadata": {
    "vscode": {
     "languageId": "ruby"
    }
   },
   "outputs": [
    {
     "data": {
      "text/html": [
       "<div><style>\n",
       ".dataframe > thead > tr,\n",
       ".dataframe > tbody > tr {\n",
       "  text-align: right;\n",
       "  white-space: pre-wrap;\n",
       "}\n",
       "</style>\n",
       "<small>shape: (5, 16)</small><table border=\"1\" class=\"dataframe\"><thead><tr><th>trip_id</th><th>taxi_id</th><th>payment_type_key</th><th>trip_start_timestamp</th><th>trip_end_timestamp</th><th>pickup_centroid_latitude</th><th>pickup_centroid_longitude</th><th>dropoff_centroid_latitude</th><th>dropoff_centroid_longitude</th><th>trip_seconds</th><th>trip_miles</th><th>fare</th><th>tips</th><th>tolls</th><th>extras</th><th>trip_total</th></tr><tr><td>str</td><td>str</td><td>i64</td><td>datetime[μs]</td><td>datetime[μs]</td><td>f64</td><td>f64</td><td>f64</td><td>f64</td><td>f64</td><td>f64</td><td>f64</td><td>f64</td><td>f64</td><td>f64</td><td>f64</td></tr></thead><tbody><tr><td>&quot;5c0b9d9d95e401aa64da33eb3ffebb…</td><td>&quot;545ac2dfd5b722e0f0d884cc68ec27…</td><td>6</td><td>2024-12-20 19:30:00</td><td>2024-12-20 19:45:00</td><td>41.899602</td><td>-87.633308</td><td>41.901207</td><td>-87.676356</td><td>980.0</td><td>2.35</td><td>10.47</td><td>1.29</td><td>0.0</td><td>0.0</td><td>11.76</td></tr><tr><td>&quot;5c0b9d9d95e401aa64da33eb3ffebb…</td><td>&quot;545ac2dfd5b722e0f0d884cc68ec27…</td><td>6</td><td>2024-12-20 19:30:00</td><td>2024-12-20 19:45:00</td><td>41.899602</td><td>-87.633308</td><td>41.901207</td><td>-87.676356</td><td>980.0</td><td>2.35</td><td>10.47</td><td>1.29</td><td>0.0</td><td>0.0</td><td>11.76</td></tr><tr><td>&quot;6952ad9bc387cdc714604ec7af4053…</td><td>&quot;d4578429775c32e03fb5139e1d132b…</td><td>5</td><td>2024-12-30 16:15:00</td><td>2024-12-30 16:30:00</td><td>41.884987</td><td>-87.620993</td><td>41.899156</td><td>-87.626211</td><td>742.0</td><td>1.04</td><td>8.0</td><td>1.0</td><td>0.0</td><td>2.0</td><td>11.5</td></tr><tr><td>&quot;12535c80e6bed94672cc8f43d2b9be…</td><td>&quot;083b7260314e48be5e10a9191da36f…</td><td>5</td><td>2024-12-20 09:00:00</td><td>2024-12-20 09:00:00</td><td>41.879255</td><td>-87.642649</td><td>41.880994</td><td>-87.632746</td><td>180.0</td><td>0.5</td><td>4.75</td><td>0.0</td><td>0.0</td><td>0.0</td><td>4.75</td></tr><tr><td>&quot;12535c80e6bed94672cc8f43d2b9be…</td><td>&quot;083b7260314e48be5e10a9191da36f…</td><td>5</td><td>2024-12-20 09:00:00</td><td>2024-12-20 09:00:00</td><td>41.879255</td><td>-87.642649</td><td>41.880994</td><td>-87.632746</td><td>180.0</td><td>0.5</td><td>4.75</td><td>0.0</td><td>0.0</td><td>0.0</td><td>4.75</td></tr></tbody></table></div>"
      ],
      "text/plain": [
       "shape: (5, 16)\n",
       "┌──────────────┬──────────────┬─────────────┬─────────────┬───┬──────┬───────┬────────┬────────────┐\n",
       "│ trip_id      ┆ taxi_id      ┆ payment_typ ┆ trip_start_ ┆ … ┆ tips ┆ tolls ┆ extras ┆ trip_total │\n",
       "│ ---          ┆ ---          ┆ e_key       ┆ timestamp   ┆   ┆ ---  ┆ ---   ┆ ---    ┆ ---        │\n",
       "│ str          ┆ str          ┆ ---         ┆ ---         ┆   ┆ f64  ┆ f64   ┆ f64    ┆ f64        │\n",
       "│              ┆              ┆ i64         ┆ datetime[μs ┆   ┆      ┆       ┆        ┆            │\n",
       "│              ┆              ┆             ┆ ]           ┆   ┆      ┆       ┆        ┆            │\n",
       "╞══════════════╪══════════════╪═════════════╪═════════════╪═══╪══════╪═══════╪════════╪════════════╡\n",
       "│ 5c0b9d9d95e4 ┆ 545ac2dfd5b7 ┆ 6           ┆ 2024-12-20  ┆ … ┆ 1.29 ┆ 0.0   ┆ 0.0    ┆ 11.76      │\n",
       "│ 01aa64da33eb ┆ 22e0f0d884cc ┆             ┆ 19:30:00    ┆   ┆      ┆       ┆        ┆            │\n",
       "│ 3ffebb…      ┆ 68ec27…      ┆             ┆             ┆   ┆      ┆       ┆        ┆            │\n",
       "│ 5c0b9d9d95e4 ┆ 545ac2dfd5b7 ┆ 6           ┆ 2024-12-20  ┆ … ┆ 1.29 ┆ 0.0   ┆ 0.0    ┆ 11.76      │\n",
       "│ 01aa64da33eb ┆ 22e0f0d884cc ┆             ┆ 19:30:00    ┆   ┆      ┆       ┆        ┆            │\n",
       "│ 3ffebb…      ┆ 68ec27…      ┆             ┆             ┆   ┆      ┆       ┆        ┆            │\n",
       "│ 6952ad9bc387 ┆ d4578429775c ┆ 5           ┆ 2024-12-30  ┆ … ┆ 1.0  ┆ 0.0   ┆ 2.0    ┆ 11.5       │\n",
       "│ cdc714604ec7 ┆ 32e03fb5139e ┆             ┆ 16:15:00    ┆   ┆      ┆       ┆        ┆            │\n",
       "│ af4053…      ┆ 1d132b…      ┆             ┆             ┆   ┆      ┆       ┆        ┆            │\n",
       "│ 12535c80e6be ┆ 083b7260314e ┆ 5           ┆ 2024-12-20  ┆ … ┆ 0.0  ┆ 0.0   ┆ 0.0    ┆ 4.75       │\n",
       "│ d94672cc8f43 ┆ 48be5e10a919 ┆             ┆ 09:00:00    ┆   ┆      ┆       ┆        ┆            │\n",
       "│ d2b9be…      ┆ 1da36f…      ┆             ┆             ┆   ┆      ┆       ┆        ┆            │\n",
       "│ 12535c80e6be ┆ 083b7260314e ┆ 5           ┆ 2024-12-20  ┆ … ┆ 0.0  ┆ 0.0   ┆ 0.0    ┆ 4.75       │\n",
       "│ d94672cc8f43 ┆ 48be5e10a919 ┆             ┆ 09:00:00    ┆   ┆      ┆       ┆        ┆            │\n",
       "│ d2b9be…      ┆ 1da36f…      ┆             ┆             ┆   ┆      ┆       ┆        ┆            │\n",
       "└──────────────┴──────────────┴─────────────┴─────────────┴───┴──────┴───────┴────────┴────────────┘"
      ]
     },
     "execution_count": 105,
     "metadata": {},
     "output_type": "execute_result"
    }
   ],
   "source": [
    "# Specify the columns to move to the end\n",
    "columns_to_move = ['trip_seconds', 'trip_miles', 'fare', 'tips', 'tolls', 'extras', 'trip_total']\n",
    "\n",
    "# Get the remaining columns\n",
    "remaining_columns = [col for col in fact_table.columns if col not in columns_to_move]\n",
    "\n",
    "# Rearrange the columns\n",
    "fact_table = fact_table.select(remaining_columns + columns_to_move)\n",
    "\n",
    "# Display the updated fact table to verify the changes\n",
    "fact_table.head()"
   ]
  },
  {
   "cell_type": "markdown",
   "metadata": {},
   "source": [
    "#### Validate num of rows in Fact"
   ]
  },
  {
   "cell_type": "code",
   "execution_count": 106,
   "metadata": {},
   "outputs": [
    {
     "name": "stdout",
     "output_type": "stream",
     "text": [
      "Number of rows in the fact table: 204153\n"
     ]
    }
   ],
   "source": [
    "num_rows = fact_table.shape[0]\n",
    "print(f\"Number of rows in the fact table: {num_rows}\")"
   ]
  },
  {
   "cell_type": "markdown",
   "metadata": {},
   "source": [
    "## Lets add some new metrics to the Fact Tables"
   ]
  },
  {
   "cell_type": "code",
   "execution_count": 110,
   "metadata": {},
   "outputs": [
    {
     "data": {
      "text/html": [
       "<div><style>\n",
       ".dataframe > thead > tr,\n",
       ".dataframe > tbody > tr {\n",
       "  text-align: right;\n",
       "  white-space: pre-wrap;\n",
       "}\n",
       "</style>\n",
       "<small>shape: (5, 18)</small><table border=\"1\" class=\"dataframe\"><thead><tr><th>trip_id</th><th>taxi_id</th><th>payment_type_key</th><th>trip_start_timestamp</th><th>trip_end_timestamp</th><th>pickup_centroid_latitude</th><th>pickup_centroid_longitude</th><th>dropoff_centroid_latitude</th><th>dropoff_centroid_longitude</th><th>trip_seconds</th><th>trip_miles</th><th>fare</th><th>tips</th><th>tolls</th><th>extras</th><th>trip_total</th><th>trip_duration_minutes</th><th>average_speed_mph</th></tr><tr><td>str</td><td>str</td><td>i64</td><td>datetime[μs]</td><td>datetime[μs]</td><td>f64</td><td>f64</td><td>f64</td><td>f64</td><td>f64</td><td>f64</td><td>f64</td><td>f64</td><td>f64</td><td>f64</td><td>f64</td><td>f64</td><td>f64</td></tr></thead><tbody><tr><td>&quot;5c0b9d9d95e401aa64da33eb3ffebb…</td><td>&quot;545ac2dfd5b722e0f0d884cc68ec27…</td><td>6</td><td>2024-12-20 19:30:00</td><td>2024-12-20 19:45:00</td><td>41.899602</td><td>-87.633308</td><td>41.901207</td><td>-87.676356</td><td>980.0</td><td>2.35</td><td>10.47</td><td>1.29</td><td>0.0</td><td>0.0</td><td>11.76</td><td>16.333333</td><td>8.632653</td></tr><tr><td>&quot;5c0b9d9d95e401aa64da33eb3ffebb…</td><td>&quot;545ac2dfd5b722e0f0d884cc68ec27…</td><td>6</td><td>2024-12-20 19:30:00</td><td>2024-12-20 19:45:00</td><td>41.899602</td><td>-87.633308</td><td>41.901207</td><td>-87.676356</td><td>980.0</td><td>2.35</td><td>10.47</td><td>1.29</td><td>0.0</td><td>0.0</td><td>11.76</td><td>16.333333</td><td>8.632653</td></tr><tr><td>&quot;6952ad9bc387cdc714604ec7af4053…</td><td>&quot;d4578429775c32e03fb5139e1d132b…</td><td>5</td><td>2024-12-30 16:15:00</td><td>2024-12-30 16:30:00</td><td>41.884987</td><td>-87.620993</td><td>41.899156</td><td>-87.626211</td><td>742.0</td><td>1.04</td><td>8.0</td><td>1.0</td><td>0.0</td><td>2.0</td><td>11.5</td><td>12.366667</td><td>5.045822</td></tr><tr><td>&quot;12535c80e6bed94672cc8f43d2b9be…</td><td>&quot;083b7260314e48be5e10a9191da36f…</td><td>5</td><td>2024-12-20 09:00:00</td><td>2024-12-20 09:00:00</td><td>41.879255</td><td>-87.642649</td><td>41.880994</td><td>-87.632746</td><td>180.0</td><td>0.5</td><td>4.75</td><td>0.0</td><td>0.0</td><td>0.0</td><td>4.75</td><td>3.0</td><td>10.0</td></tr><tr><td>&quot;12535c80e6bed94672cc8f43d2b9be…</td><td>&quot;083b7260314e48be5e10a9191da36f…</td><td>5</td><td>2024-12-20 09:00:00</td><td>2024-12-20 09:00:00</td><td>41.879255</td><td>-87.642649</td><td>41.880994</td><td>-87.632746</td><td>180.0</td><td>0.5</td><td>4.75</td><td>0.0</td><td>0.0</td><td>0.0</td><td>4.75</td><td>3.0</td><td>10.0</td></tr></tbody></table></div>"
      ],
      "text/plain": [
       "shape: (5, 18)\n",
       "┌────────────┬────────────┬───────────┬───────────┬───┬────────┬───────────┬───────────┬───────────┐\n",
       "│ trip_id    ┆ taxi_id    ┆ payment_t ┆ trip_star ┆ … ┆ extras ┆ trip_tota ┆ trip_dura ┆ average_s │\n",
       "│ ---        ┆ ---        ┆ ype_key   ┆ t_timesta ┆   ┆ ---    ┆ l         ┆ tion_minu ┆ peed_mph  │\n",
       "│ str        ┆ str        ┆ ---       ┆ mp        ┆   ┆ f64    ┆ ---       ┆ tes       ┆ ---       │\n",
       "│            ┆            ┆ i64       ┆ ---       ┆   ┆        ┆ f64       ┆ ---       ┆ f64       │\n",
       "│            ┆            ┆           ┆ datetime[ ┆   ┆        ┆           ┆ f64       ┆           │\n",
       "│            ┆            ┆           ┆ μs]       ┆   ┆        ┆           ┆           ┆           │\n",
       "╞════════════╪════════════╪═══════════╪═══════════╪═══╪════════╪═══════════╪═══════════╪═══════════╡\n",
       "│ 5c0b9d9d95 ┆ 545ac2dfd5 ┆ 6         ┆ 2024-12-2 ┆ … ┆ 0.0    ┆ 11.76     ┆ 16.333333 ┆ 8.632653  │\n",
       "│ e401aa64da ┆ b722e0f0d8 ┆           ┆ 0         ┆   ┆        ┆           ┆           ┆           │\n",
       "│ 33eb3ffebb ┆ 84cc68ec27 ┆           ┆ 19:30:00  ┆   ┆        ┆           ┆           ┆           │\n",
       "│ …          ┆ …          ┆           ┆           ┆   ┆        ┆           ┆           ┆           │\n",
       "│ 5c0b9d9d95 ┆ 545ac2dfd5 ┆ 6         ┆ 2024-12-2 ┆ … ┆ 0.0    ┆ 11.76     ┆ 16.333333 ┆ 8.632653  │\n",
       "│ e401aa64da ┆ b722e0f0d8 ┆           ┆ 0         ┆   ┆        ┆           ┆           ┆           │\n",
       "│ 33eb3ffebb ┆ 84cc68ec27 ┆           ┆ 19:30:00  ┆   ┆        ┆           ┆           ┆           │\n",
       "│ …          ┆ …          ┆           ┆           ┆   ┆        ┆           ┆           ┆           │\n",
       "│ 6952ad9bc3 ┆ d457842977 ┆ 5         ┆ 2024-12-3 ┆ … ┆ 2.0    ┆ 11.5      ┆ 12.366667 ┆ 5.045822  │\n",
       "│ 87cdc71460 ┆ 5c32e03fb5 ┆           ┆ 0         ┆   ┆        ┆           ┆           ┆           │\n",
       "│ 4ec7af4053 ┆ 139e1d132b ┆           ┆ 16:15:00  ┆   ┆        ┆           ┆           ┆           │\n",
       "│ …          ┆ …          ┆           ┆           ┆   ┆        ┆           ┆           ┆           │\n",
       "│ 12535c80e6 ┆ 083b726031 ┆ 5         ┆ 2024-12-2 ┆ … ┆ 0.0    ┆ 4.75      ┆ 3.0       ┆ 10.0      │\n",
       "│ bed94672cc ┆ 4e48be5e10 ┆           ┆ 0         ┆   ┆        ┆           ┆           ┆           │\n",
       "│ 8f43d2b9be ┆ a9191da36f ┆           ┆ 09:00:00  ┆   ┆        ┆           ┆           ┆           │\n",
       "│ …          ┆ …          ┆           ┆           ┆   ┆        ┆           ┆           ┆           │\n",
       "│ 12535c80e6 ┆ 083b726031 ┆ 5         ┆ 2024-12-2 ┆ … ┆ 0.0    ┆ 4.75      ┆ 3.0       ┆ 10.0      │\n",
       "│ bed94672cc ┆ 4e48be5e10 ┆           ┆ 0         ┆   ┆        ┆           ┆           ┆           │\n",
       "│ 8f43d2b9be ┆ a9191da36f ┆           ┆ 09:00:00  ┆   ┆        ┆           ┆           ┆           │\n",
       "│ …          ┆ …          ┆           ┆           ┆   ┆        ┆           ┆           ┆           │\n",
       "└────────────┴────────────┴───────────┴───────────┴───┴────────┴───────────┴───────────┴───────────┘"
      ]
     },
     "execution_count": 110,
     "metadata": {},
     "output_type": "execute_result"
    }
   ],
   "source": [
    "# Calculate trip duration in minutes\n",
    "fact_table = fact_table.with_columns([\n",
    "    (pl.col('trip_seconds') / 60).alias('trip_duration_minutes')\n",
    "])\n",
    "\n",
    "# Ensure trip_seconds is never zero\n",
    "fact_table = fact_table.with_columns([\n",
    "    pl.when(pl.col('trip_seconds') == 0).then(1).otherwise(pl.col('trip_seconds')).alias('trip_seconds')\n",
    "])\n",
    "\n",
    "# Calculate average speed (miles per hour)\n",
    "fact_table = fact_table.with_columns([\n",
    "    (pl.col('trip_miles') / (pl.col('trip_seconds') / 3600)).alias('average_speed_mph')\n",
    "])\n",
    "\n",
    "# Handle missing values\n",
    "fact_table = fact_table.with_columns([\n",
    "    pl.col('fare').fill_null(pl.col('fare').mean()).alias('fare'),\n",
    "    pl.col('tips').fill_null(0).alias('tips'),\n",
    "    pl.col('tolls').fill_null(0).alias('tolls'),\n",
    "    pl.col('extras').fill_null(0).alias('extras'),\n",
    "    pl.col('trip_total').fill_null(pl.col('fare') + pl.col('tips') + pl.col('tolls') + pl.col('extras')).alias('trip_total')\n",
    "])\n",
    "\n",
    "# Display the transformed fact table\n",
    "fact_table.head()"
   ]
  },
  {
   "cell_type": "code",
   "execution_count": 117,
   "metadata": {},
   "outputs": [
    {
     "data": {
      "text/html": [
       "<div><style>\n",
       ".dataframe > thead > tr,\n",
       ".dataframe > tbody > tr {\n",
       "  text-align: right;\n",
       "  white-space: pre-wrap;\n",
       "}\n",
       "</style>\n",
       "<small>shape: (5, 19)</small><table border=\"1\" class=\"dataframe\"><thead><tr><th>trip_id</th><th>taxi_id</th><th>payment_type_key</th><th>trip_start_timestamp</th><th>trip_end_timestamp</th><th>pickup_centroid_latitude</th><th>pickup_centroid_longitude</th><th>dropoff_centroid_latitude</th><th>dropoff_centroid_longitude</th><th>trip_seconds</th><th>trip_miles</th><th>fare</th><th>tips</th><th>tolls</th><th>extras</th><th>trip_total</th><th>trip_duration_minutes</th><th>average_speed_mph</th><th>trip_length_category</th></tr><tr><td>str</td><td>str</td><td>i64</td><td>datetime[μs]</td><td>datetime[μs]</td><td>f64</td><td>f64</td><td>f64</td><td>f64</td><td>f64</td><td>f64</td><td>f64</td><td>f64</td><td>f64</td><td>f64</td><td>f64</td><td>f64</td><td>f64</td><td>str</td></tr></thead><tbody><tr><td>&quot;5c0b9d9d95e401aa64da33eb3ffebb…</td><td>&quot;545ac2dfd5b722e0f0d884cc68ec27…</td><td>6</td><td>2024-12-20 19:30:00</td><td>2024-12-20 19:45:00</td><td>41.899602</td><td>-87.633308</td><td>41.901207</td><td>-87.676356</td><td>980.0</td><td>2.35</td><td>10.47</td><td>1.29</td><td>0.0</td><td>0.0</td><td>11.76</td><td>16.333333</td><td>8.632653</td><td>&quot;long&quot;</td></tr><tr><td>&quot;5c0b9d9d95e401aa64da33eb3ffebb…</td><td>&quot;545ac2dfd5b722e0f0d884cc68ec27…</td><td>6</td><td>2024-12-20 19:30:00</td><td>2024-12-20 19:45:00</td><td>41.899602</td><td>-87.633308</td><td>41.901207</td><td>-87.676356</td><td>980.0</td><td>2.35</td><td>10.47</td><td>1.29</td><td>0.0</td><td>0.0</td><td>11.76</td><td>16.333333</td><td>8.632653</td><td>&quot;long&quot;</td></tr><tr><td>&quot;6952ad9bc387cdc714604ec7af4053…</td><td>&quot;d4578429775c32e03fb5139e1d132b…</td><td>5</td><td>2024-12-30 16:15:00</td><td>2024-12-30 16:30:00</td><td>41.884987</td><td>-87.620993</td><td>41.899156</td><td>-87.626211</td><td>742.0</td><td>1.04</td><td>8.0</td><td>1.0</td><td>0.0</td><td>2.0</td><td>11.5</td><td>12.366667</td><td>5.045822</td><td>&quot;medium&quot;</td></tr><tr><td>&quot;12535c80e6bed94672cc8f43d2b9be…</td><td>&quot;083b7260314e48be5e10a9191da36f…</td><td>5</td><td>2024-12-20 09:00:00</td><td>2024-12-20 09:00:00</td><td>41.879255</td><td>-87.642649</td><td>41.880994</td><td>-87.632746</td><td>180.0</td><td>0.5</td><td>4.75</td><td>0.0</td><td>0.0</td><td>0.0</td><td>4.75</td><td>3.0</td><td>10.0</td><td>&quot;short&quot;</td></tr><tr><td>&quot;12535c80e6bed94672cc8f43d2b9be…</td><td>&quot;083b7260314e48be5e10a9191da36f…</td><td>5</td><td>2024-12-20 09:00:00</td><td>2024-12-20 09:00:00</td><td>41.879255</td><td>-87.642649</td><td>41.880994</td><td>-87.632746</td><td>180.0</td><td>0.5</td><td>4.75</td><td>0.0</td><td>0.0</td><td>0.0</td><td>4.75</td><td>3.0</td><td>10.0</td><td>&quot;short&quot;</td></tr></tbody></table></div>"
      ],
      "text/plain": [
       "shape: (5, 19)\n",
       "┌───────────┬───────────┬───────────┬───────────┬───┬───────────┬───────────┬───────────┬──────────┐\n",
       "│ trip_id   ┆ taxi_id   ┆ payment_t ┆ trip_star ┆ … ┆ trip_tota ┆ trip_dura ┆ average_s ┆ trip_len │\n",
       "│ ---       ┆ ---       ┆ ype_key   ┆ t_timesta ┆   ┆ l         ┆ tion_minu ┆ peed_mph  ┆ gth_cate │\n",
       "│ str       ┆ str       ┆ ---       ┆ mp        ┆   ┆ ---       ┆ tes       ┆ ---       ┆ gory     │\n",
       "│           ┆           ┆ i64       ┆ ---       ┆   ┆ f64       ┆ ---       ┆ f64       ┆ ---      │\n",
       "│           ┆           ┆           ┆ datetime[ ┆   ┆           ┆ f64       ┆           ┆ str      │\n",
       "│           ┆           ┆           ┆ μs]       ┆   ┆           ┆           ┆           ┆          │\n",
       "╞═══════════╪═══════════╪═══════════╪═══════════╪═══╪═══════════╪═══════════╪═══════════╪══════════╡\n",
       "│ 5c0b9d9d9 ┆ 545ac2dfd ┆ 6         ┆ 2024-12-2 ┆ … ┆ 11.76     ┆ 16.333333 ┆ 8.632653  ┆ long     │\n",
       "│ 5e401aa64 ┆ 5b722e0f0 ┆           ┆ 0         ┆   ┆           ┆           ┆           ┆          │\n",
       "│ da33eb3ff ┆ d884cc68e ┆           ┆ 19:30:00  ┆   ┆           ┆           ┆           ┆          │\n",
       "│ ebb…      ┆ c27…      ┆           ┆           ┆   ┆           ┆           ┆           ┆          │\n",
       "│ 5c0b9d9d9 ┆ 545ac2dfd ┆ 6         ┆ 2024-12-2 ┆ … ┆ 11.76     ┆ 16.333333 ┆ 8.632653  ┆ long     │\n",
       "│ 5e401aa64 ┆ 5b722e0f0 ┆           ┆ 0         ┆   ┆           ┆           ┆           ┆          │\n",
       "│ da33eb3ff ┆ d884cc68e ┆           ┆ 19:30:00  ┆   ┆           ┆           ┆           ┆          │\n",
       "│ ebb…      ┆ c27…      ┆           ┆           ┆   ┆           ┆           ┆           ┆          │\n",
       "│ 6952ad9bc ┆ d45784297 ┆ 5         ┆ 2024-12-3 ┆ … ┆ 11.5      ┆ 12.366667 ┆ 5.045822  ┆ medium   │\n",
       "│ 387cdc714 ┆ 75c32e03f ┆           ┆ 0         ┆   ┆           ┆           ┆           ┆          │\n",
       "│ 604ec7af4 ┆ b5139e1d1 ┆           ┆ 16:15:00  ┆   ┆           ┆           ┆           ┆          │\n",
       "│ 053…      ┆ 32b…      ┆           ┆           ┆   ┆           ┆           ┆           ┆          │\n",
       "│ 12535c80e ┆ 083b72603 ┆ 5         ┆ 2024-12-2 ┆ … ┆ 4.75      ┆ 3.0       ┆ 10.0      ┆ short    │\n",
       "│ 6bed94672 ┆ 14e48be5e ┆           ┆ 0         ┆   ┆           ┆           ┆           ┆          │\n",
       "│ cc8f43d2b ┆ 10a9191da ┆           ┆ 09:00:00  ┆   ┆           ┆           ┆           ┆          │\n",
       "│ 9be…      ┆ 36f…      ┆           ┆           ┆   ┆           ┆           ┆           ┆          │\n",
       "│ 12535c80e ┆ 083b72603 ┆ 5         ┆ 2024-12-2 ┆ … ┆ 4.75      ┆ 3.0       ┆ 10.0      ┆ short    │\n",
       "│ 6bed94672 ┆ 14e48be5e ┆           ┆ 0         ┆   ┆           ┆           ┆           ┆          │\n",
       "│ cc8f43d2b ┆ 10a9191da ┆           ┆ 09:00:00  ┆   ┆           ┆           ┆           ┆          │\n",
       "│ 9be…      ┆ 36f…      ┆           ┆           ┆   ┆           ┆           ┆           ┆          │\n",
       "└───────────┴───────────┴───────────┴───────────┴───┴───────────┴───────────┴───────────┴──────────┘"
      ]
     },
     "execution_count": 117,
     "metadata": {},
     "output_type": "execute_result"
    }
   ],
   "source": [
    "# Define the bins and labels for trip length categories\n",
    "bins = [0, 300, 900, 1800, float('inf')]  # in seconds\n",
    "labels = ['short', 'medium', 'long', 'very long']\n",
    "\n",
    "# Create a new column 'trip_length_category' based on the bins and labels\n",
    "fact_table = fact_table.with_columns([\n",
    "    pl.when(pl.col('trip_seconds') <= bins[1]).then(pl.lit(labels[0]))\n",
    "      .when(pl.col('trip_seconds') <= bins[2]).then(pl.lit(labels[1]))\n",
    "      .when(pl.col('trip_seconds') <= bins[3]).then(pl.lit(labels[2]))\n",
    "      .otherwise(pl.lit(labels[3])).alias('trip_length_category')\n",
    "])\n",
    "\n",
    "# Display the updated fact table to verify the changes\n",
    "fact_table.head()"
   ]
  },
  {
   "cell_type": "code",
   "execution_count": 118,
   "metadata": {},
   "outputs": [
    {
     "data": {
      "text/html": [
       "<div><style>\n",
       ".dataframe > thead > tr,\n",
       ".dataframe > tbody > tr {\n",
       "  text-align: right;\n",
       "  white-space: pre-wrap;\n",
       "}\n",
       "</style>\n",
       "<small>shape: (5, 20)</small><table border=\"1\" class=\"dataframe\"><thead><tr><th>trip_id</th><th>taxi_id</th><th>payment_type_key</th><th>trip_start_timestamp</th><th>trip_end_timestamp</th><th>pickup_centroid_latitude</th><th>pickup_centroid_longitude</th><th>dropoff_centroid_latitude</th><th>dropoff_centroid_longitude</th><th>trip_seconds</th><th>trip_miles</th><th>fare</th><th>tips</th><th>tolls</th><th>extras</th><th>trip_total</th><th>trip_duration_minutes</th><th>average_speed_mph</th><th>trip_length_category</th><th>speed_category</th></tr><tr><td>str</td><td>str</td><td>i64</td><td>datetime[μs]</td><td>datetime[μs]</td><td>f64</td><td>f64</td><td>f64</td><td>f64</td><td>f64</td><td>f64</td><td>f64</td><td>f64</td><td>f64</td><td>f64</td><td>f64</td><td>f64</td><td>f64</td><td>str</td><td>str</td></tr></thead><tbody><tr><td>&quot;5c0b9d9d95e401aa64da33eb3ffebb…</td><td>&quot;545ac2dfd5b722e0f0d884cc68ec27…</td><td>6</td><td>2024-12-20 19:30:00</td><td>2024-12-20 19:45:00</td><td>41.899602</td><td>-87.633308</td><td>41.901207</td><td>-87.676356</td><td>980.0</td><td>2.35</td><td>10.47</td><td>1.29</td><td>0.0</td><td>0.0</td><td>11.76</td><td>16.333333</td><td>8.632653</td><td>&quot;long&quot;</td><td>&quot;slow&quot;</td></tr><tr><td>&quot;5c0b9d9d95e401aa64da33eb3ffebb…</td><td>&quot;545ac2dfd5b722e0f0d884cc68ec27…</td><td>6</td><td>2024-12-20 19:30:00</td><td>2024-12-20 19:45:00</td><td>41.899602</td><td>-87.633308</td><td>41.901207</td><td>-87.676356</td><td>980.0</td><td>2.35</td><td>10.47</td><td>1.29</td><td>0.0</td><td>0.0</td><td>11.76</td><td>16.333333</td><td>8.632653</td><td>&quot;long&quot;</td><td>&quot;slow&quot;</td></tr><tr><td>&quot;6952ad9bc387cdc714604ec7af4053…</td><td>&quot;d4578429775c32e03fb5139e1d132b…</td><td>5</td><td>2024-12-30 16:15:00</td><td>2024-12-30 16:30:00</td><td>41.884987</td><td>-87.620993</td><td>41.899156</td><td>-87.626211</td><td>742.0</td><td>1.04</td><td>8.0</td><td>1.0</td><td>0.0</td><td>2.0</td><td>11.5</td><td>12.366667</td><td>5.045822</td><td>&quot;medium&quot;</td><td>&quot;slow&quot;</td></tr><tr><td>&quot;12535c80e6bed94672cc8f43d2b9be…</td><td>&quot;083b7260314e48be5e10a9191da36f…</td><td>5</td><td>2024-12-20 09:00:00</td><td>2024-12-20 09:00:00</td><td>41.879255</td><td>-87.642649</td><td>41.880994</td><td>-87.632746</td><td>180.0</td><td>0.5</td><td>4.75</td><td>0.0</td><td>0.0</td><td>0.0</td><td>4.75</td><td>3.0</td><td>10.0</td><td>&quot;short&quot;</td><td>&quot;slow&quot;</td></tr><tr><td>&quot;12535c80e6bed94672cc8f43d2b9be…</td><td>&quot;083b7260314e48be5e10a9191da36f…</td><td>5</td><td>2024-12-20 09:00:00</td><td>2024-12-20 09:00:00</td><td>41.879255</td><td>-87.642649</td><td>41.880994</td><td>-87.632746</td><td>180.0</td><td>0.5</td><td>4.75</td><td>0.0</td><td>0.0</td><td>0.0</td><td>4.75</td><td>3.0</td><td>10.0</td><td>&quot;short&quot;</td><td>&quot;slow&quot;</td></tr></tbody></table></div>"
      ],
      "text/plain": [
       "shape: (5, 20)\n",
       "┌───────────┬───────────┬───────────┬───────────┬───┬───────────┬───────────┬───────────┬──────────┐\n",
       "│ trip_id   ┆ taxi_id   ┆ payment_t ┆ trip_star ┆ … ┆ trip_dura ┆ average_s ┆ trip_leng ┆ speed_ca │\n",
       "│ ---       ┆ ---       ┆ ype_key   ┆ t_timesta ┆   ┆ tion_minu ┆ peed_mph  ┆ th_catego ┆ tegory   │\n",
       "│ str       ┆ str       ┆ ---       ┆ mp        ┆   ┆ tes       ┆ ---       ┆ ry        ┆ ---      │\n",
       "│           ┆           ┆ i64       ┆ ---       ┆   ┆ ---       ┆ f64       ┆ ---       ┆ str      │\n",
       "│           ┆           ┆           ┆ datetime[ ┆   ┆ f64       ┆           ┆ str       ┆          │\n",
       "│           ┆           ┆           ┆ μs]       ┆   ┆           ┆           ┆           ┆          │\n",
       "╞═══════════╪═══════════╪═══════════╪═══════════╪═══╪═══════════╪═══════════╪═══════════╪══════════╡\n",
       "│ 5c0b9d9d9 ┆ 545ac2dfd ┆ 6         ┆ 2024-12-2 ┆ … ┆ 16.333333 ┆ 8.632653  ┆ long      ┆ slow     │\n",
       "│ 5e401aa64 ┆ 5b722e0f0 ┆           ┆ 0         ┆   ┆           ┆           ┆           ┆          │\n",
       "│ da33eb3ff ┆ d884cc68e ┆           ┆ 19:30:00  ┆   ┆           ┆           ┆           ┆          │\n",
       "│ ebb…      ┆ c27…      ┆           ┆           ┆   ┆           ┆           ┆           ┆          │\n",
       "│ 5c0b9d9d9 ┆ 545ac2dfd ┆ 6         ┆ 2024-12-2 ┆ … ┆ 16.333333 ┆ 8.632653  ┆ long      ┆ slow     │\n",
       "│ 5e401aa64 ┆ 5b722e0f0 ┆           ┆ 0         ┆   ┆           ┆           ┆           ┆          │\n",
       "│ da33eb3ff ┆ d884cc68e ┆           ┆ 19:30:00  ┆   ┆           ┆           ┆           ┆          │\n",
       "│ ebb…      ┆ c27…      ┆           ┆           ┆   ┆           ┆           ┆           ┆          │\n",
       "│ 6952ad9bc ┆ d45784297 ┆ 5         ┆ 2024-12-3 ┆ … ┆ 12.366667 ┆ 5.045822  ┆ medium    ┆ slow     │\n",
       "│ 387cdc714 ┆ 75c32e03f ┆           ┆ 0         ┆   ┆           ┆           ┆           ┆          │\n",
       "│ 604ec7af4 ┆ b5139e1d1 ┆           ┆ 16:15:00  ┆   ┆           ┆           ┆           ┆          │\n",
       "│ 053…      ┆ 32b…      ┆           ┆           ┆   ┆           ┆           ┆           ┆          │\n",
       "│ 12535c80e ┆ 083b72603 ┆ 5         ┆ 2024-12-2 ┆ … ┆ 3.0       ┆ 10.0      ┆ short     ┆ slow     │\n",
       "│ 6bed94672 ┆ 14e48be5e ┆           ┆ 0         ┆   ┆           ┆           ┆           ┆          │\n",
       "│ cc8f43d2b ┆ 10a9191da ┆           ┆ 09:00:00  ┆   ┆           ┆           ┆           ┆          │\n",
       "│ 9be…      ┆ 36f…      ┆           ┆           ┆   ┆           ┆           ┆           ┆          │\n",
       "│ 12535c80e ┆ 083b72603 ┆ 5         ┆ 2024-12-2 ┆ … ┆ 3.0       ┆ 10.0      ┆ short     ┆ slow     │\n",
       "│ 6bed94672 ┆ 14e48be5e ┆           ┆ 0         ┆   ┆           ┆           ┆           ┆          │\n",
       "│ cc8f43d2b ┆ 10a9191da ┆           ┆ 09:00:00  ┆   ┆           ┆           ┆           ┆          │\n",
       "│ 9be…      ┆ 36f…      ┆           ┆           ┆   ┆           ┆           ┆           ┆          │\n",
       "└───────────┴───────────┴───────────┴───────────┴───┴───────────┴───────────┴───────────┴──────────┘"
      ]
     },
     "execution_count": 118,
     "metadata": {},
     "output_type": "execute_result"
    }
   ],
   "source": [
    "# Define the bins and labels for average speed categories\n",
    "speed_bins = [0, 10, 20, 30, float('inf')]  # in miles per hour\n",
    "speed_labels = ['slow', 'moderate', 'fast', 'very fast']\n",
    "\n",
    "# Create a new column 'speed_category' based on the bins and labels\n",
    "fact_table = fact_table.with_columns([\n",
    "    pl.when(pl.col('average_speed_mph') <= speed_bins[1]).then(pl.lit(speed_labels[0]))\n",
    "      .when(pl.col('average_speed_mph') <= speed_bins[2]).then(pl.lit(speed_labels[1]))\n",
    "      .when(pl.col('average_speed_mph') <= speed_bins[3]).then(pl.lit(speed_labels[2]))\n",
    "      .otherwise(pl.lit(speed_labels[3])).alias('speed_category')\n",
    "])\n",
    "\n",
    "# Display the updated fact table to verify the changes\n",
    "fact_table.head()"
   ]
  },
  {
   "cell_type": "code",
   "execution_count": 119,
   "metadata": {},
   "outputs": [
    {
     "data": {
      "text/html": [
       "<div><style>\n",
       ".dataframe > thead > tr,\n",
       ".dataframe > tbody > tr {\n",
       "  text-align: right;\n",
       "  white-space: pre-wrap;\n",
       "}\n",
       "</style>\n",
       "<small>shape: (5, 19)</small><table border=\"1\" class=\"dataframe\"><thead><tr><th>trip_id</th><th>taxi_id</th><th>payment_type_key</th><th>trip_start_timestamp</th><th>trip_end_timestamp</th><th>pickup_centroid_latitude</th><th>pickup_centroid_longitude</th><th>dropoff_centroid_latitude</th><th>dropoff_centroid_longitude</th><th>trip_seconds</th><th>trip_miles</th><th>fare</th><th>tips</th><th>tolls</th><th>extras</th><th>trip_total</th><th>average_speed_mph</th><th>trip_length_category</th><th>speed_category</th></tr><tr><td>str</td><td>str</td><td>i64</td><td>datetime[μs]</td><td>datetime[μs]</td><td>f64</td><td>f64</td><td>f64</td><td>f64</td><td>f64</td><td>f64</td><td>f64</td><td>f64</td><td>f64</td><td>f64</td><td>f64</td><td>f64</td><td>str</td><td>str</td></tr></thead><tbody><tr><td>&quot;5c0b9d9d95e401aa64da33eb3ffebb…</td><td>&quot;545ac2dfd5b722e0f0d884cc68ec27…</td><td>6</td><td>2024-12-20 19:30:00</td><td>2024-12-20 19:45:00</td><td>41.899602</td><td>-87.633308</td><td>41.901207</td><td>-87.676356</td><td>980.0</td><td>2.35</td><td>10.47</td><td>1.29</td><td>0.0</td><td>0.0</td><td>11.76</td><td>8.632653</td><td>&quot;long&quot;</td><td>&quot;slow&quot;</td></tr><tr><td>&quot;5c0b9d9d95e401aa64da33eb3ffebb…</td><td>&quot;545ac2dfd5b722e0f0d884cc68ec27…</td><td>6</td><td>2024-12-20 19:30:00</td><td>2024-12-20 19:45:00</td><td>41.899602</td><td>-87.633308</td><td>41.901207</td><td>-87.676356</td><td>980.0</td><td>2.35</td><td>10.47</td><td>1.29</td><td>0.0</td><td>0.0</td><td>11.76</td><td>8.632653</td><td>&quot;long&quot;</td><td>&quot;slow&quot;</td></tr><tr><td>&quot;6952ad9bc387cdc714604ec7af4053…</td><td>&quot;d4578429775c32e03fb5139e1d132b…</td><td>5</td><td>2024-12-30 16:15:00</td><td>2024-12-30 16:30:00</td><td>41.884987</td><td>-87.620993</td><td>41.899156</td><td>-87.626211</td><td>742.0</td><td>1.04</td><td>8.0</td><td>1.0</td><td>0.0</td><td>2.0</td><td>11.5</td><td>5.045822</td><td>&quot;medium&quot;</td><td>&quot;slow&quot;</td></tr><tr><td>&quot;12535c80e6bed94672cc8f43d2b9be…</td><td>&quot;083b7260314e48be5e10a9191da36f…</td><td>5</td><td>2024-12-20 09:00:00</td><td>2024-12-20 09:00:00</td><td>41.879255</td><td>-87.642649</td><td>41.880994</td><td>-87.632746</td><td>180.0</td><td>0.5</td><td>4.75</td><td>0.0</td><td>0.0</td><td>0.0</td><td>4.75</td><td>10.0</td><td>&quot;short&quot;</td><td>&quot;slow&quot;</td></tr><tr><td>&quot;12535c80e6bed94672cc8f43d2b9be…</td><td>&quot;083b7260314e48be5e10a9191da36f…</td><td>5</td><td>2024-12-20 09:00:00</td><td>2024-12-20 09:00:00</td><td>41.879255</td><td>-87.642649</td><td>41.880994</td><td>-87.632746</td><td>180.0</td><td>0.5</td><td>4.75</td><td>0.0</td><td>0.0</td><td>0.0</td><td>4.75</td><td>10.0</td><td>&quot;short&quot;</td><td>&quot;slow&quot;</td></tr></tbody></table></div>"
      ],
      "text/plain": [
       "shape: (5, 19)\n",
       "┌───────────┬───────────┬───────────┬───────────┬───┬───────────┬───────────┬───────────┬──────────┐\n",
       "│ trip_id   ┆ taxi_id   ┆ payment_t ┆ trip_star ┆ … ┆ trip_tota ┆ average_s ┆ trip_leng ┆ speed_ca │\n",
       "│ ---       ┆ ---       ┆ ype_key   ┆ t_timesta ┆   ┆ l         ┆ peed_mph  ┆ th_catego ┆ tegory   │\n",
       "│ str       ┆ str       ┆ ---       ┆ mp        ┆   ┆ ---       ┆ ---       ┆ ry        ┆ ---      │\n",
       "│           ┆           ┆ i64       ┆ ---       ┆   ┆ f64       ┆ f64       ┆ ---       ┆ str      │\n",
       "│           ┆           ┆           ┆ datetime[ ┆   ┆           ┆           ┆ str       ┆          │\n",
       "│           ┆           ┆           ┆ μs]       ┆   ┆           ┆           ┆           ┆          │\n",
       "╞═══════════╪═══════════╪═══════════╪═══════════╪═══╪═══════════╪═══════════╪═══════════╪══════════╡\n",
       "│ 5c0b9d9d9 ┆ 545ac2dfd ┆ 6         ┆ 2024-12-2 ┆ … ┆ 11.76     ┆ 8.632653  ┆ long      ┆ slow     │\n",
       "│ 5e401aa64 ┆ 5b722e0f0 ┆           ┆ 0         ┆   ┆           ┆           ┆           ┆          │\n",
       "│ da33eb3ff ┆ d884cc68e ┆           ┆ 19:30:00  ┆   ┆           ┆           ┆           ┆          │\n",
       "│ ebb…      ┆ c27…      ┆           ┆           ┆   ┆           ┆           ┆           ┆          │\n",
       "│ 5c0b9d9d9 ┆ 545ac2dfd ┆ 6         ┆ 2024-12-2 ┆ … ┆ 11.76     ┆ 8.632653  ┆ long      ┆ slow     │\n",
       "│ 5e401aa64 ┆ 5b722e0f0 ┆           ┆ 0         ┆   ┆           ┆           ┆           ┆          │\n",
       "│ da33eb3ff ┆ d884cc68e ┆           ┆ 19:30:00  ┆   ┆           ┆           ┆           ┆          │\n",
       "│ ebb…      ┆ c27…      ┆           ┆           ┆   ┆           ┆           ┆           ┆          │\n",
       "│ 6952ad9bc ┆ d45784297 ┆ 5         ┆ 2024-12-3 ┆ … ┆ 11.5      ┆ 5.045822  ┆ medium    ┆ slow     │\n",
       "│ 387cdc714 ┆ 75c32e03f ┆           ┆ 0         ┆   ┆           ┆           ┆           ┆          │\n",
       "│ 604ec7af4 ┆ b5139e1d1 ┆           ┆ 16:15:00  ┆   ┆           ┆           ┆           ┆          │\n",
       "│ 053…      ┆ 32b…      ┆           ┆           ┆   ┆           ┆           ┆           ┆          │\n",
       "│ 12535c80e ┆ 083b72603 ┆ 5         ┆ 2024-12-2 ┆ … ┆ 4.75      ┆ 10.0      ┆ short     ┆ slow     │\n",
       "│ 6bed94672 ┆ 14e48be5e ┆           ┆ 0         ┆   ┆           ┆           ┆           ┆          │\n",
       "│ cc8f43d2b ┆ 10a9191da ┆           ┆ 09:00:00  ┆   ┆           ┆           ┆           ┆          │\n",
       "│ 9be…      ┆ 36f…      ┆           ┆           ┆   ┆           ┆           ┆           ┆          │\n",
       "│ 12535c80e ┆ 083b72603 ┆ 5         ┆ 2024-12-2 ┆ … ┆ 4.75      ┆ 10.0      ┆ short     ┆ slow     │\n",
       "│ 6bed94672 ┆ 14e48be5e ┆           ┆ 0         ┆   ┆           ┆           ┆           ┆          │\n",
       "│ cc8f43d2b ┆ 10a9191da ┆           ┆ 09:00:00  ┆   ┆           ┆           ┆           ┆          │\n",
       "│ 9be…      ┆ 36f…      ┆           ┆           ┆   ┆           ┆           ┆           ┆          │\n",
       "└───────────┴───────────┴───────────┴───────────┴───┴───────────┴───────────┴───────────┴──────────┘"
      ]
     },
     "execution_count": 119,
     "metadata": {},
     "output_type": "execute_result"
    }
   ],
   "source": [
    "fact_table = fact_table.drop('trip_duration_minutes')\n",
    "\n",
    "# Display the updated fact table to verify the changes\n",
    "fact_table.head()"
   ]
  },
  {
   "cell_type": "code",
   "execution_count": 121,
   "metadata": {},
   "outputs": [
    {
     "name": "stdout",
     "output_type": "stream",
     "text": [
      "Number of duplicate rows in the fact table: 24474\n"
     ]
    },
    {
     "data": {
      "text/html": [
       "<div><style>\n",
       ".dataframe > thead > tr,\n",
       ".dataframe > tbody > tr {\n",
       "  text-align: right;\n",
       "  white-space: pre-wrap;\n",
       "}\n",
       "</style>\n",
       "<small>shape: (5, 19)</small><table border=\"1\" class=\"dataframe\"><thead><tr><th>trip_id</th><th>taxi_id</th><th>payment_type_key</th><th>trip_start_timestamp</th><th>trip_end_timestamp</th><th>pickup_centroid_latitude</th><th>pickup_centroid_longitude</th><th>dropoff_centroid_latitude</th><th>dropoff_centroid_longitude</th><th>trip_seconds</th><th>trip_miles</th><th>fare</th><th>tips</th><th>tolls</th><th>extras</th><th>trip_total</th><th>average_speed_mph</th><th>trip_length_category</th><th>speed_category</th></tr><tr><td>str</td><td>str</td><td>i64</td><td>datetime[μs]</td><td>datetime[μs]</td><td>f64</td><td>f64</td><td>f64</td><td>f64</td><td>f64</td><td>f64</td><td>f64</td><td>f64</td><td>f64</td><td>f64</td><td>f64</td><td>f64</td><td>str</td><td>str</td></tr></thead><tbody><tr><td>&quot;ece78c7239e0f2470736a936f5296f…</td><td>&quot;c52371aa17a6dd092799762c903f7c…</td><td>6</td><td>2024-12-19 07:30:00</td><td>2024-12-19 07:45:00</td><td>41.899602</td><td>-87.633308</td><td>41.899602</td><td>-87.633308</td><td>372.0</td><td>1.19</td><td>10.0</td><td>1.0</td><td>0.0</td><td>0.0</td><td>11.0</td><td>11.516129</td><td>&quot;medium&quot;</td><td>&quot;moderate&quot;</td></tr><tr><td>&quot;86f86ba3322a7e18efea4f166bd5a3…</td><td>&quot;f1466ba65ee3a4d113741eee02608c…</td><td>5</td><td>2024-12-21 20:15:00</td><td>2024-12-21 20:45:00</td><td>41.980264</td><td>-87.913625</td><td>41.983636</td><td>-87.723583</td><td>1136.0</td><td>9.7</td><td>25.75</td><td>9.08</td><td>0.0</td><td>4.0</td><td>39.33</td><td>30.739437</td><td>&quot;long&quot;</td><td>&quot;very fast&quot;</td></tr><tr><td>&quot;02f98d6018d2bc6d6e7583e6ca2414…</td><td>&quot;76a1fbc06546e3f73c964706a0e0a8…</td><td>4</td><td>2024-12-23 08:00:00</td><td>2024-12-23 08:00:00</td><td>41.880994</td><td>-87.632746</td><td>41.880994</td><td>-87.632746</td><td>329.0</td><td>0.63</td><td>5.5</td><td>0.0</td><td>0.0</td><td>1.0</td><td>6.5</td><td>6.893617</td><td>&quot;medium&quot;</td><td>&quot;slow&quot;</td></tr><tr><td>&quot;e3881a9c8ca9c75559a7ed527f871c…</td><td>&quot;a04ded5c1365641c170cd53f6befbc…</td><td>6</td><td>2024-12-19 22:00:00</td><td>2024-12-19 22:30:00</td><td>41.878866</td><td>-87.625192</td><td>41.986712</td><td>-87.663416</td><td>1045.0</td><td>8.76</td><td>27.64</td><td>0.0</td><td>0.0</td><td>0.0</td><td>27.64</td><td>30.17799</td><td>&quot;long&quot;</td><td>&quot;very fast&quot;</td></tr><tr><td>&quot;eb2a1e57b866b83bf6b7d01fd5cd79…</td><td>&quot;e30325d7d21a95e76154ac70fd5f3c…</td><td>5</td><td>2024-12-26 17:45:00</td><td>2024-12-26 18:45:00</td><td>41.879255</td><td>-87.642649</td><td>41.871016</td><td>-87.631407</td><td>3387.0</td><td>5.36</td><td>23.25</td><td>3.0</td><td>0.0</td><td>4.0</td><td>30.75</td><td>5.697077</td><td>&quot;very long&quot;</td><td>&quot;slow&quot;</td></tr></tbody></table></div>"
      ],
      "text/plain": [
       "shape: (5, 19)\n",
       "┌───────────┬───────────┬───────────┬───────────┬───┬───────────┬───────────┬───────────┬──────────┐\n",
       "│ trip_id   ┆ taxi_id   ┆ payment_t ┆ trip_star ┆ … ┆ trip_tota ┆ average_s ┆ trip_leng ┆ speed_ca │\n",
       "│ ---       ┆ ---       ┆ ype_key   ┆ t_timesta ┆   ┆ l         ┆ peed_mph  ┆ th_catego ┆ tegory   │\n",
       "│ str       ┆ str       ┆ ---       ┆ mp        ┆   ┆ ---       ┆ ---       ┆ ry        ┆ ---      │\n",
       "│           ┆           ┆ i64       ┆ ---       ┆   ┆ f64       ┆ f64       ┆ ---       ┆ str      │\n",
       "│           ┆           ┆           ┆ datetime[ ┆   ┆           ┆           ┆ str       ┆          │\n",
       "│           ┆           ┆           ┆ μs]       ┆   ┆           ┆           ┆           ┆          │\n",
       "╞═══════════╪═══════════╪═══════════╪═══════════╪═══╪═══════════╪═══════════╪═══════════╪══════════╡\n",
       "│ ece78c723 ┆ c52371aa1 ┆ 6         ┆ 2024-12-1 ┆ … ┆ 11.0      ┆ 11.516129 ┆ medium    ┆ moderate │\n",
       "│ 9e0f24707 ┆ 7a6dd0927 ┆           ┆ 9         ┆   ┆           ┆           ┆           ┆          │\n",
       "│ 36a936f52 ┆ 99762c903 ┆           ┆ 07:30:00  ┆   ┆           ┆           ┆           ┆          │\n",
       "│ 96f…      ┆ f7c…      ┆           ┆           ┆   ┆           ┆           ┆           ┆          │\n",
       "│ 86f86ba33 ┆ f1466ba65 ┆ 5         ┆ 2024-12-2 ┆ … ┆ 39.33     ┆ 30.739437 ┆ long      ┆ very     │\n",
       "│ 22a7e18ef ┆ ee3a4d113 ┆           ┆ 1         ┆   ┆           ┆           ┆           ┆ fast     │\n",
       "│ ea4f166bd ┆ 741eee026 ┆           ┆ 20:15:00  ┆   ┆           ┆           ┆           ┆          │\n",
       "│ 5a3…      ┆ 08c…      ┆           ┆           ┆   ┆           ┆           ┆           ┆          │\n",
       "│ 02f98d601 ┆ 76a1fbc06 ┆ 4         ┆ 2024-12-2 ┆ … ┆ 6.5       ┆ 6.893617  ┆ medium    ┆ slow     │\n",
       "│ 8d2bc6d6e ┆ 546e3f73c ┆           ┆ 3         ┆   ┆           ┆           ┆           ┆          │\n",
       "│ 7583e6ca2 ┆ 964706a0e ┆           ┆ 08:00:00  ┆   ┆           ┆           ┆           ┆          │\n",
       "│ 414…      ┆ 0a8…      ┆           ┆           ┆   ┆           ┆           ┆           ┆          │\n",
       "│ e3881a9c8 ┆ a04ded5c1 ┆ 6         ┆ 2024-12-1 ┆ … ┆ 27.64     ┆ 30.17799  ┆ long      ┆ very     │\n",
       "│ ca9c75559 ┆ 365641c17 ┆           ┆ 9         ┆   ┆           ┆           ┆           ┆ fast     │\n",
       "│ a7ed527f8 ┆ 0cd53f6be ┆           ┆ 22:00:00  ┆   ┆           ┆           ┆           ┆          │\n",
       "│ 71c…      ┆ fbc…      ┆           ┆           ┆   ┆           ┆           ┆           ┆          │\n",
       "│ eb2a1e57b ┆ e30325d7d ┆ 5         ┆ 2024-12-2 ┆ … ┆ 30.75     ┆ 5.697077  ┆ very long ┆ slow     │\n",
       "│ 866b83bf6 ┆ 21a95e761 ┆           ┆ 6         ┆   ┆           ┆           ┆           ┆          │\n",
       "│ b7d01fd5c ┆ 54ac70fd5 ┆           ┆ 17:45:00  ┆   ┆           ┆           ┆           ┆          │\n",
       "│ d79…      ┆ f3c…      ┆           ┆           ┆   ┆           ┆           ┆           ┆          │\n",
       "└───────────┴───────────┴───────────┴───────────┴───┴───────────┴───────────┴───────────┴──────────┘"
      ]
     },
     "execution_count": 121,
     "metadata": {},
     "output_type": "execute_result"
    }
   ],
   "source": [
    "# Check for duplicates in the fact table\n",
    "fact_table_unique = fact_table.unique()\n",
    "duplicates_count = fact_table.shape[0] - fact_table_unique.shape[0]\n",
    "\n",
    "print(f\"Number of duplicate rows in the fact table: {duplicates_count}\")\n",
    "\n",
    "# Drop duplicates\n",
    "fact_table = fact_table_unique\n",
    "\n",
    "# Display the updated fact table to verify the changes\n",
    "fact_table.head()"
   ]
  },
  {
   "cell_type": "code",
   "execution_count": 122,
   "metadata": {},
   "outputs": [
    {
     "name": "stdout",
     "output_type": "stream",
     "text": [
      "Number of rows in the fact table: 179679\n"
     ]
    }
   ],
   "source": [
    "num_rows_fact_table = fact_table.shape[0]\n",
    "print(f\"Number of rows in the fact table: {num_rows_fact_table}\")"
   ]
  }
 ],
 "metadata": {
  "kernelspec": {
   "display_name": "Python 3",
   "language": "python",
   "name": "python3"
  },
  "language_info": {
   "codemirror_mode": {
    "name": "ipython",
    "version": 3
   },
   "file_extension": ".py",
   "mimetype": "text/x-python",
   "name": "python",
   "nbconvert_exporter": "python",
   "pygments_lexer": "ipython3",
   "version": "3.13.1"
  }
 },
 "nbformat": 4,
 "nbformat_minor": 2
}
